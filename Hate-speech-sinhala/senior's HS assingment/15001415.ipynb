{
  "nbformat": 4,
  "nbformat_minor": 0,
  "metadata": {
    "kernelspec": {
      "name": "python376jvsc74a57bd0fbbb7d2143a1d68e1cf272edf0974e702b621cb99b4ee39ce84db3bf0ffb588e",
      "display_name": "Python 3.7.6 64-bit ('base': conda)"
    },
    "language_info": {
      "codemirror_mode": {
        "name": "ipython",
        "version": 3
      },
      "file_extension": ".py",
      "mimetype": "text/x-python",
      "name": "python",
      "nbconvert_exporter": "python",
      "pygments_lexer": "ipython3",
      "version": "3.7.6"
    },
    "colab": {
      "name": "15001415.ipynb",
      "provenance": []
    }
  },
  "cells": [
    {
      "cell_type": "markdown",
      "metadata": {
        "id": "FhUnkX349EBQ"
      },
      "source": [
        "### NLP Assignment 3\n",
        "#### January 2020\n",
        "\n",
        "###### Name: W.D. Wattearachchi\n",
        "###### Index No.: 15001415"
      ]
    },
    {
      "cell_type": "markdown",
      "metadata": {
        "id": "qoFfnVBx9EBU"
      },
      "source": [
        "### Answer (a)\n",
        "\n",
        "Answer for question (a) will be discussed under the below sections as \n",
        "<ol>\n",
        "    <li>Reading the data file</li>\n",
        "    <li>Removing any remaining irrelevant content such as non-alphanumeric characters and possible extraneous html tags</li> \n",
        "    <li>Tokenizing the text by separating into individual words</li>\n",
        "    <li>Convert the case of the ‘Singlish’ tokens to obtain unique words</li>\n",
        "    <li>Separate the data into two sets – one for Sinhala and the other for ‘Singlish’ entries</li>\n",
        " </ol>"
      ]
    },
    {
      "cell_type": "markdown",
      "metadata": {
        "id": "z1Iut0s39EBW"
      },
      "source": [
        "#### a.1. Reading the data file"
      ]
    },
    {
      "cell_type": "code",
      "metadata": {
        "scrolled": true,
        "id": "l7cy_UpB9EBW",
        "outputId": "f659fc16-c013-4878-ce71-46e5bdc2bcfa"
      },
      "source": [
        "# Read the csv data file given, into a Pandas dataframe\n",
        "import pandas as pd\n",
        "\n",
        "dataframe = pd.read_csv(\"Sinhala_Singlish_Hate_Speech.csv\")\n",
        "\n",
        "# Display the first five rows of the dataset\n",
        "dataframe.head(10)"
      ],
      "execution_count": 2,
      "outputs": [
        {
          "output_type": "execute_result",
          "data": {
            "text/plain": [
              "   PhraseNo                                             Phrase IsHateSpeech\n",
              "0         1  මේ බැල්ලි කොටින්ගේ ගු කනකොට අපහසුවක් දැනුනෙ නැ...          YES\n",
              "1         2  මන් ඊයේ මුස්ලිම් ඩෑල් එකක් එක්ක සෙල්ෆියක් ගත්ත...          YES\n",
              "2         3                           සංහිදියාවට අවුලක් වෙයි ද           NO\n",
              "3         4  .කටින් පුරසාරම් දොඩන අපි සිංහලයො විදියට ලැජ්ජා...          YES\n",
              "4         5  මචන් ඔය මගුල නවත්තලා කොන්දක් තියෙනවානම් පුලුවන...          YES\n",
              "5         6  හැබැයි ඒ මේ ආණ්ඩුවේ විතරක් නෙවෙයි , රට හූරාගෙන...          YES\n",
              "6         7  ලංකාව මොකක්ද.. මෙිකෙ ඉන්නෙ වාහනයක් ගත්තම අලි ඔ...          YES\n",
              "7         8  Menna ratawal menna minissu. ape ratawal wala ...          YES\n",
              "8         9  උඹ ලෝකයක් ඉස්සරහ හදාගත්ත නම්බුව ලංකාවේ කාලකණ්ණ...          YES\n",
              "9        10  පල්ලියකට ගලක් වැදුනත් පරසක්වල ගහන මූ පන්සල් බි...          YES"
            ],
            "text/html": "<div>\n<style scoped>\n    .dataframe tbody tr th:only-of-type {\n        vertical-align: middle;\n    }\n\n    .dataframe tbody tr th {\n        vertical-align: top;\n    }\n\n    .dataframe thead th {\n        text-align: right;\n    }\n</style>\n<table border=\"1\" class=\"dataframe\">\n  <thead>\n    <tr style=\"text-align: right;\">\n      <th></th>\n      <th>PhraseNo</th>\n      <th>Phrase</th>\n      <th>IsHateSpeech</th>\n    </tr>\n  </thead>\n  <tbody>\n    <tr>\n      <th>0</th>\n      <td>1</td>\n      <td>මේ බැල්ලි කොටින්ගේ ගු කනකොට අපහසුවක් දැනුනෙ නැ...</td>\n      <td>YES</td>\n    </tr>\n    <tr>\n      <th>1</th>\n      <td>2</td>\n      <td>මන් ඊයේ මුස්ලිම් ඩෑල් එකක් එක්ක සෙල්ෆියක් ගත්ත...</td>\n      <td>YES</td>\n    </tr>\n    <tr>\n      <th>2</th>\n      <td>3</td>\n      <td>සංහිදියාවට අවුලක් වෙයි ද</td>\n      <td>NO</td>\n    </tr>\n    <tr>\n      <th>3</th>\n      <td>4</td>\n      <td>.කටින් පුරසාරම් දොඩන අපි සිංහලයො විදියට ලැජ්ජා...</td>\n      <td>YES</td>\n    </tr>\n    <tr>\n      <th>4</th>\n      <td>5</td>\n      <td>මචන් ඔය මගුල නවත්තලා කොන්දක් තියෙනවානම් පුලුවන...</td>\n      <td>YES</td>\n    </tr>\n    <tr>\n      <th>5</th>\n      <td>6</td>\n      <td>හැබැයි ඒ මේ ආණ්ඩුවේ විතරක් නෙවෙයි , රට හූරාගෙන...</td>\n      <td>YES</td>\n    </tr>\n    <tr>\n      <th>6</th>\n      <td>7</td>\n      <td>ලංකාව මොකක්ද.. මෙිකෙ ඉන්නෙ වාහනයක් ගත්තම අලි ඔ...</td>\n      <td>YES</td>\n    </tr>\n    <tr>\n      <th>7</th>\n      <td>8</td>\n      <td>Menna ratawal menna minissu. ape ratawal wala ...</td>\n      <td>YES</td>\n    </tr>\n    <tr>\n      <th>8</th>\n      <td>9</td>\n      <td>උඹ ලෝකයක් ඉස්සරහ හදාගත්ත නම්බුව ලංකාවේ කාලකණ්ණ...</td>\n      <td>YES</td>\n    </tr>\n    <tr>\n      <th>9</th>\n      <td>10</td>\n      <td>පල්ලියකට ගලක් වැදුනත් පරසක්වල ගහන මූ පන්සල් බි...</td>\n      <td>YES</td>\n    </tr>\n  </tbody>\n</table>\n</div>"
          },
          "metadata": {},
          "execution_count": 2
        }
      ]
    },
    {
      "cell_type": "markdown",
      "metadata": {
        "id": "vbVJ1gGA9EBZ"
      },
      "source": [
        "<p>Above are the first five rows of the pandas dataframe.</p>"
      ]
    },
    {
      "cell_type": "markdown",
      "metadata": {
        "id": "7WoIrUJt9EBZ"
      },
      "source": [
        "#### a.2.  Removing any remaining irrelevant content such as non-alphanumeric characters and possible extraneous html tags"
      ]
    },
    {
      "cell_type": "markdown",
      "metadata": {
        "id": "aMPGXKya9EBb"
      },
      "source": [
        "<p>The below function named <b>clean_data(data)</b> will define a pattern, so that it will be used later to replace the non-alphanumeric characters and extraneous html tags from the dataframe.</p>"
      ]
    },
    {
      "cell_type": "code",
      "metadata": {
        "id": "yAYTZAn99EBb",
        "outputId": "6d7476d5-677a-4d3e-99da-2a7660fca5b2"
      },
      "source": [
        "import re\n",
        "\n",
        "# Define a function to remove any remaining irrelevant content such as \n",
        "# non-alphanumeric characters and possible extraneous html tags\n",
        "def clean_data(data):\n",
        "    \n",
        "    # Define a pattern to filter non-alphanumeric characters using unicode\n",
        "    pattern_non_alphanumeric = re.compile(u'[^\\u0061-\\u007A | ^\\u0041-\\u005A | ^\\u0D80-\\u0DFF | ^\\u0030-\\u0039]', re.UNICODE)\n",
        "    # Apply the above defined pattern and replace the matched patterns with a 'space'\n",
        "    data = [pattern_non_alphanumeric.sub(' ', x) for x in data.tolist()]\n",
        "    \n",
        "    # Define a pattern to detect HTML tags\n",
        "    pattern_html  = re.compile('<.*?>|&(a-z0-9]+|#[0-9]{1,6}|#x[0-9a-f]{1,6});')\n",
        "    # Apply the above defined pattern and replace the matched patterns with a 'space'\n",
        "    data = [pattern_html.sub(' ', x) for x in data]\n",
        "    \n",
        "    return data\n",
        "\n",
        "# Cleaning the data in the 'Phrase' column\n",
        "dataframe['Phrase'] = clean_data(data=dataframe['Phrase'])\n",
        "dataframe"
      ],
      "execution_count": 3,
      "outputs": [
        {
          "output_type": "execute_result",
          "data": {
            "text/plain": [
              "      PhraseNo                                             Phrase IsHateSpeech\n",
              "0            1  මේ බැල්ලි කොටින්ගේ ගු කනකොට අපහසුවක් දැනුනෙ නැ...          YES\n",
              "1            2  මන් ඊයේ මුස්ලිම් ඩෑල් එකක් එක්ක සෙල්ෆියක් ගත්ත...          YES\n",
              "2            3                           සංහිදියාවට අවුලක් වෙයි ද           NO\n",
              "3            4   කටින් පුරසාරම් දොඩන අපි සිංහලයො විදියට ලැජ්ජා...          YES\n",
              "4            5  මචන් ඔය මගුල නවත්තලා කොන්දක් තියෙනවානම් පුලුවන...          YES\n",
              "...        ...                                                ...          ...\n",
              "2495      2496  ඔය දෙන්නා එකතු වෙලා tv program එකක් කරන්නකො  ත...           NO\n",
              "2496      2497  කවුරු මොනා කිව්වත්     ඔයාල දෙන්නගෙ කටවල් දෙකට...           NO\n",
              "2497      2498  ඇස්වහ කටවහක් නෑ ඔයාලා දෙනාටම හැමදාමත් අපිව සතු...           NO\n",
              "2498      2499  මුන් දෙන්න තමයි රෙඩියෝ එකේ සුපිරි ඩබල  හිරු ඉන...           NO\n",
              "2499      2500  Ane manda joke eka hodai eth wadu දෙමව්පියන්ව ...           NO\n",
              "\n",
              "[2500 rows x 3 columns]"
            ],
            "text/html": "<div>\n<style scoped>\n    .dataframe tbody tr th:only-of-type {\n        vertical-align: middle;\n    }\n\n    .dataframe tbody tr th {\n        vertical-align: top;\n    }\n\n    .dataframe thead th {\n        text-align: right;\n    }\n</style>\n<table border=\"1\" class=\"dataframe\">\n  <thead>\n    <tr style=\"text-align: right;\">\n      <th></th>\n      <th>PhraseNo</th>\n      <th>Phrase</th>\n      <th>IsHateSpeech</th>\n    </tr>\n  </thead>\n  <tbody>\n    <tr>\n      <th>0</th>\n      <td>1</td>\n      <td>මේ බැල්ලි කොටින්ගේ ගු කනකොට අපහසුවක් දැනුනෙ නැ...</td>\n      <td>YES</td>\n    </tr>\n    <tr>\n      <th>1</th>\n      <td>2</td>\n      <td>මන් ඊයේ මුස්ලිම් ඩෑල් එකක් එක්ක සෙල්ෆියක් ගත්ත...</td>\n      <td>YES</td>\n    </tr>\n    <tr>\n      <th>2</th>\n      <td>3</td>\n      <td>සංහිදියාවට අවුලක් වෙයි ද</td>\n      <td>NO</td>\n    </tr>\n    <tr>\n      <th>3</th>\n      <td>4</td>\n      <td>කටින් පුරසාරම් දොඩන අපි සිංහලයො විදියට ලැජ්ජා...</td>\n      <td>YES</td>\n    </tr>\n    <tr>\n      <th>4</th>\n      <td>5</td>\n      <td>මචන් ඔය මගුල නවත්තලා කොන්දක් තියෙනවානම් පුලුවන...</td>\n      <td>YES</td>\n    </tr>\n    <tr>\n      <th>...</th>\n      <td>...</td>\n      <td>...</td>\n      <td>...</td>\n    </tr>\n    <tr>\n      <th>2495</th>\n      <td>2496</td>\n      <td>ඔය දෙන්නා එකතු වෙලා tv program එකක් කරන්නකො  ත...</td>\n      <td>NO</td>\n    </tr>\n    <tr>\n      <th>2496</th>\n      <td>2497</td>\n      <td>කවුරු මොනා කිව්වත්     ඔයාල දෙන්නගෙ කටවල් දෙකට...</td>\n      <td>NO</td>\n    </tr>\n    <tr>\n      <th>2497</th>\n      <td>2498</td>\n      <td>ඇස්වහ කටවහක් නෑ ඔයාලා දෙනාටම හැමදාමත් අපිව සතු...</td>\n      <td>NO</td>\n    </tr>\n    <tr>\n      <th>2498</th>\n      <td>2499</td>\n      <td>මුන් දෙන්න තමයි රෙඩියෝ එකේ සුපිරි ඩබල  හිරු ඉන...</td>\n      <td>NO</td>\n    </tr>\n    <tr>\n      <th>2499</th>\n      <td>2500</td>\n      <td>Ane manda joke eka hodai eth wadu දෙමව්පියන්ව ...</td>\n      <td>NO</td>\n    </tr>\n  </tbody>\n</table>\n<p>2500 rows × 3 columns</p>\n</div>"
          },
          "metadata": {},
          "execution_count": 3
        }
      ]
    },
    {
      "cell_type": "markdown",
      "metadata": {
        "id": "unyQllMp9EBc"
      },
      "source": [
        "<p>After applying the function the irrelevent symbols and characters will be removed as defined by the pattern. When removing non-alphanumeric characters the pattern will <b>ignore</b> words with lowercase English characters - a-z (u0061-u007A), upddercase English characters - A-Z (u0041-u005A), Sinhala characters (u0D80-u0DFF) and numbers  0-9 (u0030-u0039). Also another patter was used to remove the HTML/XML tags with characters in between the parenthesis. Above is the dataset which obtained after removing irrelevant content such as non-alphanumeric characters and possible extraneous html tags.</p>"
      ]
    },
    {
      "cell_type": "markdown",
      "metadata": {
        "id": "zIQK-jUa9EBd"
      },
      "source": [
        "#### 3. Tokenizing the text by separating into individual words "
      ]
    },
    {
      "cell_type": "markdown",
      "metadata": {
        "id": "K3pEcN-u9EBe"
      },
      "source": [
        "<p>From this point onwards, the NLTK library will be used for symbolic and statistical natural language processing. Below function named <b>tokenize_data(dataframe, column)</b>  will tokenize each and every sentence in the dataframe using word_tokenize() function in NLTK.</p>"
      ]
    },
    {
      "cell_type": "code",
      "metadata": {
        "id": "uIym6Wgw9EBf",
        "outputId": "9fdff0c1-cf68-4459-9292-6083c48a2b19"
      },
      "source": [
        "import nltk\n",
        "\n",
        "# Define a function to tokenize the dataset when the dataframe and \n",
        "# the particular column name which consists the data were given\n",
        "def tokenize_data(dataframe, column):\n",
        "    \n",
        "    # Applying the word_tokenize function from NLTK to each row -'column' field, in order to tokenize the words.\n",
        "    dataframe[column] = dataframe.apply(lambda row: nltk.word_tokenize(row[column]), axis=1)\n",
        "    \n",
        "    return dataframe[column]\n",
        "\n",
        "# Tokenizing the data in the 'Phrase' column\n",
        "dataframe['Phrase'] = tokenize_data(dataframe, 'Phrase')\n",
        "dataframe"
      ],
      "execution_count": 4,
      "outputs": [
        {
          "output_type": "execute_result",
          "data": {
            "text/plain": [
              "      PhraseNo                                             Phrase IsHateSpeech\n",
              "0            1  [මේ, බැල්ලි, කොටින්ගේ, ගු, කනකොට, අපහසුවක්, දැ...          YES\n",
              "1            2  [මන්, ඊයේ, මුස්ලිම්, ඩෑල්, එකක්, එක්ක, සෙල්ෆිය...          YES\n",
              "2            3                      [සංහිදියාවට, අවුලක්, වෙයි, ද]           NO\n",
              "3            4  [කටින්, පුරසාරම්, දොඩන, අපි, සිංහලයො, විදියට, ...          YES\n",
              "4            5  [මචන්, ඔය, මගුල, නවත්තලා, කොන්දක්, තියෙනවානම්,...          YES\n",
              "...        ...                                                ...          ...\n",
              "2495      2496  [ඔය, දෙන්නා, එකතු, වෙලා, tv, program, එකක්, කර...           NO\n",
              "2496      2497  [කවුරු, මොනා, කිව්වත්, ඔයාල, දෙන්නගෙ, කටවල්, ද...           NO\n",
              "2497      2498  [ඇස්වහ, කටවහක්, නෑ, ඔයාලා, දෙනාටම, හැමදාමත්, අ...           NO\n",
              "2498      2499  [මුන්, දෙන්න, තමයි, රෙඩියෝ, එකේ, සුපිරි, ඩබල, ...           NO\n",
              "2499      2500  [Ane, manda, joke, eka, hodai, eth, wadu, දෙමව...           NO\n",
              "\n",
              "[2500 rows x 3 columns]"
            ],
            "text/html": "<div>\n<style scoped>\n    .dataframe tbody tr th:only-of-type {\n        vertical-align: middle;\n    }\n\n    .dataframe tbody tr th {\n        vertical-align: top;\n    }\n\n    .dataframe thead th {\n        text-align: right;\n    }\n</style>\n<table border=\"1\" class=\"dataframe\">\n  <thead>\n    <tr style=\"text-align: right;\">\n      <th></th>\n      <th>PhraseNo</th>\n      <th>Phrase</th>\n      <th>IsHateSpeech</th>\n    </tr>\n  </thead>\n  <tbody>\n    <tr>\n      <th>0</th>\n      <td>1</td>\n      <td>[මේ, බැල්ලි, කොටින්ගේ, ගු, කනකොට, අපහසුවක්, දැ...</td>\n      <td>YES</td>\n    </tr>\n    <tr>\n      <th>1</th>\n      <td>2</td>\n      <td>[මන්, ඊයේ, මුස්ලිම්, ඩෑල්, එකක්, එක්ක, සෙල්ෆිය...</td>\n      <td>YES</td>\n    </tr>\n    <tr>\n      <th>2</th>\n      <td>3</td>\n      <td>[සංහිදියාවට, අවුලක්, වෙයි, ද]</td>\n      <td>NO</td>\n    </tr>\n    <tr>\n      <th>3</th>\n      <td>4</td>\n      <td>[කටින්, පුරසාරම්, දොඩන, අපි, සිංහලයො, විදියට, ...</td>\n      <td>YES</td>\n    </tr>\n    <tr>\n      <th>4</th>\n      <td>5</td>\n      <td>[මචන්, ඔය, මගුල, නවත්තලා, කොන්දක්, තියෙනවානම්,...</td>\n      <td>YES</td>\n    </tr>\n    <tr>\n      <th>...</th>\n      <td>...</td>\n      <td>...</td>\n      <td>...</td>\n    </tr>\n    <tr>\n      <th>2495</th>\n      <td>2496</td>\n      <td>[ඔය, දෙන්නා, එකතු, වෙලා, tv, program, එකක්, කර...</td>\n      <td>NO</td>\n    </tr>\n    <tr>\n      <th>2496</th>\n      <td>2497</td>\n      <td>[කවුරු, මොනා, කිව්වත්, ඔයාල, දෙන්නගෙ, කටවල්, ද...</td>\n      <td>NO</td>\n    </tr>\n    <tr>\n      <th>2497</th>\n      <td>2498</td>\n      <td>[ඇස්වහ, කටවහක්, නෑ, ඔයාලා, දෙනාටම, හැමදාමත්, අ...</td>\n      <td>NO</td>\n    </tr>\n    <tr>\n      <th>2498</th>\n      <td>2499</td>\n      <td>[මුන්, දෙන්න, තමයි, රෙඩියෝ, එකේ, සුපිරි, ඩබල, ...</td>\n      <td>NO</td>\n    </tr>\n    <tr>\n      <th>2499</th>\n      <td>2500</td>\n      <td>[Ane, manda, joke, eka, hodai, eth, wadu, දෙමව...</td>\n      <td>NO</td>\n    </tr>\n  </tbody>\n</table>\n<p>2500 rows × 3 columns</p>\n</div>"
          },
          "metadata": {},
          "execution_count": 4
        }
      ]
    },
    {
      "cell_type": "markdown",
      "metadata": {
        "id": "6rWGMBmH9EBf"
      },
      "source": [
        "<p>As shown above, the each and every row, <b>\"Phrase\"</b> field of the dataframe now consists of tokenized sentences. (Now those have become lists)</p>"
      ]
    },
    {
      "cell_type": "markdown",
      "metadata": {
        "id": "lBLwKFFg9EBg"
      },
      "source": [
        "#### 4. Convert the case of the ‘Singlish’ tokens to obtain unique words"
      ]
    },
    {
      "cell_type": "markdown",
      "metadata": {
        "id": "wm36TBkp9EBg"
      },
      "source": [
        "<p>Below function named <b>convert_case(dataframe, column)</b> will convert the case of the Singlish tokens to lowercase.</p>"
      ]
    },
    {
      "cell_type": "code",
      "metadata": {
        "id": "aXrjWLRE9EBh",
        "outputId": "7f475aa0-73a4-43ba-a8c4-4679cdb7f5cd"
      },
      "source": [
        "# Define a function to convert Singlish tokens to lowercase when the dataframe and \n",
        "# the particular column name which consists the data were given\n",
        "def convert_case(data, column):\n",
        "\n",
        "    # Iterating through each tokenized sentence in the dataframe\n",
        "    for index, row in data.iterrows():\n",
        "        # Convert each word of the 'column' field in a tokenized sentence to lowercase, and replace the whole 'column' with\n",
        "        # the lowercased (converted) one\n",
        "        row[column] = [w.lower( ) for w in row[column]]\n",
        "        data[column][index] = row[column]\n",
        "    \n",
        "    return data[column]\n",
        "\n",
        "# Convert the Singlish tokens in the 'Phrase' column to lowercase\n",
        "dataframe['Phrase'] = convert_case(data=dataframe, column='Phrase')\n",
        "dataframe"
      ],
      "execution_count": null,
      "outputs": [
        {
          "output_type": "stream",
          "text": [
            "c:\\users\\wasura dananjith\\appdata\\local\\programs\\python\\python36\\lib\\site-packages\\ipykernel_launcher.py:10: SettingWithCopyWarning: \n",
            "A value is trying to be set on a copy of a slice from a DataFrame\n",
            "\n",
            "See the caveats in the documentation: http://pandas.pydata.org/pandas-docs/stable/user_guide/indexing.html#returning-a-view-versus-a-copy\n",
            "  # Remove the CWD from sys.path while we load stuff.\n"
          ],
          "name": "stderr"
        },
        {
          "output_type": "execute_result",
          "data": {
            "text/html": [
              "<div>\n",
              "<style scoped>\n",
              "    .dataframe tbody tr th:only-of-type {\n",
              "        vertical-align: middle;\n",
              "    }\n",
              "\n",
              "    .dataframe tbody tr th {\n",
              "        vertical-align: top;\n",
              "    }\n",
              "\n",
              "    .dataframe thead th {\n",
              "        text-align: right;\n",
              "    }\n",
              "</style>\n",
              "<table border=\"1\" class=\"dataframe\">\n",
              "  <thead>\n",
              "    <tr style=\"text-align: right;\">\n",
              "      <th></th>\n",
              "      <th>PhraseNo</th>\n",
              "      <th>Phrase</th>\n",
              "      <th>IsHateSpeech</th>\n",
              "    </tr>\n",
              "  </thead>\n",
              "  <tbody>\n",
              "    <tr>\n",
              "      <th>0</th>\n",
              "      <td>1</td>\n",
              "      <td>[මේ, බැල්ලි, කොටින්ගේ, ගු, කනකොට, අපහසුවක්, දැ...</td>\n",
              "      <td>YES</td>\n",
              "    </tr>\n",
              "    <tr>\n",
              "      <th>1</th>\n",
              "      <td>2</td>\n",
              "      <td>[මන්, ඊයේ, මුස්ලිම්, ඩෑල්, එකක්, එක්ක, සෙල්ෆිය...</td>\n",
              "      <td>YES</td>\n",
              "    </tr>\n",
              "    <tr>\n",
              "      <th>2</th>\n",
              "      <td>3</td>\n",
              "      <td>[සංහිදියාවට, අවුලක්, වෙයි, ද]</td>\n",
              "      <td>NO</td>\n",
              "    </tr>\n",
              "    <tr>\n",
              "      <th>3</th>\n",
              "      <td>4</td>\n",
              "      <td>[කටින්, පුරසාරම්, දොඩන, අපි, සිංහලයො, විදියට, ...</td>\n",
              "      <td>YES</td>\n",
              "    </tr>\n",
              "    <tr>\n",
              "      <th>4</th>\n",
              "      <td>5</td>\n",
              "      <td>[මචන්, ඔය, මගුල, නවත්තලා, කොන්දක්, තියෙනවානම්,...</td>\n",
              "      <td>YES</td>\n",
              "    </tr>\n",
              "    <tr>\n",
              "      <th>...</th>\n",
              "      <td>...</td>\n",
              "      <td>...</td>\n",
              "      <td>...</td>\n",
              "    </tr>\n",
              "    <tr>\n",
              "      <th>2495</th>\n",
              "      <td>2496</td>\n",
              "      <td>[ඔය, දෙන්නා, එකතු, වෙලා, tv, program, එකක්, කර...</td>\n",
              "      <td>NO</td>\n",
              "    </tr>\n",
              "    <tr>\n",
              "      <th>2496</th>\n",
              "      <td>2497</td>\n",
              "      <td>[කවුරු, මොනා, කිව්වත්, ඔයාල, දෙන්නගෙ, කටවල්, ද...</td>\n",
              "      <td>NO</td>\n",
              "    </tr>\n",
              "    <tr>\n",
              "      <th>2497</th>\n",
              "      <td>2498</td>\n",
              "      <td>[ඇස්වහ, කටවහක්, නෑ, ඔයාලා, දෙනාටම, හැමදාමත්, අ...</td>\n",
              "      <td>NO</td>\n",
              "    </tr>\n",
              "    <tr>\n",
              "      <th>2498</th>\n",
              "      <td>2499</td>\n",
              "      <td>[මුන්, දෙන්න, තමයි, රෙඩියෝ, එකේ, සුපිරි, ඩබල, ...</td>\n",
              "      <td>NO</td>\n",
              "    </tr>\n",
              "    <tr>\n",
              "      <th>2499</th>\n",
              "      <td>2500</td>\n",
              "      <td>[ane, manda, joke, eka, hodai, eth, wadu, දෙමව...</td>\n",
              "      <td>NO</td>\n",
              "    </tr>\n",
              "  </tbody>\n",
              "</table>\n",
              "<p>2500 rows × 3 columns</p>\n",
              "</div>"
            ],
            "text/plain": [
              "      PhraseNo                                             Phrase IsHateSpeech\n",
              "0            1  [මේ, බැල්ලි, කොටින්ගේ, ගු, කනකොට, අපහසුවක්, දැ...          YES\n",
              "1            2  [මන්, ඊයේ, මුස්ලිම්, ඩෑල්, එකක්, එක්ක, සෙල්ෆිය...          YES\n",
              "2            3                      [සංහිදියාවට, අවුලක්, වෙයි, ද]           NO\n",
              "3            4  [කටින්, පුරසාරම්, දොඩන, අපි, සිංහලයො, විදියට, ...          YES\n",
              "4            5  [මචන්, ඔය, මගුල, නවත්තලා, කොන්දක්, තියෙනවානම්,...          YES\n",
              "...        ...                                                ...          ...\n",
              "2495      2496  [ඔය, දෙන්නා, එකතු, වෙලා, tv, program, එකක්, කර...           NO\n",
              "2496      2497  [කවුරු, මොනා, කිව්වත්, ඔයාල, දෙන්නගෙ, කටවල්, ද...           NO\n",
              "2497      2498  [ඇස්වහ, කටවහක්, නෑ, ඔයාලා, දෙනාටම, හැමදාමත්, අ...           NO\n",
              "2498      2499  [මුන්, දෙන්න, තමයි, රෙඩියෝ, එකේ, සුපිරි, ඩබල, ...           NO\n",
              "2499      2500  [ane, manda, joke, eka, hodai, eth, wadu, දෙමව...           NO\n",
              "\n",
              "[2500 rows x 3 columns]"
            ]
          },
          "metadata": {
            "tags": []
          },
          "execution_count": 4
        }
      ]
    },
    {
      "cell_type": "markdown",
      "metadata": {
        "id": "IDIyvhgH9EBi"
      },
      "source": [
        "<p>As explained in the comments, as we have tokenized the sentences from the previous step, the dataframe now consists of tokenized sentences (in list format). So, each tokenized sentence were iterated and the each word was converted to lowercase irrespective of whether the word is 'Sinhala' or 'Singlish'. As shown in the result, the 'Sinhala' words were <b>not</b> harmed. <b>w.lower() has only converted the words with English characters to the lowercase</b>.</p>"
      ]
    },
    {
      "cell_type": "markdown",
      "metadata": {
        "id": "rHltziPw9EBi"
      },
      "source": [
        "#### 5. Separate the data into two sets – one for Sinhala and the other for ‘Singlish’ entries"
      ]
    },
    {
      "cell_type": "markdown",
      "metadata": {
        "id": "5bxuviaw9EBj"
      },
      "source": [
        "<p>The below function named <b>check_sinhala_tokens(tokenized_sentence)</b> has the ability to decide the types of the tokens of a particular tokenized sentence when it is passed as an argument. The decision was made mainly by checking whether a particular word can be encoded with ASCII. Only the words with English characters can be encoded with ASCII and Sinhala characters <b>cannot</b> be encoded with ASCII. This is the criteria which was mainly used to seperate whether a tokenized sentence is Sinhala or Singlish as described by the comments of the below function.</p>"
      ]
    },
    {
      "cell_type": "code",
      "metadata": {
        "id": "JIszLCw89EBj"
      },
      "source": [
        "# Define a function to decide whether a tokenized sentence conisists of Sinhala words, Singlish words or both\n",
        "def check_sinhala_tokens(tokenized_sentence):\n",
        "    \n",
        "    # A list was intiated to store the type of the tokens in a particular sentence\n",
        "    sentence_token_types = []\n",
        "    \n",
        "    # Iterate through each sentence and get each token\n",
        "    for token in tokenized_sentence:\n",
        "        \n",
        "        #  Check whether the token can be encoded only with ASCII characters\n",
        "        try:\n",
        "            token.encode(encoding='utf-8').decode('ascii')\n",
        "            \n",
        "        # If it can not be encoded, then it has characters from Sinhala alphabet\n",
        "        except UnicodeDecodeError:\n",
        "            sentence_token_types.append('Sinhala')\n",
        "            \n",
        "        # If it can  be encoded, then it has the characters from English alphabet \n",
        "        # Then it is a Sinhala written in English = Singlish\n",
        "        else:\n",
        "            sentence_token_types.append('Singlish')\n",
        "            \n",
        "    # If a particular sentence does not have Singlish words, it is a Sinhala sentence        \n",
        "    if (sentence_token_types.count('Singlish') == 0):\n",
        "        return \"Sinhala\"\n",
        "    # If a particular sentence does not have Sinhala words, it is a Singlish sentence  \n",
        "    elif (sentence_token_types.count('Sinhala') == 0):\n",
        "        return \"Singlish\"\n",
        "    # If a particular sentence has both Sinhala and Singlish words,then it is a Singlish(Both) sentence \n",
        "    else:\n",
        "        return \"Both\""
      ],
      "execution_count": 5,
      "outputs": []
    },
    {
      "cell_type": "markdown",
      "metadata": {
        "id": "T9NjodDV9EBj"
      },
      "source": [
        "<p>Two lists were initialized as <b>sinhala_sentences_list</b> and <b>singlish_sentences_list</b> in order to store the rows with Sinhala sentences and Singlish sentences seperately.</p>"
      ]
    },
    {
      "cell_type": "code",
      "metadata": {
        "id": "BNen0gO-9EBj"
      },
      "source": [
        "# Define 2 empty lists to store Sinhala and Singlish data seperately\n",
        "sinhala_sentences_list = []\n",
        "singlish_sentences_list = []\n",
        "\n",
        "# Iterating through each tokenized sentence in the dataframe\n",
        "for index, row in dataframe.iterrows():\n",
        "    \n",
        "    # Check whether a tokenized sentence is Sinhala or Singlish and seperate the sentences to 2 lists\n",
        "    if (check_sinhala_tokens(tokenized_sentence=row['Phrase']) == \"Sinhala\"):\n",
        "        sinhala_sentences_list.append(dataframe.iloc[index])\n",
        "    else:\n",
        "        singlish_sentences_list.append(dataframe.iloc[index])"
      ],
      "execution_count": 6,
      "outputs": []
    },
    {
      "cell_type": "markdown",
      "metadata": {
        "id": "gz6lr1l89EBl"
      },
      "source": [
        "<p>The output of the above code segment is <b>2 lists</b> which consist Sinhala sentences and Singlish sentences seperately with their corresponding lables. <br><br> Since there is a need to write these to 2 seperate .csv files, the lists can be converted to dataframes as shown below.</p>"
      ]
    },
    {
      "cell_type": "code",
      "metadata": {
        "id": "RDvdCEft9EBl"
      },
      "source": [
        "# Convert the created 2 lists to pandas dataframes\n",
        "sinhala_dataframe = pd.DataFrame(sinhala_sentences_list)  \n",
        "singlish_dataframe = pd.DataFrame(singlish_sentences_list)  "
      ],
      "execution_count": 7,
      "outputs": []
    },
    {
      "cell_type": "code",
      "metadata": {
        "id": "1SH7NFzP9EBl",
        "outputId": "2baecbb1-48f3-4efd-f15a-87de91ced6ee"
      },
      "source": [
        "sinhala_dataframe"
      ],
      "execution_count": 8,
      "outputs": [
        {
          "output_type": "execute_result",
          "data": {
            "text/plain": [
              "      PhraseNo                                             Phrase IsHateSpeech\n",
              "0            1  [මේ, බැල්ලි, කොටින්ගේ, ගු, කනකොට, අපහසුවක්, දැ...          YES\n",
              "1            2  [මන්, ඊයේ, මුස්ලිම්, ඩෑල්, එකක්, එක්ක, සෙල්ෆිය...          YES\n",
              "2            3                      [සංහිදියාවට, අවුලක්, වෙයි, ද]           NO\n",
              "3            4  [කටින්, පුරසාරම්, දොඩන, අපි, සිංහලයො, විදියට, ...          YES\n",
              "4            5  [මචන්, ඔය, මගුල, නවත්තලා, කොන්දක්, තියෙනවානම්,...          YES\n",
              "...        ...                                                ...          ...\n",
              "2488      2489               [ශ්, රී, ලාංකික, දේශය, සුන්දර, කරමු]           NO\n",
              "2489      2490    [ඕක, කලින්, අපි, නොදන්න, ලයිවු, එකේ, ගිය, එකක්]           NO\n",
              "2493      2494  [ඒත්, එහෙම, කියන්න, එපා, මට, තේරැනා, පැසී, අපහ...           NO\n",
              "2496      2497  [කවුරු, මොනා, කිව්වත්, ඔයාල, දෙන්නගෙ, කටවල්, ද...           NO\n",
              "2498      2499  [මුන්, දෙන්න, තමයි, රෙඩියෝ, එකේ, සුපිරි, ඩබල, ...           NO\n",
              "\n",
              "[1393 rows x 3 columns]"
            ],
            "text/html": "<div>\n<style scoped>\n    .dataframe tbody tr th:only-of-type {\n        vertical-align: middle;\n    }\n\n    .dataframe tbody tr th {\n        vertical-align: top;\n    }\n\n    .dataframe thead th {\n        text-align: right;\n    }\n</style>\n<table border=\"1\" class=\"dataframe\">\n  <thead>\n    <tr style=\"text-align: right;\">\n      <th></th>\n      <th>PhraseNo</th>\n      <th>Phrase</th>\n      <th>IsHateSpeech</th>\n    </tr>\n  </thead>\n  <tbody>\n    <tr>\n      <th>0</th>\n      <td>1</td>\n      <td>[මේ, බැල්ලි, කොටින්ගේ, ගු, කනකොට, අපහසුවක්, දැ...</td>\n      <td>YES</td>\n    </tr>\n    <tr>\n      <th>1</th>\n      <td>2</td>\n      <td>[මන්, ඊයේ, මුස්ලිම්, ඩෑල්, එකක්, එක්ක, සෙල්ෆිය...</td>\n      <td>YES</td>\n    </tr>\n    <tr>\n      <th>2</th>\n      <td>3</td>\n      <td>[සංහිදියාවට, අවුලක්, වෙයි, ද]</td>\n      <td>NO</td>\n    </tr>\n    <tr>\n      <th>3</th>\n      <td>4</td>\n      <td>[කටින්, පුරසාරම්, දොඩන, අපි, සිංහලයො, විදියට, ...</td>\n      <td>YES</td>\n    </tr>\n    <tr>\n      <th>4</th>\n      <td>5</td>\n      <td>[මචන්, ඔය, මගුල, නවත්තලා, කොන්දක්, තියෙනවානම්,...</td>\n      <td>YES</td>\n    </tr>\n    <tr>\n      <th>...</th>\n      <td>...</td>\n      <td>...</td>\n      <td>...</td>\n    </tr>\n    <tr>\n      <th>2488</th>\n      <td>2489</td>\n      <td>[ශ්, රී, ලාංකික, දේශය, සුන්දර, කරමු]</td>\n      <td>NO</td>\n    </tr>\n    <tr>\n      <th>2489</th>\n      <td>2490</td>\n      <td>[ඕක, කලින්, අපි, නොදන්න, ලයිවු, එකේ, ගිය, එකක්]</td>\n      <td>NO</td>\n    </tr>\n    <tr>\n      <th>2493</th>\n      <td>2494</td>\n      <td>[ඒත්, එහෙම, කියන්න, එපා, මට, තේරැනා, පැසී, අපහ...</td>\n      <td>NO</td>\n    </tr>\n    <tr>\n      <th>2496</th>\n      <td>2497</td>\n      <td>[කවුරු, මොනා, කිව්වත්, ඔයාල, දෙන්නගෙ, කටවල්, ද...</td>\n      <td>NO</td>\n    </tr>\n    <tr>\n      <th>2498</th>\n      <td>2499</td>\n      <td>[මුන්, දෙන්න, තමයි, රෙඩියෝ, එකේ, සුපිරි, ඩබල, ...</td>\n      <td>NO</td>\n    </tr>\n  </tbody>\n</table>\n<p>1393 rows × 3 columns</p>\n</div>"
          },
          "metadata": {},
          "execution_count": 8
        }
      ]
    },
    {
      "cell_type": "markdown",
      "metadata": {
        "id": "DF_WuPuf9EBm"
      },
      "source": [
        "<p>Above is the dataframe which consists only the Sinhala sentences.</p>"
      ]
    },
    {
      "cell_type": "code",
      "metadata": {
        "id": "SDDAA1xp9EBm",
        "outputId": "7bebfaa2-329c-495d-ab49-e71a72c11f55"
      },
      "source": [
        "singlish_dataframe"
      ],
      "execution_count": 9,
      "outputs": [
        {
          "output_type": "execute_result",
          "data": {
            "text/plain": [
              "      PhraseNo                                             Phrase IsHateSpeech\n",
              "7            8  [Menna, ratawal, menna, minissu, ape, ratawal,...          YES\n",
              "11          12  [paduway, hitahan, beri, weda, nokaran, bat, e...          YES\n",
              "12          13  [muth, kata, arinne, anik, unta, witharai, jat...          YES\n",
              "13          14  [songs, kanna, epa, buruwo, kochchara, lassana...          YES\n",
              "14          15  [Muth, nanna, yanne, kridakayanta, ground, wal...          YES\n",
              "...        ...                                                ...          ...\n",
              "2492      2493  [1002, ඔන්න, ඔයාව, subscribe, කරා, මාවත්, subs...           NO\n",
              "2494      2495  [අපේ, අලුත්, වීඩියෝ, එකත්, බලන්න, පෙන්ඩ්ස්, චැ...           NO\n",
              "2495      2496  [ඔය, දෙන්නා, එකතු, වෙලා, tv, program, එකක්, කර...           NO\n",
              "2497      2498  [ඇස්වහ, කටවහක්, නෑ, ඔයාලා, දෙනාටම, හැමදාමත්, අ...           NO\n",
              "2499      2500  [Ane, manda, joke, eka, hodai, eth, wadu, දෙමව...           NO\n",
              "\n",
              "[1107 rows x 3 columns]"
            ],
            "text/html": "<div>\n<style scoped>\n    .dataframe tbody tr th:only-of-type {\n        vertical-align: middle;\n    }\n\n    .dataframe tbody tr th {\n        vertical-align: top;\n    }\n\n    .dataframe thead th {\n        text-align: right;\n    }\n</style>\n<table border=\"1\" class=\"dataframe\">\n  <thead>\n    <tr style=\"text-align: right;\">\n      <th></th>\n      <th>PhraseNo</th>\n      <th>Phrase</th>\n      <th>IsHateSpeech</th>\n    </tr>\n  </thead>\n  <tbody>\n    <tr>\n      <th>7</th>\n      <td>8</td>\n      <td>[Menna, ratawal, menna, minissu, ape, ratawal,...</td>\n      <td>YES</td>\n    </tr>\n    <tr>\n      <th>11</th>\n      <td>12</td>\n      <td>[paduway, hitahan, beri, weda, nokaran, bat, e...</td>\n      <td>YES</td>\n    </tr>\n    <tr>\n      <th>12</th>\n      <td>13</td>\n      <td>[muth, kata, arinne, anik, unta, witharai, jat...</td>\n      <td>YES</td>\n    </tr>\n    <tr>\n      <th>13</th>\n      <td>14</td>\n      <td>[songs, kanna, epa, buruwo, kochchara, lassana...</td>\n      <td>YES</td>\n    </tr>\n    <tr>\n      <th>14</th>\n      <td>15</td>\n      <td>[Muth, nanna, yanne, kridakayanta, ground, wal...</td>\n      <td>YES</td>\n    </tr>\n    <tr>\n      <th>...</th>\n      <td>...</td>\n      <td>...</td>\n      <td>...</td>\n    </tr>\n    <tr>\n      <th>2492</th>\n      <td>2493</td>\n      <td>[1002, ඔන්න, ඔයාව, subscribe, කරා, මාවත්, subs...</td>\n      <td>NO</td>\n    </tr>\n    <tr>\n      <th>2494</th>\n      <td>2495</td>\n      <td>[අපේ, අලුත්, වීඩියෝ, එකත්, බලන්න, පෙන්ඩ්ස්, චැ...</td>\n      <td>NO</td>\n    </tr>\n    <tr>\n      <th>2495</th>\n      <td>2496</td>\n      <td>[ඔය, දෙන්නා, එකතු, වෙලා, tv, program, එකක්, කර...</td>\n      <td>NO</td>\n    </tr>\n    <tr>\n      <th>2497</th>\n      <td>2498</td>\n      <td>[ඇස්වහ, කටවහක්, නෑ, ඔයාලා, දෙනාටම, හැමදාමත්, අ...</td>\n      <td>NO</td>\n    </tr>\n    <tr>\n      <th>2499</th>\n      <td>2500</td>\n      <td>[Ane, manda, joke, eka, hodai, eth, wadu, දෙමව...</td>\n      <td>NO</td>\n    </tr>\n  </tbody>\n</table>\n<p>1107 rows × 3 columns</p>\n</div>"
          },
          "metadata": {},
          "execution_count": 9
        }
      ]
    },
    {
      "cell_type": "markdown",
      "metadata": {
        "id": "-7nZWHpb9EBn"
      },
      "source": [
        "<p>Above is the dataframe which consists only the Singlish sentences.</p>"
      ]
    },
    {
      "cell_type": "markdown",
      "metadata": {
        "id": "1RLEo6-g9EBn"
      },
      "source": [
        "<p>Let us see the percentage of entries in the two sets.</p>"
      ]
    },
    {
      "cell_type": "code",
      "metadata": {
        "id": "tqSKcim-9EBn",
        "outputId": "f5c263a5-952f-415b-bf3b-5906d7a52569"
      },
      "source": [
        "no_of_sinhala_sentences = len(sinhala_dataframe.index)\n",
        "no_of_singlish_sentences = len(singlish_dataframe.index)\n",
        "percentage_of_sinhala_sentences = (no_of_sinhala_sentences/(no_of_sinhala_sentences + no_of_singlish_sentences))*100\n",
        "percentage_of_singlish_sentences = (no_of_singlish_sentences/(no_of_sinhala_sentences + no_of_singlish_sentences))*100\n",
        "\n",
        "print (\"Number of Sinhala sentences: \"+str(no_of_sinhala_sentences))\n",
        "print (\"Number of Singlish sentences: \"+str(no_of_singlish_sentences)+ \"\\n\")\n",
        "print (\"Percentage of Sinhala sentences: \"+str(percentage_of_sinhala_sentences) +\"%\")\n",
        "print (\"Percentage of Singlish sentences: \"+str(percentage_of_singlish_sentences)+ \"%\\n\")"
      ],
      "execution_count": 10,
      "outputs": [
        {
          "output_type": "stream",
          "name": "stdout",
          "text": [
            "Number of Sinhala sentences: 1393\nNumber of Singlish sentences: 1107\n\nPercentage of Sinhala sentences: 55.720000000000006%\nPercentage of Singlish sentences: 44.28%\n\n"
          ]
        }
      ]
    },
    {
      "cell_type": "markdown",
      "metadata": {
        "id": "iCBHz3CK9EBn"
      },
      "source": [
        "<p>Below code segment will write the sinhalaDataframe to a .csv file named <b>'Sinhala_Hate_Speech.csv'</b> and singlishDataframe to a .csv file named <b>'Singlish_Hate_speech.csv'</b> by encoding with utf-8-sig.</p>"
      ]
    },
    {
      "cell_type": "code",
      "metadata": {
        "id": "kBFHtVr89EBo"
      },
      "source": [
        "# Write the created 2 dataframes to 2 seperate .csv files\n",
        "sinhala_dataframe.to_csv('Sinhala_Hate_Speech.csv',encoding=\"utf-8-sig\")\n",
        "singlish_dataframe.to_csv('Singlish_Hate_Speech.csv',encoding=\"utf-8-sig\")"
      ],
      "execution_count": 11,
      "outputs": []
    },
    {
      "cell_type": "markdown",
      "metadata": {
        "id": "GlL16rob9EBo"
      },
      "source": [
        "### Answer (b)\n",
        "\n",
        "Answer for question (b) will be discussed under the below sections as \n",
        "<ol>\n",
        "    <li>Functions to calculate the number of tokens/unique tokens, minimum/maximum sentence lengths and visulaize different sentence lengths</li>\n",
        "    <li>Removing stop words</li> \n",
        "    <li>Stemming</li>\n",
        " </ol>"
      ]
    },
    {
      "cell_type": "markdown",
      "metadata": {
        "id": "Ue5_dIer9EBo"
      },
      "source": [
        "#### b.1. Functions to calculate the number of tokens/unique tokens, minimum/maximum sentence lengths and visulaize different sentence lengths"
      ]
    },
    {
      "cell_type": "markdown",
      "metadata": {
        "id": "YO2_uGs89EBp"
      },
      "source": [
        "<p>Three main functions were defined to fulfill above purposes. <br><br>The first function <b>get_no_of_tokens_and_unique_tokens(dataframe, column)</b> is defined below which has the ability to find the number of tokens and the number of unique tokens in the corpus and print those values when any dataframe is passed as the argument.</p>"
      ]
    },
    {
      "cell_type": "code",
      "metadata": {
        "id": "G8iJrzwS9EBp"
      },
      "source": [
        "from itertools import chain\n",
        "\n",
        "# Define a function to count the number of tokens and unique tokens in the dataset  \n",
        "# when the dataframe and the column name which consists the tokens were given\n",
        "def get_no_of_tokens_and_unique_tokens(dataframe, column):\n",
        "    \n",
        "    # Iterate through the dataset and and get all the tokens to one list\n",
        "    tokenList = list(chain(*dataframe[column]))\n",
        "\n",
        "    # Calculate and print the total number of tokens in the dataset\n",
        "    print (\"Number of total tokens: \" + str(len(tokenList)))\n",
        "    \n",
        "    # Calculate and print the number of unique tokens in the dataset using the 'set' function\n",
        "    print (\"Number of unique tokens: \"+ str(len(set(tokenList))) + \"\\n\")"
      ],
      "execution_count": 12,
      "outputs": []
    },
    {
      "cell_type": "markdown",
      "metadata": {
        "id": "3-A2VYfp9EBp"
      },
      "source": [
        "<p>The second function <b>find_min_max_length_sentence(dataframe, column)</b> is defined below which has the ability to find the minimum and maxiumum lengths of the sentences in the dataset and print those values when any dataframe is passed as the argument. <b>find_min_max_length_sentence(dataframe, column)</b> will call <b>get_lengths_of_sentences(dataframe, column)</b> inside itself to calculate all the lengths of the sentences and return a list when the dataframe and the column name which consists the sentences were given</p>"
      ]
    },
    {
      "cell_type": "code",
      "metadata": {
        "id": "PEqKkvp09EBq"
      },
      "source": [
        "# Define a function to find the minimum and maxiumum lengths of the sentences in the dataset\n",
        "# when the dataframe and the column name which consists the sentences were given\n",
        "def find_min_max_length_sentence(dataframe, column):\n",
        "    \n",
        "    # Calculate all the lengths of the sentences and store them in a list\n",
        "    lengths = get_lengths_of_sentences(dataframe, column)\n",
        "    \n",
        "    # Print the minimum sentence length\n",
        "    print (\"Minimum sentence length: \" + str(min(lengths)))\n",
        "    \n",
        "    # Print the maximum sentence length\n",
        "    print (\"Maximum sentence length: \"+ str(max(lengths)) + \"\\n\")\n",
        "    \n",
        "# Define a function to calculate all the lengths of the sentences and return a list\n",
        "# when the dataframe and the column name which consists the sentences were given\n",
        "def get_lengths_of_sentences(dataframe, column):\n",
        "    \n",
        "    # Initialized a list to store all the lengths\n",
        "    lengths = []\n",
        "    \n",
        "    # Iterate through the dataset and get the length of each sentence in 'Phrase' column and add it to the lengths list\n",
        "    for index, row in dataframe.iterrows():\n",
        "        lengths.append(len(row[column]))\n",
        "    return lengths"
      ],
      "execution_count": 13,
      "outputs": []
    },
    {
      "cell_type": "markdown",
      "metadata": {
        "id": "ujPVTjrg9EBq"
      },
      "source": [
        "<p>Let us pass the sinhalaDataframe to the above functions and find the answers.</p>"
      ]
    },
    {
      "cell_type": "code",
      "metadata": {
        "id": "LOM2p5De9EBq",
        "outputId": "951aca84-87ca-4c1a-fe80-4a216a63c788"
      },
      "source": [
        "get_no_of_tokens_and_unique_tokens(dataframe=sinhala_dataframe, column='Phrase')\n",
        "find_min_max_length_sentence(dataframe=sinhala_dataframe, column='Phrase')"
      ],
      "execution_count": 14,
      "outputs": [
        {
          "output_type": "stream",
          "name": "stdout",
          "text": [
            "Number of total tokens: 25507\nNumber of unique tokens: 9105\n\nMinimum sentence length: 2\nMaximum sentence length: 104\n\n"
          ]
        }
      ]
    },
    {
      "cell_type": "markdown",
      "metadata": {
        "id": "2YMfOVXS9EBr"
      },
      "source": [
        "<p>According to the above outputs, it can be seen that <b>before reducing the 'noise'</b> in the dataset, it consists of 25507 number of total tokens and out of that 9105 tokens are unique. Also, the minimum length of a sentence that can have is 2 which means it has only 2 tokens, and the maximum length is 104 which means it has 104 tokens.</p>"
      ]
    },
    {
      "cell_type": "markdown",
      "metadata": {
        "id": "zDts0Gtp9EBs"
      },
      "source": [
        "<p>The third function <b>visualize_different_sentence_lengths(dataframe, title, column)</b> is defined below which has the ability to plot a histogram to visualize different sentence lengths when any data frame is passed as the argument.</p>"
      ]
    },
    {
      "cell_type": "code",
      "metadata": {
        "id": "eWhYvMpw9EBs"
      },
      "source": [
        "import matplotlib.pyplot as plt\n",
        "    \n",
        "# Define a function to plot a histogram to visualize different sentence lengths in the dataset\n",
        "# when the dataframe, title of the plot and the column name which consists the sentences were given\n",
        "def visualize_different_sentence_lengths(dataframe, title, column):\n",
        "    \n",
        "    # Get all the lengths of sentences in the dataframe\n",
        "    lengths = get_lengths_of_sentences(dataframe, column)\n",
        "\n",
        "    # Number of bins was defined as 10 (you can change it if want)\n",
        "    num_bins = 10\n",
        "    \n",
        "    # Plot the histogram\n",
        "    n, bins, patches = plt.hist(lengths, num_bins, facecolor='orange', alpha=1)\n",
        "    plt.xlabel('Sentence Length (Number of Words in a Sentence)')\n",
        "    plt.ylabel('Number of Sentences')\n",
        "    plt.title(title)\n",
        "    plt.show()"
      ],
      "execution_count": 15,
      "outputs": []
    },
    {
      "cell_type": "markdown",
      "metadata": {
        "id": "XkEvvKyE9EBs"
      },
      "source": [
        "<p>Let us pass the sinhalaDataframe to the above function and visualize the data.</p>"
      ]
    },
    {
      "cell_type": "code",
      "metadata": {
        "id": "GBwfRgsU9EBt",
        "outputId": "844b834f-5a85-44e6-bfe5-c0c750291c90"
      },
      "source": [
        "visualize_different_sentence_lengths(dataframe=sinhala_dataframe, \n",
        "                                     title='Before removing stop words and doing stemming', \n",
        "                                     column='Phrase')"
      ],
      "execution_count": 16,
      "outputs": [
        {
          "output_type": "display_data",
          "data": {
            "text/plain": "<Figure size 432x288 with 1 Axes>",
            "image/svg+xml": "<?xml version=\"1.0\" encoding=\"utf-8\" standalone=\"no\"?>\r\n<!DOCTYPE svg PUBLIC \"-//W3C//DTD SVG 1.1//EN\"\r\n  \"http://www.w3.org/Graphics/SVG/1.1/DTD/svg11.dtd\">\r\n<!-- Created with matplotlib (https://matplotlib.org/) -->\r\n<svg height=\"277.314375pt\" version=\"1.1\" viewBox=\"0 0 388.965625 277.314375\" width=\"388.965625pt\" xmlns=\"http://www.w3.org/2000/svg\" xmlns:xlink=\"http://www.w3.org/1999/xlink\">\r\n <defs>\r\n  <style type=\"text/css\">\r\n*{stroke-linecap:butt;stroke-linejoin:round;}\r\n  </style>\r\n </defs>\r\n <g id=\"figure_1\">\r\n  <g id=\"patch_1\">\r\n   <path d=\"M 0 277.314375 \r\nL 388.965625 277.314375 \r\nL 388.965625 0 \r\nL 0 0 \r\nz\r\n\" style=\"fill:none;\"/>\r\n  </g>\r\n  <g id=\"axes_1\">\r\n   <g id=\"patch_2\">\r\n    <path d=\"M 46.965625 239.758125 \r\nL 381.765625 239.758125 \r\nL 381.765625 22.318125 \r\nL 46.965625 22.318125 \r\nz\r\n\" style=\"fill:#ffffff;\"/>\r\n   </g>\r\n   <g id=\"patch_3\">\r\n    <path clip-path=\"url(#pa146539e56)\" d=\"M 62.183807 239.758125 \r\nL 92.62017 239.758125 \r\nL 92.62017 32.672411 \r\nL 62.183807 32.672411 \r\nz\r\n\" style=\"fill:#ffa500;\"/>\r\n   </g>\r\n   <g id=\"patch_4\">\r\n    <path clip-path=\"url(#pa146539e56)\" d=\"M 92.62017 239.758125 \r\nL 123.056534 239.758125 \r\nL 123.056534 72.566331 \r\nL 92.62017 72.566331 \r\nz\r\n\" style=\"fill:#ffa500;\"/>\r\n   </g>\r\n   <g id=\"patch_5\">\r\n    <path clip-path=\"url(#pa146539e56)\" d=\"M 123.056534 239.758125 \r\nL 153.492898 239.758125 \r\nL 153.492898 168.31174 \r\nL 123.056534 168.31174 \r\nz\r\n\" style=\"fill:#ffa500;\"/>\r\n   </g>\r\n   <g id=\"patch_6\">\r\n    <path clip-path=\"url(#pa146539e56)\" d=\"M 153.492898 239.758125 \r\nL 183.929261 239.758125 \r\nL 183.929261 210.744365 \r\nL 153.492898 210.744365 \r\nz\r\n\" style=\"fill:#ffa500;\"/>\r\n   </g>\r\n   <g id=\"patch_7\">\r\n    <path clip-path=\"url(#pa146539e56)\" d=\"M 183.929261 239.758125 \r\nL 214.365625 239.758125 \r\nL 214.365625 224.888573 \r\nL 183.929261 224.888573 \r\nz\r\n\" style=\"fill:#ffa500;\"/>\r\n   </g>\r\n   <g id=\"patch_8\">\r\n    <path clip-path=\"url(#pa146539e56)\" d=\"M 214.365625 239.758125 \r\nL 244.801989 239.758125 \r\nL 244.801989 233.955373 \r\nL 214.365625 233.955373 \r\nz\r\n\" style=\"fill:#ffa500;\"/>\r\n   </g>\r\n   <g id=\"patch_9\">\r\n    <path clip-path=\"url(#pa146539e56)\" d=\"M 244.801989 239.758125 \r\nL 275.238352 239.758125 \r\nL 275.238352 235.768733 \r\nL 244.801989 235.768733 \r\nz\r\n\" style=\"fill:#ffa500;\"/>\r\n   </g>\r\n   <g id=\"patch_10\">\r\n    <path clip-path=\"url(#pa146539e56)\" d=\"M 275.238352 239.758125 \r\nL 305.674716 239.758125 \r\nL 305.674716 237.219421 \r\nL 275.238352 237.219421 \r\nz\r\n\" style=\"fill:#ffa500;\"/>\r\n   </g>\r\n   <g id=\"patch_11\">\r\n    <path clip-path=\"url(#pa146539e56)\" d=\"M 305.674716 239.758125 \r\nL 336.11108 239.758125 \r\nL 336.11108 237.219421 \r\nL 305.674716 237.219421 \r\nz\r\n\" style=\"fill:#ffa500;\"/>\r\n   </g>\r\n   <g id=\"patch_12\">\r\n    <path clip-path=\"url(#pa146539e56)\" d=\"M 336.11108 239.758125 \r\nL 366.547443 239.758125 \r\nL 366.547443 239.032781 \r\nL 336.11108 239.032781 \r\nz\r\n\" style=\"fill:#ffa500;\"/>\r\n   </g>\r\n   <g id=\"matplotlib.axis_1\">\r\n    <g id=\"xtick_1\">\r\n     <g id=\"line2d_1\">\r\n      <defs>\r\n       <path d=\"M 0 0 \r\nL 0 3.5 \r\n\" id=\"mf362d44b10\" style=\"stroke:#000000;stroke-width:0.8;\"/>\r\n      </defs>\r\n      <g>\r\n       <use style=\"stroke:#000000;stroke-width:0.8;\" x=\"56.215892\" xlink:href=\"#mf362d44b10\" y=\"239.758125\"/>\r\n      </g>\r\n     </g>\r\n     <g id=\"text_1\">\r\n      <!-- 0 -->\r\n      <defs>\r\n       <path d=\"M 31.78125 66.40625 \r\nQ 24.171875 66.40625 20.328125 58.90625 \r\nQ 16.5 51.421875 16.5 36.375 \r\nQ 16.5 21.390625 20.328125 13.890625 \r\nQ 24.171875 6.390625 31.78125 6.390625 \r\nQ 39.453125 6.390625 43.28125 13.890625 \r\nQ 47.125 21.390625 47.125 36.375 \r\nQ 47.125 51.421875 43.28125 58.90625 \r\nQ 39.453125 66.40625 31.78125 66.40625 \r\nz\r\nM 31.78125 74.21875 \r\nQ 44.046875 74.21875 50.515625 64.515625 \r\nQ 56.984375 54.828125 56.984375 36.375 \r\nQ 56.984375 17.96875 50.515625 8.265625 \r\nQ 44.046875 -1.421875 31.78125 -1.421875 \r\nQ 19.53125 -1.421875 13.0625 8.265625 \r\nQ 6.59375 17.96875 6.59375 36.375 \r\nQ 6.59375 54.828125 13.0625 64.515625 \r\nQ 19.53125 74.21875 31.78125 74.21875 \r\nz\r\n\" id=\"DejaVuSans-48\"/>\r\n      </defs>\r\n      <g transform=\"translate(53.034642 254.356562)scale(0.1 -0.1)\">\r\n       <use xlink:href=\"#DejaVuSans-48\"/>\r\n      </g>\r\n     </g>\r\n    </g>\r\n    <g id=\"xtick_2\">\r\n     <g id=\"line2d_2\">\r\n      <g>\r\n       <use style=\"stroke:#000000;stroke-width:0.8;\" x=\"115.895037\" xlink:href=\"#mf362d44b10\" y=\"239.758125\"/>\r\n      </g>\r\n     </g>\r\n     <g id=\"text_2\">\r\n      <!-- 20 -->\r\n      <defs>\r\n       <path d=\"M 19.1875 8.296875 \r\nL 53.609375 8.296875 \r\nL 53.609375 0 \r\nL 7.328125 0 \r\nL 7.328125 8.296875 \r\nQ 12.9375 14.109375 22.625 23.890625 \r\nQ 32.328125 33.6875 34.8125 36.53125 \r\nQ 39.546875 41.84375 41.421875 45.53125 \r\nQ 43.3125 49.21875 43.3125 52.78125 \r\nQ 43.3125 58.59375 39.234375 62.25 \r\nQ 35.15625 65.921875 28.609375 65.921875 \r\nQ 23.96875 65.921875 18.8125 64.3125 \r\nQ 13.671875 62.703125 7.8125 59.421875 \r\nL 7.8125 69.390625 \r\nQ 13.765625 71.78125 18.9375 73 \r\nQ 24.125 74.21875 28.421875 74.21875 \r\nQ 39.75 74.21875 46.484375 68.546875 \r\nQ 53.21875 62.890625 53.21875 53.421875 \r\nQ 53.21875 48.921875 51.53125 44.890625 \r\nQ 49.859375 40.875 45.40625 35.40625 \r\nQ 44.1875 33.984375 37.640625 27.21875 \r\nQ 31.109375 20.453125 19.1875 8.296875 \r\nz\r\n\" id=\"DejaVuSans-50\"/>\r\n      </defs>\r\n      <g transform=\"translate(109.532537 254.356562)scale(0.1 -0.1)\">\r\n       <use xlink:href=\"#DejaVuSans-50\"/>\r\n       <use x=\"63.623047\" xlink:href=\"#DejaVuSans-48\"/>\r\n      </g>\r\n     </g>\r\n    </g>\r\n    <g id=\"xtick_3\">\r\n     <g id=\"line2d_3\">\r\n      <g>\r\n       <use style=\"stroke:#000000;stroke-width:0.8;\" x=\"175.574181\" xlink:href=\"#mf362d44b10\" y=\"239.758125\"/>\r\n      </g>\r\n     </g>\r\n     <g id=\"text_3\">\r\n      <!-- 40 -->\r\n      <defs>\r\n       <path d=\"M 37.796875 64.3125 \r\nL 12.890625 25.390625 \r\nL 37.796875 25.390625 \r\nz\r\nM 35.203125 72.90625 \r\nL 47.609375 72.90625 \r\nL 47.609375 25.390625 \r\nL 58.015625 25.390625 \r\nL 58.015625 17.1875 \r\nL 47.609375 17.1875 \r\nL 47.609375 0 \r\nL 37.796875 0 \r\nL 37.796875 17.1875 \r\nL 4.890625 17.1875 \r\nL 4.890625 26.703125 \r\nz\r\n\" id=\"DejaVuSans-52\"/>\r\n      </defs>\r\n      <g transform=\"translate(169.211681 254.356562)scale(0.1 -0.1)\">\r\n       <use xlink:href=\"#DejaVuSans-52\"/>\r\n       <use x=\"63.623047\" xlink:href=\"#DejaVuSans-48\"/>\r\n      </g>\r\n     </g>\r\n    </g>\r\n    <g id=\"xtick_4\">\r\n     <g id=\"line2d_4\">\r\n      <g>\r\n       <use style=\"stroke:#000000;stroke-width:0.8;\" x=\"235.253326\" xlink:href=\"#mf362d44b10\" y=\"239.758125\"/>\r\n      </g>\r\n     </g>\r\n     <g id=\"text_4\">\r\n      <!-- 60 -->\r\n      <defs>\r\n       <path d=\"M 33.015625 40.375 \r\nQ 26.375 40.375 22.484375 35.828125 \r\nQ 18.609375 31.296875 18.609375 23.390625 \r\nQ 18.609375 15.53125 22.484375 10.953125 \r\nQ 26.375 6.390625 33.015625 6.390625 \r\nQ 39.65625 6.390625 43.53125 10.953125 \r\nQ 47.40625 15.53125 47.40625 23.390625 \r\nQ 47.40625 31.296875 43.53125 35.828125 \r\nQ 39.65625 40.375 33.015625 40.375 \r\nz\r\nM 52.59375 71.296875 \r\nL 52.59375 62.3125 \r\nQ 48.875 64.0625 45.09375 64.984375 \r\nQ 41.3125 65.921875 37.59375 65.921875 \r\nQ 27.828125 65.921875 22.671875 59.328125 \r\nQ 17.53125 52.734375 16.796875 39.40625 \r\nQ 19.671875 43.65625 24.015625 45.921875 \r\nQ 28.375 48.1875 33.59375 48.1875 \r\nQ 44.578125 48.1875 50.953125 41.515625 \r\nQ 57.328125 34.859375 57.328125 23.390625 \r\nQ 57.328125 12.15625 50.6875 5.359375 \r\nQ 44.046875 -1.421875 33.015625 -1.421875 \r\nQ 20.359375 -1.421875 13.671875 8.265625 \r\nQ 6.984375 17.96875 6.984375 36.375 \r\nQ 6.984375 53.65625 15.1875 63.9375 \r\nQ 23.390625 74.21875 37.203125 74.21875 \r\nQ 40.921875 74.21875 44.703125 73.484375 \r\nQ 48.484375 72.75 52.59375 71.296875 \r\nz\r\n\" id=\"DejaVuSans-54\"/>\r\n      </defs>\r\n      <g transform=\"translate(228.890826 254.356562)scale(0.1 -0.1)\">\r\n       <use xlink:href=\"#DejaVuSans-54\"/>\r\n       <use x=\"63.623047\" xlink:href=\"#DejaVuSans-48\"/>\r\n      </g>\r\n     </g>\r\n    </g>\r\n    <g id=\"xtick_5\">\r\n     <g id=\"line2d_5\">\r\n      <g>\r\n       <use style=\"stroke:#000000;stroke-width:0.8;\" x=\"294.93247\" xlink:href=\"#mf362d44b10\" y=\"239.758125\"/>\r\n      </g>\r\n     </g>\r\n     <g id=\"text_5\">\r\n      <!-- 80 -->\r\n      <defs>\r\n       <path d=\"M 31.78125 34.625 \r\nQ 24.75 34.625 20.71875 30.859375 \r\nQ 16.703125 27.09375 16.703125 20.515625 \r\nQ 16.703125 13.921875 20.71875 10.15625 \r\nQ 24.75 6.390625 31.78125 6.390625 \r\nQ 38.8125 6.390625 42.859375 10.171875 \r\nQ 46.921875 13.96875 46.921875 20.515625 \r\nQ 46.921875 27.09375 42.890625 30.859375 \r\nQ 38.875 34.625 31.78125 34.625 \r\nz\r\nM 21.921875 38.8125 \r\nQ 15.578125 40.375 12.03125 44.71875 \r\nQ 8.5 49.078125 8.5 55.328125 \r\nQ 8.5 64.0625 14.71875 69.140625 \r\nQ 20.953125 74.21875 31.78125 74.21875 \r\nQ 42.671875 74.21875 48.875 69.140625 \r\nQ 55.078125 64.0625 55.078125 55.328125 \r\nQ 55.078125 49.078125 51.53125 44.71875 \r\nQ 48 40.375 41.703125 38.8125 \r\nQ 48.828125 37.15625 52.796875 32.3125 \r\nQ 56.78125 27.484375 56.78125 20.515625 \r\nQ 56.78125 9.90625 50.3125 4.234375 \r\nQ 43.84375 -1.421875 31.78125 -1.421875 \r\nQ 19.734375 -1.421875 13.25 4.234375 \r\nQ 6.78125 9.90625 6.78125 20.515625 \r\nQ 6.78125 27.484375 10.78125 32.3125 \r\nQ 14.796875 37.15625 21.921875 38.8125 \r\nz\r\nM 18.3125 54.390625 \r\nQ 18.3125 48.734375 21.84375 45.5625 \r\nQ 25.390625 42.390625 31.78125 42.390625 \r\nQ 38.140625 42.390625 41.71875 45.5625 \r\nQ 45.3125 48.734375 45.3125 54.390625 \r\nQ 45.3125 60.0625 41.71875 63.234375 \r\nQ 38.140625 66.40625 31.78125 66.40625 \r\nQ 25.390625 66.40625 21.84375 63.234375 \r\nQ 18.3125 60.0625 18.3125 54.390625 \r\nz\r\n\" id=\"DejaVuSans-56\"/>\r\n      </defs>\r\n      <g transform=\"translate(288.56997 254.356562)scale(0.1 -0.1)\">\r\n       <use xlink:href=\"#DejaVuSans-56\"/>\r\n       <use x=\"63.623047\" xlink:href=\"#DejaVuSans-48\"/>\r\n      </g>\r\n     </g>\r\n    </g>\r\n    <g id=\"xtick_6\">\r\n     <g id=\"line2d_6\">\r\n      <g>\r\n       <use style=\"stroke:#000000;stroke-width:0.8;\" x=\"354.611614\" xlink:href=\"#mf362d44b10\" y=\"239.758125\"/>\r\n      </g>\r\n     </g>\r\n     <g id=\"text_6\">\r\n      <!-- 100 -->\r\n      <defs>\r\n       <path d=\"M 12.40625 8.296875 \r\nL 28.515625 8.296875 \r\nL 28.515625 63.921875 \r\nL 10.984375 60.40625 \r\nL 10.984375 69.390625 \r\nL 28.421875 72.90625 \r\nL 38.28125 72.90625 \r\nL 38.28125 8.296875 \r\nL 54.390625 8.296875 \r\nL 54.390625 0 \r\nL 12.40625 0 \r\nz\r\n\" id=\"DejaVuSans-49\"/>\r\n      </defs>\r\n      <g transform=\"translate(345.067864 254.356562)scale(0.1 -0.1)\">\r\n       <use xlink:href=\"#DejaVuSans-49\"/>\r\n       <use x=\"63.623047\" xlink:href=\"#DejaVuSans-48\"/>\r\n       <use x=\"127.246094\" xlink:href=\"#DejaVuSans-48\"/>\r\n      </g>\r\n     </g>\r\n    </g>\r\n    <g id=\"text_7\">\r\n     <!-- Sentence Length (Number of Words in a Sentence) -->\r\n     <defs>\r\n      <path d=\"M 53.515625 70.515625 \r\nL 53.515625 60.890625 \r\nQ 47.90625 63.578125 42.921875 64.890625 \r\nQ 37.9375 66.21875 33.296875 66.21875 \r\nQ 25.25 66.21875 20.875 63.09375 \r\nQ 16.5 59.96875 16.5 54.203125 \r\nQ 16.5 49.359375 19.40625 46.890625 \r\nQ 22.3125 44.4375 30.421875 42.921875 \r\nL 36.375 41.703125 \r\nQ 47.40625 39.59375 52.65625 34.296875 \r\nQ 57.90625 29 57.90625 20.125 \r\nQ 57.90625 9.515625 50.796875 4.046875 \r\nQ 43.703125 -1.421875 29.984375 -1.421875 \r\nQ 24.8125 -1.421875 18.96875 -0.25 \r\nQ 13.140625 0.921875 6.890625 3.21875 \r\nL 6.890625 13.375 \r\nQ 12.890625 10.015625 18.65625 8.296875 \r\nQ 24.421875 6.59375 29.984375 6.59375 \r\nQ 38.421875 6.59375 43.015625 9.90625 \r\nQ 47.609375 13.234375 47.609375 19.390625 \r\nQ 47.609375 24.75 44.3125 27.78125 \r\nQ 41.015625 30.8125 33.5 32.328125 \r\nL 27.484375 33.5 \r\nQ 16.453125 35.6875 11.515625 40.375 \r\nQ 6.59375 45.0625 6.59375 53.421875 \r\nQ 6.59375 63.09375 13.40625 68.65625 \r\nQ 20.21875 74.21875 32.171875 74.21875 \r\nQ 37.3125 74.21875 42.625 73.28125 \r\nQ 47.953125 72.359375 53.515625 70.515625 \r\nz\r\n\" id=\"DejaVuSans-83\"/>\r\n      <path d=\"M 56.203125 29.59375 \r\nL 56.203125 25.203125 \r\nL 14.890625 25.203125 \r\nQ 15.484375 15.921875 20.484375 11.0625 \r\nQ 25.484375 6.203125 34.421875 6.203125 \r\nQ 39.59375 6.203125 44.453125 7.46875 \r\nQ 49.3125 8.734375 54.109375 11.28125 \r\nL 54.109375 2.78125 \r\nQ 49.265625 0.734375 44.1875 -0.34375 \r\nQ 39.109375 -1.421875 33.890625 -1.421875 \r\nQ 20.796875 -1.421875 13.15625 6.1875 \r\nQ 5.515625 13.8125 5.515625 26.8125 \r\nQ 5.515625 40.234375 12.765625 48.109375 \r\nQ 20.015625 56 32.328125 56 \r\nQ 43.359375 56 49.78125 48.890625 \r\nQ 56.203125 41.796875 56.203125 29.59375 \r\nz\r\nM 47.21875 32.234375 \r\nQ 47.125 39.59375 43.09375 43.984375 \r\nQ 39.0625 48.390625 32.421875 48.390625 \r\nQ 24.90625 48.390625 20.390625 44.140625 \r\nQ 15.875 39.890625 15.1875 32.171875 \r\nz\r\n\" id=\"DejaVuSans-101\"/>\r\n      <path d=\"M 54.890625 33.015625 \r\nL 54.890625 0 \r\nL 45.90625 0 \r\nL 45.90625 32.71875 \r\nQ 45.90625 40.484375 42.875 44.328125 \r\nQ 39.84375 48.1875 33.796875 48.1875 \r\nQ 26.515625 48.1875 22.3125 43.546875 \r\nQ 18.109375 38.921875 18.109375 30.90625 \r\nL 18.109375 0 \r\nL 9.078125 0 \r\nL 9.078125 54.6875 \r\nL 18.109375 54.6875 \r\nL 18.109375 46.1875 \r\nQ 21.34375 51.125 25.703125 53.5625 \r\nQ 30.078125 56 35.796875 56 \r\nQ 45.21875 56 50.046875 50.171875 \r\nQ 54.890625 44.34375 54.890625 33.015625 \r\nz\r\n\" id=\"DejaVuSans-110\"/>\r\n      <path d=\"M 18.3125 70.21875 \r\nL 18.3125 54.6875 \r\nL 36.8125 54.6875 \r\nL 36.8125 47.703125 \r\nL 18.3125 47.703125 \r\nL 18.3125 18.015625 \r\nQ 18.3125 11.328125 20.140625 9.421875 \r\nQ 21.96875 7.515625 27.59375 7.515625 \r\nL 36.8125 7.515625 \r\nL 36.8125 0 \r\nL 27.59375 0 \r\nQ 17.1875 0 13.234375 3.875 \r\nQ 9.28125 7.765625 9.28125 18.015625 \r\nL 9.28125 47.703125 \r\nL 2.6875 47.703125 \r\nL 2.6875 54.6875 \r\nL 9.28125 54.6875 \r\nL 9.28125 70.21875 \r\nz\r\n\" id=\"DejaVuSans-116\"/>\r\n      <path d=\"M 48.78125 52.59375 \r\nL 48.78125 44.1875 \r\nQ 44.96875 46.296875 41.140625 47.34375 \r\nQ 37.3125 48.390625 33.40625 48.390625 \r\nQ 24.65625 48.390625 19.8125 42.84375 \r\nQ 14.984375 37.3125 14.984375 27.296875 \r\nQ 14.984375 17.28125 19.8125 11.734375 \r\nQ 24.65625 6.203125 33.40625 6.203125 \r\nQ 37.3125 6.203125 41.140625 7.25 \r\nQ 44.96875 8.296875 48.78125 10.40625 \r\nL 48.78125 2.09375 \r\nQ 45.015625 0.34375 40.984375 -0.53125 \r\nQ 36.96875 -1.421875 32.421875 -1.421875 \r\nQ 20.0625 -1.421875 12.78125 6.34375 \r\nQ 5.515625 14.109375 5.515625 27.296875 \r\nQ 5.515625 40.671875 12.859375 48.328125 \r\nQ 20.21875 56 33.015625 56 \r\nQ 37.15625 56 41.109375 55.140625 \r\nQ 45.0625 54.296875 48.78125 52.59375 \r\nz\r\n\" id=\"DejaVuSans-99\"/>\r\n      <path id=\"DejaVuSans-32\"/>\r\n      <path d=\"M 9.8125 72.90625 \r\nL 19.671875 72.90625 \r\nL 19.671875 8.296875 \r\nL 55.171875 8.296875 \r\nL 55.171875 0 \r\nL 9.8125 0 \r\nz\r\n\" id=\"DejaVuSans-76\"/>\r\n      <path d=\"M 45.40625 27.984375 \r\nQ 45.40625 37.75 41.375 43.109375 \r\nQ 37.359375 48.484375 30.078125 48.484375 \r\nQ 22.859375 48.484375 18.828125 43.109375 \r\nQ 14.796875 37.75 14.796875 27.984375 \r\nQ 14.796875 18.265625 18.828125 12.890625 \r\nQ 22.859375 7.515625 30.078125 7.515625 \r\nQ 37.359375 7.515625 41.375 12.890625 \r\nQ 45.40625 18.265625 45.40625 27.984375 \r\nz\r\nM 54.390625 6.78125 \r\nQ 54.390625 -7.171875 48.1875 -13.984375 \r\nQ 42 -20.796875 29.203125 -20.796875 \r\nQ 24.46875 -20.796875 20.265625 -20.09375 \r\nQ 16.0625 -19.390625 12.109375 -17.921875 \r\nL 12.109375 -9.1875 \r\nQ 16.0625 -11.328125 19.921875 -12.34375 \r\nQ 23.78125 -13.375 27.78125 -13.375 \r\nQ 36.625 -13.375 41.015625 -8.765625 \r\nQ 45.40625 -4.15625 45.40625 5.171875 \r\nL 45.40625 9.625 \r\nQ 42.625 4.78125 38.28125 2.390625 \r\nQ 33.9375 0 27.875 0 \r\nQ 17.828125 0 11.671875 7.65625 \r\nQ 5.515625 15.328125 5.515625 27.984375 \r\nQ 5.515625 40.671875 11.671875 48.328125 \r\nQ 17.828125 56 27.875 56 \r\nQ 33.9375 56 38.28125 53.609375 \r\nQ 42.625 51.21875 45.40625 46.390625 \r\nL 45.40625 54.6875 \r\nL 54.390625 54.6875 \r\nz\r\n\" id=\"DejaVuSans-103\"/>\r\n      <path d=\"M 54.890625 33.015625 \r\nL 54.890625 0 \r\nL 45.90625 0 \r\nL 45.90625 32.71875 \r\nQ 45.90625 40.484375 42.875 44.328125 \r\nQ 39.84375 48.1875 33.796875 48.1875 \r\nQ 26.515625 48.1875 22.3125 43.546875 \r\nQ 18.109375 38.921875 18.109375 30.90625 \r\nL 18.109375 0 \r\nL 9.078125 0 \r\nL 9.078125 75.984375 \r\nL 18.109375 75.984375 \r\nL 18.109375 46.1875 \r\nQ 21.34375 51.125 25.703125 53.5625 \r\nQ 30.078125 56 35.796875 56 \r\nQ 45.21875 56 50.046875 50.171875 \r\nQ 54.890625 44.34375 54.890625 33.015625 \r\nz\r\n\" id=\"DejaVuSans-104\"/>\r\n      <path d=\"M 31 75.875 \r\nQ 24.46875 64.65625 21.28125 53.65625 \r\nQ 18.109375 42.671875 18.109375 31.390625 \r\nQ 18.109375 20.125 21.3125 9.0625 \r\nQ 24.515625 -2 31 -13.1875 \r\nL 23.1875 -13.1875 \r\nQ 15.875 -1.703125 12.234375 9.375 \r\nQ 8.59375 20.453125 8.59375 31.390625 \r\nQ 8.59375 42.28125 12.203125 53.3125 \r\nQ 15.828125 64.359375 23.1875 75.875 \r\nz\r\n\" id=\"DejaVuSans-40\"/>\r\n      <path d=\"M 9.8125 72.90625 \r\nL 23.09375 72.90625 \r\nL 55.421875 11.921875 \r\nL 55.421875 72.90625 \r\nL 64.984375 72.90625 \r\nL 64.984375 0 \r\nL 51.703125 0 \r\nL 19.390625 60.984375 \r\nL 19.390625 0 \r\nL 9.8125 0 \r\nz\r\n\" id=\"DejaVuSans-78\"/>\r\n      <path d=\"M 8.5 21.578125 \r\nL 8.5 54.6875 \r\nL 17.484375 54.6875 \r\nL 17.484375 21.921875 \r\nQ 17.484375 14.15625 20.5 10.265625 \r\nQ 23.53125 6.390625 29.59375 6.390625 \r\nQ 36.859375 6.390625 41.078125 11.03125 \r\nQ 45.3125 15.671875 45.3125 23.6875 \r\nL 45.3125 54.6875 \r\nL 54.296875 54.6875 \r\nL 54.296875 0 \r\nL 45.3125 0 \r\nL 45.3125 8.40625 \r\nQ 42.046875 3.421875 37.71875 1 \r\nQ 33.40625 -1.421875 27.6875 -1.421875 \r\nQ 18.265625 -1.421875 13.375 4.4375 \r\nQ 8.5 10.296875 8.5 21.578125 \r\nz\r\nM 31.109375 56 \r\nz\r\n\" id=\"DejaVuSans-117\"/>\r\n      <path d=\"M 52 44.1875 \r\nQ 55.375 50.25 60.0625 53.125 \r\nQ 64.75 56 71.09375 56 \r\nQ 79.640625 56 84.28125 50.015625 \r\nQ 88.921875 44.046875 88.921875 33.015625 \r\nL 88.921875 0 \r\nL 79.890625 0 \r\nL 79.890625 32.71875 \r\nQ 79.890625 40.578125 77.09375 44.375 \r\nQ 74.3125 48.1875 68.609375 48.1875 \r\nQ 61.625 48.1875 57.5625 43.546875 \r\nQ 53.515625 38.921875 53.515625 30.90625 \r\nL 53.515625 0 \r\nL 44.484375 0 \r\nL 44.484375 32.71875 \r\nQ 44.484375 40.625 41.703125 44.40625 \r\nQ 38.921875 48.1875 33.109375 48.1875 \r\nQ 26.21875 48.1875 22.15625 43.53125 \r\nQ 18.109375 38.875 18.109375 30.90625 \r\nL 18.109375 0 \r\nL 9.078125 0 \r\nL 9.078125 54.6875 \r\nL 18.109375 54.6875 \r\nL 18.109375 46.1875 \r\nQ 21.1875 51.21875 25.484375 53.609375 \r\nQ 29.78125 56 35.6875 56 \r\nQ 41.65625 56 45.828125 52.96875 \r\nQ 50 49.953125 52 44.1875 \r\nz\r\n\" id=\"DejaVuSans-109\"/>\r\n      <path d=\"M 48.6875 27.296875 \r\nQ 48.6875 37.203125 44.609375 42.84375 \r\nQ 40.53125 48.484375 33.40625 48.484375 \r\nQ 26.265625 48.484375 22.1875 42.84375 \r\nQ 18.109375 37.203125 18.109375 27.296875 \r\nQ 18.109375 17.390625 22.1875 11.75 \r\nQ 26.265625 6.109375 33.40625 6.109375 \r\nQ 40.53125 6.109375 44.609375 11.75 \r\nQ 48.6875 17.390625 48.6875 27.296875 \r\nz\r\nM 18.109375 46.390625 \r\nQ 20.953125 51.265625 25.265625 53.625 \r\nQ 29.59375 56 35.59375 56 \r\nQ 45.5625 56 51.78125 48.09375 \r\nQ 58.015625 40.1875 58.015625 27.296875 \r\nQ 58.015625 14.40625 51.78125 6.484375 \r\nQ 45.5625 -1.421875 35.59375 -1.421875 \r\nQ 29.59375 -1.421875 25.265625 0.953125 \r\nQ 20.953125 3.328125 18.109375 8.203125 \r\nL 18.109375 0 \r\nL 9.078125 0 \r\nL 9.078125 75.984375 \r\nL 18.109375 75.984375 \r\nz\r\n\" id=\"DejaVuSans-98\"/>\r\n      <path d=\"M 41.109375 46.296875 \r\nQ 39.59375 47.171875 37.8125 47.578125 \r\nQ 36.03125 48 33.890625 48 \r\nQ 26.265625 48 22.1875 43.046875 \r\nQ 18.109375 38.09375 18.109375 28.8125 \r\nL 18.109375 0 \r\nL 9.078125 0 \r\nL 9.078125 54.6875 \r\nL 18.109375 54.6875 \r\nL 18.109375 46.1875 \r\nQ 20.953125 51.171875 25.484375 53.578125 \r\nQ 30.03125 56 36.53125 56 \r\nQ 37.453125 56 38.578125 55.875 \r\nQ 39.703125 55.765625 41.0625 55.515625 \r\nz\r\n\" id=\"DejaVuSans-114\"/>\r\n      <path d=\"M 30.609375 48.390625 \r\nQ 23.390625 48.390625 19.1875 42.75 \r\nQ 14.984375 37.109375 14.984375 27.296875 \r\nQ 14.984375 17.484375 19.15625 11.84375 \r\nQ 23.34375 6.203125 30.609375 6.203125 \r\nQ 37.796875 6.203125 41.984375 11.859375 \r\nQ 46.1875 17.53125 46.1875 27.296875 \r\nQ 46.1875 37.015625 41.984375 42.703125 \r\nQ 37.796875 48.390625 30.609375 48.390625 \r\nz\r\nM 30.609375 56 \r\nQ 42.328125 56 49.015625 48.375 \r\nQ 55.71875 40.765625 55.71875 27.296875 \r\nQ 55.71875 13.875 49.015625 6.21875 \r\nQ 42.328125 -1.421875 30.609375 -1.421875 \r\nQ 18.84375 -1.421875 12.171875 6.21875 \r\nQ 5.515625 13.875 5.515625 27.296875 \r\nQ 5.515625 40.765625 12.171875 48.375 \r\nQ 18.84375 56 30.609375 56 \r\nz\r\n\" id=\"DejaVuSans-111\"/>\r\n      <path d=\"M 37.109375 75.984375 \r\nL 37.109375 68.5 \r\nL 28.515625 68.5 \r\nQ 23.6875 68.5 21.796875 66.546875 \r\nQ 19.921875 64.59375 19.921875 59.515625 \r\nL 19.921875 54.6875 \r\nL 34.71875 54.6875 \r\nL 34.71875 47.703125 \r\nL 19.921875 47.703125 \r\nL 19.921875 0 \r\nL 10.890625 0 \r\nL 10.890625 47.703125 \r\nL 2.296875 47.703125 \r\nL 2.296875 54.6875 \r\nL 10.890625 54.6875 \r\nL 10.890625 58.5 \r\nQ 10.890625 67.625 15.140625 71.796875 \r\nQ 19.390625 75.984375 28.609375 75.984375 \r\nz\r\n\" id=\"DejaVuSans-102\"/>\r\n      <path d=\"M 3.328125 72.90625 \r\nL 13.28125 72.90625 \r\nL 28.609375 11.28125 \r\nL 43.890625 72.90625 \r\nL 54.984375 72.90625 \r\nL 70.3125 11.28125 \r\nL 85.59375 72.90625 \r\nL 95.609375 72.90625 \r\nL 77.296875 0 \r\nL 64.890625 0 \r\nL 49.515625 63.28125 \r\nL 33.984375 0 \r\nL 21.578125 0 \r\nz\r\n\" id=\"DejaVuSans-87\"/>\r\n      <path d=\"M 45.40625 46.390625 \r\nL 45.40625 75.984375 \r\nL 54.390625 75.984375 \r\nL 54.390625 0 \r\nL 45.40625 0 \r\nL 45.40625 8.203125 \r\nQ 42.578125 3.328125 38.25 0.953125 \r\nQ 33.9375 -1.421875 27.875 -1.421875 \r\nQ 17.96875 -1.421875 11.734375 6.484375 \r\nQ 5.515625 14.40625 5.515625 27.296875 \r\nQ 5.515625 40.1875 11.734375 48.09375 \r\nQ 17.96875 56 27.875 56 \r\nQ 33.9375 56 38.25 53.625 \r\nQ 42.578125 51.265625 45.40625 46.390625 \r\nz\r\nM 14.796875 27.296875 \r\nQ 14.796875 17.390625 18.875 11.75 \r\nQ 22.953125 6.109375 30.078125 6.109375 \r\nQ 37.203125 6.109375 41.296875 11.75 \r\nQ 45.40625 17.390625 45.40625 27.296875 \r\nQ 45.40625 37.203125 41.296875 42.84375 \r\nQ 37.203125 48.484375 30.078125 48.484375 \r\nQ 22.953125 48.484375 18.875 42.84375 \r\nQ 14.796875 37.203125 14.796875 27.296875 \r\nz\r\n\" id=\"DejaVuSans-100\"/>\r\n      <path d=\"M 44.28125 53.078125 \r\nL 44.28125 44.578125 \r\nQ 40.484375 46.53125 36.375 47.5 \r\nQ 32.28125 48.484375 27.875 48.484375 \r\nQ 21.1875 48.484375 17.84375 46.4375 \r\nQ 14.5 44.390625 14.5 40.28125 \r\nQ 14.5 37.15625 16.890625 35.375 \r\nQ 19.28125 33.59375 26.515625 31.984375 \r\nL 29.59375 31.296875 \r\nQ 39.15625 29.25 43.1875 25.515625 \r\nQ 47.21875 21.78125 47.21875 15.09375 \r\nQ 47.21875 7.46875 41.1875 3.015625 \r\nQ 35.15625 -1.421875 24.609375 -1.421875 \r\nQ 20.21875 -1.421875 15.453125 -0.5625 \r\nQ 10.6875 0.296875 5.421875 2 \r\nL 5.421875 11.28125 \r\nQ 10.40625 8.6875 15.234375 7.390625 \r\nQ 20.0625 6.109375 24.8125 6.109375 \r\nQ 31.15625 6.109375 34.5625 8.28125 \r\nQ 37.984375 10.453125 37.984375 14.40625 \r\nQ 37.984375 18.0625 35.515625 20.015625 \r\nQ 33.0625 21.96875 24.703125 23.78125 \r\nL 21.578125 24.515625 \r\nQ 13.234375 26.265625 9.515625 29.90625 \r\nQ 5.8125 33.546875 5.8125 39.890625 \r\nQ 5.8125 47.609375 11.28125 51.796875 \r\nQ 16.75 56 26.8125 56 \r\nQ 31.78125 56 36.171875 55.265625 \r\nQ 40.578125 54.546875 44.28125 53.078125 \r\nz\r\n\" id=\"DejaVuSans-115\"/>\r\n      <path d=\"M 9.421875 54.6875 \r\nL 18.40625 54.6875 \r\nL 18.40625 0 \r\nL 9.421875 0 \r\nz\r\nM 9.421875 75.984375 \r\nL 18.40625 75.984375 \r\nL 18.40625 64.59375 \r\nL 9.421875 64.59375 \r\nz\r\n\" id=\"DejaVuSans-105\"/>\r\n      <path d=\"M 34.28125 27.484375 \r\nQ 23.390625 27.484375 19.1875 25 \r\nQ 14.984375 22.515625 14.984375 16.5 \r\nQ 14.984375 11.71875 18.140625 8.90625 \r\nQ 21.296875 6.109375 26.703125 6.109375 \r\nQ 34.1875 6.109375 38.703125 11.40625 \r\nQ 43.21875 16.703125 43.21875 25.484375 \r\nL 43.21875 27.484375 \r\nz\r\nM 52.203125 31.203125 \r\nL 52.203125 0 \r\nL 43.21875 0 \r\nL 43.21875 8.296875 \r\nQ 40.140625 3.328125 35.546875 0.953125 \r\nQ 30.953125 -1.421875 24.3125 -1.421875 \r\nQ 15.921875 -1.421875 10.953125 3.296875 \r\nQ 6 8.015625 6 15.921875 \r\nQ 6 25.140625 12.171875 29.828125 \r\nQ 18.359375 34.515625 30.609375 34.515625 \r\nL 43.21875 34.515625 \r\nL 43.21875 35.40625 \r\nQ 43.21875 41.609375 39.140625 45 \r\nQ 35.0625 48.390625 27.6875 48.390625 \r\nQ 23 48.390625 18.546875 47.265625 \r\nQ 14.109375 46.140625 10.015625 43.890625 \r\nL 10.015625 52.203125 \r\nQ 14.9375 54.109375 19.578125 55.046875 \r\nQ 24.21875 56 28.609375 56 \r\nQ 40.484375 56 46.34375 49.84375 \r\nQ 52.203125 43.703125 52.203125 31.203125 \r\nz\r\n\" id=\"DejaVuSans-97\"/>\r\n      <path d=\"M 8.015625 75.875 \r\nL 15.828125 75.875 \r\nQ 23.140625 64.359375 26.78125 53.3125 \r\nQ 30.421875 42.28125 30.421875 31.390625 \r\nQ 30.421875 20.453125 26.78125 9.375 \r\nQ 23.140625 -1.703125 15.828125 -13.1875 \r\nL 8.015625 -13.1875 \r\nQ 14.5 -2 17.703125 9.0625 \r\nQ 20.90625 20.125 20.90625 31.390625 \r\nQ 20.90625 42.671875 17.703125 53.65625 \r\nQ 14.5 64.65625 8.015625 75.875 \r\nz\r\n\" id=\"DejaVuSans-41\"/>\r\n     </defs>\r\n     <g transform=\"translate(86.745313 268.034687)scale(0.1 -0.1)\">\r\n      <use xlink:href=\"#DejaVuSans-83\"/>\r\n      <use x=\"63.476562\" xlink:href=\"#DejaVuSans-101\"/>\r\n      <use x=\"125\" xlink:href=\"#DejaVuSans-110\"/>\r\n      <use x=\"188.378906\" xlink:href=\"#DejaVuSans-116\"/>\r\n      <use x=\"227.587891\" xlink:href=\"#DejaVuSans-101\"/>\r\n      <use x=\"289.111328\" xlink:href=\"#DejaVuSans-110\"/>\r\n      <use x=\"352.490234\" xlink:href=\"#DejaVuSans-99\"/>\r\n      <use x=\"407.470703\" xlink:href=\"#DejaVuSans-101\"/>\r\n      <use x=\"468.994141\" xlink:href=\"#DejaVuSans-32\"/>\r\n      <use x=\"500.78125\" xlink:href=\"#DejaVuSans-76\"/>\r\n      <use x=\"556.478516\" xlink:href=\"#DejaVuSans-101\"/>\r\n      <use x=\"618.001953\" xlink:href=\"#DejaVuSans-110\"/>\r\n      <use x=\"681.380859\" xlink:href=\"#DejaVuSans-103\"/>\r\n      <use x=\"744.857422\" xlink:href=\"#DejaVuSans-116\"/>\r\n      <use x=\"784.066406\" xlink:href=\"#DejaVuSans-104\"/>\r\n      <use x=\"847.445312\" xlink:href=\"#DejaVuSans-32\"/>\r\n      <use x=\"879.232422\" xlink:href=\"#DejaVuSans-40\"/>\r\n      <use x=\"918.246094\" xlink:href=\"#DejaVuSans-78\"/>\r\n      <use x=\"993.050781\" xlink:href=\"#DejaVuSans-117\"/>\r\n      <use x=\"1056.429688\" xlink:href=\"#DejaVuSans-109\"/>\r\n      <use x=\"1153.841797\" xlink:href=\"#DejaVuSans-98\"/>\r\n      <use x=\"1217.318359\" xlink:href=\"#DejaVuSans-101\"/>\r\n      <use x=\"1278.841797\" xlink:href=\"#DejaVuSans-114\"/>\r\n      <use x=\"1319.955078\" xlink:href=\"#DejaVuSans-32\"/>\r\n      <use x=\"1351.742188\" xlink:href=\"#DejaVuSans-111\"/>\r\n      <use x=\"1412.923828\" xlink:href=\"#DejaVuSans-102\"/>\r\n      <use x=\"1448.128906\" xlink:href=\"#DejaVuSans-32\"/>\r\n      <use x=\"1479.916016\" xlink:href=\"#DejaVuSans-87\"/>\r\n      <use x=\"1578.714844\" xlink:href=\"#DejaVuSans-111\"/>\r\n      <use x=\"1639.896484\" xlink:href=\"#DejaVuSans-114\"/>\r\n      <use x=\"1680.994141\" xlink:href=\"#DejaVuSans-100\"/>\r\n      <use x=\"1744.470703\" xlink:href=\"#DejaVuSans-115\"/>\r\n      <use x=\"1796.570312\" xlink:href=\"#DejaVuSans-32\"/>\r\n      <use x=\"1828.357422\" xlink:href=\"#DejaVuSans-105\"/>\r\n      <use x=\"1856.140625\" xlink:href=\"#DejaVuSans-110\"/>\r\n      <use x=\"1919.519531\" xlink:href=\"#DejaVuSans-32\"/>\r\n      <use x=\"1951.306641\" xlink:href=\"#DejaVuSans-97\"/>\r\n      <use x=\"2012.585938\" xlink:href=\"#DejaVuSans-32\"/>\r\n      <use x=\"2044.373047\" xlink:href=\"#DejaVuSans-83\"/>\r\n      <use x=\"2107.849609\" xlink:href=\"#DejaVuSans-101\"/>\r\n      <use x=\"2169.373047\" xlink:href=\"#DejaVuSans-110\"/>\r\n      <use x=\"2232.751953\" xlink:href=\"#DejaVuSans-116\"/>\r\n      <use x=\"2271.960938\" xlink:href=\"#DejaVuSans-101\"/>\r\n      <use x=\"2333.484375\" xlink:href=\"#DejaVuSans-110\"/>\r\n      <use x=\"2396.863281\" xlink:href=\"#DejaVuSans-99\"/>\r\n      <use x=\"2451.84375\" xlink:href=\"#DejaVuSans-101\"/>\r\n      <use x=\"2513.367188\" xlink:href=\"#DejaVuSans-41\"/>\r\n     </g>\r\n    </g>\r\n   </g>\r\n   <g id=\"matplotlib.axis_2\">\r\n    <g id=\"ytick_1\">\r\n     <g id=\"line2d_7\">\r\n      <defs>\r\n       <path d=\"M 0 0 \r\nL -3.5 0 \r\n\" id=\"m06c474e5e7\" style=\"stroke:#000000;stroke-width:0.8;\"/>\r\n      </defs>\r\n      <g>\r\n       <use style=\"stroke:#000000;stroke-width:0.8;\" x=\"46.965625\" xlink:href=\"#m06c474e5e7\" y=\"239.758125\"/>\r\n      </g>\r\n     </g>\r\n     <g id=\"text_8\">\r\n      <!-- 0 -->\r\n      <g transform=\"translate(33.603125 243.557344)scale(0.1 -0.1)\">\r\n       <use xlink:href=\"#DejaVuSans-48\"/>\r\n      </g>\r\n     </g>\r\n    </g>\r\n    <g id=\"ytick_2\">\r\n     <g id=\"line2d_8\">\r\n      <g>\r\n       <use style=\"stroke:#000000;stroke-width:0.8;\" x=\"46.965625\" xlink:href=\"#m06c474e5e7\" y=\"203.490925\"/>\r\n      </g>\r\n     </g>\r\n     <g id=\"text_9\">\r\n      <!-- 100 -->\r\n      <g transform=\"translate(20.878125 207.290143)scale(0.1 -0.1)\">\r\n       <use xlink:href=\"#DejaVuSans-49\"/>\r\n       <use x=\"63.623047\" xlink:href=\"#DejaVuSans-48\"/>\r\n       <use x=\"127.246094\" xlink:href=\"#DejaVuSans-48\"/>\r\n      </g>\r\n     </g>\r\n    </g>\r\n    <g id=\"ytick_3\">\r\n     <g id=\"line2d_9\">\r\n      <g>\r\n       <use style=\"stroke:#000000;stroke-width:0.8;\" x=\"46.965625\" xlink:href=\"#m06c474e5e7\" y=\"167.223724\"/>\r\n      </g>\r\n     </g>\r\n     <g id=\"text_10\">\r\n      <!-- 200 -->\r\n      <g transform=\"translate(20.878125 171.022943)scale(0.1 -0.1)\">\r\n       <use xlink:href=\"#DejaVuSans-50\"/>\r\n       <use x=\"63.623047\" xlink:href=\"#DejaVuSans-48\"/>\r\n       <use x=\"127.246094\" xlink:href=\"#DejaVuSans-48\"/>\r\n      </g>\r\n     </g>\r\n    </g>\r\n    <g id=\"ytick_4\">\r\n     <g id=\"line2d_10\">\r\n      <g>\r\n       <use style=\"stroke:#000000;stroke-width:0.8;\" x=\"46.965625\" xlink:href=\"#m06c474e5e7\" y=\"130.956524\"/>\r\n      </g>\r\n     </g>\r\n     <g id=\"text_11\">\r\n      <!-- 300 -->\r\n      <defs>\r\n       <path d=\"M 40.578125 39.3125 \r\nQ 47.65625 37.796875 51.625 33 \r\nQ 55.609375 28.21875 55.609375 21.1875 \r\nQ 55.609375 10.40625 48.1875 4.484375 \r\nQ 40.765625 -1.421875 27.09375 -1.421875 \r\nQ 22.515625 -1.421875 17.65625 -0.515625 \r\nQ 12.796875 0.390625 7.625 2.203125 \r\nL 7.625 11.71875 \r\nQ 11.71875 9.328125 16.59375 8.109375 \r\nQ 21.484375 6.890625 26.8125 6.890625 \r\nQ 36.078125 6.890625 40.9375 10.546875 \r\nQ 45.796875 14.203125 45.796875 21.1875 \r\nQ 45.796875 27.640625 41.28125 31.265625 \r\nQ 36.765625 34.90625 28.71875 34.90625 \r\nL 20.21875 34.90625 \r\nL 20.21875 43.015625 \r\nL 29.109375 43.015625 \r\nQ 36.375 43.015625 40.234375 45.921875 \r\nQ 44.09375 48.828125 44.09375 54.296875 \r\nQ 44.09375 59.90625 40.109375 62.90625 \r\nQ 36.140625 65.921875 28.71875 65.921875 \r\nQ 24.65625 65.921875 20.015625 65.03125 \r\nQ 15.375 64.15625 9.8125 62.3125 \r\nL 9.8125 71.09375 \r\nQ 15.4375 72.65625 20.34375 73.4375 \r\nQ 25.25 74.21875 29.59375 74.21875 \r\nQ 40.828125 74.21875 47.359375 69.109375 \r\nQ 53.90625 64.015625 53.90625 55.328125 \r\nQ 53.90625 49.265625 50.4375 45.09375 \r\nQ 46.96875 40.921875 40.578125 39.3125 \r\nz\r\n\" id=\"DejaVuSans-51\"/>\r\n      </defs>\r\n      <g transform=\"translate(20.878125 134.755743)scale(0.1 -0.1)\">\r\n       <use xlink:href=\"#DejaVuSans-51\"/>\r\n       <use x=\"63.623047\" xlink:href=\"#DejaVuSans-48\"/>\r\n       <use x=\"127.246094\" xlink:href=\"#DejaVuSans-48\"/>\r\n      </g>\r\n     </g>\r\n    </g>\r\n    <g id=\"ytick_5\">\r\n     <g id=\"line2d_11\">\r\n      <g>\r\n       <use style=\"stroke:#000000;stroke-width:0.8;\" x=\"46.965625\" xlink:href=\"#m06c474e5e7\" y=\"94.689323\"/>\r\n      </g>\r\n     </g>\r\n     <g id=\"text_12\">\r\n      <!-- 400 -->\r\n      <g transform=\"translate(20.878125 98.488542)scale(0.1 -0.1)\">\r\n       <use xlink:href=\"#DejaVuSans-52\"/>\r\n       <use x=\"63.623047\" xlink:href=\"#DejaVuSans-48\"/>\r\n       <use x=\"127.246094\" xlink:href=\"#DejaVuSans-48\"/>\r\n      </g>\r\n     </g>\r\n    </g>\r\n    <g id=\"ytick_6\">\r\n     <g id=\"line2d_12\">\r\n      <g>\r\n       <use style=\"stroke:#000000;stroke-width:0.8;\" x=\"46.965625\" xlink:href=\"#m06c474e5e7\" y=\"58.422123\"/>\r\n      </g>\r\n     </g>\r\n     <g id=\"text_13\">\r\n      <!-- 500 -->\r\n      <defs>\r\n       <path d=\"M 10.796875 72.90625 \r\nL 49.515625 72.90625 \r\nL 49.515625 64.59375 \r\nL 19.828125 64.59375 \r\nL 19.828125 46.734375 \r\nQ 21.96875 47.46875 24.109375 47.828125 \r\nQ 26.265625 48.1875 28.421875 48.1875 \r\nQ 40.625 48.1875 47.75 41.5 \r\nQ 54.890625 34.8125 54.890625 23.390625 \r\nQ 54.890625 11.625 47.5625 5.09375 \r\nQ 40.234375 -1.421875 26.90625 -1.421875 \r\nQ 22.3125 -1.421875 17.546875 -0.640625 \r\nQ 12.796875 0.140625 7.71875 1.703125 \r\nL 7.71875 11.625 \r\nQ 12.109375 9.234375 16.796875 8.0625 \r\nQ 21.484375 6.890625 26.703125 6.890625 \r\nQ 35.15625 6.890625 40.078125 11.328125 \r\nQ 45.015625 15.765625 45.015625 23.390625 \r\nQ 45.015625 31 40.078125 35.4375 \r\nQ 35.15625 39.890625 26.703125 39.890625 \r\nQ 22.75 39.890625 18.8125 39.015625 \r\nQ 14.890625 38.140625 10.796875 36.28125 \r\nz\r\n\" id=\"DejaVuSans-53\"/>\r\n      </defs>\r\n      <g transform=\"translate(20.878125 62.221342)scale(0.1 -0.1)\">\r\n       <use xlink:href=\"#DejaVuSans-53\"/>\r\n       <use x=\"63.623047\" xlink:href=\"#DejaVuSans-48\"/>\r\n       <use x=\"127.246094\" xlink:href=\"#DejaVuSans-48\"/>\r\n      </g>\r\n     </g>\r\n    </g>\r\n    <g id=\"text_14\">\r\n     <!-- Number of Sentences -->\r\n     <g transform=\"translate(14.798438 185.177187)rotate(-90)scale(0.1 -0.1)\">\r\n      <use xlink:href=\"#DejaVuSans-78\"/>\r\n      <use x=\"74.804688\" xlink:href=\"#DejaVuSans-117\"/>\r\n      <use x=\"138.183594\" xlink:href=\"#DejaVuSans-109\"/>\r\n      <use x=\"235.595703\" xlink:href=\"#DejaVuSans-98\"/>\r\n      <use x=\"299.072266\" xlink:href=\"#DejaVuSans-101\"/>\r\n      <use x=\"360.595703\" xlink:href=\"#DejaVuSans-114\"/>\r\n      <use x=\"401.708984\" xlink:href=\"#DejaVuSans-32\"/>\r\n      <use x=\"433.496094\" xlink:href=\"#DejaVuSans-111\"/>\r\n      <use x=\"494.677734\" xlink:href=\"#DejaVuSans-102\"/>\r\n      <use x=\"529.882812\" xlink:href=\"#DejaVuSans-32\"/>\r\n      <use x=\"561.669922\" xlink:href=\"#DejaVuSans-83\"/>\r\n      <use x=\"625.146484\" xlink:href=\"#DejaVuSans-101\"/>\r\n      <use x=\"686.669922\" xlink:href=\"#DejaVuSans-110\"/>\r\n      <use x=\"750.048828\" xlink:href=\"#DejaVuSans-116\"/>\r\n      <use x=\"789.257812\" xlink:href=\"#DejaVuSans-101\"/>\r\n      <use x=\"850.78125\" xlink:href=\"#DejaVuSans-110\"/>\r\n      <use x=\"914.160156\" xlink:href=\"#DejaVuSans-99\"/>\r\n      <use x=\"969.140625\" xlink:href=\"#DejaVuSans-101\"/>\r\n      <use x=\"1030.664062\" xlink:href=\"#DejaVuSans-115\"/>\r\n     </g>\r\n    </g>\r\n   </g>\r\n   <g id=\"patch_13\">\r\n    <path d=\"M 46.965625 239.758125 \r\nL 46.965625 22.318125 \r\n\" style=\"fill:none;stroke:#000000;stroke-linecap:square;stroke-linejoin:miter;stroke-width:0.8;\"/>\r\n   </g>\r\n   <g id=\"patch_14\">\r\n    <path d=\"M 381.765625 239.758125 \r\nL 381.765625 22.318125 \r\n\" style=\"fill:none;stroke:#000000;stroke-linecap:square;stroke-linejoin:miter;stroke-width:0.8;\"/>\r\n   </g>\r\n   <g id=\"patch_15\">\r\n    <path d=\"M 46.965625 239.758125 \r\nL 381.765625 239.758125 \r\n\" style=\"fill:none;stroke:#000000;stroke-linecap:square;stroke-linejoin:miter;stroke-width:0.8;\"/>\r\n   </g>\r\n   <g id=\"patch_16\">\r\n    <path d=\"M 46.965625 22.318125 \r\nL 381.765625 22.318125 \r\n\" style=\"fill:none;stroke:#000000;stroke-linecap:square;stroke-linejoin:miter;stroke-width:0.8;\"/>\r\n   </g>\r\n   <g id=\"text_15\">\r\n    <!-- Before removing stop words and doing stemming -->\r\n    <defs>\r\n     <path d=\"M 19.671875 34.8125 \r\nL 19.671875 8.109375 \r\nL 35.5 8.109375 \r\nQ 43.453125 8.109375 47.28125 11.40625 \r\nQ 51.125 14.703125 51.125 21.484375 \r\nQ 51.125 28.328125 47.28125 31.5625 \r\nQ 43.453125 34.8125 35.5 34.8125 \r\nz\r\nM 19.671875 64.796875 \r\nL 19.671875 42.828125 \r\nL 34.28125 42.828125 \r\nQ 41.5 42.828125 45.03125 45.53125 \r\nQ 48.578125 48.25 48.578125 53.8125 \r\nQ 48.578125 59.328125 45.03125 62.0625 \r\nQ 41.5 64.796875 34.28125 64.796875 \r\nz\r\nM 9.8125 72.90625 \r\nL 35.015625 72.90625 \r\nQ 46.296875 72.90625 52.390625 68.21875 \r\nQ 58.5 63.53125 58.5 54.890625 \r\nQ 58.5 48.1875 55.375 44.234375 \r\nQ 52.25 40.28125 46.1875 39.3125 \r\nQ 53.46875 37.75 57.5 32.78125 \r\nQ 61.53125 27.828125 61.53125 20.40625 \r\nQ 61.53125 10.640625 54.890625 5.3125 \r\nQ 48.25 0 35.984375 0 \r\nL 9.8125 0 \r\nz\r\n\" id=\"DejaVuSans-66\"/>\r\n     <path d=\"M 2.984375 54.6875 \r\nL 12.5 54.6875 \r\nL 29.59375 8.796875 \r\nL 46.6875 54.6875 \r\nL 56.203125 54.6875 \r\nL 35.6875 0 \r\nL 23.484375 0 \r\nz\r\n\" id=\"DejaVuSans-118\"/>\r\n     <path d=\"M 18.109375 8.203125 \r\nL 18.109375 -20.796875 \r\nL 9.078125 -20.796875 \r\nL 9.078125 54.6875 \r\nL 18.109375 54.6875 \r\nL 18.109375 46.390625 \r\nQ 20.953125 51.265625 25.265625 53.625 \r\nQ 29.59375 56 35.59375 56 \r\nQ 45.5625 56 51.78125 48.09375 \r\nQ 58.015625 40.1875 58.015625 27.296875 \r\nQ 58.015625 14.40625 51.78125 6.484375 \r\nQ 45.5625 -1.421875 35.59375 -1.421875 \r\nQ 29.59375 -1.421875 25.265625 0.953125 \r\nQ 20.953125 3.328125 18.109375 8.203125 \r\nz\r\nM 48.6875 27.296875 \r\nQ 48.6875 37.203125 44.609375 42.84375 \r\nQ 40.53125 48.484375 33.40625 48.484375 \r\nQ 26.265625 48.484375 22.1875 42.84375 \r\nQ 18.109375 37.203125 18.109375 27.296875 \r\nQ 18.109375 17.390625 22.1875 11.75 \r\nQ 26.265625 6.109375 33.40625 6.109375 \r\nQ 40.53125 6.109375 44.609375 11.75 \r\nQ 48.6875 17.390625 48.6875 27.296875 \r\nz\r\n\" id=\"DejaVuSans-112\"/>\r\n     <path d=\"M 4.203125 54.6875 \r\nL 13.1875 54.6875 \r\nL 24.421875 12.015625 \r\nL 35.59375 54.6875 \r\nL 46.1875 54.6875 \r\nL 57.421875 12.015625 \r\nL 68.609375 54.6875 \r\nL 77.59375 54.6875 \r\nL 63.28125 0 \r\nL 52.6875 0 \r\nL 40.921875 44.828125 \r\nL 29.109375 0 \r\nL 18.5 0 \r\nz\r\n\" id=\"DejaVuSans-119\"/>\r\n    </defs>\r\n    <g transform=\"translate(65.553438 16.318125)scale(0.12 -0.12)\">\r\n     <use xlink:href=\"#DejaVuSans-66\"/>\r\n     <use x=\"68.603516\" xlink:href=\"#DejaVuSans-101\"/>\r\n     <use x=\"130.126953\" xlink:href=\"#DejaVuSans-102\"/>\r\n     <use x=\"165.332031\" xlink:href=\"#DejaVuSans-111\"/>\r\n     <use x=\"226.513672\" xlink:href=\"#DejaVuSans-114\"/>\r\n     <use x=\"267.595703\" xlink:href=\"#DejaVuSans-101\"/>\r\n     <use x=\"329.119141\" xlink:href=\"#DejaVuSans-32\"/>\r\n     <use x=\"360.90625\" xlink:href=\"#DejaVuSans-114\"/>\r\n     <use x=\"401.988281\" xlink:href=\"#DejaVuSans-101\"/>\r\n     <use x=\"463.511719\" xlink:href=\"#DejaVuSans-109\"/>\r\n     <use x=\"560.923828\" xlink:href=\"#DejaVuSans-111\"/>\r\n     <use x=\"622.105469\" xlink:href=\"#DejaVuSans-118\"/>\r\n     <use x=\"681.285156\" xlink:href=\"#DejaVuSans-105\"/>\r\n     <use x=\"709.068359\" xlink:href=\"#DejaVuSans-110\"/>\r\n     <use x=\"772.447266\" xlink:href=\"#DejaVuSans-103\"/>\r\n     <use x=\"835.923828\" xlink:href=\"#DejaVuSans-32\"/>\r\n     <use x=\"867.710938\" xlink:href=\"#DejaVuSans-115\"/>\r\n     <use x=\"919.810547\" xlink:href=\"#DejaVuSans-116\"/>\r\n     <use x=\"959.019531\" xlink:href=\"#DejaVuSans-111\"/>\r\n     <use x=\"1020.201172\" xlink:href=\"#DejaVuSans-112\"/>\r\n     <use x=\"1083.677734\" xlink:href=\"#DejaVuSans-32\"/>\r\n     <use x=\"1115.464844\" xlink:href=\"#DejaVuSans-119\"/>\r\n     <use x=\"1197.251953\" xlink:href=\"#DejaVuSans-111\"/>\r\n     <use x=\"1258.433594\" xlink:href=\"#DejaVuSans-114\"/>\r\n     <use x=\"1299.53125\" xlink:href=\"#DejaVuSans-100\"/>\r\n     <use x=\"1363.007812\" xlink:href=\"#DejaVuSans-115\"/>\r\n     <use x=\"1415.107422\" xlink:href=\"#DejaVuSans-32\"/>\r\n     <use x=\"1446.894531\" xlink:href=\"#DejaVuSans-97\"/>\r\n     <use x=\"1508.173828\" xlink:href=\"#DejaVuSans-110\"/>\r\n     <use x=\"1571.552734\" xlink:href=\"#DejaVuSans-100\"/>\r\n     <use x=\"1635.029297\" xlink:href=\"#DejaVuSans-32\"/>\r\n     <use x=\"1666.816406\" xlink:href=\"#DejaVuSans-100\"/>\r\n     <use x=\"1730.292969\" xlink:href=\"#DejaVuSans-111\"/>\r\n     <use x=\"1791.474609\" xlink:href=\"#DejaVuSans-105\"/>\r\n     <use x=\"1819.257812\" xlink:href=\"#DejaVuSans-110\"/>\r\n     <use x=\"1882.636719\" xlink:href=\"#DejaVuSans-103\"/>\r\n     <use x=\"1946.113281\" xlink:href=\"#DejaVuSans-32\"/>\r\n     <use x=\"1977.900391\" xlink:href=\"#DejaVuSans-115\"/>\r\n     <use x=\"2030\" xlink:href=\"#DejaVuSans-116\"/>\r\n     <use x=\"2069.208984\" xlink:href=\"#DejaVuSans-101\"/>\r\n     <use x=\"2130.732422\" xlink:href=\"#DejaVuSans-109\"/>\r\n     <use x=\"2228.144531\" xlink:href=\"#DejaVuSans-109\"/>\r\n     <use x=\"2325.556641\" xlink:href=\"#DejaVuSans-105\"/>\r\n     <use x=\"2353.339844\" xlink:href=\"#DejaVuSans-110\"/>\r\n     <use x=\"2416.71875\" xlink:href=\"#DejaVuSans-103\"/>\r\n    </g>\r\n   </g>\r\n  </g>\r\n </g>\r\n <defs>\r\n  <clipPath id=\"pa146539e56\">\r\n   <rect height=\"217.44\" width=\"334.8\" x=\"46.965625\" y=\"22.318125\"/>\r\n  </clipPath>\r\n </defs>\r\n</svg>\r\n",
            "image/png": "[encoded data removed]"
          },
          "metadata": {
            "needs_background": "light"
          }
        }
      ]
    },
    {
      "cell_type": "markdown",
      "metadata": {
        "id": "mdlMRget9EBt"
      },
      "source": [
        "<p>According to the above plot, it can be seen that <b>before reducing the 'noise'</b> in the dataset, most number of sentences have 0 to 10 number of words. If the x axis is divided into 2 halfs from 40, it can be seen that there are only fewer number of sentences that has more that 40 words.</p>"
      ]
    },
    {
      "cell_type": "markdown",
      "metadata": {
        "id": "s1jjXXKP9EBt"
      },
      "source": [
        "#### b.2. Removing stop words"
      ]
    },
    {
      "cell_type": "markdown",
      "metadata": {
        "id": "Yf_Etvmw9EBu"
      },
      "source": [
        "<p>The first step of reducing the 'noise' in the dataset is to remove the stop words. First we need to find a stop words list. The below code segment will read 425 stop words from a .csv file and will make a list, so that it can be used as the stop word list in this scenario.</p>"
      ]
    },
    {
      "cell_type": "code",
      "metadata": {
        "id": "6JvnJvKY9EBu",
        "outputId": "077039d8-da7b-4a0c-93a9-91f1b7bcc94f"
      },
      "source": [
        "# Read the .csv files which contains 425 stop words in Sinhala\n",
        "stop_words = pd.read_csv('StopWords_425.csv',encoding='utf-8',header=None)\n",
        "stop_words = stop_words[0].values.tolist()\n",
        "stop_words[:20]"
      ],
      "execution_count": 19,
      "outputs": [
        {
          "output_type": "execute_result",
          "data": {
            "text/plain": [
              "['ද',\n",
              " 'ය',\n",
              " 'මේ',\n",
              " 'ඒ',\n",
              " 'හා',\n",
              " 'ම',\n",
              " 'බව',\n",
              " 'නම්',\n",
              " 'දී',\n",
              " 'සඳහා',\n",
              " 'යි',\n",
              " 'සහ',\n",
              " 'ලෙස',\n",
              " 'හෝ',\n",
              " 'ඇත',\n",
              " 'නිසා',\n",
              " 'මෙම',\n",
              " 'ව',\n",
              " 'ගැන',\n",
              " 'විසින්']"
            ]
          },
          "metadata": {},
          "execution_count": 19
        }
      ]
    },
    {
      "cell_type": "markdown",
      "metadata": {
        "id": "gcWwhCtY9EBv"
      },
      "source": [
        "<p>The above stop word list was taken from <a href=\"http://ltrl.ucsc.lk\">http://ltrl.ucsc.lk</a> website. Since stop words are a sub-branch of functional words in a language, <a href=\"http://ltrl.ucsc.lk/download-3\">http://ltrl.ucsc.lk/download-3</a> consists of functional words that can be used. In that .rar file, there was a .txt file which consists of stop words for Sinhala which consists of 425 words as shown above. (The .txt file was manually converted to a .csv file to ease the use)</p> "
      ]
    },
    {
      "cell_type": "markdown",
      "metadata": {
        "id": "FQsZlLIP9EBv"
      },
      "source": [
        "<p>The function <b>remove_stop_words(dataframe, stop_words, column)</b> is defined below which has the remove the stop words from the column 'Phrase' when the data frame is passed as the argument.</p>"
      ]
    },
    {
      "cell_type": "code",
      "metadata": {
        "id": "7YEj56y69EBv"
      },
      "source": [
        "# Define a function to remove stop words from the content in the 'Phrase' column\n",
        "# when the dataframe, stop word list and the column name which consists the sentences were given\n",
        "def remove_stop_words(dataframe, stop_words, column):\n",
        "    \n",
        "    # Iterate through the dataset by reading each row\n",
        "    for index, row in dataframe.iterrows():\n",
        "        \n",
        "        # Initialized a list to add the non-stop words in the sentence in the current row\n",
        "        token_list_without_stop_words = []\n",
        "        \n",
        "        # The current sentence is read\n",
        "        token_list_with_stop_words = row[column]\n",
        "        \n",
        "        # Iterate through the tokens of the current sentence by reading each token\n",
        "        for token in token_list_with_stop_words:\n",
        "            \n",
        "            # Check whether each token is a stop word or not\n",
        "            if not token in stop_words:\n",
        "                # If it is not a stop word add it to the list tokenListWithoutStopWords\n",
        "                token_list_without_stop_words.append(token)       \n",
        "    \n",
        "        # Assign the content of 'Phrase' with the new list of tokens wihtout stop words\n",
        "        dataframe[column][index] = token_list_without_stop_words"
      ],
      "execution_count": 20,
      "outputs": []
    },
    {
      "cell_type": "markdown",
      "metadata": {
        "id": "5lP9P0W19EBw"
      },
      "source": [
        "<p>Let us pass the sinhalaDataframe to the above function to remove the stop words.</p>"
      ]
    },
    {
      "cell_type": "code",
      "metadata": {
        "id": "INr3SrNY9EBw",
        "outputId": "1c2091b3-6bd6-4dfc-93c7-c4d163fc5b5b"
      },
      "source": [
        "remove_stop_words(dataframe=sinhala_dataframe, stop_words=stop_words, column='Phrase')\n",
        "sinhala_dataframe"
      ],
      "execution_count": 21,
      "outputs": [
        {
          "output_type": "stream",
          "name": "stderr",
          "text": [
            "ipykernel_launcher:23: SettingWithCopyWarning: \nA value is trying to be set on a copy of a slice from a DataFrame\n\nSee the caveats in the documentation: https://pandas.pydata.org/pandas-docs/stable/user_guide/indexing.html#returning-a-view-versus-a-copy\n"
          ]
        },
        {
          "output_type": "execute_result",
          "data": {
            "text/plain": [
              "      PhraseNo                                             Phrase IsHateSpeech\n",
              "0            1  [බැල්ලි, කොටින්ගේ, ගු, කනකොට, අපහසුවක්, දැනුනෙ...          YES\n",
              "1            2  [මන්, ඊයේ, මුස්ලිම්, ඩෑල්, එකක්, සෙල්ෆියක්, ගත...          YES\n",
              "2            3                         [සංහිදියාවට, අවුලක්, වෙයි]           NO\n",
              "3            4  [කටින්, පුරසාරම්, දොඩන, අපි, සිංහලයො, විදියට, ...          YES\n",
              "4            5  [මචන්, මගුල, නවත්තලා, කොන්දක්, තියෙනවානම්, පුල...          YES\n",
              "...        ...                                                ...          ...\n",
              "2488      2489               [ශ්, රී, ලාංකික, දේශය, සුන්දර, කරමු]           NO\n",
              "2489      2490    [ඕක, කලින්, අපි, නොදන්න, ලයිවු, එකේ, ගිය, එකක්]           NO\n",
              "2493      2494  [එහෙම, කියන්න, මට, තේරැනා, පැසී, අපහසුතාවයට, ප...           NO\n",
              "2496      2497  [මොනා, කිව්වත්, ඔයාල, දෙන්නගෙ, කටවල්, දෙකට, ගහ...           NO\n",
              "2498      2499  [මුන්, දෙන්න, රෙඩියෝ, එකේ, සුපිරි, ඩබල, හිරු, ...           NO\n",
              "\n",
              "[1393 rows x 3 columns]"
            ],
            "text/html": "<div>\n<style scoped>\n    .dataframe tbody tr th:only-of-type {\n        vertical-align: middle;\n    }\n\n    .dataframe tbody tr th {\n        vertical-align: top;\n    }\n\n    .dataframe thead th {\n        text-align: right;\n    }\n</style>\n<table border=\"1\" class=\"dataframe\">\n  <thead>\n    <tr style=\"text-align: right;\">\n      <th></th>\n      <th>PhraseNo</th>\n      <th>Phrase</th>\n      <th>IsHateSpeech</th>\n    </tr>\n  </thead>\n  <tbody>\n    <tr>\n      <th>0</th>\n      <td>1</td>\n      <td>[බැල්ලි, කොටින්ගේ, ගු, කනකොට, අපහසුවක්, දැනුනෙ...</td>\n      <td>YES</td>\n    </tr>\n    <tr>\n      <th>1</th>\n      <td>2</td>\n      <td>[මන්, ඊයේ, මුස්ලිම්, ඩෑල්, එකක්, සෙල්ෆියක්, ගත...</td>\n      <td>YES</td>\n    </tr>\n    <tr>\n      <th>2</th>\n      <td>3</td>\n      <td>[සංහිදියාවට, අවුලක්, වෙයි]</td>\n      <td>NO</td>\n    </tr>\n    <tr>\n      <th>3</th>\n      <td>4</td>\n      <td>[කටින්, පුරසාරම්, දොඩන, අපි, සිංහලයො, විදියට, ...</td>\n      <td>YES</td>\n    </tr>\n    <tr>\n      <th>4</th>\n      <td>5</td>\n      <td>[මචන්, මගුල, නවත්තලා, කොන්දක්, තියෙනවානම්, පුල...</td>\n      <td>YES</td>\n    </tr>\n    <tr>\n      <th>...</th>\n      <td>...</td>\n      <td>...</td>\n      <td>...</td>\n    </tr>\n    <tr>\n      <th>2488</th>\n      <td>2489</td>\n      <td>[ශ්, රී, ලාංකික, දේශය, සුන්දර, කරමු]</td>\n      <td>NO</td>\n    </tr>\n    <tr>\n      <th>2489</th>\n      <td>2490</td>\n      <td>[ඕක, කලින්, අපි, නොදන්න, ලයිවු, එකේ, ගිය, එකක්]</td>\n      <td>NO</td>\n    </tr>\n    <tr>\n      <th>2493</th>\n      <td>2494</td>\n      <td>[එහෙම, කියන්න, මට, තේරැනා, පැසී, අපහසුතාවයට, ප...</td>\n      <td>NO</td>\n    </tr>\n    <tr>\n      <th>2496</th>\n      <td>2497</td>\n      <td>[මොනා, කිව්වත්, ඔයාල, දෙන්නගෙ, කටවල්, දෙකට, ගහ...</td>\n      <td>NO</td>\n    </tr>\n    <tr>\n      <th>2498</th>\n      <td>2499</td>\n      <td>[මුන්, දෙන්න, රෙඩියෝ, එකේ, සුපිරි, ඩබල, හිරු, ...</td>\n      <td>NO</td>\n    </tr>\n  </tbody>\n</table>\n<p>1393 rows × 3 columns</p>\n</div>"
          },
          "metadata": {},
          "execution_count": 21
        }
      ]
    },
    {
      "cell_type": "markdown",
      "metadata": {
        "id": "-dgsqHOY9EBx"
      },
      "source": [
        "<p>Above is the dataset that does not consists of stop words anymore.</p>"
      ]
    },
    {
      "cell_type": "markdown",
      "metadata": {
        "id": "3tqGoxvk9EBy"
      },
      "source": [
        "<p>Now, let us calculate the total number of tokens/unique tokens and the minimum/maximum length of a sentence again.</p>"
      ]
    },
    {
      "cell_type": "code",
      "metadata": {
        "id": "EyleTIMI9EBy",
        "outputId": "9e177f69-3ab8-4f35-f668-da5395aaf074"
      },
      "source": [
        "get_no_of_tokens_and_unique_tokens(dataframe=sinhala_dataframe, column='Phrase')\n",
        "find_min_max_length_sentence(dataframe=sinhala_dataframe, column='Phrase')"
      ],
      "execution_count": 22,
      "outputs": [
        {
          "output_type": "stream",
          "name": "stdout",
          "text": [
            "Number of total tokens: 22372\nNumber of unique tokens: 8868\n\nMinimum sentence length: 1\nMaximum sentence length: 94\n\n"
          ]
        }
      ]
    },
    {
      "cell_type": "markdown",
      "metadata": {
        "id": "tqLDq9OI9EBy"
      },
      "source": [
        "<p>According to the above outputs, it can be seen that <b>after removing 'stop words'</b>, the data set consists of 22372 (previously it was 25507) number of total tokens and out of that 8868 (previously it was 9105) tokens are unique. Both these numbers have been reduced when comparing with previous step.<br>   \n",
        "    \n",
        "Also, the minimum length of a sentence that can have is 1 (previously it was 2) which means it has only 1 token, and the maximum length is 94 (previously it was 104) which means it has 94 tokens. Both these numbers have been reduced when comparing with previous situation.</p>"
      ]
    },
    {
      "cell_type": "markdown",
      "metadata": {
        "id": "GZsV0stZ9EBy"
      },
      "source": [
        "<p>Let us pass the sinhalaDataframe to the above function and visualize the data.</p>"
      ]
    },
    {
      "cell_type": "code",
      "metadata": {
        "id": "TCpMiDFW9EBz",
        "outputId": "184b627a-1447-41ea-cb29-a1ce33f81f84"
      },
      "source": [
        "visualize_different_sentence_lengths(dataframe=sinhala_dataframe, \n",
        "                                     title='After removing stop words', \n",
        "                                     column='Phrase')"
      ],
      "execution_count": 23,
      "outputs": [
        {
          "output_type": "display_data",
          "data": {
            "text/plain": "<Figure size 432x288 with 1 Axes>",
            "image/svg+xml": "<?xml version=\"1.0\" encoding=\"utf-8\" standalone=\"no\"?>\r\n<!DOCTYPE svg PUBLIC \"-//W3C//DTD SVG 1.1//EN\"\r\n  \"http://www.w3.org/Graphics/SVG/1.1/DTD/svg11.dtd\">\r\n<!-- Created with matplotlib (https://matplotlib.org/) -->\r\n<svg height=\"277.314375pt\" version=\"1.1\" viewBox=\"0 0 388.965625 277.314375\" width=\"388.965625pt\" xmlns=\"http://www.w3.org/2000/svg\" xmlns:xlink=\"http://www.w3.org/1999/xlink\">\r\n <defs>\r\n  <style type=\"text/css\">\r\n*{stroke-linecap:butt;stroke-linejoin:round;}\r\n  </style>\r\n </defs>\r\n <g id=\"figure_1\">\r\n  <g id=\"patch_1\">\r\n   <path d=\"M 0 277.314375 \r\nL 388.965625 277.314375 \r\nL 388.965625 0 \r\nL 0 0 \r\nz\r\n\" style=\"fill:none;\"/>\r\n  </g>\r\n  <g id=\"axes_1\">\r\n   <g id=\"patch_2\">\r\n    <path d=\"M 46.965625 239.758125 \r\nL 381.765625 239.758125 \r\nL 381.765625 22.318125 \r\nL 46.965625 22.318125 \r\nz\r\n\" style=\"fill:#ffffff;\"/>\r\n   </g>\r\n   <g id=\"patch_3\">\r\n    <path clip-path=\"url(#p18a77aba05)\" d=\"M 62.183807 239.758125 \r\nL 92.62017 239.758125 \r\nL 92.62017 32.672411 \r\nL 62.183807 32.672411 \r\nz\r\n\" style=\"fill:#ffa500;\"/>\r\n   </g>\r\n   <g id=\"patch_4\">\r\n    <path clip-path=\"url(#p18a77aba05)\" d=\"M 92.62017 239.758125 \r\nL 123.056534 239.758125 \r\nL 123.056534 60.001566 \r\nL 92.62017 60.001566 \r\nz\r\n\" style=\"fill:#ffa500;\"/>\r\n   </g>\r\n   <g id=\"patch_5\">\r\n    <path clip-path=\"url(#p18a77aba05)\" d=\"M 123.056534 239.758125 \r\nL 153.492898 239.758125 \r\nL 153.492898 154.306399 \r\nL 123.056534 154.306399 \r\nz\r\n\" style=\"fill:#ffa500;\"/>\r\n   </g>\r\n   <g id=\"patch_6\">\r\n    <path clip-path=\"url(#p18a77aba05)\" d=\"M 153.492898 239.758125 \r\nL 183.929261 239.758125 \r\nL 183.929261 205.115533 \r\nL 153.492898 205.115533 \r\nz\r\n\" style=\"fill:#ffa500;\"/>\r\n   </g>\r\n   <g id=\"patch_7\">\r\n    <path clip-path=\"url(#p18a77aba05)\" d=\"M 183.929261 239.758125 \r\nL 214.365625 239.758125 \r\nL 214.365625 223.9765 \r\nL 183.929261 223.9765 \r\nz\r\n\" style=\"fill:#ffa500;\"/>\r\n   </g>\r\n   <g id=\"patch_8\">\r\n    <path clip-path=\"url(#p18a77aba05)\" d=\"M 214.365625 239.758125 \r\nL 244.801989 239.758125 \r\nL 244.801989 235.908948 \r\nL 214.365625 235.908948 \r\nz\r\n\" style=\"fill:#ffa500;\"/>\r\n   </g>\r\n   <g id=\"patch_9\">\r\n    <path clip-path=\"url(#p18a77aba05)\" d=\"M 244.801989 239.758125 \r\nL 275.238352 239.758125 \r\nL 275.238352 235.139113 \r\nL 244.801989 235.139113 \r\nz\r\n\" style=\"fill:#ffa500;\"/>\r\n   </g>\r\n   <g id=\"patch_10\">\r\n    <path clip-path=\"url(#p18a77aba05)\" d=\"M 275.238352 239.758125 \r\nL 305.674716 239.758125 \r\nL 305.674716 235.52403 \r\nL 275.238352 235.52403 \r\nz\r\n\" style=\"fill:#ffa500;\"/>\r\n   </g>\r\n   <g id=\"patch_11\">\r\n    <path clip-path=\"url(#p18a77aba05)\" d=\"M 305.674716 239.758125 \r\nL 336.11108 239.758125 \r\nL 336.11108 239.758125 \r\nL 305.674716 239.758125 \r\nz\r\n\" style=\"fill:#ffa500;\"/>\r\n   </g>\r\n   <g id=\"patch_12\">\r\n    <path clip-path=\"url(#p18a77aba05)\" d=\"M 336.11108 239.758125 \r\nL 366.547443 239.758125 \r\nL 366.547443 238.98829 \r\nL 336.11108 238.98829 \r\nz\r\n\" style=\"fill:#ffa500;\"/>\r\n   </g>\r\n   <g id=\"matplotlib.axis_1\">\r\n    <g id=\"xtick_1\">\r\n     <g id=\"line2d_1\">\r\n      <defs>\r\n       <path d=\"M 0 0 \r\nL 0 3.5 \r\n\" id=\"m5586f2d5f9\" style=\"stroke:#000000;stroke-width:0.8;\"/>\r\n      </defs>\r\n      <g>\r\n       <use style=\"stroke:#000000;stroke-width:0.8;\" x=\"58.91108\" xlink:href=\"#m5586f2d5f9\" y=\"239.758125\"/>\r\n      </g>\r\n     </g>\r\n     <g id=\"text_1\">\r\n      <!-- 0 -->\r\n      <defs>\r\n       <path d=\"M 31.78125 66.40625 \r\nQ 24.171875 66.40625 20.328125 58.90625 \r\nQ 16.5 51.421875 16.5 36.375 \r\nQ 16.5 21.390625 20.328125 13.890625 \r\nQ 24.171875 6.390625 31.78125 6.390625 \r\nQ 39.453125 6.390625 43.28125 13.890625 \r\nQ 47.125 21.390625 47.125 36.375 \r\nQ 47.125 51.421875 43.28125 58.90625 \r\nQ 39.453125 66.40625 31.78125 66.40625 \r\nz\r\nM 31.78125 74.21875 \r\nQ 44.046875 74.21875 50.515625 64.515625 \r\nQ 56.984375 54.828125 56.984375 36.375 \r\nQ 56.984375 17.96875 50.515625 8.265625 \r\nQ 44.046875 -1.421875 31.78125 -1.421875 \r\nQ 19.53125 -1.421875 13.0625 8.265625 \r\nQ 6.59375 17.96875 6.59375 36.375 \r\nQ 6.59375 54.828125 13.0625 64.515625 \r\nQ 19.53125 74.21875 31.78125 74.21875 \r\nz\r\n\" id=\"DejaVuSans-48\"/>\r\n      </defs>\r\n      <g transform=\"translate(55.72983 254.356562)scale(0.1 -0.1)\">\r\n       <use xlink:href=\"#DejaVuSans-48\"/>\r\n      </g>\r\n     </g>\r\n    </g>\r\n    <g id=\"xtick_2\">\r\n     <g id=\"line2d_2\">\r\n      <g>\r\n       <use style=\"stroke:#000000;stroke-width:0.8;\" x=\"124.365625\" xlink:href=\"#m5586f2d5f9\" y=\"239.758125\"/>\r\n      </g>\r\n     </g>\r\n     <g id=\"text_2\">\r\n      <!-- 20 -->\r\n      <defs>\r\n       <path d=\"M 19.1875 8.296875 \r\nL 53.609375 8.296875 \r\nL 53.609375 0 \r\nL 7.328125 0 \r\nL 7.328125 8.296875 \r\nQ 12.9375 14.109375 22.625 23.890625 \r\nQ 32.328125 33.6875 34.8125 36.53125 \r\nQ 39.546875 41.84375 41.421875 45.53125 \r\nQ 43.3125 49.21875 43.3125 52.78125 \r\nQ 43.3125 58.59375 39.234375 62.25 \r\nQ 35.15625 65.921875 28.609375 65.921875 \r\nQ 23.96875 65.921875 18.8125 64.3125 \r\nQ 13.671875 62.703125 7.8125 59.421875 \r\nL 7.8125 69.390625 \r\nQ 13.765625 71.78125 18.9375 73 \r\nQ 24.125 74.21875 28.421875 74.21875 \r\nQ 39.75 74.21875 46.484375 68.546875 \r\nQ 53.21875 62.890625 53.21875 53.421875 \r\nQ 53.21875 48.921875 51.53125 44.890625 \r\nQ 49.859375 40.875 45.40625 35.40625 \r\nQ 44.1875 33.984375 37.640625 27.21875 \r\nQ 31.109375 20.453125 19.1875 8.296875 \r\nz\r\n\" id=\"DejaVuSans-50\"/>\r\n      </defs>\r\n      <g transform=\"translate(118.003125 254.356562)scale(0.1 -0.1)\">\r\n       <use xlink:href=\"#DejaVuSans-50\"/>\r\n       <use x=\"63.623047\" xlink:href=\"#DejaVuSans-48\"/>\r\n      </g>\r\n     </g>\r\n    </g>\r\n    <g id=\"xtick_3\">\r\n     <g id=\"line2d_3\">\r\n      <g>\r\n       <use style=\"stroke:#000000;stroke-width:0.8;\" x=\"189.82017\" xlink:href=\"#m5586f2d5f9\" y=\"239.758125\"/>\r\n      </g>\r\n     </g>\r\n     <g id=\"text_3\">\r\n      <!-- 40 -->\r\n      <defs>\r\n       <path d=\"M 37.796875 64.3125 \r\nL 12.890625 25.390625 \r\nL 37.796875 25.390625 \r\nz\r\nM 35.203125 72.90625 \r\nL 47.609375 72.90625 \r\nL 47.609375 25.390625 \r\nL 58.015625 25.390625 \r\nL 58.015625 17.1875 \r\nL 47.609375 17.1875 \r\nL 47.609375 0 \r\nL 37.796875 0 \r\nL 37.796875 17.1875 \r\nL 4.890625 17.1875 \r\nL 4.890625 26.703125 \r\nz\r\n\" id=\"DejaVuSans-52\"/>\r\n      </defs>\r\n      <g transform=\"translate(183.45767 254.356562)scale(0.1 -0.1)\">\r\n       <use xlink:href=\"#DejaVuSans-52\"/>\r\n       <use x=\"63.623047\" xlink:href=\"#DejaVuSans-48\"/>\r\n      </g>\r\n     </g>\r\n    </g>\r\n    <g id=\"xtick_4\">\r\n     <g id=\"line2d_4\">\r\n      <g>\r\n       <use style=\"stroke:#000000;stroke-width:0.8;\" x=\"255.274716\" xlink:href=\"#m5586f2d5f9\" y=\"239.758125\"/>\r\n      </g>\r\n     </g>\r\n     <g id=\"text_4\">\r\n      <!-- 60 -->\r\n      <defs>\r\n       <path d=\"M 33.015625 40.375 \r\nQ 26.375 40.375 22.484375 35.828125 \r\nQ 18.609375 31.296875 18.609375 23.390625 \r\nQ 18.609375 15.53125 22.484375 10.953125 \r\nQ 26.375 6.390625 33.015625 6.390625 \r\nQ 39.65625 6.390625 43.53125 10.953125 \r\nQ 47.40625 15.53125 47.40625 23.390625 \r\nQ 47.40625 31.296875 43.53125 35.828125 \r\nQ 39.65625 40.375 33.015625 40.375 \r\nz\r\nM 52.59375 71.296875 \r\nL 52.59375 62.3125 \r\nQ 48.875 64.0625 45.09375 64.984375 \r\nQ 41.3125 65.921875 37.59375 65.921875 \r\nQ 27.828125 65.921875 22.671875 59.328125 \r\nQ 17.53125 52.734375 16.796875 39.40625 \r\nQ 19.671875 43.65625 24.015625 45.921875 \r\nQ 28.375 48.1875 33.59375 48.1875 \r\nQ 44.578125 48.1875 50.953125 41.515625 \r\nQ 57.328125 34.859375 57.328125 23.390625 \r\nQ 57.328125 12.15625 50.6875 5.359375 \r\nQ 44.046875 -1.421875 33.015625 -1.421875 \r\nQ 20.359375 -1.421875 13.671875 8.265625 \r\nQ 6.984375 17.96875 6.984375 36.375 \r\nQ 6.984375 53.65625 15.1875 63.9375 \r\nQ 23.390625 74.21875 37.203125 74.21875 \r\nQ 40.921875 74.21875 44.703125 73.484375 \r\nQ 48.484375 72.75 52.59375 71.296875 \r\nz\r\n\" id=\"DejaVuSans-54\"/>\r\n      </defs>\r\n      <g transform=\"translate(248.912216 254.356562)scale(0.1 -0.1)\">\r\n       <use xlink:href=\"#DejaVuSans-54\"/>\r\n       <use x=\"63.623047\" xlink:href=\"#DejaVuSans-48\"/>\r\n      </g>\r\n     </g>\r\n    </g>\r\n    <g id=\"xtick_5\">\r\n     <g id=\"line2d_5\">\r\n      <g>\r\n       <use style=\"stroke:#000000;stroke-width:0.8;\" x=\"320.729261\" xlink:href=\"#m5586f2d5f9\" y=\"239.758125\"/>\r\n      </g>\r\n     </g>\r\n     <g id=\"text_5\">\r\n      <!-- 80 -->\r\n      <defs>\r\n       <path d=\"M 31.78125 34.625 \r\nQ 24.75 34.625 20.71875 30.859375 \r\nQ 16.703125 27.09375 16.703125 20.515625 \r\nQ 16.703125 13.921875 20.71875 10.15625 \r\nQ 24.75 6.390625 31.78125 6.390625 \r\nQ 38.8125 6.390625 42.859375 10.171875 \r\nQ 46.921875 13.96875 46.921875 20.515625 \r\nQ 46.921875 27.09375 42.890625 30.859375 \r\nQ 38.875 34.625 31.78125 34.625 \r\nz\r\nM 21.921875 38.8125 \r\nQ 15.578125 40.375 12.03125 44.71875 \r\nQ 8.5 49.078125 8.5 55.328125 \r\nQ 8.5 64.0625 14.71875 69.140625 \r\nQ 20.953125 74.21875 31.78125 74.21875 \r\nQ 42.671875 74.21875 48.875 69.140625 \r\nQ 55.078125 64.0625 55.078125 55.328125 \r\nQ 55.078125 49.078125 51.53125 44.71875 \r\nQ 48 40.375 41.703125 38.8125 \r\nQ 48.828125 37.15625 52.796875 32.3125 \r\nQ 56.78125 27.484375 56.78125 20.515625 \r\nQ 56.78125 9.90625 50.3125 4.234375 \r\nQ 43.84375 -1.421875 31.78125 -1.421875 \r\nQ 19.734375 -1.421875 13.25 4.234375 \r\nQ 6.78125 9.90625 6.78125 20.515625 \r\nQ 6.78125 27.484375 10.78125 32.3125 \r\nQ 14.796875 37.15625 21.921875 38.8125 \r\nz\r\nM 18.3125 54.390625 \r\nQ 18.3125 48.734375 21.84375 45.5625 \r\nQ 25.390625 42.390625 31.78125 42.390625 \r\nQ 38.140625 42.390625 41.71875 45.5625 \r\nQ 45.3125 48.734375 45.3125 54.390625 \r\nQ 45.3125 60.0625 41.71875 63.234375 \r\nQ 38.140625 66.40625 31.78125 66.40625 \r\nQ 25.390625 66.40625 21.84375 63.234375 \r\nQ 18.3125 60.0625 18.3125 54.390625 \r\nz\r\n\" id=\"DejaVuSans-56\"/>\r\n      </defs>\r\n      <g transform=\"translate(314.366761 254.356562)scale(0.1 -0.1)\">\r\n       <use xlink:href=\"#DejaVuSans-56\"/>\r\n       <use x=\"63.623047\" xlink:href=\"#DejaVuSans-48\"/>\r\n      </g>\r\n     </g>\r\n    </g>\r\n    <g id=\"text_6\">\r\n     <!-- Sentence Length (Number of Words in a Sentence) -->\r\n     <defs>\r\n      <path d=\"M 53.515625 70.515625 \r\nL 53.515625 60.890625 \r\nQ 47.90625 63.578125 42.921875 64.890625 \r\nQ 37.9375 66.21875 33.296875 66.21875 \r\nQ 25.25 66.21875 20.875 63.09375 \r\nQ 16.5 59.96875 16.5 54.203125 \r\nQ 16.5 49.359375 19.40625 46.890625 \r\nQ 22.3125 44.4375 30.421875 42.921875 \r\nL 36.375 41.703125 \r\nQ 47.40625 39.59375 52.65625 34.296875 \r\nQ 57.90625 29 57.90625 20.125 \r\nQ 57.90625 9.515625 50.796875 4.046875 \r\nQ 43.703125 -1.421875 29.984375 -1.421875 \r\nQ 24.8125 -1.421875 18.96875 -0.25 \r\nQ 13.140625 0.921875 6.890625 3.21875 \r\nL 6.890625 13.375 \r\nQ 12.890625 10.015625 18.65625 8.296875 \r\nQ 24.421875 6.59375 29.984375 6.59375 \r\nQ 38.421875 6.59375 43.015625 9.90625 \r\nQ 47.609375 13.234375 47.609375 19.390625 \r\nQ 47.609375 24.75 44.3125 27.78125 \r\nQ 41.015625 30.8125 33.5 32.328125 \r\nL 27.484375 33.5 \r\nQ 16.453125 35.6875 11.515625 40.375 \r\nQ 6.59375 45.0625 6.59375 53.421875 \r\nQ 6.59375 63.09375 13.40625 68.65625 \r\nQ 20.21875 74.21875 32.171875 74.21875 \r\nQ 37.3125 74.21875 42.625 73.28125 \r\nQ 47.953125 72.359375 53.515625 70.515625 \r\nz\r\n\" id=\"DejaVuSans-83\"/>\r\n      <path d=\"M 56.203125 29.59375 \r\nL 56.203125 25.203125 \r\nL 14.890625 25.203125 \r\nQ 15.484375 15.921875 20.484375 11.0625 \r\nQ 25.484375 6.203125 34.421875 6.203125 \r\nQ 39.59375 6.203125 44.453125 7.46875 \r\nQ 49.3125 8.734375 54.109375 11.28125 \r\nL 54.109375 2.78125 \r\nQ 49.265625 0.734375 44.1875 -0.34375 \r\nQ 39.109375 -1.421875 33.890625 -1.421875 \r\nQ 20.796875 -1.421875 13.15625 6.1875 \r\nQ 5.515625 13.8125 5.515625 26.8125 \r\nQ 5.515625 40.234375 12.765625 48.109375 \r\nQ 20.015625 56 32.328125 56 \r\nQ 43.359375 56 49.78125 48.890625 \r\nQ 56.203125 41.796875 56.203125 29.59375 \r\nz\r\nM 47.21875 32.234375 \r\nQ 47.125 39.59375 43.09375 43.984375 \r\nQ 39.0625 48.390625 32.421875 48.390625 \r\nQ 24.90625 48.390625 20.390625 44.140625 \r\nQ 15.875 39.890625 15.1875 32.171875 \r\nz\r\n\" id=\"DejaVuSans-101\"/>\r\n      <path d=\"M 54.890625 33.015625 \r\nL 54.890625 0 \r\nL 45.90625 0 \r\nL 45.90625 32.71875 \r\nQ 45.90625 40.484375 42.875 44.328125 \r\nQ 39.84375 48.1875 33.796875 48.1875 \r\nQ 26.515625 48.1875 22.3125 43.546875 \r\nQ 18.109375 38.921875 18.109375 30.90625 \r\nL 18.109375 0 \r\nL 9.078125 0 \r\nL 9.078125 54.6875 \r\nL 18.109375 54.6875 \r\nL 18.109375 46.1875 \r\nQ 21.34375 51.125 25.703125 53.5625 \r\nQ 30.078125 56 35.796875 56 \r\nQ 45.21875 56 50.046875 50.171875 \r\nQ 54.890625 44.34375 54.890625 33.015625 \r\nz\r\n\" id=\"DejaVuSans-110\"/>\r\n      <path d=\"M 18.3125 70.21875 \r\nL 18.3125 54.6875 \r\nL 36.8125 54.6875 \r\nL 36.8125 47.703125 \r\nL 18.3125 47.703125 \r\nL 18.3125 18.015625 \r\nQ 18.3125 11.328125 20.140625 9.421875 \r\nQ 21.96875 7.515625 27.59375 7.515625 \r\nL 36.8125 7.515625 \r\nL 36.8125 0 \r\nL 27.59375 0 \r\nQ 17.1875 0 13.234375 3.875 \r\nQ 9.28125 7.765625 9.28125 18.015625 \r\nL 9.28125 47.703125 \r\nL 2.6875 47.703125 \r\nL 2.6875 54.6875 \r\nL 9.28125 54.6875 \r\nL 9.28125 70.21875 \r\nz\r\n\" id=\"DejaVuSans-116\"/>\r\n      <path d=\"M 48.78125 52.59375 \r\nL 48.78125 44.1875 \r\nQ 44.96875 46.296875 41.140625 47.34375 \r\nQ 37.3125 48.390625 33.40625 48.390625 \r\nQ 24.65625 48.390625 19.8125 42.84375 \r\nQ 14.984375 37.3125 14.984375 27.296875 \r\nQ 14.984375 17.28125 19.8125 11.734375 \r\nQ 24.65625 6.203125 33.40625 6.203125 \r\nQ 37.3125 6.203125 41.140625 7.25 \r\nQ 44.96875 8.296875 48.78125 10.40625 \r\nL 48.78125 2.09375 \r\nQ 45.015625 0.34375 40.984375 -0.53125 \r\nQ 36.96875 -1.421875 32.421875 -1.421875 \r\nQ 20.0625 -1.421875 12.78125 6.34375 \r\nQ 5.515625 14.109375 5.515625 27.296875 \r\nQ 5.515625 40.671875 12.859375 48.328125 \r\nQ 20.21875 56 33.015625 56 \r\nQ 37.15625 56 41.109375 55.140625 \r\nQ 45.0625 54.296875 48.78125 52.59375 \r\nz\r\n\" id=\"DejaVuSans-99\"/>\r\n      <path id=\"DejaVuSans-32\"/>\r\n      <path d=\"M 9.8125 72.90625 \r\nL 19.671875 72.90625 \r\nL 19.671875 8.296875 \r\nL 55.171875 8.296875 \r\nL 55.171875 0 \r\nL 9.8125 0 \r\nz\r\n\" id=\"DejaVuSans-76\"/>\r\n      <path d=\"M 45.40625 27.984375 \r\nQ 45.40625 37.75 41.375 43.109375 \r\nQ 37.359375 48.484375 30.078125 48.484375 \r\nQ 22.859375 48.484375 18.828125 43.109375 \r\nQ 14.796875 37.75 14.796875 27.984375 \r\nQ 14.796875 18.265625 18.828125 12.890625 \r\nQ 22.859375 7.515625 30.078125 7.515625 \r\nQ 37.359375 7.515625 41.375 12.890625 \r\nQ 45.40625 18.265625 45.40625 27.984375 \r\nz\r\nM 54.390625 6.78125 \r\nQ 54.390625 -7.171875 48.1875 -13.984375 \r\nQ 42 -20.796875 29.203125 -20.796875 \r\nQ 24.46875 -20.796875 20.265625 -20.09375 \r\nQ 16.0625 -19.390625 12.109375 -17.921875 \r\nL 12.109375 -9.1875 \r\nQ 16.0625 -11.328125 19.921875 -12.34375 \r\nQ 23.78125 -13.375 27.78125 -13.375 \r\nQ 36.625 -13.375 41.015625 -8.765625 \r\nQ 45.40625 -4.15625 45.40625 5.171875 \r\nL 45.40625 9.625 \r\nQ 42.625 4.78125 38.28125 2.390625 \r\nQ 33.9375 0 27.875 0 \r\nQ 17.828125 0 11.671875 7.65625 \r\nQ 5.515625 15.328125 5.515625 27.984375 \r\nQ 5.515625 40.671875 11.671875 48.328125 \r\nQ 17.828125 56 27.875 56 \r\nQ 33.9375 56 38.28125 53.609375 \r\nQ 42.625 51.21875 45.40625 46.390625 \r\nL 45.40625 54.6875 \r\nL 54.390625 54.6875 \r\nz\r\n\" id=\"DejaVuSans-103\"/>\r\n      <path d=\"M 54.890625 33.015625 \r\nL 54.890625 0 \r\nL 45.90625 0 \r\nL 45.90625 32.71875 \r\nQ 45.90625 40.484375 42.875 44.328125 \r\nQ 39.84375 48.1875 33.796875 48.1875 \r\nQ 26.515625 48.1875 22.3125 43.546875 \r\nQ 18.109375 38.921875 18.109375 30.90625 \r\nL 18.109375 0 \r\nL 9.078125 0 \r\nL 9.078125 75.984375 \r\nL 18.109375 75.984375 \r\nL 18.109375 46.1875 \r\nQ 21.34375 51.125 25.703125 53.5625 \r\nQ 30.078125 56 35.796875 56 \r\nQ 45.21875 56 50.046875 50.171875 \r\nQ 54.890625 44.34375 54.890625 33.015625 \r\nz\r\n\" id=\"DejaVuSans-104\"/>\r\n      <path d=\"M 31 75.875 \r\nQ 24.46875 64.65625 21.28125 53.65625 \r\nQ 18.109375 42.671875 18.109375 31.390625 \r\nQ 18.109375 20.125 21.3125 9.0625 \r\nQ 24.515625 -2 31 -13.1875 \r\nL 23.1875 -13.1875 \r\nQ 15.875 -1.703125 12.234375 9.375 \r\nQ 8.59375 20.453125 8.59375 31.390625 \r\nQ 8.59375 42.28125 12.203125 53.3125 \r\nQ 15.828125 64.359375 23.1875 75.875 \r\nz\r\n\" id=\"DejaVuSans-40\"/>\r\n      <path d=\"M 9.8125 72.90625 \r\nL 23.09375 72.90625 \r\nL 55.421875 11.921875 \r\nL 55.421875 72.90625 \r\nL 64.984375 72.90625 \r\nL 64.984375 0 \r\nL 51.703125 0 \r\nL 19.390625 60.984375 \r\nL 19.390625 0 \r\nL 9.8125 0 \r\nz\r\n\" id=\"DejaVuSans-78\"/>\r\n      <path d=\"M 8.5 21.578125 \r\nL 8.5 54.6875 \r\nL 17.484375 54.6875 \r\nL 17.484375 21.921875 \r\nQ 17.484375 14.15625 20.5 10.265625 \r\nQ 23.53125 6.390625 29.59375 6.390625 \r\nQ 36.859375 6.390625 41.078125 11.03125 \r\nQ 45.3125 15.671875 45.3125 23.6875 \r\nL 45.3125 54.6875 \r\nL 54.296875 54.6875 \r\nL 54.296875 0 \r\nL 45.3125 0 \r\nL 45.3125 8.40625 \r\nQ 42.046875 3.421875 37.71875 1 \r\nQ 33.40625 -1.421875 27.6875 -1.421875 \r\nQ 18.265625 -1.421875 13.375 4.4375 \r\nQ 8.5 10.296875 8.5 21.578125 \r\nz\r\nM 31.109375 56 \r\nz\r\n\" id=\"DejaVuSans-117\"/>\r\n      <path d=\"M 52 44.1875 \r\nQ 55.375 50.25 60.0625 53.125 \r\nQ 64.75 56 71.09375 56 \r\nQ 79.640625 56 84.28125 50.015625 \r\nQ 88.921875 44.046875 88.921875 33.015625 \r\nL 88.921875 0 \r\nL 79.890625 0 \r\nL 79.890625 32.71875 \r\nQ 79.890625 40.578125 77.09375 44.375 \r\nQ 74.3125 48.1875 68.609375 48.1875 \r\nQ 61.625 48.1875 57.5625 43.546875 \r\nQ 53.515625 38.921875 53.515625 30.90625 \r\nL 53.515625 0 \r\nL 44.484375 0 \r\nL 44.484375 32.71875 \r\nQ 44.484375 40.625 41.703125 44.40625 \r\nQ 38.921875 48.1875 33.109375 48.1875 \r\nQ 26.21875 48.1875 22.15625 43.53125 \r\nQ 18.109375 38.875 18.109375 30.90625 \r\nL 18.109375 0 \r\nL 9.078125 0 \r\nL 9.078125 54.6875 \r\nL 18.109375 54.6875 \r\nL 18.109375 46.1875 \r\nQ 21.1875 51.21875 25.484375 53.609375 \r\nQ 29.78125 56 35.6875 56 \r\nQ 41.65625 56 45.828125 52.96875 \r\nQ 50 49.953125 52 44.1875 \r\nz\r\n\" id=\"DejaVuSans-109\"/>\r\n      <path d=\"M 48.6875 27.296875 \r\nQ 48.6875 37.203125 44.609375 42.84375 \r\nQ 40.53125 48.484375 33.40625 48.484375 \r\nQ 26.265625 48.484375 22.1875 42.84375 \r\nQ 18.109375 37.203125 18.109375 27.296875 \r\nQ 18.109375 17.390625 22.1875 11.75 \r\nQ 26.265625 6.109375 33.40625 6.109375 \r\nQ 40.53125 6.109375 44.609375 11.75 \r\nQ 48.6875 17.390625 48.6875 27.296875 \r\nz\r\nM 18.109375 46.390625 \r\nQ 20.953125 51.265625 25.265625 53.625 \r\nQ 29.59375 56 35.59375 56 \r\nQ 45.5625 56 51.78125 48.09375 \r\nQ 58.015625 40.1875 58.015625 27.296875 \r\nQ 58.015625 14.40625 51.78125 6.484375 \r\nQ 45.5625 -1.421875 35.59375 -1.421875 \r\nQ 29.59375 -1.421875 25.265625 0.953125 \r\nQ 20.953125 3.328125 18.109375 8.203125 \r\nL 18.109375 0 \r\nL 9.078125 0 \r\nL 9.078125 75.984375 \r\nL 18.109375 75.984375 \r\nz\r\n\" id=\"DejaVuSans-98\"/>\r\n      <path d=\"M 41.109375 46.296875 \r\nQ 39.59375 47.171875 37.8125 47.578125 \r\nQ 36.03125 48 33.890625 48 \r\nQ 26.265625 48 22.1875 43.046875 \r\nQ 18.109375 38.09375 18.109375 28.8125 \r\nL 18.109375 0 \r\nL 9.078125 0 \r\nL 9.078125 54.6875 \r\nL 18.109375 54.6875 \r\nL 18.109375 46.1875 \r\nQ 20.953125 51.171875 25.484375 53.578125 \r\nQ 30.03125 56 36.53125 56 \r\nQ 37.453125 56 38.578125 55.875 \r\nQ 39.703125 55.765625 41.0625 55.515625 \r\nz\r\n\" id=\"DejaVuSans-114\"/>\r\n      <path d=\"M 30.609375 48.390625 \r\nQ 23.390625 48.390625 19.1875 42.75 \r\nQ 14.984375 37.109375 14.984375 27.296875 \r\nQ 14.984375 17.484375 19.15625 11.84375 \r\nQ 23.34375 6.203125 30.609375 6.203125 \r\nQ 37.796875 6.203125 41.984375 11.859375 \r\nQ 46.1875 17.53125 46.1875 27.296875 \r\nQ 46.1875 37.015625 41.984375 42.703125 \r\nQ 37.796875 48.390625 30.609375 48.390625 \r\nz\r\nM 30.609375 56 \r\nQ 42.328125 56 49.015625 48.375 \r\nQ 55.71875 40.765625 55.71875 27.296875 \r\nQ 55.71875 13.875 49.015625 6.21875 \r\nQ 42.328125 -1.421875 30.609375 -1.421875 \r\nQ 18.84375 -1.421875 12.171875 6.21875 \r\nQ 5.515625 13.875 5.515625 27.296875 \r\nQ 5.515625 40.765625 12.171875 48.375 \r\nQ 18.84375 56 30.609375 56 \r\nz\r\n\" id=\"DejaVuSans-111\"/>\r\n      <path d=\"M 37.109375 75.984375 \r\nL 37.109375 68.5 \r\nL 28.515625 68.5 \r\nQ 23.6875 68.5 21.796875 66.546875 \r\nQ 19.921875 64.59375 19.921875 59.515625 \r\nL 19.921875 54.6875 \r\nL 34.71875 54.6875 \r\nL 34.71875 47.703125 \r\nL 19.921875 47.703125 \r\nL 19.921875 0 \r\nL 10.890625 0 \r\nL 10.890625 47.703125 \r\nL 2.296875 47.703125 \r\nL 2.296875 54.6875 \r\nL 10.890625 54.6875 \r\nL 10.890625 58.5 \r\nQ 10.890625 67.625 15.140625 71.796875 \r\nQ 19.390625 75.984375 28.609375 75.984375 \r\nz\r\n\" id=\"DejaVuSans-102\"/>\r\n      <path d=\"M 3.328125 72.90625 \r\nL 13.28125 72.90625 \r\nL 28.609375 11.28125 \r\nL 43.890625 72.90625 \r\nL 54.984375 72.90625 \r\nL 70.3125 11.28125 \r\nL 85.59375 72.90625 \r\nL 95.609375 72.90625 \r\nL 77.296875 0 \r\nL 64.890625 0 \r\nL 49.515625 63.28125 \r\nL 33.984375 0 \r\nL 21.578125 0 \r\nz\r\n\" id=\"DejaVuSans-87\"/>\r\n      <path d=\"M 45.40625 46.390625 \r\nL 45.40625 75.984375 \r\nL 54.390625 75.984375 \r\nL 54.390625 0 \r\nL 45.40625 0 \r\nL 45.40625 8.203125 \r\nQ 42.578125 3.328125 38.25 0.953125 \r\nQ 33.9375 -1.421875 27.875 -1.421875 \r\nQ 17.96875 -1.421875 11.734375 6.484375 \r\nQ 5.515625 14.40625 5.515625 27.296875 \r\nQ 5.515625 40.1875 11.734375 48.09375 \r\nQ 17.96875 56 27.875 56 \r\nQ 33.9375 56 38.25 53.625 \r\nQ 42.578125 51.265625 45.40625 46.390625 \r\nz\r\nM 14.796875 27.296875 \r\nQ 14.796875 17.390625 18.875 11.75 \r\nQ 22.953125 6.109375 30.078125 6.109375 \r\nQ 37.203125 6.109375 41.296875 11.75 \r\nQ 45.40625 17.390625 45.40625 27.296875 \r\nQ 45.40625 37.203125 41.296875 42.84375 \r\nQ 37.203125 48.484375 30.078125 48.484375 \r\nQ 22.953125 48.484375 18.875 42.84375 \r\nQ 14.796875 37.203125 14.796875 27.296875 \r\nz\r\n\" id=\"DejaVuSans-100\"/>\r\n      <path d=\"M 44.28125 53.078125 \r\nL 44.28125 44.578125 \r\nQ 40.484375 46.53125 36.375 47.5 \r\nQ 32.28125 48.484375 27.875 48.484375 \r\nQ 21.1875 48.484375 17.84375 46.4375 \r\nQ 14.5 44.390625 14.5 40.28125 \r\nQ 14.5 37.15625 16.890625 35.375 \r\nQ 19.28125 33.59375 26.515625 31.984375 \r\nL 29.59375 31.296875 \r\nQ 39.15625 29.25 43.1875 25.515625 \r\nQ 47.21875 21.78125 47.21875 15.09375 \r\nQ 47.21875 7.46875 41.1875 3.015625 \r\nQ 35.15625 -1.421875 24.609375 -1.421875 \r\nQ 20.21875 -1.421875 15.453125 -0.5625 \r\nQ 10.6875 0.296875 5.421875 2 \r\nL 5.421875 11.28125 \r\nQ 10.40625 8.6875 15.234375 7.390625 \r\nQ 20.0625 6.109375 24.8125 6.109375 \r\nQ 31.15625 6.109375 34.5625 8.28125 \r\nQ 37.984375 10.453125 37.984375 14.40625 \r\nQ 37.984375 18.0625 35.515625 20.015625 \r\nQ 33.0625 21.96875 24.703125 23.78125 \r\nL 21.578125 24.515625 \r\nQ 13.234375 26.265625 9.515625 29.90625 \r\nQ 5.8125 33.546875 5.8125 39.890625 \r\nQ 5.8125 47.609375 11.28125 51.796875 \r\nQ 16.75 56 26.8125 56 \r\nQ 31.78125 56 36.171875 55.265625 \r\nQ 40.578125 54.546875 44.28125 53.078125 \r\nz\r\n\" id=\"DejaVuSans-115\"/>\r\n      <path d=\"M 9.421875 54.6875 \r\nL 18.40625 54.6875 \r\nL 18.40625 0 \r\nL 9.421875 0 \r\nz\r\nM 9.421875 75.984375 \r\nL 18.40625 75.984375 \r\nL 18.40625 64.59375 \r\nL 9.421875 64.59375 \r\nz\r\n\" id=\"DejaVuSans-105\"/>\r\n      <path d=\"M 34.28125 27.484375 \r\nQ 23.390625 27.484375 19.1875 25 \r\nQ 14.984375 22.515625 14.984375 16.5 \r\nQ 14.984375 11.71875 18.140625 8.90625 \r\nQ 21.296875 6.109375 26.703125 6.109375 \r\nQ 34.1875 6.109375 38.703125 11.40625 \r\nQ 43.21875 16.703125 43.21875 25.484375 \r\nL 43.21875 27.484375 \r\nz\r\nM 52.203125 31.203125 \r\nL 52.203125 0 \r\nL 43.21875 0 \r\nL 43.21875 8.296875 \r\nQ 40.140625 3.328125 35.546875 0.953125 \r\nQ 30.953125 -1.421875 24.3125 -1.421875 \r\nQ 15.921875 -1.421875 10.953125 3.296875 \r\nQ 6 8.015625 6 15.921875 \r\nQ 6 25.140625 12.171875 29.828125 \r\nQ 18.359375 34.515625 30.609375 34.515625 \r\nL 43.21875 34.515625 \r\nL 43.21875 35.40625 \r\nQ 43.21875 41.609375 39.140625 45 \r\nQ 35.0625 48.390625 27.6875 48.390625 \r\nQ 23 48.390625 18.546875 47.265625 \r\nQ 14.109375 46.140625 10.015625 43.890625 \r\nL 10.015625 52.203125 \r\nQ 14.9375 54.109375 19.578125 55.046875 \r\nQ 24.21875 56 28.609375 56 \r\nQ 40.484375 56 46.34375 49.84375 \r\nQ 52.203125 43.703125 52.203125 31.203125 \r\nz\r\n\" id=\"DejaVuSans-97\"/>\r\n      <path d=\"M 8.015625 75.875 \r\nL 15.828125 75.875 \r\nQ 23.140625 64.359375 26.78125 53.3125 \r\nQ 30.421875 42.28125 30.421875 31.390625 \r\nQ 30.421875 20.453125 26.78125 9.375 \r\nQ 23.140625 -1.703125 15.828125 -13.1875 \r\nL 8.015625 -13.1875 \r\nQ 14.5 -2 17.703125 9.0625 \r\nQ 20.90625 20.125 20.90625 31.390625 \r\nQ 20.90625 42.671875 17.703125 53.65625 \r\nQ 14.5 64.65625 8.015625 75.875 \r\nz\r\n\" id=\"DejaVuSans-41\"/>\r\n     </defs>\r\n     <g transform=\"translate(86.745313 268.034687)scale(0.1 -0.1)\">\r\n      <use xlink:href=\"#DejaVuSans-83\"/>\r\n      <use x=\"63.476562\" xlink:href=\"#DejaVuSans-101\"/>\r\n      <use x=\"125\" xlink:href=\"#DejaVuSans-110\"/>\r\n      <use x=\"188.378906\" xlink:href=\"#DejaVuSans-116\"/>\r\n      <use x=\"227.587891\" xlink:href=\"#DejaVuSans-101\"/>\r\n      <use x=\"289.111328\" xlink:href=\"#DejaVuSans-110\"/>\r\n      <use x=\"352.490234\" xlink:href=\"#DejaVuSans-99\"/>\r\n      <use x=\"407.470703\" xlink:href=\"#DejaVuSans-101\"/>\r\n      <use x=\"468.994141\" xlink:href=\"#DejaVuSans-32\"/>\r\n      <use x=\"500.78125\" xlink:href=\"#DejaVuSans-76\"/>\r\n      <use x=\"556.478516\" xlink:href=\"#DejaVuSans-101\"/>\r\n      <use x=\"618.001953\" xlink:href=\"#DejaVuSans-110\"/>\r\n      <use x=\"681.380859\" xlink:href=\"#DejaVuSans-103\"/>\r\n      <use x=\"744.857422\" xlink:href=\"#DejaVuSans-116\"/>\r\n      <use x=\"784.066406\" xlink:href=\"#DejaVuSans-104\"/>\r\n      <use x=\"847.445312\" xlink:href=\"#DejaVuSans-32\"/>\r\n      <use x=\"879.232422\" xlink:href=\"#DejaVuSans-40\"/>\r\n      <use x=\"918.246094\" xlink:href=\"#DejaVuSans-78\"/>\r\n      <use x=\"993.050781\" xlink:href=\"#DejaVuSans-117\"/>\r\n      <use x=\"1056.429688\" xlink:href=\"#DejaVuSans-109\"/>\r\n      <use x=\"1153.841797\" xlink:href=\"#DejaVuSans-98\"/>\r\n      <use x=\"1217.318359\" xlink:href=\"#DejaVuSans-101\"/>\r\n      <use x=\"1278.841797\" xlink:href=\"#DejaVuSans-114\"/>\r\n      <use x=\"1319.955078\" xlink:href=\"#DejaVuSans-32\"/>\r\n      <use x=\"1351.742188\" xlink:href=\"#DejaVuSans-111\"/>\r\n      <use x=\"1412.923828\" xlink:href=\"#DejaVuSans-102\"/>\r\n      <use x=\"1448.128906\" xlink:href=\"#DejaVuSans-32\"/>\r\n      <use x=\"1479.916016\" xlink:href=\"#DejaVuSans-87\"/>\r\n      <use x=\"1578.714844\" xlink:href=\"#DejaVuSans-111\"/>\r\n      <use x=\"1639.896484\" xlink:href=\"#DejaVuSans-114\"/>\r\n      <use x=\"1680.994141\" xlink:href=\"#DejaVuSans-100\"/>\r\n      <use x=\"1744.470703\" xlink:href=\"#DejaVuSans-115\"/>\r\n      <use x=\"1796.570312\" xlink:href=\"#DejaVuSans-32\"/>\r\n      <use x=\"1828.357422\" xlink:href=\"#DejaVuSans-105\"/>\r\n      <use x=\"1856.140625\" xlink:href=\"#DejaVuSans-110\"/>\r\n      <use x=\"1919.519531\" xlink:href=\"#DejaVuSans-32\"/>\r\n      <use x=\"1951.306641\" xlink:href=\"#DejaVuSans-97\"/>\r\n      <use x=\"2012.585938\" xlink:href=\"#DejaVuSans-32\"/>\r\n      <use x=\"2044.373047\" xlink:href=\"#DejaVuSans-83\"/>\r\n      <use x=\"2107.849609\" xlink:href=\"#DejaVuSans-101\"/>\r\n      <use x=\"2169.373047\" xlink:href=\"#DejaVuSans-110\"/>\r\n      <use x=\"2232.751953\" xlink:href=\"#DejaVuSans-116\"/>\r\n      <use x=\"2271.960938\" xlink:href=\"#DejaVuSans-101\"/>\r\n      <use x=\"2333.484375\" xlink:href=\"#DejaVuSans-110\"/>\r\n      <use x=\"2396.863281\" xlink:href=\"#DejaVuSans-99\"/>\r\n      <use x=\"2451.84375\" xlink:href=\"#DejaVuSans-101\"/>\r\n      <use x=\"2513.367188\" xlink:href=\"#DejaVuSans-41\"/>\r\n     </g>\r\n    </g>\r\n   </g>\r\n   <g id=\"matplotlib.axis_2\">\r\n    <g id=\"ytick_1\">\r\n     <g id=\"line2d_6\">\r\n      <defs>\r\n       <path d=\"M 0 0 \r\nL -3.5 0 \r\n\" id=\"m632eea44d5\" style=\"stroke:#000000;stroke-width:0.8;\"/>\r\n      </defs>\r\n      <g>\r\n       <use style=\"stroke:#000000;stroke-width:0.8;\" x=\"46.965625\" xlink:href=\"#m632eea44d5\" y=\"239.758125\"/>\r\n      </g>\r\n     </g>\r\n     <g id=\"text_7\">\r\n      <!-- 0 -->\r\n      <g transform=\"translate(33.603125 243.557344)scale(0.1 -0.1)\">\r\n       <use xlink:href=\"#DejaVuSans-48\"/>\r\n      </g>\r\n     </g>\r\n    </g>\r\n    <g id=\"ytick_2\">\r\n     <g id=\"line2d_7\">\r\n      <g>\r\n       <use style=\"stroke:#000000;stroke-width:0.8;\" x=\"46.965625\" xlink:href=\"#m632eea44d5\" y=\"201.266357\"/>\r\n      </g>\r\n     </g>\r\n     <g id=\"text_8\">\r\n      <!-- 100 -->\r\n      <defs>\r\n       <path d=\"M 12.40625 8.296875 \r\nL 28.515625 8.296875 \r\nL 28.515625 63.921875 \r\nL 10.984375 60.40625 \r\nL 10.984375 69.390625 \r\nL 28.421875 72.90625 \r\nL 38.28125 72.90625 \r\nL 38.28125 8.296875 \r\nL 54.390625 8.296875 \r\nL 54.390625 0 \r\nL 12.40625 0 \r\nz\r\n\" id=\"DejaVuSans-49\"/>\r\n      </defs>\r\n      <g transform=\"translate(20.878125 205.065575)scale(0.1 -0.1)\">\r\n       <use xlink:href=\"#DejaVuSans-49\"/>\r\n       <use x=\"63.623047\" xlink:href=\"#DejaVuSans-48\"/>\r\n       <use x=\"127.246094\" xlink:href=\"#DejaVuSans-48\"/>\r\n      </g>\r\n     </g>\r\n    </g>\r\n    <g id=\"ytick_3\">\r\n     <g id=\"line2d_8\">\r\n      <g>\r\n       <use style=\"stroke:#000000;stroke-width:0.8;\" x=\"46.965625\" xlink:href=\"#m632eea44d5\" y=\"162.774588\"/>\r\n      </g>\r\n     </g>\r\n     <g id=\"text_9\">\r\n      <!-- 200 -->\r\n      <g transform=\"translate(20.878125 166.573807)scale(0.1 -0.1)\">\r\n       <use xlink:href=\"#DejaVuSans-50\"/>\r\n       <use x=\"63.623047\" xlink:href=\"#DejaVuSans-48\"/>\r\n       <use x=\"127.246094\" xlink:href=\"#DejaVuSans-48\"/>\r\n      </g>\r\n     </g>\r\n    </g>\r\n    <g id=\"ytick_4\">\r\n     <g id=\"line2d_9\">\r\n      <g>\r\n       <use style=\"stroke:#000000;stroke-width:0.8;\" x=\"46.965625\" xlink:href=\"#m632eea44d5\" y=\"124.28282\"/>\r\n      </g>\r\n     </g>\r\n     <g id=\"text_10\">\r\n      <!-- 300 -->\r\n      <defs>\r\n       <path d=\"M 40.578125 39.3125 \r\nQ 47.65625 37.796875 51.625 33 \r\nQ 55.609375 28.21875 55.609375 21.1875 \r\nQ 55.609375 10.40625 48.1875 4.484375 \r\nQ 40.765625 -1.421875 27.09375 -1.421875 \r\nQ 22.515625 -1.421875 17.65625 -0.515625 \r\nQ 12.796875 0.390625 7.625 2.203125 \r\nL 7.625 11.71875 \r\nQ 11.71875 9.328125 16.59375 8.109375 \r\nQ 21.484375 6.890625 26.8125 6.890625 \r\nQ 36.078125 6.890625 40.9375 10.546875 \r\nQ 45.796875 14.203125 45.796875 21.1875 \r\nQ 45.796875 27.640625 41.28125 31.265625 \r\nQ 36.765625 34.90625 28.71875 34.90625 \r\nL 20.21875 34.90625 \r\nL 20.21875 43.015625 \r\nL 29.109375 43.015625 \r\nQ 36.375 43.015625 40.234375 45.921875 \r\nQ 44.09375 48.828125 44.09375 54.296875 \r\nQ 44.09375 59.90625 40.109375 62.90625 \r\nQ 36.140625 65.921875 28.71875 65.921875 \r\nQ 24.65625 65.921875 20.015625 65.03125 \r\nQ 15.375 64.15625 9.8125 62.3125 \r\nL 9.8125 71.09375 \r\nQ 15.4375 72.65625 20.34375 73.4375 \r\nQ 25.25 74.21875 29.59375 74.21875 \r\nQ 40.828125 74.21875 47.359375 69.109375 \r\nQ 53.90625 64.015625 53.90625 55.328125 \r\nQ 53.90625 49.265625 50.4375 45.09375 \r\nQ 46.96875 40.921875 40.578125 39.3125 \r\nz\r\n\" id=\"DejaVuSans-51\"/>\r\n      </defs>\r\n      <g transform=\"translate(20.878125 128.082038)scale(0.1 -0.1)\">\r\n       <use xlink:href=\"#DejaVuSans-51\"/>\r\n       <use x=\"63.623047\" xlink:href=\"#DejaVuSans-48\"/>\r\n       <use x=\"127.246094\" xlink:href=\"#DejaVuSans-48\"/>\r\n      </g>\r\n     </g>\r\n    </g>\r\n    <g id=\"ytick_5\">\r\n     <g id=\"line2d_10\">\r\n      <g>\r\n       <use style=\"stroke:#000000;stroke-width:0.8;\" x=\"46.965625\" xlink:href=\"#m632eea44d5\" y=\"85.791051\"/>\r\n      </g>\r\n     </g>\r\n     <g id=\"text_11\">\r\n      <!-- 400 -->\r\n      <g transform=\"translate(20.878125 89.59027)scale(0.1 -0.1)\">\r\n       <use xlink:href=\"#DejaVuSans-52\"/>\r\n       <use x=\"63.623047\" xlink:href=\"#DejaVuSans-48\"/>\r\n       <use x=\"127.246094\" xlink:href=\"#DejaVuSans-48\"/>\r\n      </g>\r\n     </g>\r\n    </g>\r\n    <g id=\"ytick_6\">\r\n     <g id=\"line2d_11\">\r\n      <g>\r\n       <use style=\"stroke:#000000;stroke-width:0.8;\" x=\"46.965625\" xlink:href=\"#m632eea44d5\" y=\"47.299283\"/>\r\n      </g>\r\n     </g>\r\n     <g id=\"text_12\">\r\n      <!-- 500 -->\r\n      <defs>\r\n       <path d=\"M 10.796875 72.90625 \r\nL 49.515625 72.90625 \r\nL 49.515625 64.59375 \r\nL 19.828125 64.59375 \r\nL 19.828125 46.734375 \r\nQ 21.96875 47.46875 24.109375 47.828125 \r\nQ 26.265625 48.1875 28.421875 48.1875 \r\nQ 40.625 48.1875 47.75 41.5 \r\nQ 54.890625 34.8125 54.890625 23.390625 \r\nQ 54.890625 11.625 47.5625 5.09375 \r\nQ 40.234375 -1.421875 26.90625 -1.421875 \r\nQ 22.3125 -1.421875 17.546875 -0.640625 \r\nQ 12.796875 0.140625 7.71875 1.703125 \r\nL 7.71875 11.625 \r\nQ 12.109375 9.234375 16.796875 8.0625 \r\nQ 21.484375 6.890625 26.703125 6.890625 \r\nQ 35.15625 6.890625 40.078125 11.328125 \r\nQ 45.015625 15.765625 45.015625 23.390625 \r\nQ 45.015625 31 40.078125 35.4375 \r\nQ 35.15625 39.890625 26.703125 39.890625 \r\nQ 22.75 39.890625 18.8125 39.015625 \r\nQ 14.890625 38.140625 10.796875 36.28125 \r\nz\r\n\" id=\"DejaVuSans-53\"/>\r\n      </defs>\r\n      <g transform=\"translate(20.878125 51.098501)scale(0.1 -0.1)\">\r\n       <use xlink:href=\"#DejaVuSans-53\"/>\r\n       <use x=\"63.623047\" xlink:href=\"#DejaVuSans-48\"/>\r\n       <use x=\"127.246094\" xlink:href=\"#DejaVuSans-48\"/>\r\n      </g>\r\n     </g>\r\n    </g>\r\n    <g id=\"text_13\">\r\n     <!-- Number of Sentences -->\r\n     <g transform=\"translate(14.798438 185.177187)rotate(-90)scale(0.1 -0.1)\">\r\n      <use xlink:href=\"#DejaVuSans-78\"/>\r\n      <use x=\"74.804688\" xlink:href=\"#DejaVuSans-117\"/>\r\n      <use x=\"138.183594\" xlink:href=\"#DejaVuSans-109\"/>\r\n      <use x=\"235.595703\" xlink:href=\"#DejaVuSans-98\"/>\r\n      <use x=\"299.072266\" xlink:href=\"#DejaVuSans-101\"/>\r\n      <use x=\"360.595703\" xlink:href=\"#DejaVuSans-114\"/>\r\n      <use x=\"401.708984\" xlink:href=\"#DejaVuSans-32\"/>\r\n      <use x=\"433.496094\" xlink:href=\"#DejaVuSans-111\"/>\r\n      <use x=\"494.677734\" xlink:href=\"#DejaVuSans-102\"/>\r\n      <use x=\"529.882812\" xlink:href=\"#DejaVuSans-32\"/>\r\n      <use x=\"561.669922\" xlink:href=\"#DejaVuSans-83\"/>\r\n      <use x=\"625.146484\" xlink:href=\"#DejaVuSans-101\"/>\r\n      <use x=\"686.669922\" xlink:href=\"#DejaVuSans-110\"/>\r\n      <use x=\"750.048828\" xlink:href=\"#DejaVuSans-116\"/>\r\n      <use x=\"789.257812\" xlink:href=\"#DejaVuSans-101\"/>\r\n      <use x=\"850.78125\" xlink:href=\"#DejaVuSans-110\"/>\r\n      <use x=\"914.160156\" xlink:href=\"#DejaVuSans-99\"/>\r\n      <use x=\"969.140625\" xlink:href=\"#DejaVuSans-101\"/>\r\n      <use x=\"1030.664062\" xlink:href=\"#DejaVuSans-115\"/>\r\n     </g>\r\n    </g>\r\n   </g>\r\n   <g id=\"patch_13\">\r\n    <path d=\"M 46.965625 239.758125 \r\nL 46.965625 22.318125 \r\n\" style=\"fill:none;stroke:#000000;stroke-linecap:square;stroke-linejoin:miter;stroke-width:0.8;\"/>\r\n   </g>\r\n   <g id=\"patch_14\">\r\n    <path d=\"M 381.765625 239.758125 \r\nL 381.765625 22.318125 \r\n\" style=\"fill:none;stroke:#000000;stroke-linecap:square;stroke-linejoin:miter;stroke-width:0.8;\"/>\r\n   </g>\r\n   <g id=\"patch_15\">\r\n    <path d=\"M 46.965625 239.758125 \r\nL 381.765625 239.758125 \r\n\" style=\"fill:none;stroke:#000000;stroke-linecap:square;stroke-linejoin:miter;stroke-width:0.8;\"/>\r\n   </g>\r\n   <g id=\"patch_16\">\r\n    <path d=\"M 46.965625 22.318125 \r\nL 381.765625 22.318125 \r\n\" style=\"fill:none;stroke:#000000;stroke-linecap:square;stroke-linejoin:miter;stroke-width:0.8;\"/>\r\n   </g>\r\n   <g id=\"text_14\">\r\n    <!-- After removing stop words -->\r\n    <defs>\r\n     <path d=\"M 34.1875 63.1875 \r\nL 20.796875 26.90625 \r\nL 47.609375 26.90625 \r\nz\r\nM 28.609375 72.90625 \r\nL 39.796875 72.90625 \r\nL 67.578125 0 \r\nL 57.328125 0 \r\nL 50.6875 18.703125 \r\nL 17.828125 18.703125 \r\nL 11.1875 0 \r\nL 0.78125 0 \r\nz\r\n\" id=\"DejaVuSans-65\"/>\r\n     <path d=\"M 2.984375 54.6875 \r\nL 12.5 54.6875 \r\nL 29.59375 8.796875 \r\nL 46.6875 54.6875 \r\nL 56.203125 54.6875 \r\nL 35.6875 0 \r\nL 23.484375 0 \r\nz\r\n\" id=\"DejaVuSans-118\"/>\r\n     <path d=\"M 18.109375 8.203125 \r\nL 18.109375 -20.796875 \r\nL 9.078125 -20.796875 \r\nL 9.078125 54.6875 \r\nL 18.109375 54.6875 \r\nL 18.109375 46.390625 \r\nQ 20.953125 51.265625 25.265625 53.625 \r\nQ 29.59375 56 35.59375 56 \r\nQ 45.5625 56 51.78125 48.09375 \r\nQ 58.015625 40.1875 58.015625 27.296875 \r\nQ 58.015625 14.40625 51.78125 6.484375 \r\nQ 45.5625 -1.421875 35.59375 -1.421875 \r\nQ 29.59375 -1.421875 25.265625 0.953125 \r\nQ 20.953125 3.328125 18.109375 8.203125 \r\nz\r\nM 48.6875 27.296875 \r\nQ 48.6875 37.203125 44.609375 42.84375 \r\nQ 40.53125 48.484375 33.40625 48.484375 \r\nQ 26.265625 48.484375 22.1875 42.84375 \r\nQ 18.109375 37.203125 18.109375 27.296875 \r\nQ 18.109375 17.390625 22.1875 11.75 \r\nQ 26.265625 6.109375 33.40625 6.109375 \r\nQ 40.53125 6.109375 44.609375 11.75 \r\nQ 48.6875 17.390625 48.6875 27.296875 \r\nz\r\n\" id=\"DejaVuSans-112\"/>\r\n     <path d=\"M 4.203125 54.6875 \r\nL 13.1875 54.6875 \r\nL 24.421875 12.015625 \r\nL 35.59375 54.6875 \r\nL 46.1875 54.6875 \r\nL 57.421875 12.015625 \r\nL 68.609375 54.6875 \r\nL 77.59375 54.6875 \r\nL 63.28125 0 \r\nL 52.6875 0 \r\nL 40.921875 44.828125 \r\nL 29.109375 0 \r\nL 18.5 0 \r\nz\r\n\" id=\"DejaVuSans-119\"/>\r\n    </defs>\r\n    <g transform=\"translate(134.483125 16.318125)scale(0.12 -0.12)\">\r\n     <use xlink:href=\"#DejaVuSans-65\"/>\r\n     <use x=\"68.361328\" xlink:href=\"#DejaVuSans-102\"/>\r\n     <use x=\"103.550781\" xlink:href=\"#DejaVuSans-116\"/>\r\n     <use x=\"142.759766\" xlink:href=\"#DejaVuSans-101\"/>\r\n     <use x=\"204.283203\" xlink:href=\"#DejaVuSans-114\"/>\r\n     <use x=\"245.396484\" xlink:href=\"#DejaVuSans-32\"/>\r\n     <use x=\"277.183594\" xlink:href=\"#DejaVuSans-114\"/>\r\n     <use x=\"318.265625\" xlink:href=\"#DejaVuSans-101\"/>\r\n     <use x=\"379.789062\" xlink:href=\"#DejaVuSans-109\"/>\r\n     <use x=\"477.201172\" xlink:href=\"#DejaVuSans-111\"/>\r\n     <use x=\"538.382812\" xlink:href=\"#DejaVuSans-118\"/>\r\n     <use x=\"597.5625\" xlink:href=\"#DejaVuSans-105\"/>\r\n     <use x=\"625.345703\" xlink:href=\"#DejaVuSans-110\"/>\r\n     <use x=\"688.724609\" xlink:href=\"#DejaVuSans-103\"/>\r\n     <use x=\"752.201172\" xlink:href=\"#DejaVuSans-32\"/>\r\n     <use x=\"783.988281\" xlink:href=\"#DejaVuSans-115\"/>\r\n     <use x=\"836.087891\" xlink:href=\"#DejaVuSans-116\"/>\r\n     <use x=\"875.296875\" xlink:href=\"#DejaVuSans-111\"/>\r\n     <use x=\"936.478516\" xlink:href=\"#DejaVuSans-112\"/>\r\n     <use x=\"999.955078\" xlink:href=\"#DejaVuSans-32\"/>\r\n     <use x=\"1031.742188\" xlink:href=\"#DejaVuSans-119\"/>\r\n     <use x=\"1113.529297\" xlink:href=\"#DejaVuSans-111\"/>\r\n     <use x=\"1174.710938\" xlink:href=\"#DejaVuSans-114\"/>\r\n     <use x=\"1215.808594\" xlink:href=\"#DejaVuSans-100\"/>\r\n     <use x=\"1279.285156\" xlink:href=\"#DejaVuSans-115\"/>\r\n    </g>\r\n   </g>\r\n  </g>\r\n </g>\r\n <defs>\r\n  <clipPath id=\"p18a77aba05\">\r\n   <rect height=\"217.44\" width=\"334.8\" x=\"46.965625\" y=\"22.318125\"/>\r\n  </clipPath>\r\n </defs>\r\n</svg>\r\n",
            "image/png": "[encoded data removed]"
          },
          "metadata": {
            "needs_background": "light"
          }
        }
      ]
    },
    {
      "cell_type": "markdown",
      "metadata": {
        "id": "VU9itZqR9EBz"
      },
      "source": [
        "<p>According to the above plot, it can be seen that <b>after removing 'stop words'</b>, most sentences still have 0 to 10 number of words as shown previously. If the x axis is divided to 2 halfs from 40, it can be seen that there are only fewer number of sentences that has more that 40 words. Since the maximum length was reduced, the bin which consisted 100 was removed.</p>"
      ]
    },
    {
      "cell_type": "markdown",
      "metadata": {
        "id": "_KAA3Ey79EBz"
      },
      "source": [
        "#### b.3. Stemming"
      ]
    },
    {
      "cell_type": "markdown",
      "metadata": {
        "id": "pJXZk0TG9EBz"
      },
      "source": [
        "<p>The second step of reducing the 'noise' in the dataset is to do stemming. First we need to find a suffix list. The below code segment will read 413 suffixes from a .csv file and will make a list, so that it can be used as the suffix list to do stemming in this scenario.</p>"
      ]
    },
    {
      "cell_type": "code",
      "metadata": {
        "id": "ovohCxuj9EBz",
        "outputId": "a2fce84d-5349-4f51-ee30-9fa28c93aa76"
      },
      "source": [
        "# Read the .csv files which contains 413 suffixes in Sinhala\n",
        "suffixes_list = [line.rstrip('\\n') for line in open('Suffixes-413.txt',encoding='utf-8')]\n",
        "suffixes_list[:20]"
      ],
      "execution_count": 25,
      "outputs": [
        {
          "output_type": "execute_result",
          "data": {
            "text/plain": [
              "['්',\n",
              " 'ක',\n",
              " 'ක්',\n",
              " 'කක',\n",
              " 'කක්',\n",
              " 'කකට',\n",
              " 'කකින්',\n",
              " 'කකු',\n",
              " 'කකුගෙන්',\n",
              " 'කකුගේ',\n",
              " 'කකුට',\n",
              " 'කගෙ',\n",
              " 'කගෙන්',\n",
              " 'කගේ',\n",
              " 'කට',\n",
              " 'කා',\n",
              " 'කාලා',\n",
              " 'කාලාගෙන්',\n",
              " 'කාලාගේ',\n",
              " 'කාලාට']"
            ]
          },
          "metadata": {},
          "execution_count": 25
        }
      ]
    },
    {
      "cell_type": "markdown",
      "metadata": {
        "id": "u4c8jnXg9EB0"
      },
      "source": [
        "<p>The above suffix list was taken from <a href=\"http://ltrl.ucsc.lk/download-3\">http://ltrl.ucsc.lk/download-3</a>. In the .rar file, there was a .txt file which consists of siffixes for Sinhala which consists of 413 words as shown above.</p>\n",
        "<p>The function <b>stem_words(dataframe, suffixes_list, column)</b> is defined below which will do stemming as explained by the comments in the code segement.</p>"
      ]
    },
    {
      "cell_type": "code",
      "metadata": {
        "id": "lJM_-L-s9EB0"
      },
      "source": [
        "# Define a function to remove suffixes from the content in the 'Phrase' column\n",
        "# when the dataframe, suffixes list and the column name which consists the sentences were given\n",
        "def stem_words(dataframe, suffixes_list, column):\n",
        "    for index, row in dataframe.iterrows():\n",
        "        \n",
        "        # The current sentence is read\n",
        "        token_list = row[column]\n",
        "        \n",
        "        # Iterate through the tokens of the current sentence by reading each token\n",
        "        for index_in_token_list in range(0, len(token_list)):\n",
        "            \n",
        "            # Initialize an empty list to store all the possible stemmed words related to a particular token.\n",
        "            # Later from this list, the particular stem which has the smallest length \n",
        "            # should be selected as the stemmed word (root).\n",
        "            possible_stems = []\n",
        "            \n",
        "            # Iterate through the suffixes list\n",
        "            for suffix in suffixes_list:\n",
        "                \n",
        "                # If the length of the token is less than the length of the suffix, \n",
        "                # then that suffix cannot occur inside that token\n",
        "                # If the length of the token is greater than the length of the suffix, \n",
        "                # then that suffix may occur inside that token\n",
        "                if (len(token_list[index_in_token_list]) > len(suffix)):\n",
        "                    \n",
        "                    # Check whether the suffix occur at the end of the token,\n",
        "                    # if so, add the stemmed token to the possibleStems list\n",
        "                    if (token_list[index_in_token_list][(-len(suffix)):] == suffix):\n",
        "                        # Removing the suffix from the token and adding the stemmed token to the possibleStems list\n",
        "                        possible_stems.append(token_list[index_in_token_list][:-len(suffix)])\n",
        "            \n",
        "            # 'possibleStems == []' means that the particular token cannot be stemmed. So no stemmed word for that token\n",
        "            # If the possibleStems is not empty, then check for the token that has the least length\n",
        "            if (possible_stems != []): \n",
        "                # Get the stemmed token which has the least length \n",
        "                # and replace the orginal(current) token with the stemmed token\n",
        "                token_list[index_in_token_list] = min(possible_stems, key=len)\n",
        "                \n",
        "        # Replace the whole list with the new list with the stemmed tokens           \n",
        "        dataframe[column][index] = token_list"
      ],
      "execution_count": 26,
      "outputs": []
    },
    {
      "cell_type": "markdown",
      "metadata": {
        "id": "L1WHUqXD9EB1"
      },
      "source": [
        "<p>Let us pass the sinhalaDataframe to do stemming.</p>"
      ]
    },
    {
      "cell_type": "code",
      "metadata": {
        "id": "LhUgeYqm9EB1",
        "outputId": "1fcb6126-f7ac-4ccc-d5a7-3fa83dd9ca87"
      },
      "source": [
        "stem_words(dataframe=sinhala_dataframe, suffixes_list=suffixes_list, column='Phrase')\n",
        "sinhala_dataframe"
      ],
      "execution_count": 27,
      "outputs": [
        {
          "output_type": "stream",
          "name": "stderr",
          "text": [
            "ipykernel_launcher:40: SettingWithCopyWarning: \nA value is trying to be set on a copy of a slice from a DataFrame\n\nSee the caveats in the documentation: https://pandas.pydata.org/pandas-docs/stable/user_guide/indexing.html#returning-a-view-versus-a-copy\n"
          ]
        },
        {
          "output_type": "execute_result",
          "data": {
            "text/plain": [
              "      PhraseNo                                             Phrase IsHateSpeech\n",
              "0            1  [බැල්ලි, කොටි, ග, කනකො, අපහසු, දැනුන, ද, ඔ, මි...          YES\n",
              "1            2  [ම, ඊ, මුස්ලි, ඩෑල, එ, සෙල්ෆි, ගත්ත, සහජීවන, ර...          YES\n",
              "2            3                               [සංහිදියා, අවුල, වෙ]           NO\n",
              "3            4  [කට, පුරසාර, දොඩ, අපි, සිංහලය, විදි, ලැජ්ජ, ව,...          YES\n",
              "4            5  [මච, මගු, නවත්ත, කොන්ද, තියෙනවාන, පුලුවන්න, කර...          YES\n",
              "...        ...                                                ...          ...\n",
              "2488      2489                     [ශ, ර, ලාංකි, දේශ, සුන්දර, කර]           NO\n",
              "2489      2490                   [ඕ, කල, අපි, නොද, ලයිව, එ, ග, එ]           NO\n",
              "2493      2494  [එහෙ, කිය, ම, තේරැ, පැස, අපහසුතාව, පත්වු, අමිම...           NO\n",
              "2496      2497   [මො, කිව්, ඔයා, දෙන්න, කට, දෙ, ගහ, ලංක, කට, පට්]           NO\n",
              "2498      2499  [ම, දෙ, රෙඩි, එ, සුපිරි, ඩබ, හිර, ඉ, කාල, ඉද, ...           NO\n",
              "\n",
              "[1393 rows x 3 columns]"
            ],
            "text/html": "<div>\n<style scoped>\n    .dataframe tbody tr th:only-of-type {\n        vertical-align: middle;\n    }\n\n    .dataframe tbody tr th {\n        vertical-align: top;\n    }\n\n    .dataframe thead th {\n        text-align: right;\n    }\n</style>\n<table border=\"1\" class=\"dataframe\">\n  <thead>\n    <tr style=\"text-align: right;\">\n      <th></th>\n      <th>PhraseNo</th>\n      <th>Phrase</th>\n      <th>IsHateSpeech</th>\n    </tr>\n  </thead>\n  <tbody>\n    <tr>\n      <th>0</th>\n      <td>1</td>\n      <td>[බැල්ලි, කොටි, ග, කනකො, අපහසු, දැනුන, ද, ඔ, මි...</td>\n      <td>YES</td>\n    </tr>\n    <tr>\n      <th>1</th>\n      <td>2</td>\n      <td>[ම, ඊ, මුස්ලි, ඩෑල, එ, සෙල්ෆි, ගත්ත, සහජීවන, ර...</td>\n      <td>YES</td>\n    </tr>\n    <tr>\n      <th>2</th>\n      <td>3</td>\n      <td>[සංහිදියා, අවුල, වෙ]</td>\n      <td>NO</td>\n    </tr>\n    <tr>\n      <th>3</th>\n      <td>4</td>\n      <td>[කට, පුරසාර, දොඩ, අපි, සිංහලය, විදි, ලැජ්ජ, ව,...</td>\n      <td>YES</td>\n    </tr>\n    <tr>\n      <th>4</th>\n      <td>5</td>\n      <td>[මච, මගු, නවත්ත, කොන්ද, තියෙනවාන, පුලුවන්න, කර...</td>\n      <td>YES</td>\n    </tr>\n    <tr>\n      <th>...</th>\n      <td>...</td>\n      <td>...</td>\n      <td>...</td>\n    </tr>\n    <tr>\n      <th>2488</th>\n      <td>2489</td>\n      <td>[ශ, ර, ලාංකි, දේශ, සුන්දර, කර]</td>\n      <td>NO</td>\n    </tr>\n    <tr>\n      <th>2489</th>\n      <td>2490</td>\n      <td>[ඕ, කල, අපි, නොද, ලයිව, එ, ග, එ]</td>\n      <td>NO</td>\n    </tr>\n    <tr>\n      <th>2493</th>\n      <td>2494</td>\n      <td>[එහෙ, කිය, ම, තේරැ, පැස, අපහසුතාව, පත්වු, අමිම...</td>\n      <td>NO</td>\n    </tr>\n    <tr>\n      <th>2496</th>\n      <td>2497</td>\n      <td>[මො, කිව්, ඔයා, දෙන්න, කට, දෙ, ගහ, ලංක, කට, පට්]</td>\n      <td>NO</td>\n    </tr>\n    <tr>\n      <th>2498</th>\n      <td>2499</td>\n      <td>[ම, දෙ, රෙඩි, එ, සුපිරි, ඩබ, හිර, ඉ, කාල, ඉද, ...</td>\n      <td>NO</td>\n    </tr>\n  </tbody>\n</table>\n<p>1393 rows × 3 columns</p>\n</div>"
          },
          "metadata": {},
          "execution_count": 27
        }
      ]
    },
    {
      "cell_type": "markdown",
      "metadata": {
        "id": "V2LUKPcU9EB1"
      },
      "source": [
        "<p>Above is the dataset that that has stemmed tokens for every sentence.</p>"
      ]
    },
    {
      "cell_type": "markdown",
      "metadata": {
        "id": "iDnxSg1G9EB1"
      },
      "source": [
        "<p>Now, let us calculate the total number of tokens/unique tokens and the minimum/maximum length of a sentence again.</p>"
      ]
    },
    {
      "cell_type": "code",
      "metadata": {
        "id": "BkJtybVU9EB2",
        "outputId": "d6592fe5-e410-4a58-cd19-b180c8a5a485"
      },
      "source": [
        "get_no_of_tokens_and_unique_tokens(dataframe=sinhala_dataframe, column='Phrase')\n",
        "find_min_max_length_sentence(dataframe=sinhala_dataframe, column='Phrase')"
      ],
      "execution_count": 28,
      "outputs": [
        {
          "output_type": "stream",
          "name": "stdout",
          "text": [
            "Number of total tokens: 22372\nNumber of unique tokens: 5667\n\nMinimum sentence length: 1\nMaximum sentence length: 94\n\n"
          ]
        }
      ]
    },
    {
      "cell_type": "markdown",
      "metadata": {
        "id": "Z_SMYdVo9EB2"
      },
      "source": [
        "<p>According to the above outputs, it can be seen that <b>after removing 'stop words' and have done 'stemming'</b>, no value was changed. Practically it can be seen that when stemming was done it does not effect the number of tokens or the sentence lengths.</p>"
      ]
    },
    {
      "cell_type": "markdown",
      "metadata": {
        "id": "RJmjUc_y9EB3"
      },
      "source": [
        "<p>Let us pass the sinhalaDataframe to the above function and visualize the data.</p>"
      ]
    },
    {
      "cell_type": "code",
      "metadata": {
        "id": "ycVvDWI59EB3",
        "outputId": "e2403b17-868e-44c9-cb9c-dee82785f2b8"
      },
      "source": [
        "visualize_different_sentence_lengths(sinhala_dataframe, 'After stemming', 'Phrase')"
      ],
      "execution_count": 29,
      "outputs": [
        {
          "output_type": "display_data",
          "data": {
            "text/plain": "<Figure size 432x288 with 1 Axes>",
            "image/svg+xml": "<?xml version=\"1.0\" encoding=\"utf-8\" standalone=\"no\"?>\r\n<!DOCTYPE svg PUBLIC \"-//W3C//DTD SVG 1.1//EN\"\r\n  \"http://www.w3.org/Graphics/SVG/1.1/DTD/svg11.dtd\">\r\n<!-- Created with matplotlib (https://matplotlib.org/) -->\r\n<svg height=\"277.314375pt\" version=\"1.1\" viewBox=\"0 0 388.965625 277.314375\" width=\"388.965625pt\" xmlns=\"http://www.w3.org/2000/svg\" xmlns:xlink=\"http://www.w3.org/1999/xlink\">\r\n <defs>\r\n  <style type=\"text/css\">\r\n*{stroke-linecap:butt;stroke-linejoin:round;}\r\n  </style>\r\n </defs>\r\n <g id=\"figure_1\">\r\n  <g id=\"patch_1\">\r\n   <path d=\"M 0 277.314375 \r\nL 388.965625 277.314375 \r\nL 388.965625 0 \r\nL 0 0 \r\nz\r\n\" style=\"fill:none;\"/>\r\n  </g>\r\n  <g id=\"axes_1\">\r\n   <g id=\"patch_2\">\r\n    <path d=\"M 46.965625 239.758125 \r\nL 381.765625 239.758125 \r\nL 381.765625 22.318125 \r\nL 46.965625 22.318125 \r\nz\r\n\" style=\"fill:#ffffff;\"/>\r\n   </g>\r\n   <g id=\"patch_3\">\r\n    <path clip-path=\"url(#p5c55f3cdc3)\" d=\"M 62.183807 239.758125 \r\nL 92.62017 239.758125 \r\nL 92.62017 32.672411 \r\nL 62.183807 32.672411 \r\nz\r\n\" style=\"fill:#ffa500;\"/>\r\n   </g>\r\n   <g id=\"patch_4\">\r\n    <path clip-path=\"url(#p5c55f3cdc3)\" d=\"M 92.62017 239.758125 \r\nL 123.056534 239.758125 \r\nL 123.056534 60.001566 \r\nL 92.62017 60.001566 \r\nz\r\n\" style=\"fill:#ffa500;\"/>\r\n   </g>\r\n   <g id=\"patch_5\">\r\n    <path clip-path=\"url(#p5c55f3cdc3)\" d=\"M 123.056534 239.758125 \r\nL 153.492898 239.758125 \r\nL 153.492898 154.306399 \r\nL 123.056534 154.306399 \r\nz\r\n\" style=\"fill:#ffa500;\"/>\r\n   </g>\r\n   <g id=\"patch_6\">\r\n    <path clip-path=\"url(#p5c55f3cdc3)\" d=\"M 153.492898 239.758125 \r\nL 183.929261 239.758125 \r\nL 183.929261 205.115533 \r\nL 153.492898 205.115533 \r\nz\r\n\" style=\"fill:#ffa500;\"/>\r\n   </g>\r\n   <g id=\"patch_7\">\r\n    <path clip-path=\"url(#p5c55f3cdc3)\" d=\"M 183.929261 239.758125 \r\nL 214.365625 239.758125 \r\nL 214.365625 223.9765 \r\nL 183.929261 223.9765 \r\nz\r\n\" style=\"fill:#ffa500;\"/>\r\n   </g>\r\n   <g id=\"patch_8\">\r\n    <path clip-path=\"url(#p5c55f3cdc3)\" d=\"M 214.365625 239.758125 \r\nL 244.801989 239.758125 \r\nL 244.801989 235.908948 \r\nL 214.365625 235.908948 \r\nz\r\n\" style=\"fill:#ffa500;\"/>\r\n   </g>\r\n   <g id=\"patch_9\">\r\n    <path clip-path=\"url(#p5c55f3cdc3)\" d=\"M 244.801989 239.758125 \r\nL 275.238352 239.758125 \r\nL 275.238352 235.139113 \r\nL 244.801989 235.139113 \r\nz\r\n\" style=\"fill:#ffa500;\"/>\r\n   </g>\r\n   <g id=\"patch_10\">\r\n    <path clip-path=\"url(#p5c55f3cdc3)\" d=\"M 275.238352 239.758125 \r\nL 305.674716 239.758125 \r\nL 305.674716 235.52403 \r\nL 275.238352 235.52403 \r\nz\r\n\" style=\"fill:#ffa500;\"/>\r\n   </g>\r\n   <g id=\"patch_11\">\r\n    <path clip-path=\"url(#p5c55f3cdc3)\" d=\"M 305.674716 239.758125 \r\nL 336.11108 239.758125 \r\nL 336.11108 239.758125 \r\nL 305.674716 239.758125 \r\nz\r\n\" style=\"fill:#ffa500;\"/>\r\n   </g>\r\n   <g id=\"patch_12\">\r\n    <path clip-path=\"url(#p5c55f3cdc3)\" d=\"M 336.11108 239.758125 \r\nL 366.547443 239.758125 \r\nL 366.547443 238.98829 \r\nL 336.11108 238.98829 \r\nz\r\n\" style=\"fill:#ffa500;\"/>\r\n   </g>\r\n   <g id=\"matplotlib.axis_1\">\r\n    <g id=\"xtick_1\">\r\n     <g id=\"line2d_1\">\r\n      <defs>\r\n       <path d=\"M 0 0 \r\nL 0 3.5 \r\n\" id=\"m54558b296b\" style=\"stroke:#000000;stroke-width:0.8;\"/>\r\n      </defs>\r\n      <g>\r\n       <use style=\"stroke:#000000;stroke-width:0.8;\" x=\"58.91108\" xlink:href=\"#m54558b296b\" y=\"239.758125\"/>\r\n      </g>\r\n     </g>\r\n     <g id=\"text_1\">\r\n      <!-- 0 -->\r\n      <defs>\r\n       <path d=\"M 31.78125 66.40625 \r\nQ 24.171875 66.40625 20.328125 58.90625 \r\nQ 16.5 51.421875 16.5 36.375 \r\nQ 16.5 21.390625 20.328125 13.890625 \r\nQ 24.171875 6.390625 31.78125 6.390625 \r\nQ 39.453125 6.390625 43.28125 13.890625 \r\nQ 47.125 21.390625 47.125 36.375 \r\nQ 47.125 51.421875 43.28125 58.90625 \r\nQ 39.453125 66.40625 31.78125 66.40625 \r\nz\r\nM 31.78125 74.21875 \r\nQ 44.046875 74.21875 50.515625 64.515625 \r\nQ 56.984375 54.828125 56.984375 36.375 \r\nQ 56.984375 17.96875 50.515625 8.265625 \r\nQ 44.046875 -1.421875 31.78125 -1.421875 \r\nQ 19.53125 -1.421875 13.0625 8.265625 \r\nQ 6.59375 17.96875 6.59375 36.375 \r\nQ 6.59375 54.828125 13.0625 64.515625 \r\nQ 19.53125 74.21875 31.78125 74.21875 \r\nz\r\n\" id=\"DejaVuSans-48\"/>\r\n      </defs>\r\n      <g transform=\"translate(55.72983 254.356562)scale(0.1 -0.1)\">\r\n       <use xlink:href=\"#DejaVuSans-48\"/>\r\n      </g>\r\n     </g>\r\n    </g>\r\n    <g id=\"xtick_2\">\r\n     <g id=\"line2d_2\">\r\n      <g>\r\n       <use style=\"stroke:#000000;stroke-width:0.8;\" x=\"124.365625\" xlink:href=\"#m54558b296b\" y=\"239.758125\"/>\r\n      </g>\r\n     </g>\r\n     <g id=\"text_2\">\r\n      <!-- 20 -->\r\n      <defs>\r\n       <path d=\"M 19.1875 8.296875 \r\nL 53.609375 8.296875 \r\nL 53.609375 0 \r\nL 7.328125 0 \r\nL 7.328125 8.296875 \r\nQ 12.9375 14.109375 22.625 23.890625 \r\nQ 32.328125 33.6875 34.8125 36.53125 \r\nQ 39.546875 41.84375 41.421875 45.53125 \r\nQ 43.3125 49.21875 43.3125 52.78125 \r\nQ 43.3125 58.59375 39.234375 62.25 \r\nQ 35.15625 65.921875 28.609375 65.921875 \r\nQ 23.96875 65.921875 18.8125 64.3125 \r\nQ 13.671875 62.703125 7.8125 59.421875 \r\nL 7.8125 69.390625 \r\nQ 13.765625 71.78125 18.9375 73 \r\nQ 24.125 74.21875 28.421875 74.21875 \r\nQ 39.75 74.21875 46.484375 68.546875 \r\nQ 53.21875 62.890625 53.21875 53.421875 \r\nQ 53.21875 48.921875 51.53125 44.890625 \r\nQ 49.859375 40.875 45.40625 35.40625 \r\nQ 44.1875 33.984375 37.640625 27.21875 \r\nQ 31.109375 20.453125 19.1875 8.296875 \r\nz\r\n\" id=\"DejaVuSans-50\"/>\r\n      </defs>\r\n      <g transform=\"translate(118.003125 254.356562)scale(0.1 -0.1)\">\r\n       <use xlink:href=\"#DejaVuSans-50\"/>\r\n       <use x=\"63.623047\" xlink:href=\"#DejaVuSans-48\"/>\r\n      </g>\r\n     </g>\r\n    </g>\r\n    <g id=\"xtick_3\">\r\n     <g id=\"line2d_3\">\r\n      <g>\r\n       <use style=\"stroke:#000000;stroke-width:0.8;\" x=\"189.82017\" xlink:href=\"#m54558b296b\" y=\"239.758125\"/>\r\n      </g>\r\n     </g>\r\n     <g id=\"text_3\">\r\n      <!-- 40 -->\r\n      <defs>\r\n       <path d=\"M 37.796875 64.3125 \r\nL 12.890625 25.390625 \r\nL 37.796875 25.390625 \r\nz\r\nM 35.203125 72.90625 \r\nL 47.609375 72.90625 \r\nL 47.609375 25.390625 \r\nL 58.015625 25.390625 \r\nL 58.015625 17.1875 \r\nL 47.609375 17.1875 \r\nL 47.609375 0 \r\nL 37.796875 0 \r\nL 37.796875 17.1875 \r\nL 4.890625 17.1875 \r\nL 4.890625 26.703125 \r\nz\r\n\" id=\"DejaVuSans-52\"/>\r\n      </defs>\r\n      <g transform=\"translate(183.45767 254.356562)scale(0.1 -0.1)\">\r\n       <use xlink:href=\"#DejaVuSans-52\"/>\r\n       <use x=\"63.623047\" xlink:href=\"#DejaVuSans-48\"/>\r\n      </g>\r\n     </g>\r\n    </g>\r\n    <g id=\"xtick_4\">\r\n     <g id=\"line2d_4\">\r\n      <g>\r\n       <use style=\"stroke:#000000;stroke-width:0.8;\" x=\"255.274716\" xlink:href=\"#m54558b296b\" y=\"239.758125\"/>\r\n      </g>\r\n     </g>\r\n     <g id=\"text_4\">\r\n      <!-- 60 -->\r\n      <defs>\r\n       <path d=\"M 33.015625 40.375 \r\nQ 26.375 40.375 22.484375 35.828125 \r\nQ 18.609375 31.296875 18.609375 23.390625 \r\nQ 18.609375 15.53125 22.484375 10.953125 \r\nQ 26.375 6.390625 33.015625 6.390625 \r\nQ 39.65625 6.390625 43.53125 10.953125 \r\nQ 47.40625 15.53125 47.40625 23.390625 \r\nQ 47.40625 31.296875 43.53125 35.828125 \r\nQ 39.65625 40.375 33.015625 40.375 \r\nz\r\nM 52.59375 71.296875 \r\nL 52.59375 62.3125 \r\nQ 48.875 64.0625 45.09375 64.984375 \r\nQ 41.3125 65.921875 37.59375 65.921875 \r\nQ 27.828125 65.921875 22.671875 59.328125 \r\nQ 17.53125 52.734375 16.796875 39.40625 \r\nQ 19.671875 43.65625 24.015625 45.921875 \r\nQ 28.375 48.1875 33.59375 48.1875 \r\nQ 44.578125 48.1875 50.953125 41.515625 \r\nQ 57.328125 34.859375 57.328125 23.390625 \r\nQ 57.328125 12.15625 50.6875 5.359375 \r\nQ 44.046875 -1.421875 33.015625 -1.421875 \r\nQ 20.359375 -1.421875 13.671875 8.265625 \r\nQ 6.984375 17.96875 6.984375 36.375 \r\nQ 6.984375 53.65625 15.1875 63.9375 \r\nQ 23.390625 74.21875 37.203125 74.21875 \r\nQ 40.921875 74.21875 44.703125 73.484375 \r\nQ 48.484375 72.75 52.59375 71.296875 \r\nz\r\n\" id=\"DejaVuSans-54\"/>\r\n      </defs>\r\n      <g transform=\"translate(248.912216 254.356562)scale(0.1 -0.1)\">\r\n       <use xlink:href=\"#DejaVuSans-54\"/>\r\n       <use x=\"63.623047\" xlink:href=\"#DejaVuSans-48\"/>\r\n      </g>\r\n     </g>\r\n    </g>\r\n    <g id=\"xtick_5\">\r\n     <g id=\"line2d_5\">\r\n      <g>\r\n       <use style=\"stroke:#000000;stroke-width:0.8;\" x=\"320.729261\" xlink:href=\"#m54558b296b\" y=\"239.758125\"/>\r\n      </g>\r\n     </g>\r\n     <g id=\"text_5\">\r\n      <!-- 80 -->\r\n      <defs>\r\n       <path d=\"M 31.78125 34.625 \r\nQ 24.75 34.625 20.71875 30.859375 \r\nQ 16.703125 27.09375 16.703125 20.515625 \r\nQ 16.703125 13.921875 20.71875 10.15625 \r\nQ 24.75 6.390625 31.78125 6.390625 \r\nQ 38.8125 6.390625 42.859375 10.171875 \r\nQ 46.921875 13.96875 46.921875 20.515625 \r\nQ 46.921875 27.09375 42.890625 30.859375 \r\nQ 38.875 34.625 31.78125 34.625 \r\nz\r\nM 21.921875 38.8125 \r\nQ 15.578125 40.375 12.03125 44.71875 \r\nQ 8.5 49.078125 8.5 55.328125 \r\nQ 8.5 64.0625 14.71875 69.140625 \r\nQ 20.953125 74.21875 31.78125 74.21875 \r\nQ 42.671875 74.21875 48.875 69.140625 \r\nQ 55.078125 64.0625 55.078125 55.328125 \r\nQ 55.078125 49.078125 51.53125 44.71875 \r\nQ 48 40.375 41.703125 38.8125 \r\nQ 48.828125 37.15625 52.796875 32.3125 \r\nQ 56.78125 27.484375 56.78125 20.515625 \r\nQ 56.78125 9.90625 50.3125 4.234375 \r\nQ 43.84375 -1.421875 31.78125 -1.421875 \r\nQ 19.734375 -1.421875 13.25 4.234375 \r\nQ 6.78125 9.90625 6.78125 20.515625 \r\nQ 6.78125 27.484375 10.78125 32.3125 \r\nQ 14.796875 37.15625 21.921875 38.8125 \r\nz\r\nM 18.3125 54.390625 \r\nQ 18.3125 48.734375 21.84375 45.5625 \r\nQ 25.390625 42.390625 31.78125 42.390625 \r\nQ 38.140625 42.390625 41.71875 45.5625 \r\nQ 45.3125 48.734375 45.3125 54.390625 \r\nQ 45.3125 60.0625 41.71875 63.234375 \r\nQ 38.140625 66.40625 31.78125 66.40625 \r\nQ 25.390625 66.40625 21.84375 63.234375 \r\nQ 18.3125 60.0625 18.3125 54.390625 \r\nz\r\n\" id=\"DejaVuSans-56\"/>\r\n      </defs>\r\n      <g transform=\"translate(314.366761 254.356562)scale(0.1 -0.1)\">\r\n       <use xlink:href=\"#DejaVuSans-56\"/>\r\n       <use x=\"63.623047\" xlink:href=\"#DejaVuSans-48\"/>\r\n      </g>\r\n     </g>\r\n    </g>\r\n    <g id=\"text_6\">\r\n     <!-- Sentence Length (Number of Words in a Sentence) -->\r\n     <defs>\r\n      <path d=\"M 53.515625 70.515625 \r\nL 53.515625 60.890625 \r\nQ 47.90625 63.578125 42.921875 64.890625 \r\nQ 37.9375 66.21875 33.296875 66.21875 \r\nQ 25.25 66.21875 20.875 63.09375 \r\nQ 16.5 59.96875 16.5 54.203125 \r\nQ 16.5 49.359375 19.40625 46.890625 \r\nQ 22.3125 44.4375 30.421875 42.921875 \r\nL 36.375 41.703125 \r\nQ 47.40625 39.59375 52.65625 34.296875 \r\nQ 57.90625 29 57.90625 20.125 \r\nQ 57.90625 9.515625 50.796875 4.046875 \r\nQ 43.703125 -1.421875 29.984375 -1.421875 \r\nQ 24.8125 -1.421875 18.96875 -0.25 \r\nQ 13.140625 0.921875 6.890625 3.21875 \r\nL 6.890625 13.375 \r\nQ 12.890625 10.015625 18.65625 8.296875 \r\nQ 24.421875 6.59375 29.984375 6.59375 \r\nQ 38.421875 6.59375 43.015625 9.90625 \r\nQ 47.609375 13.234375 47.609375 19.390625 \r\nQ 47.609375 24.75 44.3125 27.78125 \r\nQ 41.015625 30.8125 33.5 32.328125 \r\nL 27.484375 33.5 \r\nQ 16.453125 35.6875 11.515625 40.375 \r\nQ 6.59375 45.0625 6.59375 53.421875 \r\nQ 6.59375 63.09375 13.40625 68.65625 \r\nQ 20.21875 74.21875 32.171875 74.21875 \r\nQ 37.3125 74.21875 42.625 73.28125 \r\nQ 47.953125 72.359375 53.515625 70.515625 \r\nz\r\n\" id=\"DejaVuSans-83\"/>\r\n      <path d=\"M 56.203125 29.59375 \r\nL 56.203125 25.203125 \r\nL 14.890625 25.203125 \r\nQ 15.484375 15.921875 20.484375 11.0625 \r\nQ 25.484375 6.203125 34.421875 6.203125 \r\nQ 39.59375 6.203125 44.453125 7.46875 \r\nQ 49.3125 8.734375 54.109375 11.28125 \r\nL 54.109375 2.78125 \r\nQ 49.265625 0.734375 44.1875 -0.34375 \r\nQ 39.109375 -1.421875 33.890625 -1.421875 \r\nQ 20.796875 -1.421875 13.15625 6.1875 \r\nQ 5.515625 13.8125 5.515625 26.8125 \r\nQ 5.515625 40.234375 12.765625 48.109375 \r\nQ 20.015625 56 32.328125 56 \r\nQ 43.359375 56 49.78125 48.890625 \r\nQ 56.203125 41.796875 56.203125 29.59375 \r\nz\r\nM 47.21875 32.234375 \r\nQ 47.125 39.59375 43.09375 43.984375 \r\nQ 39.0625 48.390625 32.421875 48.390625 \r\nQ 24.90625 48.390625 20.390625 44.140625 \r\nQ 15.875 39.890625 15.1875 32.171875 \r\nz\r\n\" id=\"DejaVuSans-101\"/>\r\n      <path d=\"M 54.890625 33.015625 \r\nL 54.890625 0 \r\nL 45.90625 0 \r\nL 45.90625 32.71875 \r\nQ 45.90625 40.484375 42.875 44.328125 \r\nQ 39.84375 48.1875 33.796875 48.1875 \r\nQ 26.515625 48.1875 22.3125 43.546875 \r\nQ 18.109375 38.921875 18.109375 30.90625 \r\nL 18.109375 0 \r\nL 9.078125 0 \r\nL 9.078125 54.6875 \r\nL 18.109375 54.6875 \r\nL 18.109375 46.1875 \r\nQ 21.34375 51.125 25.703125 53.5625 \r\nQ 30.078125 56 35.796875 56 \r\nQ 45.21875 56 50.046875 50.171875 \r\nQ 54.890625 44.34375 54.890625 33.015625 \r\nz\r\n\" id=\"DejaVuSans-110\"/>\r\n      <path d=\"M 18.3125 70.21875 \r\nL 18.3125 54.6875 \r\nL 36.8125 54.6875 \r\nL 36.8125 47.703125 \r\nL 18.3125 47.703125 \r\nL 18.3125 18.015625 \r\nQ 18.3125 11.328125 20.140625 9.421875 \r\nQ 21.96875 7.515625 27.59375 7.515625 \r\nL 36.8125 7.515625 \r\nL 36.8125 0 \r\nL 27.59375 0 \r\nQ 17.1875 0 13.234375 3.875 \r\nQ 9.28125 7.765625 9.28125 18.015625 \r\nL 9.28125 47.703125 \r\nL 2.6875 47.703125 \r\nL 2.6875 54.6875 \r\nL 9.28125 54.6875 \r\nL 9.28125 70.21875 \r\nz\r\n\" id=\"DejaVuSans-116\"/>\r\n      <path d=\"M 48.78125 52.59375 \r\nL 48.78125 44.1875 \r\nQ 44.96875 46.296875 41.140625 47.34375 \r\nQ 37.3125 48.390625 33.40625 48.390625 \r\nQ 24.65625 48.390625 19.8125 42.84375 \r\nQ 14.984375 37.3125 14.984375 27.296875 \r\nQ 14.984375 17.28125 19.8125 11.734375 \r\nQ 24.65625 6.203125 33.40625 6.203125 \r\nQ 37.3125 6.203125 41.140625 7.25 \r\nQ 44.96875 8.296875 48.78125 10.40625 \r\nL 48.78125 2.09375 \r\nQ 45.015625 0.34375 40.984375 -0.53125 \r\nQ 36.96875 -1.421875 32.421875 -1.421875 \r\nQ 20.0625 -1.421875 12.78125 6.34375 \r\nQ 5.515625 14.109375 5.515625 27.296875 \r\nQ 5.515625 40.671875 12.859375 48.328125 \r\nQ 20.21875 56 33.015625 56 \r\nQ 37.15625 56 41.109375 55.140625 \r\nQ 45.0625 54.296875 48.78125 52.59375 \r\nz\r\n\" id=\"DejaVuSans-99\"/>\r\n      <path id=\"DejaVuSans-32\"/>\r\n      <path d=\"M 9.8125 72.90625 \r\nL 19.671875 72.90625 \r\nL 19.671875 8.296875 \r\nL 55.171875 8.296875 \r\nL 55.171875 0 \r\nL 9.8125 0 \r\nz\r\n\" id=\"DejaVuSans-76\"/>\r\n      <path d=\"M 45.40625 27.984375 \r\nQ 45.40625 37.75 41.375 43.109375 \r\nQ 37.359375 48.484375 30.078125 48.484375 \r\nQ 22.859375 48.484375 18.828125 43.109375 \r\nQ 14.796875 37.75 14.796875 27.984375 \r\nQ 14.796875 18.265625 18.828125 12.890625 \r\nQ 22.859375 7.515625 30.078125 7.515625 \r\nQ 37.359375 7.515625 41.375 12.890625 \r\nQ 45.40625 18.265625 45.40625 27.984375 \r\nz\r\nM 54.390625 6.78125 \r\nQ 54.390625 -7.171875 48.1875 -13.984375 \r\nQ 42 -20.796875 29.203125 -20.796875 \r\nQ 24.46875 -20.796875 20.265625 -20.09375 \r\nQ 16.0625 -19.390625 12.109375 -17.921875 \r\nL 12.109375 -9.1875 \r\nQ 16.0625 -11.328125 19.921875 -12.34375 \r\nQ 23.78125 -13.375 27.78125 -13.375 \r\nQ 36.625 -13.375 41.015625 -8.765625 \r\nQ 45.40625 -4.15625 45.40625 5.171875 \r\nL 45.40625 9.625 \r\nQ 42.625 4.78125 38.28125 2.390625 \r\nQ 33.9375 0 27.875 0 \r\nQ 17.828125 0 11.671875 7.65625 \r\nQ 5.515625 15.328125 5.515625 27.984375 \r\nQ 5.515625 40.671875 11.671875 48.328125 \r\nQ 17.828125 56 27.875 56 \r\nQ 33.9375 56 38.28125 53.609375 \r\nQ 42.625 51.21875 45.40625 46.390625 \r\nL 45.40625 54.6875 \r\nL 54.390625 54.6875 \r\nz\r\n\" id=\"DejaVuSans-103\"/>\r\n      <path d=\"M 54.890625 33.015625 \r\nL 54.890625 0 \r\nL 45.90625 0 \r\nL 45.90625 32.71875 \r\nQ 45.90625 40.484375 42.875 44.328125 \r\nQ 39.84375 48.1875 33.796875 48.1875 \r\nQ 26.515625 48.1875 22.3125 43.546875 \r\nQ 18.109375 38.921875 18.109375 30.90625 \r\nL 18.109375 0 \r\nL 9.078125 0 \r\nL 9.078125 75.984375 \r\nL 18.109375 75.984375 \r\nL 18.109375 46.1875 \r\nQ 21.34375 51.125 25.703125 53.5625 \r\nQ 30.078125 56 35.796875 56 \r\nQ 45.21875 56 50.046875 50.171875 \r\nQ 54.890625 44.34375 54.890625 33.015625 \r\nz\r\n\" id=\"DejaVuSans-104\"/>\r\n      <path d=\"M 31 75.875 \r\nQ 24.46875 64.65625 21.28125 53.65625 \r\nQ 18.109375 42.671875 18.109375 31.390625 \r\nQ 18.109375 20.125 21.3125 9.0625 \r\nQ 24.515625 -2 31 -13.1875 \r\nL 23.1875 -13.1875 \r\nQ 15.875 -1.703125 12.234375 9.375 \r\nQ 8.59375 20.453125 8.59375 31.390625 \r\nQ 8.59375 42.28125 12.203125 53.3125 \r\nQ 15.828125 64.359375 23.1875 75.875 \r\nz\r\n\" id=\"DejaVuSans-40\"/>\r\n      <path d=\"M 9.8125 72.90625 \r\nL 23.09375 72.90625 \r\nL 55.421875 11.921875 \r\nL 55.421875 72.90625 \r\nL 64.984375 72.90625 \r\nL 64.984375 0 \r\nL 51.703125 0 \r\nL 19.390625 60.984375 \r\nL 19.390625 0 \r\nL 9.8125 0 \r\nz\r\n\" id=\"DejaVuSans-78\"/>\r\n      <path d=\"M 8.5 21.578125 \r\nL 8.5 54.6875 \r\nL 17.484375 54.6875 \r\nL 17.484375 21.921875 \r\nQ 17.484375 14.15625 20.5 10.265625 \r\nQ 23.53125 6.390625 29.59375 6.390625 \r\nQ 36.859375 6.390625 41.078125 11.03125 \r\nQ 45.3125 15.671875 45.3125 23.6875 \r\nL 45.3125 54.6875 \r\nL 54.296875 54.6875 \r\nL 54.296875 0 \r\nL 45.3125 0 \r\nL 45.3125 8.40625 \r\nQ 42.046875 3.421875 37.71875 1 \r\nQ 33.40625 -1.421875 27.6875 -1.421875 \r\nQ 18.265625 -1.421875 13.375 4.4375 \r\nQ 8.5 10.296875 8.5 21.578125 \r\nz\r\nM 31.109375 56 \r\nz\r\n\" id=\"DejaVuSans-117\"/>\r\n      <path d=\"M 52 44.1875 \r\nQ 55.375 50.25 60.0625 53.125 \r\nQ 64.75 56 71.09375 56 \r\nQ 79.640625 56 84.28125 50.015625 \r\nQ 88.921875 44.046875 88.921875 33.015625 \r\nL 88.921875 0 \r\nL 79.890625 0 \r\nL 79.890625 32.71875 \r\nQ 79.890625 40.578125 77.09375 44.375 \r\nQ 74.3125 48.1875 68.609375 48.1875 \r\nQ 61.625 48.1875 57.5625 43.546875 \r\nQ 53.515625 38.921875 53.515625 30.90625 \r\nL 53.515625 0 \r\nL 44.484375 0 \r\nL 44.484375 32.71875 \r\nQ 44.484375 40.625 41.703125 44.40625 \r\nQ 38.921875 48.1875 33.109375 48.1875 \r\nQ 26.21875 48.1875 22.15625 43.53125 \r\nQ 18.109375 38.875 18.109375 30.90625 \r\nL 18.109375 0 \r\nL 9.078125 0 \r\nL 9.078125 54.6875 \r\nL 18.109375 54.6875 \r\nL 18.109375 46.1875 \r\nQ 21.1875 51.21875 25.484375 53.609375 \r\nQ 29.78125 56 35.6875 56 \r\nQ 41.65625 56 45.828125 52.96875 \r\nQ 50 49.953125 52 44.1875 \r\nz\r\n\" id=\"DejaVuSans-109\"/>\r\n      <path d=\"M 48.6875 27.296875 \r\nQ 48.6875 37.203125 44.609375 42.84375 \r\nQ 40.53125 48.484375 33.40625 48.484375 \r\nQ 26.265625 48.484375 22.1875 42.84375 \r\nQ 18.109375 37.203125 18.109375 27.296875 \r\nQ 18.109375 17.390625 22.1875 11.75 \r\nQ 26.265625 6.109375 33.40625 6.109375 \r\nQ 40.53125 6.109375 44.609375 11.75 \r\nQ 48.6875 17.390625 48.6875 27.296875 \r\nz\r\nM 18.109375 46.390625 \r\nQ 20.953125 51.265625 25.265625 53.625 \r\nQ 29.59375 56 35.59375 56 \r\nQ 45.5625 56 51.78125 48.09375 \r\nQ 58.015625 40.1875 58.015625 27.296875 \r\nQ 58.015625 14.40625 51.78125 6.484375 \r\nQ 45.5625 -1.421875 35.59375 -1.421875 \r\nQ 29.59375 -1.421875 25.265625 0.953125 \r\nQ 20.953125 3.328125 18.109375 8.203125 \r\nL 18.109375 0 \r\nL 9.078125 0 \r\nL 9.078125 75.984375 \r\nL 18.109375 75.984375 \r\nz\r\n\" id=\"DejaVuSans-98\"/>\r\n      <path d=\"M 41.109375 46.296875 \r\nQ 39.59375 47.171875 37.8125 47.578125 \r\nQ 36.03125 48 33.890625 48 \r\nQ 26.265625 48 22.1875 43.046875 \r\nQ 18.109375 38.09375 18.109375 28.8125 \r\nL 18.109375 0 \r\nL 9.078125 0 \r\nL 9.078125 54.6875 \r\nL 18.109375 54.6875 \r\nL 18.109375 46.1875 \r\nQ 20.953125 51.171875 25.484375 53.578125 \r\nQ 30.03125 56 36.53125 56 \r\nQ 37.453125 56 38.578125 55.875 \r\nQ 39.703125 55.765625 41.0625 55.515625 \r\nz\r\n\" id=\"DejaVuSans-114\"/>\r\n      <path d=\"M 30.609375 48.390625 \r\nQ 23.390625 48.390625 19.1875 42.75 \r\nQ 14.984375 37.109375 14.984375 27.296875 \r\nQ 14.984375 17.484375 19.15625 11.84375 \r\nQ 23.34375 6.203125 30.609375 6.203125 \r\nQ 37.796875 6.203125 41.984375 11.859375 \r\nQ 46.1875 17.53125 46.1875 27.296875 \r\nQ 46.1875 37.015625 41.984375 42.703125 \r\nQ 37.796875 48.390625 30.609375 48.390625 \r\nz\r\nM 30.609375 56 \r\nQ 42.328125 56 49.015625 48.375 \r\nQ 55.71875 40.765625 55.71875 27.296875 \r\nQ 55.71875 13.875 49.015625 6.21875 \r\nQ 42.328125 -1.421875 30.609375 -1.421875 \r\nQ 18.84375 -1.421875 12.171875 6.21875 \r\nQ 5.515625 13.875 5.515625 27.296875 \r\nQ 5.515625 40.765625 12.171875 48.375 \r\nQ 18.84375 56 30.609375 56 \r\nz\r\n\" id=\"DejaVuSans-111\"/>\r\n      <path d=\"M 37.109375 75.984375 \r\nL 37.109375 68.5 \r\nL 28.515625 68.5 \r\nQ 23.6875 68.5 21.796875 66.546875 \r\nQ 19.921875 64.59375 19.921875 59.515625 \r\nL 19.921875 54.6875 \r\nL 34.71875 54.6875 \r\nL 34.71875 47.703125 \r\nL 19.921875 47.703125 \r\nL 19.921875 0 \r\nL 10.890625 0 \r\nL 10.890625 47.703125 \r\nL 2.296875 47.703125 \r\nL 2.296875 54.6875 \r\nL 10.890625 54.6875 \r\nL 10.890625 58.5 \r\nQ 10.890625 67.625 15.140625 71.796875 \r\nQ 19.390625 75.984375 28.609375 75.984375 \r\nz\r\n\" id=\"DejaVuSans-102\"/>\r\n      <path d=\"M 3.328125 72.90625 \r\nL 13.28125 72.90625 \r\nL 28.609375 11.28125 \r\nL 43.890625 72.90625 \r\nL 54.984375 72.90625 \r\nL 70.3125 11.28125 \r\nL 85.59375 72.90625 \r\nL 95.609375 72.90625 \r\nL 77.296875 0 \r\nL 64.890625 0 \r\nL 49.515625 63.28125 \r\nL 33.984375 0 \r\nL 21.578125 0 \r\nz\r\n\" id=\"DejaVuSans-87\"/>\r\n      <path d=\"M 45.40625 46.390625 \r\nL 45.40625 75.984375 \r\nL 54.390625 75.984375 \r\nL 54.390625 0 \r\nL 45.40625 0 \r\nL 45.40625 8.203125 \r\nQ 42.578125 3.328125 38.25 0.953125 \r\nQ 33.9375 -1.421875 27.875 -1.421875 \r\nQ 17.96875 -1.421875 11.734375 6.484375 \r\nQ 5.515625 14.40625 5.515625 27.296875 \r\nQ 5.515625 40.1875 11.734375 48.09375 \r\nQ 17.96875 56 27.875 56 \r\nQ 33.9375 56 38.25 53.625 \r\nQ 42.578125 51.265625 45.40625 46.390625 \r\nz\r\nM 14.796875 27.296875 \r\nQ 14.796875 17.390625 18.875 11.75 \r\nQ 22.953125 6.109375 30.078125 6.109375 \r\nQ 37.203125 6.109375 41.296875 11.75 \r\nQ 45.40625 17.390625 45.40625 27.296875 \r\nQ 45.40625 37.203125 41.296875 42.84375 \r\nQ 37.203125 48.484375 30.078125 48.484375 \r\nQ 22.953125 48.484375 18.875 42.84375 \r\nQ 14.796875 37.203125 14.796875 27.296875 \r\nz\r\n\" id=\"DejaVuSans-100\"/>\r\n      <path d=\"M 44.28125 53.078125 \r\nL 44.28125 44.578125 \r\nQ 40.484375 46.53125 36.375 47.5 \r\nQ 32.28125 48.484375 27.875 48.484375 \r\nQ 21.1875 48.484375 17.84375 46.4375 \r\nQ 14.5 44.390625 14.5 40.28125 \r\nQ 14.5 37.15625 16.890625 35.375 \r\nQ 19.28125 33.59375 26.515625 31.984375 \r\nL 29.59375 31.296875 \r\nQ 39.15625 29.25 43.1875 25.515625 \r\nQ 47.21875 21.78125 47.21875 15.09375 \r\nQ 47.21875 7.46875 41.1875 3.015625 \r\nQ 35.15625 -1.421875 24.609375 -1.421875 \r\nQ 20.21875 -1.421875 15.453125 -0.5625 \r\nQ 10.6875 0.296875 5.421875 2 \r\nL 5.421875 11.28125 \r\nQ 10.40625 8.6875 15.234375 7.390625 \r\nQ 20.0625 6.109375 24.8125 6.109375 \r\nQ 31.15625 6.109375 34.5625 8.28125 \r\nQ 37.984375 10.453125 37.984375 14.40625 \r\nQ 37.984375 18.0625 35.515625 20.015625 \r\nQ 33.0625 21.96875 24.703125 23.78125 \r\nL 21.578125 24.515625 \r\nQ 13.234375 26.265625 9.515625 29.90625 \r\nQ 5.8125 33.546875 5.8125 39.890625 \r\nQ 5.8125 47.609375 11.28125 51.796875 \r\nQ 16.75 56 26.8125 56 \r\nQ 31.78125 56 36.171875 55.265625 \r\nQ 40.578125 54.546875 44.28125 53.078125 \r\nz\r\n\" id=\"DejaVuSans-115\"/>\r\n      <path d=\"M 9.421875 54.6875 \r\nL 18.40625 54.6875 \r\nL 18.40625 0 \r\nL 9.421875 0 \r\nz\r\nM 9.421875 75.984375 \r\nL 18.40625 75.984375 \r\nL 18.40625 64.59375 \r\nL 9.421875 64.59375 \r\nz\r\n\" id=\"DejaVuSans-105\"/>\r\n      <path d=\"M 34.28125 27.484375 \r\nQ 23.390625 27.484375 19.1875 25 \r\nQ 14.984375 22.515625 14.984375 16.5 \r\nQ 14.984375 11.71875 18.140625 8.90625 \r\nQ 21.296875 6.109375 26.703125 6.109375 \r\nQ 34.1875 6.109375 38.703125 11.40625 \r\nQ 43.21875 16.703125 43.21875 25.484375 \r\nL 43.21875 27.484375 \r\nz\r\nM 52.203125 31.203125 \r\nL 52.203125 0 \r\nL 43.21875 0 \r\nL 43.21875 8.296875 \r\nQ 40.140625 3.328125 35.546875 0.953125 \r\nQ 30.953125 -1.421875 24.3125 -1.421875 \r\nQ 15.921875 -1.421875 10.953125 3.296875 \r\nQ 6 8.015625 6 15.921875 \r\nQ 6 25.140625 12.171875 29.828125 \r\nQ 18.359375 34.515625 30.609375 34.515625 \r\nL 43.21875 34.515625 \r\nL 43.21875 35.40625 \r\nQ 43.21875 41.609375 39.140625 45 \r\nQ 35.0625 48.390625 27.6875 48.390625 \r\nQ 23 48.390625 18.546875 47.265625 \r\nQ 14.109375 46.140625 10.015625 43.890625 \r\nL 10.015625 52.203125 \r\nQ 14.9375 54.109375 19.578125 55.046875 \r\nQ 24.21875 56 28.609375 56 \r\nQ 40.484375 56 46.34375 49.84375 \r\nQ 52.203125 43.703125 52.203125 31.203125 \r\nz\r\n\" id=\"DejaVuSans-97\"/>\r\n      <path d=\"M 8.015625 75.875 \r\nL 15.828125 75.875 \r\nQ 23.140625 64.359375 26.78125 53.3125 \r\nQ 30.421875 42.28125 30.421875 31.390625 \r\nQ 30.421875 20.453125 26.78125 9.375 \r\nQ 23.140625 -1.703125 15.828125 -13.1875 \r\nL 8.015625 -13.1875 \r\nQ 14.5 -2 17.703125 9.0625 \r\nQ 20.90625 20.125 20.90625 31.390625 \r\nQ 20.90625 42.671875 17.703125 53.65625 \r\nQ 14.5 64.65625 8.015625 75.875 \r\nz\r\n\" id=\"DejaVuSans-41\"/>\r\n     </defs>\r\n     <g transform=\"translate(86.745313 268.034687)scale(0.1 -0.1)\">\r\n      <use xlink:href=\"#DejaVuSans-83\"/>\r\n      <use x=\"63.476562\" xlink:href=\"#DejaVuSans-101\"/>\r\n      <use x=\"125\" xlink:href=\"#DejaVuSans-110\"/>\r\n      <use x=\"188.378906\" xlink:href=\"#DejaVuSans-116\"/>\r\n      <use x=\"227.587891\" xlink:href=\"#DejaVuSans-101\"/>\r\n      <use x=\"289.111328\" xlink:href=\"#DejaVuSans-110\"/>\r\n      <use x=\"352.490234\" xlink:href=\"#DejaVuSans-99\"/>\r\n      <use x=\"407.470703\" xlink:href=\"#DejaVuSans-101\"/>\r\n      <use x=\"468.994141\" xlink:href=\"#DejaVuSans-32\"/>\r\n      <use x=\"500.78125\" xlink:href=\"#DejaVuSans-76\"/>\r\n      <use x=\"556.478516\" xlink:href=\"#DejaVuSans-101\"/>\r\n      <use x=\"618.001953\" xlink:href=\"#DejaVuSans-110\"/>\r\n      <use x=\"681.380859\" xlink:href=\"#DejaVuSans-103\"/>\r\n      <use x=\"744.857422\" xlink:href=\"#DejaVuSans-116\"/>\r\n      <use x=\"784.066406\" xlink:href=\"#DejaVuSans-104\"/>\r\n      <use x=\"847.445312\" xlink:href=\"#DejaVuSans-32\"/>\r\n      <use x=\"879.232422\" xlink:href=\"#DejaVuSans-40\"/>\r\n      <use x=\"918.246094\" xlink:href=\"#DejaVuSans-78\"/>\r\n      <use x=\"993.050781\" xlink:href=\"#DejaVuSans-117\"/>\r\n      <use x=\"1056.429688\" xlink:href=\"#DejaVuSans-109\"/>\r\n      <use x=\"1153.841797\" xlink:href=\"#DejaVuSans-98\"/>\r\n      <use x=\"1217.318359\" xlink:href=\"#DejaVuSans-101\"/>\r\n      <use x=\"1278.841797\" xlink:href=\"#DejaVuSans-114\"/>\r\n      <use x=\"1319.955078\" xlink:href=\"#DejaVuSans-32\"/>\r\n      <use x=\"1351.742188\" xlink:href=\"#DejaVuSans-111\"/>\r\n      <use x=\"1412.923828\" xlink:href=\"#DejaVuSans-102\"/>\r\n      <use x=\"1448.128906\" xlink:href=\"#DejaVuSans-32\"/>\r\n      <use x=\"1479.916016\" xlink:href=\"#DejaVuSans-87\"/>\r\n      <use x=\"1578.714844\" xlink:href=\"#DejaVuSans-111\"/>\r\n      <use x=\"1639.896484\" xlink:href=\"#DejaVuSans-114\"/>\r\n      <use x=\"1680.994141\" xlink:href=\"#DejaVuSans-100\"/>\r\n      <use x=\"1744.470703\" xlink:href=\"#DejaVuSans-115\"/>\r\n      <use x=\"1796.570312\" xlink:href=\"#DejaVuSans-32\"/>\r\n      <use x=\"1828.357422\" xlink:href=\"#DejaVuSans-105\"/>\r\n      <use x=\"1856.140625\" xlink:href=\"#DejaVuSans-110\"/>\r\n      <use x=\"1919.519531\" xlink:href=\"#DejaVuSans-32\"/>\r\n      <use x=\"1951.306641\" xlink:href=\"#DejaVuSans-97\"/>\r\n      <use x=\"2012.585938\" xlink:href=\"#DejaVuSans-32\"/>\r\n      <use x=\"2044.373047\" xlink:href=\"#DejaVuSans-83\"/>\r\n      <use x=\"2107.849609\" xlink:href=\"#DejaVuSans-101\"/>\r\n      <use x=\"2169.373047\" xlink:href=\"#DejaVuSans-110\"/>\r\n      <use x=\"2232.751953\" xlink:href=\"#DejaVuSans-116\"/>\r\n      <use x=\"2271.960938\" xlink:href=\"#DejaVuSans-101\"/>\r\n      <use x=\"2333.484375\" xlink:href=\"#DejaVuSans-110\"/>\r\n      <use x=\"2396.863281\" xlink:href=\"#DejaVuSans-99\"/>\r\n      <use x=\"2451.84375\" xlink:href=\"#DejaVuSans-101\"/>\r\n      <use x=\"2513.367188\" xlink:href=\"#DejaVuSans-41\"/>\r\n     </g>\r\n    </g>\r\n   </g>\r\n   <g id=\"matplotlib.axis_2\">\r\n    <g id=\"ytick_1\">\r\n     <g id=\"line2d_6\">\r\n      <defs>\r\n       <path d=\"M 0 0 \r\nL -3.5 0 \r\n\" id=\"m0a925423f4\" style=\"stroke:#000000;stroke-width:0.8;\"/>\r\n      </defs>\r\n      <g>\r\n       <use style=\"stroke:#000000;stroke-width:0.8;\" x=\"46.965625\" xlink:href=\"#m0a925423f4\" y=\"239.758125\"/>\r\n      </g>\r\n     </g>\r\n     <g id=\"text_7\">\r\n      <!-- 0 -->\r\n      <g transform=\"translate(33.603125 243.557344)scale(0.1 -0.1)\">\r\n       <use xlink:href=\"#DejaVuSans-48\"/>\r\n      </g>\r\n     </g>\r\n    </g>\r\n    <g id=\"ytick_2\">\r\n     <g id=\"line2d_7\">\r\n      <g>\r\n       <use style=\"stroke:#000000;stroke-width:0.8;\" x=\"46.965625\" xlink:href=\"#m0a925423f4\" y=\"201.266357\"/>\r\n      </g>\r\n     </g>\r\n     <g id=\"text_8\">\r\n      <!-- 100 -->\r\n      <defs>\r\n       <path d=\"M 12.40625 8.296875 \r\nL 28.515625 8.296875 \r\nL 28.515625 63.921875 \r\nL 10.984375 60.40625 \r\nL 10.984375 69.390625 \r\nL 28.421875 72.90625 \r\nL 38.28125 72.90625 \r\nL 38.28125 8.296875 \r\nL 54.390625 8.296875 \r\nL 54.390625 0 \r\nL 12.40625 0 \r\nz\r\n\" id=\"DejaVuSans-49\"/>\r\n      </defs>\r\n      <g transform=\"translate(20.878125 205.065575)scale(0.1 -0.1)\">\r\n       <use xlink:href=\"#DejaVuSans-49\"/>\r\n       <use x=\"63.623047\" xlink:href=\"#DejaVuSans-48\"/>\r\n       <use x=\"127.246094\" xlink:href=\"#DejaVuSans-48\"/>\r\n      </g>\r\n     </g>\r\n    </g>\r\n    <g id=\"ytick_3\">\r\n     <g id=\"line2d_8\">\r\n      <g>\r\n       <use style=\"stroke:#000000;stroke-width:0.8;\" x=\"46.965625\" xlink:href=\"#m0a925423f4\" y=\"162.774588\"/>\r\n      </g>\r\n     </g>\r\n     <g id=\"text_9\">\r\n      <!-- 200 -->\r\n      <g transform=\"translate(20.878125 166.573807)scale(0.1 -0.1)\">\r\n       <use xlink:href=\"#DejaVuSans-50\"/>\r\n       <use x=\"63.623047\" xlink:href=\"#DejaVuSans-48\"/>\r\n       <use x=\"127.246094\" xlink:href=\"#DejaVuSans-48\"/>\r\n      </g>\r\n     </g>\r\n    </g>\r\n    <g id=\"ytick_4\">\r\n     <g id=\"line2d_9\">\r\n      <g>\r\n       <use style=\"stroke:#000000;stroke-width:0.8;\" x=\"46.965625\" xlink:href=\"#m0a925423f4\" y=\"124.28282\"/>\r\n      </g>\r\n     </g>\r\n     <g id=\"text_10\">\r\n      <!-- 300 -->\r\n      <defs>\r\n       <path d=\"M 40.578125 39.3125 \r\nQ 47.65625 37.796875 51.625 33 \r\nQ 55.609375 28.21875 55.609375 21.1875 \r\nQ 55.609375 10.40625 48.1875 4.484375 \r\nQ 40.765625 -1.421875 27.09375 -1.421875 \r\nQ 22.515625 -1.421875 17.65625 -0.515625 \r\nQ 12.796875 0.390625 7.625 2.203125 \r\nL 7.625 11.71875 \r\nQ 11.71875 9.328125 16.59375 8.109375 \r\nQ 21.484375 6.890625 26.8125 6.890625 \r\nQ 36.078125 6.890625 40.9375 10.546875 \r\nQ 45.796875 14.203125 45.796875 21.1875 \r\nQ 45.796875 27.640625 41.28125 31.265625 \r\nQ 36.765625 34.90625 28.71875 34.90625 \r\nL 20.21875 34.90625 \r\nL 20.21875 43.015625 \r\nL 29.109375 43.015625 \r\nQ 36.375 43.015625 40.234375 45.921875 \r\nQ 44.09375 48.828125 44.09375 54.296875 \r\nQ 44.09375 59.90625 40.109375 62.90625 \r\nQ 36.140625 65.921875 28.71875 65.921875 \r\nQ 24.65625 65.921875 20.015625 65.03125 \r\nQ 15.375 64.15625 9.8125 62.3125 \r\nL 9.8125 71.09375 \r\nQ 15.4375 72.65625 20.34375 73.4375 \r\nQ 25.25 74.21875 29.59375 74.21875 \r\nQ 40.828125 74.21875 47.359375 69.109375 \r\nQ 53.90625 64.015625 53.90625 55.328125 \r\nQ 53.90625 49.265625 50.4375 45.09375 \r\nQ 46.96875 40.921875 40.578125 39.3125 \r\nz\r\n\" id=\"DejaVuSans-51\"/>\r\n      </defs>\r\n      <g transform=\"translate(20.878125 128.082038)scale(0.1 -0.1)\">\r\n       <use xlink:href=\"#DejaVuSans-51\"/>\r\n       <use x=\"63.623047\" xlink:href=\"#DejaVuSans-48\"/>\r\n       <use x=\"127.246094\" xlink:href=\"#DejaVuSans-48\"/>\r\n      </g>\r\n     </g>\r\n    </g>\r\n    <g id=\"ytick_5\">\r\n     <g id=\"line2d_10\">\r\n      <g>\r\n       <use style=\"stroke:#000000;stroke-width:0.8;\" x=\"46.965625\" xlink:href=\"#m0a925423f4\" y=\"85.791051\"/>\r\n      </g>\r\n     </g>\r\n     <g id=\"text_11\">\r\n      <!-- 400 -->\r\n      <g transform=\"translate(20.878125 89.59027)scale(0.1 -0.1)\">\r\n       <use xlink:href=\"#DejaVuSans-52\"/>\r\n       <use x=\"63.623047\" xlink:href=\"#DejaVuSans-48\"/>\r\n       <use x=\"127.246094\" xlink:href=\"#DejaVuSans-48\"/>\r\n      </g>\r\n     </g>\r\n    </g>\r\n    <g id=\"ytick_6\">\r\n     <g id=\"line2d_11\">\r\n      <g>\r\n       <use style=\"stroke:#000000;stroke-width:0.8;\" x=\"46.965625\" xlink:href=\"#m0a925423f4\" y=\"47.299283\"/>\r\n      </g>\r\n     </g>\r\n     <g id=\"text_12\">\r\n      <!-- 500 -->\r\n      <defs>\r\n       <path d=\"M 10.796875 72.90625 \r\nL 49.515625 72.90625 \r\nL 49.515625 64.59375 \r\nL 19.828125 64.59375 \r\nL 19.828125 46.734375 \r\nQ 21.96875 47.46875 24.109375 47.828125 \r\nQ 26.265625 48.1875 28.421875 48.1875 \r\nQ 40.625 48.1875 47.75 41.5 \r\nQ 54.890625 34.8125 54.890625 23.390625 \r\nQ 54.890625 11.625 47.5625 5.09375 \r\nQ 40.234375 -1.421875 26.90625 -1.421875 \r\nQ 22.3125 -1.421875 17.546875 -0.640625 \r\nQ 12.796875 0.140625 7.71875 1.703125 \r\nL 7.71875 11.625 \r\nQ 12.109375 9.234375 16.796875 8.0625 \r\nQ 21.484375 6.890625 26.703125 6.890625 \r\nQ 35.15625 6.890625 40.078125 11.328125 \r\nQ 45.015625 15.765625 45.015625 23.390625 \r\nQ 45.015625 31 40.078125 35.4375 \r\nQ 35.15625 39.890625 26.703125 39.890625 \r\nQ 22.75 39.890625 18.8125 39.015625 \r\nQ 14.890625 38.140625 10.796875 36.28125 \r\nz\r\n\" id=\"DejaVuSans-53\"/>\r\n      </defs>\r\n      <g transform=\"translate(20.878125 51.098501)scale(0.1 -0.1)\">\r\n       <use xlink:href=\"#DejaVuSans-53\"/>\r\n       <use x=\"63.623047\" xlink:href=\"#DejaVuSans-48\"/>\r\n       <use x=\"127.246094\" xlink:href=\"#DejaVuSans-48\"/>\r\n      </g>\r\n     </g>\r\n    </g>\r\n    <g id=\"text_13\">\r\n     <!-- Number of Sentences -->\r\n     <g transform=\"translate(14.798438 185.177187)rotate(-90)scale(0.1 -0.1)\">\r\n      <use xlink:href=\"#DejaVuSans-78\"/>\r\n      <use x=\"74.804688\" xlink:href=\"#DejaVuSans-117\"/>\r\n      <use x=\"138.183594\" xlink:href=\"#DejaVuSans-109\"/>\r\n      <use x=\"235.595703\" xlink:href=\"#DejaVuSans-98\"/>\r\n      <use x=\"299.072266\" xlink:href=\"#DejaVuSans-101\"/>\r\n      <use x=\"360.595703\" xlink:href=\"#DejaVuSans-114\"/>\r\n      <use x=\"401.708984\" xlink:href=\"#DejaVuSans-32\"/>\r\n      <use x=\"433.496094\" xlink:href=\"#DejaVuSans-111\"/>\r\n      <use x=\"494.677734\" xlink:href=\"#DejaVuSans-102\"/>\r\n      <use x=\"529.882812\" xlink:href=\"#DejaVuSans-32\"/>\r\n      <use x=\"561.669922\" xlink:href=\"#DejaVuSans-83\"/>\r\n      <use x=\"625.146484\" xlink:href=\"#DejaVuSans-101\"/>\r\n      <use x=\"686.669922\" xlink:href=\"#DejaVuSans-110\"/>\r\n      <use x=\"750.048828\" xlink:href=\"#DejaVuSans-116\"/>\r\n      <use x=\"789.257812\" xlink:href=\"#DejaVuSans-101\"/>\r\n      <use x=\"850.78125\" xlink:href=\"#DejaVuSans-110\"/>\r\n      <use x=\"914.160156\" xlink:href=\"#DejaVuSans-99\"/>\r\n      <use x=\"969.140625\" xlink:href=\"#DejaVuSans-101\"/>\r\n      <use x=\"1030.664062\" xlink:href=\"#DejaVuSans-115\"/>\r\n     </g>\r\n    </g>\r\n   </g>\r\n   <g id=\"patch_13\">\r\n    <path d=\"M 46.965625 239.758125 \r\nL 46.965625 22.318125 \r\n\" style=\"fill:none;stroke:#000000;stroke-linecap:square;stroke-linejoin:miter;stroke-width:0.8;\"/>\r\n   </g>\r\n   <g id=\"patch_14\">\r\n    <path d=\"M 381.765625 239.758125 \r\nL 381.765625 22.318125 \r\n\" style=\"fill:none;stroke:#000000;stroke-linecap:square;stroke-linejoin:miter;stroke-width:0.8;\"/>\r\n   </g>\r\n   <g id=\"patch_15\">\r\n    <path d=\"M 46.965625 239.758125 \r\nL 381.765625 239.758125 \r\n\" style=\"fill:none;stroke:#000000;stroke-linecap:square;stroke-linejoin:miter;stroke-width:0.8;\"/>\r\n   </g>\r\n   <g id=\"patch_16\">\r\n    <path d=\"M 46.965625 22.318125 \r\nL 381.765625 22.318125 \r\n\" style=\"fill:none;stroke:#000000;stroke-linecap:square;stroke-linejoin:miter;stroke-width:0.8;\"/>\r\n   </g>\r\n   <g id=\"text_14\">\r\n    <!-- After stemming -->\r\n    <defs>\r\n     <path d=\"M 34.1875 63.1875 \r\nL 20.796875 26.90625 \r\nL 47.609375 26.90625 \r\nz\r\nM 28.609375 72.90625 \r\nL 39.796875 72.90625 \r\nL 67.578125 0 \r\nL 57.328125 0 \r\nL 50.6875 18.703125 \r\nL 17.828125 18.703125 \r\nL 11.1875 0 \r\nL 0.78125 0 \r\nz\r\n\" id=\"DejaVuSans-65\"/>\r\n    </defs>\r\n    <g transform=\"translate(167.598438 16.318125)scale(0.12 -0.12)\">\r\n     <use xlink:href=\"#DejaVuSans-65\"/>\r\n     <use x=\"68.361328\" xlink:href=\"#DejaVuSans-102\"/>\r\n     <use x=\"103.550781\" xlink:href=\"#DejaVuSans-116\"/>\r\n     <use x=\"142.759766\" xlink:href=\"#DejaVuSans-101\"/>\r\n     <use x=\"204.283203\" xlink:href=\"#DejaVuSans-114\"/>\r\n     <use x=\"245.396484\" xlink:href=\"#DejaVuSans-32\"/>\r\n     <use x=\"277.183594\" xlink:href=\"#DejaVuSans-115\"/>\r\n     <use x=\"329.283203\" xlink:href=\"#DejaVuSans-116\"/>\r\n     <use x=\"368.492188\" xlink:href=\"#DejaVuSans-101\"/>\r\n     <use x=\"430.015625\" xlink:href=\"#DejaVuSans-109\"/>\r\n     <use x=\"527.427734\" xlink:href=\"#DejaVuSans-109\"/>\r\n     <use x=\"624.839844\" xlink:href=\"#DejaVuSans-105\"/>\r\n     <use x=\"652.623047\" xlink:href=\"#DejaVuSans-110\"/>\r\n     <use x=\"716.001953\" xlink:href=\"#DejaVuSans-103\"/>\r\n    </g>\r\n   </g>\r\n  </g>\r\n </g>\r\n <defs>\r\n  <clipPath id=\"p5c55f3cdc3\">\r\n   <rect height=\"217.44\" width=\"334.8\" x=\"46.965625\" y=\"22.318125\"/>\r\n  </clipPath>\r\n </defs>\r\n</svg>\r\n",
            "image/png": "[encoded data removed]"
          },
          "metadata": {
            "needs_background": "light"
          }
        }
      ]
    },
    {
      "cell_type": "markdown",
      "metadata": {
        "id": "nRrcr1VP9EB3"
      },
      "source": [
        "<p>This is similar to the output that observed in the previous step. According to the above plot, it can be seen that <b>after removing 'stop words' and have done 'stemming'</b> the output have not differed due to the same reason that explained before.</p>"
      ]
    },
    {
      "cell_type": "markdown",
      "metadata": {
        "id": "2ltg1s689EB3"
      },
      "source": [
        "### Answer (c)\n",
        "\n",
        "Answer for question (c) will be discussed under the below sections as \n",
        "<ol>\n",
        "    <li>Splitting data into training and test data sets</li>\n",
        "    <li>Creating bag-of-words representations, Fitting Logistic Regression model and Evaluation using Performance Measures and Confusion Matrix for Sinhala Dataset</li> \n",
        "    <li>Creating bag-of-words representations, Fitting Logistic Regression model and Evaluation using Performance Measures and Confusion Matrix for Singlish Dataset</li>\n",
        " </ol>"
      ]
    },
    {
      "cell_type": "markdown",
      "metadata": {
        "id": "IuO_WlLx9EB4"
      },
      "source": [
        "#### c.1. Splitting data into training and test data sets"
      ]
    },
    {
      "cell_type": "markdown",
      "metadata": {
        "id": "5u-h1x699EB4"
      },
      "source": [
        "<p>Before moving onto creating bag of words representations, let us split both the dataset (training 80% and testing 20%) as suggested in the question as shown below. After that bag of words representations for both the datasets can be created using training data sets and get bag of words features in order to be fed to the logistic regression model to train it. \n",
        "    <br><br>Let us define a function named <b>prepare_datasets(corpus, labels)</b> to split a particular dataset in 80:20 ratio for training and testing data accordingly.\n",
        "</p>"
      ]
    },
    {
      "cell_type": "code",
      "metadata": {
        "id": "PDXBLzKS9EB4"
      },
      "source": [
        "from sklearn.model_selection import train_test_split\n",
        "\n",
        "# Define a function to divide the data into training and testing sets in 80:20 ratio\n",
        "def prepare_datasets(corpus, labels):\n",
        "    train_X, test_X, train_Y, test_Y = train_test_split(corpus, labels, \n",
        "                                                        test_size=0.20, random_state=42)\n",
        "    \n",
        "    # Retrieve the length of the train set for dataset\n",
        "    print (\"Number of train data for the dataset :\", end=\"\")\n",
        "    print (str(len(train_X)))\n",
        "\n",
        "    # Retrieve the length of the test set for dataset\n",
        "    print (\"Number of test data for the dataset :\", end=\"\")\n",
        "    print (str(len(test_X)))\n",
        "\n",
        "    return train_X, test_X, train_Y, test_Y"
      ],
      "execution_count": 33,
      "outputs": []
    },
    {
      "cell_type": "markdown",
      "metadata": {
        "id": "HfPswLt29EB5"
      },
      "source": [
        "<p>The <b>Sinhala dataset</b> can be spliited as below.</p>"
      ]
    },
    {
      "cell_type": "code",
      "metadata": {
        "id": "o7G_Y-Wm9EB5",
        "outputId": "2decd150-051b-40d1-b2d2-25e5529a3be5"
      },
      "source": [
        "train_X_sinhala, test_X_sinhala, train_y_sinhala, test_y_sinhala = prepare_datasets(corpus=sinhala_dataframe['Phrase'], \n",
        "                                                                                    labels=sinhala_dataframe['IsHateSpeech'])"
      ],
      "execution_count": 34,
      "outputs": [
        {
          "output_type": "stream",
          "name": "stdout",
          "text": [
            "Number of train data for the dataset :1114\nNumber of test data for the dataset :279\n"
          ]
        }
      ]
    },
    {
      "cell_type": "markdown",
      "metadata": {
        "id": "JH_8nGd19EB6"
      },
      "source": [
        "<p>The train set consist of 1114 Sinhala phrases and the test set consist of 279 which were spliited in 80:20 ratio.</p>"
      ]
    },
    {
      "cell_type": "markdown",
      "metadata": {
        "id": "pKIULyei9EB6"
      },
      "source": [
        "<p>The <b>Singlish dataset</b> can be spliited as below.</p>"
      ]
    },
    {
      "cell_type": "code",
      "metadata": {
        "id": "GAsuPSgA9EB6",
        "outputId": "43b1dbe9-79cc-4afc-95da-e1d119b8dd98"
      },
      "source": [
        "train_X_singlish, test_X_singlish, train_y_singlish, test_y_singlish = prepare_datasets(\n",
        "                                                                                    corpus=singlish_dataframe['Phrase'], \n",
        "                                                                                    labels=singlish_dataframe['IsHateSpeech'])"
      ],
      "execution_count": 35,
      "outputs": [
        {
          "output_type": "stream",
          "name": "stdout",
          "text": [
            "Number of train data for the dataset :885\nNumber of test data for the dataset :222\n"
          ]
        }
      ]
    },
    {
      "cell_type": "markdown",
      "metadata": {
        "id": "wks_fVhB9EB7"
      },
      "source": [
        "<p>The train set consist of 885 Sinhala phrases and the test set consist of 222 which were spliited in 80:20 ratio.</p>"
      ]
    },
    {
      "cell_type": "markdown",
      "metadata": {
        "id": "v7Fbk_P59EB7"
      },
      "source": [
        "#### c.2. Creating bag-of-words representation, Fitting Logistic Regression model and Evaluation using Performance Measures and Confusion Matrix for Sinhala Dataset"
      ]
    },
    {
      "cell_type": "markdown",
      "metadata": {
        "id": "414goC4a9EB7"
      },
      "source": [
        "##### Getting bag-of-words representation for Sinhala Dataset"
      ]
    },
    {
      "cell_type": "markdown",
      "metadata": {
        "id": "kgqmDCG19EB7"
      },
      "source": [
        "<p>The bag of words representation can be created using the <b>CountVectorizer</b> in scikit-learn. The following function named <b>get_bow_features(data)</b> has the ability to generate bag of words when a particular dataset has fed as an argument. The comments in the function describe each line of the code below.</p>"
      ]
    },
    {
      "cell_type": "code",
      "metadata": {
        "id": "XIvszoFm9EB7"
      },
      "source": [
        "from sklearn.feature_extraction.text import CountVectorizer\n",
        "\n",
        "# Define a function to get bag of words features\n",
        "def get_bow_features(data):\n",
        "    \n",
        "    # Convert the list of lists (tokenized sentences) to list of strings by joining the tokens inside\n",
        "    # because fit_transform need a list of strings\n",
        "    corpus = [\" \".join(x) for x in data]\n",
        "    \n",
        "    # Initialize the \"CountVectorizer\" object, which is scikit-learn's bag of words tool.\n",
        "    # In here the word tokenization should be done by splitting with \" \" and word n-gram was used as the analyzer\n",
        "    vectorizer = CountVectorizer(tokenizer = lambda x: x.split(\" \"), analyzer=\"word\")                                \n",
        "\n",
        "    # fit_transform is used to fit the model and to learn the vocabulary. \n",
        "    # Also, it transforms the dataframe into feature vectors\n",
        "    # The input to fit_transform should be a list of strings. The output is a sparse array\n",
        "    bow_features = vectorizer.fit_transform(corpus)\n",
        "\n",
        "    # Get words in the vocabulary\n",
        "    feature_names = vectorizer.get_feature_names()\n",
        "    \n",
        "    # Get the vocabulary\n",
        "    vocabulary = vectorizer.vocabulary_\n",
        "   \n",
        "    return vectorizer, feature_names, vocabulary, bow_features"
      ],
      "execution_count": 36,
      "outputs": []
    },
    {
      "cell_type": "markdown",
      "metadata": {
        "id": "JgC4msF59EB8"
      },
      "source": [
        "<p>When a particular dataset has been fed as the argument of the above function, it will return 4 things. \n",
        "    <ol>\n",
        "        <li><b>vectorizer</b> which consists the vectorizer</li>  \n",
        "        <li><b>feature_names</b> which consists the words in the vocabulary</li>  \n",
        "        <li><b>vocabulary</b> which consists the words and the number of times that they have occured in the vocabulary</li> \n",
        "        <li><b>bow_features</b> which consists a sparse array which depicts a term document matrix</li> \n",
        "    </ol>\n",
        " </p>    "
      ]
    },
    {
      "cell_type": "markdown",
      "metadata": {
        "id": "r-iiBKhn9EB8"
      },
      "source": [
        "<p>Let us generate the <b>bag of words representation for training data in Sinhala dataset</b>.</p>"
      ]
    },
    {
      "cell_type": "code",
      "metadata": {
        "id": "7M0w30bL9EB8"
      },
      "source": [
        "vectorizer_sinhala, feature_names_sinhala, vocabulary_sinhala, bow_features_sinhala = get_bow_features(data=train_X_sinhala)"
      ],
      "execution_count": 37,
      "outputs": []
    },
    {
      "cell_type": "code",
      "metadata": {
        "id": "H4Rc2YDc9EB9",
        "outputId": "528ecf12-0cb8-491e-e684-214c67e6fab4"
      },
      "source": [
        "#vocabulary_sinhala"
      ],
      "execution_count": 43,
      "outputs": []
    },
    {
      "cell_type": "markdown",
      "metadata": {
        "id": "ZQJkmhEP9EB9"
      },
      "source": [
        "<p>Above are the words and the number of times that they have occured in the <b>vocabulary of Sinhala dataset</b>.</p>"
      ]
    },
    {
      "cell_type": "code",
      "metadata": {
        "id": "cXD6bTZ19EB9",
        "outputId": "7c8d5311-c174-4d18-ecf0-98f9c60322ca"
      },
      "source": [
        "bow_features_sinhala.toarray()"
      ],
      "execution_count": 42,
      "outputs": [
        {
          "output_type": "execute_result",
          "data": {
            "text/plain": [
              "array([[0, 0, 0, ..., 0, 0, 0],\n",
              "       [0, 0, 0, ..., 0, 0, 0],\n",
              "       [0, 0, 0, ..., 0, 0, 0],\n",
              "       ...,\n",
              "       [0, 0, 0, ..., 0, 0, 0],\n",
              "       [0, 0, 0, ..., 0, 0, 0],\n",
              "       [0, 2, 0, ..., 0, 0, 0]], dtype=int64)"
            ]
          },
          "metadata": {},
          "execution_count": 42
        }
      ]
    },
    {
      "cell_type": "markdown",
      "metadata": {
        "id": "98GmtQpd9EB-"
      },
      "source": [
        "<p>Above is the <b>term document matrix vocabulary of Sinhala dataset</b> which is the bag of word features to be fed to the model in future steps.</p>"
      ]
    },
    {
      "cell_type": "markdown",
      "metadata": {
        "id": "vpE92VIv9EB-"
      },
      "source": [
        "##### Fitting logistic regression model to Sinhala Dataset"
      ]
    },
    {
      "cell_type": "markdown",
      "metadata": {
        "id": "ch7CTX969EB_"
      },
      "source": [
        "\n",
        "The Logistic Regression Model can be trained using the following function named <b>train_logistic_regression_model(features, labels)</b> using LogisticRegression from sklearn as explained in the comments of the function."
      ]
    },
    {
      "cell_type": "code",
      "metadata": {
        "id": "8AxuD-Zr9ECA"
      },
      "source": [
        "from sklearn.linear_model import LogisticRegression\n",
        "\n",
        "# Define a function which takes the features and set of labels to train a Logistic Regression Model\n",
        "def train_logistic_regression_model(features, labels):\n",
        "    \n",
        "    print (\"Training the logistic regression model...\")\n",
        "    \n",
        "    logistic_regression_model = LogisticRegression()\n",
        "    logistic_regression_model.fit(features, labels)\n",
        "    \n",
        "    print ('Finished')\n",
        "    return logistic_regression_model"
      ],
      "execution_count": 44,
      "outputs": []
    },
    {
      "cell_type": "markdown",
      "metadata": {
        "id": "hRccTZM99ECB"
      },
      "source": [
        "<p>Let us apply <b>Logistic Regression to the Sinhala dataset</b> as shown below by passing the bag-of-words features created previously and the train labels for Sinhala dataset.</p>"
      ]
    },
    {
      "cell_type": "code",
      "metadata": {
        "id": "_7Lx4sd49ECC",
        "outputId": "70a683ab-49e4-4efb-e846-49f8e43daff0"
      },
      "source": [
        "logistic_regression_model_sinhala = train_logistic_regression_model(features=bow_features_sinhala, labels=train_y_sinhala)"
      ],
      "execution_count": 45,
      "outputs": [
        {
          "output_type": "stream",
          "name": "stdout",
          "text": [
            "Training the logistic regression model...\n",
            "Finished\n"
          ]
        }
      ]
    },
    {
      "cell_type": "markdown",
      "metadata": {
        "id": "1nsTyeXU9ECC"
      },
      "source": [
        "<p>Now let us use the bag-of-words representation to test data. Below function named <b>predict_logistic_regression_model(test_X, test_y, vectorizer, logistic_regression_model)</b> have the ability to apply the vectorizer to the test data and get the predictions for test data. Before applying the vectorizer to test data, those should be converted to a list of strings (since now we have a list of list) as shown in the function, because vectorizer expects an array/list of strings. Otherwise if you pass an array/list of array/list to the vectorizer, it crashes. After that predictions can be observed and a simple accuracy was calculated.<p>"
      ]
    },
    {
      "cell_type": "code",
      "metadata": {
        "id": "jMd76PKp9ECC"
      },
      "source": [
        "import numpy as np\n",
        "\n",
        "# Define a function to apply the vectorizer to the test data and get the predictions for test data\n",
        "def predict_logistic_regression_model(test_X, test_y, vectorizer, logistic_regression_model):\n",
        "    \n",
        "    # If you externally vectorize the test you do not need to vectorize in here. So you can pass vectorizer as 'None'\n",
        "    if(vectorizer!=None):\n",
        "        \n",
        "        # Convert the list of list, to a list of strings so that the vectorizer can work without crashing\n",
        "        test_X = [' '.join(x) for x in test_X]\n",
        "\n",
        "        # Apply the vectorizer to the test data \n",
        "        test_data_features = vectorizer.transform(test_X)\n",
        "\n",
        "        # Convert to numpy array\n",
        "        test_data_features = test_data_features.toarray()\n",
        "    else:\n",
        "        test_data_features = test_X\n",
        "    \n",
        "    # Get the predictions for the test data in the dataset\n",
        "    predicted_y = logistic_regression_model.predict(test_data_features)\n",
        "    print(\"Predictions: \")\n",
        "    print(predicted_y)\n",
        "    print(\"\\n\")\n",
        "\n",
        "    # Calculating the simple accuracy\n",
        "    correctly_identified_y = predicted_y == test_y\n",
        "    accuracy = np.mean(correctly_identified_y) * 100\n",
        "    print ('Accuracy = %.0f%%' %accuracy)\n",
        "    \n",
        "    # Return the predicted labels\n",
        "    return predicted_y"
      ],
      "execution_count": 46,
      "outputs": []
    },
    {
      "cell_type": "markdown",
      "metadata": {
        "id": "BITXsIvG9ECC"
      },
      "source": [
        "<p>Let us apply the above function to evaluate the model with test data as below.</p>"
      ]
    },
    {
      "cell_type": "code",
      "metadata": {
        "scrolled": false,
        "id": "ZIaE2fvp9ECD",
        "outputId": "59cbaf4e-1ba0-4e7b-c515-6386360e9c72"
      },
      "source": [
        "predicted_y_sinhala = predict_logistic_regression_model(test_X=test_X_sinhala, \n",
        "                                                        test_y=test_y_sinhala, \n",
        "                                                        vectorizer=vectorizer_sinhala, \n",
        "                                                        logistic_regression_model=logistic_regression_model_sinhala)"
      ],
      "execution_count": 47,
      "outputs": [
        {
          "output_type": "stream",
          "name": "stdout",
          "text": [
            "Predictions: \n['NO' 'NO' 'NO' 'YES' 'NO' 'NO' 'NO' 'NO' 'NO' 'NO' 'YES' 'YES' 'NO' 'NO'\n 'NO' 'NO' 'NO' 'YES' 'NO' 'NO' 'YES' 'NO' 'NO' 'YES' 'YES' 'NO' 'YES'\n 'YES' 'YES' 'NO' 'YES' 'YES' 'YES' 'YES' 'YES' 'YES' 'YES' 'YES' 'YES'\n 'YES' 'NO' 'NO' 'YES' 'YES' 'NO' 'YES' 'NO' 'YES' 'YES' 'YES' 'YES' 'NO'\n 'YES' 'YES' 'NO' 'NO' 'YES' 'YES' 'NO' 'NO' 'YES' 'NO' 'YES' 'NO' 'YES'\n 'NO' 'NO' 'YES' 'YES' 'NO' 'NO' 'NO' 'YES' 'NO' 'YES' 'YES' 'YES' 'NO'\n 'NO' 'NO' 'NO' 'YES' 'NO' 'YES' 'YES' 'YES' 'YES' 'NO' 'NO' 'NO' 'YES'\n 'YES' 'YES' 'YES' 'NO' 'YES' 'NO' 'YES' 'YES' 'NO' 'YES' 'NO' 'NO' 'YES'\n 'YES' 'NO' 'NO' 'NO' 'NO' 'YES' 'NO' 'NO' 'YES' 'NO' 'NO' 'NO' 'NO' 'YES'\n 'NO' 'YES' 'NO' 'NO' 'NO' 'NO' 'YES' 'NO' 'NO' 'YES' 'YES' 'YES' 'YES'\n 'NO' 'NO' 'NO' 'NO' 'YES' 'NO' 'NO' 'YES' 'YES' 'YES' 'YES' 'NO' 'NO'\n 'NO' 'YES' 'NO' 'NO' 'NO' 'NO' 'NO' 'NO' 'NO' 'YES' 'NO' 'NO' 'YES' 'YES'\n 'NO' 'NO' 'NO' 'YES' 'YES' 'YES' 'NO' 'NO' 'NO' 'NO' 'YES' 'YES' 'NO'\n 'NO' 'NO' 'NO' 'YES' 'NO' 'NO' 'NO' 'NO' 'NO' 'NO' 'NO' 'NO' 'NO' 'NO'\n 'YES' 'NO' 'NO' 'YES' 'NO' 'YES' 'NO' 'YES' 'NO' 'NO' 'NO' 'YES' 'YES'\n 'YES' 'YES' 'NO' 'YES' 'YES' 'YES' 'NO' 'YES' 'NO' 'NO' 'YES' 'YES' 'NO'\n 'NO' 'NO' 'NO' 'NO' 'NO' 'NO' 'NO' 'YES' 'YES' 'NO' 'NO' 'NO' 'NO' 'NO'\n 'NO' 'NO' 'YES' 'YES' 'YES' 'NO' 'NO' 'NO' 'YES' 'YES' 'NO' 'NO' 'NO'\n 'NO' 'NO' 'NO' 'YES' 'NO' 'YES' 'NO' 'YES' 'NO' 'NO' 'NO' 'NO' 'YES'\n 'YES' 'YES' 'NO' 'YES' 'NO' 'YES' 'NO' 'YES' 'NO' 'NO' 'YES' 'YES' 'NO'\n 'NO' 'NO' 'NO' 'NO' 'NO' 'YES' 'YES' 'NO' 'YES' 'NO' 'NO' 'YES' 'NO' 'NO'\n 'NO']\n\n\nAccuracy = 75%\n"
          ]
        }
      ]
    },
    {
      "cell_type": "markdown",
      "metadata": {
        "id": "XG4ONdGU9ECD"
      },
      "source": [
        "<p>The predictions array has shown above which consists whether a particular string is hate speech (YES) or not (NO) and it was returned and assigned to predicted_y_sinhala variable. The accuracy of this model is 75%.</p>"
      ]
    },
    {
      "cell_type": "markdown",
      "metadata": {
        "id": "F3IFQotB9ECE"
      },
      "source": [
        "##### Evaluation using Performance Measures and Confusion Matrix for Sinhala Dataset"
      ]
    },
    {
      "cell_type": "markdown",
      "metadata": {
        "id": "Gxb_oLBA9ECE"
      },
      "source": [
        "<p>Below function named <b>get_metrics(true_labels, predicted_labels)</b> outputs the confusion matrix and calculates the Accuracy, Precision, Recall and F1 Score when the true labels and the predicted labels are fed as the arguments.</p>"
      ]
    },
    {
      "cell_type": "code",
      "metadata": {
        "id": "QVVFVOIK9ECE"
      },
      "source": [
        "# Use sklearn's metrics function for evaluation of classifiers\n",
        "from sklearn import metrics\n",
        "import seaborn as sns\n",
        "from sklearn.metrics import confusion_matrix \n",
        "\n",
        "# Define function to calculate the 4 common metrics\n",
        "def get_metrics(true_labels, predicted_labels):\n",
        "    \n",
        "    # Plot the confusion matrix\n",
        "    labels = ['YES', 'NO']\n",
        "    conf_matrix = confusion_matrix(true_labels, predicted_labels)\n",
        "    plt.figure(figsize=(6, 4))\n",
        "    sns.heatmap(conf_matrix, xticklabels = labels, yticklabels = labels, annot=True, fmt='d')\n",
        "    plt.title(\"Confusion Matrix\")\n",
        "    plt.ylabel('Actual Class')\n",
        "    plt.xlabel('Predicted class')\n",
        "    plt.show()\n",
        "    \n",
        "    print ('Number of True Positives (TP): ',conf_matrix[0][0])\n",
        "    print ('Number of True Negatives (TN): ',conf_matrix[1][1])\n",
        "    print ('Number of False Positives (FP): ',conf_matrix[1][0])\n",
        "    print ('Number of False Negatives (FN): ',conf_matrix[0][1])\n",
        "    print('')\n",
        "    \n",
        "    print('Accuracy:', np.round(metrics.accuracy_score(true_labels, predicted_labels), 3)*100, '%')\n",
        "    print('Precision:', np.round(metrics.precision_score(true_labels, predicted_labels, average='weighted'), 3)*100, '%')\n",
        "    print('Recall:', np.round(metrics.recall_score(true_labels, predicted_labels, average='weighted'), 3)*100, '%')\n",
        "    print('F1 Score:', np.round(metrics.f1_score(true_labels, predicted_labels, average='weighted'), 3)*100, '%')"
      ],
      "execution_count": 48,
      "outputs": []
    },
    {
      "cell_type": "markdown",
      "metadata": {
        "id": "o2hO4Sto9ECF"
      },
      "source": [
        "<p>Let us get the confusion matrix and the performance measures for Sinhala dataset.</p>"
      ]
    },
    {
      "cell_type": "code",
      "metadata": {
        "id": "iFKmGbbL9ECF",
        "outputId": "4dcc0e6e-886e-483a-82d3-f81552fff52f"
      },
      "source": [
        "get_metrics(true_labels=test_y_sinhala, predicted_labels=predicted_y_sinhala)"
      ],
      "execution_count": 49,
      "outputs": [
        {
          "output_type": "display_data",
          "data": {
            "text/plain": "<Figure size 432x288 with 2 Axes>",
            "image/svg+xml": "<?xml version=\"1.0\" encoding=\"utf-8\" standalone=\"no\"?>\r\n<!DOCTYPE svg PUBLIC \"-//W3C//DTD SVG 1.1//EN\"\r\n  \"http://www.w3.org/Graphics/SVG/1.1/DTD/svg11.dtd\">\r\n<!-- Created with matplotlib (https://matplotlib.org/) -->\r\n<svg height=\"277.314375pt\" version=\"1.1\" viewBox=\"0 0 366.29575 277.314375\" width=\"366.29575pt\" xmlns=\"http://www.w3.org/2000/svg\" xmlns:xlink=\"http://www.w3.org/1999/xlink\">\r\n <defs>\r\n  <style type=\"text/css\">\r\n*{stroke-linecap:butt;stroke-linejoin:round;}\r\n  </style>\r\n </defs>\r\n <g id=\"figure_1\">\r\n  <g id=\"patch_1\">\r\n   <path d=\"M 0 277.314375 \r\nL 366.29575 277.314375 \r\nL 366.29575 0 \r\nL 0 0 \r\nz\r\n\" style=\"fill:none;\"/>\r\n  </g>\r\n  <g id=\"axes_1\">\r\n   <g id=\"patch_2\">\r\n    <path d=\"M 37.55625 239.758125 \r\nL 305.39625 239.758125 \r\nL 305.39625 22.318125 \r\nL 37.55625 22.318125 \r\nz\r\n\" style=\"fill:#ffffff;\"/>\r\n   </g>\r\n   <g id=\"QuadMesh_1\">\r\n    <path clip-path=\"url(#p4de5f493cb)\" d=\"M 37.55625 22.318125 \r\nL 171.47625 22.318125 \r\nL 171.47625 131.038125 \r\nL 37.55625 131.038125 \r\nL 37.55625 22.318125 \r\n\" style=\"fill:#faebdd;\"/>\r\n    <path clip-path=\"url(#p4de5f493cb)\" d=\"M 171.47625 22.318125 \r\nL 305.39625 22.318125 \r\nL 305.39625 131.038125 \r\nL 171.47625 131.038125 \r\nL 171.47625 22.318125 \r\n\" style=\"fill:#03051a;\"/>\r\n    <path clip-path=\"url(#p4de5f493cb)\" d=\"M 37.55625 131.038125 \r\nL 171.47625 131.038125 \r\nL 171.47625 239.758125 \r\nL 37.55625 239.758125 \r\nL 37.55625 131.038125 \r\n\" style=\"fill:#511e4d;\"/>\r\n    <path clip-path=\"url(#p4de5f493cb)\" d=\"M 171.47625 131.038125 \r\nL 305.39625 131.038125 \r\nL 305.39625 239.758125 \r\nL 171.47625 239.758125 \r\nL 171.47625 131.038125 \r\n\" style=\"fill:#f26d4b;\"/>\r\n   </g>\r\n   <g id=\"matplotlib.axis_1\">\r\n    <g id=\"xtick_1\">\r\n     <g id=\"line2d_1\">\r\n      <defs>\r\n       <path d=\"M 0 0 \r\nL 0 3.5 \r\n\" id=\"mded0ef56a1\" style=\"stroke:#000000;stroke-width:0.8;\"/>\r\n      </defs>\r\n      <g>\r\n       <use style=\"stroke:#000000;stroke-width:0.8;\" x=\"104.51625\" xlink:href=\"#mded0ef56a1\" y=\"239.758125\"/>\r\n      </g>\r\n     </g>\r\n     <g id=\"text_1\">\r\n      <!-- YES -->\r\n      <defs>\r\n       <path d=\"M -0.203125 72.90625 \r\nL 10.40625 72.90625 \r\nL 30.609375 42.921875 \r\nL 50.6875 72.90625 \r\nL 61.28125 72.90625 \r\nL 35.5 34.71875 \r\nL 35.5 0 \r\nL 25.59375 0 \r\nL 25.59375 34.71875 \r\nz\r\n\" id=\"DejaVuSans-89\"/>\r\n       <path d=\"M 9.8125 72.90625 \r\nL 55.90625 72.90625 \r\nL 55.90625 64.59375 \r\nL 19.671875 64.59375 \r\nL 19.671875 43.015625 \r\nL 54.390625 43.015625 \r\nL 54.390625 34.71875 \r\nL 19.671875 34.71875 \r\nL 19.671875 8.296875 \r\nL 56.78125 8.296875 \r\nL 56.78125 0 \r\nL 9.8125 0 \r\nz\r\n\" id=\"DejaVuSans-69\"/>\r\n       <path d=\"M 53.515625 70.515625 \r\nL 53.515625 60.890625 \r\nQ 47.90625 63.578125 42.921875 64.890625 \r\nQ 37.9375 66.21875 33.296875 66.21875 \r\nQ 25.25 66.21875 20.875 63.09375 \r\nQ 16.5 59.96875 16.5 54.203125 \r\nQ 16.5 49.359375 19.40625 46.890625 \r\nQ 22.3125 44.4375 30.421875 42.921875 \r\nL 36.375 41.703125 \r\nQ 47.40625 39.59375 52.65625 34.296875 \r\nQ 57.90625 29 57.90625 20.125 \r\nQ 57.90625 9.515625 50.796875 4.046875 \r\nQ 43.703125 -1.421875 29.984375 -1.421875 \r\nQ 24.8125 -1.421875 18.96875 -0.25 \r\nQ 13.140625 0.921875 6.890625 3.21875 \r\nL 6.890625 13.375 \r\nQ 12.890625 10.015625 18.65625 8.296875 \r\nQ 24.421875 6.59375 29.984375 6.59375 \r\nQ 38.421875 6.59375 43.015625 9.90625 \r\nQ 47.609375 13.234375 47.609375 19.390625 \r\nQ 47.609375 24.75 44.3125 27.78125 \r\nQ 41.015625 30.8125 33.5 32.328125 \r\nL 27.484375 33.5 \r\nQ 16.453125 35.6875 11.515625 40.375 \r\nQ 6.59375 45.0625 6.59375 53.421875 \r\nQ 6.59375 63.09375 13.40625 68.65625 \r\nQ 20.21875 74.21875 32.171875 74.21875 \r\nQ 37.3125 74.21875 42.625 73.28125 \r\nQ 47.953125 72.359375 53.515625 70.515625 \r\nz\r\n\" id=\"DejaVuSans-83\"/>\r\n      </defs>\r\n      <g transform=\"translate(95.12875 254.356562)scale(0.1 -0.1)\">\r\n       <use xlink:href=\"#DejaVuSans-89\"/>\r\n       <use x=\"61.083984\" xlink:href=\"#DejaVuSans-69\"/>\r\n       <use x=\"124.267578\" xlink:href=\"#DejaVuSans-83\"/>\r\n      </g>\r\n     </g>\r\n    </g>\r\n    <g id=\"xtick_2\">\r\n     <g id=\"line2d_2\">\r\n      <g>\r\n       <use style=\"stroke:#000000;stroke-width:0.8;\" x=\"238.43625\" xlink:href=\"#mded0ef56a1\" y=\"239.758125\"/>\r\n      </g>\r\n     </g>\r\n     <g id=\"text_2\">\r\n      <!-- NO -->\r\n      <defs>\r\n       <path d=\"M 9.8125 72.90625 \r\nL 23.09375 72.90625 \r\nL 55.421875 11.921875 \r\nL 55.421875 72.90625 \r\nL 64.984375 72.90625 \r\nL 64.984375 0 \r\nL 51.703125 0 \r\nL 19.390625 60.984375 \r\nL 19.390625 0 \r\nL 9.8125 0 \r\nz\r\n\" id=\"DejaVuSans-78\"/>\r\n       <path d=\"M 39.40625 66.21875 \r\nQ 28.65625 66.21875 22.328125 58.203125 \r\nQ 16.015625 50.203125 16.015625 36.375 \r\nQ 16.015625 22.609375 22.328125 14.59375 \r\nQ 28.65625 6.59375 39.40625 6.59375 \r\nQ 50.140625 6.59375 56.421875 14.59375 \r\nQ 62.703125 22.609375 62.703125 36.375 \r\nQ 62.703125 50.203125 56.421875 58.203125 \r\nQ 50.140625 66.21875 39.40625 66.21875 \r\nz\r\nM 39.40625 74.21875 \r\nQ 54.734375 74.21875 63.90625 63.9375 \r\nQ 73.09375 53.65625 73.09375 36.375 \r\nQ 73.09375 19.140625 63.90625 8.859375 \r\nQ 54.734375 -1.421875 39.40625 -1.421875 \r\nQ 24.03125 -1.421875 14.8125 8.828125 \r\nQ 5.609375 19.09375 5.609375 36.375 \r\nQ 5.609375 53.65625 14.8125 63.9375 \r\nQ 24.03125 74.21875 39.40625 74.21875 \r\nz\r\n\" id=\"DejaVuSans-79\"/>\r\n      </defs>\r\n      <g transform=\"translate(230.759688 254.356562)scale(0.1 -0.1)\">\r\n       <use xlink:href=\"#DejaVuSans-78\"/>\r\n       <use x=\"74.804688\" xlink:href=\"#DejaVuSans-79\"/>\r\n      </g>\r\n     </g>\r\n    </g>\r\n    <g id=\"text_3\">\r\n     <!-- Predicted class -->\r\n     <defs>\r\n      <path d=\"M 19.671875 64.796875 \r\nL 19.671875 37.40625 \r\nL 32.078125 37.40625 \r\nQ 38.96875 37.40625 42.71875 40.96875 \r\nQ 46.484375 44.53125 46.484375 51.125 \r\nQ 46.484375 57.671875 42.71875 61.234375 \r\nQ 38.96875 64.796875 32.078125 64.796875 \r\nz\r\nM 9.8125 72.90625 \r\nL 32.078125 72.90625 \r\nQ 44.34375 72.90625 50.609375 67.359375 \r\nQ 56.890625 61.8125 56.890625 51.125 \r\nQ 56.890625 40.328125 50.609375 34.8125 \r\nQ 44.34375 29.296875 32.078125 29.296875 \r\nL 19.671875 29.296875 \r\nL 19.671875 0 \r\nL 9.8125 0 \r\nz\r\n\" id=\"DejaVuSans-80\"/>\r\n      <path d=\"M 41.109375 46.296875 \r\nQ 39.59375 47.171875 37.8125 47.578125 \r\nQ 36.03125 48 33.890625 48 \r\nQ 26.265625 48 22.1875 43.046875 \r\nQ 18.109375 38.09375 18.109375 28.8125 \r\nL 18.109375 0 \r\nL 9.078125 0 \r\nL 9.078125 54.6875 \r\nL 18.109375 54.6875 \r\nL 18.109375 46.1875 \r\nQ 20.953125 51.171875 25.484375 53.578125 \r\nQ 30.03125 56 36.53125 56 \r\nQ 37.453125 56 38.578125 55.875 \r\nQ 39.703125 55.765625 41.0625 55.515625 \r\nz\r\n\" id=\"DejaVuSans-114\"/>\r\n      <path d=\"M 56.203125 29.59375 \r\nL 56.203125 25.203125 \r\nL 14.890625 25.203125 \r\nQ 15.484375 15.921875 20.484375 11.0625 \r\nQ 25.484375 6.203125 34.421875 6.203125 \r\nQ 39.59375 6.203125 44.453125 7.46875 \r\nQ 49.3125 8.734375 54.109375 11.28125 \r\nL 54.109375 2.78125 \r\nQ 49.265625 0.734375 44.1875 -0.34375 \r\nQ 39.109375 -1.421875 33.890625 -1.421875 \r\nQ 20.796875 -1.421875 13.15625 6.1875 \r\nQ 5.515625 13.8125 5.515625 26.8125 \r\nQ 5.515625 40.234375 12.765625 48.109375 \r\nQ 20.015625 56 32.328125 56 \r\nQ 43.359375 56 49.78125 48.890625 \r\nQ 56.203125 41.796875 56.203125 29.59375 \r\nz\r\nM 47.21875 32.234375 \r\nQ 47.125 39.59375 43.09375 43.984375 \r\nQ 39.0625 48.390625 32.421875 48.390625 \r\nQ 24.90625 48.390625 20.390625 44.140625 \r\nQ 15.875 39.890625 15.1875 32.171875 \r\nz\r\n\" id=\"DejaVuSans-101\"/>\r\n      <path d=\"M 45.40625 46.390625 \r\nL 45.40625 75.984375 \r\nL 54.390625 75.984375 \r\nL 54.390625 0 \r\nL 45.40625 0 \r\nL 45.40625 8.203125 \r\nQ 42.578125 3.328125 38.25 0.953125 \r\nQ 33.9375 -1.421875 27.875 -1.421875 \r\nQ 17.96875 -1.421875 11.734375 6.484375 \r\nQ 5.515625 14.40625 5.515625 27.296875 \r\nQ 5.515625 40.1875 11.734375 48.09375 \r\nQ 17.96875 56 27.875 56 \r\nQ 33.9375 56 38.25 53.625 \r\nQ 42.578125 51.265625 45.40625 46.390625 \r\nz\r\nM 14.796875 27.296875 \r\nQ 14.796875 17.390625 18.875 11.75 \r\nQ 22.953125 6.109375 30.078125 6.109375 \r\nQ 37.203125 6.109375 41.296875 11.75 \r\nQ 45.40625 17.390625 45.40625 27.296875 \r\nQ 45.40625 37.203125 41.296875 42.84375 \r\nQ 37.203125 48.484375 30.078125 48.484375 \r\nQ 22.953125 48.484375 18.875 42.84375 \r\nQ 14.796875 37.203125 14.796875 27.296875 \r\nz\r\n\" id=\"DejaVuSans-100\"/>\r\n      <path d=\"M 9.421875 54.6875 \r\nL 18.40625 54.6875 \r\nL 18.40625 0 \r\nL 9.421875 0 \r\nz\r\nM 9.421875 75.984375 \r\nL 18.40625 75.984375 \r\nL 18.40625 64.59375 \r\nL 9.421875 64.59375 \r\nz\r\n\" id=\"DejaVuSans-105\"/>\r\n      <path d=\"M 48.78125 52.59375 \r\nL 48.78125 44.1875 \r\nQ 44.96875 46.296875 41.140625 47.34375 \r\nQ 37.3125 48.390625 33.40625 48.390625 \r\nQ 24.65625 48.390625 19.8125 42.84375 \r\nQ 14.984375 37.3125 14.984375 27.296875 \r\nQ 14.984375 17.28125 19.8125 11.734375 \r\nQ 24.65625 6.203125 33.40625 6.203125 \r\nQ 37.3125 6.203125 41.140625 7.25 \r\nQ 44.96875 8.296875 48.78125 10.40625 \r\nL 48.78125 2.09375 \r\nQ 45.015625 0.34375 40.984375 -0.53125 \r\nQ 36.96875 -1.421875 32.421875 -1.421875 \r\nQ 20.0625 -1.421875 12.78125 6.34375 \r\nQ 5.515625 14.109375 5.515625 27.296875 \r\nQ 5.515625 40.671875 12.859375 48.328125 \r\nQ 20.21875 56 33.015625 56 \r\nQ 37.15625 56 41.109375 55.140625 \r\nQ 45.0625 54.296875 48.78125 52.59375 \r\nz\r\n\" id=\"DejaVuSans-99\"/>\r\n      <path d=\"M 18.3125 70.21875 \r\nL 18.3125 54.6875 \r\nL 36.8125 54.6875 \r\nL 36.8125 47.703125 \r\nL 18.3125 47.703125 \r\nL 18.3125 18.015625 \r\nQ 18.3125 11.328125 20.140625 9.421875 \r\nQ 21.96875 7.515625 27.59375 7.515625 \r\nL 36.8125 7.515625 \r\nL 36.8125 0 \r\nL 27.59375 0 \r\nQ 17.1875 0 13.234375 3.875 \r\nQ 9.28125 7.765625 9.28125 18.015625 \r\nL 9.28125 47.703125 \r\nL 2.6875 47.703125 \r\nL 2.6875 54.6875 \r\nL 9.28125 54.6875 \r\nL 9.28125 70.21875 \r\nz\r\n\" id=\"DejaVuSans-116\"/>\r\n      <path id=\"DejaVuSans-32\"/>\r\n      <path d=\"M 9.421875 75.984375 \r\nL 18.40625 75.984375 \r\nL 18.40625 0 \r\nL 9.421875 0 \r\nz\r\n\" id=\"DejaVuSans-108\"/>\r\n      <path d=\"M 34.28125 27.484375 \r\nQ 23.390625 27.484375 19.1875 25 \r\nQ 14.984375 22.515625 14.984375 16.5 \r\nQ 14.984375 11.71875 18.140625 8.90625 \r\nQ 21.296875 6.109375 26.703125 6.109375 \r\nQ 34.1875 6.109375 38.703125 11.40625 \r\nQ 43.21875 16.703125 43.21875 25.484375 \r\nL 43.21875 27.484375 \r\nz\r\nM 52.203125 31.203125 \r\nL 52.203125 0 \r\nL 43.21875 0 \r\nL 43.21875 8.296875 \r\nQ 40.140625 3.328125 35.546875 0.953125 \r\nQ 30.953125 -1.421875 24.3125 -1.421875 \r\nQ 15.921875 -1.421875 10.953125 3.296875 \r\nQ 6 8.015625 6 15.921875 \r\nQ 6 25.140625 12.171875 29.828125 \r\nQ 18.359375 34.515625 30.609375 34.515625 \r\nL 43.21875 34.515625 \r\nL 43.21875 35.40625 \r\nQ 43.21875 41.609375 39.140625 45 \r\nQ 35.0625 48.390625 27.6875 48.390625 \r\nQ 23 48.390625 18.546875 47.265625 \r\nQ 14.109375 46.140625 10.015625 43.890625 \r\nL 10.015625 52.203125 \r\nQ 14.9375 54.109375 19.578125 55.046875 \r\nQ 24.21875 56 28.609375 56 \r\nQ 40.484375 56 46.34375 49.84375 \r\nQ 52.203125 43.703125 52.203125 31.203125 \r\nz\r\n\" id=\"DejaVuSans-97\"/>\r\n      <path d=\"M 44.28125 53.078125 \r\nL 44.28125 44.578125 \r\nQ 40.484375 46.53125 36.375 47.5 \r\nQ 32.28125 48.484375 27.875 48.484375 \r\nQ 21.1875 48.484375 17.84375 46.4375 \r\nQ 14.5 44.390625 14.5 40.28125 \r\nQ 14.5 37.15625 16.890625 35.375 \r\nQ 19.28125 33.59375 26.515625 31.984375 \r\nL 29.59375 31.296875 \r\nQ 39.15625 29.25 43.1875 25.515625 \r\nQ 47.21875 21.78125 47.21875 15.09375 \r\nQ 47.21875 7.46875 41.1875 3.015625 \r\nQ 35.15625 -1.421875 24.609375 -1.421875 \r\nQ 20.21875 -1.421875 15.453125 -0.5625 \r\nQ 10.6875 0.296875 5.421875 2 \r\nL 5.421875 11.28125 \r\nQ 10.40625 8.6875 15.234375 7.390625 \r\nQ 20.0625 6.109375 24.8125 6.109375 \r\nQ 31.15625 6.109375 34.5625 8.28125 \r\nQ 37.984375 10.453125 37.984375 14.40625 \r\nQ 37.984375 18.0625 35.515625 20.015625 \r\nQ 33.0625 21.96875 24.703125 23.78125 \r\nL 21.578125 24.515625 \r\nQ 13.234375 26.265625 9.515625 29.90625 \r\nQ 5.8125 33.546875 5.8125 39.890625 \r\nQ 5.8125 47.609375 11.28125 51.796875 \r\nQ 16.75 56 26.8125 56 \r\nQ 31.78125 56 36.171875 55.265625 \r\nQ 40.578125 54.546875 44.28125 53.078125 \r\nz\r\n\" id=\"DejaVuSans-115\"/>\r\n     </defs>\r\n     <g transform=\"translate(133.8075 268.034687)scale(0.1 -0.1)\">\r\n      <use xlink:href=\"#DejaVuSans-80\"/>\r\n      <use x=\"60.287109\" xlink:href=\"#DejaVuSans-114\"/>\r\n      <use x=\"101.369141\" xlink:href=\"#DejaVuSans-101\"/>\r\n      <use x=\"162.892578\" xlink:href=\"#DejaVuSans-100\"/>\r\n      <use x=\"226.369141\" xlink:href=\"#DejaVuSans-105\"/>\r\n      <use x=\"254.152344\" xlink:href=\"#DejaVuSans-99\"/>\r\n      <use x=\"309.132812\" xlink:href=\"#DejaVuSans-116\"/>\r\n      <use x=\"348.341797\" xlink:href=\"#DejaVuSans-101\"/>\r\n      <use x=\"409.865234\" xlink:href=\"#DejaVuSans-100\"/>\r\n      <use x=\"473.341797\" xlink:href=\"#DejaVuSans-32\"/>\r\n      <use x=\"505.128906\" xlink:href=\"#DejaVuSans-99\"/>\r\n      <use x=\"560.109375\" xlink:href=\"#DejaVuSans-108\"/>\r\n      <use x=\"587.892578\" xlink:href=\"#DejaVuSans-97\"/>\r\n      <use x=\"649.171875\" xlink:href=\"#DejaVuSans-115\"/>\r\n      <use x=\"701.271484\" xlink:href=\"#DejaVuSans-115\"/>\r\n     </g>\r\n    </g>\r\n   </g>\r\n   <g id=\"matplotlib.axis_2\">\r\n    <g id=\"ytick_1\">\r\n     <g id=\"line2d_3\">\r\n      <defs>\r\n       <path d=\"M 0 0 \r\nL -3.5 0 \r\n\" id=\"m807bd12a8e\" style=\"stroke:#000000;stroke-width:0.8;\"/>\r\n      </defs>\r\n      <g>\r\n       <use style=\"stroke:#000000;stroke-width:0.8;\" x=\"37.55625\" xlink:href=\"#m807bd12a8e\" y=\"76.678125\"/>\r\n      </g>\r\n     </g>\r\n     <g id=\"text_4\">\r\n      <!-- YES -->\r\n      <g transform=\"translate(28.476563 91.653906)rotate(-90)scale(0.1 -0.1)\">\r\n       <use xlink:href=\"#DejaVuSans-89\"/>\r\n       <use x=\"61.083984\" xlink:href=\"#DejaVuSans-69\"/>\r\n       <use x=\"124.267578\" xlink:href=\"#DejaVuSans-83\"/>\r\n      </g>\r\n     </g>\r\n    </g>\r\n    <g id=\"ytick_2\">\r\n     <g id=\"line2d_4\">\r\n      <g>\r\n       <use style=\"stroke:#000000;stroke-width:0.8;\" x=\"37.55625\" xlink:href=\"#m807bd12a8e\" y=\"185.398125\"/>\r\n      </g>\r\n     </g>\r\n     <g id=\"text_5\">\r\n      <!-- NO -->\r\n      <g transform=\"translate(28.476563 196.952031)rotate(-90)scale(0.1 -0.1)\">\r\n       <use xlink:href=\"#DejaVuSans-78\"/>\r\n       <use x=\"74.804688\" xlink:href=\"#DejaVuSans-79\"/>\r\n      </g>\r\n     </g>\r\n    </g>\r\n    <g id=\"text_6\">\r\n     <!-- Actual Class -->\r\n     <defs>\r\n      <path d=\"M 34.1875 63.1875 \r\nL 20.796875 26.90625 \r\nL 47.609375 26.90625 \r\nz\r\nM 28.609375 72.90625 \r\nL 39.796875 72.90625 \r\nL 67.578125 0 \r\nL 57.328125 0 \r\nL 50.6875 18.703125 \r\nL 17.828125 18.703125 \r\nL 11.1875 0 \r\nL 0.78125 0 \r\nz\r\n\" id=\"DejaVuSans-65\"/>\r\n      <path d=\"M 8.5 21.578125 \r\nL 8.5 54.6875 \r\nL 17.484375 54.6875 \r\nL 17.484375 21.921875 \r\nQ 17.484375 14.15625 20.5 10.265625 \r\nQ 23.53125 6.390625 29.59375 6.390625 \r\nQ 36.859375 6.390625 41.078125 11.03125 \r\nQ 45.3125 15.671875 45.3125 23.6875 \r\nL 45.3125 54.6875 \r\nL 54.296875 54.6875 \r\nL 54.296875 0 \r\nL 45.3125 0 \r\nL 45.3125 8.40625 \r\nQ 42.046875 3.421875 37.71875 1 \r\nQ 33.40625 -1.421875 27.6875 -1.421875 \r\nQ 18.265625 -1.421875 13.375 4.4375 \r\nQ 8.5 10.296875 8.5 21.578125 \r\nz\r\nM 31.109375 56 \r\nz\r\n\" id=\"DejaVuSans-117\"/>\r\n      <path d=\"M 64.40625 67.28125 \r\nL 64.40625 56.890625 \r\nQ 59.421875 61.53125 53.78125 63.8125 \r\nQ 48.140625 66.109375 41.796875 66.109375 \r\nQ 29.296875 66.109375 22.65625 58.46875 \r\nQ 16.015625 50.828125 16.015625 36.375 \r\nQ 16.015625 21.96875 22.65625 14.328125 \r\nQ 29.296875 6.6875 41.796875 6.6875 \r\nQ 48.140625 6.6875 53.78125 8.984375 \r\nQ 59.421875 11.28125 64.40625 15.921875 \r\nL 64.40625 5.609375 \r\nQ 59.234375 2.09375 53.4375 0.328125 \r\nQ 47.65625 -1.421875 41.21875 -1.421875 \r\nQ 24.65625 -1.421875 15.125 8.703125 \r\nQ 5.609375 18.84375 5.609375 36.375 \r\nQ 5.609375 53.953125 15.125 64.078125 \r\nQ 24.65625 74.21875 41.21875 74.21875 \r\nQ 47.75 74.21875 53.53125 72.484375 \r\nQ 59.328125 70.75 64.40625 67.28125 \r\nz\r\n\" id=\"DejaVuSans-67\"/>\r\n     </defs>\r\n     <g transform=\"translate(14.798438 161.531875)rotate(-90)scale(0.1 -0.1)\">\r\n      <use xlink:href=\"#DejaVuSans-65\"/>\r\n      <use x=\"68.392578\" xlink:href=\"#DejaVuSans-99\"/>\r\n      <use x=\"123.373047\" xlink:href=\"#DejaVuSans-116\"/>\r\n      <use x=\"162.582031\" xlink:href=\"#DejaVuSans-117\"/>\r\n      <use x=\"225.960938\" xlink:href=\"#DejaVuSans-97\"/>\r\n      <use x=\"287.240234\" xlink:href=\"#DejaVuSans-108\"/>\r\n      <use x=\"315.023438\" xlink:href=\"#DejaVuSans-32\"/>\r\n      <use x=\"346.810547\" xlink:href=\"#DejaVuSans-67\"/>\r\n      <use x=\"416.634766\" xlink:href=\"#DejaVuSans-108\"/>\r\n      <use x=\"444.417969\" xlink:href=\"#DejaVuSans-97\"/>\r\n      <use x=\"505.697266\" xlink:href=\"#DejaVuSans-115\"/>\r\n      <use x=\"557.796875\" xlink:href=\"#DejaVuSans-115\"/>\r\n     </g>\r\n    </g>\r\n   </g>\r\n   <g id=\"text_7\">\r\n    <!-- 119 -->\r\n    <defs>\r\n     <path d=\"M 12.40625 8.296875 \r\nL 28.515625 8.296875 \r\nL 28.515625 63.921875 \r\nL 10.984375 60.40625 \r\nL 10.984375 69.390625 \r\nL 28.421875 72.90625 \r\nL 38.28125 72.90625 \r\nL 38.28125 8.296875 \r\nL 54.390625 8.296875 \r\nL 54.390625 0 \r\nL 12.40625 0 \r\nz\r\n\" id=\"DejaVuSans-49\"/>\r\n     <path d=\"M 10.984375 1.515625 \r\nL 10.984375 10.5 \r\nQ 14.703125 8.734375 18.5 7.8125 \r\nQ 22.3125 6.890625 25.984375 6.890625 \r\nQ 35.75 6.890625 40.890625 13.453125 \r\nQ 46.046875 20.015625 46.78125 33.40625 \r\nQ 43.953125 29.203125 39.59375 26.953125 \r\nQ 35.25 24.703125 29.984375 24.703125 \r\nQ 19.046875 24.703125 12.671875 31.3125 \r\nQ 6.296875 37.9375 6.296875 49.421875 \r\nQ 6.296875 60.640625 12.9375 67.421875 \r\nQ 19.578125 74.21875 30.609375 74.21875 \r\nQ 43.265625 74.21875 49.921875 64.515625 \r\nQ 56.59375 54.828125 56.59375 36.375 \r\nQ 56.59375 19.140625 48.40625 8.859375 \r\nQ 40.234375 -1.421875 26.421875 -1.421875 \r\nQ 22.703125 -1.421875 18.890625 -0.6875 \r\nQ 15.09375 0.046875 10.984375 1.515625 \r\nz\r\nM 30.609375 32.421875 \r\nQ 37.25 32.421875 41.125 36.953125 \r\nQ 45.015625 41.5 45.015625 49.421875 \r\nQ 45.015625 57.28125 41.125 61.84375 \r\nQ 37.25 66.40625 30.609375 66.40625 \r\nQ 23.96875 66.40625 20.09375 61.84375 \r\nQ 16.21875 57.28125 16.21875 49.421875 \r\nQ 16.21875 41.5 20.09375 36.953125 \r\nQ 23.96875 32.421875 30.609375 32.421875 \r\nz\r\n\" id=\"DejaVuSans-57\"/>\r\n    </defs>\r\n    <g style=\"fill:#262626;\" transform=\"translate(94.9725 79.4375)scale(0.1 -0.1)\">\r\n     <use xlink:href=\"#DejaVuSans-49\"/>\r\n     <use x=\"63.623047\" xlink:href=\"#DejaVuSans-49\"/>\r\n     <use x=\"127.246094\" xlink:href=\"#DejaVuSans-57\"/>\r\n    </g>\r\n   </g>\r\n   <g id=\"text_8\">\r\n    <!-- 25 -->\r\n    <defs>\r\n     <path d=\"M 19.1875 8.296875 \r\nL 53.609375 8.296875 \r\nL 53.609375 0 \r\nL 7.328125 0 \r\nL 7.328125 8.296875 \r\nQ 12.9375 14.109375 22.625 23.890625 \r\nQ 32.328125 33.6875 34.8125 36.53125 \r\nQ 39.546875 41.84375 41.421875 45.53125 \r\nQ 43.3125 49.21875 43.3125 52.78125 \r\nQ 43.3125 58.59375 39.234375 62.25 \r\nQ 35.15625 65.921875 28.609375 65.921875 \r\nQ 23.96875 65.921875 18.8125 64.3125 \r\nQ 13.671875 62.703125 7.8125 59.421875 \r\nL 7.8125 69.390625 \r\nQ 13.765625 71.78125 18.9375 73 \r\nQ 24.125 74.21875 28.421875 74.21875 \r\nQ 39.75 74.21875 46.484375 68.546875 \r\nQ 53.21875 62.890625 53.21875 53.421875 \r\nQ 53.21875 48.921875 51.53125 44.890625 \r\nQ 49.859375 40.875 45.40625 35.40625 \r\nQ 44.1875 33.984375 37.640625 27.21875 \r\nQ 31.109375 20.453125 19.1875 8.296875 \r\nz\r\n\" id=\"DejaVuSans-50\"/>\r\n     <path d=\"M 10.796875 72.90625 \r\nL 49.515625 72.90625 \r\nL 49.515625 64.59375 \r\nL 19.828125 64.59375 \r\nL 19.828125 46.734375 \r\nQ 21.96875 47.46875 24.109375 47.828125 \r\nQ 26.265625 48.1875 28.421875 48.1875 \r\nQ 40.625 48.1875 47.75 41.5 \r\nQ 54.890625 34.8125 54.890625 23.390625 \r\nQ 54.890625 11.625 47.5625 5.09375 \r\nQ 40.234375 -1.421875 26.90625 -1.421875 \r\nQ 22.3125 -1.421875 17.546875 -0.640625 \r\nQ 12.796875 0.140625 7.71875 1.703125 \r\nL 7.71875 11.625 \r\nQ 12.109375 9.234375 16.796875 8.0625 \r\nQ 21.484375 6.890625 26.703125 6.890625 \r\nQ 35.15625 6.890625 40.078125 11.328125 \r\nQ 45.015625 15.765625 45.015625 23.390625 \r\nQ 45.015625 31 40.078125 35.4375 \r\nQ 35.15625 39.890625 26.703125 39.890625 \r\nQ 22.75 39.890625 18.8125 39.015625 \r\nQ 14.890625 38.140625 10.796875 36.28125 \r\nz\r\n\" id=\"DejaVuSans-53\"/>\r\n    </defs>\r\n    <g style=\"fill:#ffffff;\" transform=\"translate(232.07375 79.4375)scale(0.1 -0.1)\">\r\n     <use xlink:href=\"#DejaVuSans-50\"/>\r\n     <use x=\"63.623047\" xlink:href=\"#DejaVuSans-53\"/>\r\n    </g>\r\n   </g>\r\n   <g id=\"text_9\">\r\n    <!-- 45 -->\r\n    <defs>\r\n     <path d=\"M 37.796875 64.3125 \r\nL 12.890625 25.390625 \r\nL 37.796875 25.390625 \r\nz\r\nM 35.203125 72.90625 \r\nL 47.609375 72.90625 \r\nL 47.609375 25.390625 \r\nL 58.015625 25.390625 \r\nL 58.015625 17.1875 \r\nL 47.609375 17.1875 \r\nL 47.609375 0 \r\nL 37.796875 0 \r\nL 37.796875 17.1875 \r\nL 4.890625 17.1875 \r\nL 4.890625 26.703125 \r\nz\r\n\" id=\"DejaVuSans-52\"/>\r\n    </defs>\r\n    <g style=\"fill:#ffffff;\" transform=\"translate(98.15375 188.1575)scale(0.1 -0.1)\">\r\n     <use xlink:href=\"#DejaVuSans-52\"/>\r\n     <use x=\"63.623047\" xlink:href=\"#DejaVuSans-53\"/>\r\n    </g>\r\n   </g>\r\n   <g id=\"text_10\">\r\n    <!-- 90 -->\r\n    <defs>\r\n     <path d=\"M 31.78125 66.40625 \r\nQ 24.171875 66.40625 20.328125 58.90625 \r\nQ 16.5 51.421875 16.5 36.375 \r\nQ 16.5 21.390625 20.328125 13.890625 \r\nQ 24.171875 6.390625 31.78125 6.390625 \r\nQ 39.453125 6.390625 43.28125 13.890625 \r\nQ 47.125 21.390625 47.125 36.375 \r\nQ 47.125 51.421875 43.28125 58.90625 \r\nQ 39.453125 66.40625 31.78125 66.40625 \r\nz\r\nM 31.78125 74.21875 \r\nQ 44.046875 74.21875 50.515625 64.515625 \r\nQ 56.984375 54.828125 56.984375 36.375 \r\nQ 56.984375 17.96875 50.515625 8.265625 \r\nQ 44.046875 -1.421875 31.78125 -1.421875 \r\nQ 19.53125 -1.421875 13.0625 8.265625 \r\nQ 6.59375 17.96875 6.59375 36.375 \r\nQ 6.59375 54.828125 13.0625 64.515625 \r\nQ 19.53125 74.21875 31.78125 74.21875 \r\nz\r\n\" id=\"DejaVuSans-48\"/>\r\n    </defs>\r\n    <g style=\"fill:#ffffff;\" transform=\"translate(232.07375 188.1575)scale(0.1 -0.1)\">\r\n     <use xlink:href=\"#DejaVuSans-57\"/>\r\n     <use x=\"63.623047\" xlink:href=\"#DejaVuSans-48\"/>\r\n    </g>\r\n   </g>\r\n   <g id=\"text_11\">\r\n    <!-- Confusion Matrix -->\r\n    <defs>\r\n     <path d=\"M 30.609375 48.390625 \r\nQ 23.390625 48.390625 19.1875 42.75 \r\nQ 14.984375 37.109375 14.984375 27.296875 \r\nQ 14.984375 17.484375 19.15625 11.84375 \r\nQ 23.34375 6.203125 30.609375 6.203125 \r\nQ 37.796875 6.203125 41.984375 11.859375 \r\nQ 46.1875 17.53125 46.1875 27.296875 \r\nQ 46.1875 37.015625 41.984375 42.703125 \r\nQ 37.796875 48.390625 30.609375 48.390625 \r\nz\r\nM 30.609375 56 \r\nQ 42.328125 56 49.015625 48.375 \r\nQ 55.71875 40.765625 55.71875 27.296875 \r\nQ 55.71875 13.875 49.015625 6.21875 \r\nQ 42.328125 -1.421875 30.609375 -1.421875 \r\nQ 18.84375 -1.421875 12.171875 6.21875 \r\nQ 5.515625 13.875 5.515625 27.296875 \r\nQ 5.515625 40.765625 12.171875 48.375 \r\nQ 18.84375 56 30.609375 56 \r\nz\r\n\" id=\"DejaVuSans-111\"/>\r\n     <path d=\"M 54.890625 33.015625 \r\nL 54.890625 0 \r\nL 45.90625 0 \r\nL 45.90625 32.71875 \r\nQ 45.90625 40.484375 42.875 44.328125 \r\nQ 39.84375 48.1875 33.796875 48.1875 \r\nQ 26.515625 48.1875 22.3125 43.546875 \r\nQ 18.109375 38.921875 18.109375 30.90625 \r\nL 18.109375 0 \r\nL 9.078125 0 \r\nL 9.078125 54.6875 \r\nL 18.109375 54.6875 \r\nL 18.109375 46.1875 \r\nQ 21.34375 51.125 25.703125 53.5625 \r\nQ 30.078125 56 35.796875 56 \r\nQ 45.21875 56 50.046875 50.171875 \r\nQ 54.890625 44.34375 54.890625 33.015625 \r\nz\r\n\" id=\"DejaVuSans-110\"/>\r\n     <path d=\"M 37.109375 75.984375 \r\nL 37.109375 68.5 \r\nL 28.515625 68.5 \r\nQ 23.6875 68.5 21.796875 66.546875 \r\nQ 19.921875 64.59375 19.921875 59.515625 \r\nL 19.921875 54.6875 \r\nL 34.71875 54.6875 \r\nL 34.71875 47.703125 \r\nL 19.921875 47.703125 \r\nL 19.921875 0 \r\nL 10.890625 0 \r\nL 10.890625 47.703125 \r\nL 2.296875 47.703125 \r\nL 2.296875 54.6875 \r\nL 10.890625 54.6875 \r\nL 10.890625 58.5 \r\nQ 10.890625 67.625 15.140625 71.796875 \r\nQ 19.390625 75.984375 28.609375 75.984375 \r\nz\r\n\" id=\"DejaVuSans-102\"/>\r\n     <path d=\"M 9.8125 72.90625 \r\nL 24.515625 72.90625 \r\nL 43.109375 23.296875 \r\nL 61.8125 72.90625 \r\nL 76.515625 72.90625 \r\nL 76.515625 0 \r\nL 66.890625 0 \r\nL 66.890625 64.015625 \r\nL 48.09375 14.015625 \r\nL 38.1875 14.015625 \r\nL 19.390625 64.015625 \r\nL 19.390625 0 \r\nL 9.8125 0 \r\nz\r\n\" id=\"DejaVuSans-77\"/>\r\n     <path d=\"M 54.890625 54.6875 \r\nL 35.109375 28.078125 \r\nL 55.90625 0 \r\nL 45.3125 0 \r\nL 29.390625 21.484375 \r\nL 13.484375 0 \r\nL 2.875 0 \r\nL 24.125 28.609375 \r\nL 4.6875 54.6875 \r\nL 15.28125 54.6875 \r\nL 29.78125 35.203125 \r\nL 44.28125 54.6875 \r\nz\r\n\" id=\"DejaVuSans-120\"/>\r\n    </defs>\r\n    <g transform=\"translate(120.834375 16.318125)scale(0.12 -0.12)\">\r\n     <use xlink:href=\"#DejaVuSans-67\"/>\r\n     <use x=\"69.824219\" xlink:href=\"#DejaVuSans-111\"/>\r\n     <use x=\"131.005859\" xlink:href=\"#DejaVuSans-110\"/>\r\n     <use x=\"194.384766\" xlink:href=\"#DejaVuSans-102\"/>\r\n     <use x=\"229.589844\" xlink:href=\"#DejaVuSans-117\"/>\r\n     <use x=\"292.96875\" xlink:href=\"#DejaVuSans-115\"/>\r\n     <use x=\"345.068359\" xlink:href=\"#DejaVuSans-105\"/>\r\n     <use x=\"372.851562\" xlink:href=\"#DejaVuSans-111\"/>\r\n     <use x=\"434.033203\" xlink:href=\"#DejaVuSans-110\"/>\r\n     <use x=\"497.412109\" xlink:href=\"#DejaVuSans-32\"/>\r\n     <use x=\"529.199219\" xlink:href=\"#DejaVuSans-77\"/>\r\n     <use x=\"615.478516\" xlink:href=\"#DejaVuSans-97\"/>\r\n     <use x=\"676.757812\" xlink:href=\"#DejaVuSans-116\"/>\r\n     <use x=\"715.966797\" xlink:href=\"#DejaVuSans-114\"/>\r\n     <use x=\"757.080078\" xlink:href=\"#DejaVuSans-105\"/>\r\n     <use x=\"784.863281\" xlink:href=\"#DejaVuSans-120\"/>\r\n    </g>\r\n   </g>\r\n  </g>\r\n  <g id=\"axes_2\">\r\n   <g id=\"patch_3\">\r\n    <path clip-path=\"url(#pd55fd2bb36)\" d=\"M 322.13625 239.758125 \r\nL 322.13625 238.90875 \r\nL 322.13625 23.1675 \r\nL 322.13625 22.318125 \r\nL 333.00825 22.318125 \r\nL 333.00825 23.1675 \r\nL 333.00825 238.90875 \r\nL 333.00825 239.758125 \r\nz\r\n\" style=\"fill:#ffffff;stroke:#ffffff;stroke-linejoin:miter;stroke-width:0.01;\"/>\r\n   </g>\r\n   <image height=\"217\" id=\"imagebe4eb592e2\" transform=\"scale(1 -1)translate(0 -217)\" width=\"11\" x=\"322\" xlink:href=\"data:image/png;base64,\r\niVBORw0KGgoAAAANSUhEUgAAAAsAAADZCAYAAAD2WsoCAAAABHNCSVQICAgIfAhkiAAAAVJJREFUaIHV2kEOAjEMQ9GmDZfg/veEK/QtLKWsLcv5dToMovrz/a3LT1fVrXb1rn0vRmcQ14o5i/gIjVyMLTRyAw7JjM4woNHIVXSGs5V/ynHLgGtE+W3Aa6l2YwgNK/+1NNoNipHcFIiRGxBPcEj5Y62LOefQ9ZCFFTHRODHnIQPu69cDp0Hi2HaTeAgNiZGjcSQGHreIn6Rxr7YBc/dG/yAzck7RKHK+N159Ys6YWcRwKhbjFMWIFYmcRXygduaMma+1yRgbLruuIehgCTFGjoahu9aiMw6YikHOK9aN3RLDaDzoDDd0FzyBLMYSZ4sRHDAlpl97LAa81iQPhcTy+7N8Weva4pzLbOjE+eSO+0F0RoNijKBRtN3GOSa2u47Kf/+kH5PZYgyhMaNINGAuc8y5Sra7X6QRu76kG8Z5RjfW+UyIQf+ySN51QuPFAWFT/gJ8LSOCIrIBAAAAAElFTkSuQmCC\" y=\"-22\"/>\r\n   <g id=\"matplotlib.axis_3\"/>\r\n   <g id=\"matplotlib.axis_4\">\r\n    <g id=\"ytick_3\">\r\n     <g id=\"line2d_5\">\r\n      <defs>\r\n       <path d=\"M 0 0 \r\nL 3.5 0 \r\n\" id=\"md581486fe1\" style=\"stroke:#000000;stroke-width:0.8;\"/>\r\n      </defs>\r\n      <g>\r\n       <use style=\"stroke:#000000;stroke-width:0.8;\" x=\"333.00825\" xlink:href=\"#md581486fe1\" y=\"205.060253\"/>\r\n      </g>\r\n     </g>\r\n     <g id=\"text_12\">\r\n      <!-- 40 -->\r\n      <g transform=\"translate(340.00825 208.859471)scale(0.1 -0.1)\">\r\n       <use xlink:href=\"#DejaVuSans-52\"/>\r\n       <use x=\"63.623047\" xlink:href=\"#DejaVuSans-48\"/>\r\n      </g>\r\n     </g>\r\n    </g>\r\n    <g id=\"ytick_4\">\r\n     <g id=\"line2d_6\">\r\n      <g>\r\n       <use style=\"stroke:#000000;stroke-width:0.8;\" x=\"333.00825\" xlink:href=\"#md581486fe1\" y=\"158.796423\"/>\r\n      </g>\r\n     </g>\r\n     <g id=\"text_13\">\r\n      <!-- 60 -->\r\n      <defs>\r\n       <path d=\"M 33.015625 40.375 \r\nQ 26.375 40.375 22.484375 35.828125 \r\nQ 18.609375 31.296875 18.609375 23.390625 \r\nQ 18.609375 15.53125 22.484375 10.953125 \r\nQ 26.375 6.390625 33.015625 6.390625 \r\nQ 39.65625 6.390625 43.53125 10.953125 \r\nQ 47.40625 15.53125 47.40625 23.390625 \r\nQ 47.40625 31.296875 43.53125 35.828125 \r\nQ 39.65625 40.375 33.015625 40.375 \r\nz\r\nM 52.59375 71.296875 \r\nL 52.59375 62.3125 \r\nQ 48.875 64.0625 45.09375 64.984375 \r\nQ 41.3125 65.921875 37.59375 65.921875 \r\nQ 27.828125 65.921875 22.671875 59.328125 \r\nQ 17.53125 52.734375 16.796875 39.40625 \r\nQ 19.671875 43.65625 24.015625 45.921875 \r\nQ 28.375 48.1875 33.59375 48.1875 \r\nQ 44.578125 48.1875 50.953125 41.515625 \r\nQ 57.328125 34.859375 57.328125 23.390625 \r\nQ 57.328125 12.15625 50.6875 5.359375 \r\nQ 44.046875 -1.421875 33.015625 -1.421875 \r\nQ 20.359375 -1.421875 13.671875 8.265625 \r\nQ 6.984375 17.96875 6.984375 36.375 \r\nQ 6.984375 53.65625 15.1875 63.9375 \r\nQ 23.390625 74.21875 37.203125 74.21875 \r\nQ 40.921875 74.21875 44.703125 73.484375 \r\nQ 48.484375 72.75 52.59375 71.296875 \r\nz\r\n\" id=\"DejaVuSans-54\"/>\r\n      </defs>\r\n      <g transform=\"translate(340.00825 162.595642)scale(0.1 -0.1)\">\r\n       <use xlink:href=\"#DejaVuSans-54\"/>\r\n       <use x=\"63.623047\" xlink:href=\"#DejaVuSans-48\"/>\r\n      </g>\r\n     </g>\r\n    </g>\r\n    <g id=\"ytick_5\">\r\n     <g id=\"line2d_7\">\r\n      <g>\r\n       <use style=\"stroke:#000000;stroke-width:0.8;\" x=\"333.00825\" xlink:href=\"#md581486fe1\" y=\"112.532593\"/>\r\n      </g>\r\n     </g>\r\n     <g id=\"text_14\">\r\n      <!-- 80 -->\r\n      <defs>\r\n       <path d=\"M 31.78125 34.625 \r\nQ 24.75 34.625 20.71875 30.859375 \r\nQ 16.703125 27.09375 16.703125 20.515625 \r\nQ 16.703125 13.921875 20.71875 10.15625 \r\nQ 24.75 6.390625 31.78125 6.390625 \r\nQ 38.8125 6.390625 42.859375 10.171875 \r\nQ 46.921875 13.96875 46.921875 20.515625 \r\nQ 46.921875 27.09375 42.890625 30.859375 \r\nQ 38.875 34.625 31.78125 34.625 \r\nz\r\nM 21.921875 38.8125 \r\nQ 15.578125 40.375 12.03125 44.71875 \r\nQ 8.5 49.078125 8.5 55.328125 \r\nQ 8.5 64.0625 14.71875 69.140625 \r\nQ 20.953125 74.21875 31.78125 74.21875 \r\nQ 42.671875 74.21875 48.875 69.140625 \r\nQ 55.078125 64.0625 55.078125 55.328125 \r\nQ 55.078125 49.078125 51.53125 44.71875 \r\nQ 48 40.375 41.703125 38.8125 \r\nQ 48.828125 37.15625 52.796875 32.3125 \r\nQ 56.78125 27.484375 56.78125 20.515625 \r\nQ 56.78125 9.90625 50.3125 4.234375 \r\nQ 43.84375 -1.421875 31.78125 -1.421875 \r\nQ 19.734375 -1.421875 13.25 4.234375 \r\nQ 6.78125 9.90625 6.78125 20.515625 \r\nQ 6.78125 27.484375 10.78125 32.3125 \r\nQ 14.796875 37.15625 21.921875 38.8125 \r\nz\r\nM 18.3125 54.390625 \r\nQ 18.3125 48.734375 21.84375 45.5625 \r\nQ 25.390625 42.390625 31.78125 42.390625 \r\nQ 38.140625 42.390625 41.71875 45.5625 \r\nQ 45.3125 48.734375 45.3125 54.390625 \r\nQ 45.3125 60.0625 41.71875 63.234375 \r\nQ 38.140625 66.40625 31.78125 66.40625 \r\nQ 25.390625 66.40625 21.84375 63.234375 \r\nQ 18.3125 60.0625 18.3125 54.390625 \r\nz\r\n\" id=\"DejaVuSans-56\"/>\r\n      </defs>\r\n      <g transform=\"translate(340.00825 116.331812)scale(0.1 -0.1)\">\r\n       <use xlink:href=\"#DejaVuSans-56\"/>\r\n       <use x=\"63.623047\" xlink:href=\"#DejaVuSans-48\"/>\r\n      </g>\r\n     </g>\r\n    </g>\r\n    <g id=\"ytick_6\">\r\n     <g id=\"line2d_8\">\r\n      <g>\r\n       <use style=\"stroke:#000000;stroke-width:0.8;\" x=\"333.00825\" xlink:href=\"#md581486fe1\" y=\"66.268763\"/>\r\n      </g>\r\n     </g>\r\n     <g id=\"text_15\">\r\n      <!-- 100 -->\r\n      <g transform=\"translate(340.00825 70.067982)scale(0.1 -0.1)\">\r\n       <use xlink:href=\"#DejaVuSans-49\"/>\r\n       <use x=\"63.623047\" xlink:href=\"#DejaVuSans-48\"/>\r\n       <use x=\"127.246094\" xlink:href=\"#DejaVuSans-48\"/>\r\n      </g>\r\n     </g>\r\n    </g>\r\n   </g>\r\n   <g id=\"patch_4\">\r\n    <path d=\"M 322.13625 239.758125 \r\nL 322.13625 238.90875 \r\nL 322.13625 23.1675 \r\nL 322.13625 22.318125 \r\nL 333.00825 22.318125 \r\nL 333.00825 23.1675 \r\nL 333.00825 238.90875 \r\nL 333.00825 239.758125 \r\nz\r\n\" style=\"fill:none;\"/>\r\n   </g>\r\n  </g>\r\n </g>\r\n <defs>\r\n  <clipPath id=\"p4de5f493cb\">\r\n   <rect height=\"217.44\" width=\"267.84\" x=\"37.55625\" y=\"22.318125\"/>\r\n  </clipPath>\r\n  <clipPath id=\"pd55fd2bb36\">\r\n   <rect height=\"217.44\" width=\"10.872\" x=\"322.13625\" y=\"22.318125\"/>\r\n  </clipPath>\r\n </defs>\r\n</svg>\r\n",
            "image/png": "[encoded data removed]"
          },
          "metadata": {
            "needs_background": "light"
          }
        },
        {
          "output_type": "stream",
          "name": "stdout",
          "text": [
            "Number of True Positives (TP):  119\nNumber of True Negatives (TN):  90\nNumber of False Positives (FP):  45\nNumber of False Negatives (FN):  25\n\nAccuracy: 74.9 %\nPrecision: 75.3 %\nRecall: 74.9 %\nF1 Score: 74.7 %\n"
          ]
        }
      ]
    },
    {
      "cell_type": "markdown",
      "metadata": {
        "id": "mNmIgjXr9ECF"
      },
      "source": [
        "<p> Let us interpret the above results obtained.\n",
        "<ul>\n",
        "    <li><b>Accuracy</b> is the fraction of predictions that our model got right. It is 74.9% here. </li>\n",
        "    <li><b>Precision</b> indicates the proportion of the instances that the model says was relevant, actually were relevant. It is 75.3% here. It says that 75.3% which were predicted as hate speech is actually hate speech.</li>  \n",
        "   <li><b>Recall</b> indicates the proportion of actually positive instances that are correctly predicted. It is 74.9% here. It says that of all the observations which truly consist of hate speech, we have correctly predicted 74.9% out of it.</li> \n",
        "    <li><b>F1 Score</b> considers both precision and recall. It is the harmonic mean (average) of the Precision and Recall. F1 Score is best if there is some sort of balance between Precision  and Recall in the system as above. The F1 Score for this model is 74.7% which is a reasonable value.</li>\n",
        "</ul>\n",
        "\n",
        "<br>The reason to the increment of FPs over FNs is that this data set consists of more number of \"YES\" labeled data than \"NO\" labeled data. According to the confusion matrix there are 70 errors (FP+FN). Those errors can be retrieved using the below function named <b>get_errors(test_X, test_y, predicted_y)</b>. </p>"
      ]
    },
    {
      "cell_type": "code",
      "metadata": {
        "id": "rVkS-fMR9ECF"
      },
      "source": [
        "#  Define a function to get errors\n",
        "def get_errors(test_X, test_y, predicted_y):\n",
        "    errors = []\n",
        "    \n",
        "    # Join the tokens and create a sentence\n",
        "    test_X = [' '.join(x) for x in test_X]\n",
        "    \n",
        "    # Iterate through the test set\n",
        "    for index in range (0, len(test_X)):   \n",
        "        \n",
        "        # Check whether the particular actual label matches with the predicted label.\n",
        "        if test_y.tolist()[index] != predicted_y.tolist()[index]:\n",
        "            # If does not match it is an error\n",
        "            errors.append( (test_X[index], test_y.tolist()[index], predicted_y.tolist()[index]))\n",
        "    \n",
        "    # Print the errors\n",
        "    count = 1\n",
        "    for row in errors:\n",
        "        print(count)\n",
        "        print(\"Sentence: \",end=\"\")\n",
        "        print (row[0])\n",
        "        print(\"Actual Label: \",end=\"\")\n",
        "        print (row[1])\n",
        "        print(\"Predicted Label: \",end=\"\")\n",
        "        print (row[2])\n",
        "        print (\"\\n\")\n",
        "        count = count + 1"
      ],
      "execution_count": 50,
      "outputs": []
    },
    {
      "cell_type": "markdown",
      "metadata": {
        "id": "bUtPvzVV9ECG"
      },
      "source": [
        "<p>Let us get the errors for incorrectly predicted sentences in the Sinhala dataset.</p>"
      ]
    },
    {
      "cell_type": "code",
      "metadata": {
        "scrolled": true,
        "id": "I26-s6DM9ECG",
        "outputId": "b03fe76b-3627-41a2-eca7-6828ed75537d"
      },
      "source": [
        "get_errors(test_X=test_X_sinhala, test_y=test_y_sinhala, predicted_y=predicted_y_sinhala)"
      ],
      "execution_count": 51,
      "outputs": [
        {
          "output_type": "stream",
          "name": "stdout",
          "text": [
            "1\nSentence: අප රට ලොක හෙන ව දෙලොව නැ අපතයොන් පිලිග ගොබ්බ පරපුර බිහිවීම\nActual Label: YES\nPredicted Label: NO\n\n\n2\nSentence: ම හඬ කව එක අම්ම තනිකර ම වද තියෙ කැලෑ කකුල අස්ස ගණි මඩ තනිකර අම්ම කාල තො තාත්ත අහ එ පණ\nActual Label: YES\nPredicted Label: NO\n\n\n3\nSentence: ලංකා පාලන අවශ නැ මිනිස්ස තම පාඩ හැමදේ කරද්දි කාලකන් අපේ සල්ලි වල අපි අරි දකි තැ ගහ එලව සමාජ බිහිෙවනක මෙව් මෙහෙ\nActual Label: NO\nPredicted Label: YES\n\n\n4\nSentence: තිය අ දෙන වැඩි අසර අ ඉන්න එ අයටන දෙ ඔි\nActual Label: YES\nPredicted Label: NO\n\n\n5\nSentence: තම්බිය සි0හල ගහද්දි නික හිටි\nActual Label: YES\nPredicted Label: NO\n\n\n6\nSentence: මොනතර ගින්දර ප ඇතුල පත්ත වෙ අැද් තාත්ත අ ප උස්මහ කර තාත්ත දෙයියන ශාප වෙ උඹල ආත්මෙ\nActual Label: YES\nPredicted Label: NO\n\n\n7\nSentence: සරාග ගැහැන නිද සියල පිරි කැමත දීග ය ගෞරව රැකග ගැහැන පමනය\nActual Label: YES\nPredicted Label: NO\n\n\n8\nSentence: ඇද ඇදග ය අපි ලැජ ම ව නිල ඒ\nActual Label: YES\nPredicted Label: NO\n\n\n9\nSentence: මොහු ම අප අදහස දැක්වූ ම පුත මැරුණ බෝධ රැු ගත බෙදාහද ගනි මුස්ලි ත ් රස්තවාද විරුද්ධත්ව පළ කර\nActual Label: YES\nPredicted Label: NO\n\n\n10\nSentence: ඇත්ත ඌ ඒ කිය කළ මාලි වන්ඩ වල වි ඉඩ තියන කි\nActual Label: NO\nPredicted Label: YES\n\n\n11\nSentence: වේසියෙකු අවජාතකයකු මැ පොන්න දෙ ආතල\nActual Label: YES\nPredicted Label: NO\n\n\n12\nSentence: පොලිසි ඔ මත ති සති ම දන් පොලිසි අ\nActual Label: NO\nPredicted Label: YES\n\n\n13\nSentence: ම හිතෙ විදි වෙලා ග හොද තීරන ඕ\nActual Label: NO\nPredicted Label: YES\n\n\n14\nSentence: මො කමෙන්ට කරන්න කිය හිත හිත බැරි තැ අතඇර දැම්ම\nActual Label: YES\nPredicted Label: NO\n\n\n15\nSentence: ම මහ කාලකණ්ණි රට මිනිස්ස විසින් කාලකණ්ණි කර රට තිරිස මිනිස්ස ඉ පොඩි දුප්ප මිනිස්ස තම දේ සල්ලි තියෙ ඈ සල්ලි කොළ වල වහගෙ කර ජර තුප්ප වැඩ ඔක්කො කර\nActual Label: NO\nPredicted Label: YES\n\n\n16\nSentence: යක කසිප් කිතුල ර ව ගහනවන කිය අප ද කිය ඕක ර යට කරගත්ත කාලෙ පීප්ප ගන ගෙන බී\nActual Label: NO\nPredicted Label: YES\n\n\n17\nSentence: පොලීස ගොං ආතල දෙ පූජිත උබ තියෙ වැඩ මේ\nActual Label: YES\nPredicted Label: NO\n\n\n18\nSentence: කිරිකැටි තේරෙනවයැ ඇඳ ගෙනියනක ඕ තම්බියො චූටි කෙල්ලො උපරි සතු ගැන සමස්ත ඉස්ලා පිරිමි වාසි ඔව ලොක් සාද ගොස තිබෙ ආගමි නීති අප දකි විවාහ උත්සව\nActual Label: YES\nPredicted Label: NO\n\n\n19\nSentence: මෙ දකි වාර ම නෙතට කදුල උන ම පුත ට මේවැනි හැගි ඇ න කිය ප සෙනෙහස සෙව් ඔවුන් අනගත සරිකරල දුර රට ගෙව කටු ජිවිත\nActual Label: YES\nPredicted Label: NO\n\n\n20\nSentence: පිටරට ගියා තේරෙණ අපි මී වසර දහස ඉඳ තිය ලෝක ඉදිරියෙන් කිය සුද්ද මේ වැනසුවෙි වනස තැන අප එවුන් මො හැද ඒ එද අනගාරි ධර්මපා තුම කිව්\nActual Label: NO\nPredicted Label: YES\n\n\n21\nSentence: මෙල රහ නැ උ ඉ ටව එ\nActual Label: YES\nPredicted Label: NO\n\n\n22\nSentence: අපෙ ර ජාත අාග මොන වෙ මෙහෙ ගියො\nActual Label: NO\nPredicted Label: YES\n\n\n23\nSentence: වෙනස සැප පේනවන මෙි රටෙි නිත බල්ල ගිහ\nActual Label: YES\nPredicted Label: NO\n\n\n24\nSentence: ලො දෙ නූගත්ක ප රදර්ශන ක ඕ ගොන්ක එ දෙ උද ගංජ ගහ හවස සම්මාන ග ඇවි වගේ පේ\nActual Label: YES\nPredicted Label: NO\n\n\n25\nSentence: ගූඇන්ප එව් සදහ විනාඩි නිශ්ශබ්දතාව\nActual Label: YES\nPredicted Label: NO\n\n\n26\nSentence: අප රට ඕ හර මිනිස්ස අඩු දැ ව සමහර මොල ම නඩත්ත වෙ අප බද මුදල කිය ඒ මේ උපරි මාස පිලිවෙල තියෙ\nActual Label: NO\nPredicted Label: YES\n\n\n27\nSentence: ලංක ඔහො බස එ දැම්ම ඒ තහන කර කිය පිකට ය එහෙ එව ඉ මේ\nActual Label: NO\nPredicted Label: YES\n\n\n28\nSentence: ප රවී ක කරුවනු දේශපාල අතකොල වෙ ඉ ලංක වැඩ වෙ එයාල ක කාරය දේශපාලකයෝ නැතිවෙ වැඩ මොන උන ලංක දේශපාලක පිලිබඳ සමාජ මත ම උන කවුරු එලි දා ඉදිරිප වෙන්නෑ මෙයා ඒ ක උ ගොබ්බ උ\nActual Label: YES\nPredicted Label: NO\n\n\n29\nSentence: අපරා කාර ර පාව දෙ උ රකි සක්ක ආන්ඩ\nActual Label: YES\nPredicted Label: NO\n\n\n30\nSentence: ලිය එ හෙ බල ඉ පොලිස මා රෙදි පැ කර\nActual Label: NO\nPredicted Label: YES\n\n\n31\nSentence: ත දෙමාපි නොසලක දරුවන්ට අත්ව ම ඉරණ\nActual Label: NO\nPredicted Label: YES\n\n\n32\nSentence: කැ ත අර ග ඉස්සරහ ගිහ හෙ වලියක්ල දැ\nActual Label: NO\nPredicted Label: YES\n\n\n33\nSentence: ම ලක විස්ස ගහ තිබු ර දා ය වෙ අපි බිංදු දෙන්නෙ මාර ටෝ\nActual Label: NO\nPredicted Label: YES\n\n\n34\nSentence: මුන්ට අම්ම තාත්ත කිය ජාති හිටි න ඉ ඇත්ත අම්ම තාත්ත වෙ ම කොහ පිටකොටු කොහ මුඩුක්කු හො ගත්ත එව ටි වෙ ඕන ලැජ්ජා තිය මිනිහෙක් පුලු දේ බල ඉ මේක මො කුනුහරුප වැඩ\nActual Label: YES\nPredicted Label: NO\n\n\n35\nSentence: සිංහ උ කතෝලි උ අ මෙහෙ ඇර ගන්න දැක තී හේත ඇඳ කෑ බ පිළිපදි නීති වෙනස බෞද්ධ කතෝලි සමාජ අ අතර දකි ලැබෙ නැ ඒ මුස්ලි සමාජ ගත් මොක අඳ රෙද්ද ඉද සමාජ බෙද එ කර\nActual Label: YES\nPredicted Label: NO\n\n\n36\nSentence: මේ වෙනස නොවෙ පාතාල දේශපාලු නිර්මාණ කර ඇරෙ රට සාධාරණ සමාජ බි කිර උ උවමනා නැ කාලකන් ජාති\nActual Label: NO\nPredicted Label: YES\n\n\n37\nSentence: ව ම තේරු ඇම්බියුලන්ස එ කත කර දෙමළ කෙන එතනදි ජාතිවාද\nActual Label: NO\nPredicted Label: YES\n\n\n38\nSentence: පාලකය කිය හැත්ත ඉවර කර දැම්මන හැමදේ විසදේවි රට කත කර අ ඉ රට එ නිර්භීත හිත තිබුනන හර ගා මරාගෙ මැරෙ පුලු\nActual Label: NO\nPredicted Label: YES\n\n\n39\nSentence: උබ ජනාධිප කලෙ කාල උබ දී ටෝ\nActual Label: YES\nPredicted Label: NO\n\n\n40\nSentence: ලන්කා එකෙකු ත අත ගහ මුල ටෙස මැච එකක් දිනෙව\nActual Label: NO\nPredicted Label: YES\n\n\n41\nSentence: දහ කතිකාවත අැතිව්නෙ කල පස්සෙ සිංහ අපි දහමෙ ඈ කරා මෙි හොර නඩෙි වාසියිනෙ එ්ක මෙි බ ක හර මොර දේන්නෙ\nActual Label: YES\nPredicted Label: NO\n\n\n42\nSentence: දැ බැ බැ මේ පෝස්ට දැම් මේ පිලිවෙල මහින්ද කාල සිද්ධ උ ඒ අසංවේද උ මෝඩ උද්ධච්ඡ මිනිස්සුන් ඡන් ව පිහිට ලැබු වෙනස තියෙන්\nActual Label: YES\nPredicted Label: NO\n\n\n43\nSentence: පනපිට අපා ප කොටිදෙ\nActual Label: YES\nPredicted Label: NO\n\n\n44\nSentence: පිස්ස වැඩ කර ය මනුස්ස මෝඩ\nActual Label: YES\nPredicted Label: NO\n\n\n45\nSentence: කත කරෝ මහ ලොකු අපි දක කෝන්ද තීයන1 කේනේ පොලිස අයිය උස්ස උස්ස අයි විතර පිරි යේ කිය\nActual Label: YES\nPredicted Label: NO\n\n\n46\nSentence: උ පි ගම්මන්ප උත්තම අත සම්මාන ග දුමින් මහත්තයාගේ හිත හොදටෝ පෑරෙ ඇ\nActual Label: YES\nPredicted Label: NO\n\n\n47\nSentence: ලන්කා ඉ අසහනකාර රියදුර එයාල ඉවස කට තියෙ අහ බැරි කුණුහරුප හෝ ගහ එ ඉවර වයස මිනිහ පාර ය ඉඩ දෙ ලන්කා කිය කිසිදා දිය නොව රට\nActual Label: NO\nPredicted Label: YES\n\n\n48\nSentence: රටෙ දේ විකුනං ක උ කඩෙ ය ර හැග නැ උ තව ඉන් කිය පෙන්නු ස්තූති දැ අප අායෙ ෆ ර වයිෆ ලැබෙ නේ\nActual Label: YES\nPredicted Label: NO\n\n\n49\nSentence: අප අම පාලකයො වැරදි\nActual Label: YES\nPredicted Label: NO\n\n\n50\nSentence: මමනං හිත සංග දේශපාලන එ කිය ම මෝඩ බං\nActual Label: NO\nPredicted Label: YES\n\n\n51\nSentence: අප හරක ගහ හිටව ගි කුඩ අල්ල ඔන බහි වලකු හාර දෙ ඔන අපි පව න\nActual Label: YES\nPredicted Label: NO\n\n\n52\nSentence: දැ පේජ කාර කුසල් බැන ඒ දැක කුසල මෙන්ඩිස ම බ මැච එ ගහ අ කුසල ම බ පල වහ ය ඌ පුලු දවස ඌ ග දක්ශතාව ඌ ගහන ඇඩ්මින් පු දෙනවන තොපි ම දින යක\nActual Label: YES\nPredicted Label: NO\n\n\n53\nSentence: හැමෝ ත තම හර්දශාක්කි තට්ට කර බල් ඔන තැනදි කරුනකද විදි වැඩ කරනවා කාට රිදව වැඩ කරන තීරන ඔබ සතු\nActual Label: YES\nPredicted Label: NO\n\n\n54\nSentence: බයිසන් මොව ගන්ජ කාර ව ටොයිසන් මොව කොන් ප ඇ කොල්ල ව කමෙන්ට බලනකො තෙරුන ඈ\nActual Label: YES\nPredicted Label: NO\n\n\n55\nSentence: වීඩි එ ගත්ත ගැටළු සිද්ධ වුන ඩොක්ටර ග දෙමව්පි මෙ ලංකා ඇවි ස හ ඉඳ ගිහ ලංකා කිය එ දෙමව්ප එ තියෙන ඔව වු සිද්ධි ම මේ තියෙ සබ්ටයිටල්ස දා\nActual Label: NO\nPredicted Label: YES\n\n\n56\nSentence: කල දවස කිව මතක අලු වැඩ හම්බ කිය ඒ තම ම රගපෑ ඉරාජ් පට් මාකට\nActual Label: YES\nPredicted Label: NO\n\n\n57\nSentence: හෙ ඉද අයි අයි සැලැන්ඩර මල්ලි\nActual Label: YES\nPredicted Label: NO\n\n\n58\nSentence: පට් බඩ ගෙන්න වෙල නරක නාස් කර සල්ල අහින්ස ක නැ දරු කෑ ටි අර දුන්නන ම පට් ගොන් පුම්බන උ කතා\nActual Label: YES\nPredicted Label: NO\n\n\n59\nSentence: කොහො උන බඩ සෙට එ එ ඒලෙ කර\nActual Label: YES\nPredicted Label: NO\n\n\n60\nSentence: මේක පොන්ස් හිටං\nActual Label: YES\nPredicted Label: NO\n\n\n61\nSentence: ග ය පැරද අවුරුද් ට දින දින එ මැච එ පොර ටෝ දෙ මී ලස්ස ක රිකට බල අ අපි ශ රිලංක\nActual Label: YES\nPredicted Label: NO\n\n\n62\nSentence: තැනක හොර ක ර මඩ වගුර කර ම හර ටි එකත වෙ\nActual Label: NO\nPredicted Label: YES\n\n\n63\nSentence: උබ තිබුන මහත්ත එද උබ නංගි මර උ පලිගත්ත දවස පොලිසි බාර නොව ඉ\nActual Label: NO\nPredicted Label: YES\n\n\n64\nSentence: මහින් අරි අස්ස හිටං කාර පැත්ත ඇන ජාත උ උං න කල මහින්ද අප්පොච්චි කිය තියෙ හෑ යක මේම සප්ප රායිස\nActual Label: YES\nPredicted Label: NO\n\n\n65\nSentence: අප මහින් මහත්ත ඇවි මාස එයා වැඩ ටොයියො ජෙප්පො පේ ලයි එ දා\nActual Label: YES\nPredicted Label: NO\n\n\n66\nSentence: බල ඕ රට විදේශ මුදල ග එන ඉඳ ග රවුන්ඩ එ වතුර දා එක යනක සල්ලි ලැබෙ න එ ලංක විදේශ සන්තිච ශක්තිම වෙ ඩොලර එ පල වැට ර දියු වෙ මෙතුමන්ල අප ර කර පුළු\nActual Label: NO\nPredicted Label: YES\n\n\n67\nSentence: ලංකා මිනිස්ස වර්ග දෙ ඉන්න එ ගොං ගොබ්බ ගෝ රි හොරිකඩ නිවටය වර් කොල්ල කර වැඩ එකඟ අග කර උ\nActual Label: YES\nPredicted Label: NO\n\n\n68\nSentence: කිරිබත්ගොඩ හි බුද දහ ආතල එ අර බුද දහ වෙනස කර මිනිස්ස ගොන අන්ද සල්ලි හම්බකර\nActual Label: YES\nPredicted Label: NO\n\n\n69\nSentence: පොලිස්සි එව බද කිගදිවි පුහු ක එ සුද මහත්ත ස්තු\nActual Label: YES\nPredicted Label: NO\n\n\n70\nSentence: ලංකා ඉ බ පල පිටර උඹ එහෙදි නිය තැ ලැබේවි මෙහ උන්න උඹ කාලකන් වෙන බ\nActual Label: NO\nPredicted Label: YES\n\n\n"
          ]
        }
      ]
    },
    {
      "cell_type": "markdown",
      "metadata": {
        "id": "8Z4PcjY59ECG"
      },
      "source": [
        "<p>Below function <b>find_important_words(feature_names, model)</b> finds the important and least important tokens in the vocabulary based on the logisitic regression model that created.<p>"
      ]
    },
    {
      "cell_type": "code",
      "metadata": {
        "id": "Cdh93Nch9ECH"
      },
      "source": [
        "# Define a function to check which tokens have high coefficients and low coefficients\n",
        "# High coefficient -> Important\n",
        "# Low coefficient -> NOT Important\n",
        "def find_important_words(feature_names, log_reg_model):\n",
        "    \n",
        "    # Create a dataframe with the feature names and corresponding coefficients of those from the model\n",
        "    log_reg_coeff = pd.DataFrame({'feature_names': feature_names,\n",
        "                              'model_coefficient': log_reg_model.coef_.transpose().flatten()})\n",
        "    \n",
        "    # Sort the value in descending order\n",
        "    log_reg_coeff = log_reg_coeff.sort_values('model_coefficient', ascending=False)\n",
        "    \n",
        "    # Top 10 values are the important tokens\n",
        "    log_reg_coeff_top = log_reg_coeff.head(10)\n",
        "    \n",
        "    # Bottom 10 values are the least important tokens\n",
        "    log_reg_coeff_bottom = log_reg_coeff.tail(10)\n",
        "    \n",
        "    return log_reg_coeff_top, log_reg_coeff_bottom"
      ],
      "execution_count": 52,
      "outputs": []
    },
    {
      "cell_type": "markdown",
      "metadata": {
        "id": "ndhpxKo69ECH"
      },
      "source": [
        "<p>Let us find the important and least important words from the model.</p>"
      ]
    },
    {
      "cell_type": "code",
      "metadata": {
        "id": "O-Jv6klY9ECH"
      },
      "source": [
        "log_reg_coeff_top_sinhala, log_reg_coeff_bottom_sinhala = find_important_words(feature_names=feature_names_sinhala,\n",
        "                                                                               log_reg_model=logistic_regression_model_sinhala)"
      ],
      "execution_count": 53,
      "outputs": []
    },
    {
      "cell_type": "code",
      "metadata": {
        "id": "lWClAhmd9ECH",
        "outputId": "0ea012df-4225-4e35-dd5a-a3e910dce5ee"
      },
      "source": [
        "log_reg_coeff_top_sinhala"
      ],
      "execution_count": 54,
      "outputs": [
        {
          "output_type": "execute_result",
          "data": {
            "text/plain": [
              "     feature_names  model_coefficient\n",
              "2383           පක්           2.134568\n",
              "1072        කාලකන්           1.935109\n",
              "1685         තම්බි           1.775956\n",
              "4171           වේස           1.661376\n",
              "4800         හුත්ත           1.325732\n",
              "3289        මුස්ලි           1.290476\n",
              "3115            මර           1.274039\n",
              "2380            පක           1.227753\n",
              "4491         සුද්ද           1.146730\n",
              "3895            වල           1.118502"
            ],
            "text/html": "<div>\n<style scoped>\n    .dataframe tbody tr th:only-of-type {\n        vertical-align: middle;\n    }\n\n    .dataframe tbody tr th {\n        vertical-align: top;\n    }\n\n    .dataframe thead th {\n        text-align: right;\n    }\n</style>\n<table border=\"1\" class=\"dataframe\">\n  <thead>\n    <tr style=\"text-align: right;\">\n      <th></th>\n      <th>feature_names</th>\n      <th>model_coefficient</th>\n    </tr>\n  </thead>\n  <tbody>\n    <tr>\n      <th>2383</th>\n      <td>පක්</td>\n      <td>2.134568</td>\n    </tr>\n    <tr>\n      <th>1072</th>\n      <td>කාලකන්</td>\n      <td>1.935109</td>\n    </tr>\n    <tr>\n      <th>1685</th>\n      <td>තම්බි</td>\n      <td>1.775956</td>\n    </tr>\n    <tr>\n      <th>4171</th>\n      <td>වේස</td>\n      <td>1.661376</td>\n    </tr>\n    <tr>\n      <th>4800</th>\n      <td>හුත්ත</td>\n      <td>1.325732</td>\n    </tr>\n    <tr>\n      <th>3289</th>\n      <td>මුස්ලි</td>\n      <td>1.290476</td>\n    </tr>\n    <tr>\n      <th>3115</th>\n      <td>මර</td>\n      <td>1.274039</td>\n    </tr>\n    <tr>\n      <th>2380</th>\n      <td>පක</td>\n      <td>1.227753</td>\n    </tr>\n    <tr>\n      <th>4491</th>\n      <td>සුද්ද</td>\n      <td>1.146730</td>\n    </tr>\n    <tr>\n      <th>3895</th>\n      <td>වල</td>\n      <td>1.118502</td>\n    </tr>\n  </tbody>\n</table>\n</div>"
          },
          "metadata": {},
          "execution_count": 54
        }
      ]
    },
    {
      "cell_type": "markdown",
      "metadata": {
        "id": "gGTy49Yv9ECI"
      },
      "source": [
        "<p>As you can see above tokens have high coefficient values. Thus those are important tokens that has a high influence in hate speech.</p>"
      ]
    },
    {
      "cell_type": "code",
      "metadata": {
        "id": "EUghJNbW9ECI",
        "outputId": "1e780e03-a914-436a-ae9b-3b7be8411b75"
      },
      "source": [
        "log_reg_coeff_bottom_sinhala"
      ],
      "execution_count": 55,
      "outputs": [
        {
          "output_type": "execute_result",
          "data": {
            "text/plain": [
              "     feature_names  model_coefficient\n",
              "3835            වග          -0.756965\n",
              "411           ඇත්ත          -0.766404\n",
              "4127           වෙන          -0.786429\n",
              "308             අහ          -0.809870\n",
              "1973          දුන්          -0.919702\n",
              "2688           පුත          -0.921174\n",
              "3105        මනුස්ස          -0.928337\n",
              "2215           නිත          -0.940486\n",
              "1540             ජ          -0.989489\n",
              "2397           පට්          -1.023333"
            ],
            "text/html": "<div>\n<style scoped>\n    .dataframe tbody tr th:only-of-type {\n        vertical-align: middle;\n    }\n\n    .dataframe tbody tr th {\n        vertical-align: top;\n    }\n\n    .dataframe thead th {\n        text-align: right;\n    }\n</style>\n<table border=\"1\" class=\"dataframe\">\n  <thead>\n    <tr style=\"text-align: right;\">\n      <th></th>\n      <th>feature_names</th>\n      <th>model_coefficient</th>\n    </tr>\n  </thead>\n  <tbody>\n    <tr>\n      <th>3835</th>\n      <td>වග</td>\n      <td>-0.756965</td>\n    </tr>\n    <tr>\n      <th>411</th>\n      <td>ඇත්ත</td>\n      <td>-0.766404</td>\n    </tr>\n    <tr>\n      <th>4127</th>\n      <td>වෙන</td>\n      <td>-0.786429</td>\n    </tr>\n    <tr>\n      <th>308</th>\n      <td>අහ</td>\n      <td>-0.809870</td>\n    </tr>\n    <tr>\n      <th>1973</th>\n      <td>දුන්</td>\n      <td>-0.919702</td>\n    </tr>\n    <tr>\n      <th>2688</th>\n      <td>පුත</td>\n      <td>-0.921174</td>\n    </tr>\n    <tr>\n      <th>3105</th>\n      <td>මනුස්ස</td>\n      <td>-0.928337</td>\n    </tr>\n    <tr>\n      <th>2215</th>\n      <td>නිත</td>\n      <td>-0.940486</td>\n    </tr>\n    <tr>\n      <th>1540</th>\n      <td>ජ</td>\n      <td>-0.989489</td>\n    </tr>\n    <tr>\n      <th>2397</th>\n      <td>පට්</td>\n      <td>-1.023333</td>\n    </tr>\n  </tbody>\n</table>\n</div>"
          },
          "metadata": {},
          "execution_count": 55
        }
      ]
    },
    {
      "cell_type": "markdown",
      "metadata": {
        "id": "RFgiU7rm9ECI"
      },
      "source": [
        "<p>As you can see above tokens have low coefficient values. Thus those are least important tokens that has a low influence in hate speech.</p>"
      ]
    },
    {
      "cell_type": "markdown",
      "metadata": {
        "id": "noFcv08r9ECJ"
      },
      "source": [
        "#### c.3. Creating bag-of-words representation, Fitting Logistic Regression model and Evaluation using Performance Measures and Confusion Matrix for Singlish Dataset"
      ]
    },
    {
      "cell_type": "markdown",
      "metadata": {
        "id": "ZBrXmMuU9ECJ"
      },
      "source": [
        "<p>All the steps that have been performed in the 2nd step should be repeated for the Singlish Dataset as below.</b>"
      ]
    },
    {
      "cell_type": "markdown",
      "metadata": {
        "id": "nUFcDWCg9ECJ"
      },
      "source": [
        "##### Getting bag-of-words representation for Singlish Dataset"
      ]
    },
    {
      "cell_type": "markdown",
      "metadata": {
        "id": "qzjWhK819ECK"
      },
      "source": [
        "<p>Let us generate the <b>bag of words representation for training data in Singlish dataset</b>.</p>"
      ]
    },
    {
      "cell_type": "code",
      "metadata": {
        "id": "IIFJQy629ECK"
      },
      "source": [
        "vectorizer_singlish, feature_names_singlish, vocabulary_singlish, bow_features_singlish = get_bow_features(\n",
        "                                                                                                    data=train_X_singlish)"
      ],
      "execution_count": 56,
      "outputs": []
    },
    {
      "cell_type": "code",
      "metadata": {
        "id": "c74EVhvq9ECL",
        "outputId": "480dbe35-585e-48c2-c007-aa3cd39140d0"
      },
      "source": [
        "# vocabulary_singlish"
      ],
      "execution_count": 57,
      "outputs": []
    },
    {
      "cell_type": "markdown",
      "metadata": {
        "id": "dggWtbVl9ECM"
      },
      "source": [
        "<p>Above are the words and the number of times that they have occured in the <b>vocabulary of Singlish dataset</b>.</p>"
      ]
    },
    {
      "cell_type": "code",
      "metadata": {
        "id": "zTii7nhn9ECM",
        "outputId": "9b379b43-29e1-410d-e24a-7edebc235abc"
      },
      "source": [
        "bow_features_singlish.toarray()"
      ],
      "execution_count": 58,
      "outputs": [
        {
          "output_type": "execute_result",
          "data": {
            "text/plain": [
              "array([[0, 0, 0, ..., 0, 0, 0],\n",
              "       [0, 0, 0, ..., 0, 0, 0],\n",
              "       [0, 0, 0, ..., 0, 0, 0],\n",
              "       ...,\n",
              "       [0, 0, 0, ..., 0, 0, 0],\n",
              "       [0, 0, 0, ..., 0, 0, 0],\n",
              "       [0, 0, 0, ..., 0, 0, 0]], dtype=int64)"
            ]
          },
          "metadata": {},
          "execution_count": 58
        }
      ]
    },
    {
      "cell_type": "markdown",
      "metadata": {
        "id": "bIFGVB4M9ECM"
      },
      "source": [
        "<p>Above is the <b>term document matrix vocabulary of Singlish dataset</b> which is the bag of word features to be fed to the model in future steps.</p>"
      ]
    },
    {
      "cell_type": "markdown",
      "metadata": {
        "id": "kPolGn7g9ECN"
      },
      "source": [
        "##### Fitting logistic regression model to Singlish Dataset"
      ]
    },
    {
      "cell_type": "markdown",
      "metadata": {
        "id": "wl2LhRwa9ECN"
      },
      "source": [
        "<p>Let us apply <b>Logistic Regression to the Singlish dataset</b> as shown below by passing the bag-of-words features created previously and the train labels for Sinhala dataset.</p>"
      ]
    },
    {
      "cell_type": "code",
      "metadata": {
        "id": "WSikkguh9ECN",
        "outputId": "c4f7925f-734f-4560-a90a-48b43f9097f6"
      },
      "source": [
        "logistic_regression_model_singlish = train_logistic_regression_model(features=bow_features_singlish, labels=train_y_singlish)"
      ],
      "execution_count": 59,
      "outputs": [
        {
          "output_type": "stream",
          "name": "stdout",
          "text": [
            "Training the logistic regression model...\nFinished\n"
          ]
        }
      ]
    },
    {
      "cell_type": "markdown",
      "metadata": {
        "id": "qXs64ayx9ECN"
      },
      "source": [
        "<p>Let us get the predictions for test data as below.</p>"
      ]
    },
    {
      "cell_type": "code",
      "metadata": {
        "id": "jq19COsV9ECN",
        "outputId": "450a5d4e-d7ea-4258-f5c6-9b49fde6dc47"
      },
      "source": [
        "predicted_y_singlish = predict_logistic_regression_model(test_X=test_X_singlish, \n",
        "                                                         test_y=test_y_singlish, \n",
        "                                                         vectorizer=vectorizer_singlish, \n",
        "                                                         logistic_regression_model=logistic_regression_model_singlish)"
      ],
      "execution_count": 60,
      "outputs": [
        {
          "output_type": "stream",
          "name": "stdout",
          "text": [
            "Predictions: \n['NO' 'NO' 'NO' 'YES' 'NO' 'YES' 'YES' 'NO' 'NO' 'NO' 'NO' 'NO' 'NO' 'NO'\n 'NO' 'NO' 'NO' 'NO' 'NO' 'NO' 'YES' 'YES' 'NO' 'NO' 'NO' 'YES' 'NO' 'YES'\n 'NO' 'NO' 'NO' 'YES' 'YES' 'NO' 'NO' 'YES' 'NO' 'YES' 'NO' 'YES' 'NO'\n 'YES' 'NO' 'NO' 'NO' 'NO' 'NO' 'YES' 'NO' 'NO' 'NO' 'NO' 'NO' 'NO' 'NO'\n 'YES' 'NO' 'NO' 'NO' 'NO' 'YES' 'NO' 'NO' 'NO' 'NO' 'NO' 'NO' 'NO' 'NO'\n 'NO' 'YES' 'NO' 'NO' 'YES' 'YES' 'NO' 'NO' 'YES' 'YES' 'NO' 'NO' 'YES'\n 'NO' 'NO' 'YES' 'YES' 'NO' 'NO' 'NO' 'NO' 'YES' 'NO' 'YES' 'NO' 'NO' 'NO'\n 'NO' 'NO' 'YES' 'YES' 'NO' 'NO' 'YES' 'NO' 'NO' 'YES' 'YES' 'NO' 'YES'\n 'NO' 'NO' 'YES' 'NO' 'NO' 'NO' 'YES' 'NO' 'NO' 'YES' 'NO' 'NO' 'NO' 'NO'\n 'NO' 'NO' 'YES' 'NO' 'NO' 'NO' 'NO' 'NO' 'NO' 'NO' 'NO' 'NO' 'YES' 'YES'\n 'NO' 'NO' 'NO' 'NO' 'YES' 'NO' 'NO' 'NO' 'NO' 'NO' 'NO' 'YES' 'NO' 'NO'\n 'NO' 'NO' 'NO' 'NO' 'NO' 'NO' 'YES' 'YES' 'NO' 'NO' 'NO' 'NO' 'NO' 'NO'\n 'NO' 'NO' 'NO' 'YES' 'NO' 'NO' 'NO' 'NO' 'NO' 'NO' 'YES' 'NO' 'NO' 'NO'\n 'NO' 'YES' 'NO' 'NO' 'NO' 'NO' 'NO' 'YES' 'NO' 'NO' 'NO' 'NO' 'NO' 'NO'\n 'NO' 'NO' 'YES' 'YES' 'YES' 'NO' 'NO' 'YES' 'YES' 'NO' 'NO' 'NO' 'NO'\n 'NO' 'YES' 'NO' 'YES' 'NO' 'NO' 'YES' 'NO' 'NO' 'NO' 'NO' 'YES' 'NO' 'NO'\n 'YES' 'NO']\n\n\nAccuracy = 69%\n"
          ]
        }
      ]
    },
    {
      "cell_type": "markdown",
      "metadata": {
        "id": "BGYxiPNK9ECO"
      },
      "source": [
        "<p>The predictions array has shown above which consists whether a particular string is hate speech (YES) or not (NO) and it was returned and assigned to predicted_y_singlish variable. The accuracy of this model is 69% <b>which is less than the model that was created before which consisted only Sinhala data</b>.</p>"
      ]
    },
    {
      "cell_type": "markdown",
      "metadata": {
        "id": "NhEMvShD9ECO"
      },
      "source": [
        "##### Evaluation using Performance Measures and Confusion Matrix for Singlish Dataset"
      ]
    },
    {
      "cell_type": "markdown",
      "metadata": {
        "id": "zNQeGAhD9ECO"
      },
      "source": [
        "<p>Let us get the confusion matrix and the performance measures for Singlish dataset.</p>"
      ]
    },
    {
      "cell_type": "code",
      "metadata": {
        "id": "Xyba8PhO9ECO",
        "outputId": "2060b77b-d98c-4929-d385-c92acb4f6f9c"
      },
      "source": [
        "get_metrics(true_labels=test_y_singlish, predicted_labels=predicted_y_singlish)"
      ],
      "execution_count": 61,
      "outputs": [
        {
          "output_type": "display_data",
          "data": {
            "text/plain": "<Figure size 432x288 with 2 Axes>",
            "image/svg+xml": "<?xml version=\"1.0\" encoding=\"utf-8\" standalone=\"no\"?>\r\n<!DOCTYPE svg PUBLIC \"-//W3C//DTD SVG 1.1//EN\"\r\n  \"http://www.w3.org/Graphics/SVG/1.1/DTD/svg11.dtd\">\r\n<!-- Created with matplotlib (https://matplotlib.org/) -->\r\n<svg height=\"277.314375pt\" version=\"1.1\" viewBox=\"0 0 366.29575 277.314375\" width=\"366.29575pt\" xmlns=\"http://www.w3.org/2000/svg\" xmlns:xlink=\"http://www.w3.org/1999/xlink\">\r\n <defs>\r\n  <style type=\"text/css\">\r\n*{stroke-linecap:butt;stroke-linejoin:round;}\r\n  </style>\r\n </defs>\r\n <g id=\"figure_1\">\r\n  <g id=\"patch_1\">\r\n   <path d=\"M 0 277.314375 \r\nL 366.29575 277.314375 \r\nL 366.29575 0 \r\nL 0 0 \r\nz\r\n\" style=\"fill:none;\"/>\r\n  </g>\r\n  <g id=\"axes_1\">\r\n   <g id=\"patch_2\">\r\n    <path d=\"M 37.55625 239.758125 \r\nL 305.39625 239.758125 \r\nL 305.39625 22.318125 \r\nL 37.55625 22.318125 \r\nz\r\n\" style=\"fill:#ffffff;\"/>\r\n   </g>\r\n   <g id=\"QuadMesh_1\">\r\n    <path clip-path=\"url(#p546e2795c7)\" d=\"M 37.55625 22.318125 \r\nL 171.47625 22.318125 \r\nL 171.47625 131.038125 \r\nL 37.55625 131.038125 \r\nL 37.55625 22.318125 \r\n\" style=\"fill:#faebdd;\"/>\r\n    <path clip-path=\"url(#p546e2795c7)\" d=\"M 171.47625 22.318125 \r\nL 305.39625 22.318125 \r\nL 305.39625 131.038125 \r\nL 171.47625 131.038125 \r\nL 171.47625 22.318125 \r\n\" style=\"fill:#03051a;\"/>\r\n    <path clip-path=\"url(#p546e2795c7)\" d=\"M 37.55625 131.038125 \r\nL 171.47625 131.038125 \r\nL 171.47625 239.758125 \r\nL 37.55625 239.758125 \r\nL 37.55625 131.038125 \r\n\" style=\"fill:#7d1f5a;\"/>\r\n    <path clip-path=\"url(#p546e2795c7)\" d=\"M 171.47625 131.038125 \r\nL 305.39625 131.038125 \r\nL 305.39625 239.758125 \r\nL 171.47625 239.758125 \r\nL 171.47625 131.038125 \r\n\" style=\"fill:#461c48;\"/>\r\n   </g>\r\n   <g id=\"matplotlib.axis_1\">\r\n    <g id=\"xtick_1\">\r\n     <g id=\"line2d_1\">\r\n      <defs>\r\n       <path d=\"M 0 0 \r\nL 0 3.5 \r\n\" id=\"mefefee77f4\" style=\"stroke:#000000;stroke-width:0.8;\"/>\r\n      </defs>\r\n      <g>\r\n       <use style=\"stroke:#000000;stroke-width:0.8;\" x=\"104.51625\" xlink:href=\"#mefefee77f4\" y=\"239.758125\"/>\r\n      </g>\r\n     </g>\r\n     <g id=\"text_1\">\r\n      <!-- YES -->\r\n      <defs>\r\n       <path d=\"M -0.203125 72.90625 \r\nL 10.40625 72.90625 \r\nL 30.609375 42.921875 \r\nL 50.6875 72.90625 \r\nL 61.28125 72.90625 \r\nL 35.5 34.71875 \r\nL 35.5 0 \r\nL 25.59375 0 \r\nL 25.59375 34.71875 \r\nz\r\n\" id=\"DejaVuSans-89\"/>\r\n       <path d=\"M 9.8125 72.90625 \r\nL 55.90625 72.90625 \r\nL 55.90625 64.59375 \r\nL 19.671875 64.59375 \r\nL 19.671875 43.015625 \r\nL 54.390625 43.015625 \r\nL 54.390625 34.71875 \r\nL 19.671875 34.71875 \r\nL 19.671875 8.296875 \r\nL 56.78125 8.296875 \r\nL 56.78125 0 \r\nL 9.8125 0 \r\nz\r\n\" id=\"DejaVuSans-69\"/>\r\n       <path d=\"M 53.515625 70.515625 \r\nL 53.515625 60.890625 \r\nQ 47.90625 63.578125 42.921875 64.890625 \r\nQ 37.9375 66.21875 33.296875 66.21875 \r\nQ 25.25 66.21875 20.875 63.09375 \r\nQ 16.5 59.96875 16.5 54.203125 \r\nQ 16.5 49.359375 19.40625 46.890625 \r\nQ 22.3125 44.4375 30.421875 42.921875 \r\nL 36.375 41.703125 \r\nQ 47.40625 39.59375 52.65625 34.296875 \r\nQ 57.90625 29 57.90625 20.125 \r\nQ 57.90625 9.515625 50.796875 4.046875 \r\nQ 43.703125 -1.421875 29.984375 -1.421875 \r\nQ 24.8125 -1.421875 18.96875 -0.25 \r\nQ 13.140625 0.921875 6.890625 3.21875 \r\nL 6.890625 13.375 \r\nQ 12.890625 10.015625 18.65625 8.296875 \r\nQ 24.421875 6.59375 29.984375 6.59375 \r\nQ 38.421875 6.59375 43.015625 9.90625 \r\nQ 47.609375 13.234375 47.609375 19.390625 \r\nQ 47.609375 24.75 44.3125 27.78125 \r\nQ 41.015625 30.8125 33.5 32.328125 \r\nL 27.484375 33.5 \r\nQ 16.453125 35.6875 11.515625 40.375 \r\nQ 6.59375 45.0625 6.59375 53.421875 \r\nQ 6.59375 63.09375 13.40625 68.65625 \r\nQ 20.21875 74.21875 32.171875 74.21875 \r\nQ 37.3125 74.21875 42.625 73.28125 \r\nQ 47.953125 72.359375 53.515625 70.515625 \r\nz\r\n\" id=\"DejaVuSans-83\"/>\r\n      </defs>\r\n      <g transform=\"translate(95.12875 254.356562)scale(0.1 -0.1)\">\r\n       <use xlink:href=\"#DejaVuSans-89\"/>\r\n       <use x=\"61.083984\" xlink:href=\"#DejaVuSans-69\"/>\r\n       <use x=\"124.267578\" xlink:href=\"#DejaVuSans-83\"/>\r\n      </g>\r\n     </g>\r\n    </g>\r\n    <g id=\"xtick_2\">\r\n     <g id=\"line2d_2\">\r\n      <g>\r\n       <use style=\"stroke:#000000;stroke-width:0.8;\" x=\"238.43625\" xlink:href=\"#mefefee77f4\" y=\"239.758125\"/>\r\n      </g>\r\n     </g>\r\n     <g id=\"text_2\">\r\n      <!-- NO -->\r\n      <defs>\r\n       <path d=\"M 9.8125 72.90625 \r\nL 23.09375 72.90625 \r\nL 55.421875 11.921875 \r\nL 55.421875 72.90625 \r\nL 64.984375 72.90625 \r\nL 64.984375 0 \r\nL 51.703125 0 \r\nL 19.390625 60.984375 \r\nL 19.390625 0 \r\nL 9.8125 0 \r\nz\r\n\" id=\"DejaVuSans-78\"/>\r\n       <path d=\"M 39.40625 66.21875 \r\nQ 28.65625 66.21875 22.328125 58.203125 \r\nQ 16.015625 50.203125 16.015625 36.375 \r\nQ 16.015625 22.609375 22.328125 14.59375 \r\nQ 28.65625 6.59375 39.40625 6.59375 \r\nQ 50.140625 6.59375 56.421875 14.59375 \r\nQ 62.703125 22.609375 62.703125 36.375 \r\nQ 62.703125 50.203125 56.421875 58.203125 \r\nQ 50.140625 66.21875 39.40625 66.21875 \r\nz\r\nM 39.40625 74.21875 \r\nQ 54.734375 74.21875 63.90625 63.9375 \r\nQ 73.09375 53.65625 73.09375 36.375 \r\nQ 73.09375 19.140625 63.90625 8.859375 \r\nQ 54.734375 -1.421875 39.40625 -1.421875 \r\nQ 24.03125 -1.421875 14.8125 8.828125 \r\nQ 5.609375 19.09375 5.609375 36.375 \r\nQ 5.609375 53.65625 14.8125 63.9375 \r\nQ 24.03125 74.21875 39.40625 74.21875 \r\nz\r\n\" id=\"DejaVuSans-79\"/>\r\n      </defs>\r\n      <g transform=\"translate(230.759688 254.356562)scale(0.1 -0.1)\">\r\n       <use xlink:href=\"#DejaVuSans-78\"/>\r\n       <use x=\"74.804688\" xlink:href=\"#DejaVuSans-79\"/>\r\n      </g>\r\n     </g>\r\n    </g>\r\n    <g id=\"text_3\">\r\n     <!-- Predicted class -->\r\n     <defs>\r\n      <path d=\"M 19.671875 64.796875 \r\nL 19.671875 37.40625 \r\nL 32.078125 37.40625 \r\nQ 38.96875 37.40625 42.71875 40.96875 \r\nQ 46.484375 44.53125 46.484375 51.125 \r\nQ 46.484375 57.671875 42.71875 61.234375 \r\nQ 38.96875 64.796875 32.078125 64.796875 \r\nz\r\nM 9.8125 72.90625 \r\nL 32.078125 72.90625 \r\nQ 44.34375 72.90625 50.609375 67.359375 \r\nQ 56.890625 61.8125 56.890625 51.125 \r\nQ 56.890625 40.328125 50.609375 34.8125 \r\nQ 44.34375 29.296875 32.078125 29.296875 \r\nL 19.671875 29.296875 \r\nL 19.671875 0 \r\nL 9.8125 0 \r\nz\r\n\" id=\"DejaVuSans-80\"/>\r\n      <path d=\"M 41.109375 46.296875 \r\nQ 39.59375 47.171875 37.8125 47.578125 \r\nQ 36.03125 48 33.890625 48 \r\nQ 26.265625 48 22.1875 43.046875 \r\nQ 18.109375 38.09375 18.109375 28.8125 \r\nL 18.109375 0 \r\nL 9.078125 0 \r\nL 9.078125 54.6875 \r\nL 18.109375 54.6875 \r\nL 18.109375 46.1875 \r\nQ 20.953125 51.171875 25.484375 53.578125 \r\nQ 30.03125 56 36.53125 56 \r\nQ 37.453125 56 38.578125 55.875 \r\nQ 39.703125 55.765625 41.0625 55.515625 \r\nz\r\n\" id=\"DejaVuSans-114\"/>\r\n      <path d=\"M 56.203125 29.59375 \r\nL 56.203125 25.203125 \r\nL 14.890625 25.203125 \r\nQ 15.484375 15.921875 20.484375 11.0625 \r\nQ 25.484375 6.203125 34.421875 6.203125 \r\nQ 39.59375 6.203125 44.453125 7.46875 \r\nQ 49.3125 8.734375 54.109375 11.28125 \r\nL 54.109375 2.78125 \r\nQ 49.265625 0.734375 44.1875 -0.34375 \r\nQ 39.109375 -1.421875 33.890625 -1.421875 \r\nQ 20.796875 -1.421875 13.15625 6.1875 \r\nQ 5.515625 13.8125 5.515625 26.8125 \r\nQ 5.515625 40.234375 12.765625 48.109375 \r\nQ 20.015625 56 32.328125 56 \r\nQ 43.359375 56 49.78125 48.890625 \r\nQ 56.203125 41.796875 56.203125 29.59375 \r\nz\r\nM 47.21875 32.234375 \r\nQ 47.125 39.59375 43.09375 43.984375 \r\nQ 39.0625 48.390625 32.421875 48.390625 \r\nQ 24.90625 48.390625 20.390625 44.140625 \r\nQ 15.875 39.890625 15.1875 32.171875 \r\nz\r\n\" id=\"DejaVuSans-101\"/>\r\n      <path d=\"M 45.40625 46.390625 \r\nL 45.40625 75.984375 \r\nL 54.390625 75.984375 \r\nL 54.390625 0 \r\nL 45.40625 0 \r\nL 45.40625 8.203125 \r\nQ 42.578125 3.328125 38.25 0.953125 \r\nQ 33.9375 -1.421875 27.875 -1.421875 \r\nQ 17.96875 -1.421875 11.734375 6.484375 \r\nQ 5.515625 14.40625 5.515625 27.296875 \r\nQ 5.515625 40.1875 11.734375 48.09375 \r\nQ 17.96875 56 27.875 56 \r\nQ 33.9375 56 38.25 53.625 \r\nQ 42.578125 51.265625 45.40625 46.390625 \r\nz\r\nM 14.796875 27.296875 \r\nQ 14.796875 17.390625 18.875 11.75 \r\nQ 22.953125 6.109375 30.078125 6.109375 \r\nQ 37.203125 6.109375 41.296875 11.75 \r\nQ 45.40625 17.390625 45.40625 27.296875 \r\nQ 45.40625 37.203125 41.296875 42.84375 \r\nQ 37.203125 48.484375 30.078125 48.484375 \r\nQ 22.953125 48.484375 18.875 42.84375 \r\nQ 14.796875 37.203125 14.796875 27.296875 \r\nz\r\n\" id=\"DejaVuSans-100\"/>\r\n      <path d=\"M 9.421875 54.6875 \r\nL 18.40625 54.6875 \r\nL 18.40625 0 \r\nL 9.421875 0 \r\nz\r\nM 9.421875 75.984375 \r\nL 18.40625 75.984375 \r\nL 18.40625 64.59375 \r\nL 9.421875 64.59375 \r\nz\r\n\" id=\"DejaVuSans-105\"/>\r\n      <path d=\"M 48.78125 52.59375 \r\nL 48.78125 44.1875 \r\nQ 44.96875 46.296875 41.140625 47.34375 \r\nQ 37.3125 48.390625 33.40625 48.390625 \r\nQ 24.65625 48.390625 19.8125 42.84375 \r\nQ 14.984375 37.3125 14.984375 27.296875 \r\nQ 14.984375 17.28125 19.8125 11.734375 \r\nQ 24.65625 6.203125 33.40625 6.203125 \r\nQ 37.3125 6.203125 41.140625 7.25 \r\nQ 44.96875 8.296875 48.78125 10.40625 \r\nL 48.78125 2.09375 \r\nQ 45.015625 0.34375 40.984375 -0.53125 \r\nQ 36.96875 -1.421875 32.421875 -1.421875 \r\nQ 20.0625 -1.421875 12.78125 6.34375 \r\nQ 5.515625 14.109375 5.515625 27.296875 \r\nQ 5.515625 40.671875 12.859375 48.328125 \r\nQ 20.21875 56 33.015625 56 \r\nQ 37.15625 56 41.109375 55.140625 \r\nQ 45.0625 54.296875 48.78125 52.59375 \r\nz\r\n\" id=\"DejaVuSans-99\"/>\r\n      <path d=\"M 18.3125 70.21875 \r\nL 18.3125 54.6875 \r\nL 36.8125 54.6875 \r\nL 36.8125 47.703125 \r\nL 18.3125 47.703125 \r\nL 18.3125 18.015625 \r\nQ 18.3125 11.328125 20.140625 9.421875 \r\nQ 21.96875 7.515625 27.59375 7.515625 \r\nL 36.8125 7.515625 \r\nL 36.8125 0 \r\nL 27.59375 0 \r\nQ 17.1875 0 13.234375 3.875 \r\nQ 9.28125 7.765625 9.28125 18.015625 \r\nL 9.28125 47.703125 \r\nL 2.6875 47.703125 \r\nL 2.6875 54.6875 \r\nL 9.28125 54.6875 \r\nL 9.28125 70.21875 \r\nz\r\n\" id=\"DejaVuSans-116\"/>\r\n      <path id=\"DejaVuSans-32\"/>\r\n      <path d=\"M 9.421875 75.984375 \r\nL 18.40625 75.984375 \r\nL 18.40625 0 \r\nL 9.421875 0 \r\nz\r\n\" id=\"DejaVuSans-108\"/>\r\n      <path d=\"M 34.28125 27.484375 \r\nQ 23.390625 27.484375 19.1875 25 \r\nQ 14.984375 22.515625 14.984375 16.5 \r\nQ 14.984375 11.71875 18.140625 8.90625 \r\nQ 21.296875 6.109375 26.703125 6.109375 \r\nQ 34.1875 6.109375 38.703125 11.40625 \r\nQ 43.21875 16.703125 43.21875 25.484375 \r\nL 43.21875 27.484375 \r\nz\r\nM 52.203125 31.203125 \r\nL 52.203125 0 \r\nL 43.21875 0 \r\nL 43.21875 8.296875 \r\nQ 40.140625 3.328125 35.546875 0.953125 \r\nQ 30.953125 -1.421875 24.3125 -1.421875 \r\nQ 15.921875 -1.421875 10.953125 3.296875 \r\nQ 6 8.015625 6 15.921875 \r\nQ 6 25.140625 12.171875 29.828125 \r\nQ 18.359375 34.515625 30.609375 34.515625 \r\nL 43.21875 34.515625 \r\nL 43.21875 35.40625 \r\nQ 43.21875 41.609375 39.140625 45 \r\nQ 35.0625 48.390625 27.6875 48.390625 \r\nQ 23 48.390625 18.546875 47.265625 \r\nQ 14.109375 46.140625 10.015625 43.890625 \r\nL 10.015625 52.203125 \r\nQ 14.9375 54.109375 19.578125 55.046875 \r\nQ 24.21875 56 28.609375 56 \r\nQ 40.484375 56 46.34375 49.84375 \r\nQ 52.203125 43.703125 52.203125 31.203125 \r\nz\r\n\" id=\"DejaVuSans-97\"/>\r\n      <path d=\"M 44.28125 53.078125 \r\nL 44.28125 44.578125 \r\nQ 40.484375 46.53125 36.375 47.5 \r\nQ 32.28125 48.484375 27.875 48.484375 \r\nQ 21.1875 48.484375 17.84375 46.4375 \r\nQ 14.5 44.390625 14.5 40.28125 \r\nQ 14.5 37.15625 16.890625 35.375 \r\nQ 19.28125 33.59375 26.515625 31.984375 \r\nL 29.59375 31.296875 \r\nQ 39.15625 29.25 43.1875 25.515625 \r\nQ 47.21875 21.78125 47.21875 15.09375 \r\nQ 47.21875 7.46875 41.1875 3.015625 \r\nQ 35.15625 -1.421875 24.609375 -1.421875 \r\nQ 20.21875 -1.421875 15.453125 -0.5625 \r\nQ 10.6875 0.296875 5.421875 2 \r\nL 5.421875 11.28125 \r\nQ 10.40625 8.6875 15.234375 7.390625 \r\nQ 20.0625 6.109375 24.8125 6.109375 \r\nQ 31.15625 6.109375 34.5625 8.28125 \r\nQ 37.984375 10.453125 37.984375 14.40625 \r\nQ 37.984375 18.0625 35.515625 20.015625 \r\nQ 33.0625 21.96875 24.703125 23.78125 \r\nL 21.578125 24.515625 \r\nQ 13.234375 26.265625 9.515625 29.90625 \r\nQ 5.8125 33.546875 5.8125 39.890625 \r\nQ 5.8125 47.609375 11.28125 51.796875 \r\nQ 16.75 56 26.8125 56 \r\nQ 31.78125 56 36.171875 55.265625 \r\nQ 40.578125 54.546875 44.28125 53.078125 \r\nz\r\n\" id=\"DejaVuSans-115\"/>\r\n     </defs>\r\n     <g transform=\"translate(133.8075 268.034687)scale(0.1 -0.1)\">\r\n      <use xlink:href=\"#DejaVuSans-80\"/>\r\n      <use x=\"60.287109\" xlink:href=\"#DejaVuSans-114\"/>\r\n      <use x=\"101.369141\" xlink:href=\"#DejaVuSans-101\"/>\r\n      <use x=\"162.892578\" xlink:href=\"#DejaVuSans-100\"/>\r\n      <use x=\"226.369141\" xlink:href=\"#DejaVuSans-105\"/>\r\n      <use x=\"254.152344\" xlink:href=\"#DejaVuSans-99\"/>\r\n      <use x=\"309.132812\" xlink:href=\"#DejaVuSans-116\"/>\r\n      <use x=\"348.341797\" xlink:href=\"#DejaVuSans-101\"/>\r\n      <use x=\"409.865234\" xlink:href=\"#DejaVuSans-100\"/>\r\n      <use x=\"473.341797\" xlink:href=\"#DejaVuSans-32\"/>\r\n      <use x=\"505.128906\" xlink:href=\"#DejaVuSans-99\"/>\r\n      <use x=\"560.109375\" xlink:href=\"#DejaVuSans-108\"/>\r\n      <use x=\"587.892578\" xlink:href=\"#DejaVuSans-97\"/>\r\n      <use x=\"649.171875\" xlink:href=\"#DejaVuSans-115\"/>\r\n      <use x=\"701.271484\" xlink:href=\"#DejaVuSans-115\"/>\r\n     </g>\r\n    </g>\r\n   </g>\r\n   <g id=\"matplotlib.axis_2\">\r\n    <g id=\"ytick_1\">\r\n     <g id=\"line2d_3\">\r\n      <defs>\r\n       <path d=\"M 0 0 \r\nL -3.5 0 \r\n\" id=\"m0dc7d69143\" style=\"stroke:#000000;stroke-width:0.8;\"/>\r\n      </defs>\r\n      <g>\r\n       <use style=\"stroke:#000000;stroke-width:0.8;\" x=\"37.55625\" xlink:href=\"#m0dc7d69143\" y=\"76.678125\"/>\r\n      </g>\r\n     </g>\r\n     <g id=\"text_4\">\r\n      <!-- YES -->\r\n      <g transform=\"translate(28.476563 91.653906)rotate(-90)scale(0.1 -0.1)\">\r\n       <use xlink:href=\"#DejaVuSans-89\"/>\r\n       <use x=\"61.083984\" xlink:href=\"#DejaVuSans-69\"/>\r\n       <use x=\"124.267578\" xlink:href=\"#DejaVuSans-83\"/>\r\n      </g>\r\n     </g>\r\n    </g>\r\n    <g id=\"ytick_2\">\r\n     <g id=\"line2d_4\">\r\n      <g>\r\n       <use style=\"stroke:#000000;stroke-width:0.8;\" x=\"37.55625\" xlink:href=\"#m0dc7d69143\" y=\"185.398125\"/>\r\n      </g>\r\n     </g>\r\n     <g id=\"text_5\">\r\n      <!-- NO -->\r\n      <g transform=\"translate(28.476563 196.952031)rotate(-90)scale(0.1 -0.1)\">\r\n       <use xlink:href=\"#DejaVuSans-78\"/>\r\n       <use x=\"74.804688\" xlink:href=\"#DejaVuSans-79\"/>\r\n      </g>\r\n     </g>\r\n    </g>\r\n    <g id=\"text_6\">\r\n     <!-- Actual Class -->\r\n     <defs>\r\n      <path d=\"M 34.1875 63.1875 \r\nL 20.796875 26.90625 \r\nL 47.609375 26.90625 \r\nz\r\nM 28.609375 72.90625 \r\nL 39.796875 72.90625 \r\nL 67.578125 0 \r\nL 57.328125 0 \r\nL 50.6875 18.703125 \r\nL 17.828125 18.703125 \r\nL 11.1875 0 \r\nL 0.78125 0 \r\nz\r\n\" id=\"DejaVuSans-65\"/>\r\n      <path d=\"M 8.5 21.578125 \r\nL 8.5 54.6875 \r\nL 17.484375 54.6875 \r\nL 17.484375 21.921875 \r\nQ 17.484375 14.15625 20.5 10.265625 \r\nQ 23.53125 6.390625 29.59375 6.390625 \r\nQ 36.859375 6.390625 41.078125 11.03125 \r\nQ 45.3125 15.671875 45.3125 23.6875 \r\nL 45.3125 54.6875 \r\nL 54.296875 54.6875 \r\nL 54.296875 0 \r\nL 45.3125 0 \r\nL 45.3125 8.40625 \r\nQ 42.046875 3.421875 37.71875 1 \r\nQ 33.40625 -1.421875 27.6875 -1.421875 \r\nQ 18.265625 -1.421875 13.375 4.4375 \r\nQ 8.5 10.296875 8.5 21.578125 \r\nz\r\nM 31.109375 56 \r\nz\r\n\" id=\"DejaVuSans-117\"/>\r\n      <path d=\"M 64.40625 67.28125 \r\nL 64.40625 56.890625 \r\nQ 59.421875 61.53125 53.78125 63.8125 \r\nQ 48.140625 66.109375 41.796875 66.109375 \r\nQ 29.296875 66.109375 22.65625 58.46875 \r\nQ 16.015625 50.828125 16.015625 36.375 \r\nQ 16.015625 21.96875 22.65625 14.328125 \r\nQ 29.296875 6.6875 41.796875 6.6875 \r\nQ 48.140625 6.6875 53.78125 8.984375 \r\nQ 59.421875 11.28125 64.40625 15.921875 \r\nL 64.40625 5.609375 \r\nQ 59.234375 2.09375 53.4375 0.328125 \r\nQ 47.65625 -1.421875 41.21875 -1.421875 \r\nQ 24.65625 -1.421875 15.125 8.703125 \r\nQ 5.609375 18.84375 5.609375 36.375 \r\nQ 5.609375 53.953125 15.125 64.078125 \r\nQ 24.65625 74.21875 41.21875 74.21875 \r\nQ 47.75 74.21875 53.53125 72.484375 \r\nQ 59.328125 70.75 64.40625 67.28125 \r\nz\r\n\" id=\"DejaVuSans-67\"/>\r\n     </defs>\r\n     <g transform=\"translate(14.798438 161.531875)rotate(-90)scale(0.1 -0.1)\">\r\n      <use xlink:href=\"#DejaVuSans-65\"/>\r\n      <use x=\"68.392578\" xlink:href=\"#DejaVuSans-99\"/>\r\n      <use x=\"123.373047\" xlink:href=\"#DejaVuSans-116\"/>\r\n      <use x=\"162.582031\" xlink:href=\"#DejaVuSans-117\"/>\r\n      <use x=\"225.960938\" xlink:href=\"#DejaVuSans-97\"/>\r\n      <use x=\"287.240234\" xlink:href=\"#DejaVuSans-108\"/>\r\n      <use x=\"315.023438\" xlink:href=\"#DejaVuSans-32\"/>\r\n      <use x=\"346.810547\" xlink:href=\"#DejaVuSans-67\"/>\r\n      <use x=\"416.634766\" xlink:href=\"#DejaVuSans-108\"/>\r\n      <use x=\"444.417969\" xlink:href=\"#DejaVuSans-97\"/>\r\n      <use x=\"505.697266\" xlink:href=\"#DejaVuSans-115\"/>\r\n      <use x=\"557.796875\" xlink:href=\"#DejaVuSans-115\"/>\r\n     </g>\r\n    </g>\r\n   </g>\r\n   <g id=\"text_7\">\r\n    <!-- 116 -->\r\n    <defs>\r\n     <path d=\"M 12.40625 8.296875 \r\nL 28.515625 8.296875 \r\nL 28.515625 63.921875 \r\nL 10.984375 60.40625 \r\nL 10.984375 69.390625 \r\nL 28.421875 72.90625 \r\nL 38.28125 72.90625 \r\nL 38.28125 8.296875 \r\nL 54.390625 8.296875 \r\nL 54.390625 0 \r\nL 12.40625 0 \r\nz\r\n\" id=\"DejaVuSans-49\"/>\r\n     <path d=\"M 33.015625 40.375 \r\nQ 26.375 40.375 22.484375 35.828125 \r\nQ 18.609375 31.296875 18.609375 23.390625 \r\nQ 18.609375 15.53125 22.484375 10.953125 \r\nQ 26.375 6.390625 33.015625 6.390625 \r\nQ 39.65625 6.390625 43.53125 10.953125 \r\nQ 47.40625 15.53125 47.40625 23.390625 \r\nQ 47.40625 31.296875 43.53125 35.828125 \r\nQ 39.65625 40.375 33.015625 40.375 \r\nz\r\nM 52.59375 71.296875 \r\nL 52.59375 62.3125 \r\nQ 48.875 64.0625 45.09375 64.984375 \r\nQ 41.3125 65.921875 37.59375 65.921875 \r\nQ 27.828125 65.921875 22.671875 59.328125 \r\nQ 17.53125 52.734375 16.796875 39.40625 \r\nQ 19.671875 43.65625 24.015625 45.921875 \r\nQ 28.375 48.1875 33.59375 48.1875 \r\nQ 44.578125 48.1875 50.953125 41.515625 \r\nQ 57.328125 34.859375 57.328125 23.390625 \r\nQ 57.328125 12.15625 50.6875 5.359375 \r\nQ 44.046875 -1.421875 33.015625 -1.421875 \r\nQ 20.359375 -1.421875 13.671875 8.265625 \r\nQ 6.984375 17.96875 6.984375 36.375 \r\nQ 6.984375 53.65625 15.1875 63.9375 \r\nQ 23.390625 74.21875 37.203125 74.21875 \r\nQ 40.921875 74.21875 44.703125 73.484375 \r\nQ 48.484375 72.75 52.59375 71.296875 \r\nz\r\n\" id=\"DejaVuSans-54\"/>\r\n    </defs>\r\n    <g style=\"fill:#262626;\" transform=\"translate(94.9725 79.4375)scale(0.1 -0.1)\">\r\n     <use xlink:href=\"#DejaVuSans-49\"/>\r\n     <use x=\"63.623047\" xlink:href=\"#DejaVuSans-49\"/>\r\n     <use x=\"127.246094\" xlink:href=\"#DejaVuSans-54\"/>\r\n    </g>\r\n   </g>\r\n   <g id=\"text_8\">\r\n    <!-- 19 -->\r\n    <defs>\r\n     <path d=\"M 10.984375 1.515625 \r\nL 10.984375 10.5 \r\nQ 14.703125 8.734375 18.5 7.8125 \r\nQ 22.3125 6.890625 25.984375 6.890625 \r\nQ 35.75 6.890625 40.890625 13.453125 \r\nQ 46.046875 20.015625 46.78125 33.40625 \r\nQ 43.953125 29.203125 39.59375 26.953125 \r\nQ 35.25 24.703125 29.984375 24.703125 \r\nQ 19.046875 24.703125 12.671875 31.3125 \r\nQ 6.296875 37.9375 6.296875 49.421875 \r\nQ 6.296875 60.640625 12.9375 67.421875 \r\nQ 19.578125 74.21875 30.609375 74.21875 \r\nQ 43.265625 74.21875 49.921875 64.515625 \r\nQ 56.59375 54.828125 56.59375 36.375 \r\nQ 56.59375 19.140625 48.40625 8.859375 \r\nQ 40.234375 -1.421875 26.421875 -1.421875 \r\nQ 22.703125 -1.421875 18.890625 -0.6875 \r\nQ 15.09375 0.046875 10.984375 1.515625 \r\nz\r\nM 30.609375 32.421875 \r\nQ 37.25 32.421875 41.125 36.953125 \r\nQ 45.015625 41.5 45.015625 49.421875 \r\nQ 45.015625 57.28125 41.125 61.84375 \r\nQ 37.25 66.40625 30.609375 66.40625 \r\nQ 23.96875 66.40625 20.09375 61.84375 \r\nQ 16.21875 57.28125 16.21875 49.421875 \r\nQ 16.21875 41.5 20.09375 36.953125 \r\nQ 23.96875 32.421875 30.609375 32.421875 \r\nz\r\n\" id=\"DejaVuSans-57\"/>\r\n    </defs>\r\n    <g style=\"fill:#ffffff;\" transform=\"translate(232.07375 79.4375)scale(0.1 -0.1)\">\r\n     <use xlink:href=\"#DejaVuSans-49\"/>\r\n     <use x=\"63.623047\" xlink:href=\"#DejaVuSans-57\"/>\r\n    </g>\r\n   </g>\r\n   <g id=\"text_9\">\r\n    <!-- 50 -->\r\n    <defs>\r\n     <path d=\"M 10.796875 72.90625 \r\nL 49.515625 72.90625 \r\nL 49.515625 64.59375 \r\nL 19.828125 64.59375 \r\nL 19.828125 46.734375 \r\nQ 21.96875 47.46875 24.109375 47.828125 \r\nQ 26.265625 48.1875 28.421875 48.1875 \r\nQ 40.625 48.1875 47.75 41.5 \r\nQ 54.890625 34.8125 54.890625 23.390625 \r\nQ 54.890625 11.625 47.5625 5.09375 \r\nQ 40.234375 -1.421875 26.90625 -1.421875 \r\nQ 22.3125 -1.421875 17.546875 -0.640625 \r\nQ 12.796875 0.140625 7.71875 1.703125 \r\nL 7.71875 11.625 \r\nQ 12.109375 9.234375 16.796875 8.0625 \r\nQ 21.484375 6.890625 26.703125 6.890625 \r\nQ 35.15625 6.890625 40.078125 11.328125 \r\nQ 45.015625 15.765625 45.015625 23.390625 \r\nQ 45.015625 31 40.078125 35.4375 \r\nQ 35.15625 39.890625 26.703125 39.890625 \r\nQ 22.75 39.890625 18.8125 39.015625 \r\nQ 14.890625 38.140625 10.796875 36.28125 \r\nz\r\n\" id=\"DejaVuSans-53\"/>\r\n     <path d=\"M 31.78125 66.40625 \r\nQ 24.171875 66.40625 20.328125 58.90625 \r\nQ 16.5 51.421875 16.5 36.375 \r\nQ 16.5 21.390625 20.328125 13.890625 \r\nQ 24.171875 6.390625 31.78125 6.390625 \r\nQ 39.453125 6.390625 43.28125 13.890625 \r\nQ 47.125 21.390625 47.125 36.375 \r\nQ 47.125 51.421875 43.28125 58.90625 \r\nQ 39.453125 66.40625 31.78125 66.40625 \r\nz\r\nM 31.78125 74.21875 \r\nQ 44.046875 74.21875 50.515625 64.515625 \r\nQ 56.984375 54.828125 56.984375 36.375 \r\nQ 56.984375 17.96875 50.515625 8.265625 \r\nQ 44.046875 -1.421875 31.78125 -1.421875 \r\nQ 19.53125 -1.421875 13.0625 8.265625 \r\nQ 6.59375 17.96875 6.59375 36.375 \r\nQ 6.59375 54.828125 13.0625 64.515625 \r\nQ 19.53125 74.21875 31.78125 74.21875 \r\nz\r\n\" id=\"DejaVuSans-48\"/>\r\n    </defs>\r\n    <g style=\"fill:#ffffff;\" transform=\"translate(98.15375 188.1575)scale(0.1 -0.1)\">\r\n     <use xlink:href=\"#DejaVuSans-53\"/>\r\n     <use x=\"63.623047\" xlink:href=\"#DejaVuSans-48\"/>\r\n    </g>\r\n   </g>\r\n   <g id=\"text_10\">\r\n    <!-- 37 -->\r\n    <defs>\r\n     <path d=\"M 40.578125 39.3125 \r\nQ 47.65625 37.796875 51.625 33 \r\nQ 55.609375 28.21875 55.609375 21.1875 \r\nQ 55.609375 10.40625 48.1875 4.484375 \r\nQ 40.765625 -1.421875 27.09375 -1.421875 \r\nQ 22.515625 -1.421875 17.65625 -0.515625 \r\nQ 12.796875 0.390625 7.625 2.203125 \r\nL 7.625 11.71875 \r\nQ 11.71875 9.328125 16.59375 8.109375 \r\nQ 21.484375 6.890625 26.8125 6.890625 \r\nQ 36.078125 6.890625 40.9375 10.546875 \r\nQ 45.796875 14.203125 45.796875 21.1875 \r\nQ 45.796875 27.640625 41.28125 31.265625 \r\nQ 36.765625 34.90625 28.71875 34.90625 \r\nL 20.21875 34.90625 \r\nL 20.21875 43.015625 \r\nL 29.109375 43.015625 \r\nQ 36.375 43.015625 40.234375 45.921875 \r\nQ 44.09375 48.828125 44.09375 54.296875 \r\nQ 44.09375 59.90625 40.109375 62.90625 \r\nQ 36.140625 65.921875 28.71875 65.921875 \r\nQ 24.65625 65.921875 20.015625 65.03125 \r\nQ 15.375 64.15625 9.8125 62.3125 \r\nL 9.8125 71.09375 \r\nQ 15.4375 72.65625 20.34375 73.4375 \r\nQ 25.25 74.21875 29.59375 74.21875 \r\nQ 40.828125 74.21875 47.359375 69.109375 \r\nQ 53.90625 64.015625 53.90625 55.328125 \r\nQ 53.90625 49.265625 50.4375 45.09375 \r\nQ 46.96875 40.921875 40.578125 39.3125 \r\nz\r\n\" id=\"DejaVuSans-51\"/>\r\n     <path d=\"M 8.203125 72.90625 \r\nL 55.078125 72.90625 \r\nL 55.078125 68.703125 \r\nL 28.609375 0 \r\nL 18.3125 0 \r\nL 43.21875 64.59375 \r\nL 8.203125 64.59375 \r\nz\r\n\" id=\"DejaVuSans-55\"/>\r\n    </defs>\r\n    <g style=\"fill:#ffffff;\" transform=\"translate(232.07375 188.1575)scale(0.1 -0.1)\">\r\n     <use xlink:href=\"#DejaVuSans-51\"/>\r\n     <use x=\"63.623047\" xlink:href=\"#DejaVuSans-55\"/>\r\n    </g>\r\n   </g>\r\n   <g id=\"text_11\">\r\n    <!-- Confusion Matrix -->\r\n    <defs>\r\n     <path d=\"M 30.609375 48.390625 \r\nQ 23.390625 48.390625 19.1875 42.75 \r\nQ 14.984375 37.109375 14.984375 27.296875 \r\nQ 14.984375 17.484375 19.15625 11.84375 \r\nQ 23.34375 6.203125 30.609375 6.203125 \r\nQ 37.796875 6.203125 41.984375 11.859375 \r\nQ 46.1875 17.53125 46.1875 27.296875 \r\nQ 46.1875 37.015625 41.984375 42.703125 \r\nQ 37.796875 48.390625 30.609375 48.390625 \r\nz\r\nM 30.609375 56 \r\nQ 42.328125 56 49.015625 48.375 \r\nQ 55.71875 40.765625 55.71875 27.296875 \r\nQ 55.71875 13.875 49.015625 6.21875 \r\nQ 42.328125 -1.421875 30.609375 -1.421875 \r\nQ 18.84375 -1.421875 12.171875 6.21875 \r\nQ 5.515625 13.875 5.515625 27.296875 \r\nQ 5.515625 40.765625 12.171875 48.375 \r\nQ 18.84375 56 30.609375 56 \r\nz\r\n\" id=\"DejaVuSans-111\"/>\r\n     <path d=\"M 54.890625 33.015625 \r\nL 54.890625 0 \r\nL 45.90625 0 \r\nL 45.90625 32.71875 \r\nQ 45.90625 40.484375 42.875 44.328125 \r\nQ 39.84375 48.1875 33.796875 48.1875 \r\nQ 26.515625 48.1875 22.3125 43.546875 \r\nQ 18.109375 38.921875 18.109375 30.90625 \r\nL 18.109375 0 \r\nL 9.078125 0 \r\nL 9.078125 54.6875 \r\nL 18.109375 54.6875 \r\nL 18.109375 46.1875 \r\nQ 21.34375 51.125 25.703125 53.5625 \r\nQ 30.078125 56 35.796875 56 \r\nQ 45.21875 56 50.046875 50.171875 \r\nQ 54.890625 44.34375 54.890625 33.015625 \r\nz\r\n\" id=\"DejaVuSans-110\"/>\r\n     <path d=\"M 37.109375 75.984375 \r\nL 37.109375 68.5 \r\nL 28.515625 68.5 \r\nQ 23.6875 68.5 21.796875 66.546875 \r\nQ 19.921875 64.59375 19.921875 59.515625 \r\nL 19.921875 54.6875 \r\nL 34.71875 54.6875 \r\nL 34.71875 47.703125 \r\nL 19.921875 47.703125 \r\nL 19.921875 0 \r\nL 10.890625 0 \r\nL 10.890625 47.703125 \r\nL 2.296875 47.703125 \r\nL 2.296875 54.6875 \r\nL 10.890625 54.6875 \r\nL 10.890625 58.5 \r\nQ 10.890625 67.625 15.140625 71.796875 \r\nQ 19.390625 75.984375 28.609375 75.984375 \r\nz\r\n\" id=\"DejaVuSans-102\"/>\r\n     <path d=\"M 9.8125 72.90625 \r\nL 24.515625 72.90625 \r\nL 43.109375 23.296875 \r\nL 61.8125 72.90625 \r\nL 76.515625 72.90625 \r\nL 76.515625 0 \r\nL 66.890625 0 \r\nL 66.890625 64.015625 \r\nL 48.09375 14.015625 \r\nL 38.1875 14.015625 \r\nL 19.390625 64.015625 \r\nL 19.390625 0 \r\nL 9.8125 0 \r\nz\r\n\" id=\"DejaVuSans-77\"/>\r\n     <path d=\"M 54.890625 54.6875 \r\nL 35.109375 28.078125 \r\nL 55.90625 0 \r\nL 45.3125 0 \r\nL 29.390625 21.484375 \r\nL 13.484375 0 \r\nL 2.875 0 \r\nL 24.125 28.609375 \r\nL 4.6875 54.6875 \r\nL 15.28125 54.6875 \r\nL 29.78125 35.203125 \r\nL 44.28125 54.6875 \r\nz\r\n\" id=\"DejaVuSans-120\"/>\r\n    </defs>\r\n    <g transform=\"translate(120.834375 16.318125)scale(0.12 -0.12)\">\r\n     <use xlink:href=\"#DejaVuSans-67\"/>\r\n     <use x=\"69.824219\" xlink:href=\"#DejaVuSans-111\"/>\r\n     <use x=\"131.005859\" xlink:href=\"#DejaVuSans-110\"/>\r\n     <use x=\"194.384766\" xlink:href=\"#DejaVuSans-102\"/>\r\n     <use x=\"229.589844\" xlink:href=\"#DejaVuSans-117\"/>\r\n     <use x=\"292.96875\" xlink:href=\"#DejaVuSans-115\"/>\r\n     <use x=\"345.068359\" xlink:href=\"#DejaVuSans-105\"/>\r\n     <use x=\"372.851562\" xlink:href=\"#DejaVuSans-111\"/>\r\n     <use x=\"434.033203\" xlink:href=\"#DejaVuSans-110\"/>\r\n     <use x=\"497.412109\" xlink:href=\"#DejaVuSans-32\"/>\r\n     <use x=\"529.199219\" xlink:href=\"#DejaVuSans-77\"/>\r\n     <use x=\"615.478516\" xlink:href=\"#DejaVuSans-97\"/>\r\n     <use x=\"676.757812\" xlink:href=\"#DejaVuSans-116\"/>\r\n     <use x=\"715.966797\" xlink:href=\"#DejaVuSans-114\"/>\r\n     <use x=\"757.080078\" xlink:href=\"#DejaVuSans-105\"/>\r\n     <use x=\"784.863281\" xlink:href=\"#DejaVuSans-120\"/>\r\n    </g>\r\n   </g>\r\n  </g>\r\n  <g id=\"axes_2\">\r\n   <g id=\"patch_3\">\r\n    <path clip-path=\"url(#pc331906e16)\" d=\"M 322.13625 239.758125 \r\nL 322.13625 238.90875 \r\nL 322.13625 23.1675 \r\nL 322.13625 22.318125 \r\nL 333.00825 22.318125 \r\nL 333.00825 23.1675 \r\nL 333.00825 238.90875 \r\nL 333.00825 239.758125 \r\nz\r\n\" style=\"fill:#ffffff;stroke:#ffffff;stroke-linejoin:miter;stroke-width:0.01;\"/>\r\n   </g>\r\n   <image height=\"217\" id=\"imagea9dfcfe27c\" transform=\"scale(1 -1)translate(0 -217)\" width=\"11\" x=\"322\" xlink:href=\"data:image/png;base64,\r\niVBORw0KGgoAAAANSUhEUgAAAAsAAADZCAYAAAD2WsoCAAAABHNCSVQICAgIfAhkiAAAAVJJREFUaIHV2kEOAjEMQ9GmDZfg/veEK/QtLKWsLcv5dToMovrz/a3LT1fVrXb1rn0vRmcQ14o5i/gIjVyMLTRyAw7JjM4woNHIVXSGs5V/ynHLgGtE+W3Aa6l2YwgNK/+1NNoNipHcFIiRGxBPcEj5Y62LOefQ9ZCFFTHRODHnIQPu69cDp0Hi2HaTeAgNiZGjcSQGHreIn6Rxr7YBc/dG/yAzck7RKHK+N159Ys6YWcRwKhbjFMWIFYmcRXygduaMma+1yRgbLruuIehgCTFGjoahu9aiMw6YikHOK9aN3RLDaDzoDDd0FzyBLMYSZ4sRHDAlpl97LAa81iQPhcTy+7N8Weva4pzLbOjE+eSO+0F0RoNijKBRtN3GOSa2u47Kf/+kH5PZYgyhMaNINGAuc8y5Sra7X6QRu76kG8Z5RjfW+UyIQf+ySN51QuPFAWFT/gJ8LSOCIrIBAAAAAElFTkSuQmCC\" y=\"-22\"/>\r\n   <g id=\"matplotlib.axis_3\"/>\r\n   <g id=\"matplotlib.axis_4\">\r\n    <g id=\"ytick_3\">\r\n     <g id=\"line2d_5\">\r\n      <defs>\r\n       <path d=\"M 0 0 \r\nL 3.5 0 \r\n\" id=\"m9a017b7c0b\" style=\"stroke:#000000;stroke-width:0.8;\"/>\r\n      </defs>\r\n      <g>\r\n       <use style=\"stroke:#000000;stroke-width:0.8;\" x=\"333.00825\" xlink:href=\"#m9a017b7c0b\" y=\"237.516476\"/>\r\n      </g>\r\n     </g>\r\n     <g id=\"text_12\">\r\n      <!-- 20 -->\r\n      <defs>\r\n       <path d=\"M 19.1875 8.296875 \r\nL 53.609375 8.296875 \r\nL 53.609375 0 \r\nL 7.328125 0 \r\nL 7.328125 8.296875 \r\nQ 12.9375 14.109375 22.625 23.890625 \r\nQ 32.328125 33.6875 34.8125 36.53125 \r\nQ 39.546875 41.84375 41.421875 45.53125 \r\nQ 43.3125 49.21875 43.3125 52.78125 \r\nQ 43.3125 58.59375 39.234375 62.25 \r\nQ 35.15625 65.921875 28.609375 65.921875 \r\nQ 23.96875 65.921875 18.8125 64.3125 \r\nQ 13.671875 62.703125 7.8125 59.421875 \r\nL 7.8125 69.390625 \r\nQ 13.765625 71.78125 18.9375 73 \r\nQ 24.125 74.21875 28.421875 74.21875 \r\nQ 39.75 74.21875 46.484375 68.546875 \r\nQ 53.21875 62.890625 53.21875 53.421875 \r\nQ 53.21875 48.921875 51.53125 44.890625 \r\nQ 49.859375 40.875 45.40625 35.40625 \r\nQ 44.1875 33.984375 37.640625 27.21875 \r\nQ 31.109375 20.453125 19.1875 8.296875 \r\nz\r\n\" id=\"DejaVuSans-50\"/>\r\n      </defs>\r\n      <g transform=\"translate(340.00825 241.315694)scale(0.1 -0.1)\">\r\n       <use xlink:href=\"#DejaVuSans-50\"/>\r\n       <use x=\"63.623047\" xlink:href=\"#DejaVuSans-48\"/>\r\n      </g>\r\n     </g>\r\n    </g>\r\n    <g id=\"ytick_4\">\r\n     <g id=\"line2d_6\">\r\n      <g>\r\n       <use style=\"stroke:#000000;stroke-width:0.8;\" x=\"333.00825\" xlink:href=\"#m9a017b7c0b\" y=\"192.683486\"/>\r\n      </g>\r\n     </g>\r\n     <g id=\"text_13\">\r\n      <!-- 40 -->\r\n      <defs>\r\n       <path d=\"M 37.796875 64.3125 \r\nL 12.890625 25.390625 \r\nL 37.796875 25.390625 \r\nz\r\nM 35.203125 72.90625 \r\nL 47.609375 72.90625 \r\nL 47.609375 25.390625 \r\nL 58.015625 25.390625 \r\nL 58.015625 17.1875 \r\nL 47.609375 17.1875 \r\nL 47.609375 0 \r\nL 37.796875 0 \r\nL 37.796875 17.1875 \r\nL 4.890625 17.1875 \r\nL 4.890625 26.703125 \r\nz\r\n\" id=\"DejaVuSans-52\"/>\r\n      </defs>\r\n      <g transform=\"translate(340.00825 196.482705)scale(0.1 -0.1)\">\r\n       <use xlink:href=\"#DejaVuSans-52\"/>\r\n       <use x=\"63.623047\" xlink:href=\"#DejaVuSans-48\"/>\r\n      </g>\r\n     </g>\r\n    </g>\r\n    <g id=\"ytick_5\">\r\n     <g id=\"line2d_7\">\r\n      <g>\r\n       <use style=\"stroke:#000000;stroke-width:0.8;\" x=\"333.00825\" xlink:href=\"#m9a017b7c0b\" y=\"147.850496\"/>\r\n      </g>\r\n     </g>\r\n     <g id=\"text_14\">\r\n      <!-- 60 -->\r\n      <g transform=\"translate(340.00825 151.649715)scale(0.1 -0.1)\">\r\n       <use xlink:href=\"#DejaVuSans-54\"/>\r\n       <use x=\"63.623047\" xlink:href=\"#DejaVuSans-48\"/>\r\n      </g>\r\n     </g>\r\n    </g>\r\n    <g id=\"ytick_6\">\r\n     <g id=\"line2d_8\">\r\n      <g>\r\n       <use style=\"stroke:#000000;stroke-width:0.8;\" x=\"333.00825\" xlink:href=\"#m9a017b7c0b\" y=\"103.017506\"/>\r\n      </g>\r\n     </g>\r\n     <g id=\"text_15\">\r\n      <!-- 80 -->\r\n      <defs>\r\n       <path d=\"M 31.78125 34.625 \r\nQ 24.75 34.625 20.71875 30.859375 \r\nQ 16.703125 27.09375 16.703125 20.515625 \r\nQ 16.703125 13.921875 20.71875 10.15625 \r\nQ 24.75 6.390625 31.78125 6.390625 \r\nQ 38.8125 6.390625 42.859375 10.171875 \r\nQ 46.921875 13.96875 46.921875 20.515625 \r\nQ 46.921875 27.09375 42.890625 30.859375 \r\nQ 38.875 34.625 31.78125 34.625 \r\nz\r\nM 21.921875 38.8125 \r\nQ 15.578125 40.375 12.03125 44.71875 \r\nQ 8.5 49.078125 8.5 55.328125 \r\nQ 8.5 64.0625 14.71875 69.140625 \r\nQ 20.953125 74.21875 31.78125 74.21875 \r\nQ 42.671875 74.21875 48.875 69.140625 \r\nQ 55.078125 64.0625 55.078125 55.328125 \r\nQ 55.078125 49.078125 51.53125 44.71875 \r\nQ 48 40.375 41.703125 38.8125 \r\nQ 48.828125 37.15625 52.796875 32.3125 \r\nQ 56.78125 27.484375 56.78125 20.515625 \r\nQ 56.78125 9.90625 50.3125 4.234375 \r\nQ 43.84375 -1.421875 31.78125 -1.421875 \r\nQ 19.734375 -1.421875 13.25 4.234375 \r\nQ 6.78125 9.90625 6.78125 20.515625 \r\nQ 6.78125 27.484375 10.78125 32.3125 \r\nQ 14.796875 37.15625 21.921875 38.8125 \r\nz\r\nM 18.3125 54.390625 \r\nQ 18.3125 48.734375 21.84375 45.5625 \r\nQ 25.390625 42.390625 31.78125 42.390625 \r\nQ 38.140625 42.390625 41.71875 45.5625 \r\nQ 45.3125 48.734375 45.3125 54.390625 \r\nQ 45.3125 60.0625 41.71875 63.234375 \r\nQ 38.140625 66.40625 31.78125 66.40625 \r\nQ 25.390625 66.40625 21.84375 63.234375 \r\nQ 18.3125 60.0625 18.3125 54.390625 \r\nz\r\n\" id=\"DejaVuSans-56\"/>\r\n      </defs>\r\n      <g transform=\"translate(340.00825 106.816725)scale(0.1 -0.1)\">\r\n       <use xlink:href=\"#DejaVuSans-56\"/>\r\n       <use x=\"63.623047\" xlink:href=\"#DejaVuSans-48\"/>\r\n      </g>\r\n     </g>\r\n    </g>\r\n    <g id=\"ytick_7\">\r\n     <g id=\"line2d_9\">\r\n      <g>\r\n       <use style=\"stroke:#000000;stroke-width:0.8;\" x=\"333.00825\" xlink:href=\"#m9a017b7c0b\" y=\"58.184517\"/>\r\n      </g>\r\n     </g>\r\n     <g id=\"text_16\">\r\n      <!-- 100 -->\r\n      <g transform=\"translate(340.00825 61.983736)scale(0.1 -0.1)\">\r\n       <use xlink:href=\"#DejaVuSans-49\"/>\r\n       <use x=\"63.623047\" xlink:href=\"#DejaVuSans-48\"/>\r\n       <use x=\"127.246094\" xlink:href=\"#DejaVuSans-48\"/>\r\n      </g>\r\n     </g>\r\n    </g>\r\n   </g>\r\n   <g id=\"patch_4\">\r\n    <path d=\"M 322.13625 239.758125 \r\nL 322.13625 238.90875 \r\nL 322.13625 23.1675 \r\nL 322.13625 22.318125 \r\nL 333.00825 22.318125 \r\nL 333.00825 23.1675 \r\nL 333.00825 238.90875 \r\nL 333.00825 239.758125 \r\nz\r\n\" style=\"fill:none;\"/>\r\n   </g>\r\n  </g>\r\n </g>\r\n <defs>\r\n  <clipPath id=\"p546e2795c7\">\r\n   <rect height=\"217.44\" width=\"267.84\" x=\"37.55625\" y=\"22.318125\"/>\r\n  </clipPath>\r\n  <clipPath id=\"pc331906e16\">\r\n   <rect height=\"217.44\" width=\"10.872\" x=\"322.13625\" y=\"22.318125\"/>\r\n  </clipPath>\r\n </defs>\r\n</svg>\r\n",
            "image/png": "[encoded data removed]"
          },
          "metadata": {
            "needs_background": "light"
          }
        },
        {
          "output_type": "stream",
          "name": "stdout",
          "text": [
            "Number of True Positives (TP):  116\nNumber of True Negatives (TN):  37\nNumber of False Positives (FP):  50\nNumber of False Negatives (FN):  19\n\nAccuracy: 68.89999999999999 %\nPrecision: 68.4 %\nRecall: 68.89999999999999 %\nF1 Score: 67.2 %\n"
          ]
        }
      ]
    },
    {
      "cell_type": "markdown",
      "metadata": {
        "id": "_xYKEBO49ECP"
      },
      "source": [
        "<p> Let us interpret the above results obtained.\n",
        "<ul>\n",
        "    <li><b>Accuracy</b> is the fraction of predictions that our model got right. It is 68.89% here. </li>\n",
        "    <li><b>Precision</b> indicates the proportion of the instances that the model says was relevant, actually were relevant. It is 68.4% here. It says that 68.4% which were predicted as hate speech is actually hate speech.</li>  \n",
        "   <li><b>Recall</b> indicates the proportion of actually positive instances that are correctly predicted. It is 68.89% here. It says that of all the observations which truly consist of hate speech, we have correctly predicted 68.89% out of it.</li> \n",
        "    <li><b>F1 Score</b> considers both precision and recall. It is the harmonic mean (average) of the Precision and Recall. F1 Score is best if there is some sort of balance between Precision  and Recall in the system as above. The F1 Score for this model is 67.2% which is a reasonable value.</li>\n",
        "</ul>\n",
        "\n",
        "<br>The reason to the increment of FPs over FNs is that this data set consists of more number of \"YES\" labeled data than \"NO\" labeled data. According to the confusion matrix there are 69 errors (FP+FN). Those errors can be retrieved using the below function named <b>get_errors(test_X, test_y, predicted_y)</b>. </p>"
      ]
    },
    {
      "cell_type": "code",
      "metadata": {
        "scrolled": true,
        "id": "je6NvsU_9ECP",
        "outputId": "9e1f38df-0a45-4732-af04-4ddadfd86a22"
      },
      "source": [
        "get_errors(test_X=test_X_singlish, test_y=test_y_singlish, predicted_y=predicted_y_singlish)"
      ],
      "execution_count": 62,
      "outputs": [
        {
          "output_type": "stream",
          "name": "stdout",
          "text": [
            "1\nSentence: auda eka hadapu mi haraka hinawela badath rideawa\nActual Label: YES\nPredicted Label: NO\n\n\n2\nSentence: Oyage thawakalika sathuta uparima winda ganna okata windawanna weddi daraganna bari wei\nActual Label: YES\nPredicted Label: NO\n\n\n3\nSentence: Fatta sinduwe theruma nm kiyala wadak na me wage kathawak dala sinduwa haduwat godak thx meka nm matama gahala wage\nActual Label: NO\nPredicted Label: YES\n\n\n4\nSentence: Nadukarayage mulu engema gedidapn okage paaulama hedigeviyan\nActual Label: YES\nPredicted Label: NO\n\n\n5\nSentence: එහෙමද ආස කැරී wecii\nActual Label: YES\nPredicted Label: NO\n\n\n6\nSentence: Deshapalanaya wenai sabawaka kuhaka kam kirieema anumatha karanna ba kalawa kiyanne sundarathwaya misak kuhaka kama neme\nActual Label: YES\nPredicted Label: NO\n\n\n7\nSentence: මොකද ඉතින් ඒවට විතරයි මෙයාගෙන් Video Clip එළියට එන්නෙ පන්සල් බුදු පිළිම තම්බියො කඩන්නෙ නැහැලු\nActual Label: YES\nPredicted Label: NO\n\n\n8\nSentence: Buki karayonta owa dunnma u ekath wikunagena kanawa mokada munta ona kohomahari salli\nActual Label: NO\nPredicted Label: YES\n\n\n9\nSentence: Buki karayanta cricket daila lankwe thibba ekama kridawatath hikuwa Mun wage un hadapu unta gaham ona\nActual Label: NO\nPredicted Label: YES\n\n\n10\nSentence: Sira kathawa ban eka nam\nActual Label: YES\nPredicted Label: NO\n\n\n11\nSentence: NGO වලින්ද එතකොට ලංකාවෙ නිතිය ක්රියාත්මක කරන්නෙ නොදකිං කලකිරෙනවා මෙවා දැක්කම මොනද මෙ අපෙ රටට වෙන්නෙ\nActual Label: YES\nPredicted Label: NO\n\n\n12\nSentence: Ai ban me wage asarana minissungen pali ganne ban hamdema hadagen aliyata awilla hodin iddi me wage sakkili wada karanne\nActual Label: NO\nPredicted Label: YES\n\n\n13\nSentence: තෝපිලගේ ඇට ටික වික්කත් හරි මිලියන 20 ගන්න බෑ පාර්ලිමේන්තුවේ දවස වියදමට\nActual Label: YES\nPredicted Label: NO\n\n\n14\nSentence: Paw bam me ka kello lan wenna nehalu akalu me helmat aka haduwe oluwe issori hadanawalu kello selfi gahanna enna nahalu paw oi mu\nActual Label: YES\nPredicted Label: NO\n\n\n15\nSentence: Pau kara kalakannima hetikaraya pallma pall hora awastawadi musalayo\nActual Label: YES\nPredicted Label: NO\n\n\n16\nSentence: Katugasthota lain eke dakka bn iyee oka\nActual Label: NO\nPredicted Label: YES\n\n\n17\nSentence: Kohamada huttho meka pare dagena yanne\nActual Label: YES\nPredicted Label: NO\n\n\n18\nSentence: Ani pai kateyata denna Ko love msg leyanna hodama set teka Toilet eka pura bulath kala kela\nActual Label: YES\nPredicted Label: NO\n\n\n19\nSentence: Vedio ekak karanna epa meka me widihata lassanai mn hoya hoya htye meka vedio ekak karala sinduwa knna epa plzzz\nActual Label: NO\nPredicted Label: YES\n\n\n20\nSentence: Fill T ගේ විඩියෝ එක පේමස් කරන්න කරන කුමන්ත් රනයක් බන් ඕක\nActual Label: YES\nPredicted Label: NO\n\n\n21\nSentence: Ithin hodaine karapu de kage unath prathipaththi weradinam me tika thama wenna one\nActual Label: YES\nPredicted Label: NO\n\n\n22\nSentence: munva melokayata jataka karpu demaupiyange veradda putha\nActual Label: YES\nPredicted Label: NO\n\n\n23\nSentence: මල ලතෝනි අහල අහල හෙම්බත් වෙලා හිටපු කලෙක මේ වගේ සුප්පා songs කරනවට ගොඩක් තැන්ක්ස් බ් රෝ සුබ පතනවා මම මේක සිය වතාවක් විතර අහන්න ඇති සින්දුවක් කියන්නේ මොකක්ද කියල කිවොත් අනිත් නිරුවත මාකට් කරන උන්ටයි මල ගෙදරක වගේ ලතෝනි තියන උන්ටයි කනට දෙකක් ගහල සනුකව පෙන්නන අපිට පුළුවන් උබ අලුත් යුගයක අලුත් පරම්පරාවක ආරම්බය බන් සතුටුයි\nActual Label: YES\nPredicted Label: NO\n\n\n24\nSentence: Galu policeyama awwilla yako\nActual Label: YES\nPredicted Label: NO\n\n\n25\nSentence: Pala pala muhudu higanna ubala kade yanne ratakata hodak wena dekata neme ubala salli maththema merena huththige puthalaa\nActual Label: YES\nPredicted Label: NO\n\n\n26\nSentence: Ashi Hashi ඔවාට දකුණේ එකෙක් ඒක කෙලින් කියන්න වෙන වෙන සීන් ගැන කියල මඩ ගහන්නෙ නැතුව\nActual Label: YES\nPredicted Label: NO\n\n\n27\nSentence: Kiyanna kanagaatui ape lankawe mewage unanam mokakin mokak weida danne ne aa tharamatama gunayahapath kam adui\nActual Label: NO\nPredicted Label: YES\n\n\n28\nSentence: පලයං ගොන් ඇඩ්මින් යන්න uba cricket danna ekek neme bola kalisama adaganada post eka damme\nActual Label: YES\nPredicted Label: NO\n\n\n29\nSentence: Me 225 dena api venuven karana kapaveema dakkama harima duka hithenava pau thamun ganavath nositha gutikagena dagalanne api venuven vadakarannane\nActual Label: NO\nPredicted Label: YES\n\n\n30\nSentence: Kauru mona widiyata dakkath meka ahagena innakota me palida sinhalada kiyala hithen na hithata pudumakara sahalluwak danenawa aththatama\nActual Label: NO\nPredicted Label: YES\n\n\n31\nSentence: බොම්බයක් ගසා මේ 225 මරා දමන්න ඉදිපත් වෙන කෙනා ලංකාවේ ජාතික වීරයන්ගේ නම් ලැයිස්තුවේ උඩින්ම ඉන්න ඔනී\nActual Label: YES\nPredicted Label: NO\n\n\n32\nSentence: Gothrikayonta therenne na wahal manasikathwayen midenna amarui Midunu daata ape rata diyunuy Aakalpa walin Jaya wewa\nActual Label: YES\nPredicted Label: NO\n\n\n33\nSentence: ඔය කාරනය හරියට විග් රහ කරන්න ඩුප්ලිකේට් මහමෙව්නාවේ ඩුප්ලිකේට් කල් යාණ මිතුරන්ට පුලුවන් නම් දිව් ය ලෝක promote කරයි ද\nActual Label: YES\nPredicted Label: NO\n\n\n34\nSentence: winayak athuwa wahana elawana magra neethi pilipadina riyaduran pirisak bihikireemay yugaye awashyathawaya nathuwa murandu awadanam nosalakilimath kalakanni kiyanna wachana nahe happala atha paya kkadala jeewitha paligaththama ane apoy kiyala duk wela wadak nahe\nActual Label: NO\nPredicted Label: YES\n\n\n35\nSentence: Me හිටපු aya ලිංගික මානසික ආතතියෙන් පෙළෙන ආය කියලා හිතන්නේ mama විතරද\nActual Label: YES\nPredicted Label: NO\n\n\n36\nSentence: amuth manussakama ada koheda anunge deyak araksha karanna gihin wedi waduna oyata udawwata awe dennai jiwithayaka watinakamak nadda ada wate ki denek karakki karakul hitiyada vahanaye dora arala denna ekek na mun minissuda\nActual Label: NO\nPredicted Label: YES\n\n\n37\nSentence: Patta dukai mewa දකිද්දී\nActual Label: NO\nPredicted Label: YES\n\n\n38\nSentence: thopila hedigewila yanna one kalakanni hamba heththa\nActual Label: YES\nPredicted Label: NO\n\n\n39\nSentence: Meki lankawe janadi pathinitakda budu dahama winasa karana hethiriyak ne\nActual Label: YES\nPredicted Label: NO\n\n\n40\nSentence: mn kiyanne weda warjanaya krana onema kshethrayakata ehema kroth eyala ain karala aluth ayawa ganna one ona tharam kattiya innawa weda karanna me minissu sadarana ne doctor lath ehemai\nActual Label: NO\nPredicted Label: YES\n\n\n41\nSentence: Aknali goda maruna aka gana api sathutu wenawa\nActual Label: YES\nPredicted Label: NO\n\n\n42\nSentence: මුන් modelingනුත් කනවා music industry එකත් කනවා අපි data කපාගෙන මේවා බලනවා\nActual Label: YES\nPredicted Label: NO\n\n\n43\nSentence: Karumeta gahala akalata haduna wesiyo\nActual Label: YES\nPredicted Label: NO\n\n\n44\nSentence: Yakooo me apee un niyamai aiyee malliye karapu wade supiri kariyanta ridennama deela thiyenawa\nActual Label: YES\nPredicted Label: NO\n\n\n45\nSentence: Lankawe dan badui horui minimaruwoi mankolla karayoi tamai inne dan\nActual Label: YES\nPredicted Label: NO\n\n\n46\nSentence: Api punnci rate kare ganikaveyo kollani prewesam weyaw tana dekapennala lannwenna yanne hukaala aennwayau kare gahaganne apa\nActual Label: YES\nPredicted Label: NO\n\n\n47\nSentence: මේක fill T ගේ අලුත් විඩියෝ එකේ සීන් එක නිකන් ඉරාජ් ගේ මනමාලි විඩියෝ එක එන්න කලීන් දාපූ සීන් එක වගේ මොනවා උනත් සූපා Good luck iraj and fill T\nActual Label: YES\nPredicted Label: NO\n\n\n48\nSentence: Nodakin lankawe inna hodama wesiyo taka\nActual Label: YES\nPredicted Label: NO\n\n\n49\nSentence: ape avajaathaka ballo passa loketama passa penvanakota vena ratavala ayata danena ape deval vala vatinakama\nActual Label: YES\nPredicted Label: NO\n\n\n50\nSentence: Hospital inna ewun tikath wada deela maranda thiyenne\nActual Label: YES\nPredicted Label: NO\n\n\n51\nSentence: Pathali para haththa akekwath ethuru karanna epa okunge daruwanta edala hena gahanawa para ballo\nActual Label: YES\nPredicted Label: NO\n\n\n52\nSentence: අනුන්ගේ කුනු vikunala salli hoynna epa bm eki ka ekka nidagttat apita mokada\nActual Label: YES\nPredicted Label: NO\n\n\n53\nSentence: Boru nowei pako kopamana daksha unath u amma thaththata watakolu patholawage salakanne Rajgama gedarata gihin balaapiya\nActual Label: YES\nPredicted Label: NO\n\n\n54\nSentence: Monoda bn me inglish ane huke\nActual Label: YES\nPredicted Label: NO\n\n\n55\nSentence: Tho ganu jatiyatama nindawak lake wadi dawasak Yamaha thota sapa wenawamai\nActual Label: YES\nPredicted Label: NO\n\n\n56\nSentence: සුරාගෙ වචන ටික වැදුනු උන්ට ගොඩක් රිදිල පෝස්ට් දානව දැක්ක අවුලක් නෑ වැදුනු උන්ට රිදුනනම් අතගාගනිල්ල අදාල නෑ කැරිය කියපු නිසා ටීම් එකේ විනය හදන්න කතා කරනව සමහර ඔස්තාර්ල ග් රවුන්ඩ් එක මැද්දෙ සුද්දො fuck off කියද්දි ඔය විනය ගැන ඔබතුමන්ලට දැනුනෙ නැද්ද ඇයි english වලින් කියද්දි පොශ් නිසා අවුලක් නැද්ද මහත්වරුනි උඹටල උගේ එක වචනෙට ඔච්චර රිදුනනම් උඹල ඔක්කොම එකතු වෙලා ලොන්තය පොන්නය කියල දාන පෝස්ට් දැක්කම කොච්චර රිදෙන්න ඔනෙද උන්ට ගොං ගැත්ත තොපි\nActual Label: YES\nPredicted Label: NO\n\n\n57\nSentence: Ape harak samjeta eka honda adrshyak\nActual Label: YES\nPredicted Label: NO\n\n\n58\nSentence: Mahinda carpet daddi ape unta onawune chandrikage kale wage walawal walata gal purawana wenasa\nActual Label: NO\nPredicted Label: YES\n\n\n59\nSentence: Me manssayek karapu wade nisa ara lamai මැරෙන්නට tibba ratak lowak duk una oya wage dura dakin nathi modayo ekka තමන්ගෙ pana wage lamai yawan epa දෙමව්පියන් ta hoda පාඩමක් මේකෙන් ගත්තම ඉවරයි\nActual Label: NO\nPredicted Label: YES\n\n\n60\nSentence: Oya hiru kiyana ponna chenal eka thama mukuth danne nethuwa ohe harak wage kiyaeanne\nActual Label: NO\nPredicted Label: YES\n\n\n61\nSentence: මිට කලින් දැකලා නෑ තමයි මේ වගේ සමනල Admin කෙනෙක්\nActual Label: YES\nPredicted Label: NO\n\n\n62\nSentence: Thambiyelta kiyala hukaganna kiyahan keri wesita\nActual Label: YES\nPredicted Label: NO\n\n\n63\nSentence: Okege sathuta As panapitama padesan denna one\nActual Label: YES\nPredicted Label: NO\n\n\n64\nSentence: Ara miniha oxygen nethuwa merenne\nActual Label: YES\nPredicted Label: NO\n\n\n65\nSentence: Kohomath kattitama ona une oyawa sathutui karanna misak rata jathiya rakagana novena bawa api dannawa\nActual Label: NO\nPredicted Label: YES\n\n\n66\nSentence: Matath me wedin ekata awanm baduwak gahanda thibani\nActual Label: YES\nPredicted Label: NO\n\n\n67\nSentence: MAHINDATA GIYASERETH KELAWUNE MAHINDAGE GOLAYO NISAA THAMAYY\nActual Label: YES\nPredicted Label: NO\n\n\n68\nSentence: සූර සරදියෙල් කරපු වැඩ එක්ක හැදුනු ප් රතිරූපයක් තියෙනවා අර්තර් වී දියෙස් ගේ ප් රතිරුපේ හැදුනේ කොස් ගහ අපේ වලට හුඟක් කිට්ටු නිසා මද්දුම බණ්ඩාර ගැන කිරිබොන පොඩි උන් හිටන් දන්නවා NM පෙරේරා DB ජයතිලක කියන නම් වලට හැම හදකම ඉඩක් තියෙනවා මහාචාර්ය සරච්චන්ද් ර හා තුනේ පන්තියටවිතරක් ගිය මාර්ටින් වික් රමසිංහ නම් ඇහුනත් මිනිස්සු ටිකකට නැවතිලා බලනවා Prof JB Carlo Fonseka Nalin de silva කිව්වම ලංකාවේ මහා පවුර්ශ ඇයි මේ පොල්කොළ ඉටිකොළ සිමෙන්ති අනාගෙන තමාගේම පිළිම තමන්ම අඹන්නේ අර සමනත් ර භද් ර පිස්සු උන්නාන්සේ වගේ අර හැම පෝයටම අධෝ වාහිනියට ITN වාචාල ගොන් මඬලාවට එන අත්තනායක ආචාරියා වගේ සුචරිත කම දෙකොනෙන් බේරෙනවා\nActual Label: NO\nPredicted Label: YES\n\n\n69\nSentence: ballallu lawa kos ata bawanawa keyanne mekata mun krikat gana dana gaththata deshapalane karanne khomada aka sarayak ponseka mewa moda weda thawa serisena anunge karapetin yanawa un hora kanawa\nActual Label: NO\nPredicted Label: YES\n\n\n"
          ]
        }
      ]
    },
    {
      "cell_type": "markdown",
      "metadata": {
        "id": "joNMMxsH9ECP"
      },
      "source": [
        "<p>Let us find the important and least important words from the model.</p>"
      ]
    },
    {
      "cell_type": "code",
      "metadata": {
        "id": "-1BNP8qt9ECQ"
      },
      "source": [
        "log_reg_coeff_top_singlish, log_reg_coeff_bottom_singlish = find_important_words(\n",
        "                                                                feature_names=feature_names_singlish,\n",
        "                                                                log_reg_model=logistic_regression_model_singlish)"
      ],
      "execution_count": 63,
      "outputs": []
    },
    {
      "cell_type": "code",
      "metadata": {
        "id": "gq-pDOjo9ECQ",
        "outputId": "d07a4784-d0f0-4230-ab74-964db9d7e1ba"
      },
      "source": [
        "log_reg_coeff_top_singlish"
      ],
      "execution_count": 64,
      "outputs": [
        {
          "output_type": "execute_result",
          "data": {
            "text/plain": [
              "     feature_names  model_coefficient\n",
              "6180         පක්කු           1.638356\n",
              "2785         munta           1.461008\n",
              "2778           mun           1.174627\n",
              "3355         ponna           1.055726\n",
              "1521           gon           0.983434\n",
              "603           balu           0.974114\n",
              "543           badu           0.918473\n",
              "2056       karanna           0.875578\n",
              "4389          wesa           0.842725\n",
              "4129           unp           0.779373"
            ],
            "text/html": "<div>\n<style scoped>\n    .dataframe tbody tr th:only-of-type {\n        vertical-align: middle;\n    }\n\n    .dataframe tbody tr th {\n        vertical-align: top;\n    }\n\n    .dataframe thead th {\n        text-align: right;\n    }\n</style>\n<table border=\"1\" class=\"dataframe\">\n  <thead>\n    <tr style=\"text-align: right;\">\n      <th></th>\n      <th>feature_names</th>\n      <th>model_coefficient</th>\n    </tr>\n  </thead>\n  <tbody>\n    <tr>\n      <th>6180</th>\n      <td>පක්කු</td>\n      <td>1.638356</td>\n    </tr>\n    <tr>\n      <th>2785</th>\n      <td>munta</td>\n      <td>1.461008</td>\n    </tr>\n    <tr>\n      <th>2778</th>\n      <td>mun</td>\n      <td>1.174627</td>\n    </tr>\n    <tr>\n      <th>3355</th>\n      <td>ponna</td>\n      <td>1.055726</td>\n    </tr>\n    <tr>\n      <th>1521</th>\n      <td>gon</td>\n      <td>0.983434</td>\n    </tr>\n    <tr>\n      <th>603</th>\n      <td>balu</td>\n      <td>0.974114</td>\n    </tr>\n    <tr>\n      <th>543</th>\n      <td>badu</td>\n      <td>0.918473</td>\n    </tr>\n    <tr>\n      <th>2056</th>\n      <td>karanna</td>\n      <td>0.875578</td>\n    </tr>\n    <tr>\n      <th>4389</th>\n      <td>wesa</td>\n      <td>0.842725</td>\n    </tr>\n    <tr>\n      <th>4129</th>\n      <td>unp</td>\n      <td>0.779373</td>\n    </tr>\n  </tbody>\n</table>\n</div>"
          },
          "metadata": {},
          "execution_count": 64
        }
      ]
    },
    {
      "cell_type": "markdown",
      "metadata": {
        "id": "8hG1ZFii9ECQ"
      },
      "source": [
        "<p>As you can see above tokens have high coefficient values. Thus those are important tokens that has a high influence in hate speech.</p>"
      ]
    },
    {
      "cell_type": "code",
      "metadata": {
        "id": "8YA9O1s79ECR",
        "outputId": "7a16ce02-4bde-4de7-8c37-d1bf1607896a"
      },
      "source": [
        "log_reg_coeff_bottom_singlish"
      ],
      "execution_count": 65,
      "outputs": [
        {
          "output_type": "execute_result",
          "data": {
            "text/plain": [
              "     feature_names  model_coefficient\n",
              "3525       respect          -0.613554\n",
              "3875        thamai          -0.616190\n",
              "4189         video          -0.650641\n",
              "3019         obata          -0.717812\n",
              "3634       saranai          -0.732874\n",
              "4122         unath          -0.790494\n",
              "2799         nadda          -0.801510\n",
              "209           aiya          -0.829827\n",
              "1513         godak          -0.832701\n",
              "1741          hoda          -0.912628"
            ],
            "text/html": "<div>\n<style scoped>\n    .dataframe tbody tr th:only-of-type {\n        vertical-align: middle;\n    }\n\n    .dataframe tbody tr th {\n        vertical-align: top;\n    }\n\n    .dataframe thead th {\n        text-align: right;\n    }\n</style>\n<table border=\"1\" class=\"dataframe\">\n  <thead>\n    <tr style=\"text-align: right;\">\n      <th></th>\n      <th>feature_names</th>\n      <th>model_coefficient</th>\n    </tr>\n  </thead>\n  <tbody>\n    <tr>\n      <th>3525</th>\n      <td>respect</td>\n      <td>-0.613554</td>\n    </tr>\n    <tr>\n      <th>3875</th>\n      <td>thamai</td>\n      <td>-0.616190</td>\n    </tr>\n    <tr>\n      <th>4189</th>\n      <td>video</td>\n      <td>-0.650641</td>\n    </tr>\n    <tr>\n      <th>3019</th>\n      <td>obata</td>\n      <td>-0.717812</td>\n    </tr>\n    <tr>\n      <th>3634</th>\n      <td>saranai</td>\n      <td>-0.732874</td>\n    </tr>\n    <tr>\n      <th>4122</th>\n      <td>unath</td>\n      <td>-0.790494</td>\n    </tr>\n    <tr>\n      <th>2799</th>\n      <td>nadda</td>\n      <td>-0.801510</td>\n    </tr>\n    <tr>\n      <th>209</th>\n      <td>aiya</td>\n      <td>-0.829827</td>\n    </tr>\n    <tr>\n      <th>1513</th>\n      <td>godak</td>\n      <td>-0.832701</td>\n    </tr>\n    <tr>\n      <th>1741</th>\n      <td>hoda</td>\n      <td>-0.912628</td>\n    </tr>\n  </tbody>\n</table>\n</div>"
          },
          "metadata": {},
          "execution_count": 65
        }
      ]
    },
    {
      "cell_type": "markdown",
      "metadata": {
        "id": "Ba5EJ8Gz9ECR"
      },
      "source": [
        "<p>As you can see above tokens have low coefficient values. Thus those are least important tokens that has a low influence in hate speech.</p>"
      ]
    },
    {
      "cell_type": "markdown",
      "metadata": {
        "id": "CwsH5fM_9ECR"
      },
      "source": [
        "### Answer (d)\n",
        "\n",
        "Answer for question (d) will be discussed under the below sections as \n",
        "<ol>\n",
        "    <li>Merge the Sinhala and Singlish Datasets to get the Full Preprocessed Dataset</li>\n",
        "    <li>Splitting data into training and test data sets</li> \n",
        "    <li>Getting bag-of-words representation for Full Dataset</li>\n",
        "    <li>Fitting logistic regression model to Full Dataset</li>\n",
        "    <li>Evaluation using Performance Measures and Confusion Matrix for Full Dataset</li>\n",
        "    <li>Comparing the results with (c) and deciding whether to process these two data sets together or separately in future steps</li>\n",
        " </ol>"
      ]
    },
    {
      "cell_type": "markdown",
      "metadata": {
        "id": "h1E1iFCL9ECR"
      },
      "source": [
        "#### d.1. Merge the Sinhala and Singlish Datasets to get the Full Preprocessed Dataset"
      ]
    },
    {
      "cell_type": "code",
      "metadata": {
        "id": "7luiJyJG9ECS",
        "outputId": "3aae94da-6d9b-40e3-bf96-dad3ea15296c"
      },
      "source": [
        "full_dataframe = pd.concat([sinhala_dataframe, singlish_dataframe])\n",
        "full_dataframe"
      ],
      "execution_count": 66,
      "outputs": [
        {
          "output_type": "execute_result",
          "data": {
            "text/plain": [
              "      PhraseNo                                             Phrase IsHateSpeech\n",
              "0            1  [බැල්ලි, කොටි, ග, කනකො, අපහසු, දැනුන, ද, ඔ, මි...          YES\n",
              "1            2  [ම, ඊ, මුස්ලි, ඩෑල, එ, සෙල්ෆි, ගත්ත, සහජීවන, ර...          YES\n",
              "2            3                               [සංහිදියා, අවුල, වෙ]           NO\n",
              "3            4  [කට, පුරසාර, දොඩ, අපි, සිංහලය, විදි, ලැජ්ජ, ව,...          YES\n",
              "4            5  [මච, මගු, නවත්ත, කොන්ද, තියෙනවාන, පුලුවන්න, කර...          YES\n",
              "...        ...                                                ...          ...\n",
              "2492      2493  [1002, ඔන්න, ඔයාව, subscribe, කරා, මාවත්, subs...           NO\n",
              "2494      2495  [අපේ, අලුත්, වීඩියෝ, එකත්, බලන්න, පෙන්ඩ්ස්, චැ...           NO\n",
              "2495      2496  [ඔය, දෙන්නා, එකතු, වෙලා, tv, program, එකක්, කර...           NO\n",
              "2497      2498  [ඇස්වහ, කටවහක්, නෑ, ඔයාලා, දෙනාටම, හැමදාමත්, අ...           NO\n",
              "2499      2500  [Ane, manda, joke, eka, hodai, eth, wadu, දෙමව...           NO\n",
              "\n",
              "[2500 rows x 3 columns]"
            ],
            "text/html": "<div>\n<style scoped>\n    .dataframe tbody tr th:only-of-type {\n        vertical-align: middle;\n    }\n\n    .dataframe tbody tr th {\n        vertical-align: top;\n    }\n\n    .dataframe thead th {\n        text-align: right;\n    }\n</style>\n<table border=\"1\" class=\"dataframe\">\n  <thead>\n    <tr style=\"text-align: right;\">\n      <th></th>\n      <th>PhraseNo</th>\n      <th>Phrase</th>\n      <th>IsHateSpeech</th>\n    </tr>\n  </thead>\n  <tbody>\n    <tr>\n      <th>0</th>\n      <td>1</td>\n      <td>[බැල්ලි, කොටි, ග, කනකො, අපහසු, දැනුන, ද, ඔ, මි...</td>\n      <td>YES</td>\n    </tr>\n    <tr>\n      <th>1</th>\n      <td>2</td>\n      <td>[ම, ඊ, මුස්ලි, ඩෑල, එ, සෙල්ෆි, ගත්ත, සහජීවන, ර...</td>\n      <td>YES</td>\n    </tr>\n    <tr>\n      <th>2</th>\n      <td>3</td>\n      <td>[සංහිදියා, අවුල, වෙ]</td>\n      <td>NO</td>\n    </tr>\n    <tr>\n      <th>3</th>\n      <td>4</td>\n      <td>[කට, පුරසාර, දොඩ, අපි, සිංහලය, විදි, ලැජ්ජ, ව,...</td>\n      <td>YES</td>\n    </tr>\n    <tr>\n      <th>4</th>\n      <td>5</td>\n      <td>[මච, මගු, නවත්ත, කොන්ද, තියෙනවාන, පුලුවන්න, කර...</td>\n      <td>YES</td>\n    </tr>\n    <tr>\n      <th>...</th>\n      <td>...</td>\n      <td>...</td>\n      <td>...</td>\n    </tr>\n    <tr>\n      <th>2492</th>\n      <td>2493</td>\n      <td>[1002, ඔන්න, ඔයාව, subscribe, කරා, මාවත්, subs...</td>\n      <td>NO</td>\n    </tr>\n    <tr>\n      <th>2494</th>\n      <td>2495</td>\n      <td>[අපේ, අලුත්, වීඩියෝ, එකත්, බලන්න, පෙන්ඩ්ස්, චැ...</td>\n      <td>NO</td>\n    </tr>\n    <tr>\n      <th>2495</th>\n      <td>2496</td>\n      <td>[ඔය, දෙන්නා, එකතු, වෙලා, tv, program, එකක්, කර...</td>\n      <td>NO</td>\n    </tr>\n    <tr>\n      <th>2497</th>\n      <td>2498</td>\n      <td>[ඇස්වහ, කටවහක්, නෑ, ඔයාලා, දෙනාටම, හැමදාමත්, අ...</td>\n      <td>NO</td>\n    </tr>\n    <tr>\n      <th>2499</th>\n      <td>2500</td>\n      <td>[Ane, manda, joke, eka, hodai, eth, wadu, දෙමව...</td>\n      <td>NO</td>\n    </tr>\n  </tbody>\n</table>\n<p>2500 rows × 3 columns</p>\n</div>"
          },
          "metadata": {},
          "execution_count": 66
        }
      ]
    },
    {
      "cell_type": "markdown",
      "metadata": {
        "id": "JdDcqVCI9ECS"
      },
      "source": [
        "#### d.2. Splitting data into training and test data sets"
      ]
    },
    {
      "cell_type": "markdown",
      "metadata": {
        "id": "AoKm47wy9ECT"
      },
      "source": [
        "<p>The <b>full dataset</b> can be spliited as below.</p>"
      ]
    },
    {
      "cell_type": "code",
      "metadata": {
        "id": "mGdrO81Y9ECT",
        "outputId": "8fe31de1-218c-4d01-bd08-773732c48a57"
      },
      "source": [
        "train_X_full, test_X_full, train_y_full, test_y_full = prepare_datasets(corpus=full_dataframe['Phrase'], \n",
        "                                                                        labels=full_dataframe['IsHateSpeech'])"
      ],
      "execution_count": 67,
      "outputs": [
        {
          "output_type": "stream",
          "name": "stdout",
          "text": [
            "Number of train data for the dataset :2000\nNumber of test data for the dataset :500\n"
          ]
        }
      ]
    },
    {
      "cell_type": "markdown",
      "metadata": {
        "id": "_bUI_Pee9ECU"
      },
      "source": [
        "<p>The train set consist of 2000 phrases and the test set consist of 500 which were spliited in 80:20 ratio.</p>"
      ]
    },
    {
      "cell_type": "markdown",
      "metadata": {
        "id": "OM0DMzej9ECV"
      },
      "source": [
        "#### d.3. Getting bag-of-words representation for Full Dataset"
      ]
    },
    {
      "cell_type": "markdown",
      "metadata": {
        "id": "RsiItiVv9ECV"
      },
      "source": [
        "<p>Let us generate the <b>bag of words representation for training data in Full dataset</b>.</p>"
      ]
    },
    {
      "cell_type": "code",
      "metadata": {
        "id": "B3NzlGml9ECV"
      },
      "source": [
        "vectorizer_full, feature_names_full, vocabulary_full, bow_features_full = get_bow_features(data=train_X_full)"
      ],
      "execution_count": 68,
      "outputs": []
    },
    {
      "cell_type": "code",
      "metadata": {
        "id": "SbaUOC5v9ECV",
        "outputId": "72d85357-ccba-4a0c-b910-106f539049be"
      },
      "source": [
        "# vocabulary_full"
      ],
      "execution_count": 69,
      "outputs": []
    },
    {
      "cell_type": "code",
      "metadata": {
        "id": "o9YkiDUo9ECW",
        "outputId": "3eb55f87-55bf-465d-ac13-e2cece8f6b72"
      },
      "source": [
        "bow_features_full.toarray()"
      ],
      "execution_count": 70,
      "outputs": [
        {
          "output_type": "execute_result",
          "data": {
            "text/plain": [
              "array([[0, 0, 0, ..., 0, 0, 0],\n",
              "       [0, 0, 0, ..., 0, 0, 0],\n",
              "       [0, 0, 0, ..., 0, 0, 0],\n",
              "       ...,\n",
              "       [0, 0, 0, ..., 0, 0, 0],\n",
              "       [0, 0, 0, ..., 0, 0, 0],\n",
              "       [0, 0, 0, ..., 0, 0, 0]], dtype=int64)"
            ]
          },
          "metadata": {},
          "execution_count": 70
        }
      ]
    },
    {
      "cell_type": "markdown",
      "metadata": {
        "id": "ei3Y0BGn9ECW"
      },
      "source": [
        "<p>Above is the <b>term document matrix vocabulary of full dataset</b> which is the bag of word features to be fed to the model in future steps.</p>"
      ]
    },
    {
      "cell_type": "markdown",
      "metadata": {
        "id": "UHZ-fkJ19ECW"
      },
      "source": [
        "#### d.4. Fitting logistic regression model to Full Dataset"
      ]
    },
    {
      "cell_type": "markdown",
      "metadata": {
        "id": "znWT_I8M9ECW"
      },
      "source": [
        "<p>Let us apply <b>Logistic Regression to the Full dataset</b> as shown below by passing the bag-of-words features created previously and the train labels for Full dataset.</p>"
      ]
    },
    {
      "cell_type": "code",
      "metadata": {
        "id": "XBvYpxoA9ECW",
        "outputId": "ca4d7b43-41c4-4cc4-e6d2-06ec1eb4b1f5"
      },
      "source": [
        "logistic_regression_model_full = train_logistic_regression_model(features=bow_features_full, labels=train_y_full)"
      ],
      "execution_count": 71,
      "outputs": [
        {
          "output_type": "stream",
          "name": "stdout",
          "text": [
            "Training the logistic regression model...\nFinished\n"
          ]
        }
      ]
    },
    {
      "cell_type": "markdown",
      "metadata": {
        "id": "lvhUd9yr9ECW"
      },
      "source": [
        "<p>Let us apply get the predictions for test data as below.</p>"
      ]
    },
    {
      "cell_type": "code",
      "metadata": {
        "id": "lOkhX7Ut9ECX",
        "outputId": "5fc03a82-9fe3-42d8-c0f0-735551c75b5c"
      },
      "source": [
        "predicted_y_full = predict_logistic_regression_model(test_X=test_X_full, \n",
        "                                                     test_y=test_y_full, \n",
        "                                                     vectorizer=vectorizer_full, \n",
        "                                                     logistic_regression_model=logistic_regression_model_full)"
      ],
      "execution_count": null,
      "outputs": [
        {
          "output_type": "stream",
          "text": [
            "Predictions: \n",
            "['YES' 'NO' 'YES' 'YES' 'NO' 'NO' 'NO' 'NO' 'NO' 'NO' 'NO' 'NO' 'YES' 'NO'\n",
            " 'NO' 'YES' 'NO' 'NO' 'NO' 'YES' 'YES' 'NO' 'NO' 'YES' 'NO' 'NO' 'NO' 'NO'\n",
            " 'YES' 'NO' 'NO' 'NO' 'NO' 'NO' 'YES' 'YES' 'NO' 'YES' 'YES' 'NO' 'NO'\n",
            " 'NO' 'NO' 'NO' 'YES' 'NO' 'YES' 'NO' 'NO' 'NO' 'NO' 'NO' 'NO' 'NO' 'YES'\n",
            " 'NO' 'NO' 'NO' 'NO' 'NO' 'NO' 'NO' 'YES' 'YES' 'NO' 'NO' 'YES' 'YES' 'NO'\n",
            " 'NO' 'NO' 'NO' 'NO' 'NO' 'YES' 'YES' 'NO' 'NO' 'NO' 'NO' 'NO' 'NO' 'YES'\n",
            " 'NO' 'NO' 'NO' 'NO' 'NO' 'YES' 'NO' 'NO' 'NO' 'YES' 'YES' 'NO' 'NO' 'YES'\n",
            " 'NO' 'NO' 'NO' 'YES' 'NO' 'YES' 'NO' 'NO' 'NO' 'NO' 'YES' 'YES' 'NO' 'NO'\n",
            " 'NO' 'NO' 'YES' 'YES' 'YES' 'YES' 'NO' 'NO' 'NO' 'YES' 'NO' 'YES' 'NO'\n",
            " 'NO' 'NO' 'YES' 'NO' 'NO' 'NO' 'NO' 'NO' 'NO' 'NO' 'NO' 'NO' 'YES' 'NO'\n",
            " 'NO' 'NO' 'YES' 'NO' 'YES' 'NO' 'YES' 'NO' 'YES' 'YES' 'YES' 'YES' 'NO'\n",
            " 'YES' 'NO' 'YES' 'YES' 'YES' 'NO' 'NO' 'YES' 'NO' 'YES' 'NO' 'NO' 'NO'\n",
            " 'NO' 'NO' 'YES' 'NO' 'YES' 'NO' 'NO' 'NO' 'NO' 'NO' 'YES' 'YES' 'NO'\n",
            " 'YES' 'NO' 'NO' 'NO' 'NO' 'NO' 'YES' 'NO' 'YES' 'YES' 'NO' 'NO' 'NO'\n",
            " 'YES' 'YES' 'YES' 'NO' 'YES' 'YES' 'NO' 'YES' 'YES' 'YES' 'YES' 'NO' 'NO'\n",
            " 'NO' 'YES' 'YES' 'NO' 'NO' 'NO' 'NO' 'NO' 'YES' 'NO' 'NO' 'NO' 'YES' 'NO'\n",
            " 'NO' 'NO' 'YES' 'NO' 'NO' 'YES' 'NO' 'YES' 'YES' 'NO' 'NO' 'NO' 'NO'\n",
            " 'YES' 'NO' 'NO' 'NO' 'NO' 'YES' 'NO' 'NO' 'NO' 'NO' 'YES' 'NO' 'NO' 'NO'\n",
            " 'YES' 'NO' 'NO' 'NO' 'NO' 'YES' 'YES' 'YES' 'NO' 'YES' 'NO' 'NO' 'NO'\n",
            " 'YES' 'NO' 'NO' 'NO' 'NO' 'NO' 'YES' 'NO' 'NO' 'NO' 'NO' 'NO' 'NO' 'YES'\n",
            " 'NO' 'NO' 'YES' 'NO' 'NO' 'YES' 'NO' 'NO' 'YES' 'NO' 'NO' 'YES' 'NO' 'NO'\n",
            " 'NO' 'NO' 'NO' 'NO' 'NO' 'YES' 'YES' 'YES' 'YES' 'NO' 'NO' 'NO' 'NO' 'NO'\n",
            " 'YES' 'YES' 'YES' 'YES' 'NO' 'YES' 'YES' 'YES' 'NO' 'NO' 'YES' 'NO' 'NO'\n",
            " 'NO' 'NO' 'YES' 'NO' 'NO' 'YES' 'YES' 'NO' 'NO' 'NO' 'NO' 'YES' 'NO' 'NO'\n",
            " 'NO' 'YES' 'NO' 'YES' 'NO' 'NO' 'NO' 'NO' 'YES' 'NO' 'NO' 'YES' 'NO'\n",
            " 'YES' 'NO' 'NO' 'NO' 'YES' 'NO' 'YES' 'NO' 'NO' 'YES' 'NO' 'YES' 'NO'\n",
            " 'YES' 'NO' 'YES' 'YES' 'NO' 'NO' 'YES' 'NO' 'YES' 'NO' 'NO' 'NO' 'NO'\n",
            " 'NO' 'NO' 'NO' 'YES' 'NO' 'NO' 'YES' 'NO' 'NO' 'YES' 'NO' 'YES' 'YES'\n",
            " 'NO' 'NO' 'NO' 'NO' 'NO' 'YES' 'YES' 'NO' 'YES' 'NO' 'NO' 'YES' 'NO' 'NO'\n",
            " 'YES' 'NO' 'NO' 'NO' 'NO' 'NO' 'NO' 'NO' 'YES' 'NO' 'YES' 'NO' 'NO' 'NO'\n",
            " 'NO' 'YES' 'NO' 'YES' 'YES' 'NO' 'NO' 'NO' 'NO' 'NO' 'NO' 'YES' 'NO' 'NO'\n",
            " 'NO' 'NO' 'NO' 'NO' 'YES' 'NO' 'NO' 'YES' 'NO' 'YES' 'NO' 'NO' 'YES'\n",
            " 'YES' 'NO' 'YES' 'NO' 'NO' 'NO' 'NO' 'NO' 'NO' 'YES' 'NO' 'YES' 'NO' 'NO'\n",
            " 'YES' 'NO' 'YES' 'NO' 'NO' 'NO' 'YES' 'NO' 'YES' 'NO' 'NO' 'NO' 'NO' 'NO'\n",
            " 'NO' 'NO' 'NO' 'NO' 'NO' 'NO' 'NO' 'NO' 'NO' 'NO' 'YES' 'NO' 'YES' 'NO'\n",
            " 'NO' 'NO' 'NO' 'NO' 'NO' 'NO' 'NO' 'YES' 'NO' 'YES' 'YES' 'YES' 'YES'\n",
            " 'YES' 'YES' 'YES' 'NO' 'YES' 'NO' 'NO' 'NO' 'NO' 'NO' 'NO' 'YES']\n",
            "\n",
            "\n",
            "Accuracy = 74%\n"
          ],
          "name": "stdout"
        }
      ]
    },
    {
      "cell_type": "markdown",
      "metadata": {
        "id": "YtNcnzhu9ECY"
      },
      "source": [
        "<p>The predictions array has shown above which consists whether a particular string is hate speech (YES) or not (NO) and it was returned and assigned to predicted_y_full variable. The accuracy of this model is 74% <b>which is greater than the model that was created before which consisted only Singlish data but less than the model that was created before which consisted only Sinhala data</b>.</p>"
      ]
    },
    {
      "cell_type": "markdown",
      "metadata": {
        "id": "HAkL4K6C9ECY"
      },
      "source": [
        "#### d.5. Evaluation using Performance Measures and Confusion Matrix for Full Dataset"
      ]
    },
    {
      "cell_type": "markdown",
      "metadata": {
        "id": "CD4VXDkX9ECY"
      },
      "source": [
        "<p>Let us get the confusion matrix and the performance measures for full dataset.</p>"
      ]
    },
    {
      "cell_type": "code",
      "metadata": {
        "id": "VHgPYqUx9ECY",
        "outputId": "f6abca38-e7a2-4c1b-d841-7e57b2500cd6"
      },
      "source": [
        "get_metrics(true_labels=test_y_full, predicted_labels=predicted_y_full)"
      ],
      "execution_count": 73,
      "outputs": [
        {
          "output_type": "display_data",
          "data": {
            "text/plain": "<Figure size 432x288 with 2 Axes>",
            "image/svg+xml": "<?xml version=\"1.0\" encoding=\"utf-8\" standalone=\"no\"?>\r\n<!DOCTYPE svg PUBLIC \"-//W3C//DTD SVG 1.1//EN\"\r\n  \"http://www.w3.org/Graphics/SVG/1.1/DTD/svg11.dtd\">\r\n<!-- Created with matplotlib (https://matplotlib.org/) -->\r\n<svg height=\"277.314375pt\" version=\"1.1\" viewBox=\"0 0 366.29575 277.314375\" width=\"366.29575pt\" xmlns=\"http://www.w3.org/2000/svg\" xmlns:xlink=\"http://www.w3.org/1999/xlink\">\r\n <defs>\r\n  <style type=\"text/css\">\r\n*{stroke-linecap:butt;stroke-linejoin:round;}\r\n  </style>\r\n </defs>\r\n <g id=\"figure_1\">\r\n  <g id=\"patch_1\">\r\n   <path d=\"M 0 277.314375 \r\nL 366.29575 277.314375 \r\nL 366.29575 0 \r\nL 0 0 \r\nz\r\n\" style=\"fill:none;\"/>\r\n  </g>\r\n  <g id=\"axes_1\">\r\n   <g id=\"patch_2\">\r\n    <path d=\"M 37.55625 239.758125 \r\nL 305.39625 239.758125 \r\nL 305.39625 22.318125 \r\nL 37.55625 22.318125 \r\nz\r\n\" style=\"fill:#ffffff;\"/>\r\n   </g>\r\n   <g id=\"QuadMesh_1\">\r\n    <path clip-path=\"url(#pabb01b48dc)\" d=\"M 37.55625 22.318125 \r\nL 171.47625 22.318125 \r\nL 171.47625 131.038125 \r\nL 37.55625 131.038125 \r\nL 37.55625 22.318125 \r\n\" style=\"fill:#faebdd;\"/>\r\n    <path clip-path=\"url(#pabb01b48dc)\" d=\"M 171.47625 22.318125 \r\nL 305.39625 22.318125 \r\nL 305.39625 131.038125 \r\nL 171.47625 131.038125 \r\nL 171.47625 22.318125 \r\n\" style=\"fill:#03051a;\"/>\r\n    <path clip-path=\"url(#pabb01b48dc)\" d=\"M 37.55625 131.038125 \r\nL 171.47625 131.038125 \r\nL 171.47625 239.758125 \r\nL 37.55625 239.758125 \r\nL 37.55625 131.038125 \r\n\" style=\"fill:#711f57;\"/>\r\n    <path clip-path=\"url(#pabb01b48dc)\" d=\"M 171.47625 131.038125 \r\nL 305.39625 131.038125 \r\nL 305.39625 239.758125 \r\nL 171.47625 239.758125 \r\nL 171.47625 131.038125 \r\n\" style=\"fill:#b71657;\"/>\r\n   </g>\r\n   <g id=\"matplotlib.axis_1\">\r\n    <g id=\"xtick_1\">\r\n     <g id=\"line2d_1\">\r\n      <defs>\r\n       <path d=\"M 0 0 \r\nL 0 3.5 \r\n\" id=\"m52617eb638\" style=\"stroke:#000000;stroke-width:0.8;\"/>\r\n      </defs>\r\n      <g>\r\n       <use style=\"stroke:#000000;stroke-width:0.8;\" x=\"104.51625\" xlink:href=\"#m52617eb638\" y=\"239.758125\"/>\r\n      </g>\r\n     </g>\r\n     <g id=\"text_1\">\r\n      <!-- YES -->\r\n      <defs>\r\n       <path d=\"M -0.203125 72.90625 \r\nL 10.40625 72.90625 \r\nL 30.609375 42.921875 \r\nL 50.6875 72.90625 \r\nL 61.28125 72.90625 \r\nL 35.5 34.71875 \r\nL 35.5 0 \r\nL 25.59375 0 \r\nL 25.59375 34.71875 \r\nz\r\n\" id=\"DejaVuSans-89\"/>\r\n       <path d=\"M 9.8125 72.90625 \r\nL 55.90625 72.90625 \r\nL 55.90625 64.59375 \r\nL 19.671875 64.59375 \r\nL 19.671875 43.015625 \r\nL 54.390625 43.015625 \r\nL 54.390625 34.71875 \r\nL 19.671875 34.71875 \r\nL 19.671875 8.296875 \r\nL 56.78125 8.296875 \r\nL 56.78125 0 \r\nL 9.8125 0 \r\nz\r\n\" id=\"DejaVuSans-69\"/>\r\n       <path d=\"M 53.515625 70.515625 \r\nL 53.515625 60.890625 \r\nQ 47.90625 63.578125 42.921875 64.890625 \r\nQ 37.9375 66.21875 33.296875 66.21875 \r\nQ 25.25 66.21875 20.875 63.09375 \r\nQ 16.5 59.96875 16.5 54.203125 \r\nQ 16.5 49.359375 19.40625 46.890625 \r\nQ 22.3125 44.4375 30.421875 42.921875 \r\nL 36.375 41.703125 \r\nQ 47.40625 39.59375 52.65625 34.296875 \r\nQ 57.90625 29 57.90625 20.125 \r\nQ 57.90625 9.515625 50.796875 4.046875 \r\nQ 43.703125 -1.421875 29.984375 -1.421875 \r\nQ 24.8125 -1.421875 18.96875 -0.25 \r\nQ 13.140625 0.921875 6.890625 3.21875 \r\nL 6.890625 13.375 \r\nQ 12.890625 10.015625 18.65625 8.296875 \r\nQ 24.421875 6.59375 29.984375 6.59375 \r\nQ 38.421875 6.59375 43.015625 9.90625 \r\nQ 47.609375 13.234375 47.609375 19.390625 \r\nQ 47.609375 24.75 44.3125 27.78125 \r\nQ 41.015625 30.8125 33.5 32.328125 \r\nL 27.484375 33.5 \r\nQ 16.453125 35.6875 11.515625 40.375 \r\nQ 6.59375 45.0625 6.59375 53.421875 \r\nQ 6.59375 63.09375 13.40625 68.65625 \r\nQ 20.21875 74.21875 32.171875 74.21875 \r\nQ 37.3125 74.21875 42.625 73.28125 \r\nQ 47.953125 72.359375 53.515625 70.515625 \r\nz\r\n\" id=\"DejaVuSans-83\"/>\r\n      </defs>\r\n      <g transform=\"translate(95.12875 254.356562)scale(0.1 -0.1)\">\r\n       <use xlink:href=\"#DejaVuSans-89\"/>\r\n       <use x=\"61.083984\" xlink:href=\"#DejaVuSans-69\"/>\r\n       <use x=\"124.267578\" xlink:href=\"#DejaVuSans-83\"/>\r\n      </g>\r\n     </g>\r\n    </g>\r\n    <g id=\"xtick_2\">\r\n     <g id=\"line2d_2\">\r\n      <g>\r\n       <use style=\"stroke:#000000;stroke-width:0.8;\" x=\"238.43625\" xlink:href=\"#m52617eb638\" y=\"239.758125\"/>\r\n      </g>\r\n     </g>\r\n     <g id=\"text_2\">\r\n      <!-- NO -->\r\n      <defs>\r\n       <path d=\"M 9.8125 72.90625 \r\nL 23.09375 72.90625 \r\nL 55.421875 11.921875 \r\nL 55.421875 72.90625 \r\nL 64.984375 72.90625 \r\nL 64.984375 0 \r\nL 51.703125 0 \r\nL 19.390625 60.984375 \r\nL 19.390625 0 \r\nL 9.8125 0 \r\nz\r\n\" id=\"DejaVuSans-78\"/>\r\n       <path d=\"M 39.40625 66.21875 \r\nQ 28.65625 66.21875 22.328125 58.203125 \r\nQ 16.015625 50.203125 16.015625 36.375 \r\nQ 16.015625 22.609375 22.328125 14.59375 \r\nQ 28.65625 6.59375 39.40625 6.59375 \r\nQ 50.140625 6.59375 56.421875 14.59375 \r\nQ 62.703125 22.609375 62.703125 36.375 \r\nQ 62.703125 50.203125 56.421875 58.203125 \r\nQ 50.140625 66.21875 39.40625 66.21875 \r\nz\r\nM 39.40625 74.21875 \r\nQ 54.734375 74.21875 63.90625 63.9375 \r\nQ 73.09375 53.65625 73.09375 36.375 \r\nQ 73.09375 19.140625 63.90625 8.859375 \r\nQ 54.734375 -1.421875 39.40625 -1.421875 \r\nQ 24.03125 -1.421875 14.8125 8.828125 \r\nQ 5.609375 19.09375 5.609375 36.375 \r\nQ 5.609375 53.65625 14.8125 63.9375 \r\nQ 24.03125 74.21875 39.40625 74.21875 \r\nz\r\n\" id=\"DejaVuSans-79\"/>\r\n      </defs>\r\n      <g transform=\"translate(230.759688 254.356562)scale(0.1 -0.1)\">\r\n       <use xlink:href=\"#DejaVuSans-78\"/>\r\n       <use x=\"74.804688\" xlink:href=\"#DejaVuSans-79\"/>\r\n      </g>\r\n     </g>\r\n    </g>\r\n    <g id=\"text_3\">\r\n     <!-- Predicted class -->\r\n     <defs>\r\n      <path d=\"M 19.671875 64.796875 \r\nL 19.671875 37.40625 \r\nL 32.078125 37.40625 \r\nQ 38.96875 37.40625 42.71875 40.96875 \r\nQ 46.484375 44.53125 46.484375 51.125 \r\nQ 46.484375 57.671875 42.71875 61.234375 \r\nQ 38.96875 64.796875 32.078125 64.796875 \r\nz\r\nM 9.8125 72.90625 \r\nL 32.078125 72.90625 \r\nQ 44.34375 72.90625 50.609375 67.359375 \r\nQ 56.890625 61.8125 56.890625 51.125 \r\nQ 56.890625 40.328125 50.609375 34.8125 \r\nQ 44.34375 29.296875 32.078125 29.296875 \r\nL 19.671875 29.296875 \r\nL 19.671875 0 \r\nL 9.8125 0 \r\nz\r\n\" id=\"DejaVuSans-80\"/>\r\n      <path d=\"M 41.109375 46.296875 \r\nQ 39.59375 47.171875 37.8125 47.578125 \r\nQ 36.03125 48 33.890625 48 \r\nQ 26.265625 48 22.1875 43.046875 \r\nQ 18.109375 38.09375 18.109375 28.8125 \r\nL 18.109375 0 \r\nL 9.078125 0 \r\nL 9.078125 54.6875 \r\nL 18.109375 54.6875 \r\nL 18.109375 46.1875 \r\nQ 20.953125 51.171875 25.484375 53.578125 \r\nQ 30.03125 56 36.53125 56 \r\nQ 37.453125 56 38.578125 55.875 \r\nQ 39.703125 55.765625 41.0625 55.515625 \r\nz\r\n\" id=\"DejaVuSans-114\"/>\r\n      <path d=\"M 56.203125 29.59375 \r\nL 56.203125 25.203125 \r\nL 14.890625 25.203125 \r\nQ 15.484375 15.921875 20.484375 11.0625 \r\nQ 25.484375 6.203125 34.421875 6.203125 \r\nQ 39.59375 6.203125 44.453125 7.46875 \r\nQ 49.3125 8.734375 54.109375 11.28125 \r\nL 54.109375 2.78125 \r\nQ 49.265625 0.734375 44.1875 -0.34375 \r\nQ 39.109375 -1.421875 33.890625 -1.421875 \r\nQ 20.796875 -1.421875 13.15625 6.1875 \r\nQ 5.515625 13.8125 5.515625 26.8125 \r\nQ 5.515625 40.234375 12.765625 48.109375 \r\nQ 20.015625 56 32.328125 56 \r\nQ 43.359375 56 49.78125 48.890625 \r\nQ 56.203125 41.796875 56.203125 29.59375 \r\nz\r\nM 47.21875 32.234375 \r\nQ 47.125 39.59375 43.09375 43.984375 \r\nQ 39.0625 48.390625 32.421875 48.390625 \r\nQ 24.90625 48.390625 20.390625 44.140625 \r\nQ 15.875 39.890625 15.1875 32.171875 \r\nz\r\n\" id=\"DejaVuSans-101\"/>\r\n      <path d=\"M 45.40625 46.390625 \r\nL 45.40625 75.984375 \r\nL 54.390625 75.984375 \r\nL 54.390625 0 \r\nL 45.40625 0 \r\nL 45.40625 8.203125 \r\nQ 42.578125 3.328125 38.25 0.953125 \r\nQ 33.9375 -1.421875 27.875 -1.421875 \r\nQ 17.96875 -1.421875 11.734375 6.484375 \r\nQ 5.515625 14.40625 5.515625 27.296875 \r\nQ 5.515625 40.1875 11.734375 48.09375 \r\nQ 17.96875 56 27.875 56 \r\nQ 33.9375 56 38.25 53.625 \r\nQ 42.578125 51.265625 45.40625 46.390625 \r\nz\r\nM 14.796875 27.296875 \r\nQ 14.796875 17.390625 18.875 11.75 \r\nQ 22.953125 6.109375 30.078125 6.109375 \r\nQ 37.203125 6.109375 41.296875 11.75 \r\nQ 45.40625 17.390625 45.40625 27.296875 \r\nQ 45.40625 37.203125 41.296875 42.84375 \r\nQ 37.203125 48.484375 30.078125 48.484375 \r\nQ 22.953125 48.484375 18.875 42.84375 \r\nQ 14.796875 37.203125 14.796875 27.296875 \r\nz\r\n\" id=\"DejaVuSans-100\"/>\r\n      <path d=\"M 9.421875 54.6875 \r\nL 18.40625 54.6875 \r\nL 18.40625 0 \r\nL 9.421875 0 \r\nz\r\nM 9.421875 75.984375 \r\nL 18.40625 75.984375 \r\nL 18.40625 64.59375 \r\nL 9.421875 64.59375 \r\nz\r\n\" id=\"DejaVuSans-105\"/>\r\n      <path d=\"M 48.78125 52.59375 \r\nL 48.78125 44.1875 \r\nQ 44.96875 46.296875 41.140625 47.34375 \r\nQ 37.3125 48.390625 33.40625 48.390625 \r\nQ 24.65625 48.390625 19.8125 42.84375 \r\nQ 14.984375 37.3125 14.984375 27.296875 \r\nQ 14.984375 17.28125 19.8125 11.734375 \r\nQ 24.65625 6.203125 33.40625 6.203125 \r\nQ 37.3125 6.203125 41.140625 7.25 \r\nQ 44.96875 8.296875 48.78125 10.40625 \r\nL 48.78125 2.09375 \r\nQ 45.015625 0.34375 40.984375 -0.53125 \r\nQ 36.96875 -1.421875 32.421875 -1.421875 \r\nQ 20.0625 -1.421875 12.78125 6.34375 \r\nQ 5.515625 14.109375 5.515625 27.296875 \r\nQ 5.515625 40.671875 12.859375 48.328125 \r\nQ 20.21875 56 33.015625 56 \r\nQ 37.15625 56 41.109375 55.140625 \r\nQ 45.0625 54.296875 48.78125 52.59375 \r\nz\r\n\" id=\"DejaVuSans-99\"/>\r\n      <path d=\"M 18.3125 70.21875 \r\nL 18.3125 54.6875 \r\nL 36.8125 54.6875 \r\nL 36.8125 47.703125 \r\nL 18.3125 47.703125 \r\nL 18.3125 18.015625 \r\nQ 18.3125 11.328125 20.140625 9.421875 \r\nQ 21.96875 7.515625 27.59375 7.515625 \r\nL 36.8125 7.515625 \r\nL 36.8125 0 \r\nL 27.59375 0 \r\nQ 17.1875 0 13.234375 3.875 \r\nQ 9.28125 7.765625 9.28125 18.015625 \r\nL 9.28125 47.703125 \r\nL 2.6875 47.703125 \r\nL 2.6875 54.6875 \r\nL 9.28125 54.6875 \r\nL 9.28125 70.21875 \r\nz\r\n\" id=\"DejaVuSans-116\"/>\r\n      <path id=\"DejaVuSans-32\"/>\r\n      <path d=\"M 9.421875 75.984375 \r\nL 18.40625 75.984375 \r\nL 18.40625 0 \r\nL 9.421875 0 \r\nz\r\n\" id=\"DejaVuSans-108\"/>\r\n      <path d=\"M 34.28125 27.484375 \r\nQ 23.390625 27.484375 19.1875 25 \r\nQ 14.984375 22.515625 14.984375 16.5 \r\nQ 14.984375 11.71875 18.140625 8.90625 \r\nQ 21.296875 6.109375 26.703125 6.109375 \r\nQ 34.1875 6.109375 38.703125 11.40625 \r\nQ 43.21875 16.703125 43.21875 25.484375 \r\nL 43.21875 27.484375 \r\nz\r\nM 52.203125 31.203125 \r\nL 52.203125 0 \r\nL 43.21875 0 \r\nL 43.21875 8.296875 \r\nQ 40.140625 3.328125 35.546875 0.953125 \r\nQ 30.953125 -1.421875 24.3125 -1.421875 \r\nQ 15.921875 -1.421875 10.953125 3.296875 \r\nQ 6 8.015625 6 15.921875 \r\nQ 6 25.140625 12.171875 29.828125 \r\nQ 18.359375 34.515625 30.609375 34.515625 \r\nL 43.21875 34.515625 \r\nL 43.21875 35.40625 \r\nQ 43.21875 41.609375 39.140625 45 \r\nQ 35.0625 48.390625 27.6875 48.390625 \r\nQ 23 48.390625 18.546875 47.265625 \r\nQ 14.109375 46.140625 10.015625 43.890625 \r\nL 10.015625 52.203125 \r\nQ 14.9375 54.109375 19.578125 55.046875 \r\nQ 24.21875 56 28.609375 56 \r\nQ 40.484375 56 46.34375 49.84375 \r\nQ 52.203125 43.703125 52.203125 31.203125 \r\nz\r\n\" id=\"DejaVuSans-97\"/>\r\n      <path d=\"M 44.28125 53.078125 \r\nL 44.28125 44.578125 \r\nQ 40.484375 46.53125 36.375 47.5 \r\nQ 32.28125 48.484375 27.875 48.484375 \r\nQ 21.1875 48.484375 17.84375 46.4375 \r\nQ 14.5 44.390625 14.5 40.28125 \r\nQ 14.5 37.15625 16.890625 35.375 \r\nQ 19.28125 33.59375 26.515625 31.984375 \r\nL 29.59375 31.296875 \r\nQ 39.15625 29.25 43.1875 25.515625 \r\nQ 47.21875 21.78125 47.21875 15.09375 \r\nQ 47.21875 7.46875 41.1875 3.015625 \r\nQ 35.15625 -1.421875 24.609375 -1.421875 \r\nQ 20.21875 -1.421875 15.453125 -0.5625 \r\nQ 10.6875 0.296875 5.421875 2 \r\nL 5.421875 11.28125 \r\nQ 10.40625 8.6875 15.234375 7.390625 \r\nQ 20.0625 6.109375 24.8125 6.109375 \r\nQ 31.15625 6.109375 34.5625 8.28125 \r\nQ 37.984375 10.453125 37.984375 14.40625 \r\nQ 37.984375 18.0625 35.515625 20.015625 \r\nQ 33.0625 21.96875 24.703125 23.78125 \r\nL 21.578125 24.515625 \r\nQ 13.234375 26.265625 9.515625 29.90625 \r\nQ 5.8125 33.546875 5.8125 39.890625 \r\nQ 5.8125 47.609375 11.28125 51.796875 \r\nQ 16.75 56 26.8125 56 \r\nQ 31.78125 56 36.171875 55.265625 \r\nQ 40.578125 54.546875 44.28125 53.078125 \r\nz\r\n\" id=\"DejaVuSans-115\"/>\r\n     </defs>\r\n     <g transform=\"translate(133.8075 268.034687)scale(0.1 -0.1)\">\r\n      <use xlink:href=\"#DejaVuSans-80\"/>\r\n      <use x=\"60.287109\" xlink:href=\"#DejaVuSans-114\"/>\r\n      <use x=\"101.369141\" xlink:href=\"#DejaVuSans-101\"/>\r\n      <use x=\"162.892578\" xlink:href=\"#DejaVuSans-100\"/>\r\n      <use x=\"226.369141\" xlink:href=\"#DejaVuSans-105\"/>\r\n      <use x=\"254.152344\" xlink:href=\"#DejaVuSans-99\"/>\r\n      <use x=\"309.132812\" xlink:href=\"#DejaVuSans-116\"/>\r\n      <use x=\"348.341797\" xlink:href=\"#DejaVuSans-101\"/>\r\n      <use x=\"409.865234\" xlink:href=\"#DejaVuSans-100\"/>\r\n      <use x=\"473.341797\" xlink:href=\"#DejaVuSans-32\"/>\r\n      <use x=\"505.128906\" xlink:href=\"#DejaVuSans-99\"/>\r\n      <use x=\"560.109375\" xlink:href=\"#DejaVuSans-108\"/>\r\n      <use x=\"587.892578\" xlink:href=\"#DejaVuSans-97\"/>\r\n      <use x=\"649.171875\" xlink:href=\"#DejaVuSans-115\"/>\r\n      <use x=\"701.271484\" xlink:href=\"#DejaVuSans-115\"/>\r\n     </g>\r\n    </g>\r\n   </g>\r\n   <g id=\"matplotlib.axis_2\">\r\n    <g id=\"ytick_1\">\r\n     <g id=\"line2d_3\">\r\n      <defs>\r\n       <path d=\"M 0 0 \r\nL -3.5 0 \r\n\" id=\"m9a28ff0e2c\" style=\"stroke:#000000;stroke-width:0.8;\"/>\r\n      </defs>\r\n      <g>\r\n       <use style=\"stroke:#000000;stroke-width:0.8;\" x=\"37.55625\" xlink:href=\"#m9a28ff0e2c\" y=\"76.678125\"/>\r\n      </g>\r\n     </g>\r\n     <g id=\"text_4\">\r\n      <!-- YES -->\r\n      <g transform=\"translate(28.476563 91.653906)rotate(-90)scale(0.1 -0.1)\">\r\n       <use xlink:href=\"#DejaVuSans-89\"/>\r\n       <use x=\"61.083984\" xlink:href=\"#DejaVuSans-69\"/>\r\n       <use x=\"124.267578\" xlink:href=\"#DejaVuSans-83\"/>\r\n      </g>\r\n     </g>\r\n    </g>\r\n    <g id=\"ytick_2\">\r\n     <g id=\"line2d_4\">\r\n      <g>\r\n       <use style=\"stroke:#000000;stroke-width:0.8;\" x=\"37.55625\" xlink:href=\"#m9a28ff0e2c\" y=\"185.398125\"/>\r\n      </g>\r\n     </g>\r\n     <g id=\"text_5\">\r\n      <!-- NO -->\r\n      <g transform=\"translate(28.476563 196.952031)rotate(-90)scale(0.1 -0.1)\">\r\n       <use xlink:href=\"#DejaVuSans-78\"/>\r\n       <use x=\"74.804688\" xlink:href=\"#DejaVuSans-79\"/>\r\n      </g>\r\n     </g>\r\n    </g>\r\n    <g id=\"text_6\">\r\n     <!-- Actual Class -->\r\n     <defs>\r\n      <path d=\"M 34.1875 63.1875 \r\nL 20.796875 26.90625 \r\nL 47.609375 26.90625 \r\nz\r\nM 28.609375 72.90625 \r\nL 39.796875 72.90625 \r\nL 67.578125 0 \r\nL 57.328125 0 \r\nL 50.6875 18.703125 \r\nL 17.828125 18.703125 \r\nL 11.1875 0 \r\nL 0.78125 0 \r\nz\r\n\" id=\"DejaVuSans-65\"/>\r\n      <path d=\"M 8.5 21.578125 \r\nL 8.5 54.6875 \r\nL 17.484375 54.6875 \r\nL 17.484375 21.921875 \r\nQ 17.484375 14.15625 20.5 10.265625 \r\nQ 23.53125 6.390625 29.59375 6.390625 \r\nQ 36.859375 6.390625 41.078125 11.03125 \r\nQ 45.3125 15.671875 45.3125 23.6875 \r\nL 45.3125 54.6875 \r\nL 54.296875 54.6875 \r\nL 54.296875 0 \r\nL 45.3125 0 \r\nL 45.3125 8.40625 \r\nQ 42.046875 3.421875 37.71875 1 \r\nQ 33.40625 -1.421875 27.6875 -1.421875 \r\nQ 18.265625 -1.421875 13.375 4.4375 \r\nQ 8.5 10.296875 8.5 21.578125 \r\nz\r\nM 31.109375 56 \r\nz\r\n\" id=\"DejaVuSans-117\"/>\r\n      <path d=\"M 64.40625 67.28125 \r\nL 64.40625 56.890625 \r\nQ 59.421875 61.53125 53.78125 63.8125 \r\nQ 48.140625 66.109375 41.796875 66.109375 \r\nQ 29.296875 66.109375 22.65625 58.46875 \r\nQ 16.015625 50.828125 16.015625 36.375 \r\nQ 16.015625 21.96875 22.65625 14.328125 \r\nQ 29.296875 6.6875 41.796875 6.6875 \r\nQ 48.140625 6.6875 53.78125 8.984375 \r\nQ 59.421875 11.28125 64.40625 15.921875 \r\nL 64.40625 5.609375 \r\nQ 59.234375 2.09375 53.4375 0.328125 \r\nQ 47.65625 -1.421875 41.21875 -1.421875 \r\nQ 24.65625 -1.421875 15.125 8.703125 \r\nQ 5.609375 18.84375 5.609375 36.375 \r\nQ 5.609375 53.953125 15.125 64.078125 \r\nQ 24.65625 74.21875 41.21875 74.21875 \r\nQ 47.75 74.21875 53.53125 72.484375 \r\nQ 59.328125 70.75 64.40625 67.28125 \r\nz\r\n\" id=\"DejaVuSans-67\"/>\r\n     </defs>\r\n     <g transform=\"translate(14.798438 161.531875)rotate(-90)scale(0.1 -0.1)\">\r\n      <use xlink:href=\"#DejaVuSans-65\"/>\r\n      <use x=\"68.392578\" xlink:href=\"#DejaVuSans-99\"/>\r\n      <use x=\"123.373047\" xlink:href=\"#DejaVuSans-116\"/>\r\n      <use x=\"162.582031\" xlink:href=\"#DejaVuSans-117\"/>\r\n      <use x=\"225.960938\" xlink:href=\"#DejaVuSans-97\"/>\r\n      <use x=\"287.240234\" xlink:href=\"#DejaVuSans-108\"/>\r\n      <use x=\"315.023438\" xlink:href=\"#DejaVuSans-32\"/>\r\n      <use x=\"346.810547\" xlink:href=\"#DejaVuSans-67\"/>\r\n      <use x=\"416.634766\" xlink:href=\"#DejaVuSans-108\"/>\r\n      <use x=\"444.417969\" xlink:href=\"#DejaVuSans-97\"/>\r\n      <use x=\"505.697266\" xlink:href=\"#DejaVuSans-115\"/>\r\n      <use x=\"557.796875\" xlink:href=\"#DejaVuSans-115\"/>\r\n     </g>\r\n    </g>\r\n   </g>\r\n   <g id=\"text_7\">\r\n    <!-- 243 -->\r\n    <defs>\r\n     <path d=\"M 19.1875 8.296875 \r\nL 53.609375 8.296875 \r\nL 53.609375 0 \r\nL 7.328125 0 \r\nL 7.328125 8.296875 \r\nQ 12.9375 14.109375 22.625 23.890625 \r\nQ 32.328125 33.6875 34.8125 36.53125 \r\nQ 39.546875 41.84375 41.421875 45.53125 \r\nQ 43.3125 49.21875 43.3125 52.78125 \r\nQ 43.3125 58.59375 39.234375 62.25 \r\nQ 35.15625 65.921875 28.609375 65.921875 \r\nQ 23.96875 65.921875 18.8125 64.3125 \r\nQ 13.671875 62.703125 7.8125 59.421875 \r\nL 7.8125 69.390625 \r\nQ 13.765625 71.78125 18.9375 73 \r\nQ 24.125 74.21875 28.421875 74.21875 \r\nQ 39.75 74.21875 46.484375 68.546875 \r\nQ 53.21875 62.890625 53.21875 53.421875 \r\nQ 53.21875 48.921875 51.53125 44.890625 \r\nQ 49.859375 40.875 45.40625 35.40625 \r\nQ 44.1875 33.984375 37.640625 27.21875 \r\nQ 31.109375 20.453125 19.1875 8.296875 \r\nz\r\n\" id=\"DejaVuSans-50\"/>\r\n     <path d=\"M 37.796875 64.3125 \r\nL 12.890625 25.390625 \r\nL 37.796875 25.390625 \r\nz\r\nM 35.203125 72.90625 \r\nL 47.609375 72.90625 \r\nL 47.609375 25.390625 \r\nL 58.015625 25.390625 \r\nL 58.015625 17.1875 \r\nL 47.609375 17.1875 \r\nL 47.609375 0 \r\nL 37.796875 0 \r\nL 37.796875 17.1875 \r\nL 4.890625 17.1875 \r\nL 4.890625 26.703125 \r\nz\r\n\" id=\"DejaVuSans-52\"/>\r\n     <path d=\"M 40.578125 39.3125 \r\nQ 47.65625 37.796875 51.625 33 \r\nQ 55.609375 28.21875 55.609375 21.1875 \r\nQ 55.609375 10.40625 48.1875 4.484375 \r\nQ 40.765625 -1.421875 27.09375 -1.421875 \r\nQ 22.515625 -1.421875 17.65625 -0.515625 \r\nQ 12.796875 0.390625 7.625 2.203125 \r\nL 7.625 11.71875 \r\nQ 11.71875 9.328125 16.59375 8.109375 \r\nQ 21.484375 6.890625 26.8125 6.890625 \r\nQ 36.078125 6.890625 40.9375 10.546875 \r\nQ 45.796875 14.203125 45.796875 21.1875 \r\nQ 45.796875 27.640625 41.28125 31.265625 \r\nQ 36.765625 34.90625 28.71875 34.90625 \r\nL 20.21875 34.90625 \r\nL 20.21875 43.015625 \r\nL 29.109375 43.015625 \r\nQ 36.375 43.015625 40.234375 45.921875 \r\nQ 44.09375 48.828125 44.09375 54.296875 \r\nQ 44.09375 59.90625 40.109375 62.90625 \r\nQ 36.140625 65.921875 28.71875 65.921875 \r\nQ 24.65625 65.921875 20.015625 65.03125 \r\nQ 15.375 64.15625 9.8125 62.3125 \r\nL 9.8125 71.09375 \r\nQ 15.4375 72.65625 20.34375 73.4375 \r\nQ 25.25 74.21875 29.59375 74.21875 \r\nQ 40.828125 74.21875 47.359375 69.109375 \r\nQ 53.90625 64.015625 53.90625 55.328125 \r\nQ 53.90625 49.265625 50.4375 45.09375 \r\nQ 46.96875 40.921875 40.578125 39.3125 \r\nz\r\n\" id=\"DejaVuSans-51\"/>\r\n    </defs>\r\n    <g style=\"fill:#262626;\" transform=\"translate(94.9725 79.4375)scale(0.1 -0.1)\">\r\n     <use xlink:href=\"#DejaVuSans-50\"/>\r\n     <use x=\"63.623047\" xlink:href=\"#DejaVuSans-52\"/>\r\n     <use x=\"127.246094\" xlink:href=\"#DejaVuSans-51\"/>\r\n    </g>\r\n   </g>\r\n   <g id=\"text_8\">\r\n    <!-- 34 -->\r\n    <g style=\"fill:#ffffff;\" transform=\"translate(232.07375 79.4375)scale(0.1 -0.1)\">\r\n     <use xlink:href=\"#DejaVuSans-51\"/>\r\n     <use x=\"63.623047\" xlink:href=\"#DejaVuSans-52\"/>\r\n    </g>\r\n   </g>\r\n   <g id=\"text_9\">\r\n    <!-- 95 -->\r\n    <defs>\r\n     <path d=\"M 10.984375 1.515625 \r\nL 10.984375 10.5 \r\nQ 14.703125 8.734375 18.5 7.8125 \r\nQ 22.3125 6.890625 25.984375 6.890625 \r\nQ 35.75 6.890625 40.890625 13.453125 \r\nQ 46.046875 20.015625 46.78125 33.40625 \r\nQ 43.953125 29.203125 39.59375 26.953125 \r\nQ 35.25 24.703125 29.984375 24.703125 \r\nQ 19.046875 24.703125 12.671875 31.3125 \r\nQ 6.296875 37.9375 6.296875 49.421875 \r\nQ 6.296875 60.640625 12.9375 67.421875 \r\nQ 19.578125 74.21875 30.609375 74.21875 \r\nQ 43.265625 74.21875 49.921875 64.515625 \r\nQ 56.59375 54.828125 56.59375 36.375 \r\nQ 56.59375 19.140625 48.40625 8.859375 \r\nQ 40.234375 -1.421875 26.421875 -1.421875 \r\nQ 22.703125 -1.421875 18.890625 -0.6875 \r\nQ 15.09375 0.046875 10.984375 1.515625 \r\nz\r\nM 30.609375 32.421875 \r\nQ 37.25 32.421875 41.125 36.953125 \r\nQ 45.015625 41.5 45.015625 49.421875 \r\nQ 45.015625 57.28125 41.125 61.84375 \r\nQ 37.25 66.40625 30.609375 66.40625 \r\nQ 23.96875 66.40625 20.09375 61.84375 \r\nQ 16.21875 57.28125 16.21875 49.421875 \r\nQ 16.21875 41.5 20.09375 36.953125 \r\nQ 23.96875 32.421875 30.609375 32.421875 \r\nz\r\n\" id=\"DejaVuSans-57\"/>\r\n     <path d=\"M 10.796875 72.90625 \r\nL 49.515625 72.90625 \r\nL 49.515625 64.59375 \r\nL 19.828125 64.59375 \r\nL 19.828125 46.734375 \r\nQ 21.96875 47.46875 24.109375 47.828125 \r\nQ 26.265625 48.1875 28.421875 48.1875 \r\nQ 40.625 48.1875 47.75 41.5 \r\nQ 54.890625 34.8125 54.890625 23.390625 \r\nQ 54.890625 11.625 47.5625 5.09375 \r\nQ 40.234375 -1.421875 26.90625 -1.421875 \r\nQ 22.3125 -1.421875 17.546875 -0.640625 \r\nQ 12.796875 0.140625 7.71875 1.703125 \r\nL 7.71875 11.625 \r\nQ 12.109375 9.234375 16.796875 8.0625 \r\nQ 21.484375 6.890625 26.703125 6.890625 \r\nQ 35.15625 6.890625 40.078125 11.328125 \r\nQ 45.015625 15.765625 45.015625 23.390625 \r\nQ 45.015625 31 40.078125 35.4375 \r\nQ 35.15625 39.890625 26.703125 39.890625 \r\nQ 22.75 39.890625 18.8125 39.015625 \r\nQ 14.890625 38.140625 10.796875 36.28125 \r\nz\r\n\" id=\"DejaVuSans-53\"/>\r\n    </defs>\r\n    <g style=\"fill:#ffffff;\" transform=\"translate(98.15375 188.1575)scale(0.1 -0.1)\">\r\n     <use xlink:href=\"#DejaVuSans-57\"/>\r\n     <use x=\"63.623047\" xlink:href=\"#DejaVuSans-53\"/>\r\n    </g>\r\n   </g>\r\n   <g id=\"text_10\">\r\n    <!-- 128 -->\r\n    <defs>\r\n     <path d=\"M 12.40625 8.296875 \r\nL 28.515625 8.296875 \r\nL 28.515625 63.921875 \r\nL 10.984375 60.40625 \r\nL 10.984375 69.390625 \r\nL 28.421875 72.90625 \r\nL 38.28125 72.90625 \r\nL 38.28125 8.296875 \r\nL 54.390625 8.296875 \r\nL 54.390625 0 \r\nL 12.40625 0 \r\nz\r\n\" id=\"DejaVuSans-49\"/>\r\n     <path d=\"M 31.78125 34.625 \r\nQ 24.75 34.625 20.71875 30.859375 \r\nQ 16.703125 27.09375 16.703125 20.515625 \r\nQ 16.703125 13.921875 20.71875 10.15625 \r\nQ 24.75 6.390625 31.78125 6.390625 \r\nQ 38.8125 6.390625 42.859375 10.171875 \r\nQ 46.921875 13.96875 46.921875 20.515625 \r\nQ 46.921875 27.09375 42.890625 30.859375 \r\nQ 38.875 34.625 31.78125 34.625 \r\nz\r\nM 21.921875 38.8125 \r\nQ 15.578125 40.375 12.03125 44.71875 \r\nQ 8.5 49.078125 8.5 55.328125 \r\nQ 8.5 64.0625 14.71875 69.140625 \r\nQ 20.953125 74.21875 31.78125 74.21875 \r\nQ 42.671875 74.21875 48.875 69.140625 \r\nQ 55.078125 64.0625 55.078125 55.328125 \r\nQ 55.078125 49.078125 51.53125 44.71875 \r\nQ 48 40.375 41.703125 38.8125 \r\nQ 48.828125 37.15625 52.796875 32.3125 \r\nQ 56.78125 27.484375 56.78125 20.515625 \r\nQ 56.78125 9.90625 50.3125 4.234375 \r\nQ 43.84375 -1.421875 31.78125 -1.421875 \r\nQ 19.734375 -1.421875 13.25 4.234375 \r\nQ 6.78125 9.90625 6.78125 20.515625 \r\nQ 6.78125 27.484375 10.78125 32.3125 \r\nQ 14.796875 37.15625 21.921875 38.8125 \r\nz\r\nM 18.3125 54.390625 \r\nQ 18.3125 48.734375 21.84375 45.5625 \r\nQ 25.390625 42.390625 31.78125 42.390625 \r\nQ 38.140625 42.390625 41.71875 45.5625 \r\nQ 45.3125 48.734375 45.3125 54.390625 \r\nQ 45.3125 60.0625 41.71875 63.234375 \r\nQ 38.140625 66.40625 31.78125 66.40625 \r\nQ 25.390625 66.40625 21.84375 63.234375 \r\nQ 18.3125 60.0625 18.3125 54.390625 \r\nz\r\n\" id=\"DejaVuSans-56\"/>\r\n    </defs>\r\n    <g style=\"fill:#ffffff;\" transform=\"translate(228.8925 188.1575)scale(0.1 -0.1)\">\r\n     <use xlink:href=\"#DejaVuSans-49\"/>\r\n     <use x=\"63.623047\" xlink:href=\"#DejaVuSans-50\"/>\r\n     <use x=\"127.246094\" xlink:href=\"#DejaVuSans-56\"/>\r\n    </g>\r\n   </g>\r\n   <g id=\"text_11\">\r\n    <!-- Confusion Matrix -->\r\n    <defs>\r\n     <path d=\"M 30.609375 48.390625 \r\nQ 23.390625 48.390625 19.1875 42.75 \r\nQ 14.984375 37.109375 14.984375 27.296875 \r\nQ 14.984375 17.484375 19.15625 11.84375 \r\nQ 23.34375 6.203125 30.609375 6.203125 \r\nQ 37.796875 6.203125 41.984375 11.859375 \r\nQ 46.1875 17.53125 46.1875 27.296875 \r\nQ 46.1875 37.015625 41.984375 42.703125 \r\nQ 37.796875 48.390625 30.609375 48.390625 \r\nz\r\nM 30.609375 56 \r\nQ 42.328125 56 49.015625 48.375 \r\nQ 55.71875 40.765625 55.71875 27.296875 \r\nQ 55.71875 13.875 49.015625 6.21875 \r\nQ 42.328125 -1.421875 30.609375 -1.421875 \r\nQ 18.84375 -1.421875 12.171875 6.21875 \r\nQ 5.515625 13.875 5.515625 27.296875 \r\nQ 5.515625 40.765625 12.171875 48.375 \r\nQ 18.84375 56 30.609375 56 \r\nz\r\n\" id=\"DejaVuSans-111\"/>\r\n     <path d=\"M 54.890625 33.015625 \r\nL 54.890625 0 \r\nL 45.90625 0 \r\nL 45.90625 32.71875 \r\nQ 45.90625 40.484375 42.875 44.328125 \r\nQ 39.84375 48.1875 33.796875 48.1875 \r\nQ 26.515625 48.1875 22.3125 43.546875 \r\nQ 18.109375 38.921875 18.109375 30.90625 \r\nL 18.109375 0 \r\nL 9.078125 0 \r\nL 9.078125 54.6875 \r\nL 18.109375 54.6875 \r\nL 18.109375 46.1875 \r\nQ 21.34375 51.125 25.703125 53.5625 \r\nQ 30.078125 56 35.796875 56 \r\nQ 45.21875 56 50.046875 50.171875 \r\nQ 54.890625 44.34375 54.890625 33.015625 \r\nz\r\n\" id=\"DejaVuSans-110\"/>\r\n     <path d=\"M 37.109375 75.984375 \r\nL 37.109375 68.5 \r\nL 28.515625 68.5 \r\nQ 23.6875 68.5 21.796875 66.546875 \r\nQ 19.921875 64.59375 19.921875 59.515625 \r\nL 19.921875 54.6875 \r\nL 34.71875 54.6875 \r\nL 34.71875 47.703125 \r\nL 19.921875 47.703125 \r\nL 19.921875 0 \r\nL 10.890625 0 \r\nL 10.890625 47.703125 \r\nL 2.296875 47.703125 \r\nL 2.296875 54.6875 \r\nL 10.890625 54.6875 \r\nL 10.890625 58.5 \r\nQ 10.890625 67.625 15.140625 71.796875 \r\nQ 19.390625 75.984375 28.609375 75.984375 \r\nz\r\n\" id=\"DejaVuSans-102\"/>\r\n     <path d=\"M 9.8125 72.90625 \r\nL 24.515625 72.90625 \r\nL 43.109375 23.296875 \r\nL 61.8125 72.90625 \r\nL 76.515625 72.90625 \r\nL 76.515625 0 \r\nL 66.890625 0 \r\nL 66.890625 64.015625 \r\nL 48.09375 14.015625 \r\nL 38.1875 14.015625 \r\nL 19.390625 64.015625 \r\nL 19.390625 0 \r\nL 9.8125 0 \r\nz\r\n\" id=\"DejaVuSans-77\"/>\r\n     <path d=\"M 54.890625 54.6875 \r\nL 35.109375 28.078125 \r\nL 55.90625 0 \r\nL 45.3125 0 \r\nL 29.390625 21.484375 \r\nL 13.484375 0 \r\nL 2.875 0 \r\nL 24.125 28.609375 \r\nL 4.6875 54.6875 \r\nL 15.28125 54.6875 \r\nL 29.78125 35.203125 \r\nL 44.28125 54.6875 \r\nz\r\n\" id=\"DejaVuSans-120\"/>\r\n    </defs>\r\n    <g transform=\"translate(120.834375 16.318125)scale(0.12 -0.12)\">\r\n     <use xlink:href=\"#DejaVuSans-67\"/>\r\n     <use x=\"69.824219\" xlink:href=\"#DejaVuSans-111\"/>\r\n     <use x=\"131.005859\" xlink:href=\"#DejaVuSans-110\"/>\r\n     <use x=\"194.384766\" xlink:href=\"#DejaVuSans-102\"/>\r\n     <use x=\"229.589844\" xlink:href=\"#DejaVuSans-117\"/>\r\n     <use x=\"292.96875\" xlink:href=\"#DejaVuSans-115\"/>\r\n     <use x=\"345.068359\" xlink:href=\"#DejaVuSans-105\"/>\r\n     <use x=\"372.851562\" xlink:href=\"#DejaVuSans-111\"/>\r\n     <use x=\"434.033203\" xlink:href=\"#DejaVuSans-110\"/>\r\n     <use x=\"497.412109\" xlink:href=\"#DejaVuSans-32\"/>\r\n     <use x=\"529.199219\" xlink:href=\"#DejaVuSans-77\"/>\r\n     <use x=\"615.478516\" xlink:href=\"#DejaVuSans-97\"/>\r\n     <use x=\"676.757812\" xlink:href=\"#DejaVuSans-116\"/>\r\n     <use x=\"715.966797\" xlink:href=\"#DejaVuSans-114\"/>\r\n     <use x=\"757.080078\" xlink:href=\"#DejaVuSans-105\"/>\r\n     <use x=\"784.863281\" xlink:href=\"#DejaVuSans-120\"/>\r\n    </g>\r\n   </g>\r\n  </g>\r\n  <g id=\"axes_2\">\r\n   <g id=\"patch_3\">\r\n    <path clip-path=\"url(#p3b74612b5f)\" d=\"M 322.13625 239.758125 \r\nL 322.13625 238.90875 \r\nL 322.13625 23.1675 \r\nL 322.13625 22.318125 \r\nL 333.00825 22.318125 \r\nL 333.00825 23.1675 \r\nL 333.00825 238.90875 \r\nL 333.00825 239.758125 \r\nz\r\n\" style=\"fill:#ffffff;stroke:#ffffff;stroke-linejoin:miter;stroke-width:0.01;\"/>\r\n   </g>\r\n   <image height=\"217\" id=\"imagefc0a6bda1a\" transform=\"scale(1 -1)translate(0 -217)\" width=\"11\" x=\"322\" xlink:href=\"data:image/png;base64,\r\niVBORw0KGgoAAAANSUhEUgAAAAsAAADZCAYAAAD2WsoCAAAABHNCSVQICAgIfAhkiAAAAVJJREFUaIHV2kEOAjEMQ9GmDZfg/veEK/QtLKWsLcv5dToMovrz/a3LT1fVrXb1rn0vRmcQ14o5i/gIjVyMLTRyAw7JjM4woNHIVXSGs5V/ynHLgGtE+W3Aa6l2YwgNK/+1NNoNipHcFIiRGxBPcEj5Y62LOefQ9ZCFFTHRODHnIQPu69cDp0Hi2HaTeAgNiZGjcSQGHreIn6Rxr7YBc/dG/yAzck7RKHK+N159Ys6YWcRwKhbjFMWIFYmcRXygduaMma+1yRgbLruuIehgCTFGjoahu9aiMw6YikHOK9aN3RLDaDzoDDd0FzyBLMYSZ4sRHDAlpl97LAa81iQPhcTy+7N8Weva4pzLbOjE+eSO+0F0RoNijKBRtN3GOSa2u47Kf/+kH5PZYgyhMaNINGAuc8y5Sra7X6QRu76kG8Z5RjfW+UyIQf+ySN51QuPFAWFT/gJ8LSOCIrIBAAAAAElFTkSuQmCC\" y=\"-22\"/>\r\n   <g id=\"matplotlib.axis_3\"/>\r\n   <g id=\"matplotlib.axis_4\">\r\n    <g id=\"ytick_3\">\r\n     <g id=\"line2d_5\">\r\n      <defs>\r\n       <path d=\"M 0 0 \r\nL 3.5 0 \r\n\" id=\"mc40905ece3\" style=\"stroke:#000000;stroke-width:0.8;\"/>\r\n      </defs>\r\n      <g>\r\n       <use style=\"stroke:#000000;stroke-width:0.8;\" x=\"333.00825\" xlink:href=\"#mc40905ece3\" y=\"223.112001\"/>\r\n      </g>\r\n     </g>\r\n     <g id=\"text_12\">\r\n      <!-- 50 -->\r\n      <defs>\r\n       <path d=\"M 31.78125 66.40625 \r\nQ 24.171875 66.40625 20.328125 58.90625 \r\nQ 16.5 51.421875 16.5 36.375 \r\nQ 16.5 21.390625 20.328125 13.890625 \r\nQ 24.171875 6.390625 31.78125 6.390625 \r\nQ 39.453125 6.390625 43.28125 13.890625 \r\nQ 47.125 21.390625 47.125 36.375 \r\nQ 47.125 51.421875 43.28125 58.90625 \r\nQ 39.453125 66.40625 31.78125 66.40625 \r\nz\r\nM 31.78125 74.21875 \r\nQ 44.046875 74.21875 50.515625 64.515625 \r\nQ 56.984375 54.828125 56.984375 36.375 \r\nQ 56.984375 17.96875 50.515625 8.265625 \r\nQ 44.046875 -1.421875 31.78125 -1.421875 \r\nQ 19.53125 -1.421875 13.0625 8.265625 \r\nQ 6.59375 17.96875 6.59375 36.375 \r\nQ 6.59375 54.828125 13.0625 64.515625 \r\nQ 19.53125 74.21875 31.78125 74.21875 \r\nz\r\n\" id=\"DejaVuSans-48\"/>\r\n      </defs>\r\n      <g transform=\"translate(340.00825 226.911219)scale(0.1 -0.1)\">\r\n       <use xlink:href=\"#DejaVuSans-53\"/>\r\n       <use x=\"63.623047\" xlink:href=\"#DejaVuSans-48\"/>\r\n      </g>\r\n     </g>\r\n    </g>\r\n    <g id=\"ytick_4\">\r\n     <g id=\"line2d_6\">\r\n      <g>\r\n       <use style=\"stroke:#000000;stroke-width:0.8;\" x=\"333.00825\" xlink:href=\"#mc40905ece3\" y=\"197.102431\"/>\r\n      </g>\r\n     </g>\r\n     <g id=\"text_13\">\r\n      <!-- 75 -->\r\n      <defs>\r\n       <path d=\"M 8.203125 72.90625 \r\nL 55.078125 72.90625 \r\nL 55.078125 68.703125 \r\nL 28.609375 0 \r\nL 18.3125 0 \r\nL 43.21875 64.59375 \r\nL 8.203125 64.59375 \r\nz\r\n\" id=\"DejaVuSans-55\"/>\r\n      </defs>\r\n      <g transform=\"translate(340.00825 200.90165)scale(0.1 -0.1)\">\r\n       <use xlink:href=\"#DejaVuSans-55\"/>\r\n       <use x=\"63.623047\" xlink:href=\"#DejaVuSans-53\"/>\r\n      </g>\r\n     </g>\r\n    </g>\r\n    <g id=\"ytick_5\">\r\n     <g id=\"line2d_7\">\r\n      <g>\r\n       <use style=\"stroke:#000000;stroke-width:0.8;\" x=\"333.00825\" xlink:href=\"#mc40905ece3\" y=\"171.092862\"/>\r\n      </g>\r\n     </g>\r\n     <g id=\"text_14\">\r\n      <!-- 100 -->\r\n      <g transform=\"translate(340.00825 174.892081)scale(0.1 -0.1)\">\r\n       <use xlink:href=\"#DejaVuSans-49\"/>\r\n       <use x=\"63.623047\" xlink:href=\"#DejaVuSans-48\"/>\r\n       <use x=\"127.246094\" xlink:href=\"#DejaVuSans-48\"/>\r\n      </g>\r\n     </g>\r\n    </g>\r\n    <g id=\"ytick_6\">\r\n     <g id=\"line2d_8\">\r\n      <g>\r\n       <use style=\"stroke:#000000;stroke-width:0.8;\" x=\"333.00825\" xlink:href=\"#mc40905ece3\" y=\"145.083292\"/>\r\n      </g>\r\n     </g>\r\n     <g id=\"text_15\">\r\n      <!-- 125 -->\r\n      <g transform=\"translate(340.00825 148.882511)scale(0.1 -0.1)\">\r\n       <use xlink:href=\"#DejaVuSans-49\"/>\r\n       <use x=\"63.623047\" xlink:href=\"#DejaVuSans-50\"/>\r\n       <use x=\"127.246094\" xlink:href=\"#DejaVuSans-53\"/>\r\n      </g>\r\n     </g>\r\n    </g>\r\n    <g id=\"ytick_7\">\r\n     <g id=\"line2d_9\">\r\n      <g>\r\n       <use style=\"stroke:#000000;stroke-width:0.8;\" x=\"333.00825\" xlink:href=\"#mc40905ece3\" y=\"119.073723\"/>\r\n      </g>\r\n     </g>\r\n     <g id=\"text_16\">\r\n      <!-- 150 -->\r\n      <g transform=\"translate(340.00825 122.872942)scale(0.1 -0.1)\">\r\n       <use xlink:href=\"#DejaVuSans-49\"/>\r\n       <use x=\"63.623047\" xlink:href=\"#DejaVuSans-53\"/>\r\n       <use x=\"127.246094\" xlink:href=\"#DejaVuSans-48\"/>\r\n      </g>\r\n     </g>\r\n    </g>\r\n    <g id=\"ytick_8\">\r\n     <g id=\"line2d_10\">\r\n      <g>\r\n       <use style=\"stroke:#000000;stroke-width:0.8;\" x=\"333.00825\" xlink:href=\"#mc40905ece3\" y=\"93.064154\"/>\r\n      </g>\r\n     </g>\r\n     <g id=\"text_17\">\r\n      <!-- 175 -->\r\n      <g transform=\"translate(340.00825 96.863372)scale(0.1 -0.1)\">\r\n       <use xlink:href=\"#DejaVuSans-49\"/>\r\n       <use x=\"63.623047\" xlink:href=\"#DejaVuSans-55\"/>\r\n       <use x=\"127.246094\" xlink:href=\"#DejaVuSans-53\"/>\r\n      </g>\r\n     </g>\r\n    </g>\r\n    <g id=\"ytick_9\">\r\n     <g id=\"line2d_11\">\r\n      <g>\r\n       <use style=\"stroke:#000000;stroke-width:0.8;\" x=\"333.00825\" xlink:href=\"#mc40905ece3\" y=\"67.054584\"/>\r\n      </g>\r\n     </g>\r\n     <g id=\"text_18\">\r\n      <!-- 200 -->\r\n      <g transform=\"translate(340.00825 70.853803)scale(0.1 -0.1)\">\r\n       <use xlink:href=\"#DejaVuSans-50\"/>\r\n       <use x=\"63.623047\" xlink:href=\"#DejaVuSans-48\"/>\r\n       <use x=\"127.246094\" xlink:href=\"#DejaVuSans-48\"/>\r\n      </g>\r\n     </g>\r\n    </g>\r\n    <g id=\"ytick_10\">\r\n     <g id=\"line2d_12\">\r\n      <g>\r\n       <use style=\"stroke:#000000;stroke-width:0.8;\" x=\"333.00825\" xlink:href=\"#mc40905ece3\" y=\"41.045015\"/>\r\n      </g>\r\n     </g>\r\n     <g id=\"text_19\">\r\n      <!-- 225 -->\r\n      <g transform=\"translate(340.00825 44.844234)scale(0.1 -0.1)\">\r\n       <use xlink:href=\"#DejaVuSans-50\"/>\r\n       <use x=\"63.623047\" xlink:href=\"#DejaVuSans-50\"/>\r\n       <use x=\"127.246094\" xlink:href=\"#DejaVuSans-53\"/>\r\n      </g>\r\n     </g>\r\n    </g>\r\n   </g>\r\n   <g id=\"patch_4\">\r\n    <path d=\"M 322.13625 239.758125 \r\nL 322.13625 238.90875 \r\nL 322.13625 23.1675 \r\nL 322.13625 22.318125 \r\nL 333.00825 22.318125 \r\nL 333.00825 23.1675 \r\nL 333.00825 238.90875 \r\nL 333.00825 239.758125 \r\nz\r\n\" style=\"fill:none;\"/>\r\n   </g>\r\n  </g>\r\n </g>\r\n <defs>\r\n  <clipPath id=\"pabb01b48dc\">\r\n   <rect height=\"217.44\" width=\"267.84\" x=\"37.55625\" y=\"22.318125\"/>\r\n  </clipPath>\r\n  <clipPath id=\"p3b74612b5f\">\r\n   <rect height=\"217.44\" width=\"10.872\" x=\"322.13625\" y=\"22.318125\"/>\r\n  </clipPath>\r\n </defs>\r\n</svg>\r\n",
            "image/png": "[encoded data removed]"
          },
          "metadata": {
            "needs_background": "light"
          }
        },
        {
          "output_type": "stream",
          "name": "stdout",
          "text": [
            "Number of True Positives (TP):  243\nNumber of True Negatives (TN):  128\nNumber of False Positives (FP):  95\nNumber of False Negatives (FN):  34\n\nAccuracy: 74.2 %\nPrecision: 75.1 %\nRecall: 74.2 %\nF1 Score: 73.4 %\n"
          ]
        }
      ]
    },
    {
      "cell_type": "markdown",
      "metadata": {
        "id": "JKiXC0l79ECZ"
      },
      "source": [
        "<p> Let us interpret the above results obtained.\n",
        "<ul>\n",
        "    <li><b>Accuracy</b> is the fraction of predictions that our model got right. It is 74.2% here. </li>\n",
        "    <li><b>Precision</b> indicates the proportion of the instances that the model says was relevant, actually were relevant. It is 75.1% here. It says that 75.1% which were predicted as hate speech is actually hate speech.</li>  \n",
        "   <li><b>Recall</b> indicates the proportion of actually positive instances that are correctly predicted. It is 74.2% here. It says that of all the observations which truly consist of hate speech, we have correctly predicted 74.2% out of it.</li> \n",
        "    <li><b>F1 Score</b> considers both precision and recall. It is the harmonic mean (average) of the Precision and Recall. F1 Score is best if there is some sort of balance between Precision  and Recall in the system as above. The F1 Score for this model is 73.4% which is a reasonable value.</li>\n",
        "</ul>\n",
        "\n",
        "<br>The reason to the increment of FPs over FNs is that this data set consists of more number of \"YES\" labeled data than \"NO\" labeled data. According to the confusion matrix there are 129 errors (FP+FN). Those errors can be retrieved using the below function named <b>get_errors(test_X, test_y, predicted_y)</b>. </p>"
      ]
    },
    {
      "cell_type": "code",
      "metadata": {
        "id": "ueNw2bsI9ECZ",
        "outputId": "be562b68-93df-4952-d752-c6dae26ea860"
      },
      "source": [
        "get_errors(test_X=test_X_full, test_y=test_y_full, predicted_y=predicted_y_full)"
      ],
      "execution_count": 74,
      "outputs": [
        {
          "output_type": "stream",
          "name": "stdout",
          "text": [
            "1\nSentence: Meke inna moda ponna pakkuta tawama terenna aththa u kiyapu kathawa lether ballayak bat ekak allapu kisima ekek uta banne na\nActual Label: NO\nPredicted Label: YES\n\n\n2\nSentence: Ape rilawu tika okatath wade deyi\nActual Label: YES\nPredicted Label: NO\n\n\n3\nSentence: Badagini wela harak relata wal miti 225 kapala gihin dahalla atakota oya enaganna eka nawttaganiivi\nActual Label: YES\nPredicted Label: NO\n\n\n4\nSentence: අපි ඉල්ල වෙනස මල සින්දුකාරයි ඔබ අවධාන පිණිස\nActual Label: YES\nPredicted Label: NO\n\n\n5\nSentence: මෙ හිත ඉ මේ කර ලන්කා කි කාර්දේෂ වෙ වෙන්නැ අරු එක හරිය කුණුහරුප රැප න\nActual Label: YES\nPredicted Label: NO\n\n\n6\nSentence: Lankawe wage political majarayo innakam police quality eka wadi karanna baha\nActual Label: YES\nPredicted Label: NO\n\n\n7\nSentence: 4 simawata giya eka hatharak reka genimata noheki unaa\nActual Label: YES\nPredicted Label: NO\n\n\n8\nSentence: Mewa දාගෙන baik peddehekida ban හඳට යන්න වගේ nala පිරිසිදුව hitapallako oya මොකවත් kahanne ne\nActual Label: YES\nPredicted Label: NO\n\n\n9\nSentence: Ubala thama dawasakatat ganu p hina ithin mewata\nActual Label: NO\nPredicted Label: YES\n\n\n10\nSentence: රටෙ දේ විකුනං ක උ කඩෙ ය ර හැග නැ උ තව ඉන් කිය පෙන්නු ස්තූති දැ අප අායෙ ෆ ර වයිෆ ලැබෙ නේ\nActual Label: YES\nPredicted Label: NO\n\n\n11\nSentence: ම තම වෙල කර තියෙ හොද ද අපි තෝර දෙන්න අගමැ කිය ර කා පො රන කොහොම ආ\nActual Label: YES\nPredicted Label: NO\n\n\n12\nSentence: Thattayaa mokek daa uuu karikii karikii innee pissek wagee udauu karannee nathywaa mona pissek daa mandaa\nActual Label: YES\nPredicted Label: NO\n\n\n13\nSentence: විමල් ආදරණ සිරිසේ අ රා රි නට පිස්ස නිවැරදි සදහන්කර රා ර පුරා ඔබ නැවුම් තබ ව යාඝ පෙත්ත දිනාග\nActual Label: YES\nPredicted Label: NO\n\n\n14\nSentence: Lankawe un kapu beepu ewa ethanama rena unt a mewa hariyaida\nActual Label: YES\nPredicted Label: NO\n\n\n15\nSentence: patta Try eka SI kenekds koheda kohoma hari Tackle kara\nActual Label: YES\nPredicted Label: NO\n\n\n16\nSentence: තම්බිය සි0හල ගහද්දි නික හිටි\nActual Label: YES\nPredicted Label: NO\n\n\n17\nSentence: ම ග ඇ වැඩ නැ උන ඉඩ හිට වැදග දෙවලු නොකිය ව නෙවෙ\nActual Label: YES\nPredicted Label: NO\n\n\n18\nSentence: හෙ ඉද අයි අයි සැලැන්ඩර මල්ලි\nActual Label: YES\nPredicted Label: NO\n\n\n19\nSentence: Oyage thawakalika sathuta uparima winda ganna okata windawanna weddi daraganna bari wei\nActual Label: YES\nPredicted Label: NO\n\n\n20\nSentence: Huththa lokuda danne neeee\nActual Label: YES\nPredicted Label: NO\n\n\n21\nSentence: Vedio ekak karanna epa meka me widihata lassanai mn hoya hoya htye meka vedio ekak karala sinduwa knna epa plzzz\nActual Label: NO\nPredicted Label: YES\n\n\n22\nSentence: වැරැද් දූශිත දේශපාලක ආරාධ කර එ ඇත්ත ඉතිහාස කොහේ විදි විරෝධත්ව පෙන්න නැත්ත සදාචාර සමාජ ගැලපෙ නැතිනිස වයස මුහුකුර යනවැ කිය දැක් තැ හොර අල්ලගෙ තඩිබා එ නෙවෙ කලාකාරය තමන් නිර්මාණ තු විරෝධත්ව පෙන්නන ව දේශපාලකයන් අනුග රහ තියෙ සම්මා උලෙළ ප රතික්ෂේප කරන දිය සමාජ පෙනෙ රස්තියාද ගත දේශපාලන මට්ට අනුර මහින්ද අතර\nActual Label: YES\nPredicted Label: NO\n\n\n23\nSentence: දිලි ජයවීර දේශපාල ඩීල දා නෙමෙ දම්මි පෙරේර තත් ඉ\nActual Label: NO\nPredicted Label: YES\n\n\n24\nSentence: Yadamin benda vilangu la Mage putha regena yanna Idikatu weni engili thala Dethis wadaya pamunuwanna Aluth lowak gena sithima Danduwam dena warada nam Kumata erata adhikaranaya Neethiya saha vinisuran\nActual Label: YES\nPredicted Label: NO\n\n\n25\nSentence: වෙනස සැප පේනවන මෙි රටෙි නිත බල්ල ගිහ\nActual Label: YES\nPredicted Label: NO\n\n\n26\nSentence: ක රිකට ගහ ඉවරන ගෙදර වෙ ඉද බ බෙරි නොකර\nActual Label: YES\nPredicted Label: NO\n\n\n27\nSentence: දැ බැ බැ මේ පෝස්ට දැම් මේ පිලිවෙල මහින්ද කාල සිද්ධ උ ඒ අසංවේද උ මෝඩ උද්ධච්ඡ මිනිස්සුන් ඡන් ව පිහිට ලැබු වෙනස තියෙන්\nActual Label: YES\nPredicted Label: NO\n\n\n28\nSentence: 2015 පැරදිලා ගෙදර ගිය දවසෙ ඇයි සර් ගහල හරි ගත්තෙ නැත්තෙ කියල අහපු නූගත් මිනිස්සුන්ට ඔහු හා ඔහුගේ කසිප්පුකාර එතනෝල්කාර රැල වීරයින් වෙන්න පුඵළුන් ඒත් මේ රටේ ශිෂ්ට සම්පන්න මිනිසුනට තව දුරටත් ඔහු වීරයෙක් නෙමේ ගුඩ් බායි මහින්ද\nActual Label: YES\nPredicted Label: NO\n\n\n29\nSentence: තිය අ දෙන වැඩි අසර අ ඉන්න එ අයටන දෙ ඔි\nActual Label: YES\nPredicted Label: NO\n\n\n30\nSentence: Me gani baudayak nawe wan na ati aki ape hamudaruwonta mewage dayak kare\nActual Label: NO\nPredicted Label: YES\n\n\n31\nSentence: පාර්ලිමේන්ත විසුර හැරි පියාසර කිරි උත්සාහ කර සමනළ ශිුලං පොලිස වලක අවස්ථා\nActual Label: YES\nPredicted Label: NO\n\n\n32\nSentence: KISI PRASNAYA NAHE APE RATE SALLI THIYENAWA KABASINIYA KARANNA THAWA ONE THARAM\nActual Label: YES\nPredicted Label: NO\n\n\n33\nSentence: ආඩම්බර වෙල්ලස්ස කිව් ජාති වීර කිව් උ ඉ තැන ඉද අපි හෙ ගහ කියන ඇ හුඟා අ දකි නැත ඇ ගාන නැත ඇ\nActual Label: NO\nPredicted Label: YES\n\n\n34\nSentence: පොලිස්සි එව බද කිගදිවි පුහු ක එ සුද මහත්ත ස්තු\nActual Label: YES\nPredicted Label: NO\n\n\n35\nSentence: filty kiyanne mokekda guu punchekne mekath u wagema ui ara wili lajja nathi kaalakanni ganui ekathuwela karapu marketing ekak amana wadak ithing tharuuna paramparawai podi eunwai wanasanna hondai hiiiiiiiiiiiiii thiyaganin kotte yata laksha dahaya\nActual Label: YES\nPredicted Label: NO\n\n\n36\nSentence: ප සිද්දවෙ සිංහල කත කර ඉංග රීසි කත කර මෙයාල කතා අහ ඉ ලැජ්ජ\nActual Label: YES\nPredicted Label: NO\n\n\n37\nSentence: රට තර දේ තියන මාධ මිනුසුන් දැන කර වැඩ නැ අසභ විදිහ සමාජ සාරධර් කෙලස ගණිකා ජනප රියත්ව ලබ නොද ඔබ මාධ ප රයොජන දෙ යොදව\nActual Label: YES\nPredicted Label: NO\n\n\n38\nSentence: munva melokayata jataka karpu demaupiyange veradda putha\nActual Label: YES\nPredicted Label: NO\n\n\n39\nSentence: වැරැද් ක දඩ ගහ\nActual Label: NO\nPredicted Label: YES\n\n\n40\nSentence: ක දරුවො බ ම ගෑ ඉස්සරහ මිනිහ කිය සමනලයෙක්ල ගෑනි ඉන් ග ව ව\nActual Label: YES\nPredicted Label: NO\n\n\n41\nSentence: මැච දිනන්නැත්ත ගහ උන් බැරික පාල මණ්ඩල මො හිටි ලක විකට ග පුලු එ ගන් බැරි එ\nActual Label: NO\nPredicted Label: YES\n\n\n42\nSentence: මේ වෙනස නොවෙ පාතාල දේශපාලු නිර්මාණ කර ඇරෙ රට සාධාරණ සමාජ බි කිර උ උවමනා නැ කාලකන් ජාති\nActual Label: NO\nPredicted Label: YES\n\n\n43\nSentence: එක දෙමළ දේශපාලකයන් ආදරේ කරන්නේ ඊළමට වුනාට LTTE සාමාජිකයන් අන්න්තිමට රජයේ හමුදා නිළධාරීන්ට ආදරේකරන්න පුරුදු වුණා\nActual Label: NO\nPredicted Label: YES\n\n\n44\nSentence: And kohoma hari karanawanam onna niyama wadak\nActual Label: YES\nPredicted Label: NO\n\n\n45\nSentence: මටන හිතෙ මිනිහ ඇත්ත ඩයල එ කිය\nActual Label: NO\nPredicted Label: YES\n\n\n46\nSentence: මො කමෙන්ට කරන්න කිය හිත හිත බැරි තැ අතඇර දැම්ම\nActual Label: YES\nPredicted Label: NO\n\n\n47\nSentence: Mita goda kelakata kalin ada me una de NM perera mahaththya deka ahuwalu pissek Janadhipathi unoth mokada karanne kiyala E e wiwasthawa dekala\nActual Label: YES\nPredicted Label: NO\n\n\n48\nSentence: උ හම්බන්තො පාරෙ පාසල වෙලා පුංචි දරුව ය පාසල නැත ල විකුනන\nActual Label: YES\nPredicted Label: NO\n\n\n49\nSentence: දහ විකුර් කරන කිය අ දහ සූ ර වින ගලප බල දහ අවබෝධ තිබෙ කෙන පමන ගැලප ට හැකියා තිබෙ\nActual Label: NO\nPredicted Label: YES\n\n\n50\nSentence: Oita wada hinsa appa rata wanawa podi daruwo antha karanawa apra karayo koha baluwah ma gani matharamma sundara wasthuwakda balla giya ratak apa buddha cjiwaraya gana harima dukai\nActual Label: YES\nPredicted Label: NO\n\n\n51\nSentence: mudukku wala heduna awn thama me widiyata hesirenne kisima wili lejjawak nethi wesaganan wahinakota hena gahanna one munta lankawa winasa karanawata\nActual Label: NO\nPredicted Label: YES\n\n\n52\nSentence: මැච 25 ගහ සෙන්චරි ගැහ වැඩ තියෙන බ අපි වැටෙ අන්ති රෑක් වල වැට ඉවර ක රිකට මැච බල එ කලෙ උබල තම ක රිකට ගහද්දි උබ ප්ල කර මැච දින දේවි කිය විශ්වාස ත මැච බල කෝම බ\nActual Label: NO\nPredicted Label: YES\n\n\n53\nSentence: ලැජ්ජ රට පාලක විධි ගජබි කෙලිනඑකගැ\nActual Label: NO\nPredicted Label: YES\n\n\n54\nSentence: තැනක හොර ක ර මඩ වගුර කර ම හර ටි එකත වෙ\nActual Label: NO\nPredicted Label: YES\n\n\n55\nSentence: වීඩි හදාගෙ එව් ලී කරගෙ ජනප ර වෙ විදි දු වැඩ දැ සෙට එක දැක්ක අප්පිරි\nActual Label: YES\nPredicted Label: NO\n\n\n56\nSentence: Kiyanna kanagaatui ape lankawe mewage unanam mokakin mokak weida danne ne aa tharamatama gunayahapath kam adui\nActual Label: NO\nPredicted Label: YES\n\n\n57\nSentence: දවල් ෆිල්ම් වගයක් බාගෙන ගියා data package එකම ඉවරවෙලා දැන් හිටපන්කො ඉතින් පකයා වගේ මාසෙ ඉවරවෙනකල්\nActual Label: YES\nPredicted Label: NO\n\n\n58\nSentence: අපේ සල්ලි නාස්ති කරන්නේ මේ පර බල්ලෝ ලක්ෂ 45 ක් විතර යනවා එක වාරෙකට රැස් වෙන්න\nActual Label: YES\nPredicted Label: NO\n\n\n59\nSentence: අප පු ආඩම්බර තාත්ත දරු ගුරුවර ගෝලයි කොන්දොස්තර මගී දේශපාලක ඡන් දායක සිංහල මුස්ලි අ නොවෙ ගෙදර ඉ බල් පු ආඩම්බරක පෙන්ව ඉන් අප නොදිය භාව ඇ වෙ තියෙ\nActual Label: NO\nPredicted Label: YES\n\n\n60\nSentence: උන්ගේ ෆයිල් ඇද්දාම 77 88 89 94 කාලේ බඩ යයි ඕකුට ඒ නිසා අරුන්ගේ ෆයිල් අදින්නෙත් නෑ ගොබ්බ මිනිස්සු අන්ද අන්ද ඉන්නවා\nActual Label: NO\nPredicted Label: YES\n\n\n61\nSentence: Ammata siri wei mu nikanuth gahana ekee saamaanya minissu baageta marai mun\nActual Label: NO\nPredicted Label: YES\n\n\n62\nSentence: Thambiyelta kiyala hukaganna kiyahan keri wesita\nActual Label: YES\nPredicted Label: NO\n\n\n63\nSentence: Ara Police lokkath rugby gahapu ekek mama hithanne\nActual Label: YES\nPredicted Label: NO\n\n\n64\nSentence: මෙ දකි වාර ම නෙතට කදුල උන ම පුත ට මේවැනි හැගි ඇ න කිය ප සෙනෙහස සෙව් ඔවුන් අනගත සරිකරල දුර රට ගෙව කටු ජිවිත\nActual Label: YES\nPredicted Label: NO\n\n\n65\nSentence: muth kata arinne anik unta witharai jathiyata agamata sadda na endiyawata koti ganan denawa ahinsakayant ape rate unta mukuth na\nActual Label: YES\nPredicted Label: NO\n\n\n66\nSentence: තට්ට ගාගෙ ෆුල ශේ කර හ මාම හිටපන්ක පක නොව\nActual Label: YES\nPredicted Label: NO\n\n\n67\nSentence: ඇද ඇදග ය අපි ලැජ ම ව නිල ඒ\nActual Label: YES\nPredicted Label: NO\n\n\n68\nSentence: හොද වැඩ ප දේශපාල පක ද ආරාද කර හො මේ හො වැඩ\nActual Label: YES\nPredicted Label: NO\n\n\n69\nSentence: Lankawe inna samahara pirimi napunsakayo ara manussayata wahane dora arala dennawat kenek enne ne mun pirimida ane e manussaya veerayek attatama\nActual Label: YES\nPredicted Label: NO\n\n\n70\nSentence: දර්ම සැකව සො බ ස කුමක් ය තම අවබෝ කරග බුදුරජාණන්වහන්සේ දේශනා කි තම ඉදිරිප කරන්නාව පිරි දේශ වෙ නිර්වාන වස තම ලාබ ප රයෝජ ත වැඩකරන්නාව අදු ග පු පුජ ක ර තු නිවන ඇත්ත සසර දිග කරගන් මග පම එ නොපමා කුසල නිර්වාන සාක්ශා කරගනි ම හට අවබෝද මොල ඇත්තව තෙර ගත යුතු දර්ම කුමක් ය කි\nActual Label: NO\nPredicted Label: YES\n\n\n71\nSentence: බැලුවහ ම මොඩයිනෙ අම්මප පොඩ්ඩ ඉස්සරහ කර නැවැත්තුවන හැමො පහසුනෙ මේ අගයකර දාපුඑ පිස්සේ සමන මිනිහේක්නොවෙ\nActual Label: YES\nPredicted Label: NO\n\n\n72\nSentence: Amu wesiyak\nActual Label: YES\nPredicted Label: NO\n\n\n73\nSentence: balamu mekawath hariyata thiya ganida kiyala badulle train eke toilat eken eleyata patta chu gadai\nActual Label: YES\nPredicted Label: NO\n\n\n74\nSentence: බල මිනිස්ස අප ද දක්ව ගෞර ඒ අප කල සුද්ද ත\nActual Label: YES\nPredicted Label: NO\n\n\n75\nSentence: Okama matath wela thiyenawa amma kenekuta sheet ekak aran denna gihin Wadak naha lankawe inne fb weerayo tikak Haba lokedi unge jeevithath kunu godawal\nActual Label: NO\nPredicted Label: YES\n\n\n76\nSentence: මුන්ට අම්ම තාත්ත කිය ජාති හිටි න ඉ ඇත්ත අම්ම තාත්ත වෙ ම කොහ පිටකොටු කොහ මුඩුක්කු හො ගත්ත එව ටි වෙ ඕන ලැජ්ජා තිය මිනිහෙක් පුලු දේ බල ඉ මේක මො කුනුහරුප වැඩ\nActual Label: YES\nPredicted Label: NO\n\n\n77\nSentence: ම මෙ කව් ද උත්සව දේශපාල ම හර එ ඔන ම මිනිස්ස පේ ර ක\nActual Label: YES\nPredicted Label: NO\n\n\n78\nSentence: මෙල රහ නැ උ ඉ ටව එ\nActual Label: YES\nPredicted Label: NO\n\n\n79\nSentence: Ol ලියලා පස් වෙලා තව අවුරුදු දෙකක් AL කරලා විබාගෙ චොර කරගෙන කාලකන්නි වෙනවට වඩා හොදයි එක පාරින්ම ol ෆේල් වෙලා ඒ අවුරුදු දෙක කොස් එකක් වත් කරලා ගොඩයන එක ol ලියන ඔක්කොම උන් ෆේල් වෙයන් උන් ජීවිතෙ හදාගන්නවා වැරදුන හින්දා\nActual Label: YES\nPredicted Label: NO\n\n\n80\nSentence: අපෙ ර ජාත අාග මොන වෙ මෙහෙ ගියො\nActual Label: NO\nPredicted Label: YES\n\n\n81\nSentence: Denaie monga Modachun wadie Anawashya dayak mun ma karuwa aka Mach akak denala moun porawala wala\nActual Label: NO\nPredicted Label: YES\n\n\n82\nSentence: ඉරාජ් උඹට views ගන්නම ඕනේ නම් උබේ අම්මා එක්ක යහන්ගතවෙලා ඒකේ වීඩියෝ එක noize tv එකට දාපන් youtube channel එකක් promote කරන්න ඕන නිසා කුණු මාකට් කරන්න එපා මිනිහෝ Podda කරපු සමාජේ vlogs RapCity වගේ programme නම් හොඳයි මේ වගේ news නම් අප්පිරියයි\nActual Label: YES\nPredicted Label: NO\n\n\n83\nSentence: Kauru mona widiyata dakkath meka ahagena innakota me palida sinhalada kiyala hithen na hithata pudumakara sahalluwak danenawa aththatama\nActual Label: NO\nPredicted Label: YES\n\n\n84\nSentence: අනේ මුන්ගෙ බොරු මාර්කටින් වලට අහු වෙන ගොබ්බයො සෙට් එහෙකුත් ඉන්නවනේ එනිවේ Iraj අයියා Buggatiයක් වත් බස්සයි ලගදිම\nActual Label: YES\nPredicted Label: NO\n\n\n85\nSentence: අතුර තහන නියෝග නඩ විභාග කර ලබ දෙ තීන්දු ඔබ හ හතර නොද දර කි දෙ\nActual Label: YES\nPredicted Label: NO\n\n\n86\nSentence: කමන්ට එ කිය කියල ද දෙ කිය ලංකා කිය සංස්කෘති උත රට වෙස ග මිනිස්ස ඉ එ පුදුම දු කරදර ආ නම්බ රැකග මව්වර පියවර ජී වෙච්ච සමාජ මුදල අලෙවි මහ පහ ජාති ගෑණ කොටස ඒ පස්ස ය පිරි කොටස රට කතාබහ ලක්වෙ දේ දහස ගණ තියෙ පහ දේ ට රෙන්ඩ කර මාධ කොටස බ ලංකා මෙහ එ එන්න විනාශ වෙ අප දරු හද අනාගත ටි හිත බ\nActual Label: YES\nPredicted Label: NO\n\n\n87\nSentence: Okkoma dunna mudal yodawala niwasak nithi ahinsakayeakuta dunnanam hari neada Rs 100 ada monawada karanna puluwan meawanam vikara moda wada\nActual Label: YES\nPredicted Label: NO\n\n\n88\nSentence: නොතිබුණු ප් රශ්නයක් ඇති කර රටෙහි උත්තරීතර ආයතනය ගිනි මඩුවක් කල පුද්ගලයා අද TV එකෙන් මෙවා බලමින් සතුටු වෙනවා ඇති\nActual Label: YES\nPredicted Label: NO\n\n\n89\nSentence: කල දවස කිව මතක අලු වැඩ හම්බ කිය ඒ තම ම රගපෑ ඉරාජ් පට් මාකට\nActual Label: YES\nPredicted Label: NO\n\n\n90\nSentence: හසි ගිහ දීල ගෙඩි ව සයිස එ\nActual Label: YES\nPredicted Label: NO\n\n\n91\nSentence: අප බුකිපා මහත මග පෙන්ව ව ර විදේශ යෝජන සුද වියාපාර කර\nActual Label: YES\nPredicted Label: NO\n\n\n92\nSentence: කැ ත අර ග ඉස්සරහ ගිහ හෙ වලියක්ල දැ\nActual Label: NO\nPredicted Label: YES\n\n\n93\nSentence: වේසියෙකු අවජාතකයකු මැ පොන්න දෙ ආතල\nActual Label: YES\nPredicted Label: NO\n\n\n94\nSentence: Oya hiru kiyana ponna chenal eka thama mukuth danne nethuwa ohe harak wage kiyaeanne\nActual Label: NO\nPredicted Label: YES\n\n\n95\nSentence: Oi cricket board ekata betting walin ena salli enne nane Hama foreign tour ekakatama salli hambenawa loku ganak Ekane ape ewunwa Tour yawwe palenakan Lankawe tour ekak thibunama tickets walin arawain mewain ena salli enawa\nActual Label: NO\nPredicted Label: YES\n\n\n96\nSentence: ankawe kalakanni ekka oka adugane awruddakwat oya widiyatama thibboth hodai\nActual Label: YES\nPredicted Label: NO\n\n\n97\nSentence: සුද කොඩ ග ගා එල්ල ඉ දෙ අත සුද සින්දු ගහ ඕ බැ\nActual Label: NO\nPredicted Label: YES\n\n\n98\nSentence: Aknali goda maruna aka gana api sathutu wenawa\nActual Label: YES\nPredicted Label: NO\n\n\n99\nSentence: එඩිට පිස්ස\nActual Label: NO\nPredicted Label: YES\n\n\n100\nSentence: ජන්ද කාලෙ හොදයින දැ ඉදල මිනිස්ස අං තට්ට දුන්නා\nActual Label: YES\nPredicted Label: NO\n\n\n101\nSentence: anushage katata denna thibanm\nActual Label: YES\nPredicted Label: NO\n\n\n102\nSentence: උන හිරුස්ටාර එ මේයා පජාත වෙන සිංද කිය එ කරගෙ ඉ කියහ විනිශ මණ්ඩල ට ඇවි වච පටල ගො කත නොකි බලන්බ අප්පිරි\nActual Label: NO\nPredicted Label: YES\n\n\n103\nSentence: ම ඔක්කො ර ක අප බද ග සල්ලි\nActual Label: YES\nPredicted Label: NO\n\n\n104\nSentence: මේකප ගිය ඔක යක් බොලව\nActual Label: YES\nPredicted Label: NO\n\n\n105\nSentence: ලංකා ඉන්දිය කොලනි රට නැති කොහොම ඉන්දිය බයි ඇ\nActual Label: YES\nPredicted Label: NO\n\n\n106\nSentence: Oshadhi adui Hama gahapu issek wage\nActual Label: YES\nPredicted Label: NO\n\n\n107\nSentence: පොලිස්ස තාම කැ හැලි තරැ කොල්ලො ජීවිත වන්දි ගෙව වෙ නා පප්ප බුලත්විට කාගෙ අඩි දහ ද ග බැරි\nActual Label: YES\nPredicted Label: NO\n\n\n108\nSentence: Parliment eka විසුරුවා janathawatama oka bara dunna eka hodai mokada parliment eke inna horu relamani thoranne eka e minissunta nodee ජනමතයට ida dunna eka hodai kiyala hithnawa\nActual Label: YES\nPredicted Label: NO\n\n\n109\nSentence: Tigae miha marapuuna hiyanna amruwak na katin kiyapu wacanata uda painawa ubda kada hari dittadamna wadaniya karumae padisan danawamai budu ciwarayanata nigaru kirimata\nActual Label: YES\nPredicted Label: NO\n\n\n110\nSentence: ලංකාවෙි දේශපාලනය හැම වැඩකටම සමිබන්ධ කර ගන්න හොද නෑ ප් රවීන කලාකාරයෙක් අතින් ඔය සමිමානය දුන්නනමි වටිනව කොහොම උනත් ලංකාවෙි දෙශපාලකයින් ගැන කල කිරී සිටින අවධියක පාර්ලිමෙින්තුවෙි සිටින 225 ජනතාව විසින් ඔය විදිහට ප් රතික් ේෂ්ප කරානමි හොදයි\nActual Label: YES\nPredicted Label: NO\n\n\n111\nSentence: ලංකාවේ වැඩියෙන්ම නිල නොවන වීඩියෝ හැදුනු සිංදුව වෙන්න ඇති මේක අන්තිමට official එකත් ආවා එල\nActual Label: NO\nPredicted Label: YES\n\n\n112\nSentence: සරාග ගැහැන නිද සියල පිරි කැමත දීග ය ගෞරව රැකග ගැහැන පමනය\nActual Label: YES\nPredicted Label: NO\n\n\n113\nSentence: පනපිට අපා ප කොටිදෙ\nActual Label: YES\nPredicted Label: NO\n\n\n114\nSentence: Mahinda 2015 di me damiyawa genapu eken therum ganna godak dewal thiyanawa Mahinda hithana inne rate minissu okkama amu gonnu kiyala\nActual Label: YES\nPredicted Label: NO\n\n\n115\nSentence: Yko meka magulkda pita rata wthe ohoma na ape lankawe minisu godake wenase\nActual Label: YES\nPredicted Label: NO\n\n\n116\nSentence: kisi quality ekak nathi apatayek\nActual Label: YES\nPredicted Label: NO\n\n\n117\nSentence: Ape rate enne doctors lata gahala maranna hadana campus lamaei ne ethin Ape rata ta mehema wasanawak kohen da\nActual Label: YES\nPredicted Label: NO\n\n\n118\nSentence: වැඩේනම් හොඳයි මොකද මේ අපි පත් කරපු ජනපති නෙවෙයි ඒත් රනිල් 2015 දි 42ක් ආසන තියාගෙන අගමැති කරද්දි ජන්ද කල් දාද්දි 58ක් ඉන්න SLFP ekata විපක්ෂ නායකකම නොදී 16 ක් ඉන්න TNA එකට විපක්ෂ නායකකම දෙද්දි මෙතුමගෙ කොන්ද කොහෙද දන්නෙ නෑ තිබුණෙ\nActual Label: YES\nPredicted Label: NO\n\n\n119\nSentence: Ara miniha oxygen nethuwa merenne\nActual Label: YES\nPredicted Label: NO\n\n\n120\nSentence: ඔය කාරනය හරියට විග් රහ කරන්න ඩුප්ලිකේට් මහමෙව්නාවේ ඩුප්ලිකේට් කල් යාණ මිතුරන්ට පුලුවන් නම් දිව් ය ලෝක promote කරයි ද\nActual Label: YES\nPredicted Label: NO\n\n\n121\nSentence: ග ඇන්ප කාරයි රෙවෙ දැ නිය ජ මත එලි එ ඒ තමයිවෙ පාර්ලිමේන්ත සල්ලි මල වල ඔලුගෙඩි එහෙමෙහ කර ග ප රජාතන් රවාද නිය ජනත තින්ද දැ බලාග පුලුව්\nActual Label: YES\nPredicted Label: NO\n\n\n122\nSentence: kuhaka jathiyata kawadawath hoda de denna ba un wenasa karala danawa owa\nActual Label: YES\nPredicted Label: NO\n\n\n123\nSentence: Api udara rataka sheshta ithihasayak athi namuth dan harak ralakin palanaya wana kala kanni jathiyak wemu nathida mekata wisadumak ek wanta apita singha la rataka Buddagama rakena eth anith jathin raka gena sri lankan tamil sri lankan muslim wela loketa shakthimath jathiyak lesain naya nathi heta ipadena Daruwan wenuwen wath Enna nagitinna sihalune pera lesin elawamu munwa rathu kola nil paseka la raka gamu mau bima\nActual Label: YES\nPredicted Label: NO\n\n\n124\nSentence: ඒ ලස්සන සින්දුවට කාලකන්නි Video එකක් ගහලා ඒක කන්න නං එපා\nActual Label: YES\nPredicted Label: NO\n\n\n125\nSentence: Meki lankawe janadi pathinitakda budu dahama winasa karana hethiriyak ne\nActual Label: YES\nPredicted Label: NO\n\n\n126\nSentence: අපි එ තුන්දෙනා දැක්කා දා ය හිතුන මච අපි දන් විද දු උ තුන්දෙ ඉ සතු දැක්කා ලෝ කුසලාන දිනුවා\nActual Label: NO\nPredicted Label: YES\n\n\n127\nSentence: Hena gahanna oni Rata Kan ewnta\nActual Label: NO\nPredicted Label: YES\n\n\n128\nSentence: Tope anduwa tiyana an hodai\nActual Label: YES\nPredicted Label: NO\n\n\n129\nSentence: Suddage athe ruger ball ekak thibbanam maru\nActual Label: YES\nPredicted Label: NO\n\n\n"
          ]
        }
      ]
    },
    {
      "cell_type": "markdown",
      "metadata": {
        "id": "8Y35U7bO9ECa"
      },
      "source": [
        "<p>Let us find the important and least important words from the model.</p>"
      ]
    },
    {
      "cell_type": "code",
      "metadata": {
        "id": "jW7WpDYN9ECa"
      },
      "source": [
        "log_reg_coeff_top_full, log_reg_coeff_bottom_full = find_important_words(feature_names=feature_names_full,\n",
        "                                                                         log_reg_model=logistic_regression_model_full)"
      ],
      "execution_count": 75,
      "outputs": []
    },
    {
      "cell_type": "code",
      "metadata": {
        "id": "GAwErQ5o9ECa",
        "outputId": "4a60cbe2-ca54-42d6-82e6-ca5cb258b5f8"
      },
      "source": [
        "log_reg_coeff_top_full"
      ],
      "execution_count": 76,
      "outputs": [
        {
          "output_type": "execute_result",
          "data": {
            "text/plain": [
              "      feature_names  model_coefficient\n",
              "8085            පක්           1.987099\n",
              "7027          තම්බි           1.871328\n",
              "10690           වේස           1.692751\n",
              "9389         මුස්ලි           1.647455\n",
              "6079         කාලකන්           1.582271\n",
              "11564         හුත්ත           1.399370\n",
              "8086          පක්කු           1.362187\n",
              "8495             පු           1.340992\n",
              "9134             මර           1.284097\n",
              "3319          ponna           1.266556"
            ],
            "text/html": "<div>\n<style scoped>\n    .dataframe tbody tr th:only-of-type {\n        vertical-align: middle;\n    }\n\n    .dataframe tbody tr th {\n        vertical-align: top;\n    }\n\n    .dataframe thead th {\n        text-align: right;\n    }\n</style>\n<table border=\"1\" class=\"dataframe\">\n  <thead>\n    <tr style=\"text-align: right;\">\n      <th></th>\n      <th>feature_names</th>\n      <th>model_coefficient</th>\n    </tr>\n  </thead>\n  <tbody>\n    <tr>\n      <th>8085</th>\n      <td>පක්</td>\n      <td>1.987099</td>\n    </tr>\n    <tr>\n      <th>7027</th>\n      <td>තම්බි</td>\n      <td>1.871328</td>\n    </tr>\n    <tr>\n      <th>10690</th>\n      <td>වේස</td>\n      <td>1.692751</td>\n    </tr>\n    <tr>\n      <th>9389</th>\n      <td>මුස්ලි</td>\n      <td>1.647455</td>\n    </tr>\n    <tr>\n      <th>6079</th>\n      <td>කාලකන්</td>\n      <td>1.582271</td>\n    </tr>\n    <tr>\n      <th>11564</th>\n      <td>හුත්ත</td>\n      <td>1.399370</td>\n    </tr>\n    <tr>\n      <th>8086</th>\n      <td>පක්කු</td>\n      <td>1.362187</td>\n    </tr>\n    <tr>\n      <th>8495</th>\n      <td>පු</td>\n      <td>1.340992</td>\n    </tr>\n    <tr>\n      <th>9134</th>\n      <td>මර</td>\n      <td>1.284097</td>\n    </tr>\n    <tr>\n      <th>3319</th>\n      <td>ponna</td>\n      <td>1.266556</td>\n    </tr>\n  </tbody>\n</table>\n</div>"
          },
          "metadata": {},
          "execution_count": 76
        }
      ]
    },
    {
      "cell_type": "markdown",
      "metadata": {
        "id": "W3UgExaG9ECb"
      },
      "source": [
        "<p>As you can see above tokens have high coefficient values. Thus those are important tokens that has a high influence in hate speech.</p>"
      ]
    },
    {
      "cell_type": "code",
      "metadata": {
        "id": "LJg7EA6g9ECb",
        "outputId": "a95851cb-f7f0-4876-841b-c7c11ec3359e"
      },
      "source": [
        "log_reg_coeff_bottom_full"
      ],
      "execution_count": 77,
      "outputs": [
        {
          "output_type": "execute_result",
          "data": {
            "text/plain": [
              "      feature_names  model_coefficient\n",
              "1480          godak          -0.836855\n",
              "8102            පට්          -0.847782\n",
              "10888            සර          -0.861128\n",
              "7499          දුන්න          -0.866911\n",
              "2776          nadda          -0.867140\n",
              "2920           nisa          -0.882748\n",
              "6800              ජ          -0.888539\n",
              "7869            නිත          -0.939338\n",
              "4847             අහ          -0.966940\n",
              "1710           hoda          -1.127565"
            ],
            "text/html": "<div>\n<style scoped>\n    .dataframe tbody tr th:only-of-type {\n        vertical-align: middle;\n    }\n\n    .dataframe tbody tr th {\n        vertical-align: top;\n    }\n\n    .dataframe thead th {\n        text-align: right;\n    }\n</style>\n<table border=\"1\" class=\"dataframe\">\n  <thead>\n    <tr style=\"text-align: right;\">\n      <th></th>\n      <th>feature_names</th>\n      <th>model_coefficient</th>\n    </tr>\n  </thead>\n  <tbody>\n    <tr>\n      <th>1480</th>\n      <td>godak</td>\n      <td>-0.836855</td>\n    </tr>\n    <tr>\n      <th>8102</th>\n      <td>පට්</td>\n      <td>-0.847782</td>\n    </tr>\n    <tr>\n      <th>10888</th>\n      <td>සර</td>\n      <td>-0.861128</td>\n    </tr>\n    <tr>\n      <th>7499</th>\n      <td>දුන්න</td>\n      <td>-0.866911</td>\n    </tr>\n    <tr>\n      <th>2776</th>\n      <td>nadda</td>\n      <td>-0.867140</td>\n    </tr>\n    <tr>\n      <th>2920</th>\n      <td>nisa</td>\n      <td>-0.882748</td>\n    </tr>\n    <tr>\n      <th>6800</th>\n      <td>ජ</td>\n      <td>-0.888539</td>\n    </tr>\n    <tr>\n      <th>7869</th>\n      <td>නිත</td>\n      <td>-0.939338</td>\n    </tr>\n    <tr>\n      <th>4847</th>\n      <td>අහ</td>\n      <td>-0.966940</td>\n    </tr>\n    <tr>\n      <th>1710</th>\n      <td>hoda</td>\n      <td>-1.127565</td>\n    </tr>\n  </tbody>\n</table>\n</div>"
          },
          "metadata": {},
          "execution_count": 77
        }
      ]
    },
    {
      "cell_type": "markdown",
      "metadata": {
        "id": "AX1SpTuT9ECb"
      },
      "source": [
        "<p>As you can see above tokens have low coefficient values. Thus those are least important tokens that has a low influence in hate speech.</p>"
      ]
    },
    {
      "cell_type": "markdown",
      "metadata": {
        "id": "cGJNgJag9ECb"
      },
      "source": [
        "#### d.6. Comparing the results with (c) and deciding whether to process these two data sets together or separately in future steps."
      ]
    },
    {
      "cell_type": "markdown",
      "metadata": {
        "id": "mpZtYWYm9ECc"
      },
      "source": [
        "<p>In Answer (c) the two datasets were processed seperately as Sinhala (Model A) and Singlish (Model B) and in Answer (d) the datasets were merged and processed together (Model C). Following is a summary of performance measures of the above 3 models.<p>"
      ]
    },
    {
      "cell_type": "markdown",
      "metadata": {
        "id": "6ZbZb9wq9ECd"
      },
      "source": [
        "<table align=\"left\">\n",
        "  <tr>\n",
        "    <th></th>\n",
        "    <th>Model A</th>\n",
        "    <th>Model B</th>\n",
        "    <th>Model C</th>\n",
        "  </tr>\n",
        "  <tr>\n",
        "    <td>Accuracy</td>\n",
        "    <td>74.9 %</td>\n",
        "    <td>68.89 %</td>\n",
        "    <td>74.2 %</td>\n",
        "  </tr>\n",
        "  <tr>\n",
        "    <td>Precision</td>\n",
        "    <td>75.3 %</td>\n",
        "    <td>68.4 %</td>\n",
        "    <td>75.1 %</td>\n",
        "  </tr>\n",
        "  <tr>\n",
        "    <td>Recall</td>\n",
        "    <td>74.9 %</td>\n",
        "    <td>68.89 %</td>\n",
        "    <td>74.2 %</td>\n",
        "  </tr>\n",
        "  <tr>\n",
        "    <td>F1 Score</td>\n",
        "    <td>74.7 %</td>\n",
        "    <td>67.2 %</td>\n",
        "    <td>73.4 %</td>\n",
        "  </tr>\n",
        "</table>"
      ]
    },
    {
      "cell_type": "markdown",
      "metadata": {
        "id": "gGmdfluQ9ECd"
      },
      "source": [
        "<p>When looking at all the performance measures of all the models, Model A is the best. But Model C has performed almost similar to Model A. Thus, <b>improving the Model C would be more advantageous</b> because it will consider both datasets together, and increasing the preformance of this model will be a benifit to both Sinhala and Singlish datasets.</p>"
      ]
    },
    {
      "cell_type": "markdown",
      "metadata": {
        "id": "cnkNrZJl9ECd"
      },
      "source": [
        "### Answer (e)\n",
        "\n",
        "Answer for question (e) will be discussed under the below sections as \n",
        "<ol>\n",
        "    <li>Getting TF-IDF features for Full Dataset (Sinhala and Singlish)</li>\n",
        "    <li>Apply Logistic Regression with Cross Validation for Full Dataset (Sinhala and Singlish) with TF-IDF features</li> \n",
        "    <li>Apply Logistic Regression without Cross Validation for Full Dataset (Sinhala and Singlish) with TF-IDF features</li>\n",
        " </ol>\n",
        " \n",
        " <p>From this section the <b>Full Dataset</b> will be considered.</p>"
      ]
    },
    {
      "cell_type": "markdown",
      "metadata": {
        "id": "RURhOfsp9ECd"
      },
      "source": [
        "#### e.1. Getting TF-IDF features for Full Dataset (Sinhala and Singlish)"
      ]
    },
    {
      "cell_type": "markdown",
      "metadata": {
        "id": "fJqSmu7q9ECd"
      },
      "source": [
        "<p>The tfidf representation can be created using the <b>TfidfVectorizer</b> in scikit-learn. The following function named  <b>get_tfidf_features(data, ngram_range=(1,1))</b> has the ability to generate tfidf features when a particular dataset has fed as an argument (optionally the n-gram range can be fed which will be discussed in question (f)). The comments in the function describe each line of the code below.</p>"
      ]
    },
    {
      "cell_type": "code",
      "metadata": {
        "id": "aFlngeo_9ECe"
      },
      "source": [
        "from sklearn.feature_extraction.text import TfidfVectorizer\n",
        "\n",
        "# Define a function to get tfidf features when dataset is passed\n",
        "# Here, the ngram_range is set to (1,1) by default because TfidfVectorizer will also have this value as default\n",
        "# unless we change it. This value will be changed in question (f)\n",
        "def get_tfidf_features(data, ngram_range=(1,1), stop_words='english'):\n",
        "    \n",
        "    # Convert the list of lists (tokenized sentences) to list of strings by joining the tokens inside\n",
        "    # since fit_transform need a list of strings\n",
        "    corpus = [\" \".join(x) for x in data]\n",
        "    \n",
        "    # Initialize the \"TfidfVectorizer\" object\n",
        "    # In here the word tokenization should be done by splitting with \" \" and word n-gram was used as the analyzer\n",
        "    # The maximum number of features were given as 5667, since in the corpus there were 5667 unique words\n",
        "    # Also, the Sinhala stop words list has been fed in order to remove stop words in Singlish dataset \n",
        "    vectorizer = TfidfVectorizer(tokenizer = lambda x: x.split(\" \"), \n",
        "                                 analyzer=\"word\", \n",
        "                                 max_features = 5667,\n",
        "                                 ngram_range=ngram_range, \n",
        "                                 stop_words=stop_words,\n",
        "                                 min_df=1)                                \n",
        "\n",
        "    # fit_transform is used to fit the model and to learn the vocabulary. \n",
        "    # Also, it transforms the dataframe into feature vectors\n",
        "    # The input to fit_transform should be a list of \n",
        "    # strings. The output is a sparse array\n",
        "    tfidf_features = vectorizer.fit_transform(corpus)\n",
        "\n",
        "    # Get words in the vocabulary\n",
        "    feature_names = vectorizer.get_feature_names()\n",
        "    \n",
        "    # Get the vocabulary\n",
        "    vocabulary = vectorizer.vocabulary_\n",
        "   \n",
        "    return vectorizer, feature_names, vocabulary, tfidf_features"
      ],
      "execution_count": 80,
      "outputs": []
    },
    {
      "cell_type": "markdown",
      "metadata": {
        "id": "zw9YVJH69ECe"
      },
      "source": [
        "<p>When a particular dataset has been fed as the argument of the above function, it will return 4 things. \n",
        "    <ol>\n",
        "        <li><b>vectorizer</b> which consists the vectorizer</li>  \n",
        "        <li><b>feature_names</b> which consists the words in the vocabulary</li>  \n",
        "        <li><b>vocabulary</b> which consists the words and the number of times that they have occured in the vocabulary</li> \n",
        "        <li><b>tfidf_features</b> which consists a sparse array which depicts a tf-idf matrix</li> \n",
        "    </ol>\n",
        " </p>    "
      ]
    },
    {
      "cell_type": "markdown",
      "metadata": {
        "id": "XmaedvwI9ECf"
      },
      "source": [
        "#### e.2. Apply Logistic Regression with Cross Validation for Full Dataset (Sinhala and Singlish) with TF-IDF features"
      ]
    },
    {
      "cell_type": "markdown",
      "metadata": {
        "id": "_Rb0Eh2d9ECf"
      },
      "source": [
        "<p>Let us generate the <b>tf-idf features for all the data in full dataset</b>.</p>"
      ]
    },
    {
      "cell_type": "code",
      "metadata": {
        "id": "UGwByHOt9ECf"
      },
      "source": [
        "tfidf_vectorizer_full, tf_idf_feature_names_full, tf_idf_vocabulary_full, tfidf_features_full = get_tfidf_features(\n",
        "                                                                                            data=full_dataframe['Phrase'])"
      ],
      "execution_count": 81,
      "outputs": []
    },
    {
      "cell_type": "markdown",
      "metadata": {
        "id": "L4FtXNlH9ECg"
      },
      "source": [
        "<p>Here, the tfidf features was generated without considering the train or test splits because the cross validation should be applied to the whole dataset. It will automatically decide the train and test splits according to the cross validation splitting strategy (cv).</p> "
      ]
    },
    {
      "cell_type": "code",
      "metadata": {
        "id": "qykLF6cT9ECg"
      },
      "source": [
        "from sklearn.model_selection import cross_validate\n",
        "from sklearn.metrics import make_scorer, precision_score, recall_score, f1_score\n",
        "from prettytable import PrettyTable\n",
        "\n",
        "# Define a function which takes the features and set of labels to train a Logistic Regression Model with \n",
        "# number of cross validations specified by k\n",
        "def train_logistic_regression_model_with_cross_validation(features, labels, k=10):\n",
        "    \n",
        "    print (\"Training the logistic regression model...\")\n",
        "    \n",
        "    logistic_regression_model = LogisticRegression()\n",
        "    \n",
        "    # To obtain the performance measures\n",
        "    scoring = {'accuracy':'accuracy', \n",
        "               'precision':make_scorer(precision_score,pos_label=\"YES\"), \n",
        "               'recall':make_scorer(recall_score,pos_label=\"YES\"), \n",
        "               'f1':make_scorer(f1_score,pos_label=\"YES\")}\n",
        "    \n",
        "    # Apply cross validation\n",
        "    scores = cross_validate(logistic_regression_model, features, labels, cv=k, scoring=scoring, return_train_score=True)\n",
        "    \n",
        "    print ('Finished')\n",
        "    print(\"\\n\")\n",
        "   \n",
        "    print (\"Train Performance\")\n",
        "    train_performance = PrettyTable(['Iteration', 'Train Accuracy (%)','Train Precision (%)',\n",
        "                                     'Train Recall (%)','Train F1 Score (%)'])\n",
        "    for index in range(0, 10):\n",
        "        train_performance.add_row([index+1,\n",
        "                   str(round(scores[\"train_accuracy\"][index]*100, 2)), \n",
        "                   str(round(scores[\"train_precision\"][index]*100, 2)), \n",
        "                   str(round(scores[\"train_recall\"][index]*100, 2)), \n",
        "                   str(round(scores[\"train_f1\"][index]*100, 2))])\n",
        "    print(train_performance)\n",
        "    print(\"Average Train Accuracy: \", str(round(scores[\"train_accuracy\"].mean()*100, 2)) +\" %\")\n",
        "    print(\"Average Train Precision: \", str(round(scores[\"train_precision\"].mean()*100, 2)) +\" %\")\n",
        "    print(\"Average Train Recall: \", str(round(scores[\"train_recall\"].mean()*100, 2)) +\" %\")\n",
        "    print(\"Average Train F1 Score: \", str(round(scores[\"train_f1\"].mean()*100, 2)) +\" %\")\n",
        "    print('\\n')\n",
        "    \n",
        "    print (\"Test Performance\")\n",
        "    test_performance = PrettyTable(['Iteration', 'Test Accuracy (%)','Test Precision (%)',\n",
        "                                    'Test Recall (%)','Test F1 Score (%)'])\n",
        "    for index in range(0, 10):\n",
        "        test_performance.add_row([index+1,\n",
        "                   str(round(scores[\"test_accuracy\"][index]*100, 2)), \n",
        "                   str(round(scores[\"test_precision\"][index]*100, 2)), \n",
        "                   str(round(scores[\"test_recall\"][index]*100, 2)), \n",
        "                   str(round(scores[\"test_f1\"][index]*100, 2))])\n",
        "    print(test_performance)\n",
        "    print(\"Average Test Accuracy: \", str(round(scores[\"test_accuracy\"].mean()*100, 2)) +\" %\")\n",
        "    print(\"Average Test Precision: \", str(round(scores[\"test_precision\"].mean()*100, 2)) +\" %\")\n",
        "    print(\"Average Test Recall: \", str(round(scores[\"test_recall\"].mean()*100, 2)) +\" %\")\n",
        "    print(\"Average Test F1 Score: \", str(round(scores[\"test_f1\"].mean()*100, 2)) +\" %\")\n",
        "    \n",
        "    return scores"
      ],
      "execution_count": 84,
      "outputs": []
    },
    {
      "cell_type": "code",
      "metadata": {
        "scrolled": false,
        "id": "hfojndhJ9ECg",
        "outputId": "fad88a97-cf2f-4e14-a359-a58ccad48e19"
      },
      "source": [
        "scores = train_logistic_regression_model_with_cross_validation(tfidf_features_full, full_dataframe['IsHateSpeech'])"
      ],
      "execution_count": 85,
      "outputs": [
        {
          "output_type": "stream",
          "name": "stdout",
          "text": [
            "Training the logistic regression model...\n",
            "Finished\n",
            "\n",
            "\n",
            "Train Performance\n",
            "+-----------+--------------------+---------------------+------------------+--------------------+\n",
            "| Iteration | Train Accuracy (%) | Train Precision (%) | Train Recall (%) | Train F1 Score (%) |\n",
            "+-----------+--------------------+---------------------+------------------+--------------------+\n",
            "|     1     |        90.8        |        96.78        |      81.85       |       88.69        |\n",
            "|     2     |       91.56        |         97.4        |      83.06       |       89.66        |\n",
            "|     3     |       90.58        |        96.76        |      81.35       |       88.39        |\n",
            "|     4     |       90.58        |        96.88        |      81.27       |       88.39        |\n",
            "|     5     |       89.91        |        96.37        |      80.16       |       87.52        |\n",
            "|     6     |       91.24        |        97.04        |      82.68       |       89.29        |\n",
            "|     7     |       90.22        |        95.96        |      81.27       |        88.0        |\n",
            "|     8     |       90.13        |        95.84        |      81.17       |        87.9        |\n",
            "|     9     |       89.64        |        96.23        |      79.66       |       87.16        |\n",
            "|     10    |       89.33        |        96.08        |      79.05       |       86.74        |\n",
            "+-----------+--------------------+---------------------+------------------+--------------------+\n",
            "Average Train Accuracy:  90.4 %\n",
            "Average Train Precision:  96.53 %\n",
            "Average Train Recall:  81.15 %\n",
            "Average Train F1 Score:  88.17 %\n",
            "\n",
            "\n",
            "Test Performance\n",
            "+-----------+-------------------+--------------------+-----------------+-------------------+\n",
            "| Iteration | Test Accuracy (%) | Test Precision (%) | Test Recall (%) | Test F1 Score (%) |\n",
            "+-----------+-------------------+--------------------+-----------------+-------------------+\n",
            "|     1     |        65.6       |       64.37        |      50.45      |       56.57       |\n",
            "|     2     |        62.0       |       63.33        |      34.23      |       44.44       |\n",
            "|     3     |        71.2       |       74.07        |      54.05      |        62.5       |\n",
            "|     4     |        75.2       |        80.0        |      58.18      |       67.37       |\n",
            "|     5     |        72.8       |       71.43        |      63.64      |       67.31       |\n",
            "|     6     |        69.6       |       68.09        |      58.18      |       62.75       |\n",
            "|     7     |        60.0       |       64.71        |       20.0      |       30.56       |\n",
            "|     8     |        62.4       |       73.53        |      22.73      |       34.72       |\n",
            "|     9     |        64.0       |       81.25        |      23.64      |       36.62       |\n",
            "|     10    |        66.8       |        81.4        |      31.82      |       45.75       |\n",
            "+-----------+-------------------+--------------------+-----------------+-------------------+\n",
            "Average Test Accuracy:  66.96 %\n",
            "Average Test Precision:  72.22 %\n",
            "Average Test Recall:  41.69 %\n",
            "Average Test F1 Score:  50.86 %\n"
          ]
        }
      ]
    },
    {
      "cell_type": "markdown",
      "metadata": {
        "id": "-resSeut9ECi"
      },
      "source": [
        "<p>As shown above for each iteration values of all the performance measures are higher when training than in testing. This means that the model has <b>overfitted</b>, and only has the ability to give better performance for seen data (training) rather than unseen data (testing). This can be because the dataset is small. So cross validation does not suit here. In future steps, cross validation will not be used.</p>"
      ]
    },
    {
      "cell_type": "markdown",
      "metadata": {
        "id": "KB-WWdf19ECi"
      },
      "source": [
        "<p>In the next section, let us see the performance of the model without cross validation.</p>"
      ]
    },
    {
      "cell_type": "markdown",
      "metadata": {
        "id": "-uJQ3w5d9ECj"
      },
      "source": [
        "#### e.3. Apply Logistic Regression without Cross Validation for Full Dataset (Sinhala and Singlish) with TF-IDF features"
      ]
    },
    {
      "cell_type": "markdown",
      "metadata": {
        "id": "m4Z_PM609ECj"
      },
      "source": [
        "<p>Let us generate the <b>tf-idf features for train data in full dataset</b>.</p>"
      ]
    },
    {
      "cell_type": "code",
      "metadata": {
        "id": "vxMZjOnX9ECj"
      },
      "source": [
        "tfidf_vectorizer_full, tf_idf_feature_names_full, tf_idf_vocabulary_full, tfidf_features_full = get_tfidf_features( \n",
        "                                                                                                            data=train_X_full)"
      ],
      "execution_count": 86,
      "outputs": []
    },
    {
      "cell_type": "code",
      "metadata": {
        "id": "wm7AuMQ89ECj",
        "outputId": "33f5ce14-076e-4227-8894-d7ea537a8aa0"
      },
      "source": [
        "tfidf_features_full.toarray()"
      ],
      "execution_count": 87,
      "outputs": [
        {
          "output_type": "execute_result",
          "data": {
            "text/plain": [
              "array([[0., 0., 0., ..., 0., 0., 0.],\n",
              "       [0., 0., 0., ..., 0., 0., 0.],\n",
              "       [0., 0., 0., ..., 0., 0., 0.],\n",
              "       ...,\n",
              "       [0., 0., 0., ..., 0., 0., 0.],\n",
              "       [0., 0., 0., ..., 0., 0., 0.],\n",
              "       [0., 0., 0., ..., 0., 0., 0.]])"
            ]
          },
          "metadata": {},
          "execution_count": 87
        }
      ]
    },
    {
      "cell_type": "markdown",
      "metadata": {
        "id": "9K_HCpvi9ECk"
      },
      "source": [
        "<p>Above is the <b>tf-idf matrix for full dataset</b> which will be fed to the model in future steps.</p>"
      ]
    },
    {
      "cell_type": "markdown",
      "metadata": {
        "id": "hMeUdl-D9ECl"
      },
      "source": [
        "<p>Let us apply <b>Logistic Regression to the Full dataset</b> as shown below by passing the tf-idf features created previously and the train labels for Full dataset.</p>"
      ]
    },
    {
      "cell_type": "code",
      "metadata": {
        "id": "QKQCYr-l9ECl",
        "outputId": "dff768c9-aa3a-44c5-e616-4039ead025ff"
      },
      "source": [
        "logistic_regression_model_full_tfidf = train_logistic_regression_model(features=tfidf_features_full, \n",
        "                                                                       labels=train_y_full)"
      ],
      "execution_count": 88,
      "outputs": [
        {
          "output_type": "stream",
          "name": "stdout",
          "text": [
            "Training the logistic regression model...\nFinished\n"
          ]
        }
      ]
    },
    {
      "cell_type": "markdown",
      "metadata": {
        "id": "OUVA3-zF9ECl"
      },
      "source": [
        "<p>Let us apply get the predictions for test data as below.</p>"
      ]
    },
    {
      "cell_type": "code",
      "metadata": {
        "id": "n7Nshz1d9ECm",
        "outputId": "c8148ff2-37a0-4195-b6dd-9e263cbc3159"
      },
      "source": [
        "predicted_y_full_tfidf = predict_logistic_regression_model(test_X=test_X_full, \n",
        "                                                           test_y=test_y_full, \n",
        "                                                           vectorizer=tfidf_vectorizer_full, \n",
        "                                                           logistic_regression_model=logistic_regression_model_full_tfidf)"
      ],
      "execution_count": 89,
      "outputs": [
        {
          "output_type": "stream",
          "name": "stdout",
          "text": [
            "Predictions: \n['YES' 'NO' 'YES' 'YES' 'NO' 'NO' 'NO' 'NO' 'NO' 'NO' 'NO' 'NO' 'NO' 'NO'\n 'NO' 'YES' 'NO' 'NO' 'NO' 'YES' 'NO' 'NO' 'NO' 'NO' 'NO' 'NO' 'NO' 'NO'\n 'YES' 'NO' 'NO' 'NO' 'NO' 'NO' 'YES' 'YES' 'NO' 'YES' 'YES' 'NO' 'NO'\n 'NO' 'NO' 'NO' 'YES' 'NO' 'YES' 'NO' 'NO' 'NO' 'NO' 'NO' 'NO' 'NO' 'YES'\n 'NO' 'NO' 'NO' 'NO' 'NO' 'NO' 'YES' 'YES' 'NO' 'NO' 'NO' 'YES' 'YES' 'NO'\n 'NO' 'NO' 'NO' 'NO' 'NO' 'YES' 'YES' 'NO' 'NO' 'NO' 'NO' 'NO' 'NO' 'NO'\n 'NO' 'NO' 'NO' 'NO' 'NO' 'NO' 'NO' 'NO' 'NO' 'YES' 'YES' 'NO' 'NO' 'YES'\n 'NO' 'NO' 'NO' 'YES' 'NO' 'YES' 'NO' 'NO' 'YES' 'NO' 'YES' 'YES' 'NO'\n 'NO' 'NO' 'NO' 'YES' 'YES' 'YES' 'YES' 'NO' 'NO' 'NO' 'YES' 'NO' 'YES'\n 'NO' 'NO' 'NO' 'YES' 'NO' 'NO' 'NO' 'NO' 'NO' 'NO' 'NO' 'NO' 'NO' 'YES'\n 'NO' 'NO' 'NO' 'YES' 'NO' 'YES' 'NO' 'YES' 'NO' 'YES' 'YES' 'YES' 'YES'\n 'NO' 'YES' 'NO' 'YES' 'YES' 'NO' 'NO' 'NO' 'YES' 'NO' 'YES' 'NO' 'NO'\n 'NO' 'NO' 'NO' 'YES' 'NO' 'YES' 'NO' 'NO' 'NO' 'NO' 'NO' 'YES' 'NO' 'NO'\n 'NO' 'NO' 'NO' 'NO' 'NO' 'NO' 'YES' 'NO' 'YES' 'NO' 'NO' 'NO' 'NO' 'YES'\n 'YES' 'YES' 'NO' 'NO' 'YES' 'NO' 'YES' 'NO' 'YES' 'YES' 'NO' 'NO' 'NO'\n 'YES' 'YES' 'NO' 'NO' 'NO' 'NO' 'NO' 'YES' 'NO' 'NO' 'NO' 'YES' 'NO' 'NO'\n 'NO' 'YES' 'NO' 'NO' 'YES' 'NO' 'YES' 'NO' 'NO' 'YES' 'NO' 'NO' 'YES'\n 'NO' 'NO' 'NO' 'NO' 'YES' 'NO' 'NO' 'NO' 'NO' 'YES' 'NO' 'NO' 'NO' 'YES'\n 'NO' 'NO' 'NO' 'NO' 'YES' 'YES' 'YES' 'NO' 'YES' 'NO' 'NO' 'NO' 'NO' 'NO'\n 'NO' 'YES' 'NO' 'NO' 'YES' 'NO' 'NO' 'NO' 'NO' 'NO' 'NO' 'NO' 'NO' 'NO'\n 'YES' 'NO' 'NO' 'YES' 'NO' 'NO' 'NO' 'NO' 'NO' 'YES' 'NO' 'NO' 'NO' 'YES'\n 'NO' 'NO' 'NO' 'NO' 'NO' 'YES' 'NO' 'NO' 'NO' 'NO' 'NO' 'NO' 'NO' 'YES'\n 'YES' 'YES' 'NO' 'YES' 'YES' 'YES' 'NO' 'NO' 'YES' 'NO' 'YES' 'NO' 'NO'\n 'YES' 'NO' 'NO' 'YES' 'NO' 'NO' 'NO' 'NO' 'NO' 'YES' 'NO' 'NO' 'NO' 'YES'\n 'NO' 'NO' 'NO' 'NO' 'NO' 'NO' 'NO' 'NO' 'NO' 'YES' 'NO' 'YES' 'NO' 'NO'\n 'NO' 'YES' 'NO' 'YES' 'NO' 'YES' 'YES' 'NO' 'YES' 'NO' 'NO' 'NO' 'YES'\n 'YES' 'NO' 'NO' 'YES' 'NO' 'YES' 'NO' 'NO' 'NO' 'NO' 'NO' 'NO' 'NO' 'YES'\n 'NO' 'NO' 'NO' 'NO' 'NO' 'YES' 'NO' 'YES' 'YES' 'YES' 'NO' 'NO' 'NO' 'NO'\n 'YES' 'YES' 'YES' 'YES' 'NO' 'YES' 'YES' 'NO' 'NO' 'YES' 'NO' 'NO' 'NO'\n 'NO' 'NO' 'NO' 'NO' 'NO' 'NO' 'NO' 'NO' 'NO' 'NO' 'NO' 'YES' 'YES' 'YES'\n 'YES' 'NO' 'NO' 'NO' 'NO' 'NO' 'NO' 'NO' 'NO' 'NO' 'NO' 'NO' 'NO' 'YES'\n 'NO' 'NO' 'NO' 'YES' 'NO' 'YES' 'NO' 'NO' 'YES' 'YES' 'NO' 'YES' 'NO'\n 'NO' 'NO' 'NO' 'NO' 'YES' 'YES' 'NO' 'YES' 'NO' 'NO' 'NO' 'NO' 'YES' 'NO'\n 'NO' 'NO' 'YES' 'NO' 'YES' 'NO' 'NO' 'NO' 'NO' 'NO' 'NO' 'NO' 'NO' 'NO'\n 'NO' 'NO' 'NO' 'NO' 'NO' 'NO' 'NO' 'NO' 'YES' 'NO' 'NO' 'NO' 'NO' 'NO'\n 'NO' 'NO' 'NO' 'YES' 'NO' 'NO' 'YES' 'NO' 'YES' 'NO' 'YES' 'NO' 'NO'\n 'YES' 'NO' 'NO' 'NO' 'NO' 'NO' 'YES' 'NO']\n\n\nAccuracy = 73%\n"
          ]
        }
      ]
    },
    {
      "cell_type": "markdown",
      "metadata": {
        "id": "uVlc9QaJ9ECm"
      },
      "source": [
        "<p>The predictions array has shown above which consists whether a particular string is hate speech (YES) or not (NO) and it was returned and assigned to predicted_y_full_tfidf variable. The accuracy of this model is 73% <b>which is less than the model that was created before by just using the bag-of-features but this is far better than the model that used cross validation</b>.</p>"
      ]
    },
    {
      "cell_type": "markdown",
      "metadata": {
        "id": "lAoBnCJc9ECn"
      },
      "source": [
        "<p>Let us get the confusion matrix and the performance measures for Full dataset.</p>"
      ]
    },
    {
      "cell_type": "code",
      "metadata": {
        "id": "nSg1l4Oz9ECn",
        "outputId": "549e0eec-ae34-4ad4-e7f7-ed56ccaec449"
      },
      "source": [
        "get_metrics(true_labels=test_y_full, predicted_labels=predicted_y_full_tfidf)"
      ],
      "execution_count": 90,
      "outputs": [
        {
          "output_type": "display_data",
          "data": {
            "text/plain": "<Figure size 432x288 with 2 Axes>",
            "image/svg+xml": "<?xml version=\"1.0\" encoding=\"utf-8\" standalone=\"no\"?>\r\n<!DOCTYPE svg PUBLIC \"-//W3C//DTD SVG 1.1//EN\"\r\n  \"http://www.w3.org/Graphics/SVG/1.1/DTD/svg11.dtd\">\r\n<!-- Created with matplotlib (https://matplotlib.org/) -->\r\n<svg height=\"277.314375pt\" version=\"1.1\" viewBox=\"0 0 366.29575 277.314375\" width=\"366.29575pt\" xmlns=\"http://www.w3.org/2000/svg\" xmlns:xlink=\"http://www.w3.org/1999/xlink\">\r\n <defs>\r\n  <style type=\"text/css\">\r\n*{stroke-linecap:butt;stroke-linejoin:round;}\r\n  </style>\r\n </defs>\r\n <g id=\"figure_1\">\r\n  <g id=\"patch_1\">\r\n   <path d=\"M 0 277.314375 \r\nL 366.29575 277.314375 \r\nL 366.29575 0 \r\nL 0 0 \r\nz\r\n\" style=\"fill:none;\"/>\r\n  </g>\r\n  <g id=\"axes_1\">\r\n   <g id=\"patch_2\">\r\n    <path d=\"M 37.55625 239.758125 \r\nL 305.39625 239.758125 \r\nL 305.39625 22.318125 \r\nL 37.55625 22.318125 \r\nz\r\n\" style=\"fill:#ffffff;\"/>\r\n   </g>\r\n   <g id=\"QuadMesh_1\">\r\n    <path clip-path=\"url(#p2971599d27)\" d=\"M 37.55625 22.318125 \r\nL 171.47625 22.318125 \r\nL 171.47625 131.038125 \r\nL 37.55625 131.038125 \r\nL 37.55625 22.318125 \r\n\" style=\"fill:#faebdd;\"/>\r\n    <path clip-path=\"url(#p2971599d27)\" d=\"M 171.47625 22.318125 \r\nL 305.39625 22.318125 \r\nL 305.39625 131.038125 \r\nL 171.47625 131.038125 \r\nL 171.47625 22.318125 \r\n\" style=\"fill:#03051a;\"/>\r\n    <path clip-path=\"url(#p2971599d27)\" d=\"M 37.55625 131.038125 \r\nL 171.47625 131.038125 \r\nL 171.47625 239.758125 \r\nL 37.55625 239.758125 \r\nL 37.55625 131.038125 \r\n\" style=\"fill:#931c5b;\"/>\r\n    <path clip-path=\"url(#p2971599d27)\" d=\"M 171.47625 131.038125 \r\nL 305.39625 131.038125 \r\nL 305.39625 239.758125 \r\nL 171.47625 239.758125 \r\nL 171.47625 131.038125 \r\n\" style=\"fill:#9e1a5b;\"/>\r\n   </g>\r\n   <g id=\"matplotlib.axis_1\">\r\n    <g id=\"xtick_1\">\r\n     <g id=\"line2d_1\">\r\n      <defs>\r\n       <path d=\"M 0 0 \r\nL 0 3.5 \r\n\" id=\"m90135ac262\" style=\"stroke:#000000;stroke-width:0.8;\"/>\r\n      </defs>\r\n      <g>\r\n       <use style=\"stroke:#000000;stroke-width:0.8;\" x=\"104.51625\" xlink:href=\"#m90135ac262\" y=\"239.758125\"/>\r\n      </g>\r\n     </g>\r\n     <g id=\"text_1\">\r\n      <!-- YES -->\r\n      <defs>\r\n       <path d=\"M -0.203125 72.90625 \r\nL 10.40625 72.90625 \r\nL 30.609375 42.921875 \r\nL 50.6875 72.90625 \r\nL 61.28125 72.90625 \r\nL 35.5 34.71875 \r\nL 35.5 0 \r\nL 25.59375 0 \r\nL 25.59375 34.71875 \r\nz\r\n\" id=\"DejaVuSans-89\"/>\r\n       <path d=\"M 9.8125 72.90625 \r\nL 55.90625 72.90625 \r\nL 55.90625 64.59375 \r\nL 19.671875 64.59375 \r\nL 19.671875 43.015625 \r\nL 54.390625 43.015625 \r\nL 54.390625 34.71875 \r\nL 19.671875 34.71875 \r\nL 19.671875 8.296875 \r\nL 56.78125 8.296875 \r\nL 56.78125 0 \r\nL 9.8125 0 \r\nz\r\n\" id=\"DejaVuSans-69\"/>\r\n       <path d=\"M 53.515625 70.515625 \r\nL 53.515625 60.890625 \r\nQ 47.90625 63.578125 42.921875 64.890625 \r\nQ 37.9375 66.21875 33.296875 66.21875 \r\nQ 25.25 66.21875 20.875 63.09375 \r\nQ 16.5 59.96875 16.5 54.203125 \r\nQ 16.5 49.359375 19.40625 46.890625 \r\nQ 22.3125 44.4375 30.421875 42.921875 \r\nL 36.375 41.703125 \r\nQ 47.40625 39.59375 52.65625 34.296875 \r\nQ 57.90625 29 57.90625 20.125 \r\nQ 57.90625 9.515625 50.796875 4.046875 \r\nQ 43.703125 -1.421875 29.984375 -1.421875 \r\nQ 24.8125 -1.421875 18.96875 -0.25 \r\nQ 13.140625 0.921875 6.890625 3.21875 \r\nL 6.890625 13.375 \r\nQ 12.890625 10.015625 18.65625 8.296875 \r\nQ 24.421875 6.59375 29.984375 6.59375 \r\nQ 38.421875 6.59375 43.015625 9.90625 \r\nQ 47.609375 13.234375 47.609375 19.390625 \r\nQ 47.609375 24.75 44.3125 27.78125 \r\nQ 41.015625 30.8125 33.5 32.328125 \r\nL 27.484375 33.5 \r\nQ 16.453125 35.6875 11.515625 40.375 \r\nQ 6.59375 45.0625 6.59375 53.421875 \r\nQ 6.59375 63.09375 13.40625 68.65625 \r\nQ 20.21875 74.21875 32.171875 74.21875 \r\nQ 37.3125 74.21875 42.625 73.28125 \r\nQ 47.953125 72.359375 53.515625 70.515625 \r\nz\r\n\" id=\"DejaVuSans-83\"/>\r\n      </defs>\r\n      <g transform=\"translate(95.12875 254.356562)scale(0.1 -0.1)\">\r\n       <use xlink:href=\"#DejaVuSans-89\"/>\r\n       <use x=\"61.083984\" xlink:href=\"#DejaVuSans-69\"/>\r\n       <use x=\"124.267578\" xlink:href=\"#DejaVuSans-83\"/>\r\n      </g>\r\n     </g>\r\n    </g>\r\n    <g id=\"xtick_2\">\r\n     <g id=\"line2d_2\">\r\n      <g>\r\n       <use style=\"stroke:#000000;stroke-width:0.8;\" x=\"238.43625\" xlink:href=\"#m90135ac262\" y=\"239.758125\"/>\r\n      </g>\r\n     </g>\r\n     <g id=\"text_2\">\r\n      <!-- NO -->\r\n      <defs>\r\n       <path d=\"M 9.8125 72.90625 \r\nL 23.09375 72.90625 \r\nL 55.421875 11.921875 \r\nL 55.421875 72.90625 \r\nL 64.984375 72.90625 \r\nL 64.984375 0 \r\nL 51.703125 0 \r\nL 19.390625 60.984375 \r\nL 19.390625 0 \r\nL 9.8125 0 \r\nz\r\n\" id=\"DejaVuSans-78\"/>\r\n       <path d=\"M 39.40625 66.21875 \r\nQ 28.65625 66.21875 22.328125 58.203125 \r\nQ 16.015625 50.203125 16.015625 36.375 \r\nQ 16.015625 22.609375 22.328125 14.59375 \r\nQ 28.65625 6.59375 39.40625 6.59375 \r\nQ 50.140625 6.59375 56.421875 14.59375 \r\nQ 62.703125 22.609375 62.703125 36.375 \r\nQ 62.703125 50.203125 56.421875 58.203125 \r\nQ 50.140625 66.21875 39.40625 66.21875 \r\nz\r\nM 39.40625 74.21875 \r\nQ 54.734375 74.21875 63.90625 63.9375 \r\nQ 73.09375 53.65625 73.09375 36.375 \r\nQ 73.09375 19.140625 63.90625 8.859375 \r\nQ 54.734375 -1.421875 39.40625 -1.421875 \r\nQ 24.03125 -1.421875 14.8125 8.828125 \r\nQ 5.609375 19.09375 5.609375 36.375 \r\nQ 5.609375 53.65625 14.8125 63.9375 \r\nQ 24.03125 74.21875 39.40625 74.21875 \r\nz\r\n\" id=\"DejaVuSans-79\"/>\r\n      </defs>\r\n      <g transform=\"translate(230.759688 254.356562)scale(0.1 -0.1)\">\r\n       <use xlink:href=\"#DejaVuSans-78\"/>\r\n       <use x=\"74.804688\" xlink:href=\"#DejaVuSans-79\"/>\r\n      </g>\r\n     </g>\r\n    </g>\r\n    <g id=\"text_3\">\r\n     <!-- Predicted class -->\r\n     <defs>\r\n      <path d=\"M 19.671875 64.796875 \r\nL 19.671875 37.40625 \r\nL 32.078125 37.40625 \r\nQ 38.96875 37.40625 42.71875 40.96875 \r\nQ 46.484375 44.53125 46.484375 51.125 \r\nQ 46.484375 57.671875 42.71875 61.234375 \r\nQ 38.96875 64.796875 32.078125 64.796875 \r\nz\r\nM 9.8125 72.90625 \r\nL 32.078125 72.90625 \r\nQ 44.34375 72.90625 50.609375 67.359375 \r\nQ 56.890625 61.8125 56.890625 51.125 \r\nQ 56.890625 40.328125 50.609375 34.8125 \r\nQ 44.34375 29.296875 32.078125 29.296875 \r\nL 19.671875 29.296875 \r\nL 19.671875 0 \r\nL 9.8125 0 \r\nz\r\n\" id=\"DejaVuSans-80\"/>\r\n      <path d=\"M 41.109375 46.296875 \r\nQ 39.59375 47.171875 37.8125 47.578125 \r\nQ 36.03125 48 33.890625 48 \r\nQ 26.265625 48 22.1875 43.046875 \r\nQ 18.109375 38.09375 18.109375 28.8125 \r\nL 18.109375 0 \r\nL 9.078125 0 \r\nL 9.078125 54.6875 \r\nL 18.109375 54.6875 \r\nL 18.109375 46.1875 \r\nQ 20.953125 51.171875 25.484375 53.578125 \r\nQ 30.03125 56 36.53125 56 \r\nQ 37.453125 56 38.578125 55.875 \r\nQ 39.703125 55.765625 41.0625 55.515625 \r\nz\r\n\" id=\"DejaVuSans-114\"/>\r\n      <path d=\"M 56.203125 29.59375 \r\nL 56.203125 25.203125 \r\nL 14.890625 25.203125 \r\nQ 15.484375 15.921875 20.484375 11.0625 \r\nQ 25.484375 6.203125 34.421875 6.203125 \r\nQ 39.59375 6.203125 44.453125 7.46875 \r\nQ 49.3125 8.734375 54.109375 11.28125 \r\nL 54.109375 2.78125 \r\nQ 49.265625 0.734375 44.1875 -0.34375 \r\nQ 39.109375 -1.421875 33.890625 -1.421875 \r\nQ 20.796875 -1.421875 13.15625 6.1875 \r\nQ 5.515625 13.8125 5.515625 26.8125 \r\nQ 5.515625 40.234375 12.765625 48.109375 \r\nQ 20.015625 56 32.328125 56 \r\nQ 43.359375 56 49.78125 48.890625 \r\nQ 56.203125 41.796875 56.203125 29.59375 \r\nz\r\nM 47.21875 32.234375 \r\nQ 47.125 39.59375 43.09375 43.984375 \r\nQ 39.0625 48.390625 32.421875 48.390625 \r\nQ 24.90625 48.390625 20.390625 44.140625 \r\nQ 15.875 39.890625 15.1875 32.171875 \r\nz\r\n\" id=\"DejaVuSans-101\"/>\r\n      <path d=\"M 45.40625 46.390625 \r\nL 45.40625 75.984375 \r\nL 54.390625 75.984375 \r\nL 54.390625 0 \r\nL 45.40625 0 \r\nL 45.40625 8.203125 \r\nQ 42.578125 3.328125 38.25 0.953125 \r\nQ 33.9375 -1.421875 27.875 -1.421875 \r\nQ 17.96875 -1.421875 11.734375 6.484375 \r\nQ 5.515625 14.40625 5.515625 27.296875 \r\nQ 5.515625 40.1875 11.734375 48.09375 \r\nQ 17.96875 56 27.875 56 \r\nQ 33.9375 56 38.25 53.625 \r\nQ 42.578125 51.265625 45.40625 46.390625 \r\nz\r\nM 14.796875 27.296875 \r\nQ 14.796875 17.390625 18.875 11.75 \r\nQ 22.953125 6.109375 30.078125 6.109375 \r\nQ 37.203125 6.109375 41.296875 11.75 \r\nQ 45.40625 17.390625 45.40625 27.296875 \r\nQ 45.40625 37.203125 41.296875 42.84375 \r\nQ 37.203125 48.484375 30.078125 48.484375 \r\nQ 22.953125 48.484375 18.875 42.84375 \r\nQ 14.796875 37.203125 14.796875 27.296875 \r\nz\r\n\" id=\"DejaVuSans-100\"/>\r\n      <path d=\"M 9.421875 54.6875 \r\nL 18.40625 54.6875 \r\nL 18.40625 0 \r\nL 9.421875 0 \r\nz\r\nM 9.421875 75.984375 \r\nL 18.40625 75.984375 \r\nL 18.40625 64.59375 \r\nL 9.421875 64.59375 \r\nz\r\n\" id=\"DejaVuSans-105\"/>\r\n      <path d=\"M 48.78125 52.59375 \r\nL 48.78125 44.1875 \r\nQ 44.96875 46.296875 41.140625 47.34375 \r\nQ 37.3125 48.390625 33.40625 48.390625 \r\nQ 24.65625 48.390625 19.8125 42.84375 \r\nQ 14.984375 37.3125 14.984375 27.296875 \r\nQ 14.984375 17.28125 19.8125 11.734375 \r\nQ 24.65625 6.203125 33.40625 6.203125 \r\nQ 37.3125 6.203125 41.140625 7.25 \r\nQ 44.96875 8.296875 48.78125 10.40625 \r\nL 48.78125 2.09375 \r\nQ 45.015625 0.34375 40.984375 -0.53125 \r\nQ 36.96875 -1.421875 32.421875 -1.421875 \r\nQ 20.0625 -1.421875 12.78125 6.34375 \r\nQ 5.515625 14.109375 5.515625 27.296875 \r\nQ 5.515625 40.671875 12.859375 48.328125 \r\nQ 20.21875 56 33.015625 56 \r\nQ 37.15625 56 41.109375 55.140625 \r\nQ 45.0625 54.296875 48.78125 52.59375 \r\nz\r\n\" id=\"DejaVuSans-99\"/>\r\n      <path d=\"M 18.3125 70.21875 \r\nL 18.3125 54.6875 \r\nL 36.8125 54.6875 \r\nL 36.8125 47.703125 \r\nL 18.3125 47.703125 \r\nL 18.3125 18.015625 \r\nQ 18.3125 11.328125 20.140625 9.421875 \r\nQ 21.96875 7.515625 27.59375 7.515625 \r\nL 36.8125 7.515625 \r\nL 36.8125 0 \r\nL 27.59375 0 \r\nQ 17.1875 0 13.234375 3.875 \r\nQ 9.28125 7.765625 9.28125 18.015625 \r\nL 9.28125 47.703125 \r\nL 2.6875 47.703125 \r\nL 2.6875 54.6875 \r\nL 9.28125 54.6875 \r\nL 9.28125 70.21875 \r\nz\r\n\" id=\"DejaVuSans-116\"/>\r\n      <path id=\"DejaVuSans-32\"/>\r\n      <path d=\"M 9.421875 75.984375 \r\nL 18.40625 75.984375 \r\nL 18.40625 0 \r\nL 9.421875 0 \r\nz\r\n\" id=\"DejaVuSans-108\"/>\r\n      <path d=\"M 34.28125 27.484375 \r\nQ 23.390625 27.484375 19.1875 25 \r\nQ 14.984375 22.515625 14.984375 16.5 \r\nQ 14.984375 11.71875 18.140625 8.90625 \r\nQ 21.296875 6.109375 26.703125 6.109375 \r\nQ 34.1875 6.109375 38.703125 11.40625 \r\nQ 43.21875 16.703125 43.21875 25.484375 \r\nL 43.21875 27.484375 \r\nz\r\nM 52.203125 31.203125 \r\nL 52.203125 0 \r\nL 43.21875 0 \r\nL 43.21875 8.296875 \r\nQ 40.140625 3.328125 35.546875 0.953125 \r\nQ 30.953125 -1.421875 24.3125 -1.421875 \r\nQ 15.921875 -1.421875 10.953125 3.296875 \r\nQ 6 8.015625 6 15.921875 \r\nQ 6 25.140625 12.171875 29.828125 \r\nQ 18.359375 34.515625 30.609375 34.515625 \r\nL 43.21875 34.515625 \r\nL 43.21875 35.40625 \r\nQ 43.21875 41.609375 39.140625 45 \r\nQ 35.0625 48.390625 27.6875 48.390625 \r\nQ 23 48.390625 18.546875 47.265625 \r\nQ 14.109375 46.140625 10.015625 43.890625 \r\nL 10.015625 52.203125 \r\nQ 14.9375 54.109375 19.578125 55.046875 \r\nQ 24.21875 56 28.609375 56 \r\nQ 40.484375 56 46.34375 49.84375 \r\nQ 52.203125 43.703125 52.203125 31.203125 \r\nz\r\n\" id=\"DejaVuSans-97\"/>\r\n      <path d=\"M 44.28125 53.078125 \r\nL 44.28125 44.578125 \r\nQ 40.484375 46.53125 36.375 47.5 \r\nQ 32.28125 48.484375 27.875 48.484375 \r\nQ 21.1875 48.484375 17.84375 46.4375 \r\nQ 14.5 44.390625 14.5 40.28125 \r\nQ 14.5 37.15625 16.890625 35.375 \r\nQ 19.28125 33.59375 26.515625 31.984375 \r\nL 29.59375 31.296875 \r\nQ 39.15625 29.25 43.1875 25.515625 \r\nQ 47.21875 21.78125 47.21875 15.09375 \r\nQ 47.21875 7.46875 41.1875 3.015625 \r\nQ 35.15625 -1.421875 24.609375 -1.421875 \r\nQ 20.21875 -1.421875 15.453125 -0.5625 \r\nQ 10.6875 0.296875 5.421875 2 \r\nL 5.421875 11.28125 \r\nQ 10.40625 8.6875 15.234375 7.390625 \r\nQ 20.0625 6.109375 24.8125 6.109375 \r\nQ 31.15625 6.109375 34.5625 8.28125 \r\nQ 37.984375 10.453125 37.984375 14.40625 \r\nQ 37.984375 18.0625 35.515625 20.015625 \r\nQ 33.0625 21.96875 24.703125 23.78125 \r\nL 21.578125 24.515625 \r\nQ 13.234375 26.265625 9.515625 29.90625 \r\nQ 5.8125 33.546875 5.8125 39.890625 \r\nQ 5.8125 47.609375 11.28125 51.796875 \r\nQ 16.75 56 26.8125 56 \r\nQ 31.78125 56 36.171875 55.265625 \r\nQ 40.578125 54.546875 44.28125 53.078125 \r\nz\r\n\" id=\"DejaVuSans-115\"/>\r\n     </defs>\r\n     <g transform=\"translate(133.8075 268.034687)scale(0.1 -0.1)\">\r\n      <use xlink:href=\"#DejaVuSans-80\"/>\r\n      <use x=\"60.287109\" xlink:href=\"#DejaVuSans-114\"/>\r\n      <use x=\"101.369141\" xlink:href=\"#DejaVuSans-101\"/>\r\n      <use x=\"162.892578\" xlink:href=\"#DejaVuSans-100\"/>\r\n      <use x=\"226.369141\" xlink:href=\"#DejaVuSans-105\"/>\r\n      <use x=\"254.152344\" xlink:href=\"#DejaVuSans-99\"/>\r\n      <use x=\"309.132812\" xlink:href=\"#DejaVuSans-116\"/>\r\n      <use x=\"348.341797\" xlink:href=\"#DejaVuSans-101\"/>\r\n      <use x=\"409.865234\" xlink:href=\"#DejaVuSans-100\"/>\r\n      <use x=\"473.341797\" xlink:href=\"#DejaVuSans-32\"/>\r\n      <use x=\"505.128906\" xlink:href=\"#DejaVuSans-99\"/>\r\n      <use x=\"560.109375\" xlink:href=\"#DejaVuSans-108\"/>\r\n      <use x=\"587.892578\" xlink:href=\"#DejaVuSans-97\"/>\r\n      <use x=\"649.171875\" xlink:href=\"#DejaVuSans-115\"/>\r\n      <use x=\"701.271484\" xlink:href=\"#DejaVuSans-115\"/>\r\n     </g>\r\n    </g>\r\n   </g>\r\n   <g id=\"matplotlib.axis_2\">\r\n    <g id=\"ytick_1\">\r\n     <g id=\"line2d_3\">\r\n      <defs>\r\n       <path d=\"M 0 0 \r\nL -3.5 0 \r\n\" id=\"m1603bd9dfc\" style=\"stroke:#000000;stroke-width:0.8;\"/>\r\n      </defs>\r\n      <g>\r\n       <use style=\"stroke:#000000;stroke-width:0.8;\" x=\"37.55625\" xlink:href=\"#m1603bd9dfc\" y=\"76.678125\"/>\r\n      </g>\r\n     </g>\r\n     <g id=\"text_4\">\r\n      <!-- YES -->\r\n      <g transform=\"translate(28.476563 91.653906)rotate(-90)scale(0.1 -0.1)\">\r\n       <use xlink:href=\"#DejaVuSans-89\"/>\r\n       <use x=\"61.083984\" xlink:href=\"#DejaVuSans-69\"/>\r\n       <use x=\"124.267578\" xlink:href=\"#DejaVuSans-83\"/>\r\n      </g>\r\n     </g>\r\n    </g>\r\n    <g id=\"ytick_2\">\r\n     <g id=\"line2d_4\">\r\n      <g>\r\n       <use style=\"stroke:#000000;stroke-width:0.8;\" x=\"37.55625\" xlink:href=\"#m1603bd9dfc\" y=\"185.398125\"/>\r\n      </g>\r\n     </g>\r\n     <g id=\"text_5\">\r\n      <!-- NO -->\r\n      <g transform=\"translate(28.476563 196.952031)rotate(-90)scale(0.1 -0.1)\">\r\n       <use xlink:href=\"#DejaVuSans-78\"/>\r\n       <use x=\"74.804688\" xlink:href=\"#DejaVuSans-79\"/>\r\n      </g>\r\n     </g>\r\n    </g>\r\n    <g id=\"text_6\">\r\n     <!-- Actual Class -->\r\n     <defs>\r\n      <path d=\"M 34.1875 63.1875 \r\nL 20.796875 26.90625 \r\nL 47.609375 26.90625 \r\nz\r\nM 28.609375 72.90625 \r\nL 39.796875 72.90625 \r\nL 67.578125 0 \r\nL 57.328125 0 \r\nL 50.6875 18.703125 \r\nL 17.828125 18.703125 \r\nL 11.1875 0 \r\nL 0.78125 0 \r\nz\r\n\" id=\"DejaVuSans-65\"/>\r\n      <path d=\"M 8.5 21.578125 \r\nL 8.5 54.6875 \r\nL 17.484375 54.6875 \r\nL 17.484375 21.921875 \r\nQ 17.484375 14.15625 20.5 10.265625 \r\nQ 23.53125 6.390625 29.59375 6.390625 \r\nQ 36.859375 6.390625 41.078125 11.03125 \r\nQ 45.3125 15.671875 45.3125 23.6875 \r\nL 45.3125 54.6875 \r\nL 54.296875 54.6875 \r\nL 54.296875 0 \r\nL 45.3125 0 \r\nL 45.3125 8.40625 \r\nQ 42.046875 3.421875 37.71875 1 \r\nQ 33.40625 -1.421875 27.6875 -1.421875 \r\nQ 18.265625 -1.421875 13.375 4.4375 \r\nQ 8.5 10.296875 8.5 21.578125 \r\nz\r\nM 31.109375 56 \r\nz\r\n\" id=\"DejaVuSans-117\"/>\r\n      <path d=\"M 64.40625 67.28125 \r\nL 64.40625 56.890625 \r\nQ 59.421875 61.53125 53.78125 63.8125 \r\nQ 48.140625 66.109375 41.796875 66.109375 \r\nQ 29.296875 66.109375 22.65625 58.46875 \r\nQ 16.015625 50.828125 16.015625 36.375 \r\nQ 16.015625 21.96875 22.65625 14.328125 \r\nQ 29.296875 6.6875 41.796875 6.6875 \r\nQ 48.140625 6.6875 53.78125 8.984375 \r\nQ 59.421875 11.28125 64.40625 15.921875 \r\nL 64.40625 5.609375 \r\nQ 59.234375 2.09375 53.4375 0.328125 \r\nQ 47.65625 -1.421875 41.21875 -1.421875 \r\nQ 24.65625 -1.421875 15.125 8.703125 \r\nQ 5.609375 18.84375 5.609375 36.375 \r\nQ 5.609375 53.953125 15.125 64.078125 \r\nQ 24.65625 74.21875 41.21875 74.21875 \r\nQ 47.75 74.21875 53.53125 72.484375 \r\nQ 59.328125 70.75 64.40625 67.28125 \r\nz\r\n\" id=\"DejaVuSans-67\"/>\r\n     </defs>\r\n     <g transform=\"translate(14.798438 161.531875)rotate(-90)scale(0.1 -0.1)\">\r\n      <use xlink:href=\"#DejaVuSans-65\"/>\r\n      <use x=\"68.392578\" xlink:href=\"#DejaVuSans-99\"/>\r\n      <use x=\"123.373047\" xlink:href=\"#DejaVuSans-116\"/>\r\n      <use x=\"162.582031\" xlink:href=\"#DejaVuSans-117\"/>\r\n      <use x=\"225.960938\" xlink:href=\"#DejaVuSans-97\"/>\r\n      <use x=\"287.240234\" xlink:href=\"#DejaVuSans-108\"/>\r\n      <use x=\"315.023438\" xlink:href=\"#DejaVuSans-32\"/>\r\n      <use x=\"346.810547\" xlink:href=\"#DejaVuSans-67\"/>\r\n      <use x=\"416.634766\" xlink:href=\"#DejaVuSans-108\"/>\r\n      <use x=\"444.417969\" xlink:href=\"#DejaVuSans-97\"/>\r\n      <use x=\"505.697266\" xlink:href=\"#DejaVuSans-115\"/>\r\n      <use x=\"557.796875\" xlink:href=\"#DejaVuSans-115\"/>\r\n     </g>\r\n    </g>\r\n   </g>\r\n   <g id=\"text_7\">\r\n    <!-- 251 -->\r\n    <defs>\r\n     <path d=\"M 19.1875 8.296875 \r\nL 53.609375 8.296875 \r\nL 53.609375 0 \r\nL 7.328125 0 \r\nL 7.328125 8.296875 \r\nQ 12.9375 14.109375 22.625 23.890625 \r\nQ 32.328125 33.6875 34.8125 36.53125 \r\nQ 39.546875 41.84375 41.421875 45.53125 \r\nQ 43.3125 49.21875 43.3125 52.78125 \r\nQ 43.3125 58.59375 39.234375 62.25 \r\nQ 35.15625 65.921875 28.609375 65.921875 \r\nQ 23.96875 65.921875 18.8125 64.3125 \r\nQ 13.671875 62.703125 7.8125 59.421875 \r\nL 7.8125 69.390625 \r\nQ 13.765625 71.78125 18.9375 73 \r\nQ 24.125 74.21875 28.421875 74.21875 \r\nQ 39.75 74.21875 46.484375 68.546875 \r\nQ 53.21875 62.890625 53.21875 53.421875 \r\nQ 53.21875 48.921875 51.53125 44.890625 \r\nQ 49.859375 40.875 45.40625 35.40625 \r\nQ 44.1875 33.984375 37.640625 27.21875 \r\nQ 31.109375 20.453125 19.1875 8.296875 \r\nz\r\n\" id=\"DejaVuSans-50\"/>\r\n     <path d=\"M 10.796875 72.90625 \r\nL 49.515625 72.90625 \r\nL 49.515625 64.59375 \r\nL 19.828125 64.59375 \r\nL 19.828125 46.734375 \r\nQ 21.96875 47.46875 24.109375 47.828125 \r\nQ 26.265625 48.1875 28.421875 48.1875 \r\nQ 40.625 48.1875 47.75 41.5 \r\nQ 54.890625 34.8125 54.890625 23.390625 \r\nQ 54.890625 11.625 47.5625 5.09375 \r\nQ 40.234375 -1.421875 26.90625 -1.421875 \r\nQ 22.3125 -1.421875 17.546875 -0.640625 \r\nQ 12.796875 0.140625 7.71875 1.703125 \r\nL 7.71875 11.625 \r\nQ 12.109375 9.234375 16.796875 8.0625 \r\nQ 21.484375 6.890625 26.703125 6.890625 \r\nQ 35.15625 6.890625 40.078125 11.328125 \r\nQ 45.015625 15.765625 45.015625 23.390625 \r\nQ 45.015625 31 40.078125 35.4375 \r\nQ 35.15625 39.890625 26.703125 39.890625 \r\nQ 22.75 39.890625 18.8125 39.015625 \r\nQ 14.890625 38.140625 10.796875 36.28125 \r\nz\r\n\" id=\"DejaVuSans-53\"/>\r\n     <path d=\"M 12.40625 8.296875 \r\nL 28.515625 8.296875 \r\nL 28.515625 63.921875 \r\nL 10.984375 60.40625 \r\nL 10.984375 69.390625 \r\nL 28.421875 72.90625 \r\nL 38.28125 72.90625 \r\nL 38.28125 8.296875 \r\nL 54.390625 8.296875 \r\nL 54.390625 0 \r\nL 12.40625 0 \r\nz\r\n\" id=\"DejaVuSans-49\"/>\r\n    </defs>\r\n    <g style=\"fill:#262626;\" transform=\"translate(94.9725 79.4375)scale(0.1 -0.1)\">\r\n     <use xlink:href=\"#DejaVuSans-50\"/>\r\n     <use x=\"63.623047\" xlink:href=\"#DejaVuSans-53\"/>\r\n     <use x=\"127.246094\" xlink:href=\"#DejaVuSans-49\"/>\r\n    </g>\r\n   </g>\r\n   <g id=\"text_8\">\r\n    <!-- 26 -->\r\n    <defs>\r\n     <path d=\"M 33.015625 40.375 \r\nQ 26.375 40.375 22.484375 35.828125 \r\nQ 18.609375 31.296875 18.609375 23.390625 \r\nQ 18.609375 15.53125 22.484375 10.953125 \r\nQ 26.375 6.390625 33.015625 6.390625 \r\nQ 39.65625 6.390625 43.53125 10.953125 \r\nQ 47.40625 15.53125 47.40625 23.390625 \r\nQ 47.40625 31.296875 43.53125 35.828125 \r\nQ 39.65625 40.375 33.015625 40.375 \r\nz\r\nM 52.59375 71.296875 \r\nL 52.59375 62.3125 \r\nQ 48.875 64.0625 45.09375 64.984375 \r\nQ 41.3125 65.921875 37.59375 65.921875 \r\nQ 27.828125 65.921875 22.671875 59.328125 \r\nQ 17.53125 52.734375 16.796875 39.40625 \r\nQ 19.671875 43.65625 24.015625 45.921875 \r\nQ 28.375 48.1875 33.59375 48.1875 \r\nQ 44.578125 48.1875 50.953125 41.515625 \r\nQ 57.328125 34.859375 57.328125 23.390625 \r\nQ 57.328125 12.15625 50.6875 5.359375 \r\nQ 44.046875 -1.421875 33.015625 -1.421875 \r\nQ 20.359375 -1.421875 13.671875 8.265625 \r\nQ 6.984375 17.96875 6.984375 36.375 \r\nQ 6.984375 53.65625 15.1875 63.9375 \r\nQ 23.390625 74.21875 37.203125 74.21875 \r\nQ 40.921875 74.21875 44.703125 73.484375 \r\nQ 48.484375 72.75 52.59375 71.296875 \r\nz\r\n\" id=\"DejaVuSans-54\"/>\r\n    </defs>\r\n    <g style=\"fill:#ffffff;\" transform=\"translate(232.07375 79.4375)scale(0.1 -0.1)\">\r\n     <use xlink:href=\"#DejaVuSans-50\"/>\r\n     <use x=\"63.623047\" xlink:href=\"#DejaVuSans-54\"/>\r\n    </g>\r\n   </g>\r\n   <g id=\"text_9\">\r\n    <!-- 109 -->\r\n    <defs>\r\n     <path d=\"M 31.78125 66.40625 \r\nQ 24.171875 66.40625 20.328125 58.90625 \r\nQ 16.5 51.421875 16.5 36.375 \r\nQ 16.5 21.390625 20.328125 13.890625 \r\nQ 24.171875 6.390625 31.78125 6.390625 \r\nQ 39.453125 6.390625 43.28125 13.890625 \r\nQ 47.125 21.390625 47.125 36.375 \r\nQ 47.125 51.421875 43.28125 58.90625 \r\nQ 39.453125 66.40625 31.78125 66.40625 \r\nz\r\nM 31.78125 74.21875 \r\nQ 44.046875 74.21875 50.515625 64.515625 \r\nQ 56.984375 54.828125 56.984375 36.375 \r\nQ 56.984375 17.96875 50.515625 8.265625 \r\nQ 44.046875 -1.421875 31.78125 -1.421875 \r\nQ 19.53125 -1.421875 13.0625 8.265625 \r\nQ 6.59375 17.96875 6.59375 36.375 \r\nQ 6.59375 54.828125 13.0625 64.515625 \r\nQ 19.53125 74.21875 31.78125 74.21875 \r\nz\r\n\" id=\"DejaVuSans-48\"/>\r\n     <path d=\"M 10.984375 1.515625 \r\nL 10.984375 10.5 \r\nQ 14.703125 8.734375 18.5 7.8125 \r\nQ 22.3125 6.890625 25.984375 6.890625 \r\nQ 35.75 6.890625 40.890625 13.453125 \r\nQ 46.046875 20.015625 46.78125 33.40625 \r\nQ 43.953125 29.203125 39.59375 26.953125 \r\nQ 35.25 24.703125 29.984375 24.703125 \r\nQ 19.046875 24.703125 12.671875 31.3125 \r\nQ 6.296875 37.9375 6.296875 49.421875 \r\nQ 6.296875 60.640625 12.9375 67.421875 \r\nQ 19.578125 74.21875 30.609375 74.21875 \r\nQ 43.265625 74.21875 49.921875 64.515625 \r\nQ 56.59375 54.828125 56.59375 36.375 \r\nQ 56.59375 19.140625 48.40625 8.859375 \r\nQ 40.234375 -1.421875 26.421875 -1.421875 \r\nQ 22.703125 -1.421875 18.890625 -0.6875 \r\nQ 15.09375 0.046875 10.984375 1.515625 \r\nz\r\nM 30.609375 32.421875 \r\nQ 37.25 32.421875 41.125 36.953125 \r\nQ 45.015625 41.5 45.015625 49.421875 \r\nQ 45.015625 57.28125 41.125 61.84375 \r\nQ 37.25 66.40625 30.609375 66.40625 \r\nQ 23.96875 66.40625 20.09375 61.84375 \r\nQ 16.21875 57.28125 16.21875 49.421875 \r\nQ 16.21875 41.5 20.09375 36.953125 \r\nQ 23.96875 32.421875 30.609375 32.421875 \r\nz\r\n\" id=\"DejaVuSans-57\"/>\r\n    </defs>\r\n    <g style=\"fill:#ffffff;\" transform=\"translate(94.9725 188.1575)scale(0.1 -0.1)\">\r\n     <use xlink:href=\"#DejaVuSans-49\"/>\r\n     <use x=\"63.623047\" xlink:href=\"#DejaVuSans-48\"/>\r\n     <use x=\"127.246094\" xlink:href=\"#DejaVuSans-57\"/>\r\n    </g>\r\n   </g>\r\n   <g id=\"text_10\">\r\n    <!-- 114 -->\r\n    <defs>\r\n     <path d=\"M 37.796875 64.3125 \r\nL 12.890625 25.390625 \r\nL 37.796875 25.390625 \r\nz\r\nM 35.203125 72.90625 \r\nL 47.609375 72.90625 \r\nL 47.609375 25.390625 \r\nL 58.015625 25.390625 \r\nL 58.015625 17.1875 \r\nL 47.609375 17.1875 \r\nL 47.609375 0 \r\nL 37.796875 0 \r\nL 37.796875 17.1875 \r\nL 4.890625 17.1875 \r\nL 4.890625 26.703125 \r\nz\r\n\" id=\"DejaVuSans-52\"/>\r\n    </defs>\r\n    <g style=\"fill:#ffffff;\" transform=\"translate(228.8925 188.1575)scale(0.1 -0.1)\">\r\n     <use xlink:href=\"#DejaVuSans-49\"/>\r\n     <use x=\"63.623047\" xlink:href=\"#DejaVuSans-49\"/>\r\n     <use x=\"127.246094\" xlink:href=\"#DejaVuSans-52\"/>\r\n    </g>\r\n   </g>\r\n   <g id=\"text_11\">\r\n    <!-- Confusion Matrix -->\r\n    <defs>\r\n     <path d=\"M 30.609375 48.390625 \r\nQ 23.390625 48.390625 19.1875 42.75 \r\nQ 14.984375 37.109375 14.984375 27.296875 \r\nQ 14.984375 17.484375 19.15625 11.84375 \r\nQ 23.34375 6.203125 30.609375 6.203125 \r\nQ 37.796875 6.203125 41.984375 11.859375 \r\nQ 46.1875 17.53125 46.1875 27.296875 \r\nQ 46.1875 37.015625 41.984375 42.703125 \r\nQ 37.796875 48.390625 30.609375 48.390625 \r\nz\r\nM 30.609375 56 \r\nQ 42.328125 56 49.015625 48.375 \r\nQ 55.71875 40.765625 55.71875 27.296875 \r\nQ 55.71875 13.875 49.015625 6.21875 \r\nQ 42.328125 -1.421875 30.609375 -1.421875 \r\nQ 18.84375 -1.421875 12.171875 6.21875 \r\nQ 5.515625 13.875 5.515625 27.296875 \r\nQ 5.515625 40.765625 12.171875 48.375 \r\nQ 18.84375 56 30.609375 56 \r\nz\r\n\" id=\"DejaVuSans-111\"/>\r\n     <path d=\"M 54.890625 33.015625 \r\nL 54.890625 0 \r\nL 45.90625 0 \r\nL 45.90625 32.71875 \r\nQ 45.90625 40.484375 42.875 44.328125 \r\nQ 39.84375 48.1875 33.796875 48.1875 \r\nQ 26.515625 48.1875 22.3125 43.546875 \r\nQ 18.109375 38.921875 18.109375 30.90625 \r\nL 18.109375 0 \r\nL 9.078125 0 \r\nL 9.078125 54.6875 \r\nL 18.109375 54.6875 \r\nL 18.109375 46.1875 \r\nQ 21.34375 51.125 25.703125 53.5625 \r\nQ 30.078125 56 35.796875 56 \r\nQ 45.21875 56 50.046875 50.171875 \r\nQ 54.890625 44.34375 54.890625 33.015625 \r\nz\r\n\" id=\"DejaVuSans-110\"/>\r\n     <path d=\"M 37.109375 75.984375 \r\nL 37.109375 68.5 \r\nL 28.515625 68.5 \r\nQ 23.6875 68.5 21.796875 66.546875 \r\nQ 19.921875 64.59375 19.921875 59.515625 \r\nL 19.921875 54.6875 \r\nL 34.71875 54.6875 \r\nL 34.71875 47.703125 \r\nL 19.921875 47.703125 \r\nL 19.921875 0 \r\nL 10.890625 0 \r\nL 10.890625 47.703125 \r\nL 2.296875 47.703125 \r\nL 2.296875 54.6875 \r\nL 10.890625 54.6875 \r\nL 10.890625 58.5 \r\nQ 10.890625 67.625 15.140625 71.796875 \r\nQ 19.390625 75.984375 28.609375 75.984375 \r\nz\r\n\" id=\"DejaVuSans-102\"/>\r\n     <path d=\"M 9.8125 72.90625 \r\nL 24.515625 72.90625 \r\nL 43.109375 23.296875 \r\nL 61.8125 72.90625 \r\nL 76.515625 72.90625 \r\nL 76.515625 0 \r\nL 66.890625 0 \r\nL 66.890625 64.015625 \r\nL 48.09375 14.015625 \r\nL 38.1875 14.015625 \r\nL 19.390625 64.015625 \r\nL 19.390625 0 \r\nL 9.8125 0 \r\nz\r\n\" id=\"DejaVuSans-77\"/>\r\n     <path d=\"M 54.890625 54.6875 \r\nL 35.109375 28.078125 \r\nL 55.90625 0 \r\nL 45.3125 0 \r\nL 29.390625 21.484375 \r\nL 13.484375 0 \r\nL 2.875 0 \r\nL 24.125 28.609375 \r\nL 4.6875 54.6875 \r\nL 15.28125 54.6875 \r\nL 29.78125 35.203125 \r\nL 44.28125 54.6875 \r\nz\r\n\" id=\"DejaVuSans-120\"/>\r\n    </defs>\r\n    <g transform=\"translate(120.834375 16.318125)scale(0.12 -0.12)\">\r\n     <use xlink:href=\"#DejaVuSans-67\"/>\r\n     <use x=\"69.824219\" xlink:href=\"#DejaVuSans-111\"/>\r\n     <use x=\"131.005859\" xlink:href=\"#DejaVuSans-110\"/>\r\n     <use x=\"194.384766\" xlink:href=\"#DejaVuSans-102\"/>\r\n     <use x=\"229.589844\" xlink:href=\"#DejaVuSans-117\"/>\r\n     <use x=\"292.96875\" xlink:href=\"#DejaVuSans-115\"/>\r\n     <use x=\"345.068359\" xlink:href=\"#DejaVuSans-105\"/>\r\n     <use x=\"372.851562\" xlink:href=\"#DejaVuSans-111\"/>\r\n     <use x=\"434.033203\" xlink:href=\"#DejaVuSans-110\"/>\r\n     <use x=\"497.412109\" xlink:href=\"#DejaVuSans-32\"/>\r\n     <use x=\"529.199219\" xlink:href=\"#DejaVuSans-77\"/>\r\n     <use x=\"615.478516\" xlink:href=\"#DejaVuSans-97\"/>\r\n     <use x=\"676.757812\" xlink:href=\"#DejaVuSans-116\"/>\r\n     <use x=\"715.966797\" xlink:href=\"#DejaVuSans-114\"/>\r\n     <use x=\"757.080078\" xlink:href=\"#DejaVuSans-105\"/>\r\n     <use x=\"784.863281\" xlink:href=\"#DejaVuSans-120\"/>\r\n    </g>\r\n   </g>\r\n  </g>\r\n  <g id=\"axes_2\">\r\n   <g id=\"patch_3\">\r\n    <path clip-path=\"url(#pa7a74b5438)\" d=\"M 322.13625 239.758125 \r\nL 322.13625 238.90875 \r\nL 322.13625 23.1675 \r\nL 322.13625 22.318125 \r\nL 333.00825 22.318125 \r\nL 333.00825 23.1675 \r\nL 333.00825 238.90875 \r\nL 333.00825 239.758125 \r\nz\r\n\" style=\"fill:#ffffff;stroke:#ffffff;stroke-linejoin:miter;stroke-width:0.01;\"/>\r\n   </g>\r\n   <image height=\"217\" id=\"image902b5de6dc\" transform=\"scale(1 -1)translate(0 -217)\" width=\"11\" x=\"322\" xlink:href=\"data:image/png;base64,\r\niVBORw0KGgoAAAANSUhEUgAAAAsAAADZCAYAAAD2WsoCAAAABHNCSVQICAgIfAhkiAAAAVJJREFUaIHV2kEOAjEMQ9GmDZfg/veEK/QtLKWsLcv5dToMovrz/a3LT1fVrXb1rn0vRmcQ14o5i/gIjVyMLTRyAw7JjM4woNHIVXSGs5V/ynHLgGtE+W3Aa6l2YwgNK/+1NNoNipHcFIiRGxBPcEj5Y62LOefQ9ZCFFTHRODHnIQPu69cDp0Hi2HaTeAgNiZGjcSQGHreIn6Rxr7YBc/dG/yAzck7RKHK+N159Ys6YWcRwKhbjFMWIFYmcRXygduaMma+1yRgbLruuIehgCTFGjoahu9aiMw6YikHOK9aN3RLDaDzoDDd0FzyBLMYSZ4sRHDAlpl97LAa81iQPhcTy+7N8Weva4pzLbOjE+eSO+0F0RoNijKBRtN3GOSa2u47Kf/+kH5PZYgyhMaNINGAuc8y5Sra7X6QRu76kG8Z5RjfW+UyIQf+ySN51QuPFAWFT/gJ8LSOCIrIBAAAAAElFTkSuQmCC\" y=\"-22\"/>\r\n   <g id=\"matplotlib.axis_3\"/>\r\n   <g id=\"matplotlib.axis_4\">\r\n    <g id=\"ytick_3\">\r\n     <g id=\"line2d_5\">\r\n      <defs>\r\n       <path d=\"M 0 0 \r\nL 3.5 0 \r\n\" id=\"mf6e7ca06e0\" style=\"stroke:#000000;stroke-width:0.8;\"/>\r\n      </defs>\r\n      <g>\r\n       <use style=\"stroke:#000000;stroke-width:0.8;\" x=\"333.00825\" xlink:href=\"#mf6e7ca06e0\" y=\"216.564525\"/>\r\n      </g>\r\n     </g>\r\n     <g id=\"text_12\">\r\n      <!-- 50 -->\r\n      <g transform=\"translate(340.00825 220.363744)scale(0.1 -0.1)\">\r\n       <use xlink:href=\"#DejaVuSans-53\"/>\r\n       <use x=\"63.623047\" xlink:href=\"#DejaVuSans-48\"/>\r\n      </g>\r\n     </g>\r\n    </g>\r\n    <g id=\"ytick_4\">\r\n     <g id=\"line2d_6\">\r\n      <g>\r\n       <use style=\"stroke:#000000;stroke-width:0.8;\" x=\"333.00825\" xlink:href=\"#mf6e7ca06e0\" y=\"192.404525\"/>\r\n      </g>\r\n     </g>\r\n     <g id=\"text_13\">\r\n      <!-- 75 -->\r\n      <defs>\r\n       <path d=\"M 8.203125 72.90625 \r\nL 55.078125 72.90625 \r\nL 55.078125 68.703125 \r\nL 28.609375 0 \r\nL 18.3125 0 \r\nL 43.21875 64.59375 \r\nL 8.203125 64.59375 \r\nz\r\n\" id=\"DejaVuSans-55\"/>\r\n      </defs>\r\n      <g transform=\"translate(340.00825 196.203744)scale(0.1 -0.1)\">\r\n       <use xlink:href=\"#DejaVuSans-55\"/>\r\n       <use x=\"63.623047\" xlink:href=\"#DejaVuSans-53\"/>\r\n      </g>\r\n     </g>\r\n    </g>\r\n    <g id=\"ytick_5\">\r\n     <g id=\"line2d_7\">\r\n      <g>\r\n       <use style=\"stroke:#000000;stroke-width:0.8;\" x=\"333.00825\" xlink:href=\"#mf6e7ca06e0\" y=\"168.244525\"/>\r\n      </g>\r\n     </g>\r\n     <g id=\"text_14\">\r\n      <!-- 100 -->\r\n      <g transform=\"translate(340.00825 172.043744)scale(0.1 -0.1)\">\r\n       <use xlink:href=\"#DejaVuSans-49\"/>\r\n       <use x=\"63.623047\" xlink:href=\"#DejaVuSans-48\"/>\r\n       <use x=\"127.246094\" xlink:href=\"#DejaVuSans-48\"/>\r\n      </g>\r\n     </g>\r\n    </g>\r\n    <g id=\"ytick_6\">\r\n     <g id=\"line2d_8\">\r\n      <g>\r\n       <use style=\"stroke:#000000;stroke-width:0.8;\" x=\"333.00825\" xlink:href=\"#mf6e7ca06e0\" y=\"144.084525\"/>\r\n      </g>\r\n     </g>\r\n     <g id=\"text_15\">\r\n      <!-- 125 -->\r\n      <g transform=\"translate(340.00825 147.883744)scale(0.1 -0.1)\">\r\n       <use xlink:href=\"#DejaVuSans-49\"/>\r\n       <use x=\"63.623047\" xlink:href=\"#DejaVuSans-50\"/>\r\n       <use x=\"127.246094\" xlink:href=\"#DejaVuSans-53\"/>\r\n      </g>\r\n     </g>\r\n    </g>\r\n    <g id=\"ytick_7\">\r\n     <g id=\"line2d_9\">\r\n      <g>\r\n       <use style=\"stroke:#000000;stroke-width:0.8;\" x=\"333.00825\" xlink:href=\"#mf6e7ca06e0\" y=\"119.924525\"/>\r\n      </g>\r\n     </g>\r\n     <g id=\"text_16\">\r\n      <!-- 150 -->\r\n      <g transform=\"translate(340.00825 123.723744)scale(0.1 -0.1)\">\r\n       <use xlink:href=\"#DejaVuSans-49\"/>\r\n       <use x=\"63.623047\" xlink:href=\"#DejaVuSans-53\"/>\r\n       <use x=\"127.246094\" xlink:href=\"#DejaVuSans-48\"/>\r\n      </g>\r\n     </g>\r\n    </g>\r\n    <g id=\"ytick_8\">\r\n     <g id=\"line2d_10\">\r\n      <g>\r\n       <use style=\"stroke:#000000;stroke-width:0.8;\" x=\"333.00825\" xlink:href=\"#mf6e7ca06e0\" y=\"95.764525\"/>\r\n      </g>\r\n     </g>\r\n     <g id=\"text_17\">\r\n      <!-- 175 -->\r\n      <g transform=\"translate(340.00825 99.563744)scale(0.1 -0.1)\">\r\n       <use xlink:href=\"#DejaVuSans-49\"/>\r\n       <use x=\"63.623047\" xlink:href=\"#DejaVuSans-55\"/>\r\n       <use x=\"127.246094\" xlink:href=\"#DejaVuSans-53\"/>\r\n      </g>\r\n     </g>\r\n    </g>\r\n    <g id=\"ytick_9\">\r\n     <g id=\"line2d_11\">\r\n      <g>\r\n       <use style=\"stroke:#000000;stroke-width:0.8;\" x=\"333.00825\" xlink:href=\"#mf6e7ca06e0\" y=\"71.604525\"/>\r\n      </g>\r\n     </g>\r\n     <g id=\"text_18\">\r\n      <!-- 200 -->\r\n      <g transform=\"translate(340.00825 75.403744)scale(0.1 -0.1)\">\r\n       <use xlink:href=\"#DejaVuSans-50\"/>\r\n       <use x=\"63.623047\" xlink:href=\"#DejaVuSans-48\"/>\r\n       <use x=\"127.246094\" xlink:href=\"#DejaVuSans-48\"/>\r\n      </g>\r\n     </g>\r\n    </g>\r\n    <g id=\"ytick_10\">\r\n     <g id=\"line2d_12\">\r\n      <g>\r\n       <use style=\"stroke:#000000;stroke-width:0.8;\" x=\"333.00825\" xlink:href=\"#mf6e7ca06e0\" y=\"47.444525\"/>\r\n      </g>\r\n     </g>\r\n     <g id=\"text_19\">\r\n      <!-- 225 -->\r\n      <g transform=\"translate(340.00825 51.243744)scale(0.1 -0.1)\">\r\n       <use xlink:href=\"#DejaVuSans-50\"/>\r\n       <use x=\"63.623047\" xlink:href=\"#DejaVuSans-50\"/>\r\n       <use x=\"127.246094\" xlink:href=\"#DejaVuSans-53\"/>\r\n      </g>\r\n     </g>\r\n    </g>\r\n    <g id=\"ytick_11\">\r\n     <g id=\"line2d_13\">\r\n      <g>\r\n       <use style=\"stroke:#000000;stroke-width:0.8;\" x=\"333.00825\" xlink:href=\"#mf6e7ca06e0\" y=\"23.284525\"/>\r\n      </g>\r\n     </g>\r\n     <g id=\"text_20\">\r\n      <!-- 250 -->\r\n      <g transform=\"translate(340.00825 27.083744)scale(0.1 -0.1)\">\r\n       <use xlink:href=\"#DejaVuSans-50\"/>\r\n       <use x=\"63.623047\" xlink:href=\"#DejaVuSans-53\"/>\r\n       <use x=\"127.246094\" xlink:href=\"#DejaVuSans-48\"/>\r\n      </g>\r\n     </g>\r\n    </g>\r\n   </g>\r\n   <g id=\"patch_4\">\r\n    <path d=\"M 322.13625 239.758125 \r\nL 322.13625 238.90875 \r\nL 322.13625 23.1675 \r\nL 322.13625 22.318125 \r\nL 333.00825 22.318125 \r\nL 333.00825 23.1675 \r\nL 333.00825 238.90875 \r\nL 333.00825 239.758125 \r\nz\r\n\" style=\"fill:none;\"/>\r\n   </g>\r\n  </g>\r\n </g>\r\n <defs>\r\n  <clipPath id=\"p2971599d27\">\r\n   <rect height=\"217.44\" width=\"267.84\" x=\"37.55625\" y=\"22.318125\"/>\r\n  </clipPath>\r\n  <clipPath id=\"pa7a74b5438\">\r\n   <rect height=\"217.44\" width=\"10.872\" x=\"322.13625\" y=\"22.318125\"/>\r\n  </clipPath>\r\n </defs>\r\n</svg>\r\n",
            "image/png": "[encoded data removed]"
          },
          "metadata": {
            "needs_background": "light"
          }
        },
        {
          "output_type": "stream",
          "name": "stdout",
          "text": [
            "Number of True Positives (TP):  251\nNumber of True Negatives (TN):  114\nNumber of False Positives (FP):  109\nNumber of False Negatives (FN):  26\n\nAccuracy: 73.0 %\nPrecision: 74.9 %\nRecall: 73.0 %\nF1 Score: 71.7 %\n"
          ]
        }
      ]
    },
    {
      "cell_type": "markdown",
      "metadata": {
        "id": "-lLtt4st9ECn"
      },
      "source": [
        "<p> Let us interpret the above results obtained.\n",
        "<ul>\n",
        "    <li><b>Accuracy</b> is the fraction of predictions that our model got right. It is 73.0% here. </li>\n",
        "    <li><b>Precision</b> indicates the proportion of the instances that the model says was relevant, actually were relevant. It is 74.9% here. It says that 74.9% which were predicted as hate speech is actually hate speech.</li>  \n",
        "   <li><b>Recall</b> indicates the proportion of actually positive instances that are correctly predicted. It is 73.0% here. It says that of all the observations which truly consist of hate speech, we have correctly predicted 73.0% out of it.</li> \n",
        "    <li><b>F1 Score</b> considers both precision and recall. It is the harmonic mean (average) of the Precision and Recall. F1 Score is best if there is some sort of balance between Precision  and Recall in the system as above. The F1 Score for this model is 71.7% which is a reasonable value.</li>\n",
        "</ul>\n",
        "\n",
        "<br>The reason to the increment of FPs over FNs is that this data set consists of more number of \"YES\" labeled data than \"NO\" labeled data. According to the confusion matrix there are 135 errors (FP+FN). Those errors can be retrieved using the below function named <b>get_errors(test_X, test_y, predicted_y). Even when considering all the performance measures this is better than the model that was created using cross validation</b>. </p>"
      ]
    },
    {
      "cell_type": "code",
      "metadata": {
        "id": "d-yV-bmA9ECn",
        "outputId": "8eefde8b-b754-4230-df2e-c7f0da9db4cf",
        "tags": [
          "outputPrepend"
        ]
      },
      "source": [
        "get_errors(test_X=test_X_full, test_y=test_y_full, predicted_y=predicted_y_full_tfidf)"
      ],
      "execution_count": 91,
      "outputs": [
        {
          "output_type": "stream",
          "name": "stdout",
          "text": [
            "e: අපි ඉල්ල වෙනස මල සින්දුකාරයි ඔබ අවධාන පිණිස\nActual Label: YES\nPredicted Label: NO\n\n\n5\nSentence: දහ කතිකාවත අැතිව්නෙ කල පස්සෙ සිංහ අපි දහමෙ ඈ කරා මෙි හොර නඩෙි වාසියිනෙ එ්ක මෙි බ ක හර මොර දේන්නෙ\nActual Label: YES\nPredicted Label: NO\n\n\n6\nSentence: මෙ හිත ඉ මේ කර ලන්කා කි කාර්දේෂ වෙ වෙන්නැ අරු එක හරිය කුණුහරුප රැප න\nActual Label: YES\nPredicted Label: NO\n\n\n7\nSentence: Lankawe wage political majarayo innakam police quality eka wadi karanna baha\nActual Label: YES\nPredicted Label: NO\n\n\n8\nSentence: 4 simawata giya eka hatharak reka genimata noheki unaa\nActual Label: YES\nPredicted Label: NO\n\n\n9\nSentence: Mewa gobba weda ban desapalanayata kade yama saha athata atha dimai kiyanne dekak anika desapalakayata wirodaya panne thawa ekekta kade yanagaman newe\nActual Label: YES\nPredicted Label: NO\n\n\n10\nSentence: Mewa දාගෙන baik peddehekida ban හඳට යන්න වගේ nala පිරිසිදුව hitapallako oya මොකවත් kahanne ne\nActual Label: YES\nPredicted Label: NO\n\n\n11\nSentence: රටෙ දේ විකුනං ක උ කඩෙ ය ර හැග නැ උ තව ඉන් කිය පෙන්නු ස්තූති දැ අප අායෙ ෆ ර වයිෆ ලැබෙ නේ\nActual Label: YES\nPredicted Label: NO\n\n\n12\nSentence: ම තම වෙල කර තියෙ හොද ද අපි තෝර දෙන්න අගමැ කිය ර කා පො රන කොහොම ආ\nActual Label: YES\nPredicted Label: NO\n\n\n13\nSentence: Thattayaa mokek daa uuu karikii karikii innee pissek wagee udauu karannee nathywaa mona pissek daa mandaa\nActual Label: YES\nPredicted Label: NO\n\n\n14\nSentence: විමල් ආදරණ සිරිසේ අ රා රි නට පිස්ස නිවැරදි සදහන්කර රා ර පුරා ඔබ නැවුම් තබ ව යාඝ පෙත්ත දිනාග\nActual Label: YES\nPredicted Label: NO\n\n\n15\nSentence: Lankawe un kapu beepu ewa ethanama rena unt a mewa hariyaida\nActual Label: YES\nPredicted Label: NO\n\n\n16\nSentence: patta Try eka SI kenekds koheda kohoma hari Tackle kara\nActual Label: YES\nPredicted Label: NO\n\n\n17\nSentence: තම්බිය සි0හල ගහද්දි නික හිටි\nActual Label: YES\nPredicted Label: NO\n\n\n18\nSentence: ම ග ඇ වැඩ නැ උන ඉඩ හිට වැදග දෙවලු නොකිය ව නෙවෙ\nActual Label: YES\nPredicted Label: NO\n\n\n19\nSentence: හෙ ඉද අයි අයි සැලැන්ඩර මල්ලි\nActual Label: YES\nPredicted Label: NO\n\n\n20\nSentence: Oyage thawakalika sathuta uparima winda ganna okata windawanna weddi daraganna bari wei\nActual Label: YES\nPredicted Label: NO\n\n\n21\nSentence: වැරැද් දූශිත දේශපාලක ආරාධ කර එ ඇත්ත ඉතිහාස කොහේ විදි විරෝධත්ව පෙන්න නැත්ත සදාචාර සමාජ ගැලපෙ නැතිනිස වයස මුහුකුර යනවැ කිය දැක් තැ හොර අල්ලගෙ තඩිබා එ නෙවෙ කලාකාරය තමන් නිර්මාණ තු විරෝධත්ව පෙන්නන ව දේශපාලකයන් අනුග රහ තියෙ සම්මා උලෙළ ප රතික්ෂේප කරන දිය සමාජ පෙනෙ රස්තියාද ගත දේශපාලන මට්ට අනුර මහින්ද අතර\nActual Label: YES\nPredicted Label: NO\n\n\n22\nSentence: දිලි ජයවීර දේශපාල ඩීල දා නෙමෙ දම්මි පෙරේර තත් ඉ\nActual Label: NO\nPredicted Label: YES\n\n\n23\nSentence: Yadamin benda vilangu la Mage putha regena yanna Idikatu weni engili thala Dethis wadaya pamunuwanna Aluth lowak gena sithima Danduwam dena warada nam Kumata erata adhikaranaya Neethiya saha vinisuran\nActual Label: YES\nPredicted Label: NO\n\n\n24\nSentence: වෙනස සැප පේනවන මෙි රටෙි නිත බල්ල ගිහ\nActual Label: YES\nPredicted Label: NO\n\n\n25\nSentence: ක රිකට ගහ ඉවරන ගෙදර වෙ ඉද බ බෙරි නොකර\nActual Label: YES\nPredicted Label: NO\n\n\n26\nSentence: 1 දේයියෝ කියලා පක්කු නැ 2 දේයකට කැපවිමේන් හිටියොත් කවදාහරි එ දේ Achieve කරගන්න පුලුවන් 3 පන්සල් පල්ලි කොවිල් ගානේ ගියාට ඇති වැඩක් නැ\nActual Label: YES\nPredicted Label: NO\n\n\n27\nSentence: දැ බැ බැ මේ පෝස්ට දැම් මේ පිලිවෙල මහින්ද කාල සිද්ධ උ ඒ අසංවේද උ මෝඩ උද්ධච්ඡ මිනිස්සුන් ඡන් ව පිහිට ලැබු වෙනස තියෙන්\nActual Label: YES\nPredicted Label: NO\n\n\n28\nSentence: 2015 පැරදිලා ගෙදර ගිය දවසෙ ඇයි සර් ගහල හරි ගත්තෙ නැත්තෙ කියල අහපු නූගත් මිනිස්සුන්ට ඔහු හා ඔහුගේ කසිප්පුකාර එතනෝල්කාර රැල වීරයින් වෙන්න පුඵළුන් ඒත් මේ රටේ ශිෂ්ට සම්පන්න මිනිසුනට තව දුරටත් ඔහු වීරයෙක් නෙමේ ගුඩ් බායි මහින්ද\nActual Label: YES\nPredicted Label: NO\n\n\n29\nSentence: තිය අ දෙන වැඩි අසර අ ඉන්න එ අයටන දෙ ඔි\nActual Label: YES\nPredicted Label: NO\n\n\n30\nSentence: පාර්ලිමේන්ත විසුර හැරි පියාසර කිරි උත්සාහ කර සමනළ ශිුලං පොලිස වලක අවස්ථා\nActual Label: YES\nPredicted Label: NO\n\n\n31\nSentence: බැ හදාග කිය ව වහග උ විනාඩි නිශ්ශබ්දතා\nActual Label: NO\nPredicted Label: YES\n\n\n32\nSentence: KISI PRASNAYA NAHE APE RATE SALLI THIYENAWA KABASINIYA KARANNA THAWA ONE THARAM\nActual Label: YES\nPredicted Label: NO\n\n\n33\nSentence: ආඩම්බර වෙල්ලස්ස කිව් ජාති වීර කිව් උ ඉ තැන ඉද අපි හෙ ගහ කියන ඇ හුඟා අ දකි නැත ඇ ගාන නැත ඇ\nActual Label: NO\nPredicted Label: YES\n\n\n34\nSentence: පොලිස්සි එව බද කිගදිවි පුහු ක එ සුද මහත්ත ස්තු\nActual Label: YES\nPredicted Label: NO\n\n\n35\nSentence: filty kiyanne mokekda guu punchekne mekath u wagema ui ara wili lajja nathi kaalakanni ganui ekathuwela karapu marketing ekak amana wadak ithing tharuuna paramparawai podi eunwai wanasanna hondai hiiiiiiiiiiiiii thiyaganin kotte yata laksha dahaya\nActual Label: YES\nPredicted Label: NO\n\n\n36\nSentence: ප සිද්දවෙ සිංහල කත කර ඉංග රීසි කත කර මෙයාල කතා අහ ඉ ලැජ්ජ\nActual Label: YES\nPredicted Label: NO\n\n\n37\nSentence: රට තර දේ තියන මාධ මිනුසුන් දැන කර වැඩ නැ අසභ විදිහ සමාජ සාරධර් කෙලස ගණිකා ජනප රියත්ව ලබ නොද ඔබ මාධ ප රයොජන දෙ යොදව\nActual Label: YES\nPredicted Label: NO\n\n\n38\nSentence: munva melokayata jataka karpu demaupiyange veradda putha\nActual Label: YES\nPredicted Label: NO\n\n\n39\nSentence: වැරැද් ක දඩ ගහ\nActual Label: NO\nPredicted Label: YES\n\n\n40\nSentence: ක දරුවො බ ම ගෑ ඉස්සරහ මිනිහ කිය සමනලයෙක්ල ගෑනි ඉන් ග ව ව\nActual Label: YES\nPredicted Label: NO\n\n\n41\nSentence: මැච දිනන්නැත්ත ගහ උන් බැරික පාල මණ්ඩල මො හිටි ලක විකට ග පුලු එ ගන් බැරි එ\nActual Label: NO\nPredicted Label: YES\n\n\n42\nSentence: මේ වෙනස නොවෙ පාතාල දේශපාලු නිර්මාණ කර ඇරෙ රට සාධාරණ සමාජ බි කිර උ උවමනා නැ කාලකන් ජාති\nActual Label: NO\nPredicted Label: YES\n\n\n43\nSentence: And kohoma hari karanawanam onna niyama wadak\nActual Label: YES\nPredicted Label: NO\n\n\n44\nSentence: මටන හිතෙ මිනිහ ඇත්ත ඩයල එ කිය\nActual Label: NO\nPredicted Label: YES\n\n\n45\nSentence: මො කමෙන්ට කරන්න කිය හිත හිත බැරි තැ අතඇර දැම්ම\nActual Label: YES\nPredicted Label: NO\n\n\n46\nSentence: Mita goda kelakata kalin ada me una de NM perera mahaththya deka ahuwalu pissek Janadhipathi unoth mokada karanne kiyala E e wiwasthawa dekala\nActual Label: YES\nPredicted Label: NO\n\n\n47\nSentence: උ හම්බන්තො පාරෙ පාසල වෙලා පුංචි දරුව ය පාසල නැත ල විකුනන\nActual Label: YES\nPredicted Label: NO\n\n\n48\nSentence: ලංක ඉංජිනේරු ගණකාධිකාරීවර කළමණාකරු වෛද යවර ලො ජයගත්ත උ සියල ආදර පා රවන්න දෙමවුපි සි සතුට කරන්න ව අතර ස්වෝත්සහ නැගීසිටින්න රණවිරු නිර්මාණකරු දෙමාපි ලජ්ජ ඇතිකරව සුල නීච අධ පාහර කාලකන් ව වදි තැන වැද\nActual Label: YES\nPredicted Label: NO\n\n\n49\nSentence: පිස්සු හුත්තිලා මුන් වගේ උන් නිසා හොඳ කෙල්ලන්වත් දූෂණය කරන්න නාකි ඉතිං දුවනවා කියපන්කෝ මේ මෙයාව sponsor කරන්න එතකොට තව ඔයිට වඩා නාකි උන්ටත් ඔහොම බදාගෙන ඉන්න පුළුවන් අනේ පව් Sponsor කරලා විතරයිනෙ අනෙ අම්මේ උඹල වගේ උනුත් පලයල්ලකො පාර්ලිමේන්තුවට\nActual Label: YES\nPredicted Label: NO\n\n\n50\nSentence: Oita wada hinsa appa rata wanawa podi daruwo antha karanawa apra karayo koha baluwah ma gani matharamma sundara wasthuwakda balla giya ratak apa buddha cjiwaraya gana harima dukai\nActual Label: YES\nPredicted Label: NO\n\n\n51\nSentence: mudukku wala heduna awn thama me widiyata hesirenne kisima wili lejjawak nethi wesaganan wahinakota hena gahanna one munta lankawa winasa karanawata\nActual Label: NO\nPredicted Label: YES\n\n\n52\nSentence: ලැජ්ජ රට පාලක විධි ගජබි කෙලිනඑකගැ\nActual Label: NO\nPredicted Label: YES\n\n\n53\nSentence: වීඩි හදාගෙ එව් ලී කරගෙ ජනප ර වෙ විදි දු වැඩ දැ සෙට එක දැක්ක අප්පිරි\nActual Label: YES\nPredicted Label: NO\n\n\n54\nSentence: Kiyanna kanagaatui ape lankawe mewage unanam mokakin mokak weida danne ne aa tharamatama gunayahapath kam adui\nActual Label: NO\nPredicted Label: YES\n\n\n55\nSentence: දවල් ෆිල්ම් වගයක් බාගෙන ගියා data package එකම ඉවරවෙලා දැන් හිටපන්කො ඉතින් පකයා වගේ මාසෙ ඉවරවෙනකල්\nActual Label: YES\nPredicted Label: NO\n\n\n56\nSentence: අපේ සල්ලි නාස්ති කරන්නේ මේ පර බල්ලෝ ලක්ෂ 45 ක් විතර යනවා එක වාරෙකට රැස් වෙන්න\nActual Label: YES\nPredicted Label: NO\n\n\n57\nSentence: අප පු ආඩම්බර තාත්ත දරු ගුරුවර ගෝලයි කොන්දොස්තර මගී දේශපාලක ඡන් දායක සිංහල මුස්ලි අ නොවෙ ගෙදර ඉ බල් පු ආඩම්බරක පෙන්ව ඉන් අප නොදිය භාව ඇ වෙ තියෙ\nActual Label: NO\nPredicted Label: YES\n\n\n58\nSentence: උන්ගේ ෆයිල් ඇද්දාම 77 88 89 94 කාලේ බඩ යයි ඕකුට ඒ නිසා අරුන්ගේ ෆයිල් අදින්නෙත් නෑ ගොබ්බ මිනිස්සු අන්ද අන්ද ඉන්නවා\nActual Label: NO\nPredicted Label: YES\n\n\n59\nSentence: Ara Police lokkath rugby gahapu ekek mama hithanne\nActual Label: YES\nPredicted Label: NO\n\n\n60\nSentence: මෙ දකි වාර ම නෙතට කදුල උන ම පුත ට මේවැනි හැගි ඇ න කිය ප සෙනෙහස සෙව් ඔවුන් අනගත සරිකරල දුර රට ගෙව කටු ජිවිත\nActual Label: YES\nPredicted Label: NO\n\n\n61\nSentence: muth kata arinne anik unta witharai jathiyata agamata sadda na endiyawata koti ganan denawa ahinsakayant ape rate unta mukuth na\nActual Label: YES\nPredicted Label: NO\n\n\n62\nSentence: තට්ට ගාගෙ ෆුල ශේ කර හ මාම හිටපන්ක පක නොව\nActual Label: YES\nPredicted Label: NO\n\n\n63\nSentence: ඇද ඇදග ය අපි ලැජ ම ව නිල ඒ\nActual Label: YES\nPredicted Label: NO\n\n\n64\nSentence: ක රිකට ට එ උ කිය තියෙ එ දෙ තිරිසං වේසබල්ල ඉ ර උඹ ක රිකට ගහ බං වෙනරට ගිහ පදිංචි වෙ ආතල එ ඉඳ\nActual Label: YES\nPredicted Label: NO\n\n\n65\nSentence: ඇබ්බැහිව සුලු ප රවේශ රසවිඳි\nActual Label: NO\nPredicted Label: YES\n\n\n66\nSentence: හොද වැඩ ප දේශපාල පක ද ආරාද කර හො මේ හො වැඩ\nActual Label: YES\nPredicted Label: NO\n\n\n67\nSentence: Lankawe inna samahara pirimi napunsakayo ara manussayata wahane dora arala dennawat kenek enne ne mun pirimida ane e manussaya veerayek attatama\nActual Label: YES\nPredicted Label: NO\n\n\n68\nSentence: බැලුවහ ම මොඩයිනෙ අම්මප පොඩ්ඩ ඉස්සරහ කර නැවැත්තුවන හැමො පහසුනෙ මේ අගයකර දාපුඑ පිස්සේ සමන මිනිහේක්නොවෙ\nActual Label: YES\nPredicted Label: NO\n\n\n69\nSentence: Amu wesiyak\nActual Label: YES\nPredicted Label: NO\n\n\n70\nSentence: balamu mekawath hariyata thiya ganida kiyala badulle train eke toilat eken eleyata patta chu gadai\nActual Label: YES\nPredicted Label: NO\n\n\n71\nSentence: යකුන මහින් රනිල ෆ රේ එ පැන එලි විදි දැං පීඑ ර රට මුල පුරවැසි තීරන රට යහපත ව එච්චර අප කොල්ල ජීවිත නැ කර බේරගත්ත ර රැකගත්ත කිය අපි හෙ ගහ මත ති ගනි ත රිවි හමුද අපි සේර වලපල්ල\nActual Label: YES\nPredicted Label: NO\n\n\n72\nSentence: බල මිනිස්ස අප ද දක්ව ගෞර ඒ අප කල සුද්ද ත\nActual Label: YES\nPredicted Label: NO\n\n\n73\nSentence: Okama matath wela thiyenawa amma kenekuta sheet ekak aran denna gihin Wadak naha lankawe inne fb weerayo tikak Haba lokedi unge jeevithath kunu godawal\nActual Label: NO\nPredicted Label: YES\n\n\n74\nSentence: මුන්ට අම්ම තාත්ත කිය ජාති හිටි න ඉ ඇත්ත අම්ම තාත්ත වෙ ම කොහ පිටකොටු කොහ මුඩුක්කු හො ගත්ත එව ටි වෙ ඕන ලැජ්ජා තිය මිනිහෙක් පුලු දේ බල ඉ මේක මො කුනුහරුප වැඩ\nActual Label: YES\nPredicted Label: NO\n\n\n75\nSentence: ම මෙ කව් ද උත්සව දේශපාල ම හර එ ඔන ම මිනිස්ස පේ ර ක\nActual Label: YES\nPredicted Label: NO\n\n\n76\nSentence: Ol ලියලා පස් වෙලා තව අවුරුදු දෙකක් AL කරලා විබාගෙ චොර කරගෙන කාලකන්නි වෙනවට වඩා හොදයි එක පාරින්ම ol ෆේල් වෙලා ඒ අවුරුදු දෙක කොස් එකක් වත් කරලා ගොඩයන එක ol ලියන ඔක්කොම උන් ෆේල් වෙයන් උන් ජීවිතෙ හදාගන්නවා වැරදුන හින්දා\nActual Label: YES\nPredicted Label: NO\n\n\n77\nSentence: මූ ශුවර් Rugby player කෙනෙක් හරියටම බෝල් එක අරන් යන විදියටම මු අනික් Players ලව මග අැරල රින්ගල අැවිත් ලකුණ ගත්ත වගේ සීන් එකක් ඒක\nActual Label: YES\nPredicted Label: NO\n\n\n78\nSentence: ඉරාජ් උඹට views ගන්නම ඕනේ නම් උබේ අම්මා එක්ක යහන්ගතවෙලා ඒකේ වීඩියෝ එක noize tv එකට දාපන් youtube channel එකක් promote කරන්න ඕන නිසා කුණු මාකට් කරන්න එපා මිනිහෝ Podda කරපු සමාජේ vlogs RapCity වගේ programme නම් හොඳයි මේ වගේ news නම් අප්පිරියයි\nActual Label: YES\nPredicted Label: NO\n\n\n79\nSentence: Monna Hutthakda oi me Lassana sindu mun epa karawanawa thmanta kiyala sinduwak karaganna barinam nikan innawako me wage hoda sindu kanne nathuwa Liyatabara sinduwatath mekkami Kare mu\nActual Label: YES\nPredicted Label: NO\n\n\n80\nSentence: Kauru mona widiyata dakkath meka ahagena innakota me palida sinhalada kiyala hithen na hithata pudumakara sahalluwak danenawa aththatama\nActual Label: NO\nPredicted Label: YES\n\n\n81\nSentence: Maruna data pansakule denna sagaruwanata aradana karnna puluwanda raddak adagena\nActual Label: NO\nPredicted Label: YES\n\n\n82\nSentence: අනේ මුන්ගෙ බොරු මාර්කටින් වලට අහු වෙන ගොබ්බයො සෙට් එහෙකුත් ඉන්නවනේ එනිවේ Iraj අයියා Buggatiයක් වත් බස්සයි ලගදිම\nActual Label: YES\nPredicted Label: NO\n\n\n83\nSentence: අතුර තහන නියෝග නඩ විභාග කර ලබ දෙ තීන්දු ඔබ හ හතර නොද දර කි දෙ\nActual Label: YES\nPredicted Label: NO\n\n\n84\nSentence: කමන්ට එ කිය කියල ද දෙ කිය ලංකා කිය සංස්කෘති උත රට වෙස ග මිනිස්ස ඉ එ පුදුම දු කරදර ආ නම්බ රැකග මව්වර පියවර ජී වෙච්ච සමාජ මුදල අලෙවි මහ පහ ජාති ගෑණ කොටස ඒ පස්ස ය පිරි කොටස රට කතාබහ ලක්වෙ දේ දහස ගණ තියෙ පහ දේ ට රෙන්ඩ කර මාධ කොටස බ ලංකා මෙහ එ එන්න විනාශ වෙ අප දරු හද අනාගත ටි හිත බ\nActual Label: YES\nPredicted Label: NO\n\n\n85\nSentence: මනුස්ස සියදිවි නසාගත්ත ඒ බැන පෝස ට දා අහින්ස පොඩි ලම ටික පදක්ක ටි දැක්ක ඒ බල ඉ බැර ලමයි සියදිවි නසාග හිතෙ තර කැත විදි පෝස්ට හද දා ලයික්ස හිගාක කාලකන් පේජ ඇඩ්මින් අල්ල කොහෙටහරි ගිහ දානක ලංකා හද වෙ\nActual Label: YES\nPredicted Label: NO\n\n\n86\nSentence: මේක fill T ගේ අලුත් විඩියෝ එකේ සීන් එක නිකන් ඉරාජ් ගේ මනමාලි විඩියෝ එක එන්න කලීන් දාපූ සීන් එක වගේ මොනවා උනත් සූපා Good luck iraj and fill T\nActual Label: YES\nPredicted Label: NO\n\n\n87\nSentence: Okkoma dunna mudal yodawala niwasak nithi ahinsakayeakuta dunnanam hari neada Rs 100 ada monawada karanna puluwan meawanam vikara moda wada\nActual Label: YES\nPredicted Label: NO\n\n\n88\nSentence: නොතිබුණු ප් රශ්නයක් ඇති කර රටෙහි උත්තරීතර ආයතනය ගිනි මඩුවක් කල පුද්ගලයා අද TV එකෙන් මෙවා බලමින් සතුටු වෙනවා ඇති\nActual Label: YES\nPredicted Label: NO\n\n\n89\nSentence: කල දවස කිව මතක අලු වැඩ හම්බ කිය ඒ තම ම රගපෑ ඉරාජ් පට් මාකට\nActual Label: YES\nPredicted Label: NO\n\n\n90\nSentence: Un denatawath nathi prashnane meke comment karanna apu unta thiyenne\nActual Label: YES\nPredicted Label: NO\n\n\n91\nSentence: හසි ගිහ දීල ගෙඩි ව සයිස එ\nActual Label: YES\nPredicted Label: NO\n\n\n92\nSentence: අප බුකිපා මහත මග පෙන්ව ව ර විදේශ යෝජන සුද වියාපාර කර\nActual Label: YES\nPredicted Label: NO\n\n\n93\nSentence: කැ ත අර ග ඉස්සරහ ගිහ හෙ වලියක්ල දැ\nActual Label: NO\nPredicted Label: YES\n\n\n94\nSentence: Oya hiru kiyana ponna chenal eka thama mukuth danne nethuwa ohe harak wage kiyaeanne\nActual Label: NO\nPredicted Label: YES\n\n\n95\nSentence: ankawe kalakanni ekka oka adugane awruddakwat oya widiyatama thibboth hodai\nActual Label: YES\nPredicted Label: NO\n\n\n96\nSentence: සුද කොඩ ග ගා එල්ල ඉ දෙ අත සුද සින්දු ගහ ඕ බැ\nActual Label: NO\nPredicted Label: YES\n\n\n97\nSentence: Aknali goda maruna aka gana api sathutu wenawa\nActual Label: YES\nPredicted Label: NO\n\n\n98\nSentence: Mona pakaya hada kauwada danne Na ath me rata nidahas kara gaththa me wage minihek gen athal ganna apa\nActual Label: YES\nPredicted Label: NO\n\n\n99\nSentence: එඩිට පිස්ස\nActual Label: NO\nPredicted Label: YES\n\n\n100\nSentence: u hangila inne samajayata muna denna bari hinnda\nActual Label: NO\nPredicted Label: YES\n\n\n101\nSentence: ජන්ද කාලෙ හොදයින දැ ඉදල මිනිස්ස අං තට්ට දුන්නා\nActual Label: YES\nPredicted Label: NO\n\n\n102\nSentence: උන හිරුස්ටාර එ මේයා පජාත වෙන සිංද කිය එ කරගෙ ඉ කියහ විනිශ මණ්ඩල ට ඇවි වච පටල ගො කත නොකි බලන්බ අප්පිරි\nActual Label: NO\nPredicted Label: YES\n\n\n103\nSentence: මේකප ගිය ඔක යක් බොලව\nActual Label: YES\nPredicted Label: NO\n\n\n104\nSentence: ලංකා ඉන්දිය කොලනි රට නැති කොහොම ඉන්දිය බයි ඇ\nActual Label: YES\nPredicted Label: NO\n\n\n105\nSentence: Oshadhi adui Hama gahapu issek wage\nActual Label: YES\nPredicted Label: NO\n\n\n106\nSentence: පොලිස්ස තාම කැ හැලි තරැ කොල්ලො ජීවිත වන්දි ගෙව වෙ නා පප්ප බුලත්විට කාගෙ අඩි දහ ද ග බැරි\nActual Label: YES\nPredicted Label: NO\n\n\n107\nSentence: පට්ට බඩු මේව පාරෙ යද්දි ගල් ගහන්න ඕන වැරදි කරල කොච්චර හංගන්න හැදුවත් බෑ ගොන් වේසියේ උඹලගෙ ජීවිත වලට උඹල respect කරන් නැත්නම් වැරදි ලෝකෙන් හංගල අනිත් මිනිස්සුන්ගෙ ගෞරවය දිනා ගන්න උඹලට බෑ\nActual Label: YES\nPredicted Label: NO\n\n\n108\nSentence: gothrika ratakata me wage dewal dunnata reka ganne ne kiyala sure\nActual Label: YES\nPredicted Label: NO\n\n\n109\nSentence: Parliment eka විසුරුවා janathawatama oka bara dunna eka hodai mokada parliment eke inna horu relamani thoranne eka e minissunta nodee ජනමතයට ida dunna eka hodai kiyala hithnawa\nActual Label: YES\nPredicted Label: NO\n\n\n110\nSentence: Tigae miha marapuuna hiyanna amruwak na katin kiyapu wacanata uda painawa ubda kada hari dittadamna wadaniya karumae padisan danawamai budu ciwarayanata nigaru kirimata\nActual Label: YES\nPredicted Label: NO\n\n\n111\nSentence: Meya den siyatha ne inne\nActual Label: NO\nPredicted Label: YES\n\n\n112\nSentence: ලංකාවෙි දේශපාලනය හැම වැඩකටම සමිබන්ධ කර ගන්න හොද නෑ ප් රවීන කලාකාරයෙක් අතින් ඔය සමිමානය දුන්නනමි වටිනව කොහොම උනත් ලංකාවෙි දෙශපාලකයින් ගැන කල කිරී සිටින අවධියක පාර්ලිමෙින්තුවෙි සිටින 225 ජනතාව විසින් ඔය විදිහට ප් රතික් ේෂ්ප කරානමි හොදයි\nActual Label: YES\nPredicted Label: NO\n\n\n113\nSentence: සරාග ගැහැන නිද සියල පිරි කැමත දීග ය ගෞරව රැකග ගැහැන පමනය\nActual Label: YES\nPredicted Label: NO\n\n\n114\nSentence: මේ Dialog උන්ට හෙනගහනවා බං උදේ 99ක් දැම්ම ඒක දවල් වෙද්දි ඉවරයි හවස දැම්මා 4ට විතර 49ක් ඒකත් දැන් ඉවරයි කරපු රෙද්දකුත් නෑ SM විතරයි හිටියෙ\nActual Label: YES\nPredicted Label: NO\n\n\n115\nSentence: Mahinda 2015 di me damiyawa genapu eken therum ganna godak dewal thiyanawa Mahinda hithana inne rate minissu okkama amu gonnu kiyala\nActual Label: YES\nPredicted Label: NO\n\n\n116\nSentence: Yko meka magulkda pita rata wthe ohoma na ape lankawe minisu godake wenase\nActual Label: YES\nPredicted Label: NO\n\n\n117\nSentence: Ape rate enne doctors lata gahala maranna hadana campus lamaei ne ethin Ape rata ta mehema wasanawak kohen da\nActual Label: YES\nPredicted Label: NO\n\n\n118\nSentence: සීරියස දෙ කිව්ව ජෝ ග ජෝ එ කිව්ව සීරියස ග මානසි පක් මා අන්ෆොල කර ක බ්ලො කරල ද\nActual Label: YES\nPredicted Label: NO\n\n\n119\nSentence: වැඩේනම් හොඳයි මොකද මේ අපි පත් කරපු ජනපති නෙවෙයි ඒත් රනිල් 2015 දි 42ක් ආසන තියාගෙන අගමැති කරද්දි ජන්ද කල් දාද්දි 58ක් ඉන්න SLFP ekata විපක්ෂ නායකකම නොදී 16 ක් ඉන්න TNA එකට විපක්ෂ නායකකම දෙද්දි මෙතුමගෙ කොන්ද කොහෙද දන්නෙ නෑ තිබුණෙ\nActual Label: YES\nPredicted Label: NO\n\n\n120\nSentence: Ara miniha oxygen nethuwa merenne\nActual Label: YES\nPredicted Label: NO\n\n\n121\nSentence: ඔය කාරනය හරියට විග් රහ කරන්න ඩුප්ලිකේට් මහමෙව්නාවේ ඩුප්ලිකේට් කල් යාණ මිතුරන්ට පුලුවන් නම් දිව් ය ලෝක promote කරයි ද\nActual Label: YES\nPredicted Label: NO\n\n\n122\nSentence: ග ඇන්ප කාරයි රෙවෙ දැ නිය ජ මත එලි එ ඒ තමයිවෙ පාර්ලිමේන්ත සල්ලි මල වල ඔලුගෙඩි එහෙමෙහ කර ග ප රජාතන් රවාද නිය ජනත තින්ද දැ බලාග පුලුව්\nActual Label: YES\nPredicted Label: NO\n\n\n123\nSentence: kuhaka jathiyata kawadawath hoda de denna ba un wenasa karala danawa owa\nActual Label: YES\nPredicted Label: NO\n\n\n124\nSentence: Api udara rataka sheshta ithihasayak athi namuth dan harak ralakin palanaya wana kala kanni jathiyak wemu nathida mekata wisadumak ek wanta apita singha la rataka Buddagama rakena eth anith jathin raka gena sri lankan tamil sri lankan muslim wela loketa shakthimath jathiyak lesain naya nathi heta ipadena Daruwan wenuwen wath Enna nagitinna sihalune pera lesin elawamu munwa rathu kola nil paseka la raka gamu mau bima\nActual Label: YES\nPredicted Label: NO\n\n\n125\nSentence: Ape rata hada ganada beri sakkili tikk innawa ow ow ubalata kiyanne Ubala nisa me 1k nemei 1000k genawath me rata hadanda ba\nActual Label: YES\nPredicted Label: NO\n\n\n126\nSentence: ඒ ලස්සන සින්දුවට කාලකන්නි Video එකක් ගහලා ඒක කන්න නං එපා\nActual Label: YES\nPredicted Label: NO\n\n\n127\nSentence: Meki lankawe janadi pathinitakda budu dahama winasa karana hethiriyak ne\nActual Label: YES\nPredicted Label: NO\n\n\n128\nSentence: දේශපාල මත මො උන තම හි සම්මාන දක්ෂතාවයට ලැබෙ ඒ දෙ මොකා කිය බල නිහතමානීක නැ ගොබ්බ කලාකාර ම අනාගත තියෙයි නෙදකිං\nActual Label: YES\nPredicted Label: NO\n\n\n129\nSentence: විවාහයක් කියන්නෙ මොකක්ද කියලවත් දන්නෙ නැති උන් විවාහ උනාම ඔහොම වෙනවා ජනප් රිය වෙන්න ඇට ලේ මස් විකුණනවා නමුත් ආදරයේ හරි අර්ථය හොයන්න ඔච්චර දගලන්නෙ නෑ ලංකාවේ විවාහ උත්සවයක් හෝ engagement එකකින් දෙන්න ඕන ආදර්ශය ඕක නෙමෙයි\nActual Label: YES\nPredicted Label: NO\n\n\n130\nSentence: Hena gahanna oni Rata Kan ewnta\nActual Label: NO\nPredicted Label: YES\n\n\n131\nSentence: උබ ජනාධිප කලෙ කාල උබ දී ටෝ\nActual Label: YES\nPredicted Label: NO\n\n\n132\nSentence: Tope anduwa tiyana an hodai\nActual Label: YES\nPredicted Label: NO\n\n\n133\nSentence: Suddage athe ruger ball ekak thibbanam maru\nActual Label: YES\nPredicted Label: NO\n\n\n134\nSentence: ම ජයරත්න නෑදෑයෙක් කොහෙ\nActual Label: NO\nPredicted Label: YES\n\n\n135\nSentence: අනේ fill t උඹත් හුකාගනින් තොගෙත් පඩ විතරයි බඩු ෆොම් කරන පොන්නයො බලපන් මේ හුත්ති කතාකරන විදිය වැරදි කර කර මුන්ව ලංකාවෙන් පිටුවහල් කරන්න ඕන කවලම් බැල්ලියො\nActual Label: YES\nPredicted Label: NO\n\n\n"
          ]
        }
      ]
    },
    {
      "cell_type": "markdown",
      "metadata": {
        "id": "LRudRWcI9ECo"
      },
      "source": [
        "<p>Let us find the important and least important words from the model.</p>"
      ]
    },
    {
      "cell_type": "code",
      "metadata": {
        "id": "eAc0XAK29ECo"
      },
      "source": [
        "log_reg_coeff_top_full_tfidf, log_reg_coeff_bottom_full_tfidf = find_important_words(\n",
        "                                                                        feature_names=tf_idf_feature_names_full,\n",
        "                                                                        log_reg_model=logistic_regression_model_full_tfidf)"
      ],
      "execution_count": 92,
      "outputs": []
    },
    {
      "cell_type": "code",
      "metadata": {
        "id": "wpo82qeo9ECo",
        "outputId": "05fb85ac-4a6d-4fd2-bef5-3c7767e6a860"
      },
      "source": [
        "log_reg_coeff_top_full_tfidf"
      ],
      "execution_count": 93,
      "outputs": [
        {
          "output_type": "execute_result",
          "data": {
            "text/plain": [
              "     feature_names  model_coefficient\n",
              "2563            ගහ           2.124252\n",
              "2714         තම්බි           1.985567\n",
              "5247           වේස           1.966561\n",
              "3392           පක්           1.960543\n",
              "2414        කාලකන්           1.854915\n",
              "4441            මර           1.668156\n",
              "4858            යක           1.633006\n",
              "3393         පක්කු           1.534377\n",
              "5614         හුත්ත           1.518912\n",
              "5098            වල           1.507107"
            ],
            "text/html": "<div>\n<style scoped>\n    .dataframe tbody tr th:only-of-type {\n        vertical-align: middle;\n    }\n\n    .dataframe tbody tr th {\n        vertical-align: top;\n    }\n\n    .dataframe thead th {\n        text-align: right;\n    }\n</style>\n<table border=\"1\" class=\"dataframe\">\n  <thead>\n    <tr style=\"text-align: right;\">\n      <th></th>\n      <th>feature_names</th>\n      <th>model_coefficient</th>\n    </tr>\n  </thead>\n  <tbody>\n    <tr>\n      <th>2563</th>\n      <td>ගහ</td>\n      <td>2.124252</td>\n    </tr>\n    <tr>\n      <th>2714</th>\n      <td>තම්බි</td>\n      <td>1.985567</td>\n    </tr>\n    <tr>\n      <th>5247</th>\n      <td>වේස</td>\n      <td>1.966561</td>\n    </tr>\n    <tr>\n      <th>3392</th>\n      <td>පක්</td>\n      <td>1.960543</td>\n    </tr>\n    <tr>\n      <th>2414</th>\n      <td>කාලකන්</td>\n      <td>1.854915</td>\n    </tr>\n    <tr>\n      <th>4441</th>\n      <td>මර</td>\n      <td>1.668156</td>\n    </tr>\n    <tr>\n      <th>4858</th>\n      <td>යක</td>\n      <td>1.633006</td>\n    </tr>\n    <tr>\n      <th>3393</th>\n      <td>පක්කු</td>\n      <td>1.534377</td>\n    </tr>\n    <tr>\n      <th>5614</th>\n      <td>හුත්ත</td>\n      <td>1.518912</td>\n    </tr>\n    <tr>\n      <th>5098</th>\n      <td>වල</td>\n      <td>1.507107</td>\n    </tr>\n  </tbody>\n</table>\n</div>"
          },
          "metadata": {},
          "execution_count": 93
        }
      ]
    },
    {
      "cell_type": "markdown",
      "metadata": {
        "id": "lhqA3zsF9ECo"
      },
      "source": [
        "<p>As you can see above tokens have high coefficient values. Thus those are important tokens that has a high influence in hate speech.</p>"
      ]
    },
    {
      "cell_type": "code",
      "metadata": {
        "id": "GE854ZWL9ECp",
        "outputId": "7c740b51-b619-4190-aedf-39eecf309869"
      },
      "source": [
        "log_reg_coeff_bottom_full_tfidf"
      ],
      "execution_count": 94,
      "outputs": [
        {
          "output_type": "execute_result",
          "data": {
            "text/plain": [
              "     feature_names  model_coefficient\n",
              "5590           හිත          -0.959089\n",
              "5310            සර          -0.963729\n",
              "1831            අප          -0.964289\n",
              "4419        මනුස්ස          -0.965786\n",
              "907          godak          -0.975058\n",
              "4432            මම          -1.023002\n",
              "1919            අහ          -1.027025\n",
              "5030         ලස්සන          -1.042435\n",
              "1056          hoda          -1.334763\n",
              "2250            ඔබ          -1.481166"
            ],
            "text/html": "<div>\n<style scoped>\n    .dataframe tbody tr th:only-of-type {\n        vertical-align: middle;\n    }\n\n    .dataframe tbody tr th {\n        vertical-align: top;\n    }\n\n    .dataframe thead th {\n        text-align: right;\n    }\n</style>\n<table border=\"1\" class=\"dataframe\">\n  <thead>\n    <tr style=\"text-align: right;\">\n      <th></th>\n      <th>feature_names</th>\n      <th>model_coefficient</th>\n    </tr>\n  </thead>\n  <tbody>\n    <tr>\n      <th>5590</th>\n      <td>හිත</td>\n      <td>-0.959089</td>\n    </tr>\n    <tr>\n      <th>5310</th>\n      <td>සර</td>\n      <td>-0.963729</td>\n    </tr>\n    <tr>\n      <th>1831</th>\n      <td>අප</td>\n      <td>-0.964289</td>\n    </tr>\n    <tr>\n      <th>4419</th>\n      <td>මනුස්ස</td>\n      <td>-0.965786</td>\n    </tr>\n    <tr>\n      <th>907</th>\n      <td>godak</td>\n      <td>-0.975058</td>\n    </tr>\n    <tr>\n      <th>4432</th>\n      <td>මම</td>\n      <td>-1.023002</td>\n    </tr>\n    <tr>\n      <th>1919</th>\n      <td>අහ</td>\n      <td>-1.027025</td>\n    </tr>\n    <tr>\n      <th>5030</th>\n      <td>ලස්සන</td>\n      <td>-1.042435</td>\n    </tr>\n    <tr>\n      <th>1056</th>\n      <td>hoda</td>\n      <td>-1.334763</td>\n    </tr>\n    <tr>\n      <th>2250</th>\n      <td>ඔබ</td>\n      <td>-1.481166</td>\n    </tr>\n  </tbody>\n</table>\n</div>"
          },
          "metadata": {},
          "execution_count": 94
        }
      ]
    },
    {
      "cell_type": "markdown",
      "metadata": {
        "id": "ML5D1VH49ECp"
      },
      "source": [
        "<p>As you can see above tokens have low coefficient values. Thus those are least important tokens that has a low influence in hate speech.</p>"
      ]
    },
    {
      "cell_type": "markdown",
      "metadata": {
        "id": "ts-bDuQu9ECp"
      },
      "source": [
        "### Answer (f)\n",
        "\n",
        "Answer for question (f) will be discussed under the below sections as \n",
        "<ol>\n",
        "    <li>Considering context words by building a bag-of-n-grams model</li>\n",
        "    <li>Using semantic embeddings instead of bag-of-word vectors for word representation to model the data</li>\n",
        " </ol>"
      ]
    },
    {
      "cell_type": "markdown",
      "metadata": {
        "id": "Kxoa_HuE9ECq"
      },
      "source": [
        "#### f.1. Considering context words by building a bag-of-n-grams model"
      ]
    },
    {
      "cell_type": "markdown",
      "metadata": {
        "id": "DSnRw8CR9ECq"
      },
      "source": [
        "<p>Here we will be passing an argument as (1,2) to the previously defined function <b>get_tfidf_features(data, ngram_range=(1,1))</b> so that it will consider  unigram and bigrams when building tf-idf model. </p>"
      ]
    },
    {
      "cell_type": "markdown",
      "metadata": {
        "id": "5CKs-Cna9ECq"
      },
      "source": [
        "<p>Let us generate the <b>tf-idf features for training data in full dataset as an n-gram model</b>.</p>"
      ]
    },
    {
      "cell_type": "code",
      "metadata": {
        "id": "5PoGunk19ECq"
      },
      "source": [
        "tfidf_vectorizer_full, tf_idf_feature_names_full, tf_idf_vocabulary_full, tfidf_features_full = get_tfidf_features(\n",
        "                                                                                                        data=train_X_full, \n",
        "                                                                                                        ngram_range=(1,2))"
      ],
      "execution_count": 95,
      "outputs": []
    },
    {
      "cell_type": "markdown",
      "metadata": {
        "id": "IMkXQw-P9ECq"
      },
      "source": [
        "<p>Let us apply <b>Logistic Regression to the Full dataset</b> as shown below by passing the tf-idf features with n-grams created previously and the train labels for Full dataset.</p>"
      ]
    },
    {
      "cell_type": "code",
      "metadata": {
        "id": "BVSEC_uT9ECr",
        "outputId": "3eb26816-cdbf-49a7-d213-bbacfe83c5ab"
      },
      "source": [
        "logistic_regression_model_full_tfidf = train_logistic_regression_model(features=tfidf_features_full, labels=train_y_full)"
      ],
      "execution_count": 96,
      "outputs": [
        {
          "output_type": "stream",
          "name": "stdout",
          "text": [
            "Training the logistic regression model...\n",
            "Finished\n"
          ]
        }
      ]
    },
    {
      "cell_type": "markdown",
      "metadata": {
        "id": "nbxdcsMy9ECr"
      },
      "source": [
        "<p>Let us apply get the predictions for test data as below.</p>"
      ]
    },
    {
      "cell_type": "code",
      "metadata": {
        "id": "R5GVb6do9ECr",
        "outputId": "970194bd-3a0e-46a6-f6ab-344c07e773d0"
      },
      "source": [
        "predicted_y_full_tfidf = predict_logistic_regression_model(test_X=test_X_full, \n",
        "                                                           test_y=test_y_full, \n",
        "                                                           vectorizer=tfidf_vectorizer_full, \n",
        "                                                           logistic_regression_model=logistic_regression_model_full_tfidf)"
      ],
      "execution_count": 97,
      "outputs": [
        {
          "output_type": "stream",
          "name": "stdout",
          "text": [
            "Predictions: \n['YES' 'NO' 'YES' 'YES' 'NO' 'NO' 'NO' 'NO' 'NO' 'NO' 'NO' 'NO' 'NO' 'NO'\n 'NO' 'YES' 'NO' 'NO' 'NO' 'YES' 'NO' 'NO' 'NO' 'NO' 'NO' 'NO' 'NO' 'NO'\n 'YES' 'NO' 'NO' 'NO' 'NO' 'NO' 'YES' 'YES' 'NO' 'YES' 'YES' 'NO' 'NO'\n 'NO' 'NO' 'NO' 'YES' 'NO' 'YES' 'NO' 'NO' 'NO' 'NO' 'NO' 'NO' 'NO' 'YES'\n 'NO' 'NO' 'NO' 'NO' 'NO' 'NO' 'YES' 'YES' 'YES' 'NO' 'NO' 'YES' 'YES'\n 'YES' 'NO' 'NO' 'NO' 'NO' 'NO' 'NO' 'YES' 'NO' 'NO' 'NO' 'NO' 'NO' 'NO'\n 'NO' 'NO' 'NO' 'NO' 'NO' 'NO' 'NO' 'NO' 'NO' 'NO' 'YES' 'YES' 'NO' 'NO'\n 'YES' 'NO' 'NO' 'NO' 'YES' 'NO' 'YES' 'NO' 'NO' 'YES' 'NO' 'YES' 'YES'\n 'NO' 'NO' 'NO' 'NO' 'YES' 'YES' 'YES' 'YES' 'NO' 'NO' 'NO' 'YES' 'NO'\n 'YES' 'NO' 'NO' 'NO' 'YES' 'NO' 'NO' 'NO' 'NO' 'NO' 'NO' 'NO' 'NO' 'NO'\n 'YES' 'NO' 'NO' 'NO' 'YES' 'NO' 'YES' 'NO' 'YES' 'NO' 'YES' 'YES' 'YES'\n 'YES' 'NO' 'YES' 'NO' 'YES' 'YES' 'NO' 'NO' 'NO' 'NO' 'NO' 'YES' 'NO'\n 'NO' 'NO' 'NO' 'NO' 'YES' 'NO' 'YES' 'NO' 'NO' 'NO' 'NO' 'NO' 'YES' 'NO'\n 'NO' 'NO' 'NO' 'NO' 'NO' 'NO' 'NO' 'YES' 'NO' 'YES' 'NO' 'NO' 'NO' 'NO'\n 'YES' 'YES' 'YES' 'NO' 'NO' 'YES' 'NO' 'YES' 'NO' 'YES' 'YES' 'NO' 'NO'\n 'NO' 'YES' 'YES' 'NO' 'NO' 'NO' 'NO' 'NO' 'YES' 'NO' 'NO' 'NO' 'YES' 'NO'\n 'NO' 'NO' 'YES' 'NO' 'NO' 'YES' 'NO' 'YES' 'NO' 'NO' 'YES' 'NO' 'NO'\n 'YES' 'NO' 'NO' 'NO' 'NO' 'YES' 'NO' 'NO' 'NO' 'NO' 'YES' 'NO' 'NO' 'NO'\n 'YES' 'NO' 'NO' 'NO' 'NO' 'YES' 'YES' 'YES' 'NO' 'YES' 'NO' 'NO' 'NO'\n 'NO' 'NO' 'NO' 'YES' 'NO' 'NO' 'YES' 'NO' 'NO' 'NO' 'NO' 'NO' 'NO' 'NO'\n 'YES' 'NO' 'YES' 'NO' 'NO' 'YES' 'NO' 'NO' 'YES' 'NO' 'NO' 'YES' 'NO'\n 'NO' 'NO' 'YES' 'NO' 'NO' 'NO' 'NO' 'NO' 'YES' 'NO' 'NO' 'NO' 'NO' 'NO'\n 'NO' 'NO' 'YES' 'YES' 'YES' 'NO' 'YES' 'YES' 'YES' 'NO' 'NO' 'YES' 'NO'\n 'YES' 'NO' 'NO' 'YES' 'NO' 'NO' 'YES' 'NO' 'NO' 'NO' 'NO' 'NO' 'YES' 'NO'\n 'NO' 'NO' 'YES' 'NO' 'NO' 'NO' 'NO' 'NO' 'NO' 'NO' 'NO' 'NO' 'YES' 'NO'\n 'YES' 'NO' 'NO' 'NO' 'YES' 'NO' 'YES' 'NO' 'YES' 'YES' 'NO' 'YES' 'NO'\n 'NO' 'NO' 'YES' 'YES' 'NO' 'NO' 'YES' 'NO' 'YES' 'NO' 'NO' 'NO' 'NO' 'NO'\n 'NO' 'NO' 'YES' 'NO' 'NO' 'NO' 'NO' 'NO' 'YES' 'NO' 'YES' 'YES' 'YES'\n 'YES' 'NO' 'NO' 'NO' 'YES' 'YES' 'YES' 'YES' 'NO' 'YES' 'YES' 'NO' 'NO'\n 'YES' 'NO' 'NO' 'NO' 'NO' 'NO' 'NO' 'NO' 'NO' 'NO' 'NO' 'NO' 'NO' 'NO'\n 'NO' 'YES' 'YES' 'YES' 'YES' 'NO' 'NO' 'NO' 'NO' 'NO' 'NO' 'NO' 'NO' 'NO'\n 'NO' 'NO' 'NO' 'YES' 'NO' 'NO' 'NO' 'YES' 'NO' 'YES' 'NO' 'NO' 'YES'\n 'YES' 'NO' 'YES' 'NO' 'NO' 'NO' 'NO' 'NO' 'YES' 'YES' 'NO' 'YES' 'NO'\n 'NO' 'NO' 'NO' 'YES' 'NO' 'NO' 'NO' 'YES' 'NO' 'YES' 'NO' 'NO' 'NO' 'NO'\n 'NO' 'NO' 'NO' 'NO' 'NO' 'NO' 'NO' 'NO' 'NO' 'NO' 'NO' 'NO' 'NO' 'YES'\n 'NO' 'NO' 'NO' 'NO' 'NO' 'NO' 'NO' 'NO' 'YES' 'NO' 'NO' 'YES' 'NO' 'YES'\n 'NO' 'YES' 'NO' 'NO' 'YES' 'NO' 'NO' 'NO' 'NO' 'NO' 'YES' 'NO']\n\n\nAccuracy = 73%\n"
          ]
        }
      ]
    },
    {
      "cell_type": "markdown",
      "metadata": {
        "id": "JoduerhP9ECr"
      },
      "source": [
        "<p>The predictions array has shown above which consists whether a particular string is hate speech (YES) or not (NO) and it was returned and assigned to predicted_y_full_tfidf variable. The accuracy of this model is 73% <b>which is same as the previous one</b>. But there is a need to check the other performance measures too.</p>"
      ]
    },
    {
      "cell_type": "markdown",
      "metadata": {
        "id": "ffG9J2g89ECr"
      },
      "source": [
        "<p>Let us get the confusion matrix and the performance measures for Full dataset.</p>"
      ]
    },
    {
      "cell_type": "code",
      "metadata": {
        "id": "f8O48EYA9ECr",
        "outputId": "3ff9d77c-d47c-4299-ffbf-2adbe13cd3eb"
      },
      "source": [
        "get_metrics(true_labels=test_y_full, predicted_labels=predicted_y_full_tfidf)"
      ],
      "execution_count": 98,
      "outputs": [
        {
          "output_type": "display_data",
          "data": {
            "text/plain": "<Figure size 432x288 with 2 Axes>",
            "image/svg+xml": "<?xml version=\"1.0\" encoding=\"utf-8\" standalone=\"no\"?>\r\n<!DOCTYPE svg PUBLIC \"-//W3C//DTD SVG 1.1//EN\"\r\n  \"http://www.w3.org/Graphics/SVG/1.1/DTD/svg11.dtd\">\r\n<!-- Created with matplotlib (https://matplotlib.org/) -->\r\n<svg height=\"277.314375pt\" version=\"1.1\" viewBox=\"0 0 366.29575 277.314375\" width=\"366.29575pt\" xmlns=\"http://www.w3.org/2000/svg\" xmlns:xlink=\"http://www.w3.org/1999/xlink\">\r\n <defs>\r\n  <style type=\"text/css\">\r\n*{stroke-linecap:butt;stroke-linejoin:round;}\r\n  </style>\r\n </defs>\r\n <g id=\"figure_1\">\r\n  <g id=\"patch_1\">\r\n   <path d=\"M 0 277.314375 \r\nL 366.29575 277.314375 \r\nL 366.29575 0 \r\nL 0 0 \r\nz\r\n\" style=\"fill:none;\"/>\r\n  </g>\r\n  <g id=\"axes_1\">\r\n   <g id=\"patch_2\">\r\n    <path d=\"M 37.55625 239.758125 \r\nL 305.39625 239.758125 \r\nL 305.39625 22.318125 \r\nL 37.55625 22.318125 \r\nz\r\n\" style=\"fill:#ffffff;\"/>\r\n   </g>\r\n   <g id=\"QuadMesh_1\">\r\n    <path clip-path=\"url(#p35ea40b9e2)\" d=\"M 37.55625 22.318125 \r\nL 171.47625 22.318125 \r\nL 171.47625 131.038125 \r\nL 37.55625 131.038125 \r\nL 37.55625 22.318125 \r\n\" style=\"fill:#faebdd;\"/>\r\n    <path clip-path=\"url(#p35ea40b9e2)\" d=\"M 171.47625 22.318125 \r\nL 305.39625 22.318125 \r\nL 305.39625 131.038125 \r\nL 171.47625 131.038125 \r\nL 171.47625 22.318125 \r\n\" style=\"fill:#03051a;\"/>\r\n    <path clip-path=\"url(#p35ea40b9e2)\" d=\"M 37.55625 131.038125 \r\nL 171.47625 131.038125 \r\nL 171.47625 239.758125 \r\nL 37.55625 239.758125 \r\nL 37.55625 131.038125 \r\n\" style=\"fill:#8e1d5b;\"/>\r\n    <path clip-path=\"url(#p35ea40b9e2)\" d=\"M 171.47625 131.038125 \r\nL 305.39625 131.038125 \r\nL 305.39625 239.758125 \r\nL 171.47625 239.758125 \r\nL 171.47625 131.038125 \r\n\" style=\"fill:#a11a5b;\"/>\r\n   </g>\r\n   <g id=\"matplotlib.axis_1\">\r\n    <g id=\"xtick_1\">\r\n     <g id=\"line2d_1\">\r\n      <defs>\r\n       <path d=\"M 0 0 \r\nL 0 3.5 \r\n\" id=\"mc6cabb6e6d\" style=\"stroke:#000000;stroke-width:0.8;\"/>\r\n      </defs>\r\n      <g>\r\n       <use style=\"stroke:#000000;stroke-width:0.8;\" x=\"104.51625\" xlink:href=\"#mc6cabb6e6d\" y=\"239.758125\"/>\r\n      </g>\r\n     </g>\r\n     <g id=\"text_1\">\r\n      <!-- YES -->\r\n      <defs>\r\n       <path d=\"M -0.203125 72.90625 \r\nL 10.40625 72.90625 \r\nL 30.609375 42.921875 \r\nL 50.6875 72.90625 \r\nL 61.28125 72.90625 \r\nL 35.5 34.71875 \r\nL 35.5 0 \r\nL 25.59375 0 \r\nL 25.59375 34.71875 \r\nz\r\n\" id=\"DejaVuSans-89\"/>\r\n       <path d=\"M 9.8125 72.90625 \r\nL 55.90625 72.90625 \r\nL 55.90625 64.59375 \r\nL 19.671875 64.59375 \r\nL 19.671875 43.015625 \r\nL 54.390625 43.015625 \r\nL 54.390625 34.71875 \r\nL 19.671875 34.71875 \r\nL 19.671875 8.296875 \r\nL 56.78125 8.296875 \r\nL 56.78125 0 \r\nL 9.8125 0 \r\nz\r\n\" id=\"DejaVuSans-69\"/>\r\n       <path d=\"M 53.515625 70.515625 \r\nL 53.515625 60.890625 \r\nQ 47.90625 63.578125 42.921875 64.890625 \r\nQ 37.9375 66.21875 33.296875 66.21875 \r\nQ 25.25 66.21875 20.875 63.09375 \r\nQ 16.5 59.96875 16.5 54.203125 \r\nQ 16.5 49.359375 19.40625 46.890625 \r\nQ 22.3125 44.4375 30.421875 42.921875 \r\nL 36.375 41.703125 \r\nQ 47.40625 39.59375 52.65625 34.296875 \r\nQ 57.90625 29 57.90625 20.125 \r\nQ 57.90625 9.515625 50.796875 4.046875 \r\nQ 43.703125 -1.421875 29.984375 -1.421875 \r\nQ 24.8125 -1.421875 18.96875 -0.25 \r\nQ 13.140625 0.921875 6.890625 3.21875 \r\nL 6.890625 13.375 \r\nQ 12.890625 10.015625 18.65625 8.296875 \r\nQ 24.421875 6.59375 29.984375 6.59375 \r\nQ 38.421875 6.59375 43.015625 9.90625 \r\nQ 47.609375 13.234375 47.609375 19.390625 \r\nQ 47.609375 24.75 44.3125 27.78125 \r\nQ 41.015625 30.8125 33.5 32.328125 \r\nL 27.484375 33.5 \r\nQ 16.453125 35.6875 11.515625 40.375 \r\nQ 6.59375 45.0625 6.59375 53.421875 \r\nQ 6.59375 63.09375 13.40625 68.65625 \r\nQ 20.21875 74.21875 32.171875 74.21875 \r\nQ 37.3125 74.21875 42.625 73.28125 \r\nQ 47.953125 72.359375 53.515625 70.515625 \r\nz\r\n\" id=\"DejaVuSans-83\"/>\r\n      </defs>\r\n      <g transform=\"translate(95.12875 254.356562)scale(0.1 -0.1)\">\r\n       <use xlink:href=\"#DejaVuSans-89\"/>\r\n       <use x=\"61.083984\" xlink:href=\"#DejaVuSans-69\"/>\r\n       <use x=\"124.267578\" xlink:href=\"#DejaVuSans-83\"/>\r\n      </g>\r\n     </g>\r\n    </g>\r\n    <g id=\"xtick_2\">\r\n     <g id=\"line2d_2\">\r\n      <g>\r\n       <use style=\"stroke:#000000;stroke-width:0.8;\" x=\"238.43625\" xlink:href=\"#mc6cabb6e6d\" y=\"239.758125\"/>\r\n      </g>\r\n     </g>\r\n     <g id=\"text_2\">\r\n      <!-- NO -->\r\n      <defs>\r\n       <path d=\"M 9.8125 72.90625 \r\nL 23.09375 72.90625 \r\nL 55.421875 11.921875 \r\nL 55.421875 72.90625 \r\nL 64.984375 72.90625 \r\nL 64.984375 0 \r\nL 51.703125 0 \r\nL 19.390625 60.984375 \r\nL 19.390625 0 \r\nL 9.8125 0 \r\nz\r\n\" id=\"DejaVuSans-78\"/>\r\n       <path d=\"M 39.40625 66.21875 \r\nQ 28.65625 66.21875 22.328125 58.203125 \r\nQ 16.015625 50.203125 16.015625 36.375 \r\nQ 16.015625 22.609375 22.328125 14.59375 \r\nQ 28.65625 6.59375 39.40625 6.59375 \r\nQ 50.140625 6.59375 56.421875 14.59375 \r\nQ 62.703125 22.609375 62.703125 36.375 \r\nQ 62.703125 50.203125 56.421875 58.203125 \r\nQ 50.140625 66.21875 39.40625 66.21875 \r\nz\r\nM 39.40625 74.21875 \r\nQ 54.734375 74.21875 63.90625 63.9375 \r\nQ 73.09375 53.65625 73.09375 36.375 \r\nQ 73.09375 19.140625 63.90625 8.859375 \r\nQ 54.734375 -1.421875 39.40625 -1.421875 \r\nQ 24.03125 -1.421875 14.8125 8.828125 \r\nQ 5.609375 19.09375 5.609375 36.375 \r\nQ 5.609375 53.65625 14.8125 63.9375 \r\nQ 24.03125 74.21875 39.40625 74.21875 \r\nz\r\n\" id=\"DejaVuSans-79\"/>\r\n      </defs>\r\n      <g transform=\"translate(230.759688 254.356562)scale(0.1 -0.1)\">\r\n       <use xlink:href=\"#DejaVuSans-78\"/>\r\n       <use x=\"74.804688\" xlink:href=\"#DejaVuSans-79\"/>\r\n      </g>\r\n     </g>\r\n    </g>\r\n    <g id=\"text_3\">\r\n     <!-- Predicted class -->\r\n     <defs>\r\n      <path d=\"M 19.671875 64.796875 \r\nL 19.671875 37.40625 \r\nL 32.078125 37.40625 \r\nQ 38.96875 37.40625 42.71875 40.96875 \r\nQ 46.484375 44.53125 46.484375 51.125 \r\nQ 46.484375 57.671875 42.71875 61.234375 \r\nQ 38.96875 64.796875 32.078125 64.796875 \r\nz\r\nM 9.8125 72.90625 \r\nL 32.078125 72.90625 \r\nQ 44.34375 72.90625 50.609375 67.359375 \r\nQ 56.890625 61.8125 56.890625 51.125 \r\nQ 56.890625 40.328125 50.609375 34.8125 \r\nQ 44.34375 29.296875 32.078125 29.296875 \r\nL 19.671875 29.296875 \r\nL 19.671875 0 \r\nL 9.8125 0 \r\nz\r\n\" id=\"DejaVuSans-80\"/>\r\n      <path d=\"M 41.109375 46.296875 \r\nQ 39.59375 47.171875 37.8125 47.578125 \r\nQ 36.03125 48 33.890625 48 \r\nQ 26.265625 48 22.1875 43.046875 \r\nQ 18.109375 38.09375 18.109375 28.8125 \r\nL 18.109375 0 \r\nL 9.078125 0 \r\nL 9.078125 54.6875 \r\nL 18.109375 54.6875 \r\nL 18.109375 46.1875 \r\nQ 20.953125 51.171875 25.484375 53.578125 \r\nQ 30.03125 56 36.53125 56 \r\nQ 37.453125 56 38.578125 55.875 \r\nQ 39.703125 55.765625 41.0625 55.515625 \r\nz\r\n\" id=\"DejaVuSans-114\"/>\r\n      <path d=\"M 56.203125 29.59375 \r\nL 56.203125 25.203125 \r\nL 14.890625 25.203125 \r\nQ 15.484375 15.921875 20.484375 11.0625 \r\nQ 25.484375 6.203125 34.421875 6.203125 \r\nQ 39.59375 6.203125 44.453125 7.46875 \r\nQ 49.3125 8.734375 54.109375 11.28125 \r\nL 54.109375 2.78125 \r\nQ 49.265625 0.734375 44.1875 -0.34375 \r\nQ 39.109375 -1.421875 33.890625 -1.421875 \r\nQ 20.796875 -1.421875 13.15625 6.1875 \r\nQ 5.515625 13.8125 5.515625 26.8125 \r\nQ 5.515625 40.234375 12.765625 48.109375 \r\nQ 20.015625 56 32.328125 56 \r\nQ 43.359375 56 49.78125 48.890625 \r\nQ 56.203125 41.796875 56.203125 29.59375 \r\nz\r\nM 47.21875 32.234375 \r\nQ 47.125 39.59375 43.09375 43.984375 \r\nQ 39.0625 48.390625 32.421875 48.390625 \r\nQ 24.90625 48.390625 20.390625 44.140625 \r\nQ 15.875 39.890625 15.1875 32.171875 \r\nz\r\n\" id=\"DejaVuSans-101\"/>\r\n      <path d=\"M 45.40625 46.390625 \r\nL 45.40625 75.984375 \r\nL 54.390625 75.984375 \r\nL 54.390625 0 \r\nL 45.40625 0 \r\nL 45.40625 8.203125 \r\nQ 42.578125 3.328125 38.25 0.953125 \r\nQ 33.9375 -1.421875 27.875 -1.421875 \r\nQ 17.96875 -1.421875 11.734375 6.484375 \r\nQ 5.515625 14.40625 5.515625 27.296875 \r\nQ 5.515625 40.1875 11.734375 48.09375 \r\nQ 17.96875 56 27.875 56 \r\nQ 33.9375 56 38.25 53.625 \r\nQ 42.578125 51.265625 45.40625 46.390625 \r\nz\r\nM 14.796875 27.296875 \r\nQ 14.796875 17.390625 18.875 11.75 \r\nQ 22.953125 6.109375 30.078125 6.109375 \r\nQ 37.203125 6.109375 41.296875 11.75 \r\nQ 45.40625 17.390625 45.40625 27.296875 \r\nQ 45.40625 37.203125 41.296875 42.84375 \r\nQ 37.203125 48.484375 30.078125 48.484375 \r\nQ 22.953125 48.484375 18.875 42.84375 \r\nQ 14.796875 37.203125 14.796875 27.296875 \r\nz\r\n\" id=\"DejaVuSans-100\"/>\r\n      <path d=\"M 9.421875 54.6875 \r\nL 18.40625 54.6875 \r\nL 18.40625 0 \r\nL 9.421875 0 \r\nz\r\nM 9.421875 75.984375 \r\nL 18.40625 75.984375 \r\nL 18.40625 64.59375 \r\nL 9.421875 64.59375 \r\nz\r\n\" id=\"DejaVuSans-105\"/>\r\n      <path d=\"M 48.78125 52.59375 \r\nL 48.78125 44.1875 \r\nQ 44.96875 46.296875 41.140625 47.34375 \r\nQ 37.3125 48.390625 33.40625 48.390625 \r\nQ 24.65625 48.390625 19.8125 42.84375 \r\nQ 14.984375 37.3125 14.984375 27.296875 \r\nQ 14.984375 17.28125 19.8125 11.734375 \r\nQ 24.65625 6.203125 33.40625 6.203125 \r\nQ 37.3125 6.203125 41.140625 7.25 \r\nQ 44.96875 8.296875 48.78125 10.40625 \r\nL 48.78125 2.09375 \r\nQ 45.015625 0.34375 40.984375 -0.53125 \r\nQ 36.96875 -1.421875 32.421875 -1.421875 \r\nQ 20.0625 -1.421875 12.78125 6.34375 \r\nQ 5.515625 14.109375 5.515625 27.296875 \r\nQ 5.515625 40.671875 12.859375 48.328125 \r\nQ 20.21875 56 33.015625 56 \r\nQ 37.15625 56 41.109375 55.140625 \r\nQ 45.0625 54.296875 48.78125 52.59375 \r\nz\r\n\" id=\"DejaVuSans-99\"/>\r\n      <path d=\"M 18.3125 70.21875 \r\nL 18.3125 54.6875 \r\nL 36.8125 54.6875 \r\nL 36.8125 47.703125 \r\nL 18.3125 47.703125 \r\nL 18.3125 18.015625 \r\nQ 18.3125 11.328125 20.140625 9.421875 \r\nQ 21.96875 7.515625 27.59375 7.515625 \r\nL 36.8125 7.515625 \r\nL 36.8125 0 \r\nL 27.59375 0 \r\nQ 17.1875 0 13.234375 3.875 \r\nQ 9.28125 7.765625 9.28125 18.015625 \r\nL 9.28125 47.703125 \r\nL 2.6875 47.703125 \r\nL 2.6875 54.6875 \r\nL 9.28125 54.6875 \r\nL 9.28125 70.21875 \r\nz\r\n\" id=\"DejaVuSans-116\"/>\r\n      <path id=\"DejaVuSans-32\"/>\r\n      <path d=\"M 9.421875 75.984375 \r\nL 18.40625 75.984375 \r\nL 18.40625 0 \r\nL 9.421875 0 \r\nz\r\n\" id=\"DejaVuSans-108\"/>\r\n      <path d=\"M 34.28125 27.484375 \r\nQ 23.390625 27.484375 19.1875 25 \r\nQ 14.984375 22.515625 14.984375 16.5 \r\nQ 14.984375 11.71875 18.140625 8.90625 \r\nQ 21.296875 6.109375 26.703125 6.109375 \r\nQ 34.1875 6.109375 38.703125 11.40625 \r\nQ 43.21875 16.703125 43.21875 25.484375 \r\nL 43.21875 27.484375 \r\nz\r\nM 52.203125 31.203125 \r\nL 52.203125 0 \r\nL 43.21875 0 \r\nL 43.21875 8.296875 \r\nQ 40.140625 3.328125 35.546875 0.953125 \r\nQ 30.953125 -1.421875 24.3125 -1.421875 \r\nQ 15.921875 -1.421875 10.953125 3.296875 \r\nQ 6 8.015625 6 15.921875 \r\nQ 6 25.140625 12.171875 29.828125 \r\nQ 18.359375 34.515625 30.609375 34.515625 \r\nL 43.21875 34.515625 \r\nL 43.21875 35.40625 \r\nQ 43.21875 41.609375 39.140625 45 \r\nQ 35.0625 48.390625 27.6875 48.390625 \r\nQ 23 48.390625 18.546875 47.265625 \r\nQ 14.109375 46.140625 10.015625 43.890625 \r\nL 10.015625 52.203125 \r\nQ 14.9375 54.109375 19.578125 55.046875 \r\nQ 24.21875 56 28.609375 56 \r\nQ 40.484375 56 46.34375 49.84375 \r\nQ 52.203125 43.703125 52.203125 31.203125 \r\nz\r\n\" id=\"DejaVuSans-97\"/>\r\n      <path d=\"M 44.28125 53.078125 \r\nL 44.28125 44.578125 \r\nQ 40.484375 46.53125 36.375 47.5 \r\nQ 32.28125 48.484375 27.875 48.484375 \r\nQ 21.1875 48.484375 17.84375 46.4375 \r\nQ 14.5 44.390625 14.5 40.28125 \r\nQ 14.5 37.15625 16.890625 35.375 \r\nQ 19.28125 33.59375 26.515625 31.984375 \r\nL 29.59375 31.296875 \r\nQ 39.15625 29.25 43.1875 25.515625 \r\nQ 47.21875 21.78125 47.21875 15.09375 \r\nQ 47.21875 7.46875 41.1875 3.015625 \r\nQ 35.15625 -1.421875 24.609375 -1.421875 \r\nQ 20.21875 -1.421875 15.453125 -0.5625 \r\nQ 10.6875 0.296875 5.421875 2 \r\nL 5.421875 11.28125 \r\nQ 10.40625 8.6875 15.234375 7.390625 \r\nQ 20.0625 6.109375 24.8125 6.109375 \r\nQ 31.15625 6.109375 34.5625 8.28125 \r\nQ 37.984375 10.453125 37.984375 14.40625 \r\nQ 37.984375 18.0625 35.515625 20.015625 \r\nQ 33.0625 21.96875 24.703125 23.78125 \r\nL 21.578125 24.515625 \r\nQ 13.234375 26.265625 9.515625 29.90625 \r\nQ 5.8125 33.546875 5.8125 39.890625 \r\nQ 5.8125 47.609375 11.28125 51.796875 \r\nQ 16.75 56 26.8125 56 \r\nQ 31.78125 56 36.171875 55.265625 \r\nQ 40.578125 54.546875 44.28125 53.078125 \r\nz\r\n\" id=\"DejaVuSans-115\"/>\r\n     </defs>\r\n     <g transform=\"translate(133.8075 268.034687)scale(0.1 -0.1)\">\r\n      <use xlink:href=\"#DejaVuSans-80\"/>\r\n      <use x=\"60.287109\" xlink:href=\"#DejaVuSans-114\"/>\r\n      <use x=\"101.369141\" xlink:href=\"#DejaVuSans-101\"/>\r\n      <use x=\"162.892578\" xlink:href=\"#DejaVuSans-100\"/>\r\n      <use x=\"226.369141\" xlink:href=\"#DejaVuSans-105\"/>\r\n      <use x=\"254.152344\" xlink:href=\"#DejaVuSans-99\"/>\r\n      <use x=\"309.132812\" xlink:href=\"#DejaVuSans-116\"/>\r\n      <use x=\"348.341797\" xlink:href=\"#DejaVuSans-101\"/>\r\n      <use x=\"409.865234\" xlink:href=\"#DejaVuSans-100\"/>\r\n      <use x=\"473.341797\" xlink:href=\"#DejaVuSans-32\"/>\r\n      <use x=\"505.128906\" xlink:href=\"#DejaVuSans-99\"/>\r\n      <use x=\"560.109375\" xlink:href=\"#DejaVuSans-108\"/>\r\n      <use x=\"587.892578\" xlink:href=\"#DejaVuSans-97\"/>\r\n      <use x=\"649.171875\" xlink:href=\"#DejaVuSans-115\"/>\r\n      <use x=\"701.271484\" xlink:href=\"#DejaVuSans-115\"/>\r\n     </g>\r\n    </g>\r\n   </g>\r\n   <g id=\"matplotlib.axis_2\">\r\n    <g id=\"ytick_1\">\r\n     <g id=\"line2d_3\">\r\n      <defs>\r\n       <path d=\"M 0 0 \r\nL -3.5 0 \r\n\" id=\"me46dde7d43\" style=\"stroke:#000000;stroke-width:0.8;\"/>\r\n      </defs>\r\n      <g>\r\n       <use style=\"stroke:#000000;stroke-width:0.8;\" x=\"37.55625\" xlink:href=\"#me46dde7d43\" y=\"76.678125\"/>\r\n      </g>\r\n     </g>\r\n     <g id=\"text_4\">\r\n      <!-- YES -->\r\n      <g transform=\"translate(28.476563 91.653906)rotate(-90)scale(0.1 -0.1)\">\r\n       <use xlink:href=\"#DejaVuSans-89\"/>\r\n       <use x=\"61.083984\" xlink:href=\"#DejaVuSans-69\"/>\r\n       <use x=\"124.267578\" xlink:href=\"#DejaVuSans-83\"/>\r\n      </g>\r\n     </g>\r\n    </g>\r\n    <g id=\"ytick_2\">\r\n     <g id=\"line2d_4\">\r\n      <g>\r\n       <use style=\"stroke:#000000;stroke-width:0.8;\" x=\"37.55625\" xlink:href=\"#me46dde7d43\" y=\"185.398125\"/>\r\n      </g>\r\n     </g>\r\n     <g id=\"text_5\">\r\n      <!-- NO -->\r\n      <g transform=\"translate(28.476563 196.952031)rotate(-90)scale(0.1 -0.1)\">\r\n       <use xlink:href=\"#DejaVuSans-78\"/>\r\n       <use x=\"74.804688\" xlink:href=\"#DejaVuSans-79\"/>\r\n      </g>\r\n     </g>\r\n    </g>\r\n    <g id=\"text_6\">\r\n     <!-- Actual Class -->\r\n     <defs>\r\n      <path d=\"M 34.1875 63.1875 \r\nL 20.796875 26.90625 \r\nL 47.609375 26.90625 \r\nz\r\nM 28.609375 72.90625 \r\nL 39.796875 72.90625 \r\nL 67.578125 0 \r\nL 57.328125 0 \r\nL 50.6875 18.703125 \r\nL 17.828125 18.703125 \r\nL 11.1875 0 \r\nL 0.78125 0 \r\nz\r\n\" id=\"DejaVuSans-65\"/>\r\n      <path d=\"M 8.5 21.578125 \r\nL 8.5 54.6875 \r\nL 17.484375 54.6875 \r\nL 17.484375 21.921875 \r\nQ 17.484375 14.15625 20.5 10.265625 \r\nQ 23.53125 6.390625 29.59375 6.390625 \r\nQ 36.859375 6.390625 41.078125 11.03125 \r\nQ 45.3125 15.671875 45.3125 23.6875 \r\nL 45.3125 54.6875 \r\nL 54.296875 54.6875 \r\nL 54.296875 0 \r\nL 45.3125 0 \r\nL 45.3125 8.40625 \r\nQ 42.046875 3.421875 37.71875 1 \r\nQ 33.40625 -1.421875 27.6875 -1.421875 \r\nQ 18.265625 -1.421875 13.375 4.4375 \r\nQ 8.5 10.296875 8.5 21.578125 \r\nz\r\nM 31.109375 56 \r\nz\r\n\" id=\"DejaVuSans-117\"/>\r\n      <path d=\"M 64.40625 67.28125 \r\nL 64.40625 56.890625 \r\nQ 59.421875 61.53125 53.78125 63.8125 \r\nQ 48.140625 66.109375 41.796875 66.109375 \r\nQ 29.296875 66.109375 22.65625 58.46875 \r\nQ 16.015625 50.828125 16.015625 36.375 \r\nQ 16.015625 21.96875 22.65625 14.328125 \r\nQ 29.296875 6.6875 41.796875 6.6875 \r\nQ 48.140625 6.6875 53.78125 8.984375 \r\nQ 59.421875 11.28125 64.40625 15.921875 \r\nL 64.40625 5.609375 \r\nQ 59.234375 2.09375 53.4375 0.328125 \r\nQ 47.65625 -1.421875 41.21875 -1.421875 \r\nQ 24.65625 -1.421875 15.125 8.703125 \r\nQ 5.609375 18.84375 5.609375 36.375 \r\nQ 5.609375 53.953125 15.125 64.078125 \r\nQ 24.65625 74.21875 41.21875 74.21875 \r\nQ 47.75 74.21875 53.53125 72.484375 \r\nQ 59.328125 70.75 64.40625 67.28125 \r\nz\r\n\" id=\"DejaVuSans-67\"/>\r\n     </defs>\r\n     <g transform=\"translate(14.798438 161.531875)rotate(-90)scale(0.1 -0.1)\">\r\n      <use xlink:href=\"#DejaVuSans-65\"/>\r\n      <use x=\"68.392578\" xlink:href=\"#DejaVuSans-99\"/>\r\n      <use x=\"123.373047\" xlink:href=\"#DejaVuSans-116\"/>\r\n      <use x=\"162.582031\" xlink:href=\"#DejaVuSans-117\"/>\r\n      <use x=\"225.960938\" xlink:href=\"#DejaVuSans-97\"/>\r\n      <use x=\"287.240234\" xlink:href=\"#DejaVuSans-108\"/>\r\n      <use x=\"315.023438\" xlink:href=\"#DejaVuSans-32\"/>\r\n      <use x=\"346.810547\" xlink:href=\"#DejaVuSans-67\"/>\r\n      <use x=\"416.634766\" xlink:href=\"#DejaVuSans-108\"/>\r\n      <use x=\"444.417969\" xlink:href=\"#DejaVuSans-97\"/>\r\n      <use x=\"505.697266\" xlink:href=\"#DejaVuSans-115\"/>\r\n      <use x=\"557.796875\" xlink:href=\"#DejaVuSans-115\"/>\r\n     </g>\r\n    </g>\r\n   </g>\r\n   <g id=\"text_7\">\r\n    <!-- 250 -->\r\n    <defs>\r\n     <path d=\"M 19.1875 8.296875 \r\nL 53.609375 8.296875 \r\nL 53.609375 0 \r\nL 7.328125 0 \r\nL 7.328125 8.296875 \r\nQ 12.9375 14.109375 22.625 23.890625 \r\nQ 32.328125 33.6875 34.8125 36.53125 \r\nQ 39.546875 41.84375 41.421875 45.53125 \r\nQ 43.3125 49.21875 43.3125 52.78125 \r\nQ 43.3125 58.59375 39.234375 62.25 \r\nQ 35.15625 65.921875 28.609375 65.921875 \r\nQ 23.96875 65.921875 18.8125 64.3125 \r\nQ 13.671875 62.703125 7.8125 59.421875 \r\nL 7.8125 69.390625 \r\nQ 13.765625 71.78125 18.9375 73 \r\nQ 24.125 74.21875 28.421875 74.21875 \r\nQ 39.75 74.21875 46.484375 68.546875 \r\nQ 53.21875 62.890625 53.21875 53.421875 \r\nQ 53.21875 48.921875 51.53125 44.890625 \r\nQ 49.859375 40.875 45.40625 35.40625 \r\nQ 44.1875 33.984375 37.640625 27.21875 \r\nQ 31.109375 20.453125 19.1875 8.296875 \r\nz\r\n\" id=\"DejaVuSans-50\"/>\r\n     <path d=\"M 10.796875 72.90625 \r\nL 49.515625 72.90625 \r\nL 49.515625 64.59375 \r\nL 19.828125 64.59375 \r\nL 19.828125 46.734375 \r\nQ 21.96875 47.46875 24.109375 47.828125 \r\nQ 26.265625 48.1875 28.421875 48.1875 \r\nQ 40.625 48.1875 47.75 41.5 \r\nQ 54.890625 34.8125 54.890625 23.390625 \r\nQ 54.890625 11.625 47.5625 5.09375 \r\nQ 40.234375 -1.421875 26.90625 -1.421875 \r\nQ 22.3125 -1.421875 17.546875 -0.640625 \r\nQ 12.796875 0.140625 7.71875 1.703125 \r\nL 7.71875 11.625 \r\nQ 12.109375 9.234375 16.796875 8.0625 \r\nQ 21.484375 6.890625 26.703125 6.890625 \r\nQ 35.15625 6.890625 40.078125 11.328125 \r\nQ 45.015625 15.765625 45.015625 23.390625 \r\nQ 45.015625 31 40.078125 35.4375 \r\nQ 35.15625 39.890625 26.703125 39.890625 \r\nQ 22.75 39.890625 18.8125 39.015625 \r\nQ 14.890625 38.140625 10.796875 36.28125 \r\nz\r\n\" id=\"DejaVuSans-53\"/>\r\n     <path d=\"M 31.78125 66.40625 \r\nQ 24.171875 66.40625 20.328125 58.90625 \r\nQ 16.5 51.421875 16.5 36.375 \r\nQ 16.5 21.390625 20.328125 13.890625 \r\nQ 24.171875 6.390625 31.78125 6.390625 \r\nQ 39.453125 6.390625 43.28125 13.890625 \r\nQ 47.125 21.390625 47.125 36.375 \r\nQ 47.125 51.421875 43.28125 58.90625 \r\nQ 39.453125 66.40625 31.78125 66.40625 \r\nz\r\nM 31.78125 74.21875 \r\nQ 44.046875 74.21875 50.515625 64.515625 \r\nQ 56.984375 54.828125 56.984375 36.375 \r\nQ 56.984375 17.96875 50.515625 8.265625 \r\nQ 44.046875 -1.421875 31.78125 -1.421875 \r\nQ 19.53125 -1.421875 13.0625 8.265625 \r\nQ 6.59375 17.96875 6.59375 36.375 \r\nQ 6.59375 54.828125 13.0625 64.515625 \r\nQ 19.53125 74.21875 31.78125 74.21875 \r\nz\r\n\" id=\"DejaVuSans-48\"/>\r\n    </defs>\r\n    <g style=\"fill:#262626;\" transform=\"translate(94.9725 79.4375)scale(0.1 -0.1)\">\r\n     <use xlink:href=\"#DejaVuSans-50\"/>\r\n     <use x=\"63.623047\" xlink:href=\"#DejaVuSans-53\"/>\r\n     <use x=\"127.246094\" xlink:href=\"#DejaVuSans-48\"/>\r\n    </g>\r\n   </g>\r\n   <g id=\"text_8\">\r\n    <!-- 27 -->\r\n    <defs>\r\n     <path d=\"M 8.203125 72.90625 \r\nL 55.078125 72.90625 \r\nL 55.078125 68.703125 \r\nL 28.609375 0 \r\nL 18.3125 0 \r\nL 43.21875 64.59375 \r\nL 8.203125 64.59375 \r\nz\r\n\" id=\"DejaVuSans-55\"/>\r\n    </defs>\r\n    <g style=\"fill:#ffffff;\" transform=\"translate(232.07375 79.4375)scale(0.1 -0.1)\">\r\n     <use xlink:href=\"#DejaVuSans-50\"/>\r\n     <use x=\"63.623047\" xlink:href=\"#DejaVuSans-55\"/>\r\n    </g>\r\n   </g>\r\n   <g id=\"text_9\">\r\n    <!-- 107 -->\r\n    <defs>\r\n     <path d=\"M 12.40625 8.296875 \r\nL 28.515625 8.296875 \r\nL 28.515625 63.921875 \r\nL 10.984375 60.40625 \r\nL 10.984375 69.390625 \r\nL 28.421875 72.90625 \r\nL 38.28125 72.90625 \r\nL 38.28125 8.296875 \r\nL 54.390625 8.296875 \r\nL 54.390625 0 \r\nL 12.40625 0 \r\nz\r\n\" id=\"DejaVuSans-49\"/>\r\n    </defs>\r\n    <g style=\"fill:#ffffff;\" transform=\"translate(94.9725 188.1575)scale(0.1 -0.1)\">\r\n     <use xlink:href=\"#DejaVuSans-49\"/>\r\n     <use x=\"63.623047\" xlink:href=\"#DejaVuSans-48\"/>\r\n     <use x=\"127.246094\" xlink:href=\"#DejaVuSans-55\"/>\r\n    </g>\r\n   </g>\r\n   <g id=\"text_10\">\r\n    <!-- 116 -->\r\n    <defs>\r\n     <path d=\"M 33.015625 40.375 \r\nQ 26.375 40.375 22.484375 35.828125 \r\nQ 18.609375 31.296875 18.609375 23.390625 \r\nQ 18.609375 15.53125 22.484375 10.953125 \r\nQ 26.375 6.390625 33.015625 6.390625 \r\nQ 39.65625 6.390625 43.53125 10.953125 \r\nQ 47.40625 15.53125 47.40625 23.390625 \r\nQ 47.40625 31.296875 43.53125 35.828125 \r\nQ 39.65625 40.375 33.015625 40.375 \r\nz\r\nM 52.59375 71.296875 \r\nL 52.59375 62.3125 \r\nQ 48.875 64.0625 45.09375 64.984375 \r\nQ 41.3125 65.921875 37.59375 65.921875 \r\nQ 27.828125 65.921875 22.671875 59.328125 \r\nQ 17.53125 52.734375 16.796875 39.40625 \r\nQ 19.671875 43.65625 24.015625 45.921875 \r\nQ 28.375 48.1875 33.59375 48.1875 \r\nQ 44.578125 48.1875 50.953125 41.515625 \r\nQ 57.328125 34.859375 57.328125 23.390625 \r\nQ 57.328125 12.15625 50.6875 5.359375 \r\nQ 44.046875 -1.421875 33.015625 -1.421875 \r\nQ 20.359375 -1.421875 13.671875 8.265625 \r\nQ 6.984375 17.96875 6.984375 36.375 \r\nQ 6.984375 53.65625 15.1875 63.9375 \r\nQ 23.390625 74.21875 37.203125 74.21875 \r\nQ 40.921875 74.21875 44.703125 73.484375 \r\nQ 48.484375 72.75 52.59375 71.296875 \r\nz\r\n\" id=\"DejaVuSans-54\"/>\r\n    </defs>\r\n    <g style=\"fill:#ffffff;\" transform=\"translate(228.8925 188.1575)scale(0.1 -0.1)\">\r\n     <use xlink:href=\"#DejaVuSans-49\"/>\r\n     <use x=\"63.623047\" xlink:href=\"#DejaVuSans-49\"/>\r\n     <use x=\"127.246094\" xlink:href=\"#DejaVuSans-54\"/>\r\n    </g>\r\n   </g>\r\n   <g id=\"text_11\">\r\n    <!-- Confusion Matrix -->\r\n    <defs>\r\n     <path d=\"M 30.609375 48.390625 \r\nQ 23.390625 48.390625 19.1875 42.75 \r\nQ 14.984375 37.109375 14.984375 27.296875 \r\nQ 14.984375 17.484375 19.15625 11.84375 \r\nQ 23.34375 6.203125 30.609375 6.203125 \r\nQ 37.796875 6.203125 41.984375 11.859375 \r\nQ 46.1875 17.53125 46.1875 27.296875 \r\nQ 46.1875 37.015625 41.984375 42.703125 \r\nQ 37.796875 48.390625 30.609375 48.390625 \r\nz\r\nM 30.609375 56 \r\nQ 42.328125 56 49.015625 48.375 \r\nQ 55.71875 40.765625 55.71875 27.296875 \r\nQ 55.71875 13.875 49.015625 6.21875 \r\nQ 42.328125 -1.421875 30.609375 -1.421875 \r\nQ 18.84375 -1.421875 12.171875 6.21875 \r\nQ 5.515625 13.875 5.515625 27.296875 \r\nQ 5.515625 40.765625 12.171875 48.375 \r\nQ 18.84375 56 30.609375 56 \r\nz\r\n\" id=\"DejaVuSans-111\"/>\r\n     <path d=\"M 54.890625 33.015625 \r\nL 54.890625 0 \r\nL 45.90625 0 \r\nL 45.90625 32.71875 \r\nQ 45.90625 40.484375 42.875 44.328125 \r\nQ 39.84375 48.1875 33.796875 48.1875 \r\nQ 26.515625 48.1875 22.3125 43.546875 \r\nQ 18.109375 38.921875 18.109375 30.90625 \r\nL 18.109375 0 \r\nL 9.078125 0 \r\nL 9.078125 54.6875 \r\nL 18.109375 54.6875 \r\nL 18.109375 46.1875 \r\nQ 21.34375 51.125 25.703125 53.5625 \r\nQ 30.078125 56 35.796875 56 \r\nQ 45.21875 56 50.046875 50.171875 \r\nQ 54.890625 44.34375 54.890625 33.015625 \r\nz\r\n\" id=\"DejaVuSans-110\"/>\r\n     <path d=\"M 37.109375 75.984375 \r\nL 37.109375 68.5 \r\nL 28.515625 68.5 \r\nQ 23.6875 68.5 21.796875 66.546875 \r\nQ 19.921875 64.59375 19.921875 59.515625 \r\nL 19.921875 54.6875 \r\nL 34.71875 54.6875 \r\nL 34.71875 47.703125 \r\nL 19.921875 47.703125 \r\nL 19.921875 0 \r\nL 10.890625 0 \r\nL 10.890625 47.703125 \r\nL 2.296875 47.703125 \r\nL 2.296875 54.6875 \r\nL 10.890625 54.6875 \r\nL 10.890625 58.5 \r\nQ 10.890625 67.625 15.140625 71.796875 \r\nQ 19.390625 75.984375 28.609375 75.984375 \r\nz\r\n\" id=\"DejaVuSans-102\"/>\r\n     <path d=\"M 9.8125 72.90625 \r\nL 24.515625 72.90625 \r\nL 43.109375 23.296875 \r\nL 61.8125 72.90625 \r\nL 76.515625 72.90625 \r\nL 76.515625 0 \r\nL 66.890625 0 \r\nL 66.890625 64.015625 \r\nL 48.09375 14.015625 \r\nL 38.1875 14.015625 \r\nL 19.390625 64.015625 \r\nL 19.390625 0 \r\nL 9.8125 0 \r\nz\r\n\" id=\"DejaVuSans-77\"/>\r\n     <path d=\"M 54.890625 54.6875 \r\nL 35.109375 28.078125 \r\nL 55.90625 0 \r\nL 45.3125 0 \r\nL 29.390625 21.484375 \r\nL 13.484375 0 \r\nL 2.875 0 \r\nL 24.125 28.609375 \r\nL 4.6875 54.6875 \r\nL 15.28125 54.6875 \r\nL 29.78125 35.203125 \r\nL 44.28125 54.6875 \r\nz\r\n\" id=\"DejaVuSans-120\"/>\r\n    </defs>\r\n    <g transform=\"translate(120.834375 16.318125)scale(0.12 -0.12)\">\r\n     <use xlink:href=\"#DejaVuSans-67\"/>\r\n     <use x=\"69.824219\" xlink:href=\"#DejaVuSans-111\"/>\r\n     <use x=\"131.005859\" xlink:href=\"#DejaVuSans-110\"/>\r\n     <use x=\"194.384766\" xlink:href=\"#DejaVuSans-102\"/>\r\n     <use x=\"229.589844\" xlink:href=\"#DejaVuSans-117\"/>\r\n     <use x=\"292.96875\" xlink:href=\"#DejaVuSans-115\"/>\r\n     <use x=\"345.068359\" xlink:href=\"#DejaVuSans-105\"/>\r\n     <use x=\"372.851562\" xlink:href=\"#DejaVuSans-111\"/>\r\n     <use x=\"434.033203\" xlink:href=\"#DejaVuSans-110\"/>\r\n     <use x=\"497.412109\" xlink:href=\"#DejaVuSans-32\"/>\r\n     <use x=\"529.199219\" xlink:href=\"#DejaVuSans-77\"/>\r\n     <use x=\"615.478516\" xlink:href=\"#DejaVuSans-97\"/>\r\n     <use x=\"676.757812\" xlink:href=\"#DejaVuSans-116\"/>\r\n     <use x=\"715.966797\" xlink:href=\"#DejaVuSans-114\"/>\r\n     <use x=\"757.080078\" xlink:href=\"#DejaVuSans-105\"/>\r\n     <use x=\"784.863281\" xlink:href=\"#DejaVuSans-120\"/>\r\n    </g>\r\n   </g>\r\n  </g>\r\n  <g id=\"axes_2\">\r\n   <g id=\"patch_3\">\r\n    <path clip-path=\"url(#p8dbde1a67c)\" d=\"M 322.13625 239.758125 \r\nL 322.13625 238.90875 \r\nL 322.13625 23.1675 \r\nL 322.13625 22.318125 \r\nL 333.00825 22.318125 \r\nL 333.00825 23.1675 \r\nL 333.00825 238.90875 \r\nL 333.00825 239.758125 \r\nz\r\n\" style=\"fill:#ffffff;stroke:#ffffff;stroke-linejoin:miter;stroke-width:0.01;\"/>\r\n   </g>\r\n   <image height=\"217\" id=\"image875d24651c\" transform=\"scale(1 -1)translate(0 -217)\" width=\"11\" x=\"322\" xlink:href=\"data:image/png;base64,\r\niVBORw0KGgoAAAANSUhEUgAAAAsAAADZCAYAAAD2WsoCAAAABHNCSVQICAgIfAhkiAAAAVJJREFUaIHV2kEOAjEMQ9GmDZfg/veEK/QtLKWsLcv5dToMovrz/a3LT1fVrXb1rn0vRmcQ14o5i/gIjVyMLTRyAw7JjM4woNHIVXSGs5V/ynHLgGtE+W3Aa6l2YwgNK/+1NNoNipHcFIiRGxBPcEj5Y62LOefQ9ZCFFTHRODHnIQPu69cDp0Hi2HaTeAgNiZGjcSQGHreIn6Rxr7YBc/dG/yAzck7RKHK+N159Ys6YWcRwKhbjFMWIFYmcRXygduaMma+1yRgbLruuIehgCTFGjoahu9aiMw6YikHOK9aN3RLDaDzoDDd0FzyBLMYSZ4sRHDAlpl97LAa81iQPhcTy+7N8Weva4pzLbOjE+eSO+0F0RoNijKBRtN3GOSa2u47Kf/+kH5PZYgyhMaNINGAuc8y5Sra7X6QRu76kG8Z5RjfW+UyIQf+ySN51QuPFAWFT/gJ8LSOCIrIBAAAAAElFTkSuQmCC\" y=\"-22\"/>\r\n   <g id=\"matplotlib.axis_3\"/>\r\n   <g id=\"matplotlib.axis_4\">\r\n    <g id=\"ytick_3\">\r\n     <g id=\"line2d_5\">\r\n      <defs>\r\n       <path d=\"M 0 0 \r\nL 3.5 0 \r\n\" id=\"m882f0d061c\" style=\"stroke:#000000;stroke-width:0.8;\"/>\r\n      </defs>\r\n      <g>\r\n       <use style=\"stroke:#000000;stroke-width:0.8;\" x=\"333.00825\" xlink:href=\"#m882f0d061c\" y=\"217.331578\"/>\r\n      </g>\r\n     </g>\r\n     <g id=\"text_12\">\r\n      <!-- 50 -->\r\n      <g transform=\"translate(340.00825 221.130797)scale(0.1 -0.1)\">\r\n       <use xlink:href=\"#DejaVuSans-53\"/>\r\n       <use x=\"63.623047\" xlink:href=\"#DejaVuSans-48\"/>\r\n      </g>\r\n     </g>\r\n    </g>\r\n    <g id=\"ytick_4\">\r\n     <g id=\"line2d_6\">\r\n      <g>\r\n       <use style=\"stroke:#000000;stroke-width:0.8;\" x=\"333.00825\" xlink:href=\"#m882f0d061c\" y=\"192.954896\"/>\r\n      </g>\r\n     </g>\r\n     <g id=\"text_13\">\r\n      <!-- 75 -->\r\n      <g transform=\"translate(340.00825 196.754115)scale(0.1 -0.1)\">\r\n       <use xlink:href=\"#DejaVuSans-55\"/>\r\n       <use x=\"63.623047\" xlink:href=\"#DejaVuSans-53\"/>\r\n      </g>\r\n     </g>\r\n    </g>\r\n    <g id=\"ytick_5\">\r\n     <g id=\"line2d_7\">\r\n      <g>\r\n       <use style=\"stroke:#000000;stroke-width:0.8;\" x=\"333.00825\" xlink:href=\"#m882f0d061c\" y=\"168.578215\"/>\r\n      </g>\r\n     </g>\r\n     <g id=\"text_14\">\r\n      <!-- 100 -->\r\n      <g transform=\"translate(340.00825 172.377433)scale(0.1 -0.1)\">\r\n       <use xlink:href=\"#DejaVuSans-49\"/>\r\n       <use x=\"63.623047\" xlink:href=\"#DejaVuSans-48\"/>\r\n       <use x=\"127.246094\" xlink:href=\"#DejaVuSans-48\"/>\r\n      </g>\r\n     </g>\r\n    </g>\r\n    <g id=\"ytick_6\">\r\n     <g id=\"line2d_8\">\r\n      <g>\r\n       <use style=\"stroke:#000000;stroke-width:0.8;\" x=\"333.00825\" xlink:href=\"#m882f0d061c\" y=\"144.201533\"/>\r\n      </g>\r\n     </g>\r\n     <g id=\"text_15\">\r\n      <!-- 125 -->\r\n      <g transform=\"translate(340.00825 148.000752)scale(0.1 -0.1)\">\r\n       <use xlink:href=\"#DejaVuSans-49\"/>\r\n       <use x=\"63.623047\" xlink:href=\"#DejaVuSans-50\"/>\r\n       <use x=\"127.246094\" xlink:href=\"#DejaVuSans-53\"/>\r\n      </g>\r\n     </g>\r\n    </g>\r\n    <g id=\"ytick_7\">\r\n     <g id=\"line2d_9\">\r\n      <g>\r\n       <use style=\"stroke:#000000;stroke-width:0.8;\" x=\"333.00825\" xlink:href=\"#m882f0d061c\" y=\"119.824851\"/>\r\n      </g>\r\n     </g>\r\n     <g id=\"text_16\">\r\n      <!-- 150 -->\r\n      <g transform=\"translate(340.00825 123.62407)scale(0.1 -0.1)\">\r\n       <use xlink:href=\"#DejaVuSans-49\"/>\r\n       <use x=\"63.623047\" xlink:href=\"#DejaVuSans-53\"/>\r\n       <use x=\"127.246094\" xlink:href=\"#DejaVuSans-48\"/>\r\n      </g>\r\n     </g>\r\n    </g>\r\n    <g id=\"ytick_8\">\r\n     <g id=\"line2d_10\">\r\n      <g>\r\n       <use style=\"stroke:#000000;stroke-width:0.8;\" x=\"333.00825\" xlink:href=\"#m882f0d061c\" y=\"95.44817\"/>\r\n      </g>\r\n     </g>\r\n     <g id=\"text_17\">\r\n      <!-- 175 -->\r\n      <g transform=\"translate(340.00825 99.247389)scale(0.1 -0.1)\">\r\n       <use xlink:href=\"#DejaVuSans-49\"/>\r\n       <use x=\"63.623047\" xlink:href=\"#DejaVuSans-55\"/>\r\n       <use x=\"127.246094\" xlink:href=\"#DejaVuSans-53\"/>\r\n      </g>\r\n     </g>\r\n    </g>\r\n    <g id=\"ytick_9\">\r\n     <g id=\"line2d_11\">\r\n      <g>\r\n       <use style=\"stroke:#000000;stroke-width:0.8;\" x=\"333.00825\" xlink:href=\"#m882f0d061c\" y=\"71.071488\"/>\r\n      </g>\r\n     </g>\r\n     <g id=\"text_18\">\r\n      <!-- 200 -->\r\n      <g transform=\"translate(340.00825 74.870707)scale(0.1 -0.1)\">\r\n       <use xlink:href=\"#DejaVuSans-50\"/>\r\n       <use x=\"63.623047\" xlink:href=\"#DejaVuSans-48\"/>\r\n       <use x=\"127.246094\" xlink:href=\"#DejaVuSans-48\"/>\r\n      </g>\r\n     </g>\r\n    </g>\r\n    <g id=\"ytick_10\">\r\n     <g id=\"line2d_12\">\r\n      <g>\r\n       <use style=\"stroke:#000000;stroke-width:0.8;\" x=\"333.00825\" xlink:href=\"#m882f0d061c\" y=\"46.694807\"/>\r\n      </g>\r\n     </g>\r\n     <g id=\"text_19\">\r\n      <!-- 225 -->\r\n      <g transform=\"translate(340.00825 50.494025)scale(0.1 -0.1)\">\r\n       <use xlink:href=\"#DejaVuSans-50\"/>\r\n       <use x=\"63.623047\" xlink:href=\"#DejaVuSans-50\"/>\r\n       <use x=\"127.246094\" xlink:href=\"#DejaVuSans-53\"/>\r\n      </g>\r\n     </g>\r\n    </g>\r\n    <g id=\"ytick_11\">\r\n     <g id=\"line2d_13\">\r\n      <g>\r\n       <use style=\"stroke:#000000;stroke-width:0.8;\" x=\"333.00825\" xlink:href=\"#m882f0d061c\" y=\"22.318125\"/>\r\n      </g>\r\n     </g>\r\n     <g id=\"text_20\">\r\n      <!-- 250 -->\r\n      <g transform=\"translate(340.00825 26.117344)scale(0.1 -0.1)\">\r\n       <use xlink:href=\"#DejaVuSans-50\"/>\r\n       <use x=\"63.623047\" xlink:href=\"#DejaVuSans-53\"/>\r\n       <use x=\"127.246094\" xlink:href=\"#DejaVuSans-48\"/>\r\n      </g>\r\n     </g>\r\n    </g>\r\n   </g>\r\n   <g id=\"patch_4\">\r\n    <path d=\"M 322.13625 239.758125 \r\nL 322.13625 238.90875 \r\nL 322.13625 23.1675 \r\nL 322.13625 22.318125 \r\nL 333.00825 22.318125 \r\nL 333.00825 23.1675 \r\nL 333.00825 238.90875 \r\nL 333.00825 239.758125 \r\nz\r\n\" style=\"fill:none;\"/>\r\n   </g>\r\n  </g>\r\n </g>\r\n <defs>\r\n  <clipPath id=\"p35ea40b9e2\">\r\n   <rect height=\"217.44\" width=\"267.84\" x=\"37.55625\" y=\"22.318125\"/>\r\n  </clipPath>\r\n  <clipPath id=\"p8dbde1a67c\">\r\n   <rect height=\"217.44\" width=\"10.872\" x=\"322.13625\" y=\"22.318125\"/>\r\n  </clipPath>\r\n </defs>\r\n</svg>\r\n",
            "image/png": "[encoded data removed]"
          },
          "metadata": {
            "needs_background": "light"
          }
        },
        {
          "output_type": "stream",
          "name": "stdout",
          "text": [
            "Number of True Positives (TP):  250\nNumber of True Negatives (TN):  116\nNumber of False Positives (FP):  107\nNumber of False Negatives (FN):  27\n\nAccuracy: 73.2 %\nPrecision: 75.0 %\nRecall: 73.2 %\nF1 Score: 72.0 %\n"
          ]
        }
      ]
    },
    {
      "cell_type": "markdown",
      "metadata": {
        "id": "JJ-W1YbX9ECr"
      },
      "source": [
        "<p> Let us interpret the above results obtained.\n",
        "<ul>\n",
        "    <li><b>Accuracy</b> is the fraction of predictions that our model got right. It is 73.2% here.</li>\n",
        "    <li><b>Precision</b> indicates the proportion of the instances that the model says was relevant, actually were relevant. It is 75% here. It says that 75% which were predicted as hate speech is actually hate speech.</li>  \n",
        "   <li><b>Recall</b> indicates the proportion of actually positive instances that are correctly predicted. It is 73.2% here. It says that of all the observations which truly consist of hate speech, we have correctly predicted 73.2% out of it.</li> \n",
        "    <li><b>F1 Score</b> considers both precision and recall. It is the harmonic mean (average) of the Precision and Recall. F1 Score is best if there is some sort of balance between Precision  and Recall in the system as above. The F1 Score for this model is 72% which is a reasonable value.</li>\n",
        "</ul>\n",
        "\n",
        "<br>The reason to the increment of FPs over FNs is that this data set consists of more number of \"YES\" labeled data than \"NO\" labeled data. According to the confusion matrix there are 134 errors (FP+FN). Those errors can be retrieved using the below function named <b>get_errors(test_X, test_y, predicted_y).</p>"
      ]
    },
    {
      "cell_type": "code",
      "metadata": {
        "id": "Oo3oqRyd9ECs",
        "outputId": "f25c3257-da3c-4c70-fc0d-0863804c97bd",
        "tags": [
          "outputPrepend"
        ]
      },
      "source": [
        "get_errors(test_X=test_X_full, test_y=test_y_full, predicted_y=predicted_y_full_tfidf)"
      ],
      "execution_count": 99,
      "outputs": [
        {
          "output_type": "stream",
          "name": "stdout",
          "text": [
            "yi\nActual Label: YES\nPredicted Label: NO\n\n\n3\nSentence: Badagini wela harak relata wal miti 225 kapala gihin dahalla atakota oya enaganna eka nawttaganiivi\nActual Label: YES\nPredicted Label: NO\n\n\n4\nSentence: අපි ඉල්ල වෙනස මල සින්දුකාරයි ඔබ අවධාන පිණිස\nActual Label: YES\nPredicted Label: NO\n\n\n5\nSentence: දහ කතිකාවත අැතිව්නෙ කල පස්සෙ සිංහ අපි දහමෙ ඈ කරා මෙි හොර නඩෙි වාසියිනෙ එ්ක මෙි බ ක හර මොර දේන්නෙ\nActual Label: YES\nPredicted Label: NO\n\n\n6\nSentence: මෙ හිත ඉ මේ කර ලන්කා කි කාර්දේෂ වෙ වෙන්නැ අරු එක හරිය කුණුහරුප රැප න\nActual Label: YES\nPredicted Label: NO\n\n\n7\nSentence: Lankawe wage political majarayo innakam police quality eka wadi karanna baha\nActual Label: YES\nPredicted Label: NO\n\n\n8\nSentence: 4 simawata giya eka hatharak reka genimata noheki unaa\nActual Label: YES\nPredicted Label: NO\n\n\n9\nSentence: Mewa gobba weda ban desapalanayata kade yama saha athata atha dimai kiyanne dekak anika desapalakayata wirodaya panne thawa ekekta kade yanagaman newe\nActual Label: YES\nPredicted Label: NO\n\n\n10\nSentence: Mewa දාගෙන baik peddehekida ban හඳට යන්න වගේ nala පිරිසිදුව hitapallako oya මොකවත් kahanne ne\nActual Label: YES\nPredicted Label: NO\n\n\n11\nSentence: රටෙ දේ විකුනං ක උ කඩෙ ය ර හැග නැ උ තව ඉන් කිය පෙන්නු ස්තූති දැ අප අායෙ ෆ ර වයිෆ ලැබෙ නේ\nActual Label: YES\nPredicted Label: NO\n\n\n12\nSentence: ම තම වෙල කර තියෙ හොද ද අපි තෝර දෙන්න අගමැ කිය ර කා පො රන කොහොම ආ\nActual Label: YES\nPredicted Label: NO\n\n\n13\nSentence: Thattayaa mokek daa uuu karikii karikii innee pissek wagee udauu karannee nathywaa mona pissek daa mandaa\nActual Label: YES\nPredicted Label: NO\n\n\n14\nSentence: විමල් ආදරණ සිරිසේ අ රා රි නට පිස්ස නිවැරදි සදහන්කර රා ර පුරා ඔබ නැවුම් තබ ව යාඝ පෙත්ත දිනාග\nActual Label: YES\nPredicted Label: NO\n\n\n15\nSentence: Lankawe un kapu beepu ewa ethanama rena unt a mewa hariyaida\nActual Label: YES\nPredicted Label: NO\n\n\n16\nSentence: patta Try eka SI kenekds koheda kohoma hari Tackle kara\nActual Label: YES\nPredicted Label: NO\n\n\n17\nSentence: තම්බිය සි0හල ගහද්දි නික හිටි\nActual Label: YES\nPredicted Label: NO\n\n\n18\nSentence: ම ග ඇ වැඩ නැ උන ඉඩ හිට වැදග දෙවලු නොකිය ව නෙවෙ\nActual Label: YES\nPredicted Label: NO\n\n\n19\nSentence: හෙ ඉද අයි අයි සැලැන්ඩර මල්ලි\nActual Label: YES\nPredicted Label: NO\n\n\n20\nSentence: Oyage thawakalika sathuta uparima winda ganna okata windawanna weddi daraganna bari wei\nActual Label: YES\nPredicted Label: NO\n\n\n21\nSentence: Vedio ekak karanna epa meka me widihata lassanai mn hoya hoya htye meka vedio ekak karala sinduwa knna epa plzzz\nActual Label: NO\nPredicted Label: YES\n\n\n22\nSentence: වැරැද් දූශිත දේශපාලක ආරාධ කර එ ඇත්ත ඉතිහාස කොහේ විදි විරෝධත්ව පෙන්න නැත්ත සදාචාර සමාජ ගැලපෙ නැතිනිස වයස මුහුකුර යනවැ කිය දැක් තැ හොර අල්ලගෙ තඩිබා එ නෙවෙ කලාකාරය තමන් නිර්මාණ තු විරෝධත්ව පෙන්නන ව දේශපාලකයන් අනුග රහ තියෙ සම්මා උලෙළ ප රතික්ෂේප කරන දිය සමාජ පෙනෙ රස්තියාද ගත දේශපාලන මට්ට අනුර මහින්ද අතර\nActual Label: YES\nPredicted Label: NO\n\n\n23\nSentence: ලංක මිනිස්ස වෙනස බ උද කර උ දෙන ප ඵ අත්වේවි පිනෙන් සියලුරෝගී සුවපත්වේවි\nActual Label: NO\nPredicted Label: YES\n\n\n24\nSentence: Yadamin benda vilangu la Mage putha regena yanna Idikatu weni engili thala Dethis wadaya pamunuwanna Aluth lowak gena sithima Danduwam dena warada nam Kumata erata adhikaranaya Neethiya saha vinisuran\nActual Label: YES\nPredicted Label: NO\n\n\n25\nSentence: වෙනස සැප පේනවන මෙි රටෙි නිත බල්ල ගිහ\nActual Label: YES\nPredicted Label: NO\n\n\n26\nSentence: ක රිකට ගහ ඉවරන ගෙදර වෙ ඉද බ බෙරි නොකර\nActual Label: YES\nPredicted Label: NO\n\n\n27\nSentence: 1 දේයියෝ කියලා පක්කු නැ 2 දේයකට කැපවිමේන් හිටියොත් කවදාහරි එ දේ Achieve කරගන්න පුලුවන් 3 පන්සල් පල්ලි කොවිල් ගානේ ගියාට ඇති වැඩක් නැ\nActual Label: YES\nPredicted Label: NO\n\n\n28\nSentence: දැ බැ බැ මේ පෝස්ට දැම් මේ පිලිවෙල මහින්ද කාල සිද්ධ උ ඒ අසංවේද උ මෝඩ උද්ධච්ඡ මිනිස්සුන් ඡන් ව පිහිට ලැබු වෙනස තියෙන්\nActual Label: YES\nPredicted Label: NO\n\n\n29\nSentence: 2015 පැරදිලා ගෙදර ගිය දවසෙ ඇයි සර් ගහල හරි ගත්තෙ නැත්තෙ කියල අහපු නූගත් මිනිස්සුන්ට ඔහු හා ඔහුගේ කසිප්පුකාර එතනෝල්කාර රැල වීරයින් වෙන්න පුඵළුන් ඒත් මේ රටේ ශිෂ්ට සම්පන්න මිනිසුනට තව දුරටත් ඔහු වීරයෙක් නෙමේ ගුඩ් බායි මහින්ද\nActual Label: YES\nPredicted Label: NO\n\n\n30\nSentence: තිය අ දෙන වැඩි අසර අ ඉන්න එ අයටන දෙ ඔි\nActual Label: YES\nPredicted Label: NO\n\n\n31\nSentence: පාර්ලිමේන්ත විසුර හැරි පියාසර කිරි උත්සාහ කර සමනළ ශිුලං පොලිස වලක අවස්ථා\nActual Label: YES\nPredicted Label: NO\n\n\n32\nSentence: බැ හදාග කිය ව වහග උ විනාඩි නිශ්ශබ්දතා\nActual Label: NO\nPredicted Label: YES\n\n\n33\nSentence: KISI PRASNAYA NAHE APE RATE SALLI THIYENAWA KABASINIYA KARANNA THAWA ONE THARAM\nActual Label: YES\nPredicted Label: NO\n\n\n34\nSentence: ආඩම්බර වෙල්ලස්ස කිව් ජාති වීර කිව් උ ඉ තැන ඉද අපි හෙ ගහ කියන ඇ හුඟා අ දකි නැත ඇ ගාන නැත ඇ\nActual Label: NO\nPredicted Label: YES\n\n\n35\nSentence: පොලිස්සි එව බද කිගදිවි පුහු ක එ සුද මහත්ත ස්තු\nActual Label: YES\nPredicted Label: NO\n\n\n36\nSentence: filty kiyanne mokekda guu punchekne mekath u wagema ui ara wili lajja nathi kaalakanni ganui ekathuwela karapu marketing ekak amana wadak ithing tharuuna paramparawai podi eunwai wanasanna hondai hiiiiiiiiiiiiii thiyaganin kotte yata laksha dahaya\nActual Label: YES\nPredicted Label: NO\n\n\n37\nSentence: ප සිද්දවෙ සිංහල කත කර ඉංග රීසි කත කර මෙයාල කතා අහ ඉ ලැජ්ජ\nActual Label: YES\nPredicted Label: NO\n\n\n38\nSentence: රට තර දේ තියන මාධ මිනුසුන් දැන කර වැඩ නැ අසභ විදිහ සමාජ සාරධර් කෙලස ගණිකා ජනප රියත්ව ලබ නොද ඔබ මාධ ප රයොජන දෙ යොදව\nActual Label: YES\nPredicted Label: NO\n\n\n39\nSentence: munva melokayata jataka karpu demaupiyange veradda putha\nActual Label: YES\nPredicted Label: NO\n\n\n40\nSentence: වැරැද් ක දඩ ගහ\nActual Label: NO\nPredicted Label: YES\n\n\n41\nSentence: ක දරුවො බ ම ගෑ ඉස්සරහ මිනිහ කිය සමනලයෙක්ල ගෑනි ඉන් ග ව ව\nActual Label: YES\nPredicted Label: NO\n\n\n42\nSentence: මැච දිනන්නැත්ත ගහ උන් බැරික පාල මණ්ඩල මො හිටි ලක විකට ග පුලු එ ගන් බැරි එ\nActual Label: NO\nPredicted Label: YES\n\n\n43\nSentence: මේ වෙනස නොවෙ පාතාල දේශපාලු නිර්මාණ කර ඇරෙ රට සාධාරණ සමාජ බි කිර උ උවමනා නැ කාලකන් ජාති\nActual Label: NO\nPredicted Label: YES\n\n\n44\nSentence: And kohoma hari karanawanam onna niyama wadak\nActual Label: YES\nPredicted Label: NO\n\n\n45\nSentence: මො කමෙන්ට කරන්න කිය හිත හිත බැරි තැ අතඇර දැම්ම\nActual Label: YES\nPredicted Label: NO\n\n\n46\nSentence: Mita goda kelakata kalin ada me una de NM perera mahaththya deka ahuwalu pissek Janadhipathi unoth mokada karanne kiyala E e wiwasthawa dekala\nActual Label: YES\nPredicted Label: NO\n\n\n47\nSentence: උ හම්බන්තො පාරෙ පාසල වෙලා පුංචි දරුව ය පාසල නැත ල විකුනන\nActual Label: YES\nPredicted Label: NO\n\n\n48\nSentence: ලංක ඉංජිනේරු ගණකාධිකාරීවර කළමණාකරු වෛද යවර ලො ජයගත්ත උ සියල ආදර පා රවන්න දෙමවුපි සි සතුට කරන්න ව අතර ස්වෝත්සහ නැගීසිටින්න රණවිරු නිර්මාණකරු දෙමාපි ලජ්ජ ඇතිකරව සුල නීච අධ පාහර කාලකන් ව වදි තැන වැද\nActual Label: YES\nPredicted Label: NO\n\n\n49\nSentence: පිස්සු හුත්තිලා මුන් වගේ උන් නිසා හොඳ කෙල්ලන්වත් දූෂණය කරන්න නාකි ඉතිං දුවනවා කියපන්කෝ මේ මෙයාව sponsor කරන්න එතකොට තව ඔයිට වඩා නාකි උන්ටත් ඔහොම බදාගෙන ඉන්න පුළුවන් අනේ පව් Sponsor කරලා විතරයිනෙ අනෙ අම්මේ උඹල වගේ උනුත් පලයල්ලකො පාර්ලිමේන්තුවට\nActual Label: YES\nPredicted Label: NO\n\n\n50\nSentence: Oita wada hinsa appa rata wanawa podi daruwo antha karanawa apra karayo koha baluwah ma gani matharamma sundara wasthuwakda balla giya ratak apa buddha cjiwaraya gana harima dukai\nActual Label: YES\nPredicted Label: NO\n\n\n51\nSentence: mudukku wala heduna awn thama me widiyata hesirenne kisima wili lejjawak nethi wesaganan wahinakota hena gahanna one munta lankawa winasa karanawata\nActual Label: NO\nPredicted Label: YES\n\n\n52\nSentence: ලැජ්ජ රට පාලක විධි ගජබි කෙලිනඑකගැ\nActual Label: NO\nPredicted Label: YES\n\n\n53\nSentence: වීඩි හදාගෙ එව් ලී කරගෙ ජනප ර වෙ විදි දු වැඩ දැ සෙට එක දැක්ක අප්පිරි\nActual Label: YES\nPredicted Label: NO\n\n\n54\nSentence: Kiyanna kanagaatui ape lankawe mewage unanam mokakin mokak weida danne ne aa tharamatama gunayahapath kam adui\nActual Label: NO\nPredicted Label: YES\n\n\n55\nSentence: දවල් ෆිල්ම් වගයක් බාගෙන ගියා data package එකම ඉවරවෙලා දැන් හිටපන්කො ඉතින් පකයා වගේ මාසෙ ඉවරවෙනකල්\nActual Label: YES\nPredicted Label: NO\n\n\n56\nSentence: අපේ සල්ලි නාස්ති කරන්නේ මේ පර බල්ලෝ ලක්ෂ 45 ක් විතර යනවා එක වාරෙකට රැස් වෙන්න\nActual Label: YES\nPredicted Label: NO\n\n\n57\nSentence: අප පු ආඩම්බර තාත්ත දරු ගුරුවර ගෝලයි කොන්දොස්තර මගී දේශපාලක ඡන් දායක සිංහල මුස්ලි අ නොවෙ ගෙදර ඉ බල් පු ආඩම්බරක පෙන්ව ඉන් අප නොදිය භාව ඇ වෙ තියෙ\nActual Label: NO\nPredicted Label: YES\n\n\n58\nSentence: උන්ගේ ෆයිල් ඇද්දාම 77 88 89 94 කාලේ බඩ යයි ඕකුට ඒ නිසා අරුන්ගේ ෆයිල් අදින්නෙත් නෑ ගොබ්බ මිනිස්සු අන්ද අන්ද ඉන්නවා\nActual Label: NO\nPredicted Label: YES\n\n\n59\nSentence: Ara Police lokkath rugby gahapu ekek mama hithanne\nActual Label: YES\nPredicted Label: NO\n\n\n60\nSentence: මෙ දකි වාර ම නෙතට කදුල උන ම පුත ට මේවැනි හැගි ඇ න කිය ප සෙනෙහස සෙව් ඔවුන් අනගත සරිකරල දුර රට ගෙව කටු ජිවිත\nActual Label: YES\nPredicted Label: NO\n\n\n61\nSentence: muth kata arinne anik unta witharai jathiyata agamata sadda na endiyawata koti ganan denawa ahinsakayant ape rate unta mukuth na\nActual Label: YES\nPredicted Label: NO\n\n\n62\nSentence: තට්ට ගාගෙ ෆුල ශේ කර හ මාම හිටපන්ක පක නොව\nActual Label: YES\nPredicted Label: NO\n\n\n63\nSentence: ඇද ඇදග ය අපි ලැජ ම ව නිල ඒ\nActual Label: YES\nPredicted Label: NO\n\n\n64\nSentence: ක රිකට ට එ උ කිය තියෙ එ දෙ තිරිසං වේසබල්ල ඉ ර උඹ ක රිකට ගහ බං වෙනරට ගිහ පදිංචි වෙ ආතල එ ඉඳ\nActual Label: YES\nPredicted Label: NO\n\n\n65\nSentence: ඇබ්බැහිව සුලු ප රවේශ රසවිඳි\nActual Label: NO\nPredicted Label: YES\n\n\n66\nSentence: හොද වැඩ ප දේශපාල පක ද ආරාද කර හො මේ හො වැඩ\nActual Label: YES\nPredicted Label: NO\n\n\n67\nSentence: Lankawe inna samahara pirimi napunsakayo ara manussayata wahane dora arala dennawat kenek enne ne mun pirimida ane e manussaya veerayek attatama\nActual Label: YES\nPredicted Label: NO\n\n\n68\nSentence: Amu wesiyak\nActual Label: YES\nPredicted Label: NO\n\n\n69\nSentence: balamu mekawath hariyata thiya ganida kiyala badulle train eke toilat eken eleyata patta chu gadai\nActual Label: YES\nPredicted Label: NO\n\n\n70\nSentence: බල මිනිස්ස අප ද දක්ව ගෞර ඒ අප කල සුද්ද ත\nActual Label: YES\nPredicted Label: NO\n\n\n71\nSentence: Okama matath wela thiyenawa amma kenekuta sheet ekak aran denna gihin Wadak naha lankawe inne fb weerayo tikak Haba lokedi unge jeevithath kunu godawal\nActual Label: NO\nPredicted Label: YES\n\n\n72\nSentence: මුන්ට අම්ම තාත්ත කිය ජාති හිටි න ඉ ඇත්ත අම්ම තාත්ත වෙ ම කොහ පිටකොටු කොහ මුඩුක්කු හො ගත්ත එව ටි වෙ ඕන ලැජ්ජා තිය මිනිහෙක් පුලු දේ බල ඉ මේක මො කුනුහරුප වැඩ\nActual Label: YES\nPredicted Label: NO\n\n\n73\nSentence: ම මෙ කව් ද උත්සව දේශපාල ම හර එ ඔන ම මිනිස්ස පේ ර ක\nActual Label: YES\nPredicted Label: NO\n\n\n74\nSentence: Ol ලියලා පස් වෙලා තව අවුරුදු දෙකක් AL කරලා විබාගෙ චොර කරගෙන කාලකන්නි වෙනවට වඩා හොදයි එක පාරින්ම ol ෆේල් වෙලා ඒ අවුරුදු දෙක කොස් එකක් වත් කරලා ගොඩයන එක ol ලියන ඔක්කොම උන් ෆේල් වෙයන් උන් ජීවිතෙ හදාගන්නවා වැරදුන හින්දා\nActual Label: YES\nPredicted Label: NO\n\n\n75\nSentence: මූ ශුවර් Rugby player කෙනෙක් හරියටම බෝල් එක අරන් යන විදියටම මු අනික් Players ලව මග අැරල රින්ගල අැවිත් ලකුණ ගත්ත වගේ සීන් එකක් ඒක\nActual Label: YES\nPredicted Label: NO\n\n\n76\nSentence: ඉරාජ් උඹට views ගන්නම ඕනේ නම් උබේ අම්මා එක්ක යහන්ගතවෙලා ඒකේ වීඩියෝ එක noize tv එකට දාපන් youtube channel එකක් promote කරන්න ඕන නිසා කුණු මාකට් කරන්න එපා මිනිහෝ Podda කරපු සමාජේ vlogs RapCity වගේ programme නම් හොඳයි මේ වගේ news නම් අප්පිරියයි\nActual Label: YES\nPredicted Label: NO\n\n\n77\nSentence: Monna Hutthakda oi me Lassana sindu mun epa karawanawa thmanta kiyala sinduwak karaganna barinam nikan innawako me wage hoda sindu kanne nathuwa Liyatabara sinduwatath mekkami Kare mu\nActual Label: YES\nPredicted Label: NO\n\n\n78\nSentence: Kauru mona widiyata dakkath meka ahagena innakota me palida sinhalada kiyala hithen na hithata pudumakara sahalluwak danenawa aththatama\nActual Label: NO\nPredicted Label: YES\n\n\n79\nSentence: Maruna data pansakule denna sagaruwanata aradana karnna puluwanda raddak adagena\nActual Label: NO\nPredicted Label: YES\n\n\n80\nSentence: අනේ මුන්ගෙ බොරු මාර්කටින් වලට අහු වෙන ගොබ්බයො සෙට් එහෙකුත් ඉන්නවනේ එනිවේ Iraj අයියා Buggatiයක් වත් බස්සයි ලගදිම\nActual Label: YES\nPredicted Label: NO\n\n\n81\nSentence: අතුර තහන නියෝග නඩ විභාග කර ලබ දෙ තීන්දු ඔබ හ හතර නොද දර කි දෙ\nActual Label: YES\nPredicted Label: NO\n\n\n82\nSentence: කමන්ට එ කිය කියල ද දෙ කිය ලංකා කිය සංස්කෘති උත රට වෙස ග මිනිස්ස ඉ එ පුදුම දු කරදර ආ නම්බ රැකග මව්වර පියවර ජී වෙච්ච සමාජ මුදල අලෙවි මහ පහ ජාති ගෑණ කොටස ඒ පස්ස ය පිරි කොටස රට කතාබහ ලක්වෙ දේ දහස ගණ තියෙ පහ දේ ට රෙන්ඩ කර මාධ කොටස බ ලංකා මෙහ එ එන්න විනාශ වෙ අප දරු හද අනාගත ටි හිත බ\nActual Label: YES\nPredicted Label: NO\n\n\n83\nSentence: මනුස්ස සියදිවි නසාගත්ත ඒ බැන පෝස ට දා අහින්ස පොඩි ලම ටික පදක්ක ටි දැක්ක ඒ බල ඉ බැර ලමයි සියදිවි නසාග හිතෙ තර කැත විදි පෝස්ට හද දා ලයික්ස හිගාක කාලකන් පේජ ඇඩ්මින් අල්ල කොහෙටහරි ගිහ දානක ලංකා හද වෙ\nActual Label: YES\nPredicted Label: NO\n\n\n84\nSentence: මේක fill T ගේ අලුත් විඩියෝ එකේ සීන් එක නිකන් ඉරාජ් ගේ මනමාලි විඩියෝ එක එන්න කලීන් දාපූ සීන් එක වගේ මොනවා උනත් සූපා Good luck iraj and fill T\nActual Label: YES\nPredicted Label: NO\n\n\n85\nSentence: Okkoma dunna mudal yodawala niwasak nithi ahinsakayeakuta dunnanam hari neada Rs 100 ada monawada karanna puluwan meawanam vikara moda wada\nActual Label: YES\nPredicted Label: NO\n\n\n86\nSentence: නොතිබුණු ප් රශ්නයක් ඇති කර රටෙහි උත්තරීතර ආයතනය ගිනි මඩුවක් කල පුද්ගලයා අද TV එකෙන් මෙවා බලමින් සතුටු වෙනවා ඇති\nActual Label: YES\nPredicted Label: NO\n\n\n87\nSentence: කල දවස කිව මතක අලු වැඩ හම්බ කිය ඒ තම ම රගපෑ ඉරාජ් පට් මාකට\nActual Label: YES\nPredicted Label: NO\n\n\n88\nSentence: Un denatawath nathi prashnane meke comment karanna apu unta thiyenne\nActual Label: YES\nPredicted Label: NO\n\n\n89\nSentence: හසි ගිහ දීල ගෙඩි ව සයිස එ\nActual Label: YES\nPredicted Label: NO\n\n\n90\nSentence: අප බුකිපා මහත මග පෙන්ව ව ර විදේශ යෝජන සුද වියාපාර කර\nActual Label: YES\nPredicted Label: NO\n\n\n91\nSentence: කැ ත අර ග ඉස්සරහ ගිහ හෙ වලියක්ල දැ\nActual Label: NO\nPredicted Label: YES\n\n\n92\nSentence: Oya hiru kiyana ponna chenal eka thama mukuth danne nethuwa ohe harak wage kiyaeanne\nActual Label: NO\nPredicted Label: YES\n\n\n93\nSentence: ankawe kalakanni ekka oka adugane awruddakwat oya widiyatama thibboth hodai\nActual Label: YES\nPredicted Label: NO\n\n\n94\nSentence: සුද කොඩ ග ගා එල්ල ඉ දෙ අත සුද සින්දු ගහ ඕ බැ\nActual Label: NO\nPredicted Label: YES\n\n\n95\nSentence: Aknali goda maruna aka gana api sathutu wenawa\nActual Label: YES\nPredicted Label: NO\n\n\n96\nSentence: Mona pakaya hada kauwada danne Na ath me rata nidahas kara gaththa me wage minihek gen athal ganna apa\nActual Label: YES\nPredicted Label: NO\n\n\n97\nSentence: එඩිට පිස්ස\nActual Label: NO\nPredicted Label: YES\n\n\n98\nSentence: u hangila inne samajayata muna denna bari hinnda\nActual Label: NO\nPredicted Label: YES\n\n\n99\nSentence: ති එනකො රත ඉන්ද කාර එ එ\nActual Label: NO\nPredicted Label: YES\n\n\n100\nSentence: ජන්ද කාලෙ හොදයින දැ ඉදල මිනිස්ස අං තට්ට දුන්නා\nActual Label: YES\nPredicted Label: NO\n\n\n101\nSentence: උන හිරුස්ටාර එ මේයා පජාත වෙන සිංද කිය එ කරගෙ ඉ කියහ විනිශ මණ්ඩල ට ඇවි වච පටල ගො කත නොකි බලන්බ අප්පිරි\nActual Label: NO\nPredicted Label: YES\n\n\n102\nSentence: මේකප ගිය ඔක යක් බොලව\nActual Label: YES\nPredicted Label: NO\n\n\n103\nSentence: ලංකා ඉන්දිය කොලනි රට නැති කොහොම ඉන්දිය බයි ඇ\nActual Label: YES\nPredicted Label: NO\n\n\n104\nSentence: Oshadhi adui Hama gahapu issek wage\nActual Label: YES\nPredicted Label: NO\n\n\n105\nSentence: පොලිස්ස තාම කැ හැලි තරැ කොල්ලො ජීවිත වන්දි ගෙව වෙ නා පප්ප බුලත්විට කාගෙ අඩි දහ ද ග බැරි\nActual Label: YES\nPredicted Label: NO\n\n\n106\nSentence: පට්ට බඩු මේව පාරෙ යද්දි ගල් ගහන්න ඕන වැරදි කරල කොච්චර හංගන්න හැදුවත් බෑ ගොන් වේසියේ උඹලගෙ ජීවිත වලට උඹල respect කරන් නැත්නම් වැරදි ලෝකෙන් හංගල අනිත් මිනිස්සුන්ගෙ ගෞරවය දිනා ගන්න උඹලට බෑ\nActual Label: YES\nPredicted Label: NO\n\n\n107\nSentence: gothrika ratakata me wage dewal dunnata reka ganne ne kiyala sure\nActual Label: YES\nPredicted Label: NO\n\n\n108\nSentence: Parliment eka විසුරුවා janathawatama oka bara dunna eka hodai mokada parliment eke inna horu relamani thoranne eka e minissunta nodee ජනමතයට ida dunna eka hodai kiyala hithnawa\nActual Label: YES\nPredicted Label: NO\n\n\n109\nSentence: Tigae miha marapuuna hiyanna amruwak na katin kiyapu wacanata uda painawa ubda kada hari dittadamna wadaniya karumae padisan danawamai budu ciwarayanata nigaru kirimata\nActual Label: YES\nPredicted Label: NO\n\n\n110\nSentence: Meya den siyatha ne inne\nActual Label: NO\nPredicted Label: YES\n\n\n111\nSentence: ලංකාවෙි දේශපාලනය හැම වැඩකටම සමිබන්ධ කර ගන්න හොද නෑ ප් රවීන කලාකාරයෙක් අතින් ඔය සමිමානය දුන්නනමි වටිනව කොහොම උනත් ලංකාවෙි දෙශපාලකයින් ගැන කල කිරී සිටින අවධියක පාර්ලිමෙින්තුවෙි සිටින 225 ජනතාව විසින් ඔය විදිහට ප් රතික් ේෂ්ප කරානමි හොදයි\nActual Label: YES\nPredicted Label: NO\n\n\n112\nSentence: සරාග ගැහැන නිද සියල පිරි කැමත දීග ය ගෞරව රැකග ගැහැන පමනය\nActual Label: YES\nPredicted Label: NO\n\n\n113\nSentence: මේ Dialog උන්ට හෙනගහනවා බං උදේ 99ක් දැම්ම ඒක දවල් වෙද්දි ඉවරයි හවස දැම්මා 4ට විතර 49ක් ඒකත් දැන් ඉවරයි කරපු රෙද්දකුත් නෑ SM විතරයි හිටියෙ\nActual Label: YES\nPredicted Label: NO\n\n\n114\nSentence: Mahinda 2015 di me damiyawa genapu eken therum ganna godak dewal thiyanawa Mahinda hithana inne rate minissu okkama amu gonnu kiyala\nActual Label: YES\nPredicted Label: NO\n\n\n115\nSentence: Yko meka magulkda pita rata wthe ohoma na ape lankawe minisu godake wenase\nActual Label: YES\nPredicted Label: NO\n\n\n116\nSentence: Ape rate enne doctors lata gahala maranna hadana campus lamaei ne ethin Ape rata ta mehema wasanawak kohen da\nActual Label: YES\nPredicted Label: NO\n\n\n117\nSentence: සීරියස දෙ කිව්ව ජෝ ග ජෝ එ කිව්ව සීරියස ග මානසි පක් මා අන්ෆොල කර ක බ්ලො කරල ද\nActual Label: YES\nPredicted Label: NO\n\n\n118\nSentence: වැඩේනම් හොඳයි මොකද මේ අපි පත් කරපු ජනපති නෙවෙයි ඒත් රනිල් 2015 දි 42ක් ආසන තියාගෙන අගමැති කරද්දි ජන්ද කල් දාද්දි 58ක් ඉන්න SLFP ekata විපක්ෂ නායකකම නොදී 16 ක් ඉන්න TNA එකට විපක්ෂ නායකකම දෙද්දි මෙතුමගෙ කොන්ද කොහෙද දන්නෙ නෑ තිබුණෙ\nActual Label: YES\nPredicted Label: NO\n\n\n119\nSentence: Ara miniha oxygen nethuwa merenne\nActual Label: YES\nPredicted Label: NO\n\n\n120\nSentence: ඔය කාරනය හරියට විග් රහ කරන්න ඩුප්ලිකේට් මහමෙව්නාවේ ඩුප්ලිකේට් කල් යාණ මිතුරන්ට පුලුවන් නම් දිව් ය ලෝක promote කරයි ද\nActual Label: YES\nPredicted Label: NO\n\n\n121\nSentence: ග ඇන්ප කාරයි රෙවෙ දැ නිය ජ මත එලි එ ඒ තමයිවෙ පාර්ලිමේන්ත සල්ලි මල වල ඔලුගෙඩි එහෙමෙහ කර ග ප රජාතන් රවාද නිය ජනත තින්ද දැ බලාග පුලුව්\nActual Label: YES\nPredicted Label: NO\n\n\n122\nSentence: kuhaka jathiyata kawadawath hoda de denna ba un wenasa karala danawa owa\nActual Label: YES\nPredicted Label: NO\n\n\n123\nSentence: Api udara rataka sheshta ithihasayak athi namuth dan harak ralakin palanaya wana kala kanni jathiyak wemu nathida mekata wisadumak ek wanta apita singha la rataka Buddagama rakena eth anith jathin raka gena sri lankan tamil sri lankan muslim wela loketa shakthimath jathiyak lesain naya nathi heta ipadena Daruwan wenuwen wath Enna nagitinna sihalune pera lesin elawamu munwa rathu kola nil paseka la raka gamu mau bima\nActual Label: YES\nPredicted Label: NO\n\n\n124\nSentence: Ape rata hada ganada beri sakkili tikk innawa ow ow ubalata kiyanne Ubala nisa me 1k nemei 1000k genawath me rata hadanda ba\nActual Label: YES\nPredicted Label: NO\n\n\n125\nSentence: ඒ ලස්සන සින්දුවට කාලකන්නි Video එකක් ගහලා ඒක කන්න නං එපා\nActual Label: YES\nPredicted Label: NO\n\n\n126\nSentence: Meki lankawe janadi pathinitakda budu dahama winasa karana hethiriyak ne\nActual Label: YES\nPredicted Label: NO\n\n\n127\nSentence: දේශපාල මත මො උන තම හි සම්මාන දක්ෂතාවයට ලැබෙ ඒ දෙ මොකා කිය බල නිහතමානීක නැ ගොබ්බ කලාකාර ම අනාගත තියෙයි නෙදකිං\nActual Label: YES\nPredicted Label: NO\n\n\n128\nSentence: විවාහයක් කියන්නෙ මොකක්ද කියලවත් දන්නෙ නැති උන් විවාහ උනාම ඔහොම වෙනවා ජනප් රිය වෙන්න ඇට ලේ මස් විකුණනවා නමුත් ආදරයේ හරි අර්ථය හොයන්න ඔච්චර දගලන්නෙ නෑ ලංකාවේ විවාහ උත්සවයක් හෝ engagement එකකින් දෙන්න ඕන ආදර්ශය ඕක නෙමෙයි\nActual Label: YES\nPredicted Label: NO\n\n\n129\nSentence: Hena gahanna oni Rata Kan ewnta\nActual Label: NO\nPredicted Label: YES\n\n\n130\nSentence: උබ ජනාධිප කලෙ කාල උබ දී ටෝ\nActual Label: YES\nPredicted Label: NO\n\n\n131\nSentence: Tope anduwa tiyana an hodai\nActual Label: YES\nPredicted Label: NO\n\n\n132\nSentence: Suddage athe ruger ball ekak thibbanam maru\nActual Label: YES\nPredicted Label: NO\n\n\n133\nSentence: ම ජයරත්න නෑදෑයෙක් කොහෙ\nActual Label: NO\nPredicted Label: YES\n\n\n134\nSentence: අනේ fill t උඹත් හුකාගනින් තොගෙත් පඩ විතරයි බඩු ෆොම් කරන පොන්නයො බලපන් මේ හුත්ති කතාකරන විදිය වැරදි කර කර මුන්ව ලංකාවෙන් පිටුවහල් කරන්න ඕන කවලම් බැල්ලියො\nActual Label: YES\nPredicted Label: NO\n\n\n"
          ]
        }
      ]
    },
    {
      "cell_type": "markdown",
      "metadata": {
        "id": "phq_Z1RR9ECs"
      },
      "source": [
        "<p>Let us find the important and least important words from the model.</p>"
      ]
    },
    {
      "cell_type": "code",
      "metadata": {
        "id": "ZYs8-nvi9ECs"
      },
      "source": [
        "log_reg_coeff_top_full_tfidf, log_reg_coeff_bottom_full_tfidf = find_important_words(\n",
        "                                                                        feature_names=tf_idf_feature_names_full,\n",
        "                                                                        log_reg_model=logistic_regression_model_full_tfidf)"
      ],
      "execution_count": 100,
      "outputs": []
    },
    {
      "cell_type": "code",
      "metadata": {
        "id": "taKtluWg9ECs",
        "outputId": "e36304c5-30b0-410b-80d0-64a6130cccc8"
      },
      "source": [
        "log_reg_coeff_top_full_tfidf"
      ],
      "execution_count": 101,
      "outputs": [
        {
          "output_type": "execute_result",
          "data": {
            "text/plain": [
              "     feature_names  model_coefficient\n",
              "2854            ගහ           2.146696\n",
              "3144         තම්බි           1.926866\n",
              "5206           වේස           1.911559\n",
              "3733           පක්           1.862277\n",
              "2589        කාලකන්           1.762615\n",
              "4372            මර           1.636590\n",
              "4619            යක           1.561566\n",
              "3736         පක්කු           1.560090\n",
              "5588         හුත්ත           1.471276\n",
              "4967            වල           1.419785"
            ],
            "text/html": "<div>\n<style scoped>\n    .dataframe tbody tr th:only-of-type {\n        vertical-align: middle;\n    }\n\n    .dataframe tbody tr th {\n        vertical-align: top;\n    }\n\n    .dataframe thead th {\n        text-align: right;\n    }\n</style>\n<table border=\"1\" class=\"dataframe\">\n  <thead>\n    <tr style=\"text-align: right;\">\n      <th></th>\n      <th>feature_names</th>\n      <th>model_coefficient</th>\n    </tr>\n  </thead>\n  <tbody>\n    <tr>\n      <th>2854</th>\n      <td>ගහ</td>\n      <td>2.146696</td>\n    </tr>\n    <tr>\n      <th>3144</th>\n      <td>තම්බි</td>\n      <td>1.926866</td>\n    </tr>\n    <tr>\n      <th>5206</th>\n      <td>වේස</td>\n      <td>1.911559</td>\n    </tr>\n    <tr>\n      <th>3733</th>\n      <td>පක්</td>\n      <td>1.862277</td>\n    </tr>\n    <tr>\n      <th>2589</th>\n      <td>කාලකන්</td>\n      <td>1.762615</td>\n    </tr>\n    <tr>\n      <th>4372</th>\n      <td>මර</td>\n      <td>1.636590</td>\n    </tr>\n    <tr>\n      <th>4619</th>\n      <td>යක</td>\n      <td>1.561566</td>\n    </tr>\n    <tr>\n      <th>3736</th>\n      <td>පක්කු</td>\n      <td>1.560090</td>\n    </tr>\n    <tr>\n      <th>5588</th>\n      <td>හුත්ත</td>\n      <td>1.471276</td>\n    </tr>\n    <tr>\n      <th>4967</th>\n      <td>වල</td>\n      <td>1.419785</td>\n    </tr>\n  </tbody>\n</table>\n</div>"
          },
          "metadata": {},
          "execution_count": 101
        }
      ]
    },
    {
      "cell_type": "markdown",
      "metadata": {
        "id": "MYx66RWw9ECt"
      },
      "source": [
        "<p>As you can see above tokens have high coefficient values. Thus those are important tokens that has a high influence in hate speech.</p>"
      ]
    },
    {
      "cell_type": "code",
      "metadata": {
        "id": "TYAk9QQL9ECt",
        "outputId": "b85d757d-d4d6-468d-a20d-e7d292ec69a8"
      },
      "source": [
        "log_reg_coeff_bottom_full_tfidf"
      ],
      "execution_count": 102,
      "outputs": [
        {
          "output_type": "execute_result",
          "data": {
            "text/plain": [
              "     feature_names  model_coefficient\n",
              "2132          එකක්          -0.865586\n",
              "3629          නියම          -0.902066\n",
              "483          godak          -0.930559\n",
              "1695            අහ          -0.950679\n",
              "4350        මනුස්ස          -0.967981\n",
              "962           nisa          -0.968734\n",
              "4356            මම          -0.983256\n",
              "4865         ලස්සන          -1.000209\n",
              "556           hoda          -1.298398\n",
              "2269            ඔබ          -1.427348"
            ],
            "text/html": "<div>\n<style scoped>\n    .dataframe tbody tr th:only-of-type {\n        vertical-align: middle;\n    }\n\n    .dataframe tbody tr th {\n        vertical-align: top;\n    }\n\n    .dataframe thead th {\n        text-align: right;\n    }\n</style>\n<table border=\"1\" class=\"dataframe\">\n  <thead>\n    <tr style=\"text-align: right;\">\n      <th></th>\n      <th>feature_names</th>\n      <th>model_coefficient</th>\n    </tr>\n  </thead>\n  <tbody>\n    <tr>\n      <th>2132</th>\n      <td>එකක්</td>\n      <td>-0.865586</td>\n    </tr>\n    <tr>\n      <th>3629</th>\n      <td>නියම</td>\n      <td>-0.902066</td>\n    </tr>\n    <tr>\n      <th>483</th>\n      <td>godak</td>\n      <td>-0.930559</td>\n    </tr>\n    <tr>\n      <th>1695</th>\n      <td>අහ</td>\n      <td>-0.950679</td>\n    </tr>\n    <tr>\n      <th>4350</th>\n      <td>මනුස්ස</td>\n      <td>-0.967981</td>\n    </tr>\n    <tr>\n      <th>962</th>\n      <td>nisa</td>\n      <td>-0.968734</td>\n    </tr>\n    <tr>\n      <th>4356</th>\n      <td>මම</td>\n      <td>-0.983256</td>\n    </tr>\n    <tr>\n      <th>4865</th>\n      <td>ලස්සන</td>\n      <td>-1.000209</td>\n    </tr>\n    <tr>\n      <th>556</th>\n      <td>hoda</td>\n      <td>-1.298398</td>\n    </tr>\n    <tr>\n      <th>2269</th>\n      <td>ඔබ</td>\n      <td>-1.427348</td>\n    </tr>\n  </tbody>\n</table>\n</div>"
          },
          "metadata": {},
          "execution_count": 102
        }
      ]
    },
    {
      "cell_type": "markdown",
      "metadata": {
        "id": "pLSNgUPv9ECu"
      },
      "source": [
        "<p>As you can see above tokens have low coefficient values. Thus those are least important tokens that has a low influence in hate speech.</p>"
      ]
    },
    {
      "cell_type": "markdown",
      "metadata": {
        "id": "ZNvUGtQH9ECu"
      },
      "source": [
        "#### f.2. Using semantic embeddings instead of bag-of-word vectors for word representation to model the data"
      ]
    },
    {
      "cell_type": "markdown",
      "metadata": {
        "id": "BbpzWvo19ECu"
      },
      "source": [
        "<p>Here 2 methods will be considered. The first one is <b>Using word2vec model with tfidf weighted averaged vectorizer</b> and the second method is <b>Using doc2vec</b></p>"
      ]
    },
    {
      "cell_type": "markdown",
      "metadata": {
        "id": "CybrltbI9ECu"
      },
      "source": [
        "#####  Using word2vec model with tfidf weighted averaged vectorizer"
      ]
    },
    {
      "cell_type": "markdown",
      "metadata": {
        "id": "mYvpOI8A9ECu"
      },
      "source": [
        "<p>Package gensim consist the tools to build a word2vec model as follows.</p>"
      ]
    },
    {
      "cell_type": "code",
      "execution_count": 104,
      "metadata": {},
      "outputs": [
        {
          "output_type": "stream",
          "name": "stdout",
          "text": [
            "Collecting gensim\n",
            "  Downloading gensim-4.0.1-cp37-cp37m-win_amd64.whl (23.9 MB)\n",
            "Requirement already satisfied: numpy>=1.11.3 in c:\\users\\kavishka\\anaconda3\\lib\\site-packages (from gensim) (1.19.5)\n",
            "Collecting smart-open>=1.8.1\n",
            "  Downloading smart_open-5.0.0-py3-none-any.whl (56 kB)\n",
            "Requirement already satisfied: scipy>=0.18.1 in c:\\users\\kavishka\\anaconda3\\lib\\site-packages (from gensim) (1.4.1)\n",
            "Collecting Cython==0.29.21\n",
            "  Downloading Cython-0.29.21-cp37-cp37m-win_amd64.whl (1.6 MB)\n",
            "Installing collected packages: smart-open, Cython, gensim\n",
            "  Attempting uninstall: Cython\n",
            "    Found existing installation: Cython 0.29.15\n",
            "    Uninstalling Cython-0.29.15:\n",
            "      Successfully uninstalled Cython-0.29.15\n",
            "Successfully installed Cython-0.29.21 gensim-4.0.1 smart-open-5.0.0\n",
            "Note: you may need to restart the kernel to use updated packages.\n",
            "ERROR: pmdarima 1.8.0 has requirement Cython<0.29.18,>=0.29, but you'll have cython 0.29.21 which is incompatible.\n"
          ]
        }
      ],
      "source": [
        "pip install gensim"
      ]
    },
    {
      "cell_type": "code",
      "execution_count": 106,
      "metadata": {},
      "outputs": [
        {
          "output_type": "stream",
          "name": "stdout",
          "text": [
            "Collecting python-Levenshtein\n  Downloading python-Levenshtein-0.12.2.tar.gz (50 kB)\nRequirement already satisfied: setuptools in c:\\users\\kavishka\\anaconda3\\lib\\site-packages (from python-Levenshtein) (45.2.0.post20200210)\nBuilding wheels for collected packages: python-Levenshtein\n  Building wheel for python-Levenshtein (setup.py): started\n  Building wheel for python-Levenshtein (setup.py): finished with status 'done'\n  Created wheel for python-Levenshtein: filename=python_Levenshtein-0.12.2-cp37-cp37m-win_amd64.whl size=80315 sha256=a36608e25ea3177c0f918cbeb93ed9cbdfde4bc4b94145f2f290f90bc16dd215\n  Stored in directory: c:\\users\\kavishka\\appdata\\local\\pip\\cache\\wheels\\05\\5f\\ca\\7c4367734892581bb5ff896f15027a932c551080b2abd3e00d\nSuccessfully built python-Levenshtein\nInstalling collected packages: python-Levenshtein\nSuccessfully installed python-Levenshtein-0.12.2\nNote: you may need to restart the kernel to use updated packages.\n"
          ]
        }
      ],
      "source": [
        "pip install python-Levenshtein"
      ]
    },
    {
      "cell_type": "code",
      "metadata": {
        "id": "7JpcYa009ECv"
      },
      "source": [
        "import gensim"
      ],
      "execution_count": 108,
      "outputs": []
    },
    {
      "cell_type": "code",
      "metadata": {
        "id": "atiYr4DF9ECv"
      },
      "source": [
        "# The train and test data was converted to list of strings since word2vec requires that\n",
        "train_corpus = [\" \".join(x) for x in train_X_full]\n",
        "test_corpus = [\" \".join(x) for x in test_X_full]  "
      ],
      "execution_count": 109,
      "outputs": []
    },
    {
      "cell_type": "code",
      "metadata": {
        "id": "VB_Flsxv9ECv"
      },
      "source": [
        "# Build word2vec model with the following parameters                  \n",
        "model = gensim.models.Word2Vec(train_corpus,\n",
        "                               vector_size=500,\n",
        "                               window=100,\n",
        "                               min_count=30,\n",
        "                               epochs=10,\n",
        "                               sample=1e-3) "
      ],
      "execution_count": 112,
      "outputs": []
    },
    {
      "cell_type": "markdown",
      "metadata": {
        "id": "vSPM-h3Y9ECv"
      },
      "source": [
        "<p>Let us get the tfidf features for training set as below.</p>"
      ]
    },
    {
      "cell_type": "code",
      "metadata": {
        "id": "ov_gxP5u9ECv"
      },
      "source": [
        "tfidf_vectorizer, tfidf_feature_names, tfidf_vocabulary, tfidf_train_features = get_tfidf_features(\n",
        "                                                                                            data=train_X_full)"
      ],
      "execution_count": 113,
      "outputs": []
    },
    {
      "cell_type": "code",
      "metadata": {
        "id": "fII21EGb9ECw"
      },
      "source": [
        "# Vectorize the test data using the above created tfidf vectorizer\n",
        "tfidf_test_features = tfidf_vectorizer.transform(test_corpus) "
      ],
      "execution_count": 114,
      "outputs": []
    },
    {
      "cell_type": "markdown",
      "metadata": {
        "id": "adLwFLn19ECw"
      },
      "source": [
        "<p>Two special function should be used which is from Lab Session 8 of this course which can be used to find the tfidf weighted average word vectors. Those functions are defined below as <b>tfidf_wtd_avg_word_vectors(words, tfidf_vector, tfidf_vocabulary, model, num_features)</b> and <b>tfidf_weighted_averaged_word_vectorizer(corpus, tfidf_vectors, tfidf_vocabulary, model, num_features)</b></p>"
      ]
    },
    {
      "cell_type": "code",
      "metadata": {
        "id": "juAa44sm9ECw"
      },
      "source": [
        "# Using tfidf weighted average of word vectors in a document              \n",
        "def tfidf_wtd_avg_word_vectors(words, tfidf_vector, tfidf_vocabulary, model, num_features):\n",
        "    \n",
        "    word_tfidfs = [tfidf_vector[0, tfidf_vocabulary.get(word)] \n",
        "                   if tfidf_vocabulary.get(word) \n",
        "                   else 0 for word in words]    \n",
        "    word_tfidf_map = {word:tfidf_val for word, tfidf_val in zip(words, word_tfidfs)}\n",
        "    \n",
        "    feature_vector = np.zeros((num_features,),dtype=\"float64\")\n",
        "    vocabulary = set(model.index_to_key)\n",
        "    wts = 0.\n",
        "    for word in words:\n",
        "        if word in vocabulary: \n",
        "            word_vector = model[word]\n",
        "            weighted_word_vector = word_tfidf_map[word] * word_vector\n",
        "            wts = wts + word_tfidf_map[word]\n",
        "            feature_vector = np.add(feature_vector, weighted_word_vector)\n",
        "    if wts:\n",
        "        feature_vector = np.divide(feature_vector, wts)\n",
        "        \n",
        "    return feature_vector\n",
        "    \n",
        "def tfidf_weighted_averaged_word_vectorizer(corpus, tfidf_vectors, \n",
        "                                   tfidf_vocabulary, model, num_features):\n",
        "                                       \n",
        "    docs_tfidfs = [(doc, doc_tfidf) \n",
        "                   for doc, doc_tfidf \n",
        "                   in zip(corpus, tfidf_vectors)]\n",
        "    features = [tfidf_wtd_avg_word_vectors(tokenized_sentence, tfidf, tfidf_vocabulary,\n",
        "                                   model, num_features)\n",
        "                    for tokenized_sentence, tfidf in docs_tfidfs]\n",
        "    return np.array(features) "
      ],
      "execution_count": 117,
      "outputs": []
    },
    {
      "cell_type": "markdown",
      "metadata": {
        "id": "dqHypIQu9ECw"
      },
      "source": [
        "<p>tfidf weighted averaged word vector features for train and test sets can be obtained as below.</p>"
      ]
    },
    {
      "cell_type": "code",
      "metadata": {
        "id": "YUUpyk7C9ECx"
      },
      "source": [
        "# Obtaining tfidf weighted averaged word vector features\n",
        "tfidf_wv_train_features = tfidf_weighted_averaged_word_vectorizer(corpus=train_X_full, \n",
        "                                                                  tfidf_vectors=tfidf_train_features, \n",
        "                                                                  tfidf_vocabulary=tfidf_vocabulary, \n",
        "                                                                  model=model.wv, \n",
        "                                                                  num_features=500)\n",
        "tfidf_wv_test_features = tfidf_weighted_averaged_word_vectorizer(corpus=test_X_full, \n",
        "                                                                 tfidf_vectors=tfidf_test_features, \n",
        "                                                                 tfidf_vocabulary=tfidf_vocabulary, \n",
        "                                                                 model=model.wv, \n",
        "                                                                 num_features=500)"
      ],
      "execution_count": 118,
      "outputs": []
    },
    {
      "cell_type": "markdown",
      "metadata": {
        "id": "YsXVTLQY9ECx"
      },
      "source": [
        "<p>Let us apply Logistic Regression to the dataset as shown below by passing the tfidf weighted averaged word vector features created previously and the train labels for the dataset.</p>"
      ]
    },
    {
      "cell_type": "code",
      "metadata": {
        "id": "srdxjBmn9ECy",
        "outputId": "464dc49e-4e86-43e5-f4a5-1cdbe72663b7"
      },
      "source": [
        "logistic_regression_model_word2vec = train_logistic_regression_model(features=tfidf_wv_train_features, labels=train_y_full)"
      ],
      "execution_count": 119,
      "outputs": [
        {
          "output_type": "stream",
          "name": "stdout",
          "text": [
            "Training the logistic regression model...\nFinished\n"
          ]
        }
      ]
    },
    {
      "cell_type": "code",
      "metadata": {
        "id": "kI4gbPq49ECz",
        "outputId": "49c56e45-3507-4b8c-c019-dd6195dbf7e5"
      },
      "source": [
        "predicted_y_word2vec = predict_logistic_regression_model(test_X=tfidf_wv_test_features, \n",
        "                                                        test_y=test_y_full, \n",
        "                                                        vectorizer=None, \n",
        "                                                        logistic_regression_model=logistic_regression_model_word2vec)"
      ],
      "execution_count": 120,
      "outputs": [
        {
          "output_type": "stream",
          "name": "stdout",
          "text": [
            "Predictions: \n['NO' 'YES' 'NO' 'NO' 'NO' 'NO' 'NO' 'NO' 'NO' 'NO' 'NO' 'NO' 'NO' 'YES'\n 'NO' 'NO' 'NO' 'NO' 'NO' 'NO' 'NO' 'NO' 'NO' 'NO' 'NO' 'NO' 'NO' 'NO'\n 'NO' 'NO' 'NO' 'NO' 'NO' 'NO' 'YES' 'NO' 'NO' 'NO' 'NO' 'NO' 'NO' 'YES'\n 'NO' 'NO' 'NO' 'NO' 'NO' 'NO' 'NO' 'NO' 'NO' 'NO' 'NO' 'YES' 'NO' 'NO'\n 'NO' 'NO' 'NO' 'NO' 'NO' 'NO' 'YES' 'NO' 'NO' 'NO' 'NO' 'NO' 'YES' 'NO'\n 'NO' 'NO' 'NO' 'NO' 'YES' 'NO' 'YES' 'NO' 'NO' 'NO' 'NO' 'NO' 'NO' 'YES'\n 'NO' 'NO' 'NO' 'NO' 'NO' 'NO' 'NO' 'NO' 'NO' 'NO' 'NO' 'NO' 'YES' 'NO'\n 'NO' 'NO' 'NO' 'NO' 'NO' 'NO' 'NO' 'YES' 'NO' 'YES' 'NO' 'YES' 'NO' 'NO'\n 'NO' 'NO' 'NO' 'NO' 'NO' 'NO' 'NO' 'NO' 'YES' 'NO' 'NO' 'NO' 'NO' 'NO'\n 'NO' 'YES' 'NO' 'YES' 'NO' 'NO' 'NO' 'NO' 'NO' 'NO' 'NO' 'NO' 'NO' 'NO'\n 'NO' 'NO' 'NO' 'NO' 'YES' 'NO' 'NO' 'NO' 'YES' 'NO' 'NO' 'NO' 'NO' 'NO'\n 'NO' 'NO' 'NO' 'NO' 'NO' 'NO' 'NO' 'NO' 'NO' 'NO' 'NO' 'NO' 'NO' 'NO'\n 'NO' 'NO' 'NO' 'YES' 'NO' 'NO' 'NO' 'NO' 'NO' 'NO' 'NO' 'NO' 'NO' 'NO'\n 'NO' 'NO' 'NO' 'NO' 'NO' 'NO' 'YES' 'NO' 'NO' 'NO' 'NO' 'NO' 'NO' 'NO'\n 'NO' 'NO' 'NO' 'NO' 'NO' 'NO' 'NO' 'NO' 'YES' 'NO' 'NO' 'NO' 'NO' 'NO'\n 'NO' 'NO' 'NO' 'NO' 'NO' 'NO' 'NO' 'NO' 'NO' 'YES' 'NO' 'NO' 'NO' 'NO'\n 'NO' 'NO' 'NO' 'NO' 'NO' 'NO' 'NO' 'NO' 'NO' 'YES' 'NO' 'NO' 'NO' 'NO'\n 'NO' 'NO' 'YES' 'NO' 'NO' 'NO' 'NO' 'YES' 'NO' 'NO' 'NO' 'NO' 'NO' 'NO'\n 'NO' 'NO' 'YES' 'NO' 'NO' 'NO' 'NO' 'NO' 'NO' 'NO' 'NO' 'YES' 'NO' 'NO'\n 'NO' 'NO' 'NO' 'NO' 'NO' 'YES' 'NO' 'YES' 'NO' 'NO' 'YES' 'NO' 'NO' 'NO'\n 'NO' 'NO' 'NO' 'YES' 'NO' 'NO' 'YES' 'NO' 'NO' 'NO' 'NO' 'NO' 'NO' 'NO'\n 'NO' 'NO' 'NO' 'NO' 'NO' 'NO' 'NO' 'NO' 'NO' 'NO' 'NO' 'NO' 'NO' 'NO'\n 'NO' 'NO' 'NO' 'NO' 'YES' 'NO' 'NO' 'YES' 'NO' 'NO' 'NO' 'NO' 'NO' 'NO'\n 'NO' 'NO' 'NO' 'NO' 'NO' 'NO' 'NO' 'NO' 'NO' 'NO' 'NO' 'YES' 'NO' 'NO'\n 'YES' 'YES' 'NO' 'NO' 'NO' 'YES' 'NO' 'YES' 'NO' 'NO' 'NO' 'NO' 'NO'\n 'YES' 'NO' 'NO' 'NO' 'NO' 'NO' 'YES' 'NO' 'NO' 'NO' 'NO' 'YES' 'NO' 'NO'\n 'NO' 'YES' 'NO' 'NO' 'NO' 'YES' 'NO' 'NO' 'NO' 'NO' 'NO' 'YES' 'NO' 'NO'\n 'NO' 'NO' 'NO' 'NO' 'NO' 'NO' 'NO' 'NO' 'NO' 'NO' 'NO' 'NO' 'NO' 'NO'\n 'NO' 'NO' 'YES' 'NO' 'NO' 'NO' 'NO' 'NO' 'YES' 'NO' 'NO' 'NO' 'NO' 'NO'\n 'NO' 'NO' 'YES' 'NO' 'NO' 'NO' 'NO' 'NO' 'NO' 'NO' 'NO' 'NO' 'NO' 'NO'\n 'NO' 'NO' 'NO' 'NO' 'NO' 'NO' 'NO' 'NO' 'NO' 'NO' 'YES' 'NO' 'NO' 'NO'\n 'NO' 'NO' 'NO' 'YES' 'NO' 'NO' 'NO' 'NO' 'NO' 'NO' 'YES' 'NO' 'NO' 'NO'\n 'YES' 'NO' 'YES' 'NO' 'NO' 'NO' 'NO' 'NO' 'NO' 'NO' 'YES' 'YES' 'NO' 'NO'\n 'YES' 'NO' 'NO' 'NO' 'NO' 'NO' 'NO' 'NO' 'NO' 'NO' 'NO' 'NO' 'YES' 'NO'\n 'NO' 'NO' 'NO' 'NO' 'NO' 'NO' 'YES' 'NO' 'NO' 'YES' 'NO' 'NO' 'NO' 'NO'\n 'NO' 'NO' 'NO' 'NO' 'NO' 'NO' 'NO' 'NO' 'NO' 'YES' 'NO']\n\n\nAccuracy = 56%\n"
          ]
        }
      ]
    },
    {
      "cell_type": "markdown",
      "metadata": {
        "id": "jVsIMta99EC0"
      },
      "source": [
        "<p>Let us get the confusion matrix and the performance measures for Sinhala dataset.</p>"
      ]
    },
    {
      "cell_type": "code",
      "metadata": {
        "id": "Uu6xep0c9EC0",
        "outputId": "19d032be-de93-4cfb-d7e7-d149f352cd86"
      },
      "source": [
        "get_metrics(true_labels=test_y_full, predicted_labels=predicted_y_word2vec)"
      ],
      "execution_count": 121,
      "outputs": [
        {
          "output_type": "display_data",
          "data": {
            "text/plain": "<Figure size 432x288 with 2 Axes>",
            "image/svg+xml": "<?xml version=\"1.0\" encoding=\"utf-8\" standalone=\"no\"?>\r\n<!DOCTYPE svg PUBLIC \"-//W3C//DTD SVG 1.1//EN\"\r\n  \"http://www.w3.org/Graphics/SVG/1.1/DTD/svg11.dtd\">\r\n<!-- Created with matplotlib (https://matplotlib.org/) -->\r\n<svg height=\"277.314375pt\" version=\"1.1\" viewBox=\"0 0 366.29575 277.314375\" width=\"366.29575pt\" xmlns=\"http://www.w3.org/2000/svg\" xmlns:xlink=\"http://www.w3.org/1999/xlink\">\r\n <defs>\r\n  <style type=\"text/css\">\r\n*{stroke-linecap:butt;stroke-linejoin:round;}\r\n  </style>\r\n </defs>\r\n <g id=\"figure_1\">\r\n  <g id=\"patch_1\">\r\n   <path d=\"M 0 277.314375 \r\nL 366.29575 277.314375 \r\nL 366.29575 0 \r\nL 0 0 \r\nz\r\n\" style=\"fill:none;\"/>\r\n  </g>\r\n  <g id=\"axes_1\">\r\n   <g id=\"patch_2\">\r\n    <path d=\"M 37.55625 239.758125 \r\nL 305.39625 239.758125 \r\nL 305.39625 22.318125 \r\nL 37.55625 22.318125 \r\nz\r\n\" style=\"fill:#ffffff;\"/>\r\n   </g>\r\n   <g id=\"QuadMesh_1\">\r\n    <path clip-path=\"url(#pbc4f33d1a8)\" d=\"M 37.55625 22.318125 \r\nL 171.47625 22.318125 \r\nL 171.47625 131.038125 \r\nL 37.55625 131.038125 \r\nL 37.55625 22.318125 \r\n\" style=\"fill:#faebdd;\"/>\r\n    <path clip-path=\"url(#pbc4f33d1a8)\" d=\"M 171.47625 22.318125 \r\nL 305.39625 22.318125 \r\nL 305.39625 131.038125 \r\nL 171.47625 131.038125 \r\nL 171.47625 22.318125 \r\n\" style=\"fill:#03051a;\"/>\r\n    <path clip-path=\"url(#pbc4f33d1a8)\" d=\"M 37.55625 131.038125 \r\nL 171.47625 131.038125 \r\nL 171.47625 239.758125 \r\nL 37.55625 239.758125 \r\nL 37.55625 131.038125 \r\n\" style=\"fill:#f4835b;\"/>\r\n    <path clip-path=\"url(#pbc4f33d1a8)\" d=\"M 171.47625 131.038125 \r\nL 305.39625 131.038125 \r\nL 305.39625 239.758125 \r\nL 171.47625 239.758125 \r\nL 171.47625 131.038125 \r\n\" style=\"fill:#06071c;\"/>\r\n   </g>\r\n   <g id=\"matplotlib.axis_1\">\r\n    <g id=\"xtick_1\">\r\n     <g id=\"line2d_1\">\r\n      <defs>\r\n       <path d=\"M 0 0 \r\nL 0 3.5 \r\n\" id=\"mc615f4dad4\" style=\"stroke:#000000;stroke-width:0.8;\"/>\r\n      </defs>\r\n      <g>\r\n       <use style=\"stroke:#000000;stroke-width:0.8;\" x=\"104.51625\" xlink:href=\"#mc615f4dad4\" y=\"239.758125\"/>\r\n      </g>\r\n     </g>\r\n     <g id=\"text_1\">\r\n      <!-- YES -->\r\n      <defs>\r\n       <path d=\"M -0.203125 72.90625 \r\nL 10.40625 72.90625 \r\nL 30.609375 42.921875 \r\nL 50.6875 72.90625 \r\nL 61.28125 72.90625 \r\nL 35.5 34.71875 \r\nL 35.5 0 \r\nL 25.59375 0 \r\nL 25.59375 34.71875 \r\nz\r\n\" id=\"DejaVuSans-89\"/>\r\n       <path d=\"M 9.8125 72.90625 \r\nL 55.90625 72.90625 \r\nL 55.90625 64.59375 \r\nL 19.671875 64.59375 \r\nL 19.671875 43.015625 \r\nL 54.390625 43.015625 \r\nL 54.390625 34.71875 \r\nL 19.671875 34.71875 \r\nL 19.671875 8.296875 \r\nL 56.78125 8.296875 \r\nL 56.78125 0 \r\nL 9.8125 0 \r\nz\r\n\" id=\"DejaVuSans-69\"/>\r\n       <path d=\"M 53.515625 70.515625 \r\nL 53.515625 60.890625 \r\nQ 47.90625 63.578125 42.921875 64.890625 \r\nQ 37.9375 66.21875 33.296875 66.21875 \r\nQ 25.25 66.21875 20.875 63.09375 \r\nQ 16.5 59.96875 16.5 54.203125 \r\nQ 16.5 49.359375 19.40625 46.890625 \r\nQ 22.3125 44.4375 30.421875 42.921875 \r\nL 36.375 41.703125 \r\nQ 47.40625 39.59375 52.65625 34.296875 \r\nQ 57.90625 29 57.90625 20.125 \r\nQ 57.90625 9.515625 50.796875 4.046875 \r\nQ 43.703125 -1.421875 29.984375 -1.421875 \r\nQ 24.8125 -1.421875 18.96875 -0.25 \r\nQ 13.140625 0.921875 6.890625 3.21875 \r\nL 6.890625 13.375 \r\nQ 12.890625 10.015625 18.65625 8.296875 \r\nQ 24.421875 6.59375 29.984375 6.59375 \r\nQ 38.421875 6.59375 43.015625 9.90625 \r\nQ 47.609375 13.234375 47.609375 19.390625 \r\nQ 47.609375 24.75 44.3125 27.78125 \r\nQ 41.015625 30.8125 33.5 32.328125 \r\nL 27.484375 33.5 \r\nQ 16.453125 35.6875 11.515625 40.375 \r\nQ 6.59375 45.0625 6.59375 53.421875 \r\nQ 6.59375 63.09375 13.40625 68.65625 \r\nQ 20.21875 74.21875 32.171875 74.21875 \r\nQ 37.3125 74.21875 42.625 73.28125 \r\nQ 47.953125 72.359375 53.515625 70.515625 \r\nz\r\n\" id=\"DejaVuSans-83\"/>\r\n      </defs>\r\n      <g transform=\"translate(95.12875 254.356562)scale(0.1 -0.1)\">\r\n       <use xlink:href=\"#DejaVuSans-89\"/>\r\n       <use x=\"61.083984\" xlink:href=\"#DejaVuSans-69\"/>\r\n       <use x=\"124.267578\" xlink:href=\"#DejaVuSans-83\"/>\r\n      </g>\r\n     </g>\r\n    </g>\r\n    <g id=\"xtick_2\">\r\n     <g id=\"line2d_2\">\r\n      <g>\r\n       <use style=\"stroke:#000000;stroke-width:0.8;\" x=\"238.43625\" xlink:href=\"#mc615f4dad4\" y=\"239.758125\"/>\r\n      </g>\r\n     </g>\r\n     <g id=\"text_2\">\r\n      <!-- NO -->\r\n      <defs>\r\n       <path d=\"M 9.8125 72.90625 \r\nL 23.09375 72.90625 \r\nL 55.421875 11.921875 \r\nL 55.421875 72.90625 \r\nL 64.984375 72.90625 \r\nL 64.984375 0 \r\nL 51.703125 0 \r\nL 19.390625 60.984375 \r\nL 19.390625 0 \r\nL 9.8125 0 \r\nz\r\n\" id=\"DejaVuSans-78\"/>\r\n       <path d=\"M 39.40625 66.21875 \r\nQ 28.65625 66.21875 22.328125 58.203125 \r\nQ 16.015625 50.203125 16.015625 36.375 \r\nQ 16.015625 22.609375 22.328125 14.59375 \r\nQ 28.65625 6.59375 39.40625 6.59375 \r\nQ 50.140625 6.59375 56.421875 14.59375 \r\nQ 62.703125 22.609375 62.703125 36.375 \r\nQ 62.703125 50.203125 56.421875 58.203125 \r\nQ 50.140625 66.21875 39.40625 66.21875 \r\nz\r\nM 39.40625 74.21875 \r\nQ 54.734375 74.21875 63.90625 63.9375 \r\nQ 73.09375 53.65625 73.09375 36.375 \r\nQ 73.09375 19.140625 63.90625 8.859375 \r\nQ 54.734375 -1.421875 39.40625 -1.421875 \r\nQ 24.03125 -1.421875 14.8125 8.828125 \r\nQ 5.609375 19.09375 5.609375 36.375 \r\nQ 5.609375 53.65625 14.8125 63.9375 \r\nQ 24.03125 74.21875 39.40625 74.21875 \r\nz\r\n\" id=\"DejaVuSans-79\"/>\r\n      </defs>\r\n      <g transform=\"translate(230.759688 254.356562)scale(0.1 -0.1)\">\r\n       <use xlink:href=\"#DejaVuSans-78\"/>\r\n       <use x=\"74.804688\" xlink:href=\"#DejaVuSans-79\"/>\r\n      </g>\r\n     </g>\r\n    </g>\r\n    <g id=\"text_3\">\r\n     <!-- Predicted class -->\r\n     <defs>\r\n      <path d=\"M 19.671875 64.796875 \r\nL 19.671875 37.40625 \r\nL 32.078125 37.40625 \r\nQ 38.96875 37.40625 42.71875 40.96875 \r\nQ 46.484375 44.53125 46.484375 51.125 \r\nQ 46.484375 57.671875 42.71875 61.234375 \r\nQ 38.96875 64.796875 32.078125 64.796875 \r\nz\r\nM 9.8125 72.90625 \r\nL 32.078125 72.90625 \r\nQ 44.34375 72.90625 50.609375 67.359375 \r\nQ 56.890625 61.8125 56.890625 51.125 \r\nQ 56.890625 40.328125 50.609375 34.8125 \r\nQ 44.34375 29.296875 32.078125 29.296875 \r\nL 19.671875 29.296875 \r\nL 19.671875 0 \r\nL 9.8125 0 \r\nz\r\n\" id=\"DejaVuSans-80\"/>\r\n      <path d=\"M 41.109375 46.296875 \r\nQ 39.59375 47.171875 37.8125 47.578125 \r\nQ 36.03125 48 33.890625 48 \r\nQ 26.265625 48 22.1875 43.046875 \r\nQ 18.109375 38.09375 18.109375 28.8125 \r\nL 18.109375 0 \r\nL 9.078125 0 \r\nL 9.078125 54.6875 \r\nL 18.109375 54.6875 \r\nL 18.109375 46.1875 \r\nQ 20.953125 51.171875 25.484375 53.578125 \r\nQ 30.03125 56 36.53125 56 \r\nQ 37.453125 56 38.578125 55.875 \r\nQ 39.703125 55.765625 41.0625 55.515625 \r\nz\r\n\" id=\"DejaVuSans-114\"/>\r\n      <path d=\"M 56.203125 29.59375 \r\nL 56.203125 25.203125 \r\nL 14.890625 25.203125 \r\nQ 15.484375 15.921875 20.484375 11.0625 \r\nQ 25.484375 6.203125 34.421875 6.203125 \r\nQ 39.59375 6.203125 44.453125 7.46875 \r\nQ 49.3125 8.734375 54.109375 11.28125 \r\nL 54.109375 2.78125 \r\nQ 49.265625 0.734375 44.1875 -0.34375 \r\nQ 39.109375 -1.421875 33.890625 -1.421875 \r\nQ 20.796875 -1.421875 13.15625 6.1875 \r\nQ 5.515625 13.8125 5.515625 26.8125 \r\nQ 5.515625 40.234375 12.765625 48.109375 \r\nQ 20.015625 56 32.328125 56 \r\nQ 43.359375 56 49.78125 48.890625 \r\nQ 56.203125 41.796875 56.203125 29.59375 \r\nz\r\nM 47.21875 32.234375 \r\nQ 47.125 39.59375 43.09375 43.984375 \r\nQ 39.0625 48.390625 32.421875 48.390625 \r\nQ 24.90625 48.390625 20.390625 44.140625 \r\nQ 15.875 39.890625 15.1875 32.171875 \r\nz\r\n\" id=\"DejaVuSans-101\"/>\r\n      <path d=\"M 45.40625 46.390625 \r\nL 45.40625 75.984375 \r\nL 54.390625 75.984375 \r\nL 54.390625 0 \r\nL 45.40625 0 \r\nL 45.40625 8.203125 \r\nQ 42.578125 3.328125 38.25 0.953125 \r\nQ 33.9375 -1.421875 27.875 -1.421875 \r\nQ 17.96875 -1.421875 11.734375 6.484375 \r\nQ 5.515625 14.40625 5.515625 27.296875 \r\nQ 5.515625 40.1875 11.734375 48.09375 \r\nQ 17.96875 56 27.875 56 \r\nQ 33.9375 56 38.25 53.625 \r\nQ 42.578125 51.265625 45.40625 46.390625 \r\nz\r\nM 14.796875 27.296875 \r\nQ 14.796875 17.390625 18.875 11.75 \r\nQ 22.953125 6.109375 30.078125 6.109375 \r\nQ 37.203125 6.109375 41.296875 11.75 \r\nQ 45.40625 17.390625 45.40625 27.296875 \r\nQ 45.40625 37.203125 41.296875 42.84375 \r\nQ 37.203125 48.484375 30.078125 48.484375 \r\nQ 22.953125 48.484375 18.875 42.84375 \r\nQ 14.796875 37.203125 14.796875 27.296875 \r\nz\r\n\" id=\"DejaVuSans-100\"/>\r\n      <path d=\"M 9.421875 54.6875 \r\nL 18.40625 54.6875 \r\nL 18.40625 0 \r\nL 9.421875 0 \r\nz\r\nM 9.421875 75.984375 \r\nL 18.40625 75.984375 \r\nL 18.40625 64.59375 \r\nL 9.421875 64.59375 \r\nz\r\n\" id=\"DejaVuSans-105\"/>\r\n      <path d=\"M 48.78125 52.59375 \r\nL 48.78125 44.1875 \r\nQ 44.96875 46.296875 41.140625 47.34375 \r\nQ 37.3125 48.390625 33.40625 48.390625 \r\nQ 24.65625 48.390625 19.8125 42.84375 \r\nQ 14.984375 37.3125 14.984375 27.296875 \r\nQ 14.984375 17.28125 19.8125 11.734375 \r\nQ 24.65625 6.203125 33.40625 6.203125 \r\nQ 37.3125 6.203125 41.140625 7.25 \r\nQ 44.96875 8.296875 48.78125 10.40625 \r\nL 48.78125 2.09375 \r\nQ 45.015625 0.34375 40.984375 -0.53125 \r\nQ 36.96875 -1.421875 32.421875 -1.421875 \r\nQ 20.0625 -1.421875 12.78125 6.34375 \r\nQ 5.515625 14.109375 5.515625 27.296875 \r\nQ 5.515625 40.671875 12.859375 48.328125 \r\nQ 20.21875 56 33.015625 56 \r\nQ 37.15625 56 41.109375 55.140625 \r\nQ 45.0625 54.296875 48.78125 52.59375 \r\nz\r\n\" id=\"DejaVuSans-99\"/>\r\n      <path d=\"M 18.3125 70.21875 \r\nL 18.3125 54.6875 \r\nL 36.8125 54.6875 \r\nL 36.8125 47.703125 \r\nL 18.3125 47.703125 \r\nL 18.3125 18.015625 \r\nQ 18.3125 11.328125 20.140625 9.421875 \r\nQ 21.96875 7.515625 27.59375 7.515625 \r\nL 36.8125 7.515625 \r\nL 36.8125 0 \r\nL 27.59375 0 \r\nQ 17.1875 0 13.234375 3.875 \r\nQ 9.28125 7.765625 9.28125 18.015625 \r\nL 9.28125 47.703125 \r\nL 2.6875 47.703125 \r\nL 2.6875 54.6875 \r\nL 9.28125 54.6875 \r\nL 9.28125 70.21875 \r\nz\r\n\" id=\"DejaVuSans-116\"/>\r\n      <path id=\"DejaVuSans-32\"/>\r\n      <path d=\"M 9.421875 75.984375 \r\nL 18.40625 75.984375 \r\nL 18.40625 0 \r\nL 9.421875 0 \r\nz\r\n\" id=\"DejaVuSans-108\"/>\r\n      <path d=\"M 34.28125 27.484375 \r\nQ 23.390625 27.484375 19.1875 25 \r\nQ 14.984375 22.515625 14.984375 16.5 \r\nQ 14.984375 11.71875 18.140625 8.90625 \r\nQ 21.296875 6.109375 26.703125 6.109375 \r\nQ 34.1875 6.109375 38.703125 11.40625 \r\nQ 43.21875 16.703125 43.21875 25.484375 \r\nL 43.21875 27.484375 \r\nz\r\nM 52.203125 31.203125 \r\nL 52.203125 0 \r\nL 43.21875 0 \r\nL 43.21875 8.296875 \r\nQ 40.140625 3.328125 35.546875 0.953125 \r\nQ 30.953125 -1.421875 24.3125 -1.421875 \r\nQ 15.921875 -1.421875 10.953125 3.296875 \r\nQ 6 8.015625 6 15.921875 \r\nQ 6 25.140625 12.171875 29.828125 \r\nQ 18.359375 34.515625 30.609375 34.515625 \r\nL 43.21875 34.515625 \r\nL 43.21875 35.40625 \r\nQ 43.21875 41.609375 39.140625 45 \r\nQ 35.0625 48.390625 27.6875 48.390625 \r\nQ 23 48.390625 18.546875 47.265625 \r\nQ 14.109375 46.140625 10.015625 43.890625 \r\nL 10.015625 52.203125 \r\nQ 14.9375 54.109375 19.578125 55.046875 \r\nQ 24.21875 56 28.609375 56 \r\nQ 40.484375 56 46.34375 49.84375 \r\nQ 52.203125 43.703125 52.203125 31.203125 \r\nz\r\n\" id=\"DejaVuSans-97\"/>\r\n      <path d=\"M 44.28125 53.078125 \r\nL 44.28125 44.578125 \r\nQ 40.484375 46.53125 36.375 47.5 \r\nQ 32.28125 48.484375 27.875 48.484375 \r\nQ 21.1875 48.484375 17.84375 46.4375 \r\nQ 14.5 44.390625 14.5 40.28125 \r\nQ 14.5 37.15625 16.890625 35.375 \r\nQ 19.28125 33.59375 26.515625 31.984375 \r\nL 29.59375 31.296875 \r\nQ 39.15625 29.25 43.1875 25.515625 \r\nQ 47.21875 21.78125 47.21875 15.09375 \r\nQ 47.21875 7.46875 41.1875 3.015625 \r\nQ 35.15625 -1.421875 24.609375 -1.421875 \r\nQ 20.21875 -1.421875 15.453125 -0.5625 \r\nQ 10.6875 0.296875 5.421875 2 \r\nL 5.421875 11.28125 \r\nQ 10.40625 8.6875 15.234375 7.390625 \r\nQ 20.0625 6.109375 24.8125 6.109375 \r\nQ 31.15625 6.109375 34.5625 8.28125 \r\nQ 37.984375 10.453125 37.984375 14.40625 \r\nQ 37.984375 18.0625 35.515625 20.015625 \r\nQ 33.0625 21.96875 24.703125 23.78125 \r\nL 21.578125 24.515625 \r\nQ 13.234375 26.265625 9.515625 29.90625 \r\nQ 5.8125 33.546875 5.8125 39.890625 \r\nQ 5.8125 47.609375 11.28125 51.796875 \r\nQ 16.75 56 26.8125 56 \r\nQ 31.78125 56 36.171875 55.265625 \r\nQ 40.578125 54.546875 44.28125 53.078125 \r\nz\r\n\" id=\"DejaVuSans-115\"/>\r\n     </defs>\r\n     <g transform=\"translate(133.8075 268.034687)scale(0.1 -0.1)\">\r\n      <use xlink:href=\"#DejaVuSans-80\"/>\r\n      <use x=\"60.287109\" xlink:href=\"#DejaVuSans-114\"/>\r\n      <use x=\"101.369141\" xlink:href=\"#DejaVuSans-101\"/>\r\n      <use x=\"162.892578\" xlink:href=\"#DejaVuSans-100\"/>\r\n      <use x=\"226.369141\" xlink:href=\"#DejaVuSans-105\"/>\r\n      <use x=\"254.152344\" xlink:href=\"#DejaVuSans-99\"/>\r\n      <use x=\"309.132812\" xlink:href=\"#DejaVuSans-116\"/>\r\n      <use x=\"348.341797\" xlink:href=\"#DejaVuSans-101\"/>\r\n      <use x=\"409.865234\" xlink:href=\"#DejaVuSans-100\"/>\r\n      <use x=\"473.341797\" xlink:href=\"#DejaVuSans-32\"/>\r\n      <use x=\"505.128906\" xlink:href=\"#DejaVuSans-99\"/>\r\n      <use x=\"560.109375\" xlink:href=\"#DejaVuSans-108\"/>\r\n      <use x=\"587.892578\" xlink:href=\"#DejaVuSans-97\"/>\r\n      <use x=\"649.171875\" xlink:href=\"#DejaVuSans-115\"/>\r\n      <use x=\"701.271484\" xlink:href=\"#DejaVuSans-115\"/>\r\n     </g>\r\n    </g>\r\n   </g>\r\n   <g id=\"matplotlib.axis_2\">\r\n    <g id=\"ytick_1\">\r\n     <g id=\"line2d_3\">\r\n      <defs>\r\n       <path d=\"M 0 0 \r\nL -3.5 0 \r\n\" id=\"mef5b7c82be\" style=\"stroke:#000000;stroke-width:0.8;\"/>\r\n      </defs>\r\n      <g>\r\n       <use style=\"stroke:#000000;stroke-width:0.8;\" x=\"37.55625\" xlink:href=\"#mef5b7c82be\" y=\"76.678125\"/>\r\n      </g>\r\n     </g>\r\n     <g id=\"text_4\">\r\n      <!-- YES -->\r\n      <g transform=\"translate(28.476563 91.653906)rotate(-90)scale(0.1 -0.1)\">\r\n       <use xlink:href=\"#DejaVuSans-89\"/>\r\n       <use x=\"61.083984\" xlink:href=\"#DejaVuSans-69\"/>\r\n       <use x=\"124.267578\" xlink:href=\"#DejaVuSans-83\"/>\r\n      </g>\r\n     </g>\r\n    </g>\r\n    <g id=\"ytick_2\">\r\n     <g id=\"line2d_4\">\r\n      <g>\r\n       <use style=\"stroke:#000000;stroke-width:0.8;\" x=\"37.55625\" xlink:href=\"#mef5b7c82be\" y=\"185.398125\"/>\r\n      </g>\r\n     </g>\r\n     <g id=\"text_5\">\r\n      <!-- NO -->\r\n      <g transform=\"translate(28.476563 196.952031)rotate(-90)scale(0.1 -0.1)\">\r\n       <use xlink:href=\"#DejaVuSans-78\"/>\r\n       <use x=\"74.804688\" xlink:href=\"#DejaVuSans-79\"/>\r\n      </g>\r\n     </g>\r\n    </g>\r\n    <g id=\"text_6\">\r\n     <!-- Actual Class -->\r\n     <defs>\r\n      <path d=\"M 34.1875 63.1875 \r\nL 20.796875 26.90625 \r\nL 47.609375 26.90625 \r\nz\r\nM 28.609375 72.90625 \r\nL 39.796875 72.90625 \r\nL 67.578125 0 \r\nL 57.328125 0 \r\nL 50.6875 18.703125 \r\nL 17.828125 18.703125 \r\nL 11.1875 0 \r\nL 0.78125 0 \r\nz\r\n\" id=\"DejaVuSans-65\"/>\r\n      <path d=\"M 8.5 21.578125 \r\nL 8.5 54.6875 \r\nL 17.484375 54.6875 \r\nL 17.484375 21.921875 \r\nQ 17.484375 14.15625 20.5 10.265625 \r\nQ 23.53125 6.390625 29.59375 6.390625 \r\nQ 36.859375 6.390625 41.078125 11.03125 \r\nQ 45.3125 15.671875 45.3125 23.6875 \r\nL 45.3125 54.6875 \r\nL 54.296875 54.6875 \r\nL 54.296875 0 \r\nL 45.3125 0 \r\nL 45.3125 8.40625 \r\nQ 42.046875 3.421875 37.71875 1 \r\nQ 33.40625 -1.421875 27.6875 -1.421875 \r\nQ 18.265625 -1.421875 13.375 4.4375 \r\nQ 8.5 10.296875 8.5 21.578125 \r\nz\r\nM 31.109375 56 \r\nz\r\n\" id=\"DejaVuSans-117\"/>\r\n      <path d=\"M 64.40625 67.28125 \r\nL 64.40625 56.890625 \r\nQ 59.421875 61.53125 53.78125 63.8125 \r\nQ 48.140625 66.109375 41.796875 66.109375 \r\nQ 29.296875 66.109375 22.65625 58.46875 \r\nQ 16.015625 50.828125 16.015625 36.375 \r\nQ 16.015625 21.96875 22.65625 14.328125 \r\nQ 29.296875 6.6875 41.796875 6.6875 \r\nQ 48.140625 6.6875 53.78125 8.984375 \r\nQ 59.421875 11.28125 64.40625 15.921875 \r\nL 64.40625 5.609375 \r\nQ 59.234375 2.09375 53.4375 0.328125 \r\nQ 47.65625 -1.421875 41.21875 -1.421875 \r\nQ 24.65625 -1.421875 15.125 8.703125 \r\nQ 5.609375 18.84375 5.609375 36.375 \r\nQ 5.609375 53.953125 15.125 64.078125 \r\nQ 24.65625 74.21875 41.21875 74.21875 \r\nQ 47.75 74.21875 53.53125 72.484375 \r\nQ 59.328125 70.75 64.40625 67.28125 \r\nz\r\n\" id=\"DejaVuSans-67\"/>\r\n     </defs>\r\n     <g transform=\"translate(14.798438 161.531875)rotate(-90)scale(0.1 -0.1)\">\r\n      <use xlink:href=\"#DejaVuSans-65\"/>\r\n      <use x=\"68.392578\" xlink:href=\"#DejaVuSans-99\"/>\r\n      <use x=\"123.373047\" xlink:href=\"#DejaVuSans-116\"/>\r\n      <use x=\"162.582031\" xlink:href=\"#DejaVuSans-117\"/>\r\n      <use x=\"225.960938\" xlink:href=\"#DejaVuSans-97\"/>\r\n      <use x=\"287.240234\" xlink:href=\"#DejaVuSans-108\"/>\r\n      <use x=\"315.023438\" xlink:href=\"#DejaVuSans-32\"/>\r\n      <use x=\"346.810547\" xlink:href=\"#DejaVuSans-67\"/>\r\n      <use x=\"416.634766\" xlink:href=\"#DejaVuSans-108\"/>\r\n      <use x=\"444.417969\" xlink:href=\"#DejaVuSans-97\"/>\r\n      <use x=\"505.697266\" xlink:href=\"#DejaVuSans-115\"/>\r\n      <use x=\"557.796875\" xlink:href=\"#DejaVuSans-115\"/>\r\n     </g>\r\n    </g>\r\n   </g>\r\n   <g id=\"text_7\">\r\n    <!-- 248 -->\r\n    <defs>\r\n     <path d=\"M 19.1875 8.296875 \r\nL 53.609375 8.296875 \r\nL 53.609375 0 \r\nL 7.328125 0 \r\nL 7.328125 8.296875 \r\nQ 12.9375 14.109375 22.625 23.890625 \r\nQ 32.328125 33.6875 34.8125 36.53125 \r\nQ 39.546875 41.84375 41.421875 45.53125 \r\nQ 43.3125 49.21875 43.3125 52.78125 \r\nQ 43.3125 58.59375 39.234375 62.25 \r\nQ 35.15625 65.921875 28.609375 65.921875 \r\nQ 23.96875 65.921875 18.8125 64.3125 \r\nQ 13.671875 62.703125 7.8125 59.421875 \r\nL 7.8125 69.390625 \r\nQ 13.765625 71.78125 18.9375 73 \r\nQ 24.125 74.21875 28.421875 74.21875 \r\nQ 39.75 74.21875 46.484375 68.546875 \r\nQ 53.21875 62.890625 53.21875 53.421875 \r\nQ 53.21875 48.921875 51.53125 44.890625 \r\nQ 49.859375 40.875 45.40625 35.40625 \r\nQ 44.1875 33.984375 37.640625 27.21875 \r\nQ 31.109375 20.453125 19.1875 8.296875 \r\nz\r\n\" id=\"DejaVuSans-50\"/>\r\n     <path d=\"M 37.796875 64.3125 \r\nL 12.890625 25.390625 \r\nL 37.796875 25.390625 \r\nz\r\nM 35.203125 72.90625 \r\nL 47.609375 72.90625 \r\nL 47.609375 25.390625 \r\nL 58.015625 25.390625 \r\nL 58.015625 17.1875 \r\nL 47.609375 17.1875 \r\nL 47.609375 0 \r\nL 37.796875 0 \r\nL 37.796875 17.1875 \r\nL 4.890625 17.1875 \r\nL 4.890625 26.703125 \r\nz\r\n\" id=\"DejaVuSans-52\"/>\r\n     <path d=\"M 31.78125 34.625 \r\nQ 24.75 34.625 20.71875 30.859375 \r\nQ 16.703125 27.09375 16.703125 20.515625 \r\nQ 16.703125 13.921875 20.71875 10.15625 \r\nQ 24.75 6.390625 31.78125 6.390625 \r\nQ 38.8125 6.390625 42.859375 10.171875 \r\nQ 46.921875 13.96875 46.921875 20.515625 \r\nQ 46.921875 27.09375 42.890625 30.859375 \r\nQ 38.875 34.625 31.78125 34.625 \r\nz\r\nM 21.921875 38.8125 \r\nQ 15.578125 40.375 12.03125 44.71875 \r\nQ 8.5 49.078125 8.5 55.328125 \r\nQ 8.5 64.0625 14.71875 69.140625 \r\nQ 20.953125 74.21875 31.78125 74.21875 \r\nQ 42.671875 74.21875 48.875 69.140625 \r\nQ 55.078125 64.0625 55.078125 55.328125 \r\nQ 55.078125 49.078125 51.53125 44.71875 \r\nQ 48 40.375 41.703125 38.8125 \r\nQ 48.828125 37.15625 52.796875 32.3125 \r\nQ 56.78125 27.484375 56.78125 20.515625 \r\nQ 56.78125 9.90625 50.3125 4.234375 \r\nQ 43.84375 -1.421875 31.78125 -1.421875 \r\nQ 19.734375 -1.421875 13.25 4.234375 \r\nQ 6.78125 9.90625 6.78125 20.515625 \r\nQ 6.78125 27.484375 10.78125 32.3125 \r\nQ 14.796875 37.15625 21.921875 38.8125 \r\nz\r\nM 18.3125 54.390625 \r\nQ 18.3125 48.734375 21.84375 45.5625 \r\nQ 25.390625 42.390625 31.78125 42.390625 \r\nQ 38.140625 42.390625 41.71875 45.5625 \r\nQ 45.3125 48.734375 45.3125 54.390625 \r\nQ 45.3125 60.0625 41.71875 63.234375 \r\nQ 38.140625 66.40625 31.78125 66.40625 \r\nQ 25.390625 66.40625 21.84375 63.234375 \r\nQ 18.3125 60.0625 18.3125 54.390625 \r\nz\r\n\" id=\"DejaVuSans-56\"/>\r\n    </defs>\r\n    <g style=\"fill:#262626;\" transform=\"translate(94.9725 79.4375)scale(0.1 -0.1)\">\r\n     <use xlink:href=\"#DejaVuSans-50\"/>\r\n     <use x=\"63.623047\" xlink:href=\"#DejaVuSans-52\"/>\r\n     <use x=\"127.246094\" xlink:href=\"#DejaVuSans-56\"/>\r\n    </g>\r\n   </g>\r\n   <g id=\"text_8\">\r\n    <!-- 29 -->\r\n    <defs>\r\n     <path d=\"M 10.984375 1.515625 \r\nL 10.984375 10.5 \r\nQ 14.703125 8.734375 18.5 7.8125 \r\nQ 22.3125 6.890625 25.984375 6.890625 \r\nQ 35.75 6.890625 40.890625 13.453125 \r\nQ 46.046875 20.015625 46.78125 33.40625 \r\nQ 43.953125 29.203125 39.59375 26.953125 \r\nQ 35.25 24.703125 29.984375 24.703125 \r\nQ 19.046875 24.703125 12.671875 31.3125 \r\nQ 6.296875 37.9375 6.296875 49.421875 \r\nQ 6.296875 60.640625 12.9375 67.421875 \r\nQ 19.578125 74.21875 30.609375 74.21875 \r\nQ 43.265625 74.21875 49.921875 64.515625 \r\nQ 56.59375 54.828125 56.59375 36.375 \r\nQ 56.59375 19.140625 48.40625 8.859375 \r\nQ 40.234375 -1.421875 26.421875 -1.421875 \r\nQ 22.703125 -1.421875 18.890625 -0.6875 \r\nQ 15.09375 0.046875 10.984375 1.515625 \r\nz\r\nM 30.609375 32.421875 \r\nQ 37.25 32.421875 41.125 36.953125 \r\nQ 45.015625 41.5 45.015625 49.421875 \r\nQ 45.015625 57.28125 41.125 61.84375 \r\nQ 37.25 66.40625 30.609375 66.40625 \r\nQ 23.96875 66.40625 20.09375 61.84375 \r\nQ 16.21875 57.28125 16.21875 49.421875 \r\nQ 16.21875 41.5 20.09375 36.953125 \r\nQ 23.96875 32.421875 30.609375 32.421875 \r\nz\r\n\" id=\"DejaVuSans-57\"/>\r\n    </defs>\r\n    <g style=\"fill:#ffffff;\" transform=\"translate(232.07375 79.4375)scale(0.1 -0.1)\">\r\n     <use xlink:href=\"#DejaVuSans-50\"/>\r\n     <use x=\"63.623047\" xlink:href=\"#DejaVuSans-57\"/>\r\n    </g>\r\n   </g>\r\n   <g id=\"text_9\">\r\n    <!-- 191 -->\r\n    <defs>\r\n     <path d=\"M 12.40625 8.296875 \r\nL 28.515625 8.296875 \r\nL 28.515625 63.921875 \r\nL 10.984375 60.40625 \r\nL 10.984375 69.390625 \r\nL 28.421875 72.90625 \r\nL 38.28125 72.90625 \r\nL 38.28125 8.296875 \r\nL 54.390625 8.296875 \r\nL 54.390625 0 \r\nL 12.40625 0 \r\nz\r\n\" id=\"DejaVuSans-49\"/>\r\n    </defs>\r\n    <g style=\"fill:#ffffff;\" transform=\"translate(94.9725 188.1575)scale(0.1 -0.1)\">\r\n     <use xlink:href=\"#DejaVuSans-49\"/>\r\n     <use x=\"63.623047\" xlink:href=\"#DejaVuSans-57\"/>\r\n     <use x=\"127.246094\" xlink:href=\"#DejaVuSans-49\"/>\r\n    </g>\r\n   </g>\r\n   <g id=\"text_10\">\r\n    <!-- 32 -->\r\n    <defs>\r\n     <path d=\"M 40.578125 39.3125 \r\nQ 47.65625 37.796875 51.625 33 \r\nQ 55.609375 28.21875 55.609375 21.1875 \r\nQ 55.609375 10.40625 48.1875 4.484375 \r\nQ 40.765625 -1.421875 27.09375 -1.421875 \r\nQ 22.515625 -1.421875 17.65625 -0.515625 \r\nQ 12.796875 0.390625 7.625 2.203125 \r\nL 7.625 11.71875 \r\nQ 11.71875 9.328125 16.59375 8.109375 \r\nQ 21.484375 6.890625 26.8125 6.890625 \r\nQ 36.078125 6.890625 40.9375 10.546875 \r\nQ 45.796875 14.203125 45.796875 21.1875 \r\nQ 45.796875 27.640625 41.28125 31.265625 \r\nQ 36.765625 34.90625 28.71875 34.90625 \r\nL 20.21875 34.90625 \r\nL 20.21875 43.015625 \r\nL 29.109375 43.015625 \r\nQ 36.375 43.015625 40.234375 45.921875 \r\nQ 44.09375 48.828125 44.09375 54.296875 \r\nQ 44.09375 59.90625 40.109375 62.90625 \r\nQ 36.140625 65.921875 28.71875 65.921875 \r\nQ 24.65625 65.921875 20.015625 65.03125 \r\nQ 15.375 64.15625 9.8125 62.3125 \r\nL 9.8125 71.09375 \r\nQ 15.4375 72.65625 20.34375 73.4375 \r\nQ 25.25 74.21875 29.59375 74.21875 \r\nQ 40.828125 74.21875 47.359375 69.109375 \r\nQ 53.90625 64.015625 53.90625 55.328125 \r\nQ 53.90625 49.265625 50.4375 45.09375 \r\nQ 46.96875 40.921875 40.578125 39.3125 \r\nz\r\n\" id=\"DejaVuSans-51\"/>\r\n    </defs>\r\n    <g style=\"fill:#ffffff;\" transform=\"translate(232.07375 188.1575)scale(0.1 -0.1)\">\r\n     <use xlink:href=\"#DejaVuSans-51\"/>\r\n     <use x=\"63.623047\" xlink:href=\"#DejaVuSans-50\"/>\r\n    </g>\r\n   </g>\r\n   <g id=\"text_11\">\r\n    <!-- Confusion Matrix -->\r\n    <defs>\r\n     <path d=\"M 30.609375 48.390625 \r\nQ 23.390625 48.390625 19.1875 42.75 \r\nQ 14.984375 37.109375 14.984375 27.296875 \r\nQ 14.984375 17.484375 19.15625 11.84375 \r\nQ 23.34375 6.203125 30.609375 6.203125 \r\nQ 37.796875 6.203125 41.984375 11.859375 \r\nQ 46.1875 17.53125 46.1875 27.296875 \r\nQ 46.1875 37.015625 41.984375 42.703125 \r\nQ 37.796875 48.390625 30.609375 48.390625 \r\nz\r\nM 30.609375 56 \r\nQ 42.328125 56 49.015625 48.375 \r\nQ 55.71875 40.765625 55.71875 27.296875 \r\nQ 55.71875 13.875 49.015625 6.21875 \r\nQ 42.328125 -1.421875 30.609375 -1.421875 \r\nQ 18.84375 -1.421875 12.171875 6.21875 \r\nQ 5.515625 13.875 5.515625 27.296875 \r\nQ 5.515625 40.765625 12.171875 48.375 \r\nQ 18.84375 56 30.609375 56 \r\nz\r\n\" id=\"DejaVuSans-111\"/>\r\n     <path d=\"M 54.890625 33.015625 \r\nL 54.890625 0 \r\nL 45.90625 0 \r\nL 45.90625 32.71875 \r\nQ 45.90625 40.484375 42.875 44.328125 \r\nQ 39.84375 48.1875 33.796875 48.1875 \r\nQ 26.515625 48.1875 22.3125 43.546875 \r\nQ 18.109375 38.921875 18.109375 30.90625 \r\nL 18.109375 0 \r\nL 9.078125 0 \r\nL 9.078125 54.6875 \r\nL 18.109375 54.6875 \r\nL 18.109375 46.1875 \r\nQ 21.34375 51.125 25.703125 53.5625 \r\nQ 30.078125 56 35.796875 56 \r\nQ 45.21875 56 50.046875 50.171875 \r\nQ 54.890625 44.34375 54.890625 33.015625 \r\nz\r\n\" id=\"DejaVuSans-110\"/>\r\n     <path d=\"M 37.109375 75.984375 \r\nL 37.109375 68.5 \r\nL 28.515625 68.5 \r\nQ 23.6875 68.5 21.796875 66.546875 \r\nQ 19.921875 64.59375 19.921875 59.515625 \r\nL 19.921875 54.6875 \r\nL 34.71875 54.6875 \r\nL 34.71875 47.703125 \r\nL 19.921875 47.703125 \r\nL 19.921875 0 \r\nL 10.890625 0 \r\nL 10.890625 47.703125 \r\nL 2.296875 47.703125 \r\nL 2.296875 54.6875 \r\nL 10.890625 54.6875 \r\nL 10.890625 58.5 \r\nQ 10.890625 67.625 15.140625 71.796875 \r\nQ 19.390625 75.984375 28.609375 75.984375 \r\nz\r\n\" id=\"DejaVuSans-102\"/>\r\n     <path d=\"M 9.8125 72.90625 \r\nL 24.515625 72.90625 \r\nL 43.109375 23.296875 \r\nL 61.8125 72.90625 \r\nL 76.515625 72.90625 \r\nL 76.515625 0 \r\nL 66.890625 0 \r\nL 66.890625 64.015625 \r\nL 48.09375 14.015625 \r\nL 38.1875 14.015625 \r\nL 19.390625 64.015625 \r\nL 19.390625 0 \r\nL 9.8125 0 \r\nz\r\n\" id=\"DejaVuSans-77\"/>\r\n     <path d=\"M 54.890625 54.6875 \r\nL 35.109375 28.078125 \r\nL 55.90625 0 \r\nL 45.3125 0 \r\nL 29.390625 21.484375 \r\nL 13.484375 0 \r\nL 2.875 0 \r\nL 24.125 28.609375 \r\nL 4.6875 54.6875 \r\nL 15.28125 54.6875 \r\nL 29.78125 35.203125 \r\nL 44.28125 54.6875 \r\nz\r\n\" id=\"DejaVuSans-120\"/>\r\n    </defs>\r\n    <g transform=\"translate(120.834375 16.318125)scale(0.12 -0.12)\">\r\n     <use xlink:href=\"#DejaVuSans-67\"/>\r\n     <use x=\"69.824219\" xlink:href=\"#DejaVuSans-111\"/>\r\n     <use x=\"131.005859\" xlink:href=\"#DejaVuSans-110\"/>\r\n     <use x=\"194.384766\" xlink:href=\"#DejaVuSans-102\"/>\r\n     <use x=\"229.589844\" xlink:href=\"#DejaVuSans-117\"/>\r\n     <use x=\"292.96875\" xlink:href=\"#DejaVuSans-115\"/>\r\n     <use x=\"345.068359\" xlink:href=\"#DejaVuSans-105\"/>\r\n     <use x=\"372.851562\" xlink:href=\"#DejaVuSans-111\"/>\r\n     <use x=\"434.033203\" xlink:href=\"#DejaVuSans-110\"/>\r\n     <use x=\"497.412109\" xlink:href=\"#DejaVuSans-32\"/>\r\n     <use x=\"529.199219\" xlink:href=\"#DejaVuSans-77\"/>\r\n     <use x=\"615.478516\" xlink:href=\"#DejaVuSans-97\"/>\r\n     <use x=\"676.757812\" xlink:href=\"#DejaVuSans-116\"/>\r\n     <use x=\"715.966797\" xlink:href=\"#DejaVuSans-114\"/>\r\n     <use x=\"757.080078\" xlink:href=\"#DejaVuSans-105\"/>\r\n     <use x=\"784.863281\" xlink:href=\"#DejaVuSans-120\"/>\r\n    </g>\r\n   </g>\r\n  </g>\r\n  <g id=\"axes_2\">\r\n   <g id=\"patch_3\">\r\n    <path clip-path=\"url(#pbfc60ff278)\" d=\"M 322.13625 239.758125 \r\nL 322.13625 238.90875 \r\nL 322.13625 23.1675 \r\nL 322.13625 22.318125 \r\nL 333.00825 22.318125 \r\nL 333.00825 23.1675 \r\nL 333.00825 238.90875 \r\nL 333.00825 239.758125 \r\nz\r\n\" style=\"fill:#ffffff;stroke:#ffffff;stroke-linejoin:miter;stroke-width:0.01;\"/>\r\n   </g>\r\n   <image height=\"217\" id=\"imagedae898d97d\" transform=\"scale(1 -1)translate(0 -217)\" width=\"11\" x=\"322\" xlink:href=\"data:image/png;base64,\r\niVBORw0KGgoAAAANSUhEUgAAAAsAAADZCAYAAAD2WsoCAAAABHNCSVQICAgIfAhkiAAAAVJJREFUaIHV2kEOAjEMQ9GmDZfg/veEK/QtLKWsLcv5dToMovrz/a3LT1fVrXb1rn0vRmcQ14o5i/gIjVyMLTRyAw7JjM4woNHIVXSGs5V/ynHLgGtE+W3Aa6l2YwgNK/+1NNoNipHcFIiRGxBPcEj5Y62LOefQ9ZCFFTHRODHnIQPu69cDp0Hi2HaTeAgNiZGjcSQGHreIn6Rxr7YBc/dG/yAzck7RKHK+N159Ys6YWcRwKhbjFMWIFYmcRXygduaMma+1yRgbLruuIehgCTFGjoahu9aiMw6YikHOK9aN3RLDaDzoDDd0FzyBLMYSZ4sRHDAlpl97LAa81iQPhcTy+7N8Weva4pzLbOjE+eSO+0F0RoNijKBRtN3GOSa2u47Kf/+kH5PZYgyhMaNINGAuc8y5Sra7X6QRu76kG8Z5RjfW+UyIQf+ySN51QuPFAWFT/gJ8LSOCIrIBAAAAAElFTkSuQmCC\" y=\"-22\"/>\r\n   <g id=\"matplotlib.axis_3\"/>\r\n   <g id=\"matplotlib.axis_4\">\r\n    <g id=\"ytick_3\">\r\n     <g id=\"line2d_5\">\r\n      <defs>\r\n       <path d=\"M 0 0 \r\nL 3.5 0 \r\n\" id=\"mf52f825d5c\" style=\"stroke:#000000;stroke-width:0.8;\"/>\r\n      </defs>\r\n      <g>\r\n       <use style=\"stroke:#000000;stroke-width:0.8;\" x=\"333.00825\" xlink:href=\"#mf52f825d5c\" y=\"218.907714\"/>\r\n      </g>\r\n     </g>\r\n     <g id=\"text_12\">\r\n      <!-- 50 -->\r\n      <defs>\r\n       <path d=\"M 10.796875 72.90625 \r\nL 49.515625 72.90625 \r\nL 49.515625 64.59375 \r\nL 19.828125 64.59375 \r\nL 19.828125 46.734375 \r\nQ 21.96875 47.46875 24.109375 47.828125 \r\nQ 26.265625 48.1875 28.421875 48.1875 \r\nQ 40.625 48.1875 47.75 41.5 \r\nQ 54.890625 34.8125 54.890625 23.390625 \r\nQ 54.890625 11.625 47.5625 5.09375 \r\nQ 40.234375 -1.421875 26.90625 -1.421875 \r\nQ 22.3125 -1.421875 17.546875 -0.640625 \r\nQ 12.796875 0.140625 7.71875 1.703125 \r\nL 7.71875 11.625 \r\nQ 12.109375 9.234375 16.796875 8.0625 \r\nQ 21.484375 6.890625 26.703125 6.890625 \r\nQ 35.15625 6.890625 40.078125 11.328125 \r\nQ 45.015625 15.765625 45.015625 23.390625 \r\nQ 45.015625 31 40.078125 35.4375 \r\nQ 35.15625 39.890625 26.703125 39.890625 \r\nQ 22.75 39.890625 18.8125 39.015625 \r\nQ 14.890625 38.140625 10.796875 36.28125 \r\nz\r\n\" id=\"DejaVuSans-53\"/>\r\n       <path d=\"M 31.78125 66.40625 \r\nQ 24.171875 66.40625 20.328125 58.90625 \r\nQ 16.5 51.421875 16.5 36.375 \r\nQ 16.5 21.390625 20.328125 13.890625 \r\nQ 24.171875 6.390625 31.78125 6.390625 \r\nQ 39.453125 6.390625 43.28125 13.890625 \r\nQ 47.125 21.390625 47.125 36.375 \r\nQ 47.125 51.421875 43.28125 58.90625 \r\nQ 39.453125 66.40625 31.78125 66.40625 \r\nz\r\nM 31.78125 74.21875 \r\nQ 44.046875 74.21875 50.515625 64.515625 \r\nQ 56.984375 54.828125 56.984375 36.375 \r\nQ 56.984375 17.96875 50.515625 8.265625 \r\nQ 44.046875 -1.421875 31.78125 -1.421875 \r\nQ 19.53125 -1.421875 13.0625 8.265625 \r\nQ 6.59375 17.96875 6.59375 36.375 \r\nQ 6.59375 54.828125 13.0625 64.515625 \r\nQ 19.53125 74.21875 31.78125 74.21875 \r\nz\r\n\" id=\"DejaVuSans-48\"/>\r\n      </defs>\r\n      <g transform=\"translate(340.00825 222.706933)scale(0.1 -0.1)\">\r\n       <use xlink:href=\"#DejaVuSans-53\"/>\r\n       <use x=\"63.623047\" xlink:href=\"#DejaVuSans-48\"/>\r\n      </g>\r\n     </g>\r\n    </g>\r\n    <g id=\"ytick_4\">\r\n     <g id=\"line2d_6\">\r\n      <g>\r\n       <use style=\"stroke:#000000;stroke-width:0.8;\" x=\"333.00825\" xlink:href=\"#mf52f825d5c\" y=\"194.085796\"/>\r\n      </g>\r\n     </g>\r\n     <g id=\"text_13\">\r\n      <!-- 75 -->\r\n      <defs>\r\n       <path d=\"M 8.203125 72.90625 \r\nL 55.078125 72.90625 \r\nL 55.078125 68.703125 \r\nL 28.609375 0 \r\nL 18.3125 0 \r\nL 43.21875 64.59375 \r\nL 8.203125 64.59375 \r\nz\r\n\" id=\"DejaVuSans-55\"/>\r\n      </defs>\r\n      <g transform=\"translate(340.00825 197.885015)scale(0.1 -0.1)\">\r\n       <use xlink:href=\"#DejaVuSans-55\"/>\r\n       <use x=\"63.623047\" xlink:href=\"#DejaVuSans-53\"/>\r\n      </g>\r\n     </g>\r\n    </g>\r\n    <g id=\"ytick_5\">\r\n     <g id=\"line2d_7\">\r\n      <g>\r\n       <use style=\"stroke:#000000;stroke-width:0.8;\" x=\"333.00825\" xlink:href=\"#mf52f825d5c\" y=\"169.263878\"/>\r\n      </g>\r\n     </g>\r\n     <g id=\"text_14\">\r\n      <!-- 100 -->\r\n      <g transform=\"translate(340.00825 173.063097)scale(0.1 -0.1)\">\r\n       <use xlink:href=\"#DejaVuSans-49\"/>\r\n       <use x=\"63.623047\" xlink:href=\"#DejaVuSans-48\"/>\r\n       <use x=\"127.246094\" xlink:href=\"#DejaVuSans-48\"/>\r\n      </g>\r\n     </g>\r\n    </g>\r\n    <g id=\"ytick_6\">\r\n     <g id=\"line2d_8\">\r\n      <g>\r\n       <use style=\"stroke:#000000;stroke-width:0.8;\" x=\"333.00825\" xlink:href=\"#mf52f825d5c\" y=\"144.441961\"/>\r\n      </g>\r\n     </g>\r\n     <g id=\"text_15\">\r\n      <!-- 125 -->\r\n      <g transform=\"translate(340.00825 148.241179)scale(0.1 -0.1)\">\r\n       <use xlink:href=\"#DejaVuSans-49\"/>\r\n       <use x=\"63.623047\" xlink:href=\"#DejaVuSans-50\"/>\r\n       <use x=\"127.246094\" xlink:href=\"#DejaVuSans-53\"/>\r\n      </g>\r\n     </g>\r\n    </g>\r\n    <g id=\"ytick_7\">\r\n     <g id=\"line2d_9\">\r\n      <g>\r\n       <use style=\"stroke:#000000;stroke-width:0.8;\" x=\"333.00825\" xlink:href=\"#mf52f825d5c\" y=\"119.620043\"/>\r\n      </g>\r\n     </g>\r\n     <g id=\"text_16\">\r\n      <!-- 150 -->\r\n      <g transform=\"translate(340.00825 123.419262)scale(0.1 -0.1)\">\r\n       <use xlink:href=\"#DejaVuSans-49\"/>\r\n       <use x=\"63.623047\" xlink:href=\"#DejaVuSans-53\"/>\r\n       <use x=\"127.246094\" xlink:href=\"#DejaVuSans-48\"/>\r\n      </g>\r\n     </g>\r\n    </g>\r\n    <g id=\"ytick_8\">\r\n     <g id=\"line2d_10\">\r\n      <g>\r\n       <use style=\"stroke:#000000;stroke-width:0.8;\" x=\"333.00825\" xlink:href=\"#mf52f825d5c\" y=\"94.798125\"/>\r\n      </g>\r\n     </g>\r\n     <g id=\"text_17\">\r\n      <!-- 175 -->\r\n      <g transform=\"translate(340.00825 98.597344)scale(0.1 -0.1)\">\r\n       <use xlink:href=\"#DejaVuSans-49\"/>\r\n       <use x=\"63.623047\" xlink:href=\"#DejaVuSans-55\"/>\r\n       <use x=\"127.246094\" xlink:href=\"#DejaVuSans-53\"/>\r\n      </g>\r\n     </g>\r\n    </g>\r\n    <g id=\"ytick_9\">\r\n     <g id=\"line2d_11\">\r\n      <g>\r\n       <use style=\"stroke:#000000;stroke-width:0.8;\" x=\"333.00825\" xlink:href=\"#mf52f825d5c\" y=\"69.976207\"/>\r\n      </g>\r\n     </g>\r\n     <g id=\"text_18\">\r\n      <!-- 200 -->\r\n      <g transform=\"translate(340.00825 73.775426)scale(0.1 -0.1)\">\r\n       <use xlink:href=\"#DejaVuSans-50\"/>\r\n       <use x=\"63.623047\" xlink:href=\"#DejaVuSans-48\"/>\r\n       <use x=\"127.246094\" xlink:href=\"#DejaVuSans-48\"/>\r\n      </g>\r\n     </g>\r\n    </g>\r\n    <g id=\"ytick_10\">\r\n     <g id=\"line2d_12\">\r\n      <g>\r\n       <use style=\"stroke:#000000;stroke-width:0.8;\" x=\"333.00825\" xlink:href=\"#mf52f825d5c\" y=\"45.154289\"/>\r\n      </g>\r\n     </g>\r\n     <g id=\"text_19\">\r\n      <!-- 225 -->\r\n      <g transform=\"translate(340.00825 48.953508)scale(0.1 -0.1)\">\r\n       <use xlink:href=\"#DejaVuSans-50\"/>\r\n       <use x=\"63.623047\" xlink:href=\"#DejaVuSans-50\"/>\r\n       <use x=\"127.246094\" xlink:href=\"#DejaVuSans-53\"/>\r\n      </g>\r\n     </g>\r\n    </g>\r\n   </g>\r\n   <g id=\"patch_4\">\r\n    <path d=\"M 322.13625 239.758125 \r\nL 322.13625 238.90875 \r\nL 322.13625 23.1675 \r\nL 322.13625 22.318125 \r\nL 333.00825 22.318125 \r\nL 333.00825 23.1675 \r\nL 333.00825 238.90875 \r\nL 333.00825 239.758125 \r\nz\r\n\" style=\"fill:none;\"/>\r\n   </g>\r\n  </g>\r\n </g>\r\n <defs>\r\n  <clipPath id=\"pbc4f33d1a8\">\r\n   <rect height=\"217.44\" width=\"267.84\" x=\"37.55625\" y=\"22.318125\"/>\r\n  </clipPath>\r\n  <clipPath id=\"pbfc60ff278\">\r\n   <rect height=\"217.44\" width=\"10.872\" x=\"322.13625\" y=\"22.318125\"/>\r\n  </clipPath>\r\n </defs>\r\n</svg>\r\n",
            "image/png": "[encoded data removed]"
          },
          "metadata": {
            "needs_background": "light"
          }
        },
        {
          "output_type": "stream",
          "name": "stdout",
          "text": [
            "Number of True Positives (TP):  248\nNumber of True Negatives (TN):  32\nNumber of False Positives (FP):  191\nNumber of False Negatives (FN):  29\n\nAccuracy: 56.00000000000001 %\nPrecision: 54.7 %\nRecall: 56.00000000000001 %\nF1 Score: 48.4 %\n"
          ]
        }
      ]
    },
    {
      "cell_type": "markdown",
      "metadata": {
        "id": "xPB2ppvv9EC0"
      },
      "source": [
        "<p> Let us interpret the above results obtained.\n",
        "<ul>\n",
        "    <li><b>Accuracy</b> is the fraction of predictions that our model got right. It is  53.8% here.</li>\n",
        "    <li><b>Precision</b> indicates the proportion of the instances that the model says was relevant, actually were relevant. It is 50.3% here. It says that 50.3% which were predicted as hate speech is actually hate speech.</li>  \n",
        "   <li><b>Recall</b> indicates the proportion of actually positive instances that are correctly predicted. It is 53.8% here. It says that of all the observations which truly consist of hate speech, we have correctly predicted 53.8% out of it.</li> \n",
        "    <li><b>F1 Score</b> considers both precision and recall. It is the harmonic mean (average) of the Precision and Recall. F1 Score is best if there is some sort of balance between Precision  and Recall in the system as above. The F1 Score for this model is 46.5% which is a reasonable value.</li>\n",
        "</ul>\n",
        "\n",
        "<br>This model is <b>useless</b>, so as a slution let us move on to doc2vec to create another model.</p>"
      ]
    },
    {
      "cell_type": "markdown",
      "metadata": {
        "id": "698VyWxu9EC1"
      },
      "source": [
        "#####  Using doc2vec model with tfidf weighted averaged vectorizer"
      ]
    },
    {
      "cell_type": "markdown",
      "metadata": {
        "id": "EAsiuaPf9EC1"
      },
      "source": [
        "<p>This is a complex task when compared to other models. First the required libraries are imported as below.</p>"
      ]
    },
    {
      "cell_type": "code",
      "metadata": {
        "id": "ZCpoIKiV9EC1"
      },
      "source": [
        "from gensim.models.doc2vec import Doc2Vec, TaggedDocument\n",
        "from sklearn.metrics import accuracy_score, f1_score\n",
        "import multiprocessing\n",
        "from tqdm import tqdm\n",
        "from sklearn import utils"
      ],
      "execution_count": 122,
      "outputs": []
    },
    {
      "cell_type": "markdown",
      "metadata": {
        "id": "JyxMashH9EC1"
      },
      "source": [
        "<p>Let us split the merged dataframe which was created in question (d) to test and train sets with 80:20 ratio by converting them to lists in order to be iterated in the next steps to create training and testing documents as lists.</p>"
      ]
    },
    {
      "cell_type": "code",
      "metadata": {
        "id": "5SsjC-L39EC1"
      },
      "source": [
        "train_X, test_X, train_y, test_y = train_test_split(\n",
        "    dataframe['Phrase'].tolist(), dataframe['IsHateSpeech'].tolist(), test_size = 0.2, random_state=0)"
      ],
      "execution_count": 123,
      "outputs": []
    },
    {
      "cell_type": "markdown",
      "metadata": {
        "id": "0DzsDAAI9EC1"
      },
      "source": [
        "<p>Below function named <b>create_train_test_documents(train_X, test_X, train_y, test_y)</b> will return the training and testing documents by appending the lables of each sentence to the back of the row as a tag.</p>"
      ]
    },
    {
      "cell_type": "code",
      "metadata": {
        "id": "LO9oNlcP9EC1"
      },
      "source": [
        "# Define a function to create train and test documents as lists\n",
        "def create_train_test_documents(train_X, test_X, train_y, test_y):\n",
        "    \n",
        "    # Initialize empty lists\n",
        "    train_documents = []\n",
        "    test_documents = []\n",
        "\n",
        "    # Append the train labels to the back of the train sentences\n",
        "    for index in range(0,len(train_X)):\n",
        "        y_list = []\n",
        "        y_list.append(train_y[index])\n",
        "        train_documents.append(TaggedDocument(words = train_X[index], tags = y_list))\n",
        "        \n",
        "    # Append the test labels to the back of the test sentences\n",
        "    for index in range(0,len(test_X)):\n",
        "        y_list = []\n",
        "        y_list.append(test_y[index])                      \n",
        "        test_documents.append(TaggedDocument(words = test_X[index], tags = y_list))\n",
        "    \n",
        "    return train_documents, test_documents"
      ],
      "execution_count": 124,
      "outputs": []
    },
    {
      "cell_type": "markdown",
      "metadata": {
        "id": "rBmNBdt19EC2"
      },
      "source": [
        "<p>Let us create the training and testing documents using the above function.</p>"
      ]
    },
    {
      "cell_type": "code",
      "metadata": {
        "id": "RpokdN8W9EC2"
      },
      "source": [
        "train_documents, test_documents = create_train_test_documents(train_X=train_X, \n",
        "                                                              test_X=test_X, \n",
        "                                                              train_y=train_y, \n",
        "                                                              test_y=test_y)"
      ],
      "execution_count": 125,
      "outputs": []
    },
    {
      "cell_type": "code",
      "metadata": {
        "scrolled": true,
        "id": "eBLMCj7D9EC2",
        "outputId": "937c36f5-41f0-4d83-8371-013ed50efe9d"
      },
      "source": [
        "# train_documents"
      ],
      "execution_count": 78,
      "outputs": []
    },
    {
      "cell_type": "code",
      "metadata": {
        "id": "QCpf2xhh9EC3",
        "outputId": "74475502-36c9-44d1-f1c0-58310b2d7edd"
      },
      "source": [
        "# test_documents"
      ],
      "execution_count": 79,
      "outputs": []
    },
    {
      "cell_type": "markdown",
      "metadata": {
        "id": "UQWYBaY29EC4"
      },
      "source": [
        "<p>Next, we initialize the gensim doc2vec model and train for 20 epochs. In here dm=1 means that the PV-DM (Distributed Memory Model of Paragraph Vectors) was used and the vector_size (dimensionality of the feature vector) was used as 300. Number of cores of the cpu of the machine was retrieved and assigned to workers in order to do parallel processing. Information about the other parameters can be found here <a href=\"https://radimrehurek.com/gensim/models/doc2vec.html\">https://radimrehurek.com/gensim/models/doc2vec.html</a></p>"
      ]
    },
    {
      "cell_type": "code",
      "metadata": {
        "id": "ykLrh5Bf9EC4",
        "outputId": "5e78f90c-d787-42c1-a806-c3f667c9dddf"
      },
      "source": [
        "# Retieving the number of cpu cores\n",
        "cores = multiprocessing.cpu_count()\n",
        "\n",
        "# Initialize the distributed bag-of-words model (DBOW) with the parameters discussed above.\n",
        "model_dbow = Doc2Vec(dm=1, vector_size=250, \n",
        "                     negative=5, hs=0, min_count=2, \n",
        "                     sample = 0, workers=cores, \n",
        "                     alpha=0.025, min_alpha=0.001)\n",
        "model_dbow.build_vocab([x for x in tqdm(train_documents)])\n",
        "\n",
        "train_documents  = utils.shuffle(train_documents)\n",
        "model_dbow.train(train_documents,total_examples=len(train_documents), epochs=20)"
      ],
      "execution_count": 126,
      "outputs": [
        {
          "output_type": "stream",
          "name": "stderr",
          "text": [
            "100%|██████████| 2000/2000 [00:00<00:00, 1003422.01it/s]\n"
          ]
        }
      ]
    },
    {
      "cell_type": "markdown",
      "metadata": {
        "id": "kWIvxUK59EC4"
      },
      "source": [
        "<p>Below function named <b>vector_for_learning(model, input_docs)</b> take the created doc2vec model and the input documents to get the feature vectors ro be fed to the logisitic regression model.</p>"
      ]
    },
    {
      "cell_type": "code",
      "metadata": {
        "id": "xd6XKyzU9EC5"
      },
      "source": [
        "# Define a function to create vectors to  passed to logistic regression model\n",
        "def vector_for_learning(model, input_docs):\n",
        "    sents = input_docs\n",
        "    targets, feature_vectors = zip(*[(doc.tags[0], model.infer_vector(doc.words, steps=20)) for doc in sents])\n",
        "    return targets, feature_vectors"
      ],
      "execution_count": 127,
      "outputs": []
    },
    {
      "cell_type": "markdown",
      "metadata": {
        "id": "iTBslEue9EC5"
      },
      "source": [
        "<p>Let us get the feature vactors for training and testing sets using the above function as shown below.</p>"
      ]
    },
    {
      "cell_type": "code",
      "metadata": {
        "id": "IUcGzsfS9EC5"
      },
      "source": [
        "y_train, X_train = vector_for_learning(model_dbow, train_documents)\n",
        "y_test, X_test = vector_for_learning(model_dbow, test_documents)"
      ],
      "execution_count": 128,
      "outputs": []
    },
    {
      "cell_type": "markdown",
      "metadata": {
        "id": "9hUjrLmk9EC5"
      },
      "source": [
        "<p>Let us apply Logistic Regression to the dataset as shown below by passing the features created previously and the train labels the full dataset.</p>"
      ]
    },
    {
      "cell_type": "code",
      "metadata": {
        "id": "NtUeOijP9EC5",
        "outputId": "f17d33eb-e5ea-415f-9377-7ac376a2ed15"
      },
      "source": [
        "logistic_regression_model_doc2vec = train_logistic_regression_model(features=X_train, labels=y_train)"
      ],
      "execution_count": 129,
      "outputs": [
        {
          "output_type": "stream",
          "name": "stdout",
          "text": [
            "Training the logistic regression model...\nFinished\n"
          ]
        }
      ]
    },
    {
      "cell_type": "markdown",
      "metadata": {
        "id": "jBacJwpg9EC5"
      },
      "source": [
        "<p>Let us apply the above function to evaluate the model with test data as below.</p>"
      ]
    },
    {
      "cell_type": "code",
      "metadata": {
        "id": "PztPyNhQ9EC6",
        "outputId": "53d4fb69-4d91-490d-ad95-2c4e2388d2ba"
      },
      "source": [
        "predicted_y_doc2vec = predict_logistic_regression_model(test_X=X_test, \n",
        "                                                        test_y=y_test, \n",
        "                                                        vectorizer=None, \n",
        "                                                        logistic_regression_model=logistic_regression_model_doc2vec)"
      ],
      "execution_count": 130,
      "outputs": [
        {
          "output_type": "stream",
          "name": "stdout",
          "text": [
            "Predictions: \n['YES' 'YES' 'NO' 'NO' 'NO' 'YES' 'YES' 'NO' 'NO' 'NO' 'NO' 'YES' 'NO'\n 'NO' 'NO' 'NO' 'NO' 'NO' 'YES' 'NO' 'NO' 'NO' 'NO' 'NO' 'NO' 'YES' 'YES'\n 'NO' 'NO' 'YES' 'NO' 'YES' 'YES' 'NO' 'NO' 'NO' 'NO' 'YES' 'YES' 'NO'\n 'NO' 'YES' 'NO' 'NO' 'YES' 'NO' 'NO' 'NO' 'NO' 'NO' 'NO' 'NO' 'NO' 'NO'\n 'NO' 'YES' 'NO' 'NO' 'YES' 'NO' 'NO' 'NO' 'NO' 'YES' 'YES' 'YES' 'YES'\n 'YES' 'YES' 'NO' 'NO' 'YES' 'NO' 'YES' 'NO' 'YES' 'YES' 'NO' 'NO' 'NO'\n 'YES' 'NO' 'YES' 'YES' 'NO' 'YES' 'NO' 'NO' 'YES' 'YES' 'YES' 'NO' 'YES'\n 'NO' 'YES' 'NO' 'NO' 'YES' 'NO' 'NO' 'NO' 'YES' 'NO' 'NO' 'NO' 'NO' 'YES'\n 'NO' 'YES' 'NO' 'NO' 'NO' 'NO' 'NO' 'NO' 'YES' 'NO' 'NO' 'NO' 'NO' 'YES'\n 'YES' 'NO' 'NO' 'YES' 'NO' 'YES' 'NO' 'YES' 'YES' 'NO' 'YES' 'NO' 'NO'\n 'YES' 'NO' 'NO' 'NO' 'YES' 'YES' 'YES' 'NO' 'YES' 'NO' 'YES' 'NO' 'YES'\n 'NO' 'NO' 'YES' 'NO' 'NO' 'NO' 'NO' 'YES' 'YES' 'YES' 'NO' 'NO' 'NO'\n 'YES' 'YES' 'NO' 'NO' 'NO' 'YES' 'NO' 'YES' 'NO' 'NO' 'NO' 'YES' 'YES'\n 'NO' 'NO' 'YES' 'YES' 'YES' 'NO' 'NO' 'NO' 'YES' 'NO' 'NO' 'YES' 'YES'\n 'YES' 'NO' 'NO' 'NO' 'NO' 'NO' 'YES' 'YES' 'NO' 'YES' 'NO' 'NO' 'NO' 'NO'\n 'NO' 'NO' 'NO' 'NO' 'NO' 'NO' 'YES' 'NO' 'NO' 'YES' 'NO' 'NO' 'NO' 'NO'\n 'YES' 'YES' 'NO' 'NO' 'NO' 'YES' 'YES' 'YES' 'YES' 'NO' 'YES' 'YES' 'NO'\n 'YES' 'NO' 'NO' 'NO' 'NO' 'YES' 'YES' 'NO' 'NO' 'NO' 'NO' 'NO' 'NO' 'NO'\n 'NO' 'YES' 'NO' 'NO' 'YES' 'NO' 'YES' 'NO' 'YES' 'NO' 'NO' 'NO' 'YES'\n 'YES' 'YES' 'YES' 'NO' 'YES' 'NO' 'NO' 'NO' 'NO' 'NO' 'NO' 'YES' 'NO'\n 'NO' 'NO' 'YES' 'NO' 'NO' 'YES' 'YES' 'NO' 'NO' 'NO' 'YES' 'NO' 'NO' 'NO'\n 'NO' 'NO' 'NO' 'NO' 'YES' 'NO' 'NO' 'NO' 'NO' 'NO' 'NO' 'NO' 'NO' 'YES'\n 'YES' 'NO' 'YES' 'YES' 'NO' 'YES' 'NO' 'NO' 'NO' 'NO' 'YES' 'YES' 'NO'\n 'NO' 'NO' 'NO' 'NO' 'NO' 'YES' 'NO' 'YES' 'NO' 'YES' 'NO' 'NO' 'NO' 'NO'\n 'NO' 'NO' 'NO' 'YES' 'YES' 'NO' 'YES' 'YES' 'NO' 'NO' 'YES' 'NO' 'NO'\n 'YES' 'YES' 'YES' 'NO' 'YES' 'NO' 'YES' 'NO' 'YES' 'YES' 'YES' 'NO' 'YES'\n 'YES' 'NO' 'NO' 'YES' 'NO' 'NO' 'YES' 'YES' 'NO' 'YES' 'YES' 'YES' 'NO'\n 'YES' 'NO' 'YES' 'NO' 'YES' 'YES' 'NO' 'NO' 'YES' 'YES' 'NO' 'YES' 'NO'\n 'NO' 'YES' 'NO' 'NO' 'NO' 'NO' 'NO' 'NO' 'NO' 'NO' 'NO' 'NO' 'NO' 'YES'\n 'YES' 'NO' 'NO' 'NO' 'YES' 'NO' 'NO' 'YES' 'NO' 'NO' 'NO' 'NO' 'NO' 'NO'\n 'NO' 'YES' 'NO' 'YES' 'YES' 'NO' 'NO' 'NO' 'NO' 'YES' 'NO' 'NO' 'YES'\n 'NO' 'NO' 'NO' 'NO' 'YES' 'NO' 'NO' 'NO' 'YES' 'NO' 'YES' 'YES' 'YES'\n 'YES' 'NO' 'NO' 'NO' 'NO' 'YES' 'YES' 'YES' 'YES' 'YES' 'NO' 'YES' 'NO'\n 'NO' 'NO' 'YES' 'YES' 'NO' 'NO' 'NO' 'NO' 'NO' 'YES' 'YES' 'YES' 'YES'\n 'NO' 'NO' 'YES' 'NO' 'YES' 'NO' 'NO' 'NO' 'YES' 'NO' 'NO' 'NO' 'NO' 'NO'\n 'YES' 'YES' 'YES' 'NO' 'YES' 'YES' 'NO' 'NO' 'YES' 'NO' 'YES' 'NO' 'YES'\n 'YES' 'NO' 'YES' 'YES' 'NO' 'YES' 'NO' 'YES' 'YES' 'YES' 'NO' 'NO' 'NO'\n 'NO' 'NO' 'YES' 'NO' 'YES' 'NO']\n\n\nAccuracy = 73%\n"
          ]
        }
      ]
    },
    {
      "cell_type": "markdown",
      "metadata": {
        "id": "nGxOHyGq9EC6"
      },
      "source": [
        "<p>Let us get the confusion matrix and the performance measures for this model.</p>"
      ]
    },
    {
      "cell_type": "code",
      "metadata": {
        "id": "o_aqNNnk9EC6",
        "outputId": "dbc55ed9-d484-455a-ff53-9b0f98ea3087"
      },
      "source": [
        "get_metrics(true_labels=test_y, predicted_labels=predicted_y_doc2vec)"
      ],
      "execution_count": 131,
      "outputs": [
        {
          "output_type": "display_data",
          "data": {
            "text/plain": "<Figure size 432x288 with 2 Axes>",
            "image/svg+xml": "<?xml version=\"1.0\" encoding=\"utf-8\" standalone=\"no\"?>\r\n<!DOCTYPE svg PUBLIC \"-//W3C//DTD SVG 1.1//EN\"\r\n  \"http://www.w3.org/Graphics/SVG/1.1/DTD/svg11.dtd\">\r\n<!-- Created with matplotlib (https://matplotlib.org/) -->\r\n<svg height=\"277.314375pt\" version=\"1.1\" viewBox=\"0 0 366.29575 277.314375\" width=\"366.29575pt\" xmlns=\"http://www.w3.org/2000/svg\" xmlns:xlink=\"http://www.w3.org/1999/xlink\">\r\n <defs>\r\n  <style type=\"text/css\">\r\n*{stroke-linecap:butt;stroke-linejoin:round;}\r\n  </style>\r\n </defs>\r\n <g id=\"figure_1\">\r\n  <g id=\"patch_1\">\r\n   <path d=\"M 0 277.314375 \r\nL 366.29575 277.314375 \r\nL 366.29575 0 \r\nL 0 0 \r\nz\r\n\" style=\"fill:none;\"/>\r\n  </g>\r\n  <g id=\"axes_1\">\r\n   <g id=\"patch_2\">\r\n    <path d=\"M 37.55625 239.758125 \r\nL 305.39625 239.758125 \r\nL 305.39625 22.318125 \r\nL 37.55625 22.318125 \r\nz\r\n\" style=\"fill:#ffffff;\"/>\r\n   </g>\r\n   <g id=\"QuadMesh_1\">\r\n    <path clip-path=\"url(#pf596cdc1ff)\" d=\"M 37.55625 22.318125 \r\nL 171.47625 22.318125 \r\nL 171.47625 131.038125 \r\nL 37.55625 131.038125 \r\nL 37.55625 22.318125 \r\n\" style=\"fill:#faebdd;\"/>\r\n    <path clip-path=\"url(#pf596cdc1ff)\" d=\"M 171.47625 22.318125 \r\nL 305.39625 22.318125 \r\nL 305.39625 131.038125 \r\nL 171.47625 131.038125 \r\nL 171.47625 22.318125 \r\n\" style=\"fill:#03051a;\"/>\r\n    <path clip-path=\"url(#pf596cdc1ff)\" d=\"M 37.55625 131.038125 \r\nL 171.47625 131.038125 \r\nL 171.47625 239.758125 \r\nL 37.55625 239.758125 \r\nL 37.55625 131.038125 \r\n\" style=\"fill:#4b1d4a;\"/>\r\n    <path clip-path=\"url(#pf596cdc1ff)\" d=\"M 171.47625 131.038125 \r\nL 305.39625 131.038125 \r\nL 305.39625 239.758125 \r\nL 171.47625 239.758125 \r\nL 171.47625 131.038125 \r\n\" style=\"fill:#cd1c4e;\"/>\r\n   </g>\r\n   <g id=\"matplotlib.axis_1\">\r\n    <g id=\"xtick_1\">\r\n     <g id=\"line2d_1\">\r\n      <defs>\r\n       <path d=\"M 0 0 \r\nL 0 3.5 \r\n\" id=\"m678a2d40a3\" style=\"stroke:#000000;stroke-width:0.8;\"/>\r\n      </defs>\r\n      <g>\r\n       <use style=\"stroke:#000000;stroke-width:0.8;\" x=\"104.51625\" xlink:href=\"#m678a2d40a3\" y=\"239.758125\"/>\r\n      </g>\r\n     </g>\r\n     <g id=\"text_1\">\r\n      <!-- YES -->\r\n      <defs>\r\n       <path d=\"M -0.203125 72.90625 \r\nL 10.40625 72.90625 \r\nL 30.609375 42.921875 \r\nL 50.6875 72.90625 \r\nL 61.28125 72.90625 \r\nL 35.5 34.71875 \r\nL 35.5 0 \r\nL 25.59375 0 \r\nL 25.59375 34.71875 \r\nz\r\n\" id=\"DejaVuSans-89\"/>\r\n       <path d=\"M 9.8125 72.90625 \r\nL 55.90625 72.90625 \r\nL 55.90625 64.59375 \r\nL 19.671875 64.59375 \r\nL 19.671875 43.015625 \r\nL 54.390625 43.015625 \r\nL 54.390625 34.71875 \r\nL 19.671875 34.71875 \r\nL 19.671875 8.296875 \r\nL 56.78125 8.296875 \r\nL 56.78125 0 \r\nL 9.8125 0 \r\nz\r\n\" id=\"DejaVuSans-69\"/>\r\n       <path d=\"M 53.515625 70.515625 \r\nL 53.515625 60.890625 \r\nQ 47.90625 63.578125 42.921875 64.890625 \r\nQ 37.9375 66.21875 33.296875 66.21875 \r\nQ 25.25 66.21875 20.875 63.09375 \r\nQ 16.5 59.96875 16.5 54.203125 \r\nQ 16.5 49.359375 19.40625 46.890625 \r\nQ 22.3125 44.4375 30.421875 42.921875 \r\nL 36.375 41.703125 \r\nQ 47.40625 39.59375 52.65625 34.296875 \r\nQ 57.90625 29 57.90625 20.125 \r\nQ 57.90625 9.515625 50.796875 4.046875 \r\nQ 43.703125 -1.421875 29.984375 -1.421875 \r\nQ 24.8125 -1.421875 18.96875 -0.25 \r\nQ 13.140625 0.921875 6.890625 3.21875 \r\nL 6.890625 13.375 \r\nQ 12.890625 10.015625 18.65625 8.296875 \r\nQ 24.421875 6.59375 29.984375 6.59375 \r\nQ 38.421875 6.59375 43.015625 9.90625 \r\nQ 47.609375 13.234375 47.609375 19.390625 \r\nQ 47.609375 24.75 44.3125 27.78125 \r\nQ 41.015625 30.8125 33.5 32.328125 \r\nL 27.484375 33.5 \r\nQ 16.453125 35.6875 11.515625 40.375 \r\nQ 6.59375 45.0625 6.59375 53.421875 \r\nQ 6.59375 63.09375 13.40625 68.65625 \r\nQ 20.21875 74.21875 32.171875 74.21875 \r\nQ 37.3125 74.21875 42.625 73.28125 \r\nQ 47.953125 72.359375 53.515625 70.515625 \r\nz\r\n\" id=\"DejaVuSans-83\"/>\r\n      </defs>\r\n      <g transform=\"translate(95.12875 254.356562)scale(0.1 -0.1)\">\r\n       <use xlink:href=\"#DejaVuSans-89\"/>\r\n       <use x=\"61.083984\" xlink:href=\"#DejaVuSans-69\"/>\r\n       <use x=\"124.267578\" xlink:href=\"#DejaVuSans-83\"/>\r\n      </g>\r\n     </g>\r\n    </g>\r\n    <g id=\"xtick_2\">\r\n     <g id=\"line2d_2\">\r\n      <g>\r\n       <use style=\"stroke:#000000;stroke-width:0.8;\" x=\"238.43625\" xlink:href=\"#m678a2d40a3\" y=\"239.758125\"/>\r\n      </g>\r\n     </g>\r\n     <g id=\"text_2\">\r\n      <!-- NO -->\r\n      <defs>\r\n       <path d=\"M 9.8125 72.90625 \r\nL 23.09375 72.90625 \r\nL 55.421875 11.921875 \r\nL 55.421875 72.90625 \r\nL 64.984375 72.90625 \r\nL 64.984375 0 \r\nL 51.703125 0 \r\nL 19.390625 60.984375 \r\nL 19.390625 0 \r\nL 9.8125 0 \r\nz\r\n\" id=\"DejaVuSans-78\"/>\r\n       <path d=\"M 39.40625 66.21875 \r\nQ 28.65625 66.21875 22.328125 58.203125 \r\nQ 16.015625 50.203125 16.015625 36.375 \r\nQ 16.015625 22.609375 22.328125 14.59375 \r\nQ 28.65625 6.59375 39.40625 6.59375 \r\nQ 50.140625 6.59375 56.421875 14.59375 \r\nQ 62.703125 22.609375 62.703125 36.375 \r\nQ 62.703125 50.203125 56.421875 58.203125 \r\nQ 50.140625 66.21875 39.40625 66.21875 \r\nz\r\nM 39.40625 74.21875 \r\nQ 54.734375 74.21875 63.90625 63.9375 \r\nQ 73.09375 53.65625 73.09375 36.375 \r\nQ 73.09375 19.140625 63.90625 8.859375 \r\nQ 54.734375 -1.421875 39.40625 -1.421875 \r\nQ 24.03125 -1.421875 14.8125 8.828125 \r\nQ 5.609375 19.09375 5.609375 36.375 \r\nQ 5.609375 53.65625 14.8125 63.9375 \r\nQ 24.03125 74.21875 39.40625 74.21875 \r\nz\r\n\" id=\"DejaVuSans-79\"/>\r\n      </defs>\r\n      <g transform=\"translate(230.759688 254.356562)scale(0.1 -0.1)\">\r\n       <use xlink:href=\"#DejaVuSans-78\"/>\r\n       <use x=\"74.804688\" xlink:href=\"#DejaVuSans-79\"/>\r\n      </g>\r\n     </g>\r\n    </g>\r\n    <g id=\"text_3\">\r\n     <!-- Predicted class -->\r\n     <defs>\r\n      <path d=\"M 19.671875 64.796875 \r\nL 19.671875 37.40625 \r\nL 32.078125 37.40625 \r\nQ 38.96875 37.40625 42.71875 40.96875 \r\nQ 46.484375 44.53125 46.484375 51.125 \r\nQ 46.484375 57.671875 42.71875 61.234375 \r\nQ 38.96875 64.796875 32.078125 64.796875 \r\nz\r\nM 9.8125 72.90625 \r\nL 32.078125 72.90625 \r\nQ 44.34375 72.90625 50.609375 67.359375 \r\nQ 56.890625 61.8125 56.890625 51.125 \r\nQ 56.890625 40.328125 50.609375 34.8125 \r\nQ 44.34375 29.296875 32.078125 29.296875 \r\nL 19.671875 29.296875 \r\nL 19.671875 0 \r\nL 9.8125 0 \r\nz\r\n\" id=\"DejaVuSans-80\"/>\r\n      <path d=\"M 41.109375 46.296875 \r\nQ 39.59375 47.171875 37.8125 47.578125 \r\nQ 36.03125 48 33.890625 48 \r\nQ 26.265625 48 22.1875 43.046875 \r\nQ 18.109375 38.09375 18.109375 28.8125 \r\nL 18.109375 0 \r\nL 9.078125 0 \r\nL 9.078125 54.6875 \r\nL 18.109375 54.6875 \r\nL 18.109375 46.1875 \r\nQ 20.953125 51.171875 25.484375 53.578125 \r\nQ 30.03125 56 36.53125 56 \r\nQ 37.453125 56 38.578125 55.875 \r\nQ 39.703125 55.765625 41.0625 55.515625 \r\nz\r\n\" id=\"DejaVuSans-114\"/>\r\n      <path d=\"M 56.203125 29.59375 \r\nL 56.203125 25.203125 \r\nL 14.890625 25.203125 \r\nQ 15.484375 15.921875 20.484375 11.0625 \r\nQ 25.484375 6.203125 34.421875 6.203125 \r\nQ 39.59375 6.203125 44.453125 7.46875 \r\nQ 49.3125 8.734375 54.109375 11.28125 \r\nL 54.109375 2.78125 \r\nQ 49.265625 0.734375 44.1875 -0.34375 \r\nQ 39.109375 -1.421875 33.890625 -1.421875 \r\nQ 20.796875 -1.421875 13.15625 6.1875 \r\nQ 5.515625 13.8125 5.515625 26.8125 \r\nQ 5.515625 40.234375 12.765625 48.109375 \r\nQ 20.015625 56 32.328125 56 \r\nQ 43.359375 56 49.78125 48.890625 \r\nQ 56.203125 41.796875 56.203125 29.59375 \r\nz\r\nM 47.21875 32.234375 \r\nQ 47.125 39.59375 43.09375 43.984375 \r\nQ 39.0625 48.390625 32.421875 48.390625 \r\nQ 24.90625 48.390625 20.390625 44.140625 \r\nQ 15.875 39.890625 15.1875 32.171875 \r\nz\r\n\" id=\"DejaVuSans-101\"/>\r\n      <path d=\"M 45.40625 46.390625 \r\nL 45.40625 75.984375 \r\nL 54.390625 75.984375 \r\nL 54.390625 0 \r\nL 45.40625 0 \r\nL 45.40625 8.203125 \r\nQ 42.578125 3.328125 38.25 0.953125 \r\nQ 33.9375 -1.421875 27.875 -1.421875 \r\nQ 17.96875 -1.421875 11.734375 6.484375 \r\nQ 5.515625 14.40625 5.515625 27.296875 \r\nQ 5.515625 40.1875 11.734375 48.09375 \r\nQ 17.96875 56 27.875 56 \r\nQ 33.9375 56 38.25 53.625 \r\nQ 42.578125 51.265625 45.40625 46.390625 \r\nz\r\nM 14.796875 27.296875 \r\nQ 14.796875 17.390625 18.875 11.75 \r\nQ 22.953125 6.109375 30.078125 6.109375 \r\nQ 37.203125 6.109375 41.296875 11.75 \r\nQ 45.40625 17.390625 45.40625 27.296875 \r\nQ 45.40625 37.203125 41.296875 42.84375 \r\nQ 37.203125 48.484375 30.078125 48.484375 \r\nQ 22.953125 48.484375 18.875 42.84375 \r\nQ 14.796875 37.203125 14.796875 27.296875 \r\nz\r\n\" id=\"DejaVuSans-100\"/>\r\n      <path d=\"M 9.421875 54.6875 \r\nL 18.40625 54.6875 \r\nL 18.40625 0 \r\nL 9.421875 0 \r\nz\r\nM 9.421875 75.984375 \r\nL 18.40625 75.984375 \r\nL 18.40625 64.59375 \r\nL 9.421875 64.59375 \r\nz\r\n\" id=\"DejaVuSans-105\"/>\r\n      <path d=\"M 48.78125 52.59375 \r\nL 48.78125 44.1875 \r\nQ 44.96875 46.296875 41.140625 47.34375 \r\nQ 37.3125 48.390625 33.40625 48.390625 \r\nQ 24.65625 48.390625 19.8125 42.84375 \r\nQ 14.984375 37.3125 14.984375 27.296875 \r\nQ 14.984375 17.28125 19.8125 11.734375 \r\nQ 24.65625 6.203125 33.40625 6.203125 \r\nQ 37.3125 6.203125 41.140625 7.25 \r\nQ 44.96875 8.296875 48.78125 10.40625 \r\nL 48.78125 2.09375 \r\nQ 45.015625 0.34375 40.984375 -0.53125 \r\nQ 36.96875 -1.421875 32.421875 -1.421875 \r\nQ 20.0625 -1.421875 12.78125 6.34375 \r\nQ 5.515625 14.109375 5.515625 27.296875 \r\nQ 5.515625 40.671875 12.859375 48.328125 \r\nQ 20.21875 56 33.015625 56 \r\nQ 37.15625 56 41.109375 55.140625 \r\nQ 45.0625 54.296875 48.78125 52.59375 \r\nz\r\n\" id=\"DejaVuSans-99\"/>\r\n      <path d=\"M 18.3125 70.21875 \r\nL 18.3125 54.6875 \r\nL 36.8125 54.6875 \r\nL 36.8125 47.703125 \r\nL 18.3125 47.703125 \r\nL 18.3125 18.015625 \r\nQ 18.3125 11.328125 20.140625 9.421875 \r\nQ 21.96875 7.515625 27.59375 7.515625 \r\nL 36.8125 7.515625 \r\nL 36.8125 0 \r\nL 27.59375 0 \r\nQ 17.1875 0 13.234375 3.875 \r\nQ 9.28125 7.765625 9.28125 18.015625 \r\nL 9.28125 47.703125 \r\nL 2.6875 47.703125 \r\nL 2.6875 54.6875 \r\nL 9.28125 54.6875 \r\nL 9.28125 70.21875 \r\nz\r\n\" id=\"DejaVuSans-116\"/>\r\n      <path id=\"DejaVuSans-32\"/>\r\n      <path d=\"M 9.421875 75.984375 \r\nL 18.40625 75.984375 \r\nL 18.40625 0 \r\nL 9.421875 0 \r\nz\r\n\" id=\"DejaVuSans-108\"/>\r\n      <path d=\"M 34.28125 27.484375 \r\nQ 23.390625 27.484375 19.1875 25 \r\nQ 14.984375 22.515625 14.984375 16.5 \r\nQ 14.984375 11.71875 18.140625 8.90625 \r\nQ 21.296875 6.109375 26.703125 6.109375 \r\nQ 34.1875 6.109375 38.703125 11.40625 \r\nQ 43.21875 16.703125 43.21875 25.484375 \r\nL 43.21875 27.484375 \r\nz\r\nM 52.203125 31.203125 \r\nL 52.203125 0 \r\nL 43.21875 0 \r\nL 43.21875 8.296875 \r\nQ 40.140625 3.328125 35.546875 0.953125 \r\nQ 30.953125 -1.421875 24.3125 -1.421875 \r\nQ 15.921875 -1.421875 10.953125 3.296875 \r\nQ 6 8.015625 6 15.921875 \r\nQ 6 25.140625 12.171875 29.828125 \r\nQ 18.359375 34.515625 30.609375 34.515625 \r\nL 43.21875 34.515625 \r\nL 43.21875 35.40625 \r\nQ 43.21875 41.609375 39.140625 45 \r\nQ 35.0625 48.390625 27.6875 48.390625 \r\nQ 23 48.390625 18.546875 47.265625 \r\nQ 14.109375 46.140625 10.015625 43.890625 \r\nL 10.015625 52.203125 \r\nQ 14.9375 54.109375 19.578125 55.046875 \r\nQ 24.21875 56 28.609375 56 \r\nQ 40.484375 56 46.34375 49.84375 \r\nQ 52.203125 43.703125 52.203125 31.203125 \r\nz\r\n\" id=\"DejaVuSans-97\"/>\r\n      <path d=\"M 44.28125 53.078125 \r\nL 44.28125 44.578125 \r\nQ 40.484375 46.53125 36.375 47.5 \r\nQ 32.28125 48.484375 27.875 48.484375 \r\nQ 21.1875 48.484375 17.84375 46.4375 \r\nQ 14.5 44.390625 14.5 40.28125 \r\nQ 14.5 37.15625 16.890625 35.375 \r\nQ 19.28125 33.59375 26.515625 31.984375 \r\nL 29.59375 31.296875 \r\nQ 39.15625 29.25 43.1875 25.515625 \r\nQ 47.21875 21.78125 47.21875 15.09375 \r\nQ 47.21875 7.46875 41.1875 3.015625 \r\nQ 35.15625 -1.421875 24.609375 -1.421875 \r\nQ 20.21875 -1.421875 15.453125 -0.5625 \r\nQ 10.6875 0.296875 5.421875 2 \r\nL 5.421875 11.28125 \r\nQ 10.40625 8.6875 15.234375 7.390625 \r\nQ 20.0625 6.109375 24.8125 6.109375 \r\nQ 31.15625 6.109375 34.5625 8.28125 \r\nQ 37.984375 10.453125 37.984375 14.40625 \r\nQ 37.984375 18.0625 35.515625 20.015625 \r\nQ 33.0625 21.96875 24.703125 23.78125 \r\nL 21.578125 24.515625 \r\nQ 13.234375 26.265625 9.515625 29.90625 \r\nQ 5.8125 33.546875 5.8125 39.890625 \r\nQ 5.8125 47.609375 11.28125 51.796875 \r\nQ 16.75 56 26.8125 56 \r\nQ 31.78125 56 36.171875 55.265625 \r\nQ 40.578125 54.546875 44.28125 53.078125 \r\nz\r\n\" id=\"DejaVuSans-115\"/>\r\n     </defs>\r\n     <g transform=\"translate(133.8075 268.034687)scale(0.1 -0.1)\">\r\n      <use xlink:href=\"#DejaVuSans-80\"/>\r\n      <use x=\"60.287109\" xlink:href=\"#DejaVuSans-114\"/>\r\n      <use x=\"101.369141\" xlink:href=\"#DejaVuSans-101\"/>\r\n      <use x=\"162.892578\" xlink:href=\"#DejaVuSans-100\"/>\r\n      <use x=\"226.369141\" xlink:href=\"#DejaVuSans-105\"/>\r\n      <use x=\"254.152344\" xlink:href=\"#DejaVuSans-99\"/>\r\n      <use x=\"309.132812\" xlink:href=\"#DejaVuSans-116\"/>\r\n      <use x=\"348.341797\" xlink:href=\"#DejaVuSans-101\"/>\r\n      <use x=\"409.865234\" xlink:href=\"#DejaVuSans-100\"/>\r\n      <use x=\"473.341797\" xlink:href=\"#DejaVuSans-32\"/>\r\n      <use x=\"505.128906\" xlink:href=\"#DejaVuSans-99\"/>\r\n      <use x=\"560.109375\" xlink:href=\"#DejaVuSans-108\"/>\r\n      <use x=\"587.892578\" xlink:href=\"#DejaVuSans-97\"/>\r\n      <use x=\"649.171875\" xlink:href=\"#DejaVuSans-115\"/>\r\n      <use x=\"701.271484\" xlink:href=\"#DejaVuSans-115\"/>\r\n     </g>\r\n    </g>\r\n   </g>\r\n   <g id=\"matplotlib.axis_2\">\r\n    <g id=\"ytick_1\">\r\n     <g id=\"line2d_3\">\r\n      <defs>\r\n       <path d=\"M 0 0 \r\nL -3.5 0 \r\n\" id=\"mc5b956d365\" style=\"stroke:#000000;stroke-width:0.8;\"/>\r\n      </defs>\r\n      <g>\r\n       <use style=\"stroke:#000000;stroke-width:0.8;\" x=\"37.55625\" xlink:href=\"#mc5b956d365\" y=\"76.678125\"/>\r\n      </g>\r\n     </g>\r\n     <g id=\"text_4\">\r\n      <!-- YES -->\r\n      <g transform=\"translate(28.476563 91.653906)rotate(-90)scale(0.1 -0.1)\">\r\n       <use xlink:href=\"#DejaVuSans-89\"/>\r\n       <use x=\"61.083984\" xlink:href=\"#DejaVuSans-69\"/>\r\n       <use x=\"124.267578\" xlink:href=\"#DejaVuSans-83\"/>\r\n      </g>\r\n     </g>\r\n    </g>\r\n    <g id=\"ytick_2\">\r\n     <g id=\"line2d_4\">\r\n      <g>\r\n       <use style=\"stroke:#000000;stroke-width:0.8;\" x=\"37.55625\" xlink:href=\"#mc5b956d365\" y=\"185.398125\"/>\r\n      </g>\r\n     </g>\r\n     <g id=\"text_5\">\r\n      <!-- NO -->\r\n      <g transform=\"translate(28.476563 196.952031)rotate(-90)scale(0.1 -0.1)\">\r\n       <use xlink:href=\"#DejaVuSans-78\"/>\r\n       <use x=\"74.804688\" xlink:href=\"#DejaVuSans-79\"/>\r\n      </g>\r\n     </g>\r\n    </g>\r\n    <g id=\"text_6\">\r\n     <!-- Actual Class -->\r\n     <defs>\r\n      <path d=\"M 34.1875 63.1875 \r\nL 20.796875 26.90625 \r\nL 47.609375 26.90625 \r\nz\r\nM 28.609375 72.90625 \r\nL 39.796875 72.90625 \r\nL 67.578125 0 \r\nL 57.328125 0 \r\nL 50.6875 18.703125 \r\nL 17.828125 18.703125 \r\nL 11.1875 0 \r\nL 0.78125 0 \r\nz\r\n\" id=\"DejaVuSans-65\"/>\r\n      <path d=\"M 8.5 21.578125 \r\nL 8.5 54.6875 \r\nL 17.484375 54.6875 \r\nL 17.484375 21.921875 \r\nQ 17.484375 14.15625 20.5 10.265625 \r\nQ 23.53125 6.390625 29.59375 6.390625 \r\nQ 36.859375 6.390625 41.078125 11.03125 \r\nQ 45.3125 15.671875 45.3125 23.6875 \r\nL 45.3125 54.6875 \r\nL 54.296875 54.6875 \r\nL 54.296875 0 \r\nL 45.3125 0 \r\nL 45.3125 8.40625 \r\nQ 42.046875 3.421875 37.71875 1 \r\nQ 33.40625 -1.421875 27.6875 -1.421875 \r\nQ 18.265625 -1.421875 13.375 4.4375 \r\nQ 8.5 10.296875 8.5 21.578125 \r\nz\r\nM 31.109375 56 \r\nz\r\n\" id=\"DejaVuSans-117\"/>\r\n      <path d=\"M 64.40625 67.28125 \r\nL 64.40625 56.890625 \r\nQ 59.421875 61.53125 53.78125 63.8125 \r\nQ 48.140625 66.109375 41.796875 66.109375 \r\nQ 29.296875 66.109375 22.65625 58.46875 \r\nQ 16.015625 50.828125 16.015625 36.375 \r\nQ 16.015625 21.96875 22.65625 14.328125 \r\nQ 29.296875 6.6875 41.796875 6.6875 \r\nQ 48.140625 6.6875 53.78125 8.984375 \r\nQ 59.421875 11.28125 64.40625 15.921875 \r\nL 64.40625 5.609375 \r\nQ 59.234375 2.09375 53.4375 0.328125 \r\nQ 47.65625 -1.421875 41.21875 -1.421875 \r\nQ 24.65625 -1.421875 15.125 8.703125 \r\nQ 5.609375 18.84375 5.609375 36.375 \r\nQ 5.609375 53.953125 15.125 64.078125 \r\nQ 24.65625 74.21875 41.21875 74.21875 \r\nQ 47.75 74.21875 53.53125 72.484375 \r\nQ 59.328125 70.75 64.40625 67.28125 \r\nz\r\n\" id=\"DejaVuSans-67\"/>\r\n     </defs>\r\n     <g transform=\"translate(14.798438 161.531875)rotate(-90)scale(0.1 -0.1)\">\r\n      <use xlink:href=\"#DejaVuSans-65\"/>\r\n      <use x=\"68.392578\" xlink:href=\"#DejaVuSans-99\"/>\r\n      <use x=\"123.373047\" xlink:href=\"#DejaVuSans-116\"/>\r\n      <use x=\"162.582031\" xlink:href=\"#DejaVuSans-117\"/>\r\n      <use x=\"225.960938\" xlink:href=\"#DejaVuSans-97\"/>\r\n      <use x=\"287.240234\" xlink:href=\"#DejaVuSans-108\"/>\r\n      <use x=\"315.023438\" xlink:href=\"#DejaVuSans-32\"/>\r\n      <use x=\"346.810547\" xlink:href=\"#DejaVuSans-67\"/>\r\n      <use x=\"416.634766\" xlink:href=\"#DejaVuSans-108\"/>\r\n      <use x=\"444.417969\" xlink:href=\"#DejaVuSans-97\"/>\r\n      <use x=\"505.697266\" xlink:href=\"#DejaVuSans-115\"/>\r\n      <use x=\"557.796875\" xlink:href=\"#DejaVuSans-115\"/>\r\n     </g>\r\n    </g>\r\n   </g>\r\n   <g id=\"text_7\">\r\n    <!-- 226 -->\r\n    <defs>\r\n     <path d=\"M 19.1875 8.296875 \r\nL 53.609375 8.296875 \r\nL 53.609375 0 \r\nL 7.328125 0 \r\nL 7.328125 8.296875 \r\nQ 12.9375 14.109375 22.625 23.890625 \r\nQ 32.328125 33.6875 34.8125 36.53125 \r\nQ 39.546875 41.84375 41.421875 45.53125 \r\nQ 43.3125 49.21875 43.3125 52.78125 \r\nQ 43.3125 58.59375 39.234375 62.25 \r\nQ 35.15625 65.921875 28.609375 65.921875 \r\nQ 23.96875 65.921875 18.8125 64.3125 \r\nQ 13.671875 62.703125 7.8125 59.421875 \r\nL 7.8125 69.390625 \r\nQ 13.765625 71.78125 18.9375 73 \r\nQ 24.125 74.21875 28.421875 74.21875 \r\nQ 39.75 74.21875 46.484375 68.546875 \r\nQ 53.21875 62.890625 53.21875 53.421875 \r\nQ 53.21875 48.921875 51.53125 44.890625 \r\nQ 49.859375 40.875 45.40625 35.40625 \r\nQ 44.1875 33.984375 37.640625 27.21875 \r\nQ 31.109375 20.453125 19.1875 8.296875 \r\nz\r\n\" id=\"DejaVuSans-50\"/>\r\n     <path d=\"M 33.015625 40.375 \r\nQ 26.375 40.375 22.484375 35.828125 \r\nQ 18.609375 31.296875 18.609375 23.390625 \r\nQ 18.609375 15.53125 22.484375 10.953125 \r\nQ 26.375 6.390625 33.015625 6.390625 \r\nQ 39.65625 6.390625 43.53125 10.953125 \r\nQ 47.40625 15.53125 47.40625 23.390625 \r\nQ 47.40625 31.296875 43.53125 35.828125 \r\nQ 39.65625 40.375 33.015625 40.375 \r\nz\r\nM 52.59375 71.296875 \r\nL 52.59375 62.3125 \r\nQ 48.875 64.0625 45.09375 64.984375 \r\nQ 41.3125 65.921875 37.59375 65.921875 \r\nQ 27.828125 65.921875 22.671875 59.328125 \r\nQ 17.53125 52.734375 16.796875 39.40625 \r\nQ 19.671875 43.65625 24.015625 45.921875 \r\nQ 28.375 48.1875 33.59375 48.1875 \r\nQ 44.578125 48.1875 50.953125 41.515625 \r\nQ 57.328125 34.859375 57.328125 23.390625 \r\nQ 57.328125 12.15625 50.6875 5.359375 \r\nQ 44.046875 -1.421875 33.015625 -1.421875 \r\nQ 20.359375 -1.421875 13.671875 8.265625 \r\nQ 6.984375 17.96875 6.984375 36.375 \r\nQ 6.984375 53.65625 15.1875 63.9375 \r\nQ 23.390625 74.21875 37.203125 74.21875 \r\nQ 40.921875 74.21875 44.703125 73.484375 \r\nQ 48.484375 72.75 52.59375 71.296875 \r\nz\r\n\" id=\"DejaVuSans-54\"/>\r\n    </defs>\r\n    <g style=\"fill:#262626;\" transform=\"translate(94.9725 79.4375)scale(0.1 -0.1)\">\r\n     <use xlink:href=\"#DejaVuSans-50\"/>\r\n     <use x=\"63.623047\" xlink:href=\"#DejaVuSans-50\"/>\r\n     <use x=\"127.246094\" xlink:href=\"#DejaVuSans-54\"/>\r\n    </g>\r\n   </g>\r\n   <g id=\"text_8\">\r\n    <!-- 50 -->\r\n    <defs>\r\n     <path d=\"M 10.796875 72.90625 \r\nL 49.515625 72.90625 \r\nL 49.515625 64.59375 \r\nL 19.828125 64.59375 \r\nL 19.828125 46.734375 \r\nQ 21.96875 47.46875 24.109375 47.828125 \r\nQ 26.265625 48.1875 28.421875 48.1875 \r\nQ 40.625 48.1875 47.75 41.5 \r\nQ 54.890625 34.8125 54.890625 23.390625 \r\nQ 54.890625 11.625 47.5625 5.09375 \r\nQ 40.234375 -1.421875 26.90625 -1.421875 \r\nQ 22.3125 -1.421875 17.546875 -0.640625 \r\nQ 12.796875 0.140625 7.71875 1.703125 \r\nL 7.71875 11.625 \r\nQ 12.109375 9.234375 16.796875 8.0625 \r\nQ 21.484375 6.890625 26.703125 6.890625 \r\nQ 35.15625 6.890625 40.078125 11.328125 \r\nQ 45.015625 15.765625 45.015625 23.390625 \r\nQ 45.015625 31 40.078125 35.4375 \r\nQ 35.15625 39.890625 26.703125 39.890625 \r\nQ 22.75 39.890625 18.8125 39.015625 \r\nQ 14.890625 38.140625 10.796875 36.28125 \r\nz\r\n\" id=\"DejaVuSans-53\"/>\r\n     <path d=\"M 31.78125 66.40625 \r\nQ 24.171875 66.40625 20.328125 58.90625 \r\nQ 16.5 51.421875 16.5 36.375 \r\nQ 16.5 21.390625 20.328125 13.890625 \r\nQ 24.171875 6.390625 31.78125 6.390625 \r\nQ 39.453125 6.390625 43.28125 13.890625 \r\nQ 47.125 21.390625 47.125 36.375 \r\nQ 47.125 51.421875 43.28125 58.90625 \r\nQ 39.453125 66.40625 31.78125 66.40625 \r\nz\r\nM 31.78125 74.21875 \r\nQ 44.046875 74.21875 50.515625 64.515625 \r\nQ 56.984375 54.828125 56.984375 36.375 \r\nQ 56.984375 17.96875 50.515625 8.265625 \r\nQ 44.046875 -1.421875 31.78125 -1.421875 \r\nQ 19.53125 -1.421875 13.0625 8.265625 \r\nQ 6.59375 17.96875 6.59375 36.375 \r\nQ 6.59375 54.828125 13.0625 64.515625 \r\nQ 19.53125 74.21875 31.78125 74.21875 \r\nz\r\n\" id=\"DejaVuSans-48\"/>\r\n    </defs>\r\n    <g style=\"fill:#ffffff;\" transform=\"translate(232.07375 79.4375)scale(0.1 -0.1)\">\r\n     <use xlink:href=\"#DejaVuSans-53\"/>\r\n     <use x=\"63.623047\" xlink:href=\"#DejaVuSans-48\"/>\r\n    </g>\r\n   </g>\r\n   <g id=\"text_9\">\r\n    <!-- 85 -->\r\n    <defs>\r\n     <path d=\"M 31.78125 34.625 \r\nQ 24.75 34.625 20.71875 30.859375 \r\nQ 16.703125 27.09375 16.703125 20.515625 \r\nQ 16.703125 13.921875 20.71875 10.15625 \r\nQ 24.75 6.390625 31.78125 6.390625 \r\nQ 38.8125 6.390625 42.859375 10.171875 \r\nQ 46.921875 13.96875 46.921875 20.515625 \r\nQ 46.921875 27.09375 42.890625 30.859375 \r\nQ 38.875 34.625 31.78125 34.625 \r\nz\r\nM 21.921875 38.8125 \r\nQ 15.578125 40.375 12.03125 44.71875 \r\nQ 8.5 49.078125 8.5 55.328125 \r\nQ 8.5 64.0625 14.71875 69.140625 \r\nQ 20.953125 74.21875 31.78125 74.21875 \r\nQ 42.671875 74.21875 48.875 69.140625 \r\nQ 55.078125 64.0625 55.078125 55.328125 \r\nQ 55.078125 49.078125 51.53125 44.71875 \r\nQ 48 40.375 41.703125 38.8125 \r\nQ 48.828125 37.15625 52.796875 32.3125 \r\nQ 56.78125 27.484375 56.78125 20.515625 \r\nQ 56.78125 9.90625 50.3125 4.234375 \r\nQ 43.84375 -1.421875 31.78125 -1.421875 \r\nQ 19.734375 -1.421875 13.25 4.234375 \r\nQ 6.78125 9.90625 6.78125 20.515625 \r\nQ 6.78125 27.484375 10.78125 32.3125 \r\nQ 14.796875 37.15625 21.921875 38.8125 \r\nz\r\nM 18.3125 54.390625 \r\nQ 18.3125 48.734375 21.84375 45.5625 \r\nQ 25.390625 42.390625 31.78125 42.390625 \r\nQ 38.140625 42.390625 41.71875 45.5625 \r\nQ 45.3125 48.734375 45.3125 54.390625 \r\nQ 45.3125 60.0625 41.71875 63.234375 \r\nQ 38.140625 66.40625 31.78125 66.40625 \r\nQ 25.390625 66.40625 21.84375 63.234375 \r\nQ 18.3125 60.0625 18.3125 54.390625 \r\nz\r\n\" id=\"DejaVuSans-56\"/>\r\n    </defs>\r\n    <g style=\"fill:#ffffff;\" transform=\"translate(98.15375 188.1575)scale(0.1 -0.1)\">\r\n     <use xlink:href=\"#DejaVuSans-56\"/>\r\n     <use x=\"63.623047\" xlink:href=\"#DejaVuSans-53\"/>\r\n    </g>\r\n   </g>\r\n   <g id=\"text_10\">\r\n    <!-- 139 -->\r\n    <defs>\r\n     <path d=\"M 12.40625 8.296875 \r\nL 28.515625 8.296875 \r\nL 28.515625 63.921875 \r\nL 10.984375 60.40625 \r\nL 10.984375 69.390625 \r\nL 28.421875 72.90625 \r\nL 38.28125 72.90625 \r\nL 38.28125 8.296875 \r\nL 54.390625 8.296875 \r\nL 54.390625 0 \r\nL 12.40625 0 \r\nz\r\n\" id=\"DejaVuSans-49\"/>\r\n     <path d=\"M 40.578125 39.3125 \r\nQ 47.65625 37.796875 51.625 33 \r\nQ 55.609375 28.21875 55.609375 21.1875 \r\nQ 55.609375 10.40625 48.1875 4.484375 \r\nQ 40.765625 -1.421875 27.09375 -1.421875 \r\nQ 22.515625 -1.421875 17.65625 -0.515625 \r\nQ 12.796875 0.390625 7.625 2.203125 \r\nL 7.625 11.71875 \r\nQ 11.71875 9.328125 16.59375 8.109375 \r\nQ 21.484375 6.890625 26.8125 6.890625 \r\nQ 36.078125 6.890625 40.9375 10.546875 \r\nQ 45.796875 14.203125 45.796875 21.1875 \r\nQ 45.796875 27.640625 41.28125 31.265625 \r\nQ 36.765625 34.90625 28.71875 34.90625 \r\nL 20.21875 34.90625 \r\nL 20.21875 43.015625 \r\nL 29.109375 43.015625 \r\nQ 36.375 43.015625 40.234375 45.921875 \r\nQ 44.09375 48.828125 44.09375 54.296875 \r\nQ 44.09375 59.90625 40.109375 62.90625 \r\nQ 36.140625 65.921875 28.71875 65.921875 \r\nQ 24.65625 65.921875 20.015625 65.03125 \r\nQ 15.375 64.15625 9.8125 62.3125 \r\nL 9.8125 71.09375 \r\nQ 15.4375 72.65625 20.34375 73.4375 \r\nQ 25.25 74.21875 29.59375 74.21875 \r\nQ 40.828125 74.21875 47.359375 69.109375 \r\nQ 53.90625 64.015625 53.90625 55.328125 \r\nQ 53.90625 49.265625 50.4375 45.09375 \r\nQ 46.96875 40.921875 40.578125 39.3125 \r\nz\r\n\" id=\"DejaVuSans-51\"/>\r\n     <path d=\"M 10.984375 1.515625 \r\nL 10.984375 10.5 \r\nQ 14.703125 8.734375 18.5 7.8125 \r\nQ 22.3125 6.890625 25.984375 6.890625 \r\nQ 35.75 6.890625 40.890625 13.453125 \r\nQ 46.046875 20.015625 46.78125 33.40625 \r\nQ 43.953125 29.203125 39.59375 26.953125 \r\nQ 35.25 24.703125 29.984375 24.703125 \r\nQ 19.046875 24.703125 12.671875 31.3125 \r\nQ 6.296875 37.9375 6.296875 49.421875 \r\nQ 6.296875 60.640625 12.9375 67.421875 \r\nQ 19.578125 74.21875 30.609375 74.21875 \r\nQ 43.265625 74.21875 49.921875 64.515625 \r\nQ 56.59375 54.828125 56.59375 36.375 \r\nQ 56.59375 19.140625 48.40625 8.859375 \r\nQ 40.234375 -1.421875 26.421875 -1.421875 \r\nQ 22.703125 -1.421875 18.890625 -0.6875 \r\nQ 15.09375 0.046875 10.984375 1.515625 \r\nz\r\nM 30.609375 32.421875 \r\nQ 37.25 32.421875 41.125 36.953125 \r\nQ 45.015625 41.5 45.015625 49.421875 \r\nQ 45.015625 57.28125 41.125 61.84375 \r\nQ 37.25 66.40625 30.609375 66.40625 \r\nQ 23.96875 66.40625 20.09375 61.84375 \r\nQ 16.21875 57.28125 16.21875 49.421875 \r\nQ 16.21875 41.5 20.09375 36.953125 \r\nQ 23.96875 32.421875 30.609375 32.421875 \r\nz\r\n\" id=\"DejaVuSans-57\"/>\r\n    </defs>\r\n    <g style=\"fill:#ffffff;\" transform=\"translate(228.8925 188.1575)scale(0.1 -0.1)\">\r\n     <use xlink:href=\"#DejaVuSans-49\"/>\r\n     <use x=\"63.623047\" xlink:href=\"#DejaVuSans-51\"/>\r\n     <use x=\"127.246094\" xlink:href=\"#DejaVuSans-57\"/>\r\n    </g>\r\n   </g>\r\n   <g id=\"text_11\">\r\n    <!-- Confusion Matrix -->\r\n    <defs>\r\n     <path d=\"M 30.609375 48.390625 \r\nQ 23.390625 48.390625 19.1875 42.75 \r\nQ 14.984375 37.109375 14.984375 27.296875 \r\nQ 14.984375 17.484375 19.15625 11.84375 \r\nQ 23.34375 6.203125 30.609375 6.203125 \r\nQ 37.796875 6.203125 41.984375 11.859375 \r\nQ 46.1875 17.53125 46.1875 27.296875 \r\nQ 46.1875 37.015625 41.984375 42.703125 \r\nQ 37.796875 48.390625 30.609375 48.390625 \r\nz\r\nM 30.609375 56 \r\nQ 42.328125 56 49.015625 48.375 \r\nQ 55.71875 40.765625 55.71875 27.296875 \r\nQ 55.71875 13.875 49.015625 6.21875 \r\nQ 42.328125 -1.421875 30.609375 -1.421875 \r\nQ 18.84375 -1.421875 12.171875 6.21875 \r\nQ 5.515625 13.875 5.515625 27.296875 \r\nQ 5.515625 40.765625 12.171875 48.375 \r\nQ 18.84375 56 30.609375 56 \r\nz\r\n\" id=\"DejaVuSans-111\"/>\r\n     <path d=\"M 54.890625 33.015625 \r\nL 54.890625 0 \r\nL 45.90625 0 \r\nL 45.90625 32.71875 \r\nQ 45.90625 40.484375 42.875 44.328125 \r\nQ 39.84375 48.1875 33.796875 48.1875 \r\nQ 26.515625 48.1875 22.3125 43.546875 \r\nQ 18.109375 38.921875 18.109375 30.90625 \r\nL 18.109375 0 \r\nL 9.078125 0 \r\nL 9.078125 54.6875 \r\nL 18.109375 54.6875 \r\nL 18.109375 46.1875 \r\nQ 21.34375 51.125 25.703125 53.5625 \r\nQ 30.078125 56 35.796875 56 \r\nQ 45.21875 56 50.046875 50.171875 \r\nQ 54.890625 44.34375 54.890625 33.015625 \r\nz\r\n\" id=\"DejaVuSans-110\"/>\r\n     <path d=\"M 37.109375 75.984375 \r\nL 37.109375 68.5 \r\nL 28.515625 68.5 \r\nQ 23.6875 68.5 21.796875 66.546875 \r\nQ 19.921875 64.59375 19.921875 59.515625 \r\nL 19.921875 54.6875 \r\nL 34.71875 54.6875 \r\nL 34.71875 47.703125 \r\nL 19.921875 47.703125 \r\nL 19.921875 0 \r\nL 10.890625 0 \r\nL 10.890625 47.703125 \r\nL 2.296875 47.703125 \r\nL 2.296875 54.6875 \r\nL 10.890625 54.6875 \r\nL 10.890625 58.5 \r\nQ 10.890625 67.625 15.140625 71.796875 \r\nQ 19.390625 75.984375 28.609375 75.984375 \r\nz\r\n\" id=\"DejaVuSans-102\"/>\r\n     <path d=\"M 9.8125 72.90625 \r\nL 24.515625 72.90625 \r\nL 43.109375 23.296875 \r\nL 61.8125 72.90625 \r\nL 76.515625 72.90625 \r\nL 76.515625 0 \r\nL 66.890625 0 \r\nL 66.890625 64.015625 \r\nL 48.09375 14.015625 \r\nL 38.1875 14.015625 \r\nL 19.390625 64.015625 \r\nL 19.390625 0 \r\nL 9.8125 0 \r\nz\r\n\" id=\"DejaVuSans-77\"/>\r\n     <path d=\"M 54.890625 54.6875 \r\nL 35.109375 28.078125 \r\nL 55.90625 0 \r\nL 45.3125 0 \r\nL 29.390625 21.484375 \r\nL 13.484375 0 \r\nL 2.875 0 \r\nL 24.125 28.609375 \r\nL 4.6875 54.6875 \r\nL 15.28125 54.6875 \r\nL 29.78125 35.203125 \r\nL 44.28125 54.6875 \r\nz\r\n\" id=\"DejaVuSans-120\"/>\r\n    </defs>\r\n    <g transform=\"translate(120.834375 16.318125)scale(0.12 -0.12)\">\r\n     <use xlink:href=\"#DejaVuSans-67\"/>\r\n     <use x=\"69.824219\" xlink:href=\"#DejaVuSans-111\"/>\r\n     <use x=\"131.005859\" xlink:href=\"#DejaVuSans-110\"/>\r\n     <use x=\"194.384766\" xlink:href=\"#DejaVuSans-102\"/>\r\n     <use x=\"229.589844\" xlink:href=\"#DejaVuSans-117\"/>\r\n     <use x=\"292.96875\" xlink:href=\"#DejaVuSans-115\"/>\r\n     <use x=\"345.068359\" xlink:href=\"#DejaVuSans-105\"/>\r\n     <use x=\"372.851562\" xlink:href=\"#DejaVuSans-111\"/>\r\n     <use x=\"434.033203\" xlink:href=\"#DejaVuSans-110\"/>\r\n     <use x=\"497.412109\" xlink:href=\"#DejaVuSans-32\"/>\r\n     <use x=\"529.199219\" xlink:href=\"#DejaVuSans-77\"/>\r\n     <use x=\"615.478516\" xlink:href=\"#DejaVuSans-97\"/>\r\n     <use x=\"676.757812\" xlink:href=\"#DejaVuSans-116\"/>\r\n     <use x=\"715.966797\" xlink:href=\"#DejaVuSans-114\"/>\r\n     <use x=\"757.080078\" xlink:href=\"#DejaVuSans-105\"/>\r\n     <use x=\"784.863281\" xlink:href=\"#DejaVuSans-120\"/>\r\n    </g>\r\n   </g>\r\n  </g>\r\n  <g id=\"axes_2\">\r\n   <g id=\"patch_3\">\r\n    <path clip-path=\"url(#p892c607fcf)\" d=\"M 322.13625 239.758125 \r\nL 322.13625 238.90875 \r\nL 322.13625 23.1675 \r\nL 322.13625 22.318125 \r\nL 333.00825 22.318125 \r\nL 333.00825 23.1675 \r\nL 333.00825 238.90875 \r\nL 333.00825 239.758125 \r\nz\r\n\" style=\"fill:#ffffff;stroke:#ffffff;stroke-linejoin:miter;stroke-width:0.01;\"/>\r\n   </g>\r\n   <image height=\"217\" id=\"imagec5ae5ae970\" transform=\"scale(1 -1)translate(0 -217)\" width=\"11\" x=\"322\" xlink:href=\"data:image/png;base64,\r\niVBORw0KGgoAAAANSUhEUgAAAAsAAADZCAYAAAD2WsoCAAAABHNCSVQICAgIfAhkiAAAAVJJREFUaIHV2kEOAjEMQ9GmDZfg/veEK/QtLKWsLcv5dToMovrz/a3LT1fVrXb1rn0vRmcQ14o5i/gIjVyMLTRyAw7JjM4woNHIVXSGs5V/ynHLgGtE+W3Aa6l2YwgNK/+1NNoNipHcFIiRGxBPcEj5Y62LOefQ9ZCFFTHRODHnIQPu69cDp0Hi2HaTeAgNiZGjcSQGHreIn6Rxr7YBc/dG/yAzck7RKHK+N159Ys6YWcRwKhbjFMWIFYmcRXygduaMma+1yRgbLruuIehgCTFGjoahu9aiMw6YikHOK9aN3RLDaDzoDDd0FzyBLMYSZ4sRHDAlpl97LAa81iQPhcTy+7N8Weva4pzLbOjE+eSO+0F0RoNijKBRtN3GOSa2u47Kf/+kH5PZYgyhMaNINGAuc8y5Sra7X6QRu76kG8Z5RjfW+UyIQf+ySN51QuPFAWFT/gJ8LSOCIrIBAAAAAElFTkSuQmCC\" y=\"-22\"/>\r\n   <g id=\"matplotlib.axis_3\"/>\r\n   <g id=\"matplotlib.axis_4\">\r\n    <g id=\"ytick_3\">\r\n     <g id=\"line2d_5\">\r\n      <defs>\r\n       <path d=\"M 0 0 \r\nL 3.5 0 \r\n\" id=\"m9609a28d49\" style=\"stroke:#000000;stroke-width:0.8;\"/>\r\n      </defs>\r\n      <g>\r\n       <use style=\"stroke:#000000;stroke-width:0.8;\" x=\"333.00825\" xlink:href=\"#m9609a28d49\" y=\"227.40358\"/>\r\n      </g>\r\n     </g>\r\n     <g id=\"text_12\">\r\n      <!-- 60 -->\r\n      <g transform=\"translate(340.00825 231.202798)scale(0.1 -0.1)\">\r\n       <use xlink:href=\"#DejaVuSans-54\"/>\r\n       <use x=\"63.623047\" xlink:href=\"#DejaVuSans-48\"/>\r\n      </g>\r\n     </g>\r\n    </g>\r\n    <g id=\"ytick_4\">\r\n     <g id=\"line2d_6\">\r\n      <g>\r\n       <use style=\"stroke:#000000;stroke-width:0.8;\" x=\"333.00825\" xlink:href=\"#m9609a28d49\" y=\"202.694489\"/>\r\n      </g>\r\n     </g>\r\n     <g id=\"text_13\">\r\n      <!-- 80 -->\r\n      <g transform=\"translate(340.00825 206.493707)scale(0.1 -0.1)\">\r\n       <use xlink:href=\"#DejaVuSans-56\"/>\r\n       <use x=\"63.623047\" xlink:href=\"#DejaVuSans-48\"/>\r\n      </g>\r\n     </g>\r\n    </g>\r\n    <g id=\"ytick_5\">\r\n     <g id=\"line2d_7\">\r\n      <g>\r\n       <use style=\"stroke:#000000;stroke-width:0.8;\" x=\"333.00825\" xlink:href=\"#m9609a28d49\" y=\"177.985398\"/>\r\n      </g>\r\n     </g>\r\n     <g id=\"text_14\">\r\n      <!-- 100 -->\r\n      <g transform=\"translate(340.00825 181.784616)scale(0.1 -0.1)\">\r\n       <use xlink:href=\"#DejaVuSans-49\"/>\r\n       <use x=\"63.623047\" xlink:href=\"#DejaVuSans-48\"/>\r\n       <use x=\"127.246094\" xlink:href=\"#DejaVuSans-48\"/>\r\n      </g>\r\n     </g>\r\n    </g>\r\n    <g id=\"ytick_6\">\r\n     <g id=\"line2d_8\">\r\n      <g>\r\n       <use style=\"stroke:#000000;stroke-width:0.8;\" x=\"333.00825\" xlink:href=\"#m9609a28d49\" y=\"153.276307\"/>\r\n      </g>\r\n     </g>\r\n     <g id=\"text_15\">\r\n      <!-- 120 -->\r\n      <g transform=\"translate(340.00825 157.075526)scale(0.1 -0.1)\">\r\n       <use xlink:href=\"#DejaVuSans-49\"/>\r\n       <use x=\"63.623047\" xlink:href=\"#DejaVuSans-50\"/>\r\n       <use x=\"127.246094\" xlink:href=\"#DejaVuSans-48\"/>\r\n      </g>\r\n     </g>\r\n    </g>\r\n    <g id=\"ytick_7\">\r\n     <g id=\"line2d_9\">\r\n      <g>\r\n       <use style=\"stroke:#000000;stroke-width:0.8;\" x=\"333.00825\" xlink:href=\"#m9609a28d49\" y=\"128.567216\"/>\r\n      </g>\r\n     </g>\r\n     <g id=\"text_16\">\r\n      <!-- 140 -->\r\n      <defs>\r\n       <path d=\"M 37.796875 64.3125 \r\nL 12.890625 25.390625 \r\nL 37.796875 25.390625 \r\nz\r\nM 35.203125 72.90625 \r\nL 47.609375 72.90625 \r\nL 47.609375 25.390625 \r\nL 58.015625 25.390625 \r\nL 58.015625 17.1875 \r\nL 47.609375 17.1875 \r\nL 47.609375 0 \r\nL 37.796875 0 \r\nL 37.796875 17.1875 \r\nL 4.890625 17.1875 \r\nL 4.890625 26.703125 \r\nz\r\n\" id=\"DejaVuSans-52\"/>\r\n      </defs>\r\n      <g transform=\"translate(340.00825 132.366435)scale(0.1 -0.1)\">\r\n       <use xlink:href=\"#DejaVuSans-49\"/>\r\n       <use x=\"63.623047\" xlink:href=\"#DejaVuSans-52\"/>\r\n       <use x=\"127.246094\" xlink:href=\"#DejaVuSans-48\"/>\r\n      </g>\r\n     </g>\r\n    </g>\r\n    <g id=\"ytick_8\">\r\n     <g id=\"line2d_10\">\r\n      <g>\r\n       <use style=\"stroke:#000000;stroke-width:0.8;\" x=\"333.00825\" xlink:href=\"#m9609a28d49\" y=\"103.858125\"/>\r\n      </g>\r\n     </g>\r\n     <g id=\"text_17\">\r\n      <!-- 160 -->\r\n      <g transform=\"translate(340.00825 107.657344)scale(0.1 -0.1)\">\r\n       <use xlink:href=\"#DejaVuSans-49\"/>\r\n       <use x=\"63.623047\" xlink:href=\"#DejaVuSans-54\"/>\r\n       <use x=\"127.246094\" xlink:href=\"#DejaVuSans-48\"/>\r\n      </g>\r\n     </g>\r\n    </g>\r\n    <g id=\"ytick_9\">\r\n     <g id=\"line2d_11\">\r\n      <g>\r\n       <use style=\"stroke:#000000;stroke-width:0.8;\" x=\"333.00825\" xlink:href=\"#m9609a28d49\" y=\"79.149034\"/>\r\n      </g>\r\n     </g>\r\n     <g id=\"text_18\">\r\n      <!-- 180 -->\r\n      <g transform=\"translate(340.00825 82.948253)scale(0.1 -0.1)\">\r\n       <use xlink:href=\"#DejaVuSans-49\"/>\r\n       <use x=\"63.623047\" xlink:href=\"#DejaVuSans-56\"/>\r\n       <use x=\"127.246094\" xlink:href=\"#DejaVuSans-48\"/>\r\n      </g>\r\n     </g>\r\n    </g>\r\n    <g id=\"ytick_10\">\r\n     <g id=\"line2d_12\">\r\n      <g>\r\n       <use style=\"stroke:#000000;stroke-width:0.8;\" x=\"333.00825\" xlink:href=\"#m9609a28d49\" y=\"54.439943\"/>\r\n      </g>\r\n     </g>\r\n     <g id=\"text_19\">\r\n      <!-- 200 -->\r\n      <g transform=\"translate(340.00825 58.239162)scale(0.1 -0.1)\">\r\n       <use xlink:href=\"#DejaVuSans-50\"/>\r\n       <use x=\"63.623047\" xlink:href=\"#DejaVuSans-48\"/>\r\n       <use x=\"127.246094\" xlink:href=\"#DejaVuSans-48\"/>\r\n      </g>\r\n     </g>\r\n    </g>\r\n    <g id=\"ytick_11\">\r\n     <g id=\"line2d_13\">\r\n      <g>\r\n       <use style=\"stroke:#000000;stroke-width:0.8;\" x=\"333.00825\" xlink:href=\"#m9609a28d49\" y=\"29.730852\"/>\r\n      </g>\r\n     </g>\r\n     <g id=\"text_20\">\r\n      <!-- 220 -->\r\n      <g transform=\"translate(340.00825 33.530071)scale(0.1 -0.1)\">\r\n       <use xlink:href=\"#DejaVuSans-50\"/>\r\n       <use x=\"63.623047\" xlink:href=\"#DejaVuSans-50\"/>\r\n       <use x=\"127.246094\" xlink:href=\"#DejaVuSans-48\"/>\r\n      </g>\r\n     </g>\r\n    </g>\r\n   </g>\r\n   <g id=\"patch_4\">\r\n    <path d=\"M 322.13625 239.758125 \r\nL 322.13625 238.90875 \r\nL 322.13625 23.1675 \r\nL 322.13625 22.318125 \r\nL 333.00825 22.318125 \r\nL 333.00825 23.1675 \r\nL 333.00825 238.90875 \r\nL 333.00825 239.758125 \r\nz\r\n\" style=\"fill:none;\"/>\r\n   </g>\r\n  </g>\r\n </g>\r\n <defs>\r\n  <clipPath id=\"pf596cdc1ff\">\r\n   <rect height=\"217.44\" width=\"267.84\" x=\"37.55625\" y=\"22.318125\"/>\r\n  </clipPath>\r\n  <clipPath id=\"p892c607fcf\">\r\n   <rect height=\"217.44\" width=\"10.872\" x=\"322.13625\" y=\"22.318125\"/>\r\n  </clipPath>\r\n </defs>\r\n</svg>\r\n",
            "image/png": "[encoded data removed]"
          },
          "metadata": {
            "needs_background": "light"
          }
        },
        {
          "output_type": "stream",
          "name": "stdout",
          "text": [
            "Number of True Positives (TP):  226\nNumber of True Negatives (TN):  139\nNumber of False Positives (FP):  85\nNumber of False Negatives (FN):  50\n\nAccuracy: 73.0 %\nPrecision: 73.1 %\nRecall: 73.0 %\nF1 Score: 72.7 %\n"
          ]
        }
      ]
    },
    {
      "cell_type": "markdown",
      "metadata": {
        "id": "eNIMFjFh9EC6"
      },
      "source": [
        "<p> Let us interpret the above results obtained.\n",
        "<ul>\n",
        "    <li><b>Accuracy</b> is the fraction of predictions that our model got right. It is 74.2% here. </li>\n",
        "    <li><b>Precision</b> indicates the proportion of the instances that the model says was relevant, actually were relevant. It is 74.2% here. It says that 74.2% which were predicted as hate speech is actually hate speech.</li>  \n",
        "   <li><b>Recall</b> indicates the proportion of actually positive instances that are correctly predicted. It is 74.2% here. It says that of all the observations which truly consist of hate speech, we have correctly predicted 74.2% out of it.</li> \n",
        "    <li><b>F1 Score</b> considers both precision and recall. It is the harmonic mean (average) of the Precision and Recall. F1 Score is best if there is some sort of balance between Precision  and Recall in the system as above. The F1 Score for this model is 74.0% which is a reasonable value.</li>\n",
        "</ul>\n",
        "\n",
        "<br>The reason to the increment of FPs over FNs is that this data set consists of more number of \"YES\" labeled data than \"NO\" labeled data. According to the confusion matrix there are 150 errors (FP+FN). Those errors can be retrieved using the below function named <b>get_errors(test_X, test_y, predicted_y)</b>. </p>"
      ]
    },
    {
      "cell_type": "code",
      "metadata": {
        "id": "VxDmOxhJ9EC6",
        "outputId": "572b0e09-e6b2-411c-ee6a-6b9a170ef6c0",
        "tags": [
          "outputPrepend"
        ]
      },
      "source": [
        "get_errors(test_X=pd.Series(test_X), test_y=pd.Series(test_y), predicted_y=predicted_y_doc2vec)"
      ],
      "execution_count": 132,
      "outputs": [
        {
          "output_type": "stream",
          "name": "stdout",
          "text": [
            "in karana welawak newei\nActual Label: YES\nPredicted Label: NO\n\n\n15\nSentence: මෙිරටෙි ඉන්න ඒවුන්ට මෙිවා හරියන්නේ නැහැ ඔය ටික සත්යෙන් සුද්ද කරයි සිට් වල ලවි හැලි ලියයි හුණු සිටිවල උලයි පසුපෙල යන ජොඩු කිම ආශාවන් සපුරාගෙන ඹය දාලා තියෙන කර්ටන් වලින් කැරි ටික ප්හ්දායි\nActual Label: YES\nPredicted Label: NO\n\n\n16\nSentence: මේ කරන්න දෙයින් ත් රීරෝද රියදුරන් ගෙ මනුෂ් යත්වය පෙන්නන්න හැදුවට මේ කාලකන්නි බූරුවගෙ මනුස්සකම නෑ ඒ මිනිසුන්ව හදුන්වල දෙන්න\nActual Label: YES\nPredicted Label: NO\n\n\n17\nSentence: කිසිම කෙනෙක් තමන්ගේ ආගම හරියට අදහන්නේ නැහැ මුස්ලිම් බෞද්ධ හෝ කතෝලික හැමෝම තමන්ගේ වාසියට ආගම හරවගෙන\nActual Label: YES\nPredicted Label: NO\n\n\n18\nSentence: ඇත්තටම මෙහෙමතමයි කරන්න ඕනි මේවගේ තමන්ගෙ ජීවිත අවධානම ගැනවත් නොහිතා වැඩ කරන මිනිස්සු අග තිරීම තුළින් අනිත් අයද එලෙස කටයුතු කරනු ඇති\nActual Label: NO\nPredicted Label: YES\n\n\n19\nSentence: Meeta pasu lankawe chandayak awashshmanatha Mewage vihilu monaratakawath nathuwa athi\nActual Label: YES\nPredicted Label: NO\n\n\n20\nSentence: ඉරාජ් ලංකාවේ වගේ රටකට හරියන youtube මාර්කටින් ප්ලෑන් එක ඔයා හොදටම කරගෙන යනවා\nActual Label: NO\nPredicted Label: YES\n\n\n21\nSentence: මේ වගේ දෙකය් පනහෙ පොන්න මල් සින්දු අහන ගොඩේ හැත්ත ඉන්නකම් මේ රට දියුණු වෙය්ද චාමර\nActual Label: NO\nPredicted Label: YES\n\n\n22\nSentence: මොකක්ද බන් මේ පපඩම් ඇඩ් එකක්ද\nActual Label: YES\nPredicted Label: NO\n\n\n23\nSentence: කමෙන්ට් දිහා බැලුවම පට්ට ආතල් සමහර වුන් හැමතිස්සෙම කියවනව නේද බයික් ත් රී වීල් විතරයි අල්ලන්නෙ ප් රාඩෝ ලැම්බො අල්ලන්නෙ නෑ කියල දැන් මහත්තයො තේරෙනවද එහෙම මගුලක් නෑ කියල සමහර පොලිස්කාරයො ඇති වාහනවලට බය හැබැයි මතකතියාගනිල්ල කොන්දක් තියන පොලිස් මහත්තුරු ටිකක් හරි මේ රටේ ඉතුරුවෙලා ඉන්නව කියල ලැම්බොගිනි කාරයට බැන්නම රිදෙන ගොන්ස්ල පාර තොටේ ඇවිදල බලපල්ල දැන් එකෙන්ම එල පොලිස්කාරයෙක්\nActual Label: NO\nPredicted Label: YES\n\n\n24\nSentence: පරන අයම රොටේට් කරන් කතා වලට ගද්දි බලන් එපා වෙනවා මේ වගේ අලුත්ූන් සෙට් එකක් ගන්න නිසා කතාව බලන්නත් ආසයී ඇක්ටින් උනත් සීනියස්ලා වගේ\nActual Label: NO\nPredicted Label: YES\n\n\n25\nSentence: ලංකාවේ වැඩියෙන්ම නිල නොවන වීඩියෝ හැදුනු සිංදුව වෙන්න ඇති මේක අන්තිමට official එකත් ආවා එල\nActual Label: NO\nPredicted Label: YES\n\n\n26\nSentence: ආඩම්බරෙන් වෙල්ලස්සේ කිව්වට ජාතික වීරයෝ ගැන කිව්වට උන් ඉන්න තැනක ඉදන් අපිට හෙන ගහන්න කියනව ඇති හුඟාක් අය දකින්නෙ නැතුව ඇති එක්කෝ ගානක් නැතුව ඇති\nActual Label: NO\nPredicted Label: YES\n\n\n27\nSentence: තව මේවා ඇතුල සතියකට දෙසැරයක් වත් පිරිසිදු කරන්න ඕනේ විශේෂයෙන්ම ටොයිලට් තව පිටත මසෙට දෙසැරයක් වත් ක්ලීන් කරන්න ඕනේ එහෙම කලොත් ඔන්න අවුරුදු 5ක් වත් ලස්සනට තියාගතහැකි\nActual Label: NO\nPredicted Label: YES\n\n\n28\nSentence: Okata dan thawa ekak add wei\nActual Label: NO\nPredicted Label: YES\n\n\n29\nSentence: කව්ද යකො මගෙ car එක අරන් ගියපු එකා\nActual Label: NO\nPredicted Label: YES\n\n\n30\nSentence: Aka satha 5k wadi karanna epa okunta wada karanna bai nam job eken elawanna eliye job nathi ewun oni tharam ennawa\nActual Label: YES\nPredicted Label: NO\n\n\n31\nSentence: යකෝ උන් දන්නවද තව ටිකකින් goal එකක් ගහනව කියලා\nActual Label: NO\nPredicted Label: YES\n\n\n32\nSentence: තියටර් එක ඇතුලෙ ඔපරේශන් එකක් කරපු පොඩි ළමයෙක්ට සිහිය එනවා පොඩි එකා සිහිය ආපු ගමන් ඇහුවෙ කෝ ආච්චි කියල මොකද එයා ආවෙ ආච්චි එක්ක එතන හිටපු නර්ස් වේසි ඇහුව ඇයි අම්ම විකුනලද කියලා කරාපිටිය ඉස්පිරිතාලෙ කාලකන්නි වසංගත ගෑනියෙක්\nActual Label: YES\nPredicted Label: NO\n\n\n33\nSentence: ගැහැණියක්ට අත ඉස්සුවාමනම් පිරිමියෙක් වීරයෙක් වෙන්නේ නෑ තමයි හැබැයි උබ වගේ දාර වේසියෙක්ට ගැහුවනම් ඌ වීරයෙක් තමයි\nActual Label: YES\nPredicted Label: NO\n\n\n34\nSentence: මේ මීහරක් 225ම ඇතුලේ ඉද්දි plan කරලා බෝම්බයක් ගහන්න එකෙක් නෑ නේ අම්මාපා\nActual Label: YES\nPredicted Label: NO\n\n\n35\nSentence: දයාසිරිට ප් රතිපත්තියක් තියනව යකෝ ඌ මොන ආණ්ඩුව ආවත් උගේ වාසියට වැඩ කරගන්නව ප් රතිපත්තියක් නැත්තෙ ඌට මොන බලු වැඩේ කරත් චන්දෙ දෙන ගොන් ජනතාවට\nActual Label: NO\nPredicted Label: YES\n\n\n36\nSentence: බලාපල්ලා ඒ මිනිස්සුන් අපේ දේට දක්වන ගෞරවේ ඒකට අපේ කලු සුද්දෝ තූ විතරක්\nActual Label: YES\nPredicted Label: NO\n\n\n37\nSentence: සුදු කොඩිය ගෙ ගාව එල්ලන තුරු ඉන්නට එපා දෙන්න ඔය අත සුදු මේ සින්දුවට ගහන්න ඕකට බැ\nActual Label: NO\nPredicted Label: YES\n\n\n38\nSentence: වැඩේ හොදයි ඔළුව කකියනවෝ\nActual Label: NO\nPredicted Label: YES\n\n\n39\nSentence: meka yakooo marai bn umbe hakiyawa hiniyta dena kindi thama pattama\nActual Label: YES\nPredicted Label: NO\n\n\n40\nSentence: දහම්පාසලකට ගියේ නැති එකාලාට මේ බණ නම් සෝක් ඊයේ පෙරේදා ෂෝ එකට ධර්මය පස්සෙ යන එකාලා ට මේ විකුර්ති හොදයි බුදුහාමුදරුවෝ කීව දේ හරි සාසනේ විනාස කරන අය සාසනෙන්ම බිහිවෙලා ඉවරයි\nActual Label: YES\nPredicted Label: NO\n\n\n41\nSentence: muta kahina ewunuth innawa wage\nActual Label: NO\nPredicted Label: YES\n\n\n42\nSentence: පොලීසිය නිකන් ප් රභාකරන් අල්ලගෙන වගේ ගැම්ම\nActual Label: YES\nPredicted Label: NO\n\n\n43\nSentence: Mewa dakiddi hithena wa kiyana katha aththa kiyala lajjawak nathi wrsiyo achcharai kiyanna thiyennee\nActual Label: YES\nPredicted Label: NO\n\n\n44\nSentence: කොමෙන්ට්ස් කියවන එක සෝක් කැතයි හොදේ සැක හිතෙනවනේ බං ඔහොම හැසිරීම්\nActual Label: YES\nPredicted Label: NO\n\n\n45\nSentence: Me horu training une koheda\nActual Label: YES\nPredicted Label: NO\n\n\n46\nSentence: කවුරුන් වුවද අකමැති නම් කළ යුත්තේ මෙයයි මේ දේ අපේ රටේ නොවෙන නිසයි අපි ජාතියක් විදියට ඇන කොටාගනිමින් අපිම විනාශ වෙන්නේ අපි සුළැගිල්ලේ තිින්ත ටික ගානවෙලාවට විතරක් වටිනවා යැයි සිතා සිටින දේශපාලකයන් ඉන් අනතුරුව අපිව බල්ලේකුටවත් ගනන් ගන්නේ නැත\nActual Label: YES\nPredicted Label: NO\n\n\n47\nSentence: oyaga Rail mhatayata minisu chanda Dunbar magma koranta tame nmuth it a klalin central bank akata Wada dunana hour wanuvan horu una\nActual Label: YES\nPredicted Label: NO\n\n\n48\nSentence: මෙලෝ රහක් නැති උන් ඉන්න ටවුන් එකක්\nActual Label: YES\nPredicted Label: NO\n\n\n49\nSentence: හිටං අගමැති මරැ කරනවා හෂිනි මිනිහා මරැ කරනවා මේවා දකිද්දී අපේ වයර් මරැ වෙනවා ආය්යෝ ලංකාවට වෙච්ච දෙයක්\nActual Label: YES\nPredicted Label: NO\n\n\n50\nSentence: Paw bn meki mama hithanne nevedikawak wenna hadanne aru ba ba ba gana wa meki kiyanawa golden wards lu thopi jathaka kelata wada hodai yako us mahath keranna kerapu viyadamen pol waththak wawa nawa nondi nathuwa vikunagena kanna puluwan\nActual Label: NO\nPredicted Label: YES\n\n\n51\nSentence: Jonah lomu වගේ යකෝ ට් රයි එක තිබ්බේ\nActual Label: YES\nPredicted Label: NO\n\n\n52\nSentence: Gothrikayonta therenne na wahal manasikathwayen midenna amarui Midunu daata ape rata diyunuy Aakalpa walin Jaya wewa\nActual Label: YES\nPredicted Label: NO\n\n\n53\nSentence: ප් රවීන කලා කරුවනුත් දේශපාලන අතකොලු වෙලා ඉන්න ලංකාවේ මේ වැඩෙන් වෙන්නෙ එයාලට කලා කාරයොත් නෑ දේශපාලකයෝත් නැතිවෙන වැඩක් මොනව උනත් ලංකාවේ දේශපාලකයන් පිලිබඳ සමාජ මතය මේක උනත් කවුරුත් එලියට දාන්න ඉදිරිපත් වෙන්නෑ මෙයාල ඒක කලා උන් ගොබ්බයෝ උනා\nActual Label: YES\nPredicted Label: NO\n\n\n54\nSentence: Oba miyagiyada hada awadi nokala amana deeshapalakayin oba marademu un malapasu hadanagai Oba ipadunee weradi rataka Obata niwan suwa\nActual Label: NO\nPredicted Label: YES\n\n\n55\nSentence: ගාථා දර්මය පන්සල බුදු රුව පිරිත් බුදුන්ගෙ අගිලි අස් කන හරියට කාන්තාවන්ගේ වගෙ සමෙ පාට විහාර කලාව විනාශ කරන උන්ට සාප වෙවා මෙවාට උදව් කරන අයට ලෙ පිලිකා හෙදිලා මුලු පවුලම වෙනසෙවා මරන මොහොතේ පවා විදවලා කුනු වෙවා පනුවොගසත්වා පන්සල මාලිගා වගේ කිසිම කලාවක් නෙත මානසික ලෙඩ්ඩුන් මෙවා අගයනවා සින්ගප්පුරුවෙ ජර්මන් අමෙරිකා වල වත් මෙ විකාර මාලිගා නෙති අල්පෙක්ශ ජිවිත වෙනුවට පිස්සු මාලිගා ලෙජ්ජය් දුප්පත් පන්සල් ඉස්කොල වලට උදව් කරන්න පුලුවන් මෙ සල්ලි වලින් නුගතහෙ ලක්ෂණ\nActual Label: YES\nPredicted Label: NO\n\n\n56\nSentence: අරූ අච්චර දෙයක් කරනකන් මේක විඩියෝ කරපු එකා විඩියෝ කරලා\nActual Label: NO\nPredicted Label: YES\n\n\n57\nSentence: අන්තිමට ඩොක්ටට කකුල් දෙක පලල් කරලා අල්ලලා අරක පලල් කරන ගැජ්ජමැටික් එකක් ඇතුලට දාලා පොඩී එකාව මරලා අතුරුදහන් වෙනවා ඒ දුකට කොල්ලා සමන්තබඩ්ගෙන් බන් අහන්න යනවා ඌගෙන් බුදු රැසුත් විහිදෙන්වා\nActual Label: YES\nPredicted Label: NO\n\n\n58\nSentence: කුරුණෑගල කිරිවවුලෙ ඉඳන් මීගොල්ලට බයික් එකේ යද්දිත් පාන්දර මන් පෙරලිලා වැටුණම ඒ වෙලාවෙ සද්දෙ ඇහිලා ඇවිත් බයික් එකක්ත් හදලා දීලා මට බෙහෙතුත් දාලා දුන්න කොල්ලො හිටිය\nActual Label: NO\nPredicted Label: YES\n\n\n59\nSentence: Me dagalanne janthavata sahana dennada nee munge blayata kaaadara kamata kageda me Rata ayalage pawugalika buudalayak nemai needa mahajanthavani molaya kPana kra danvat sudussan pamnk paliment yavanna\nActual Label: YES\nPredicted Label: NO\n\n\n60\nSentence: මේන බොලවු දබිලයට වේලා තියන දේ ඔකගේ සිවුර ගලවන්න ඔනා කට කකුස්සි වලක ඔබන්න ඕනා අර වේස සමලි උලතියන්න ඕනා\nActual Label: YES\nPredicted Label: NO\n\n\n61\nSentence: Mataka tiyaganna obalata pihitata enne obala ගෞරව karana car karayo newei me wage ahinsaka minissu tamai\nActual Label: NO\nPredicted Label: YES\n\n\n62\nSentence: යකෝ හරිහමන් තුවක්කුවක් දෙන්න බැරිද බන් ඇමති අයගේ වාහන වලට කෝටි ප් රකෝටි ගනන් නාස්ති කරනවා ඕන දේකට වියදම් කරන්නේ නෑ\nActual Label: YES\nPredicted Label: NO\n\n\n63\nSentence: Patta wesi tota henama gahapan totai toge anduwatai lagadima redi netuwa pare duwanna wei edata toge hinsanayata api gal gahanawa\nActual Label: YES\nPredicted Label: NO\n\n\n64\nSentence: Muth nanna yanne kridakayanta ground walata wena asadaranakam walata wachanayak eliyata danne nathi aka rata hadanna yanawa Mahela karanam api akenma set\nActual Label: YES\nPredicted Label: NO\n\n\n65\nSentence: Mewa දාගෙන baik peddehekida ban හඳට යන්න වගේ nala පිරිසිදුව hitapallako oya මොකවත් kahanne ne\nActual Label: YES\nPredicted Label: NO\n\n\n66\nSentence: Lankawen desapalakayo tikak yawala balamu poster gahana widihata thama ita passe\nActual Label: YES\nPredicted Label: NO\n\n\n67\nSentence: sinhalayo kuhakayo\nActual Label: YES\nPredicted Label: NO\n\n\n68\nSentence: මනුස්සයෙක් සියදිවි නසාගත්තම ඒකට බැනල පෝස් ට් දාලා අහින්සක පොඩි ලමයි ටිකකගෙ පදක්කම් ටිකක් දැක්කම ඒක බලන් ඉන්න බැරුව ඒ ලමයින්ට සියදිවි නසාගන්න හිතෙන තරම් කැත විදියට පෝස්ට් හදල දාලා ලයික්ස් හිගාකන කාලකන්නි පේජ් ඇඩ්මින්ල ටික අල්ලල වෙන කොහෙටහරි ගිහින් දානකම් ලංකාව නම් හදන්න වෙන්නෙ නෑ\nActual Label: YES\nPredicted Label: NO\n\n\n69\nSentence: Mu idagena betting walin lakawa parada karawala Hari salli hambakaranawa athi Habai ea salli cricket board ekata hambenne na\nActual Label: YES\nPredicted Label: NO\n\n\n70\nSentence: අපේ රටේ තාමත් හදවතින් උසස් අය ඉන්නවා ඒ ගැන ඇත්තටම සතුටුයි ජේසු පිහිටයි ඒ හැමෝටම\nActual Label: NO\nPredicted Label: YES\n\n\n71\nSentence: Sira kathawa ban eka nam\nActual Label: YES\nPredicted Label: NO\n\n\n72\nSentence: රාජ් ලොක්ක ඉපදෙන්න ඉද්දි අර දොස්තරය ඉඳල නැද්ද බන් ටෞකන්ඩ සිරිසේන\nActual Label: YES\nPredicted Label: NO\n\n\n73\nSentence: මොනතරම් ගින්දරක් පපු ඇතුලේ පත්තු වෙනවා අැද්ද තාත්තා මේ අත් පා උස්මහත් කරපු තාත්තා දෙයියනේ ශාප වෙයි උඹලට මේ ආත්මෙම\nActual Label: YES\nPredicted Label: NO\n\n\n74\nSentence: හසිනිලා පියුමිලා සොට් ඒකම කනවා යුටියුබ් ඒක අපේ ලමයෙක් ටවත් බලන්න හම්බ වෙන්නේ නැ ඉස්සරහද මුගේ අම්මලාට හැමනේනවා වේසවේ සේ ඕඕඕ\nActual Label: YES\nPredicted Label: NO\n\n\n75\nSentence: CCTV දැම්මොත් මිසක් ඕක නම් බේරගන්න හම්බෙන්නෑ ඔය ට් රේන් එකත් එක්ක අලුත් තනතුරක් හදන්න වෙනවා දුම්රිය මැදිරි සම්පත් ආරක්ෂක කියලා උගේ ජොබ් එක වෙන්න ඕනේ CCTV එකෙන් බලං ඉදල අපතයින්ව අල්ලන එක හැම මාසෙම ඉන්ස්පෙක්ෂන් ඇවිල්ලා බලපුවාම අලාභ හානි වෙලා තිබුනොත් ඒ ගාන උගේ පඩියෙන් කපන්න ඕනේ\nActual Label: YES\nPredicted Label: NO\n\n\n76\nSentence: Buki karayonta owa dunnma u ekath wikunagena kanawa mokada munta ona kohomahari salli\nActual Label: NO\nPredicted Label: YES\n\n\n77\nSentence: යේක මාත්තයා මේ කෝච්චිය පුරෝලා ඉටියේ සතර පෝයට ශිල් ගන්න ෂතියට බන පාලොවක් විශ්ශක් ආන පිච්ච මල් පුජා කප්රුක පුජා කංචුක පුජ කොරන කට්ටිය තමයි තමන්ගේ ජාතියේ ඒකාට ෂීට් යෙක නොදී මුන්දල අපිලව මරාන්ට කතා වෙනවා යේ මොක්කොද ජාතිය රැකගන්න අප්පා\nActual Label: YES\nPredicted Label: NO\n\n\n78\nSentence: යකො මොන දියුණුවක්ද එක\nActual Label: YES\nPredicted Label: NO\n\n\n79\nSentence: ඉහල සියට පහලට ආදර්ශයක් නොදී රටක විනයක් ඇති කල නොහැක සිංගප්පූරුව එයට හොදම ආදර්ශයයි ලංකාවෙ ඉහලින් පහලට දෙන යහපත් ආදර්ශය කුමක්ද\nActual Label: NO\nPredicted Label: YES\n\n\n80\nSentence: අතුරු තහනම් නියෝගයක් යනු නඩුව විභාග කරන තෙක් ලබා දෙන තීන්දුවක් බව ඔබේ හය හතර නොදත් දරුවාට කියා දෙන්න\nActual Label: YES\nPredicted Label: NO\n\n\n81\nSentence: Oyaa police karayawa gennala diyankkoo Marannaa Ponna hetta\nActual Label: YES\nPredicted Label: NO\n\n\n82\nSentence: මේ වගේ ගැනු මේ රටේන් එලවන්න ඔන නොදකින් ශාපවේවා\nActual Label: YES\nPredicted Label: NO\n\n\n83\nSentence: Yako aedagena yanna mokadda karapu warada munge hora eliwena nisa meka kare mekata wagakiyanna oni derana eka thamai aeththa\nActual Label: NO\nPredicted Label: YES\n\n\n84\nSentence: දෙවෙනි ඉනිම පරාදයි අනේ මේක නම් ඇත්තටම හරිම ලස්සන කතාවක් කවුද මේක හැමදාම බලන්නෙ කියලා කියන්නකෝ\nActual Label: NO\nPredicted Label: YES\n\n\n85\nSentence: කූඹියෝ වගේ කල්පනා කරන්න ඔනේ විශුවල් එකක් හෙනම ලස්සන සින්දුවකට ගැලපුවේ කොහොමද කියල මම තාම හිතනවා නිරුවතට වඩා අරුතට තැන දීපු එකට ඔබලාට බෙහෙවින්ම තුති\nActual Label: NO\nPredicted Label: YES\n\n\n86\nSentence: ඇයි මේවා ලංකාවේ හදන්න බැරි තිු විල් එකේ ඉදං ජොකා දක්වා ඉංදියාවෙන්\nActual Label: YES\nPredicted Label: NO\n\n\n87\nSentence: Match Fixing කරපු පලියට Board එකට සල්ලි හම්බවෙනවනම් ඕයි මොනා කරගන්න බැරිද ලැජ්ජායි සාක්ෂරතාව 0 යි\nActual Label: NO\nPredicted Label: YES\n\n\n88\nSentence: මාස කීයක් මේ පිලිවෙලට තියෙයිද දන්නෙ නෑ ඕක ඇතුලේ කෑලි ටිකත් ගලවගෙන නොගියොත් තමයි පුදුම\nActual Label: NO\nPredicted Label: YES\n\n\n89\nSentence: එහෙමයි කියල මෙතන ඇවිස්සිලා ගහපියව් මරපියව් කියල හරියන්නෑ පොඩි දේකින් තමා ආයෙ ඇවිලෙන්නෙ තාමත් ඒ මිනිස්සු ඇයි ප් රභාකරන්ට ආදරේ කියල හොයන්නයි ඕන මෙතන ඉඳන් මොන බයිලා කියෙව්වත් එහෙ වෙන දේවල් අපි දන්නෙත් නෑ මෙහෙ වෙන දේවල් එයාල දන්නෙත් නෑ\nActual Label: YES\nPredicted Label: NO\n\n\n90\nSentence: Kalin gehein setekak allagena heteye nam ewarai ne hothe padam menessu puruduwela in ne then eka nesa thoskeyanna bahe hema kenekma mahanseyen yanne gaman beman\nActual Label: NO\nPredicted Label: YES\n\n\n91\nSentence: Karumeta gahala akalata haduna wesiyo\nActual Label: YES\nPredicted Label: NO\n\n\n92\nSentence: අපේ රටේ නායකයෝ මැච් බලන්න ගියොත් එදාට එක පරාදයි\nActual Label: NO\nPredicted Label: YES\n\n\n93\nSentence: Owa ta army eken dala arawage pissu natana unge kana paluwa nam nikan ma hadeyi\nActual Label: YES\nPredicted Label: NO\n\n\n94\nSentence: Mama adambarawanawa magana nodanna tawa ayata makadi lankawat 2 wani tana innawa gugal walin 1 Singapore anith waddo apita passa\nActual Label: NO\nPredicted Label: YES\n\n\n95\nSentence: ඉතින්කොහොමද හොරෙක්වත් අල්ල ගන්නෙ\nActual Label: YES\nPredicted Label: NO\n\n\n96\nSentence: නජිත් උබ මගෙං ණයට ගත්ත රුපියල් 10000 අරගෙන දැං අවුරුදු දෙකක් වෙනවා මං දන්නවා උබ මේක බලනවා කියලා මූනට කියන්න බැරි හින්දයි මෙහෙම දැම්මේ මේක දැක්ක ගමන් මගේ නය ගෙවපන්\nActual Label: NO\nPredicted Label: YES\n\n\n97\nSentence: රටේ දේවල් විකුනං කන උන්ට කඩේ යන රට ගැන හැගීමක් නැති උන් තවම ඉන්නවා කියලා පෙන්නුවටත් ස්තූතියි දැන් අපට අායේ ෆ් රී වයිෆයි ලැබෙයි නේද\nActual Label: YES\nPredicted Label: NO\n\n\n98\nSentence: උන්ට පින නෑ ගම්මන්පිල වගේ උත්තමයෙක් අතින් සම්මානයක් ගන්ට දුමින්ද මහත්තයාගේත් හිත හොදටෝම පෑරෙන්ට ඇති\nActual Label: YES\nPredicted Label: NO\n\n\n99\nSentence: Okege sathuta As panapitama padesan denna one\nActual Label: YES\nPredicted Label: NO\n\n\n100\nSentence: කවුද බන් මෙ පෝන්නයො දෙන්නයි වෙස බඩ්ඩයි\nActual Label: YES\nPredicted Label: NO\n\n\n101\nSentence: amanussayo tikak niwan dakkanna puluwanda eka paratama mewa tama buddagama waraddagatta than\nActual Label: YES\nPredicted Label: NO\n\n\n102\nSentence: Matath me wedin ekata awanm baduwak gahanda thibani\nActual Label: YES\nPredicted Label: NO\n\n\n103\nSentence: පොලීසියට නෙවී බං ජනතාවට ඇතුලට යන්න දුන්නනම් ඉවරයි ඔක්කොම ටික හමන්නල ගන්න\nActual Label: YES\nPredicted Label: NO\n\n\n104\nSentence: ලංකාවේ උන් සල්ලි දුන්නෝ කරයි ළමයින් මරන්න වද පෙති දෙන දොස්තරලා ඉන්න රටක මිනිස්සු මරනේන් බෙර ගන්න උදව් කරයිද ලංකාවේ උන්\nActual Label: YES\nPredicted Label: NO\n\n\n105\nSentence: මේ ලංකාවේ ද කියලා හිතෙනවා ඇයි මෙහෙම හැසිරෙන්නේ නිරුවත හැමෝටම පෙන්නන්න එපා ලංකාව මේ තරම් පිරිහිලාද\nActual Label: YES\nPredicted Label: NO\n\n\n106\nSentence: Paw bam me ka kello lan wenna nehalu akalu me helmat aka haduwe oluwe issori hadanawalu kello selfi gahanna enna nahalu paw oi mu\nActual Label: YES\nPredicted Label: NO\n\n\n107\nSentence: අත්තටම අදරෙකට marry කලනම් මෙහෙම කතා කරන්න පුලුවන්ද මෙ මිනිස්සු marriage එක කියන්නෙ මොකක්ද කියල දන්නෙ නැ හශිනි තමනට උන ලජ්ජාව වහගන්න විශ්වව marry කරන්න හදල තියෙන්නෙ ඔයලා වගෙ ගැනු අත්තටම ලජ්ජවක් marriage එක කියන්නෙ ලොකු hotels වල grand wedding එකක් ගන්න එක නෙවෙයි අදරය විශ්වාසය එකිනෙකාටතියන respect එක මත පවතින දෙයක් ඔයලගෙ තියෙන්නෙ හරිම් හිස් ජීවිත බොරු ශො එක විතරයි\nActual Label: YES\nPredicted Label: NO\n\n\n108\nSentence: පාරම්පරික යූඑන්පී පාක්ෂිකයන් වහ කෑ යුත්තේ තම ප් රධානම විරුද්ද පක්ෂය වන නිදහස් පක්ෂයෙයේ සභාපතිව පොදු අපේක්ෂකයා තමන්ගෙ ඡන්දයෙන් පත් කර ඇරගත් ඇරගැනිල්ලටය\nActual Label: YES\nPredicted Label: NO\n\n\n109\nSentence: කොල්ලා එක්ක කාබර කාබර ගානේ රිංගලා පොටෝ ගැහුවා වගේ නෙවෙයි නඟේ පැණි වරකා ගහටත් හෙන ගහනවා කියලා මතක තියාගන්න\nActual Label: YES\nPredicted Label: NO\n\n\n110\nSentence: ස්ට් රේට් වේසාවි චැනල් එක රිපෝට් කරන්නත් අමතක කරන්නත් එපා මේ වගේ ගොබ්බයොන්ගේ ඒවා දාන චැනල් අන්සබ්ස්ක් රයිබ් කරපං බං පක්කු වගේ බලන්නැතුව අනාගත පරපුර වෙනුවෙංවත්\nActual Label: YES\nPredicted Label: NO\n\n\n111\nSentence: දඩ ගහන්න ඕන ඔන්න ඕවා කන හරක්ට\nActual Label: YES\nPredicted Label: NO\n\n\n112\nSentence: Sakkilima wesige putek heti pakayage kannama Apu apathayek\nActual Label: YES\nPredicted Label: NO\n\n\n113\nSentence: උබ වගේ එකියකට ගහලා මදි උබව මැරැවත් පව් නැ උබ බබා\nActual Label: YES\nPredicted Label: NO\n\n\n114\nSentence: sinhalen kiyapan ganiye therenne na\nActual Label: NO\nPredicted Label: YES\n\n\n115\nSentence: අපේ ආදරේ ජේසුපිහිටයි මගෙ අයියේ\nActual Label: NO\nPredicted Label: YES\n\n\n116\nSentence: තුවක්කු පුහුනුව දෙන්නෙ training එකේ විතරයි ඉලක්කයක් අරන් වෙඩි තියන්න කී දෙනාද දක්ෂ නාකි පප්පල ටික ගහල පන්නන්න ඕන ජරාව කකා ඉන්නන් වාලේ ඉන්නවට අනිත් එක සාමාන් ය මිනිස්සු ඉන්න තත්වයකදි මේ විදියට වෙඩි තැබීම අනුමත කරන්න බැ\nActual Label: YES\nPredicted Label: NO\n\n\n117\nSentence: lokuma varada thamai wen karala tiyana seat vala ina un thamai seat denema nathe\nActual Label: NO\nPredicted Label: YES\n\n\n118\nSentence: මිට කලින් දැකලා නෑ තමයි මේ වගේ සමනල Admin කෙනෙක්\nActual Label: YES\nPredicted Label: NO\n\n\n119\nSentence: me enni lankawe enna superima ponnayoi superima wesaviyo thopita ohoma wela madi sadacharayak nathi awajathaka haththa ratata gilapina wedihata wadakarapan\nActual Label: YES\nPredicted Label: NO\n\n\n120\nSentence: ගෑණු 400ක් දූෂණය කරල ඒක ආඩම්බරෙන් කියන එකාට රජ සැප කෝටි ගණන් රජයෙ දේපල සූරාකන පක්ෂ විපක්ෂ දේශපාළුවන්ට සුර සැප පගා මරු නිලධාරින්ට ප් රමොෂන් පාතාල කුඩුකාරයින්ට මැති ඇමතිකම්\nActual Label: NO\nPredicted Label: YES\n\n\n121\nSentence: එක හුත්තකින් කියපන්කෝ තොපිලා වගේ අපි කවලවම් නැ\nActual Label: YES\nPredicted Label: NO\n\n\n122\nSentence: හම්මෝ මුන් දෙන්න මේ ටිකට ශාරුක් කාන්ලටත් එහා ගිහින් නේ මොකුන්ද මේ සම්මාන ගත්තෙ නෑ කියනකොට දැනගත්තෙම කොහොම උනත් මොවුන් දෙදෙනා හදවතින් කලා කරුවන් නොවේ\nActual Label: NO\nPredicted Label: YES\n\n\n123\nSentence: Me wage minisu dekkama loku satutak denenawa arabi kiyanne darunu minisu inne ratak ath meyala ehema ne\nActual Label: NO\nPredicted Label: YES\n\n\n124\nSentence: Thambila ohammmai kiyala comment ekakuth dekka paraya australia indan dapu ekek owata කලකිරෙනwa\nActual Label: NO\nPredicted Label: YES\n\n\n125\nSentence: ඔකොම තිබිලා අන්තිමට කලින් එවගේ වගේ බ් රේක් අවුලක් උනොත් තමා අවුල\nActual Label: NO\nPredicted Label: YES\n\n\n126\nSentence: අපේ රටෙත් කාර් කාරයොයෙි ත් රිවිල් කාරයොයි බයික් කාරයොයි හරිම විනීතයි\nActual Label: NO\nPredicted Label: YES\n\n\n127\nSentence: Tigae miha marapuuna hiyanna amruwak na katin kiyapu wacanata uda painawa ubda kada hari dittadamna wadaniya karumae padisan danawamai budu ciwarayanata nigaru kirimata\nActual Label: YES\nPredicted Label: NO\n\n\n128\nSentence: Ol ලියලා පස් වෙලා තව අවුරුදු දෙකක් AL කරලා විබාගෙ චොර කරගෙන කාලකන්නි වෙනවට වඩා හොදයි එක පාරින්ම ol ෆේල් වෙලා ඒ අවුරුදු දෙක කොස් එකක් වත් කරලා ගොඩයන එක ol ලියන ඔක්කොම උන් ෆේල් වෙයන් උන් ජීවිතෙ හදාගන්නවා වැරදුන හින්දා\nActual Label: YES\nPredicted Label: NO\n\n\n129\nSentence: ඇත්තම කතාව ඕක තමයි ලංකාවට එනවට වඩා මේහේ ඉන්නෙක හොඳයි කියලයි දැන්නම් හිතෙන්නේ\nActual Label: NO\nPredicted Label: YES\n\n\n130\nSentence: Ochchara vata vela gahaddith mu kawda kiyala uma pennuva mu yakek\nActual Label: NO\nPredicted Label: YES\n\n\n131\nSentence: මූ ජයරත්නගෙ නෑදෑයෙක්ද කොහෙද\nActual Label: NO\nPredicted Label: YES\n\n\n132\nSentence: සුදු ඇදගෙන අන්තිමට එන කෙනාව බලන්න මෙක තනිකර බොරුවක් බොරුවට කෙරවලට දුවලා නිකම් එනවා\nActual Label: NO\nPredicted Label: YES\n\n\n133\nSentence: බොරුවක් කියලා හිතෙන අය like ekak දාමු\nActual Label: YES\nPredicted Label: NO\n\n\n134\nSentence: Mun nam patta wesiyo tikak ai mewata wiruddawa piyawarak ganna bari mun ganu sanhayhiyatama lajjawak mulu ratatama pililayak\nActual Label: YES\nPredicted Label: NO\n\n\n135\nSentence: ඔයවගේ හරක් ඉන්නකම් මේ රට හදන්න නොහැකිය\nActual Label: YES\nPredicted Label: NO\n\n\n"
          ]
        }
      ]
    },
    {
      "cell_type": "markdown",
      "metadata": {
        "id": "zJf6tZOr9EC7"
      },
      "source": [
        "### Answer (g)\n",
        "\n",
        "<p>In this assignment several models have been created. Thoss can be named as below.</p>\n",
        "<ol>\n",
        "<li><b>Model A</b>: Using bag-of-words features for Sinhala dataset (question (c))</li>\n",
        "<li><b>Model B</b>: Using bag-of-words features for Singlish dataset (question (c))</li>\n",
        "<li><b>Model C</b>: Using bag-of-words features for Full dataset (question (d))</li>\n",
        "<li><b>Model D</b>: Using tfidf features for Full dataset with cross validation (question (e))</li>\n",
        "<li><b>Model E</b>: Using tfidf features for Full dataset without cross validation (question (e))</li>\n",
        "<li><b>Model F</b>: Using bag-of-ngrams with tfidf (question (f))</li>\n",
        "<li><b>Model G</b>: Using word2vec model with tfidf weighted averaged vectorizer (question (f))</li>\n",
        "<li><b>Model H</b>: Using doc2vec model (question (f))</li>\n",
        "</ol>"
      ]
    },
    {
      "cell_type": "markdown",
      "metadata": {
        "id": "MjuwZcdw9EC7"
      },
      "source": [
        "#### Interpreting the Performance"
      ]
    },
    {
      "cell_type": "markdown",
      "metadata": {
        "id": "rwh66Zgn9EC7"
      },
      "source": [
        "<p>Below table is a summary of the performance of all the above models.</p>"
      ]
    },
    {
      "cell_type": "markdown",
      "metadata": {
        "id": "ZYRFQLW29EC7"
      },
      "source": [
        "<table align='left'>\n",
        "  <tr>\n",
        "    <th></th>\n",
        "    <th>Model A</th>\n",
        "    <th>Model B</th>\n",
        "    <th>Model C</th>\n",
        "    <th>Model D</th>\n",
        "    <th>Model E</th>\n",
        "    <th>Model F</th>\n",
        "    <th>Model G</th>\n",
        "    <th>Model H</th>\n",
        "  </tr>\n",
        "  <tr>\n",
        "    <td>Accuracy</td>\n",
        "    <td>74.9 %</td>\n",
        "    <td>68.89 %</td>\n",
        "    <td>74.2 %</td>\n",
        "    <td>66.96 %</td>\n",
        "    <td>73.0 %</td>\n",
        "    <td>73.2 %</td>\n",
        "    <td>56.00%</td>\n",
        "    <td>74.2 %</td>\n",
        "  </tr>\n",
        "  <tr>\n",
        "    <td>Precision</td>\n",
        "    <td>75.3 %</td>\n",
        "    <td>68.4 %</td>\n",
        "    <td>75.1 %</td>\n",
        "    <td>72.22 %</td>\n",
        "    <td>74.9 %</td>\n",
        "    <td>75.0 %</td>\n",
        "    <td>54.9%</td>\n",
        "    <td>74.2 %</td>\n",
        "  </tr>\n",
        "  <tr>\n",
        "    <td>Recall</td>\n",
        "    <td>74.9 %</td>\n",
        "    <td>68.89 %</td>\n",
        "    <td>74.2 %</td>\n",
        "    <td>41.69 %</td>\n",
        "    <td>73.0 %</td>\n",
        "    <td>73.2 %</td>\n",
        "    <td>56.00%</td>\n",
        "    <td>74.2 %</td>\n",
        "  </tr>\n",
        "  <tr>\n",
        "    <td>F1 Score</td>\n",
        "    <td>74.7 %</td>\n",
        "    <td>67.2 %</td>\n",
        "    <td>73.4 %</td>\n",
        "    <td>50.86 %</td>\n",
        "    <td>71.7 %</td>\n",
        "    <td>72.0 %</td>\n",
        "    <td>47.19%</td>\n",
        "    <td>74.0 %</td>\n",
        "  </tr>\n",
        "</table>"
      ]
    },
    {
      "cell_type": "markdown",
      "metadata": {
        "id": "-O8ZNbzb9EC8"
      },
      "source": [
        "<ul>\n",
        "<li>The higher performance was given by <b>Model A</b> because it was trained by the thoroughly preprocessed\n",
        " Sinhala dataset.</li>\n",
        "<li>The <b>Model B</b> has a low performance than A because it consists more noise which we did not\n",
        "clean.</li>\n",
        "<li>But <b>Model C</b> has a reasonable performance when compared to B. Since it uses both datasets the performance of this model is commendable. Even when comparing the number of mistakes and important words\n",
        "this can be further proved. (Please refer outputs of previous questions)</li>\n",
        "</ul>"
      ]
    },
    {
      "cell_type": "markdown",
      "metadata": {
        "id": "jwUqxUMt9EC8"
      },
      "source": [
        "<ul>\n",
        "<li>For further tasks the full dataset was used.</li>\n",
        "<li><b>Model D</b> used tfidf features and it is special here since it was cross validated. But the cross validation was\n",
        "resulted in overfitting as discussed in question (e).</li>\n",
        "<li>So the same kind of a model was created as <b>Model E</b> using tfidf features but without cross validation\n",
        "and has given better performance than the earlier one.</li>\n",
        "<li><b>Model F</b> increased the performance of the previous model when the ngrams (unigrams and bigrams) was used with tfidf features.</li>\n",
        "<li>Then a word2vec model was developed using word embeddings as <b>Model G</b> but has given low performance.</li>\n",
        "<li>As a solution to that, <b>Model H</b> was created with doc2vec and has given higher performance. It can be further fine tuned in future by changing the parameters and etc. (Since this is out of scope of this assignment I did not do it.)</li>\n",
        "</ul>"
      ]
    },
    {
      "cell_type": "markdown",
      "metadata": {
        "id": "Fh9N_Pwg9EC8"
      },
      "source": [
        "#### Solutions to Overfitting and effectively use the whole dataset to train a better Sinhala hate speech detector"
      ]
    },
    {
      "cell_type": "markdown",
      "metadata": {
        "id": "5f2Jjx3D9EC8"
      },
      "source": [
        "<ul>\n",
        "<li>We only used Logistic Regression here. But using SVM or another model the performance can be improved and the overfitting can be reduced.</li>\n",
        "<li>Also if the number of data can be increased the overfitting can be reduced too.</li>\n",
        "<li>Since this merged dataset had more Sinhala sentences, balancing the data set may also reduce overfiting and low performance.</li>\n",
        "<li>By assigning the Regularization Parameters and doing trial and error can be a solution to reduce overfitting.</li>\n",
        "<li>Preprocessing of the Singlish dataset should be done too. (Removing stop words, stemming and removing repeating characters)</li>\n",
        "    <li>Combining classifiers may improve the performance such as using Modular approach (sometimes called as dynamic classifier selection technique) or Ensemble-based approach (classifier fusion technique).</li>\n",
        "    <li>Bagging and Boosting techniques can be used too</li>\n",
        "</ul>"
      ]
    }
  ]
}