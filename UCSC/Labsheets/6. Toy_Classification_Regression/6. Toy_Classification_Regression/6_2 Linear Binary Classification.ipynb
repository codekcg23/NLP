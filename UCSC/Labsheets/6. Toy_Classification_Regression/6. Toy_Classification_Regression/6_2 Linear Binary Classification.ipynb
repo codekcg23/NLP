{
 "cells": [
  {
   "cell_type": "markdown",
   "source": [
    "# Imports"
   ],
   "metadata": {}
  },
  {
   "cell_type": "code",
   "execution_count": 1,
   "source": [
    "from keras import optimizers\r\n",
    "from keras.models import Sequential\r\n",
    "from keras.layers import Dense, Softmax\r\n",
    "from keras.utils import to_categorical\r\n",
    "\r\n",
    "import matplotlib.pyplot as plt\r\n",
    "import numpy as np\r\n",
    "import random\r\n",
    "\r\n",
    "from matplotlib import animation, rc\r\n",
    "\r\n",
    "%matplotlib inline\r\n",
    "\r\n",
    "rc('animation', html='html5')"
   ],
   "outputs": [],
   "metadata": {}
  },
  {
   "cell_type": "markdown",
   "source": [
    "# Plotting setup"
   ],
   "metadata": {}
  },
  {
   "cell_type": "code",
   "execution_count": null,
   "source": [
    "# First set up the figure, the axis, and the plot element we want to animate\r\n",
    "fig, ax = plt.subplots();\r\n",
    "\r\n",
    "ax.set_xlim([-15,15])\r\n",
    "ax.set_ylim([-6,6])\r\n",
    "line1, = ax.plot([], [], '-')\r\n",
    "line2 = ax.scatter([], [])"
   ],
   "outputs": [
    {
     "output_type": "display_data",
     "data": {
      "text/plain": [
       "<Figure size 432x288 with 1 Axes>"
      ],
      "image/png": "[encoded data removed]"
     },
     "metadata": {
      "needs_background": "light"
     }
    }
   ],
   "metadata": {}
  },
  {
   "cell_type": "code",
   "execution_count": null,
   "source": [
    "# Helper function to visualize decision boundaries\r\n",
    "def visualize(model, data, labels, w, b, title=None, colors=['r','b','g'], background_colors=['#FF6969', '#6B94DC', '#6DDC6B']):\r\n",
    "    nx,ny = 500,500\r\n",
    "    xx,yy = np.meshgrid(np.linspace(-15, 15, nx), np.linspace(-6, 6, ny))\r\n",
    "    x_grid = np.hstack((xx.flatten().reshape(nx*ny,1), yy.flatten().reshape(nx*ny,1)))\r\n",
    "\r\n",
    "    y_pred = model.predict(x_grid, verbose=False)\r\n",
    "    g = np.argmax(y_pred, axis=1)\r\n",
    "    c = [background_colors[v] for v in g]\r\n",
    "    plt.scatter(xx, yy, c=c, s=40, marker='s', edgecolor='none')#, cmap=plt.cm.Spectral)\r\n",
    "    plt.scatter([x[0] for x in data], [x[1] for x in data], c=[colors[l] for l in labels], s=40)\r\n",
    "    plt.xlim([-15,15])\r\n",
    "    plt.ylim([-6,6])\r\n",
    "    if title:\r\n",
    "        plt.title(title)\r\n",
    "    plt.show()"
   ],
   "outputs": [],
   "metadata": {}
  },
  {
   "cell_type": "markdown",
   "source": [
    "# Data Setup\n",
    "Unlike the previous toy example set with 4 instances, we will create a bigger (but still toy) set with 100 data points"
   ],
   "metadata": {}
  },
  {
   "cell_type": "code",
   "execution_count": null,
   "source": [
    "num_classes = 2\r\n",
    "num_features = 2\r\n",
    "num_examples = 100\r\n",
    "\r\n",
    "colors = ['r','b','g']\r\n",
    "data = []\r\n",
    "labels = []\r\n",
    "# Generate random data\r\n",
    "for idx in range(num_examples):\r\n",
    "    # Randomly decide if we want a positive or negative example\r\n",
    "    if (random.random() > 0.5):\r\n",
    "        label = 0\r\n",
    "    else:\r\n",
    "        label = 1\r\n",
    "\r\n",
    "    rand_x = random.randint(-5,5)\r\n",
    "    rand_decision = (random.random() + 0.5) * 5 * (label*2-1)\r\n",
    "    y = rand_decision + -3 * rand_x + 3\r\n",
    "    data.append([rand_x, y])\r\n",
    "    labels.append(label)\r\n",
    "\r\n",
    "plt.xlim([-15,15])\r\n",
    "plt.ylim([-6,6])\r\n",
    "plt.scatter([x[0] for x in data], [x[1] for x in data], c=[colors[l] for l in labels], s=40)\r\n",
    "x_line = np.linspace(-15,15)\r\n",
    "y_line = -3.0 * x_line + 3\r\n",
    "plt.plot(x_line, y_line)"
   ],
   "outputs": [
    {
     "output_type": "execute_result",
     "data": {
      "text/plain": [
       "[<matplotlib.lines.Line2D at 0x63732b9e8>]"
      ]
     },
     "metadata": {},
     "execution_count": 4
    },
    {
     "output_type": "display_data",
     "data": {
      "text/plain": [
       "<Figure size 432x288 with 1 Axes>"
      ],
      "image/png": "[encoded data removed]"
     },
     "metadata": {
      "needs_background": "light"
     }
    }
   ],
   "metadata": {}
  },
  {
   "cell_type": "markdown",
   "source": [
    "# Data preparation for learning\n",
    "All frameworks expect data in a certain _format_. Keras expects its input to be in *Numpy* matrices.\n",
    "\n",
    "We usually use `X` to denote the data, and `y` to denote labels. \n",
    "`X` is a matrix of size `num_examples x num_features`, in this case, `100 x 2`.\n",
    "`y` is a vector of size `num_examples`, one label per example. In this case, `100`."
   ],
   "metadata": {}
  },
  {
   "cell_type": "code",
   "execution_count": null,
   "source": [
    "X = np.array(data)\r\n",
    "y = np.array(labels)\r\n",
    "\r\n",
    "print(\"X shape:\",X.shape)\r\n",
    "print(\"y shape:\",y.shape)"
   ],
   "outputs": [
    {
     "output_type": "stream",
     "name": "stdout",
     "text": [
      "X shape: (100, 2)\n",
      "y shape: (100,)\n"
     ]
    }
   ],
   "metadata": {}
  },
  {
   "cell_type": "markdown",
   "source": [
    "Even though we now have `y` with 100 labels (`0` or `1`), recall that in binary classification, we eventually compare probability distributions using Softmax and CrossEntropy. Hence, we need to convert our `y` into matrix of probability distributions.\n",
    "\n",
    "Essentially, we will me doing the following mapping:\n",
    "Class `0` => `[1.0, 0.0]`\n",
    "Class `1` => `[0.0, 1.0]`\n",
    "\n",
    "Keras has a built in function, `to_categorical` to do this conversion for us"
   ],
   "metadata": {}
  },
  {
   "cell_type": "code",
   "execution_count": null,
   "source": [
    "print(\"Old y sample:\")\r\n",
    "print(y[:10])\r\n",
    "\r\n",
    "y_probs = to_categorical(y, num_classes=2) # Need to convert to a probability distribution - need to have a column for each class\r\n",
    "print(\"New y sample:\")\r\n",
    "print(y_probs[:10, :]) # The relevant column will be 1"
   ],
   "outputs": [
    {
     "output_type": "stream",
     "name": "stdout",
     "text": [
      "Old y sample:\n",
      "[1 1 1 0 0 0 0 1 1 0]\n",
      "New y sample:\n",
      "[[0. 1.]\n",
      " [0. 1.]\n",
      " [0. 1.]\n",
      " [1. 0.]\n",
      " [1. 0.]\n",
      " [1. 0.]\n",
      " [1. 0.]\n",
      " [0. 1.]\n",
      " [0. 1.]\n",
      " [1. 0.]]\n"
     ]
    }
   ],
   "metadata": {}
  },
  {
   "cell_type": "markdown",
   "source": [
    "# Model definition"
   ],
   "metadata": {}
  },
  {
   "cell_type": "code",
   "execution_count": null,
   "source": [
    "model = Sequential()\r\n",
    "model.add(Dense(2, input_shape=(2,)))\r\n",
    "model.add(Softmax())\r\n",
    "\r\n",
    "sgd_optimizer = optimizers.SGD(lr=0.01)\r\n",
    "model.compile(loss=\"categorical_crossentropy\",\r\n",
    "              optimizer=sgd_optimizer,\r\n",
    "              metrics=['acc'])\r\n",
    "model.summary()"
   ],
   "outputs": [
    {
     "output_type": "stream",
     "name": "stdout",
     "text": [
      "WARNING:tensorflow:From /Users/arw/anaconda3/envs/text-analytics/lib/python3.7/site-packages/tensorflow/python/framework/op_def_library.py:263: colocate_with (from tensorflow.python.framework.ops) is deprecated and will be removed in a future version.\n",
      "Instructions for updating:\n",
      "Colocations handled automatically by placer.\n",
      "_________________________________________________________________\n",
      "Layer (type)                 Output Shape              Param #   \n",
      "=================================================================\n",
      "dense_1 (Dense)              (None, 2)                 6         \n",
      "_________________________________________________________________\n",
      "softmax_1 (Softmax)          (None, 2)                 0         \n",
      "=================================================================\n",
      "Total params: 6\n",
      "Trainable params: 6\n",
      "Non-trainable params: 0\n",
      "_________________________________________________________________\n"
     ]
    }
   ],
   "metadata": {}
  },
  {
   "cell_type": "markdown",
   "source": [
    "# Learning"
   ],
   "metadata": {}
  },
  {
   "cell_type": "code",
   "execution_count": null,
   "source": [
    "# Visualize initial decision boundary\r\n",
    "w, b = model.layers[0].get_weights()\r\n",
    "visualize(model, data, labels, w, b, title=\"Before training\")\r\n",
    "\r\n",
    "for epoch in range(100):\r\n",
    "    # Perform one step over the entire dataset\r\n",
    "    loss_history = model.fit(X, y_probs, epochs=1, verbose=False)\r\n",
    "    \r\n",
    "    # Get predictions (value of the objective function, f)\r\n",
    "    y_pred = model.predict(X, verbose=False)\r\n",
    "    \r\n",
    "    # See how well our model is doing\r\n",
    "    correct_preds = (np.argmax(y_pred, axis=1) == y) # Whichever column is greater is the predicted class\r\n",
    "    num_correct = np.sum(correct_preds)\r\n",
    "    acc = num_correct / 100.0\r\n",
    "    loss = loss_history.history['loss'][-1]\r\n",
    "    \r\n",
    "    if epoch % 10 == 0:\r\n",
    "        print(\"Epoch %d: %0.2f (acc) %0.2f (loss)\"%(epoch+1, acc, loss))\r\n",
    "\r\n",
    "# Visualize learned decision boundary\r\n",
    "w, b = model.layers[0].get_weights()\r\n",
    "visualize(model, data, labels, w, b, title=\"After training\")"
   ],
   "outputs": [],
   "metadata": {
    "scrolled": false
   }
  },
  {
   "cell_type": "code",
   "execution_count": null,
   "source": [],
   "outputs": [],
   "metadata": {}
  },
  {
   "cell_type": "code",
   "execution_count": null,
   "source": [],
   "outputs": [],
   "metadata": {}
  },
  {
   "cell_type": "code",
   "execution_count": null,
   "source": [],
   "outputs": [],
   "metadata": {}
  },
  {
   "cell_type": "code",
   "execution_count": null,
   "source": [],
   "outputs": [],
   "metadata": {}
  }
 ],
 "metadata": {
  "kernelspec": {
   "name": "python3",
   "display_name": "Python 3.7.6 64-bit ('base': conda)"
  },
  "language_info": {
   "codemirror_mode": {
    "name": "ipython",
    "version": 3
   },
   "file_extension": ".py",
   "mimetype": "text/x-python",
   "name": "python",
   "nbconvert_exporter": "python",
   "pygments_lexer": "ipython3",
   "version": "3.7.6"
  },
  "interpreter": {
   "hash": "fbbb7d2143a1d68e1cf272edf0974e702b621cb99b4ee39ce84db3bf0ffb588e"
  }
 },
 "nbformat": 4,
 "nbformat_minor": 2
}