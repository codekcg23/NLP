{
 "cells": [
  {
   "cell_type": "markdown",
   "source": [
    "# Import required dependencies"
   ],
   "metadata": {}
  },
  {
   "cell_type": "code",
   "execution_count": 1,
   "source": [
    "import keras\r\n",
    "from keras.models import Sequential\r\n",
    "from keras.layers import Dense, Softmax, Dropout\r\n",
    "from keras import backend as K\r\n",
    "from keras.utils import to_categorical\r\n",
    "from keras.preprocessing.sequence import pad_sequences\r\n",
    "from keras import regularizers\r\n",
    "\r\n",
    "import numpy as np\r\n",
    "import numpy.random as random\r\n",
    "from nltk.tokenize import word_tokenize\r\n",
    "\r\n",
    "import matplotlib.pyplot as plt\r\n",
    "from sklearn.metrics import confusion_matrix\r\n",
    "from sklearn.utils import class_weight\r\n",
    "\r\n",
    "%matplotlib inline"
   ],
   "outputs": [],
   "metadata": {}
  },
  {
   "cell_type": "markdown",
   "source": [
    "# Define constants\n",
    "It is usually a good idea to have common constants defined up top, so we can easily change them as needed"
   ],
   "metadata": {}
  },
  {
   "cell_type": "code",
   "execution_count": 2,
   "source": [
    "UNK_TOKEN = '__unk__'\r\n",
    "MAX_SEQUENCE_LENGTH = 50\r\n",
    "VOCAB_SIZE = 15000"
   ],
   "outputs": [],
   "metadata": {}
  },
  {
   "cell_type": "markdown",
   "source": [
    "# Read data"
   ],
   "metadata": {}
  },
  {
   "cell_type": "code",
   "execution_count": 3,
   "source": [
    "import csv\r\n",
    "\r\n",
    "emotions = {\r\n",
    "\t\"anger\":0,\r\n",
    "\t\"boredom\":1,\r\n",
    "\t\"empty\":2,\r\n",
    "\t\"enthusiasm\":3,\r\n",
    "\t\"fun\":4,\r\n",
    "\t\"happiness\":5,\r\n",
    "\t\"hate\":6,\r\n",
    "\t\"love\":7,\r\n",
    "\t\"neutral\":8,\r\n",
    "\t\"relief\":9,\r\n",
    "\t\"sadness\":10,\r\n",
    "\t\"surprise\":11,\r\n",
    "\t\"worry\": 12\r\n",
    "}\r\n",
    "\r\n",
    "emotions_stats = {k: 0 for k in emotions}\r\n",
    "data_lines = []\r\n",
    "num_classes = len(emotions)\r\n",
    "with open('data/sentiment/text_emotion.csv', newline='') as f:\r\n",
    "    reader = csv.reader(f)\r\n",
    "    for row_idx, row in enumerate(reader):\r\n",
    "        # Ignore first row since its a header row in the dataset\r\n",
    "        if row_idx == 0: continue\r\n",
    "            \r\n",
    "        # Append a tuple of (emotion_index, text)\r\n",
    "        if row[1] in emotions:\r\n",
    "            data_lines.append((emotions[row[1]],row[3]))\r\n",
    "            emotions_stats[row[1]] += 1\r\n",
    "print(\"Read %d lines\"%(len(data_lines)))"
   ],
   "outputs": [
    {
     "output_type": "stream",
     "name": "stdout",
     "text": [
      "Read 40000 lines\n"
     ]
    }
   ],
   "metadata": {}
  },
  {
   "cell_type": "markdown",
   "source": [
    "## Train/Dev/Test splits\n",
    "To see if our model actually learns, we divide all of the data into these three splits (70-10-20 split for train-dev-test)"
   ],
   "metadata": {}
  },
  {
   "cell_type": "code",
   "execution_count": 4,
   "source": [
    "# Send random seed for reproducible results\r\n",
    "# random.seed(5) # Gets test set\r\n",
    "random.seed(2019) # Gets new blind test set\r\n",
    "random.shuffle(data_lines)\r\n",
    "\r\n",
    "total_instances = len(data_lines)\r\n",
    "num_train_instances = int(0.7 * total_instances)\r\n",
    "num_dev_instances = int(0.1 * total_instances)\r\n",
    "num_test_instances = int(0.2 * total_instances)\r\n",
    "\r\n",
    "train = data_lines[:num_train_instances]\r\n",
    "dev = data_lines[num_train_instances:num_train_instances + num_dev_instances]\r\n",
    "test = data_lines[num_train_instances + num_dev_instances:num_train_instances + num_dev_instances + num_test_instances]"
   ],
   "outputs": [],
   "metadata": {}
  },
  {
   "cell_type": "markdown",
   "source": [
    "## Preprocessing "
   ],
   "metadata": {}
  },
  {
   "cell_type": "code",
   "execution_count": 5,
   "source": [
    "# Separate out labels and data\r\n",
    "def get_data_labels(lines):\r\n",
    "    labels, data = [], []\r\n",
    "    for line in lines:\r\n",
    "        l, d = line\r\n",
    "        labels.append(int(l))\r\n",
    "        data.append(d)\r\n",
    "    \r\n",
    "    return labels, data\r\n",
    "\r\n",
    "train_labels, train_data = get_data_labels(train)\r\n",
    "dev_labels, dev_data = get_data_labels(dev)\r\n",
    "test_labels, test_data = get_data_labels(test)\r\n",
    "print(train_labels[:10])\r\n",
    "print(train_data[:10])"
   ],
   "outputs": [
    {
     "output_type": "stream",
     "name": "stdout",
     "text": [
      "[5, 12, 7, 7, 4, 5, 9, 5, 11, 12]\n",
      "['Good morning  ready to start this week.', 'Suffering from  Hemorrhoids.', 'sizzling outside. Work inside = double', 'Brad Fastings is my favorite person to hang out with from 12 AM to 5 AM', 'shake shake shake shake shake it', \"@DavidArchie I'm watching some of your videos in YouTube. You're funny David.  Oh and TALENTED of course!\", 'Finished up cleaning my desk at least. . . office is looking empty. . .almost time to be in the car for 1 1/2!  #fb', 'just got home from a nice party, just not tired yet', 'Listen to Back Around by @ddlovato ...love this song. Meet @TiniOlsen tomorrow ^.^ But we canÃ¯Â¿Â½t go swimming  Sorry', \"I'm yet holdin' on.\"]\n"
     ]
    }
   ],
   "metadata": {}
  },
  {
   "cell_type": "code",
   "execution_count": 6,
   "source": [
    "# Preprocess data\r\n",
    "def preprocess(data):\r\n",
    "    # Tokenize (separate by space, punctuation etc) and lowercase all data\r\n",
    "    return [word_tokenize(t.lower()) for t in data]\r\n",
    "\r\n",
    "train_data = preprocess(train_data)\r\n",
    "dev_data = preprocess(dev_data)\r\n",
    "test_data = preprocess(test_data)\r\n",
    "print(train_data[:10])"
   ],
   "outputs": [
    {
     "output_type": "stream",
     "name": "stdout",
     "text": [
      "[['good', 'morning', 'ready', 'to', 'start', 'this', 'week', '.'], ['suffering', 'from', 'hemorrhoids', '.'], ['sizzling', 'outside', '.', 'work', 'inside', '=', 'double'], ['brad', 'fastings', 'is', 'my', 'favorite', 'person', 'to', 'hang', 'out', 'with', 'from', '12', 'am', 'to', '5', 'am'], ['shake', 'shake', 'shake', 'shake', 'shake', 'it'], ['@', 'davidarchie', 'i', \"'m\", 'watching', 'some', 'of', 'your', 'videos', 'in', 'youtube', '.', 'you', \"'re\", 'funny', 'david', '.', 'oh', 'and', 'talented', 'of', 'course', '!'], ['finished', 'up', 'cleaning', 'my', 'desk', 'at', 'least', '.', '.', '.', 'office', 'is', 'looking', 'empty', '.', '.', '.almost', 'time', 'to', 'be', 'in', 'the', 'car', 'for', '1', '1/2', '!', '#', 'fb'], ['just', 'got', 'home', 'from', 'a', 'nice', 'party', ',', 'just', 'not', 'tired', 'yet'], ['listen', 'to', 'back', 'around', 'by', '@', 'ddlovato', '...', 'love', 'this', 'song', '.', 'meet', '@', 'tiniolsen', 'tomorrow', '^.^', 'but', 'we', 'canã¯â¿â½t', 'go', 'swimming', 'sorry'], ['i', \"'m\", 'yet', 'holdin', \"'\", 'on', '.']]\n"
     ]
    }
   ],
   "metadata": {}
  },
  {
   "cell_type": "markdown",
   "source": [
    "## Create vocabulary"
   ],
   "metadata": {}
  },
  {
   "cell_type": "code",
   "execution_count": 7,
   "source": [
    "# Prepare vocabulary\r\n",
    "full_vocab = dict()\r\n",
    "for instance in train_data:\r\n",
    "    for token in instance:\r\n",
    "        full_vocab[token] = 1 + full_vocab.get(token, 0)\r\n",
    "\r\n",
    "# Sort vocabulary by occurence\r\n",
    "sorted_vocab = sorted(full_vocab.keys(), key=lambda word: -full_vocab[word])\r\n",
    "\r\n",
    "# Print some samples\r\n",
    "print(\"Vocabulary size: %d\"%(len(sorted_vocab)))\r\n",
    "print(\"Most frequent tokens\")\r\n",
    "for i in range(10):\r\n",
    "    print(\"\\t%s: %d\"%(sorted_vocab[i], full_vocab[sorted_vocab[i]]))\r\n",
    "print(\"Least frequent tokens\")\r\n",
    "for i in range(1,11):\r\n",
    "    print(\"\\t%s: %d\"%(sorted_vocab[-i], full_vocab[sorted_vocab[-i]]))\r\n",
    "\r\n",
    "# We can choose to limit the vocab_size here to only a portion of the original vocab,\r\n",
    "# i.e. ignore infrequent tokens to save on memory\r\n",
    "vocab_size = VOCAB_SIZE\r\n",
    "    \r\n",
    "# Create final vocab\r\n",
    "word2idx = {w: idx for idx, w in enumerate(sorted_vocab[:vocab_size])}\r\n",
    "idx2word = {idx: w for idx, w in enumerate(sorted_vocab[:vocab_size])}\r\n",
    "\r\n",
    "\r\n",
    "word2idx[UNK_TOKEN] = vocab_size\r\n",
    "idx2word[vocab_size] = UNK_TOKEN\r\n",
    "vocab_size = vocab_size + 1"
   ],
   "outputs": [
    {
     "output_type": "stream",
     "name": "stdout",
     "text": [
      "Vocabulary size: 40815\n",
      "Most frequent tokens\n",
      "\ti: 16537\n",
      "\t!: 15530\n",
      "\t@: 14237\n",
      "\t.: 14166\n",
      "\tto: 10032\n",
      "\tthe: 9059\n",
      "\t,: 8609\n",
      "\ta: 6767\n",
      "\tmy: 5617\n",
      "\tyou: 5388\n",
      "Least frequent tokens\n",
      "\tzzerbe: 1\n",
      "\tgoooooodmorning: 1\n",
      "\tnawarii22: 1\n",
      "\teasports: 1\n",
      "\traczilla: 1\n",
      "\tspashed: 1\n",
      "\tkristanmarie: 1\n",
      "\tdbvictoria: 1\n",
      "\ttheka: 1\n",
      "\thyd: 1\n"
     ]
    }
   ],
   "metadata": {}
  },
  {
   "cell_type": "markdown",
   "source": [
    "## Filter text based on vocabulary\n",
    "We will now have to replace words we do not have in the vocabulary with a special token, `__unk__` in this case"
   ],
   "metadata": {}
  },
  {
   "cell_type": "code",
   "execution_count": 9,
   "source": [
    "train_data = [[t if t in word2idx else UNK_TOKEN for t in instance] for instance in train_data]\r\n",
    "dev_data = [[t if t in word2idx else UNK_TOKEN for t in instance] for instance in dev_data]\r\n",
    "test_data = [[t if t in word2idx else UNK_TOKEN for t in instance] for instance in test_data]\r\n",
    "\r\n",
    "print(\"Number of tokens filtered out as unknown:\")\r\n",
    "print(\"Train: %d/%d\"%(len([1 for instance in train_data for t in instance if t == UNK_TOKEN]), sum([len(i) for i in train_data])))\r\n",
    "print(\"Dev: %d/%d\"%(len([1 for instance in dev_data for t in instance if t == UNK_TOKEN]), sum([len(i) for i in dev_data])))\r\n",
    "print(\"Test: %d/%d\"%(len([1 for instance in test_data for t in instance if t == UNK_TOKEN]), sum([len(i) for i in test_data])))"
   ],
   "outputs": [
    {
     "output_type": "stream",
     "name": "stdout",
     "text": [
      "Number of tokens filtered out as unknown:\n",
      "Train: 25815/457524\n",
      "Dev: 5264/65711\n",
      "Test: 10569/131644\n"
     ]
    }
   ],
   "metadata": {}
  },
  {
   "cell_type": "markdown",
   "source": [
    "# Prepare data in tensor form\n",
    "Our keras models finally take tensors as input and labels, so we need to modify our data to fit this form"
   ],
   "metadata": {}
  },
  {
   "cell_type": "code",
   "execution_count": 10,
   "source": [
    "## data_to_tensor\r\n",
    "# Given a list of instances, where each instance is a list of tokens,\r\n",
    "# this function does the following:\r\n",
    "# 1: Replace each token with its corresponding index\r\n",
    "# 2: Pad sequences to MAX_SEQUENCE_LENGTH (or truncate them if longer)\r\n",
    "#       Padding is done with a unique element, in this case `vocab_size`\r\n",
    "#       The network will learn that this unique element is padding and does not\r\n",
    "#        mean anything semantically\r\n",
    "# 3: Package everything nicely as a NUM_INSTANCES x MAX_SEQUENCE_LENGTH matrix\r\n",
    "def data_to_tensor(data):\r\n",
    "    # First convert from words to indices\r\n",
    "    idx_data = [[word2idx[t] for t in instance] for instance in data]\r\n",
    "    \r\n",
    "    # Create numpy representation\r\n",
    "    return pad_sequences([np.array(d) for d in idx_data], maxlen=MAX_SEQUENCE_LENGTH, dtype='int32', padding='pre', truncating='pre', value=vocab_size)\r\n",
    "\r\n",
    "X_train = data_to_tensor(train_data)\r\n",
    "y_train = to_categorical(np.array(train_labels, dtype=np.int))\r\n",
    "\r\n",
    "X_dev = data_to_tensor(dev_data)\r\n",
    "y_dev = to_categorical(np.array(dev_labels, dtype=np.int))\r\n",
    "\r\n",
    "X_test = data_to_tensor(test_data)\r\n",
    "y_test = to_categorical(np.array(test_labels, dtype=np.int))\r\n",
    "\r\n",
    "vocab_size = vocab_size + 1 # Add 1 for the padding token"
   ],
   "outputs": [],
   "metadata": {}
  },
  {
   "cell_type": "code",
   "execution_count": 11,
   "source": [
    "def idx_to_bow(data):\r\n",
    "    data_bow = np.zeros((data.shape[0], vocab_size)) \r\n",
    "    for i in range(data.shape[1]):\r\n",
    "        data_bow[np.arange(data.shape[0]), data[:, i]] = 1\r\n",
    "    return data_bow\r\n",
    "\r\n",
    "X_train_bow = idx_to_bow(X_train)\r\n",
    "X_dev_bow = idx_to_bow(X_dev)\r\n",
    "X_test_bow = idx_to_bow(X_test)"
   ],
   "outputs": [],
   "metadata": {}
  },
  {
   "cell_type": "markdown",
   "source": [
    "# Model Definition"
   ],
   "metadata": {}
  },
  {
   "cell_type": "code",
   "execution_count": 12,
   "source": [
    "model = Sequential()\r\n",
    "model.add(Dense(25, input_shape=(vocab_size,), activation='relu'))\r\n",
    "model.add(Dropout(0.2))\r\n",
    "model.add(Dense(100, activation='relu'))\r\n",
    "model.add(Dropout(0.3))\r\n",
    "model.add(Dense(50, activation='relu'))\r\n",
    "model.add(Dense(len(emotions)))\r\n",
    "model.add(Softmax())\r\n",
    "model.compile(loss='categorical_crossentropy',\r\n",
    "              optimizer='adam',\r\n",
    "              metrics=['acc'])\r\n",
    "model.summary()"
   ],
   "outputs": [
    {
     "output_type": "stream",
     "name": "stdout",
     "text": [
      "Model: \"sequential\"\n",
      "_________________________________________________________________\n",
      "Layer (type)                 Output Shape              Param #   \n",
      "=================================================================\n",
      "dense (Dense)                (None, 25)                375075    \n",
      "_________________________________________________________________\n",
      "dropout (Dropout)            (None, 25)                0         \n",
      "_________________________________________________________________\n",
      "dense_1 (Dense)              (None, 100)               2600      \n",
      "_________________________________________________________________\n",
      "dropout_1 (Dropout)          (None, 100)               0         \n",
      "_________________________________________________________________\n",
      "dense_2 (Dense)              (None, 50)                5050      \n",
      "_________________________________________________________________\n",
      "dense_3 (Dense)              (None, 13)                663       \n",
      "_________________________________________________________________\n",
      "softmax (Softmax)            (None, 13)                0         \n",
      "=================================================================\n",
      "Total params: 383,388\n",
      "Trainable params: 383,388\n",
      "Non-trainable params: 0\n",
      "_________________________________________________________________\n"
     ]
    }
   ],
   "metadata": {}
  },
  {
   "cell_type": "code",
   "execution_count": 13,
   "source": [
    "model.fit(X_train_bow, y_train, epochs=10, validation_data=(X_dev_bow, y_dev))"
   ],
   "outputs": [
    {
     "output_type": "stream",
     "name": "stdout",
     "text": [
      "Epoch 1/10\n",
      "875/875 [==============================] - 39s 32ms/step - loss: 2.1703 - acc: 0.2468 - val_loss: 1.8894 - val_acc: 0.3560\n",
      "Epoch 2/10\n",
      "875/875 [==============================] - 17s 20ms/step - loss: 1.7943 - acc: 0.3889 - val_loss: 1.8829 - val_acc: 0.3643\n",
      "Epoch 3/10\n",
      "875/875 [==============================] - 17s 20ms/step - loss: 1.5778 - acc: 0.4745 - val_loss: 1.9531 - val_acc: 0.3442\n",
      "Epoch 4/10\n",
      "875/875 [==============================] - 17s 20ms/step - loss: 1.3898 - acc: 0.5364 - val_loss: 2.0875 - val_acc: 0.3295\n",
      "Epoch 5/10\n",
      "875/875 [==============================] - 16s 19ms/step - loss: 1.2195 - acc: 0.5900 - val_loss: 2.2609 - val_acc: 0.3235\n",
      "Epoch 6/10\n",
      "875/875 [==============================] - 16s 19ms/step - loss: 1.0917 - acc: 0.6329 - val_loss: 2.4343 - val_acc: 0.3117\n",
      "Epoch 7/10\n",
      "875/875 [==============================] - 18s 20ms/step - loss: 0.9790 - acc: 0.6703 - val_loss: 2.5926 - val_acc: 0.3075\n",
      "Epoch 8/10\n",
      "875/875 [==============================] - 15s 17ms/step - loss: 0.9094 - acc: 0.6956 - val_loss: 2.7670 - val_acc: 0.2995\n",
      "Epoch 9/10\n",
      "875/875 [==============================] - 16s 19ms/step - loss: 0.8585 - acc: 0.7092 - val_loss: 3.0074 - val_acc: 0.3083\n",
      "Epoch 10/10\n",
      "875/875 [==============================] - 16s 19ms/step - loss: 0.8001 - acc: 0.7250 - val_loss: 3.1429 - val_acc: 0.3002\n"
     ]
    },
    {
     "output_type": "execute_result",
     "data": {
      "text/plain": [
       "<tensorflow.python.keras.callbacks.History at 0x1162cdea488>"
      ]
     },
     "metadata": {},
     "execution_count": 13
    }
   ],
   "metadata": {}
  },
  {
   "cell_type": "code",
   "execution_count": 14,
   "source": [
    "test_loss, test_acc = model.evaluate(X_test_bow, y_test)\r\n",
    "print(\"Test Set Accuracy: %0.2f%%\"%(test_acc*100))"
   ],
   "outputs": [
    {
     "output_type": "stream",
     "name": "stdout",
     "text": [
      "250/250 [==============================] - 7s 5ms/step - loss: 3.1381 - acc: 0.2965\n",
      "Test Set Accuracy: 29.65%\n"
     ]
    }
   ],
   "metadata": {}
  },
  {
   "cell_type": "code",
   "execution_count": 15,
   "source": [
    "y_pred = model.predict(X_test_bow)\r\n",
    "y_pred = np.argmax(y_pred, axis=1)\r\n",
    "cm = confusion_matrix(np.argmax(y_test, axis=1), y_pred)\r\n",
    "plt.matshow(cm)\r\n",
    "plt.colorbar()\r\n",
    "\r\n",
    "tick_marks = np.arange(len(emotions))\r\n",
    "classes = sorted(emotions.keys(), key=lambda x: emotions[x])\r\n",
    "plt.xticks(tick_marks, classes, rotation=90)\r\n",
    "plt.yticks(tick_marks, classes)"
   ],
   "outputs": [
    {
     "output_type": "execute_result",
     "data": {
      "text/plain": [
       "([<matplotlib.axis.YTick at 0x1162cb51e48>,\n",
       "  <matplotlib.axis.YTick at 0x1162cb50508>,\n",
       "  <matplotlib.axis.YTick at 0x1162d09e5c8>,\n",
       "  <matplotlib.axis.YTick at 0x1164c7f5208>,\n",
       "  <matplotlib.axis.YTick at 0x1164c7f5f08>,\n",
       "  <matplotlib.axis.YTick at 0x1164c7f75c8>,\n",
       "  <matplotlib.axis.YTick at 0x1164c7fc1c8>,\n",
       "  <matplotlib.axis.YTick at 0x1164c7fcb48>,\n",
       "  <matplotlib.axis.YTick at 0x1164c801588>,\n",
       "  <matplotlib.axis.YTick at 0x1164c804088>,\n",
       "  <matplotlib.axis.YTick at 0x1164c804988>,\n",
       "  <matplotlib.axis.YTick at 0x1164c801e08>,\n",
       "  <matplotlib.axis.YTick at 0x1164c7e80c8>],\n",
       " <a list of 13 Text yticklabel objects>)"
      ]
     },
     "metadata": {},
     "execution_count": 15
    },
    {
     "output_type": "display_data",
     "data": {
      "image/png": "[encoded data removed]",
      "text/plain": [
       "<Figure size 288x288 with 2 Axes>"
      ]
     },
     "metadata": {
      "needs_background": "light"
     }
    }
   ],
   "metadata": {}
  },
  {
   "cell_type": "code",
   "execution_count": null,
   "source": [],
   "outputs": [],
   "metadata": {}
  }
 ],
 "metadata": {
  "kernelspec": {
   "name": "python3",
   "display_name": "Python 3.7.6 64-bit ('base': conda)"
  },
  "language_info": {
   "codemirror_mode": {
    "name": "ipython",
    "version": 3
   },
   "file_extension": ".py",
   "mimetype": "text/x-python",
   "name": "python",
   "nbconvert_exporter": "python",
   "pygments_lexer": "ipython3",
   "version": "3.7.6"
  },
  "interpreter": {
   "hash": "fbbb7d2143a1d68e1cf272edf0974e702b621cb99b4ee39ce84db3bf0ffb588e"
  }
 },
 "nbformat": 4,
 "nbformat_minor": 2
}