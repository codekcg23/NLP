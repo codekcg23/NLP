{
 "cells": [
  {
   "cell_type": "markdown",
   "source": [
    "### Natural Language Processing - Assignment 4\r\n",
    "#### September 2021\r\n",
    "\r\n",
    "###### Name: Kavishka Gamage\r\n",
    "###### Index No: 17000475"
   ],
   "metadata": {}
  },
  {
   "cell_type": "markdown",
   "source": [
    "### Import modules"
   ],
   "metadata": {}
  },
  {
   "cell_type": "code",
   "execution_count": 278,
   "source": [
    "import pandas as pd\r\n",
    "import numpy as np\r\n",
    "import matplotlib.pyplot as plt\r\n",
    "import seaborn as sns\r\n",
    "\r\n",
    "from sklearn.feature_extraction.text import CountVectorizer, TfidfVectorizer\r\n",
    "from sklearn.linear_model import LogisticRegression\r\n",
    "from sklearn.naive_bayes import MultinomialNB\r\n",
    "from sklearn.svm import SVC\r\n",
    "import sklearn.metrics as metrics\r\n",
    "from sklearn import preprocessing\r\n",
    "from sklearn.model_selection import train_test_split\r\n",
    "from sklearn.pipeline import Pipeline\r\n",
    "from collections import Counter\r\n",
    "\r\n",
    "import nltk\r\n",
    "from nltk.tokenize import word_tokenize\r\n",
    "from nltk.corpus import stopwords\r\n",
    "from nltk.stem import \tWordNetLemmatizer\r\n",
    "from nltk.stem.porter import PorterStemmer\r\n",
    "\r\n",
    "pd.set_option('display.max_colwidth', 1000)"
   ],
   "outputs": [],
   "metadata": {}
  },
  {
   "cell_type": "markdown",
   "source": [
    "### Answer (a)\r\n",
    "\r\n",
    "1. Read test, train files and merge to one dataframe\r\n",
    "2. preprocessing\r\n",
    "3. print number of suggesions ans non suggessions\r\n",
    "4. print number of total words and unique words"
   ],
   "metadata": {}
  },
  {
   "cell_type": "markdown",
   "source": [
    "#### a) 1. Read test, train files and merge to one dataframe"
   ],
   "metadata": {}
  },
  {
   "cell_type": "code",
   "execution_count": 279,
   "source": [
    "# read train and test files\r\n",
    "\r\n",
    "df_train = pd.read_csv('./Train/hotel.csv',sep=',',header=None)\r\n",
    "df_test = pd.read_csv('./Test/hotel.csv',sep=',', header= None)\r\n",
    "\r\n",
    "print(\" Train datset size = \",len(df_train),\" Test dataset size = \",len(df_test))\r\n",
    "\r\n",
    "# merge two datasets\r\n",
    "df = df_train.append(df_test,ignore_index=True)\r\n",
    "print(\" Full dataset size =\", len(df))\r\n",
    "\r\n",
    "# rename columns for readability\r\n",
    "df.columns=[\"id\",'text','label']\r\n",
    "\r\n",
    "df.head()"
   ],
   "outputs": [
    {
     "output_type": "stream",
     "name": "stdout",
     "text": [
      " Train datset size =  7534  Test dataset size =  808\n",
      " Full dataset size = 8342\n"
     ]
    },
    {
     "output_type": "execute_result",
     "data": {
      "text/html": [
       "<div>\n",
       "<style scoped>\n",
       "    .dataframe tbody tr th:only-of-type {\n",
       "        vertical-align: middle;\n",
       "    }\n",
       "\n",
       "    .dataframe tbody tr th {\n",
       "        vertical-align: top;\n",
       "    }\n",
       "\n",
       "    .dataframe thead th {\n",
       "        text-align: right;\n",
       "    }\n",
       "</style>\n",
       "<table border=\"1\" class=\"dataframe\">\n",
       "  <thead>\n",
       "    <tr style=\"text-align: right;\">\n",
       "      <th></th>\n",
       "      <th>id</th>\n",
       "      <th>text</th>\n",
       "      <th>label</th>\n",
       "    </tr>\n",
       "  </thead>\n",
       "  <tbody>\n",
       "    <tr>\n",
       "      <th>0</th>\n",
       "      <td>berlin-hotel-190599-review-1.json_0</td>\n",
       "      <td>This hotel was very modern and sleek.</td>\n",
       "      <td>0</td>\n",
       "    </tr>\n",
       "    <tr>\n",
       "      <th>1</th>\n",
       "      <td>berlin-hotel-190599-review-1.json_1</td>\n",
       "      <td>Beautiful, well-laid out, albeiit small rooms.</td>\n",
       "      <td>0</td>\n",
       "    </tr>\n",
       "    <tr>\n",
       "      <th>2</th>\n",
       "      <td>berlin-hotel-190599-review-1.json_2</td>\n",
       "      <td>Fantastic breakfast with an incredible selection of meats, cheeses, yogurts, breads etc. And, as a non-German speaker,</td>\n",
       "      <td>0</td>\n",
       "    </tr>\n",
       "    <tr>\n",
       "      <th>3</th>\n",
       "      <td>berlin-hotel-190599-review-1.json_3</td>\n",
       "      <td>the staff were uber-helpful.</td>\n",
       "      <td>0</td>\n",
       "    </tr>\n",
       "    <tr>\n",
       "      <th>4</th>\n",
       "      <td>berlin-hotel-190599-review-1.json_4</td>\n",
       "      <td>Great location in front of a u-bahn stop.</td>\n",
       "      <td>0</td>\n",
       "    </tr>\n",
       "  </tbody>\n",
       "</table>\n",
       "</div>"
      ],
      "text/plain": [
       "                                    id  \\\n",
       "0  berlin-hotel-190599-review-1.json_0   \n",
       "1  berlin-hotel-190599-review-1.json_1   \n",
       "2  berlin-hotel-190599-review-1.json_2   \n",
       "3  berlin-hotel-190599-review-1.json_3   \n",
       "4  berlin-hotel-190599-review-1.json_4   \n",
       "\n",
       "                                                                                                                     text  \\\n",
       "0                                                                                   This hotel was very modern and sleek.   \n",
       "1                                                                          Beautiful, well-laid out, albeiit small rooms.   \n",
       "2  Fantastic breakfast with an incredible selection of meats, cheeses, yogurts, breads etc. And, as a non-German speaker,   \n",
       "3                                                                                            the staff were uber-helpful.   \n",
       "4                                                                               Great location in front of a u-bahn stop.   \n",
       "\n",
       "   label  \n",
       "0      0  \n",
       "1      0  \n",
       "2      0  \n",
       "3      0  \n",
       "4      0  "
      ]
     },
     "metadata": {},
     "execution_count": 279
    }
   ],
   "metadata": {}
  },
  {
   "cell_type": "markdown",
   "source": [
    "Train and Test dataset is merged and in complete dataset there are three columns which named as id,text,label. \r\n",
    "label represent 0 as non suggesion and 1 as suggesion. Complete dataset has 8342 instances"
   ],
   "metadata": {}
  },
  {
   "cell_type": "markdown",
   "source": [
    "#### a) 2. preprocessing  "
   ],
   "metadata": {}
  },
  {
   "cell_type": "code",
   "execution_count": 280,
   "source": [
    "# decided to conduct mimimal preprocessing after observing data it dont include emojis or unicode symbols\r\n",
    "# Numbers shouldn't be removed because it's important in this problem context \r\n",
    "# remove puntuation Symbols except question mark and !\r\n",
    "\r\n",
    "\r\n",
    "def removePunctuation(txt):\r\n",
    "    exclude = set(\".…,‌ ¸‚\\\"/|—¦”‘\\'“’´<>#$%^=&*+\\-£˜()\\[\\]{\\}:;–Ê_�\")\r\n",
    "    return ''.join([(c if c not in exclude else \" \") for c in txt])\r\n",
    "\r\n",
    "# removing digits    \r\n",
    "def removeNumber(txt):\r\n",
    "    return ''.join(c for c in txt if not c.isnumeric())\r\n",
    "\r\n",
    "# lowercase and tokenize\r\n",
    "def lowercase(txt):\r\n",
    "    return [t.lower() for t in word_tokenize(txt)]\r\n",
    "\r\n",
    "print(\"Before preprocessing\")\r\n",
    "display(df['text'].head())\r\n",
    "\r\n",
    "df['cleaned'] = df['text'].apply(lambda x: removePunctuation(x))\r\n",
    "print(\"Remove selected punctuations \\n\")\r\n",
    "display(df['cleaned'].head())\r\n",
    "\r\n",
    "# df['cleaned'] = df['text'].apply(lambda x: removeNumber(x))\r\n",
    "# print(\"Remove numbers \\n\")\r\n",
    "# display(df['cleaned'].head(n=10))\r\n",
    "\r\n",
    "df['cleaned'] = df['cleaned'].apply(lambda x: lowercase(x))\r\n",
    "print(\"Lowercased and tokenized \\n\")\r\n",
    "display(df['cleaned'].head())\r\n"
   ],
   "outputs": [
    {
     "output_type": "stream",
     "name": "stdout",
     "text": [
      "Before preprocessing\n"
     ]
    },
    {
     "output_type": "display_data",
     "data": {
      "text/plain": [
       "0                                                                                     This hotel was very modern and sleek.\n",
       "1                                                                            Beautiful, well-laid out, albeiit small rooms.\n",
       "2    Fantastic breakfast with an incredible selection of meats, cheeses, yogurts, breads etc. And, as a non-German speaker,\n",
       "3                                                                                              the staff were uber-helpful.\n",
       "4                                                                                 Great location in front of a u-bahn stop.\n",
       "Name: text, dtype: object"
      ]
     },
     "metadata": {}
    },
    {
     "output_type": "stream",
     "name": "stdout",
     "text": [
      "Remove selected punctuations \n",
      "\n"
     ]
    },
    {
     "output_type": "display_data",
     "data": {
      "text/plain": [
       "0                                                                                     This hotel was very modern and sleek \n",
       "1                                                                            Beautiful  well laid out  albeiit small rooms \n",
       "2    Fantastic breakfast with an incredible selection of meats  cheeses  yogurts  breads etc  And  as a non German speaker \n",
       "3                                                                                              the staff were uber helpful \n",
       "4                                                                                 Great location in front of a u bahn stop \n",
       "Name: cleaned, dtype: object"
      ]
     },
     "metadata": {}
    },
    {
     "output_type": "stream",
     "name": "stdout",
     "text": [
      "Lowercased and tokenized \n",
      "\n"
     ]
    },
    {
     "output_type": "display_data",
     "data": {
      "text/plain": [
       "0                                                                                           [this, hotel, was, very, modern, and, sleek]\n",
       "1                                                                                    [beautiful, well, laid, out, albeiit, small, rooms]\n",
       "2    [fantastic, breakfast, with, an, incredible, selection, of, meats, cheeses, yogurts, breads, etc, and, as, a, non, german, speaker]\n",
       "3                                                                                                      [the, staff, were, uber, helpful]\n",
       "4                                                                                     [great, location, in, front, of, a, u, bahn, stop]\n",
       "Name: cleaned, dtype: object"
      ]
     },
     "metadata": {}
    }
   ],
   "metadata": {}
  },
  {
   "cell_type": "markdown",
   "source": [
    "First removed the puntuation and special characters in text column. Here intentionaly kept ! and ? becuase most of the cases these two punctuation gives a sentiment meaning to a sentence. \r\n",
    "\r\n",
    "Then preprocessing step followed by lowercasing all text and tokenizing using word_tokenizing in nltk. \r\n",
    "Intentionaly kept numerical values after obervation of dataset. It can be observed most of text compare servies related to star of the hotel. IN order to keep this useful information numeric value kept in the text."
   ],
   "metadata": {}
  },
  {
   "cell_type": "markdown",
   "source": [
    "#### a) 3. print number of suggesions and non suggessions"
   ],
   "metadata": {}
  },
  {
   "cell_type": "code",
   "execution_count": 281,
   "source": [
    "# number of suggesions and non suggessions\r\n",
    "\r\n",
    "display(df.groupby(['label'])['label'].describe()[['count']])\r\n",
    "\r\n",
    "print(\" Distribution percentage \")\r\n",
    "df.groupby(['label'])['label'].describe()[['count']]\r\n",
    "\r\n",
    "sns.countplot(x='label', data=df).set_title('Sugessions and Non sugeesions Distribution')\r\n",
    "df['label'].value_counts(normalize=True) * 100\r\n"
   ],
   "outputs": [
    {
     "output_type": "display_data",
     "data": {
      "text/html": [
       "<div>\n",
       "<style scoped>\n",
       "    .dataframe tbody tr th:only-of-type {\n",
       "        vertical-align: middle;\n",
       "    }\n",
       "\n",
       "    .dataframe tbody tr th {\n",
       "        vertical-align: top;\n",
       "    }\n",
       "\n",
       "    .dataframe thead th {\n",
       "        text-align: right;\n",
       "    }\n",
       "</style>\n",
       "<table border=\"1\" class=\"dataframe\">\n",
       "  <thead>\n",
       "    <tr style=\"text-align: right;\">\n",
       "      <th></th>\n",
       "      <th>count</th>\n",
       "    </tr>\n",
       "    <tr>\n",
       "      <th>label</th>\n",
       "      <th></th>\n",
       "    </tr>\n",
       "  </thead>\n",
       "  <tbody>\n",
       "    <tr>\n",
       "      <th>0</th>\n",
       "      <td>7490.0</td>\n",
       "    </tr>\n",
       "    <tr>\n",
       "      <th>1</th>\n",
       "      <td>852.0</td>\n",
       "    </tr>\n",
       "  </tbody>\n",
       "</table>\n",
       "</div>"
      ],
      "text/plain": [
       "        count\n",
       "label        \n",
       "0      7490.0\n",
       "1       852.0"
      ]
     },
     "metadata": {}
    },
    {
     "output_type": "stream",
     "name": "stdout",
     "text": [
      " Distribution percentage \n"
     ]
    },
    {
     "output_type": "execute_result",
     "data": {
      "text/plain": [
       "0    89.786622\n",
       "1    10.213378\n",
       "Name: label, dtype: float64"
      ]
     },
     "metadata": {},
     "execution_count": 281
    },
    {
     "output_type": "display_data",
     "data": {
      "image/png": "[encoded data removed]",
      "text/plain": [
       "<Figure size 432x288 with 1 Axes>"
      ]
     },
     "metadata": {
      "needs_background": "light"
     }
    }
   ],
   "metadata": {}
  },
  {
   "cell_type": "markdown",
   "source": [
    "Highly imbalanced dataset. There are 89% of non suggesion instances and 10% of suggesion instances. However I will keep the distribution same as orginal dataset without going for any data augmentaion steps."
   ],
   "metadata": {}
  },
  {
   "cell_type": "markdown",
   "source": [
    "#### a) 4. print number of total words and unique words"
   ],
   "metadata": {}
  },
  {
   "cell_type": "code",
   "execution_count": 282,
   "source": [
    "# function to print number of total words and unique words\r\n",
    "\r\n",
    "def dataset_details(df):\r\n",
    "    \r\n",
    "    results = Counter()\r\n",
    "    df['cleaned'].apply(results.update)\r\n",
    "    unique_words = len(results)\r\n",
    "    total_words = df.cleaned.apply(lambda x :len(x)).sum(axis=0)\r\n",
    "    max_len = df.cleaned.apply(lambda x :len(x)).max(axis=0)\r\n",
    "    min_len = df.cleaned.apply(lambda x :len(x)).min(axis=0)\r\n",
    "    print(\"Unique word count = \", unique_words,\" Total word count = \",total_words)\r\n",
    "    print(\"Minimum document length = \",min_len,\" Maximum document length = \",max_len)\r\n",
    "\r\n",
    "dataset_details(df)"
   ],
   "outputs": [
    {
     "output_type": "stream",
     "name": "stdout",
     "text": [
      "Unique word count =  8001  Total word count =  121267\n",
      "Minimum document length =  0  Maximum document length =  71\n"
     ]
    }
   ],
   "metadata": {}
  },
  {
   "cell_type": "markdown",
   "source": [
    "### Answer (b)\r\n",
    "\r\n",
    "1. Remove stop words\r\n",
    "2. stem or lemmatize\r\n",
    "3. print minimum and maximum document size after each step"
   ],
   "metadata": {}
  },
  {
   "cell_type": "markdown",
   "source": [
    "#### b) 1.Remove stop words"
   ],
   "metadata": {}
  },
  {
   "cell_type": "code",
   "execution_count": 283,
   "source": [
    "# Insert code for part (b)\r\n",
    "# 1. Remove stop words\r\n",
    "\r\n",
    "# Import NLTK stopwords\r\n",
    "# nltk.download('stopwords')\r\n",
    "def removeStopWords(tokens):\r\n",
    "    stop_words = set(stopwords.words('english'))\r\n",
    "    return [t for t in tokens if t not in stop_words]\r\n",
    "    \r\n",
    "# def stop_words():\r\n",
    "\r\n",
    "#     for w in remove_stop_words:\r\n",
    "#         if w in stop_words:\r\n",
    "#             stop_words.remove(w)\r\n",
    "#     return ''.join([(w if w not in stop_words else \" \") for w in txt])\r\n",
    "\r\n",
    "print(\"Before stop word removal\")\r\n",
    "display(df['cleaned'].head())\r\n",
    "\r\n",
    "df['cleaned'] = df['cleaned'].apply(lambda x: removeStopWords(x))\r\n",
    "print(\"Remove stop words \\n\")\r\n",
    "display(df['cleaned'].head())\r\n",
    "\r\n"
   ],
   "outputs": [
    {
     "output_type": "stream",
     "name": "stdout",
     "text": [
      "Before stop word removal\n"
     ]
    },
    {
     "output_type": "display_data",
     "data": {
      "text/plain": [
       "0                                                                                           [this, hotel, was, very, modern, and, sleek]\n",
       "1                                                                                    [beautiful, well, laid, out, albeiit, small, rooms]\n",
       "2    [fantastic, breakfast, with, an, incredible, selection, of, meats, cheeses, yogurts, breads, etc, and, as, a, non, german, speaker]\n",
       "3                                                                                                      [the, staff, were, uber, helpful]\n",
       "4                                                                                     [great, location, in, front, of, a, u, bahn, stop]\n",
       "Name: cleaned, dtype: object"
      ]
     },
     "metadata": {}
    },
    {
     "output_type": "stream",
     "name": "stdout",
     "text": [
      "Remove stop words \n",
      "\n"
     ]
    },
    {
     "output_type": "display_data",
     "data": {
      "text/plain": [
       "0                                                                                       [hotel, modern, sleek]\n",
       "1                                                               [beautiful, well, laid, albeiit, small, rooms]\n",
       "2    [fantastic, breakfast, incredible, selection, meats, cheeses, yogurts, breads, etc, non, german, speaker]\n",
       "3                                                                                       [staff, uber, helpful]\n",
       "4                                                                      [great, location, front, u, bahn, stop]\n",
       "Name: cleaned, dtype: object"
      ]
     },
     "metadata": {}
    }
   ],
   "metadata": {}
  },
  {
   "cell_type": "markdown",
   "source": [
    "Stop words remoed to reduce the features dimentionality in text representaion."
   ],
   "metadata": {}
  },
  {
   "cell_type": "code",
   "execution_count": 284,
   "source": [
    "# print minimum and maximum document size after stop words removal\r\n",
    "dataset_details(df)"
   ],
   "outputs": [
    {
     "output_type": "stream",
     "name": "stdout",
     "text": [
      "Unique word count =  7857  Total word count =  61308\n",
      "Minimum document length =  0  Maximum document length =  41\n"
     ]
    }
   ],
   "metadata": {}
  },
  {
   "cell_type": "markdown",
   "source": [
    "It can be oberved there is no larger differnece happend to unique word count but total word count got reduced by very large margin"
   ],
   "metadata": {}
  },
  {
   "cell_type": "markdown",
   "source": [
    "#### b) 2. stemming"
   ],
   "metadata": {}
  },
  {
   "cell_type": "code",
   "execution_count": 285,
   "source": [
    "# Initialize NLTK Porter stemmer \r\n",
    "porter = nltk.PorterStemmer()\r\n",
    "\r\n",
    "print(\"Before stemming \\n\")\r\n",
    "display(df['cleaned'].head())\r\n",
    "\r\n",
    "# Stem the words\r\n",
    "df[\"cleaned\"] = df[\"cleaned\"].apply(lambda x: [porter.stem(word) for word in x] )\r\n",
    "\r\n",
    "print(\" After stemming \\n\")\r\n",
    "display(df['cleaned'].head())\r\n"
   ],
   "outputs": [
    {
     "output_type": "stream",
     "name": "stdout",
     "text": [
      "Before stemming \n",
      "\n"
     ]
    },
    {
     "output_type": "display_data",
     "data": {
      "text/plain": [
       "0                                                                                       [hotel, modern, sleek]\n",
       "1                                                               [beautiful, well, laid, albeiit, small, rooms]\n",
       "2    [fantastic, breakfast, incredible, selection, meats, cheeses, yogurts, breads, etc, non, german, speaker]\n",
       "3                                                                                       [staff, uber, helpful]\n",
       "4                                                                      [great, location, front, u, bahn, stop]\n",
       "Name: cleaned, dtype: object"
      ]
     },
     "metadata": {}
    },
    {
     "output_type": "stream",
     "name": "stdout",
     "text": [
      " After stemming \n",
      "\n"
     ]
    },
    {
     "output_type": "display_data",
     "data": {
      "text/plain": [
       "0                                                                         [hotel, modern, sleek]\n",
       "1                                                     [beauti, well, laid, albeiit, small, room]\n",
       "2    [fantast, breakfast, incred, select, meat, chees, yogurt, bread, etc, non, german, speaker]\n",
       "3                                                                            [staff, uber, help]\n",
       "4                                                           [great, locat, front, u, bahn, stop]\n",
       "Name: cleaned, dtype: object"
      ]
     },
     "metadata": {}
    }
   ],
   "metadata": {}
  },
  {
   "cell_type": "markdown",
   "source": [
    "Stemming also helps to reduce the vocabluary of dataset."
   ],
   "metadata": {}
  },
  {
   "cell_type": "code",
   "execution_count": 286,
   "source": [
    "# print minimum and maximum document size after stemming\r\n",
    "dataset_details(df)"
   ],
   "outputs": [
    {
     "output_type": "stream",
     "name": "stdout",
     "text": [
      "Unique word count =  5900  Total word count =  61308\n",
      "Minimum document length =  0  Maximum document length =  41\n"
     ]
    }
   ],
   "metadata": {}
  },
  {
   "cell_type": "markdown",
   "source": [
    "Total word count has increased and unique word count has got recuded. So vocabluary of dataset get reduced."
   ],
   "metadata": {}
  },
  {
   "cell_type": "markdown",
   "source": [
    "#### c) 1. BOW representation"
   ],
   "metadata": {}
  },
  {
   "cell_type": "code",
   "execution_count": 287,
   "source": [
    "# Insert code for part (c)\r\n",
    "# 1. BOW representaion\r\n",
    "def bow(X_train,X_test, analyzer=\"word\", ngram=(1,1),min_df = 1):\r\n",
    "\r\n",
    "    X_train = [\" \".join(i) for i in X_train]\r\n",
    "    bow = CountVectorizer(analyzer=analyzer,ngram_range=ngram,lowercase=False,min_df=min_df)\r\n",
    "\r\n",
    "    X_train_bow = bow.fit_transform(X_train)\r\n",
    "\r\n",
    "    X_test = [\" \".join(i) for i in X_test]\r\n",
    "    X_test_bow = bow.transform(X_test)\r\n",
    "\r\n",
    "    #print(bow.get_feature_names()[:20])\r\n",
    "    #print('The shape is', bow.shape)\r\n",
    "    # postion\r\n",
    "    #print(bow.vocabulary_)\r\n",
    "\r\n",
    "    return X_train_bow,X_test_bow"
   ],
   "outputs": [],
   "metadata": {}
  },
  {
   "cell_type": "markdown",
   "source": [
    "#### c) 2. TFIDF representation"
   ],
   "metadata": {}
  },
  {
   "cell_type": "code",
   "execution_count": 288,
   "source": [
    "# 2. TFIDF representation\r\n",
    "def tfidf(X_train,X_test,analyzer=\"word\", ngram=(1,1),min_df=1):\r\n",
    "\r\n",
    "    X_train = [\" \".join(i) for i in X_train]\r\n",
    "    tfidf = TfidfVectorizer(analyzer=analyzer,ngram_range=ngram,lowercase=False,min_df=min_df)\r\n",
    "    X_train_tfidf = tfidf.fit_transform(X_train)\r\n",
    "    #\r\n",
    "    X_test = [\" \".join(i) for i in X_test]\r\n",
    "    X_test_tfidf = tfidf.transform(X_test)\r\n",
    "    # print(tfidf.get_feature_names()[:20])\r\n",
    "    # #print('The shape is', tfidf.shape)\r\n",
    "    # # postion\r\n",
    "    # print(tfidf.vocabulary_)\r\n",
    "    return X_train_tfidf,X_test_tfidf"
   ],
   "outputs": [],
   "metadata": {}
  },
  {
   "cell_type": "markdown",
   "source": [
    "#### c) 3. supervised classifier"
   ],
   "metadata": {}
  },
  {
   "cell_type": "code",
   "execution_count": 289,
   "source": [
    "# 3. Supervised classifiers\r\n",
    "\r\n",
    "# logistic regression\r\n",
    "def lr(X_train,X_test,Y_train):\r\n",
    "    lr = LogisticRegression()\r\n",
    "    lr.fit(X_train,Y_train)\r\n",
    "    Y_pred = lr.predict(X_test)\r\n",
    "    return Y_pred\r\n",
    "\r\n",
    "# SVC\r\n",
    "def svc(X_train,X_test,Y_train):\r\n",
    "    svc = SVC(kernel=\"linear\")\r\n",
    "    svc.fit(X_train,Y_train)\r\n",
    "    Y_pred = svc.predict(X_test)\r\n",
    "    return Y_pred\r\n",
    "    \r\n"
   ],
   "outputs": [],
   "metadata": {}
  },
  {
   "cell_type": "markdown",
   "source": [
    "#### c) 4. evaluation"
   ],
   "metadata": {}
  },
  {
   "cell_type": "code",
   "execution_count": 290,
   "source": [
    "\r\n",
    "# function to evalaute multiple classifier and multiple feature representations\r\n",
    "def classifier_feature(df,models,features,analyzer = \"word\", ngram=(1,1),min_df=1):\r\n",
    "\r\n",
    "    final_result =pd.DataFrame(columns=['Accuracy','F1-score','Recall','Precision','AUC'])\r\n",
    "\r\n",
    "    # use stratified sampling considering label distribution\r\n",
    "    X_train, X_test, Y_train, Y_test = train_test_split(df['cleaned'], df['label'], test_size=0.3, random_state=0, stratify=df['label'].values)\r\n",
    "    print(\"X train {} Y train {} X test {} Y test {}\".format(X_train.shape, Y_train.shape, X_test.shape, Y_test.shape))\r\n",
    "\r\n",
    "    # feature representations\r\n",
    "    for feature_name,feature in features.items():\r\n",
    "        feature_result =pd.DataFrame(columns=['Accuracy','F1-score','Recall','Precision','AUC'])\r\n",
    "        X_train_f,X_test_f = feature(X_train,X_test,analyzer,ngram,min_df)\r\n",
    "        \r\n",
    "        #classifeir representation\r\n",
    "        for model_name,model in models.items():\r\n",
    "            name = feature_name+ \" + \"+ model_name\r\n",
    "            print(name)\r\n",
    "            Y_pred = model(X_train_f,X_test_f,Y_train)\r\n",
    "            accuracy, f1_score, recall, precision, auc = result(Y_test,Y_pred)\r\n",
    "            final_result.loc[name] = [accuracy, f1_score, recall, precision, auc]\r\n",
    "            feature_result.loc[model_name] =[accuracy, f1_score, recall, precision, auc]\r\n",
    "        print(\" ==== \",feature_name ,\" ==== \")\r\n",
    "        display(feature_result)\r\n",
    "    print(\" ==== Final Result Summary ==== \")\r\n",
    "    display(final_result)\r\n",
    "    return final_result"
   ],
   "outputs": [],
   "metadata": {}
  },
  {
   "cell_type": "code",
   "execution_count": 291,
   "source": [
    "# function to print evaluation matrix and confusion matrix\r\n",
    "def result(y_test, y_pred):\r\n",
    "\r\n",
    "    classes = np.unique(y_test)\r\n",
    " \r\n",
    "    accuracy = metrics.accuracy_score(y_test, y_pred)\r\n",
    "    auc = metrics.roc_auc_score(y_test, y_pred)\r\n",
    "    precision = metrics.precision_score(y_test, y_pred)\r\n",
    "    recall = metrics.recall_score(y_test, y_pred)\r\n",
    "    f1_score = metrics.f1_score(y_test, y_pred)\r\n",
    "\r\n",
    "    print(metrics.classification_report(y_test, y_pred))\r\n",
    "\r\n",
    "    # Plot confusion matrix\r\n",
    "    cm = metrics.confusion_matrix(y_test, y_pred)\r\n",
    "    fig, ax = plt.subplots()\r\n",
    "    sns.heatmap(cm, annot=True, fmt='d', ax=ax, cmap=plt.cm.Blues, cbar=False)\r\n",
    "    ax.set(xlabel=\"Predicted\", ylabel=\"Actual\", xticklabels=classes,\r\n",
    "           yticklabels=classes, title=\"Confusion matrix\")\r\n",
    "    plt.yticks(rotation=0)\r\n",
    "    plt.show()\r\n",
    "  \r\n",
    "    return (accuracy, f1_score, recall, precision, auc)"
   ],
   "outputs": [],
   "metadata": {}
  },
  {
   "cell_type": "code",
   "execution_count": 292,
   "source": [
    "model_dict = {\"lr\":lr,'svc':svc}\r\n",
    "feature_dict = {\"bow\":bow,\"tfidf\":tfidf}\r\n",
    "final_result1 = classifier_feature(df,model_dict,feature_dict)"
   ],
   "outputs": [
    {
     "output_type": "stream",
     "name": "stdout",
     "text": [
      "X train (5839,) Y train (5839,) X test (2503,) Y test (2503,)\n",
      "bow + lr\n",
      "              precision    recall  f1-score   support\n",
      "\n",
      "           0       0.93      0.98      0.95      2247\n",
      "           1       0.67      0.36      0.47       256\n",
      "\n",
      "    accuracy                           0.92      2503\n",
      "   macro avg       0.80      0.67      0.71      2503\n",
      "weighted avg       0.90      0.92      0.90      2503\n",
      "\n"
     ]
    },
    {
     "output_type": "display_data",
     "data": {
      "image/png": "[encoded data removed]",
      "text/plain": [
       "<Figure size 432x288 with 1 Axes>"
      ]
     },
     "metadata": {
      "needs_background": "light"
     }
    },
    {
     "output_type": "stream",
     "name": "stdout",
     "text": [
      "bow + svc\n",
      "              precision    recall  f1-score   support\n",
      "\n",
      "           0       0.94      0.96      0.95      2247\n",
      "           1       0.57      0.48      0.52       256\n",
      "\n",
      "    accuracy                           0.91      2503\n",
      "   macro avg       0.76      0.72      0.73      2503\n",
      "weighted avg       0.90      0.91      0.91      2503\n",
      "\n"
     ]
    },
    {
     "output_type": "display_data",
     "data": {
      "image/png": "[encoded data removed]",
      "text/plain": [
       "<Figure size 432x288 with 1 Axes>"
      ]
     },
     "metadata": {
      "needs_background": "light"
     }
    },
    {
     "output_type": "stream",
     "name": "stdout",
     "text": [
      " ====  bow  ==== \n"
     ]
    },
    {
     "output_type": "display_data",
     "data": {
      "text/html": [
       "<div>\n",
       "<style scoped>\n",
       "    .dataframe tbody tr th:only-of-type {\n",
       "        vertical-align: middle;\n",
       "    }\n",
       "\n",
       "    .dataframe tbody tr th {\n",
       "        vertical-align: top;\n",
       "    }\n",
       "\n",
       "    .dataframe thead th {\n",
       "        text-align: right;\n",
       "    }\n",
       "</style>\n",
       "<table border=\"1\" class=\"dataframe\">\n",
       "  <thead>\n",
       "    <tr style=\"text-align: right;\">\n",
       "      <th></th>\n",
       "      <th>Accuracy</th>\n",
       "      <th>F1-score</th>\n",
       "      <th>Recall</th>\n",
       "      <th>Precision</th>\n",
       "      <th>AUC</th>\n",
       "    </tr>\n",
       "  </thead>\n",
       "  <tbody>\n",
       "    <tr>\n",
       "      <th>lr</th>\n",
       "      <td>0.916101</td>\n",
       "      <td>0.467005</td>\n",
       "      <td>0.359375</td>\n",
       "      <td>0.666667</td>\n",
       "      <td>0.669452</td>\n",
       "    </tr>\n",
       "    <tr>\n",
       "      <th>svc</th>\n",
       "      <td>0.909708</td>\n",
       "      <td>0.519149</td>\n",
       "      <td>0.476562</td>\n",
       "      <td>0.570093</td>\n",
       "      <td>0.717810</td>\n",
       "    </tr>\n",
       "  </tbody>\n",
       "</table>\n",
       "</div>"
      ],
      "text/plain": [
       "     Accuracy  F1-score    Recall  Precision       AUC\n",
       "lr   0.916101  0.467005  0.359375   0.666667  0.669452\n",
       "svc  0.909708  0.519149  0.476562   0.570093  0.717810"
      ]
     },
     "metadata": {}
    },
    {
     "output_type": "stream",
     "name": "stdout",
     "text": [
      "tfidf + lr\n",
      "              precision    recall  f1-score   support\n",
      "\n",
      "           0       0.91      0.99      0.95      2247\n",
      "           1       0.66      0.12      0.20       256\n",
      "\n",
      "    accuracy                           0.90      2503\n",
      "   macro avg       0.78      0.56      0.58      2503\n",
      "weighted avg       0.88      0.90      0.87      2503\n",
      "\n"
     ]
    },
    {
     "output_type": "display_data",
     "data": {
      "image/png": "[encoded data removed]",
      "text/plain": [
       "<Figure size 432x288 with 1 Axes>"
      ]
     },
     "metadata": {
      "needs_background": "light"
     }
    },
    {
     "output_type": "stream",
     "name": "stdout",
     "text": [
      "tfidf + svc\n",
      "              precision    recall  f1-score   support\n",
      "\n",
      "           0       0.92      0.99      0.95      2247\n",
      "           1       0.68      0.25      0.37       256\n",
      "\n",
      "    accuracy                           0.91      2503\n",
      "   macro avg       0.80      0.62      0.66      2503\n",
      "weighted avg       0.90      0.91      0.89      2503\n",
      "\n"
     ]
    },
    {
     "output_type": "display_data",
     "data": {
      "image/png": "[encoded data removed]",
      "text/plain": [
       "<Figure size 432x288 with 1 Axes>"
      ]
     },
     "metadata": {
      "needs_background": "light"
     }
    },
    {
     "output_type": "stream",
     "name": "stdout",
     "text": [
      " ====  tfidf  ==== \n"
     ]
    },
    {
     "output_type": "display_data",
     "data": {
      "text/html": [
       "<div>\n",
       "<style scoped>\n",
       "    .dataframe tbody tr th:only-of-type {\n",
       "        vertical-align: middle;\n",
       "    }\n",
       "\n",
       "    .dataframe tbody tr th {\n",
       "        vertical-align: top;\n",
       "    }\n",
       "\n",
       "    .dataframe thead th {\n",
       "        text-align: right;\n",
       "    }\n",
       "</style>\n",
       "<table border=\"1\" class=\"dataframe\">\n",
       "  <thead>\n",
       "    <tr style=\"text-align: right;\">\n",
       "      <th></th>\n",
       "      <th>Accuracy</th>\n",
       "      <th>F1-score</th>\n",
       "      <th>Recall</th>\n",
       "      <th>Precision</th>\n",
       "      <th>AUC</th>\n",
       "    </tr>\n",
       "  </thead>\n",
       "  <tbody>\n",
       "    <tr>\n",
       "      <th>lr</th>\n",
       "      <td>0.903716</td>\n",
       "      <td>0.20462</td>\n",
       "      <td>0.121094</td>\n",
       "      <td>0.659574</td>\n",
       "      <td>0.556987</td>\n",
       "    </tr>\n",
       "    <tr>\n",
       "      <th>svc</th>\n",
       "      <td>0.911706</td>\n",
       "      <td>0.37037</td>\n",
       "      <td>0.253906</td>\n",
       "      <td>0.684211</td>\n",
       "      <td>0.620278</td>\n",
       "    </tr>\n",
       "  </tbody>\n",
       "</table>\n",
       "</div>"
      ],
      "text/plain": [
       "     Accuracy  F1-score    Recall  Precision       AUC\n",
       "lr   0.903716   0.20462  0.121094   0.659574  0.556987\n",
       "svc  0.911706   0.37037  0.253906   0.684211  0.620278"
      ]
     },
     "metadata": {}
    },
    {
     "output_type": "stream",
     "name": "stdout",
     "text": [
      " ==== Final Result Summary ==== \n"
     ]
    },
    {
     "output_type": "display_data",
     "data": {
      "text/html": [
       "<div>\n",
       "<style scoped>\n",
       "    .dataframe tbody tr th:only-of-type {\n",
       "        vertical-align: middle;\n",
       "    }\n",
       "\n",
       "    .dataframe tbody tr th {\n",
       "        vertical-align: top;\n",
       "    }\n",
       "\n",
       "    .dataframe thead th {\n",
       "        text-align: right;\n",
       "    }\n",
       "</style>\n",
       "<table border=\"1\" class=\"dataframe\">\n",
       "  <thead>\n",
       "    <tr style=\"text-align: right;\">\n",
       "      <th></th>\n",
       "      <th>Accuracy</th>\n",
       "      <th>F1-score</th>\n",
       "      <th>Recall</th>\n",
       "      <th>Precision</th>\n",
       "      <th>AUC</th>\n",
       "    </tr>\n",
       "  </thead>\n",
       "  <tbody>\n",
       "    <tr>\n",
       "      <th>bow + lr</th>\n",
       "      <td>0.916101</td>\n",
       "      <td>0.467005</td>\n",
       "      <td>0.359375</td>\n",
       "      <td>0.666667</td>\n",
       "      <td>0.669452</td>\n",
       "    </tr>\n",
       "    <tr>\n",
       "      <th>bow + svc</th>\n",
       "      <td>0.909708</td>\n",
       "      <td>0.519149</td>\n",
       "      <td>0.476562</td>\n",
       "      <td>0.570093</td>\n",
       "      <td>0.717810</td>\n",
       "    </tr>\n",
       "    <tr>\n",
       "      <th>tfidf + lr</th>\n",
       "      <td>0.903716</td>\n",
       "      <td>0.204620</td>\n",
       "      <td>0.121094</td>\n",
       "      <td>0.659574</td>\n",
       "      <td>0.556987</td>\n",
       "    </tr>\n",
       "    <tr>\n",
       "      <th>tfidf + svc</th>\n",
       "      <td>0.911706</td>\n",
       "      <td>0.370370</td>\n",
       "      <td>0.253906</td>\n",
       "      <td>0.684211</td>\n",
       "      <td>0.620278</td>\n",
       "    </tr>\n",
       "  </tbody>\n",
       "</table>\n",
       "</div>"
      ],
      "text/plain": [
       "             Accuracy  F1-score    Recall  Precision       AUC\n",
       "bow + lr     0.916101  0.467005  0.359375   0.666667  0.669452\n",
       "bow + svc    0.909708  0.519149  0.476562   0.570093  0.717810\n",
       "tfidf + lr   0.903716  0.204620  0.121094   0.659574  0.556987\n",
       "tfidf + svc  0.911706  0.370370  0.253906   0.684211  0.620278"
      ]
     },
     "metadata": {}
    }
   ],
   "metadata": {}
  },
  {
   "cell_type": "markdown",
   "source": [
    "BOW and TF-IDF Text represntaions for unigrams conducted with Logistic regressiona (LR) and support vecotr classifer (SVC). Here I have used linear kernel after experimenting poort performence with default rbf kernel. \r\n",
    "\r\n",
    "BOW and SVC combinaiton gives the best F1-score and AUC score. This combination able to idnetify 122 suggesions correctly. Accuaracy metric will not be considered to compare classifier and text representaion combination result as this is imbalanced dataset."
   ],
   "metadata": {}
  },
  {
   "cell_type": "markdown",
   "source": [
    "### Answer (d)\r\n",
    "\r\n",
    "1. suggest improvements\r\n",
    "2. implement suggested improvement\r\n",
    "3. evaluate improvement\r\n",
    "4. print confusion matrix of best combination"
   ],
   "metadata": {}
  },
  {
   "cell_type": "markdown",
   "source": [
    "#### d) 1. suggest improvement"
   ],
   "metadata": {}
  },
  {
   "cell_type": "markdown",
   "source": [
    "Improvents to increase performence\r\n",
    "\r\n",
    "1. Use character analyzer in bow , tfidf representaion.\r\n",
    "2. change n-gram range in vectorizers.\r\n",
    "3. Eliminate words doesn't appear more than twise "
   ],
   "metadata": {}
  },
  {
   "cell_type": "markdown",
   "source": [
    "#### d) 2. implement suggested improvements"
   ],
   "metadata": {}
  },
  {
   "cell_type": "code",
   "execution_count": 294,
   "source": [
    "# 2. implement suggesion 1  - character analyzer\r\n",
    "\r\n",
    "model_dict = {\"lr\":lr,'svc':svc}\r\n",
    "feature_dict = {\"bow-char\":bow,\"tfidf-char\":tfidf}\r\n",
    "final_result2 = classifier_feature(df,model_dict,feature_dict,analyzer='char',ngram=(3,6))"
   ],
   "outputs": [
    {
     "output_type": "stream",
     "name": "stdout",
     "text": [
      "X train (5839,) Y train (5839,) X test (2503,) Y test (2503,)\n",
      "bow-char + lr\n",
      "              precision    recall  f1-score   support\n",
      "\n",
      "           0       0.93      0.98      0.96      2247\n",
      "           1       0.67      0.40      0.50       256\n",
      "\n",
      "    accuracy                           0.92      2503\n",
      "   macro avg       0.80      0.69      0.73      2503\n",
      "weighted avg       0.91      0.92      0.91      2503\n",
      "\n"
     ]
    },
    {
     "output_type": "display_data",
     "data": {
      "image/png": "[encoded data removed]",
      "text/plain": [
       "<Figure size 432x288 with 1 Axes>"
      ]
     },
     "metadata": {
      "needs_background": "light"
     }
    },
    {
     "output_type": "stream",
     "name": "stdout",
     "text": [
      "bow-char + svc\n",
      "              precision    recall  f1-score   support\n",
      "\n",
      "           0       0.94      0.97      0.95      2247\n",
      "           1       0.58      0.43      0.49       256\n",
      "\n",
      "    accuracy                           0.91      2503\n",
      "   macro avg       0.76      0.70      0.72      2503\n",
      "weighted avg       0.90      0.91      0.90      2503\n",
      "\n"
     ]
    },
    {
     "output_type": "display_data",
     "data": {
      "image/png": "[encoded data removed]",
      "text/plain": [
       "<Figure size 432x288 with 1 Axes>"
      ]
     },
     "metadata": {
      "needs_background": "light"
     }
    },
    {
     "output_type": "stream",
     "name": "stdout",
     "text": [
      " ====  bow-char  ==== \n"
     ]
    },
    {
     "output_type": "display_data",
     "data": {
      "text/html": [
       "<div>\n",
       "<style scoped>\n",
       "    .dataframe tbody tr th:only-of-type {\n",
       "        vertical-align: middle;\n",
       "    }\n",
       "\n",
       "    .dataframe tbody tr th {\n",
       "        vertical-align: top;\n",
       "    }\n",
       "\n",
       "    .dataframe thead th {\n",
       "        text-align: right;\n",
       "    }\n",
       "</style>\n",
       "<table border=\"1\" class=\"dataframe\">\n",
       "  <thead>\n",
       "    <tr style=\"text-align: right;\">\n",
       "      <th></th>\n",
       "      <th>Accuracy</th>\n",
       "      <th>F1-score</th>\n",
       "      <th>Recall</th>\n",
       "      <th>Precision</th>\n",
       "      <th>AUC</th>\n",
       "    </tr>\n",
       "  </thead>\n",
       "  <tbody>\n",
       "    <tr>\n",
       "      <th>lr</th>\n",
       "      <td>0.918098</td>\n",
       "      <td>0.498778</td>\n",
       "      <td>0.398438</td>\n",
       "      <td>0.666667</td>\n",
       "      <td>0.687870</td>\n",
       "    </tr>\n",
       "    <tr>\n",
       "      <th>svc</th>\n",
       "      <td>0.910108</td>\n",
       "      <td>0.492099</td>\n",
       "      <td>0.425781</td>\n",
       "      <td>0.582888</td>\n",
       "      <td>0.695534</td>\n",
       "    </tr>\n",
       "  </tbody>\n",
       "</table>\n",
       "</div>"
      ],
      "text/plain": [
       "     Accuracy  F1-score    Recall  Precision       AUC\n",
       "lr   0.918098  0.498778  0.398438   0.666667  0.687870\n",
       "svc  0.910108  0.492099  0.425781   0.582888  0.695534"
      ]
     },
     "metadata": {}
    },
    {
     "output_type": "stream",
     "name": "stdout",
     "text": [
      "tfidf-char + lr\n",
      "              precision    recall  f1-score   support\n",
      "\n",
      "           0       0.90      1.00      0.95      2247\n",
      "           1       0.73      0.07      0.13       256\n",
      "\n",
      "    accuracy                           0.90      2503\n",
      "   macro avg       0.82      0.54      0.54      2503\n",
      "weighted avg       0.89      0.90      0.87      2503\n",
      "\n"
     ]
    },
    {
     "output_type": "display_data",
     "data": {
      "image/png": "[encoded data removed]",
      "text/plain": [
       "<Figure size 432x288 with 1 Axes>"
      ]
     },
     "metadata": {
      "needs_background": "light"
     }
    },
    {
     "output_type": "stream",
     "name": "stdout",
     "text": [
      "tfidf-char + svc\n",
      "              precision    recall  f1-score   support\n",
      "\n",
      "           0       0.92      0.99      0.95      2247\n",
      "           1       0.77      0.23      0.35       256\n",
      "\n",
      "    accuracy                           0.91      2503\n",
      "   macro avg       0.84      0.61      0.65      2503\n",
      "weighted avg       0.90      0.91      0.89      2503\n",
      "\n"
     ]
    },
    {
     "output_type": "display_data",
     "data": {
      "image/png": "[encoded data removed]",
      "text/plain": [
       "<Figure size 432x288 with 1 Axes>"
      ]
     },
     "metadata": {
      "needs_background": "light"
     }
    },
    {
     "output_type": "stream",
     "name": "stdout",
     "text": [
      " ====  tfidf-char  ==== \n"
     ]
    },
    {
     "output_type": "display_data",
     "data": {
      "text/html": [
       "<div>\n",
       "<style scoped>\n",
       "    .dataframe tbody tr th:only-of-type {\n",
       "        vertical-align: middle;\n",
       "    }\n",
       "\n",
       "    .dataframe tbody tr th {\n",
       "        vertical-align: top;\n",
       "    }\n",
       "\n",
       "    .dataframe thead th {\n",
       "        text-align: right;\n",
       "    }\n",
       "</style>\n",
       "<table border=\"1\" class=\"dataframe\">\n",
       "  <thead>\n",
       "    <tr style=\"text-align: right;\">\n",
       "      <th></th>\n",
       "      <th>Accuracy</th>\n",
       "      <th>F1-score</th>\n",
       "      <th>Recall</th>\n",
       "      <th>Precision</th>\n",
       "      <th>AUC</th>\n",
       "    </tr>\n",
       "  </thead>\n",
       "  <tbody>\n",
       "    <tr>\n",
       "      <th>lr</th>\n",
       "      <td>0.902517</td>\n",
       "      <td>0.134752</td>\n",
       "      <td>0.074219</td>\n",
       "      <td>0.730769</td>\n",
       "      <td>0.535552</td>\n",
       "    </tr>\n",
       "    <tr>\n",
       "      <th>svc</th>\n",
       "      <td>0.914103</td>\n",
       "      <td>0.354354</td>\n",
       "      <td>0.230469</td>\n",
       "      <td>0.766234</td>\n",
       "      <td>0.611229</td>\n",
       "    </tr>\n",
       "  </tbody>\n",
       "</table>\n",
       "</div>"
      ],
      "text/plain": [
       "     Accuracy  F1-score    Recall  Precision       AUC\n",
       "lr   0.902517  0.134752  0.074219   0.730769  0.535552\n",
       "svc  0.914103  0.354354  0.230469   0.766234  0.611229"
      ]
     },
     "metadata": {}
    },
    {
     "output_type": "stream",
     "name": "stdout",
     "text": [
      " ==== Final Result Summary ==== \n"
     ]
    },
    {
     "output_type": "display_data",
     "data": {
      "text/html": [
       "<div>\n",
       "<style scoped>\n",
       "    .dataframe tbody tr th:only-of-type {\n",
       "        vertical-align: middle;\n",
       "    }\n",
       "\n",
       "    .dataframe tbody tr th {\n",
       "        vertical-align: top;\n",
       "    }\n",
       "\n",
       "    .dataframe thead th {\n",
       "        text-align: right;\n",
       "    }\n",
       "</style>\n",
       "<table border=\"1\" class=\"dataframe\">\n",
       "  <thead>\n",
       "    <tr style=\"text-align: right;\">\n",
       "      <th></th>\n",
       "      <th>Accuracy</th>\n",
       "      <th>F1-score</th>\n",
       "      <th>Recall</th>\n",
       "      <th>Precision</th>\n",
       "      <th>AUC</th>\n",
       "    </tr>\n",
       "  </thead>\n",
       "  <tbody>\n",
       "    <tr>\n",
       "      <th>bow-char + lr</th>\n",
       "      <td>0.918098</td>\n",
       "      <td>0.498778</td>\n",
       "      <td>0.398438</td>\n",
       "      <td>0.666667</td>\n",
       "      <td>0.687870</td>\n",
       "    </tr>\n",
       "    <tr>\n",
       "      <th>bow-char + svc</th>\n",
       "      <td>0.910108</td>\n",
       "      <td>0.492099</td>\n",
       "      <td>0.425781</td>\n",
       "      <td>0.582888</td>\n",
       "      <td>0.695534</td>\n",
       "    </tr>\n",
       "    <tr>\n",
       "      <th>tfidf-char + lr</th>\n",
       "      <td>0.902517</td>\n",
       "      <td>0.134752</td>\n",
       "      <td>0.074219</td>\n",
       "      <td>0.730769</td>\n",
       "      <td>0.535552</td>\n",
       "    </tr>\n",
       "    <tr>\n",
       "      <th>tfidf-char + svc</th>\n",
       "      <td>0.914103</td>\n",
       "      <td>0.354354</td>\n",
       "      <td>0.230469</td>\n",
       "      <td>0.766234</td>\n",
       "      <td>0.611229</td>\n",
       "    </tr>\n",
       "  </tbody>\n",
       "</table>\n",
       "</div>"
      ],
      "text/plain": [
       "                  Accuracy  F1-score    Recall  Precision       AUC\n",
       "bow-char + lr     0.918098  0.498778  0.398438   0.666667  0.687870\n",
       "bow-char + svc    0.910108  0.492099  0.425781   0.582888  0.695534\n",
       "tfidf-char + lr   0.902517  0.134752  0.074219   0.730769  0.535552\n",
       "tfidf-char + svc  0.914103  0.354354  0.230469   0.766234  0.611229"
      ]
     },
     "metadata": {}
    }
   ],
   "metadata": {}
  },
  {
   "cell_type": "markdown",
   "source": [
    "This suggested improvement couldn't  surprass previously conducted BOW + SVC text representaion and classifier combination. Here best F1-score 0.498 achived with BOW character text (character wise count frequncy) representation and Logistic regression classifier."
   ],
   "metadata": {}
  },
  {
   "cell_type": "code",
   "execution_count": 295,
   "source": [
    "# implement suggesion 2 - word analyzer different n-grams\r\n",
    "\r\n",
    "\r\n",
    "model_dict = {\"lr\":lr,'svc':svc}\r\n",
    "feature_dict = {\"bow-words\":bow,\"tfidf-words\":tfidf}\r\n",
    "final_result3 = classifier_feature(df,model_dict,feature_dict,analyzer='word',ngram=(1,2))"
   ],
   "outputs": [
    {
     "output_type": "stream",
     "name": "stdout",
     "text": [
      "X train (5839,) Y train (5839,) X test (2503,) Y test (2503,)\n",
      "bow-words + lr\n",
      "              precision    recall  f1-score   support\n",
      "\n",
      "           0       0.93      0.99      0.96      2247\n",
      "           1       0.71      0.31      0.43       256\n",
      "\n",
      "    accuracy                           0.92      2503\n",
      "   macro avg       0.82      0.65      0.69      2503\n",
      "weighted avg       0.90      0.92      0.90      2503\n",
      "\n"
     ]
    },
    {
     "output_type": "display_data",
     "data": {
      "image/png": "[encoded data removed]",
      "text/plain": [
       "<Figure size 432x288 with 1 Axes>"
      ]
     },
     "metadata": {
      "needs_background": "light"
     }
    },
    {
     "output_type": "stream",
     "name": "stdout",
     "text": [
      "bow-words + svc\n",
      "              precision    recall  f1-score   support\n",
      "\n",
      "           0       0.93      0.97      0.95      2247\n",
      "           1       0.64      0.40      0.49       256\n",
      "\n",
      "    accuracy                           0.92      2503\n",
      "   macro avg       0.79      0.69      0.72      2503\n",
      "weighted avg       0.90      0.92      0.91      2503\n",
      "\n"
     ]
    },
    {
     "output_type": "display_data",
     "data": {
      "image/png": "[encoded data removed]",
      "text/plain": [
       "<Figure size 432x288 with 1 Axes>"
      ]
     },
     "metadata": {
      "needs_background": "light"
     }
    },
    {
     "output_type": "stream",
     "name": "stdout",
     "text": [
      " ====  bow-words  ==== \n"
     ]
    },
    {
     "output_type": "display_data",
     "data": {
      "text/html": [
       "<div>\n",
       "<style scoped>\n",
       "    .dataframe tbody tr th:only-of-type {\n",
       "        vertical-align: middle;\n",
       "    }\n",
       "\n",
       "    .dataframe tbody tr th {\n",
       "        vertical-align: top;\n",
       "    }\n",
       "\n",
       "    .dataframe thead th {\n",
       "        text-align: right;\n",
       "    }\n",
       "</style>\n",
       "<table border=\"1\" class=\"dataframe\">\n",
       "  <thead>\n",
       "    <tr style=\"text-align: right;\">\n",
       "      <th></th>\n",
       "      <th>Accuracy</th>\n",
       "      <th>F1-score</th>\n",
       "      <th>Recall</th>\n",
       "      <th>Precision</th>\n",
       "      <th>AUC</th>\n",
       "    </tr>\n",
       "  </thead>\n",
       "  <tbody>\n",
       "    <tr>\n",
       "      <th>lr</th>\n",
       "      <td>0.916900</td>\n",
       "      <td>0.434783</td>\n",
       "      <td>0.312500</td>\n",
       "      <td>0.714286</td>\n",
       "      <td>0.649129</td>\n",
       "    </tr>\n",
       "    <tr>\n",
       "      <th>svc</th>\n",
       "      <td>0.915302</td>\n",
       "      <td>0.492823</td>\n",
       "      <td>0.402344</td>\n",
       "      <td>0.635802</td>\n",
       "      <td>0.688043</td>\n",
       "    </tr>\n",
       "  </tbody>\n",
       "</table>\n",
       "</div>"
      ],
      "text/plain": [
       "     Accuracy  F1-score    Recall  Precision       AUC\n",
       "lr   0.916900  0.434783  0.312500   0.714286  0.649129\n",
       "svc  0.915302  0.492823  0.402344   0.635802  0.688043"
      ]
     },
     "metadata": {}
    },
    {
     "output_type": "stream",
     "name": "stdout",
     "text": [
      "tfidf-words + lr\n",
      "              precision    recall  f1-score   support\n",
      "\n",
      "           0       0.91      1.00      0.95      2247\n",
      "           1       0.76      0.10      0.18       256\n",
      "\n",
      "    accuracy                           0.90      2503\n",
      "   macro avg       0.84      0.55      0.56      2503\n",
      "weighted avg       0.89      0.90      0.87      2503\n",
      "\n"
     ]
    },
    {
     "output_type": "display_data",
     "data": {
      "image/png": "[encoded data removed]",
      "text/plain": [
       "<Figure size 432x288 with 1 Axes>"
      ]
     },
     "metadata": {
      "needs_background": "light"
     }
    },
    {
     "output_type": "stream",
     "name": "stdout",
     "text": [
      "tfidf-words + svc\n",
      "              precision    recall  f1-score   support\n",
      "\n",
      "           0       0.93      0.98      0.96      2247\n",
      "           1       0.71      0.32      0.44       256\n",
      "\n",
      "    accuracy                           0.92      2503\n",
      "   macro avg       0.82      0.65      0.70      2503\n",
      "weighted avg       0.90      0.92      0.90      2503\n",
      "\n"
     ]
    },
    {
     "output_type": "display_data",
     "data": {
      "image/png": "[encoded data removed]",
      "text/plain": [
       "<Figure size 432x288 with 1 Axes>"
      ]
     },
     "metadata": {
      "needs_background": "light"
     }
    },
    {
     "output_type": "stream",
     "name": "stdout",
     "text": [
      " ====  tfidf-words  ==== \n"
     ]
    },
    {
     "output_type": "display_data",
     "data": {
      "text/html": [
       "<div>\n",
       "<style scoped>\n",
       "    .dataframe tbody tr th:only-of-type {\n",
       "        vertical-align: middle;\n",
       "    }\n",
       "\n",
       "    .dataframe tbody tr th {\n",
       "        vertical-align: top;\n",
       "    }\n",
       "\n",
       "    .dataframe thead th {\n",
       "        text-align: right;\n",
       "    }\n",
       "</style>\n",
       "<table border=\"1\" class=\"dataframe\">\n",
       "  <thead>\n",
       "    <tr style=\"text-align: right;\">\n",
       "      <th></th>\n",
       "      <th>Accuracy</th>\n",
       "      <th>F1-score</th>\n",
       "      <th>Recall</th>\n",
       "      <th>Precision</th>\n",
       "      <th>AUC</th>\n",
       "    </tr>\n",
       "  </thead>\n",
       "  <tbody>\n",
       "    <tr>\n",
       "      <th>lr</th>\n",
       "      <td>0.904914</td>\n",
       "      <td>0.17931</td>\n",
       "      <td>0.101562</td>\n",
       "      <td>0.764706</td>\n",
       "      <td>0.549001</td>\n",
       "    </tr>\n",
       "    <tr>\n",
       "      <th>svc</th>\n",
       "      <td>0.916900</td>\n",
       "      <td>0.44086</td>\n",
       "      <td>0.320312</td>\n",
       "      <td>0.706897</td>\n",
       "      <td>0.652591</td>\n",
       "    </tr>\n",
       "  </tbody>\n",
       "</table>\n",
       "</div>"
      ],
      "text/plain": [
       "     Accuracy  F1-score    Recall  Precision       AUC\n",
       "lr   0.904914   0.17931  0.101562   0.764706  0.549001\n",
       "svc  0.916900   0.44086  0.320312   0.706897  0.652591"
      ]
     },
     "metadata": {}
    },
    {
     "output_type": "stream",
     "name": "stdout",
     "text": [
      " ==== Final Result Summary ==== \n"
     ]
    },
    {
     "output_type": "display_data",
     "data": {
      "text/html": [
       "<div>\n",
       "<style scoped>\n",
       "    .dataframe tbody tr th:only-of-type {\n",
       "        vertical-align: middle;\n",
       "    }\n",
       "\n",
       "    .dataframe tbody tr th {\n",
       "        vertical-align: top;\n",
       "    }\n",
       "\n",
       "    .dataframe thead th {\n",
       "        text-align: right;\n",
       "    }\n",
       "</style>\n",
       "<table border=\"1\" class=\"dataframe\">\n",
       "  <thead>\n",
       "    <tr style=\"text-align: right;\">\n",
       "      <th></th>\n",
       "      <th>Accuracy</th>\n",
       "      <th>F1-score</th>\n",
       "      <th>Recall</th>\n",
       "      <th>Precision</th>\n",
       "      <th>AUC</th>\n",
       "    </tr>\n",
       "  </thead>\n",
       "  <tbody>\n",
       "    <tr>\n",
       "      <th>bow-words + lr</th>\n",
       "      <td>0.916900</td>\n",
       "      <td>0.434783</td>\n",
       "      <td>0.312500</td>\n",
       "      <td>0.714286</td>\n",
       "      <td>0.649129</td>\n",
       "    </tr>\n",
       "    <tr>\n",
       "      <th>bow-words + svc</th>\n",
       "      <td>0.915302</td>\n",
       "      <td>0.492823</td>\n",
       "      <td>0.402344</td>\n",
       "      <td>0.635802</td>\n",
       "      <td>0.688043</td>\n",
       "    </tr>\n",
       "    <tr>\n",
       "      <th>tfidf-words + lr</th>\n",
       "      <td>0.904914</td>\n",
       "      <td>0.179310</td>\n",
       "      <td>0.101562</td>\n",
       "      <td>0.764706</td>\n",
       "      <td>0.549001</td>\n",
       "    </tr>\n",
       "    <tr>\n",
       "      <th>tfidf-words + svc</th>\n",
       "      <td>0.916900</td>\n",
       "      <td>0.440860</td>\n",
       "      <td>0.320312</td>\n",
       "      <td>0.706897</td>\n",
       "      <td>0.652591</td>\n",
       "    </tr>\n",
       "  </tbody>\n",
       "</table>\n",
       "</div>"
      ],
      "text/plain": [
       "                   Accuracy  F1-score    Recall  Precision       AUC\n",
       "bow-words + lr     0.916900  0.434783  0.312500   0.714286  0.649129\n",
       "bow-words + svc    0.915302  0.492823  0.402344   0.635802  0.688043\n",
       "tfidf-words + lr   0.904914  0.179310  0.101562   0.764706  0.549001\n",
       "tfidf-words + svc  0.916900  0.440860  0.320312   0.706897  0.652591"
      ]
     },
     "metadata": {}
    }
   ],
   "metadata": {}
  },
  {
   "cell_type": "markdown",
   "source": [
    "This suggested improvement couldn't  surprass previously conducted (part c)  BOW + SVC text representaion and classifier combination. Here best F1-score 0.492 achived with BOW combinaiton of unigram, bigram representation and SVC classifier."
   ],
   "metadata": {}
  },
  {
   "cell_type": "code",
   "execution_count": 296,
   "source": [
    "# implement suggesion 3 - Eliminate words doesn't appear more than twise \r\n",
    "\r\n",
    "model_dict = {\"lr\":lr,'svc':svc}\r\n",
    "feature_dict = {\"bow-min-2\":bow,\"tfidf-min-2\":tfidf}\r\n",
    "final_result4 = classifier_feature(df,model_dict,feature_dict,analyzer='word',ngram=(1,1),min_df=2)"
   ],
   "outputs": [
    {
     "output_type": "stream",
     "name": "stdout",
     "text": [
      "X train (5839,) Y train (5839,) X test (2503,) Y test (2503,)\n",
      "bow-min-2 + lr\n",
      "              precision    recall  f1-score   support\n",
      "\n",
      "           0       0.93      0.98      0.95      2247\n",
      "           1       0.67      0.36      0.46       256\n",
      "\n",
      "    accuracy                           0.92      2503\n",
      "   macro avg       0.80      0.67      0.71      2503\n",
      "weighted avg       0.90      0.92      0.90      2503\n",
      "\n"
     ]
    },
    {
     "output_type": "display_data",
     "data": {
      "image/png": "[encoded data removed]",
      "text/plain": [
       "<Figure size 432x288 with 1 Axes>"
      ]
     },
     "metadata": {
      "needs_background": "light"
     }
    },
    {
     "output_type": "stream",
     "name": "stdout",
     "text": [
      "bow-min-2 + svc\n",
      "              precision    recall  f1-score   support\n",
      "\n",
      "           0       0.94      0.96      0.95      2247\n",
      "           1       0.57      0.48      0.52       256\n",
      "\n",
      "    accuracy                           0.91      2503\n",
      "   macro avg       0.76      0.72      0.74      2503\n",
      "weighted avg       0.90      0.91      0.91      2503\n",
      "\n"
     ]
    },
    {
     "output_type": "display_data",
     "data": {
      "image/png": "[encoded data removed]",
      "text/plain": [
       "<Figure size 432x288 with 1 Axes>"
      ]
     },
     "metadata": {
      "needs_background": "light"
     }
    },
    {
     "output_type": "stream",
     "name": "stdout",
     "text": [
      " ====  bow-min-2  ==== \n"
     ]
    },
    {
     "output_type": "display_data",
     "data": {
      "text/html": [
       "<div>\n",
       "<style scoped>\n",
       "    .dataframe tbody tr th:only-of-type {\n",
       "        vertical-align: middle;\n",
       "    }\n",
       "\n",
       "    .dataframe tbody tr th {\n",
       "        vertical-align: top;\n",
       "    }\n",
       "\n",
       "    .dataframe thead th {\n",
       "        text-align: right;\n",
       "    }\n",
       "</style>\n",
       "<table border=\"1\" class=\"dataframe\">\n",
       "  <thead>\n",
       "    <tr style=\"text-align: right;\">\n",
       "      <th></th>\n",
       "      <th>Accuracy</th>\n",
       "      <th>F1-score</th>\n",
       "      <th>Recall</th>\n",
       "      <th>Precision</th>\n",
       "      <th>AUC</th>\n",
       "    </tr>\n",
       "  </thead>\n",
       "  <tbody>\n",
       "    <tr>\n",
       "      <th>lr</th>\n",
       "      <td>0.916101</td>\n",
       "      <td>0.464286</td>\n",
       "      <td>0.355469</td>\n",
       "      <td>0.669118</td>\n",
       "      <td>0.667721</td>\n",
       "    </tr>\n",
       "    <tr>\n",
       "      <th>svc</th>\n",
       "      <td>0.910108</td>\n",
       "      <td>0.520256</td>\n",
       "      <td>0.476562</td>\n",
       "      <td>0.572770</td>\n",
       "      <td>0.718032</td>\n",
       "    </tr>\n",
       "  </tbody>\n",
       "</table>\n",
       "</div>"
      ],
      "text/plain": [
       "     Accuracy  F1-score    Recall  Precision       AUC\n",
       "lr   0.916101  0.464286  0.355469   0.669118  0.667721\n",
       "svc  0.910108  0.520256  0.476562   0.572770  0.718032"
      ]
     },
     "metadata": {}
    },
    {
     "output_type": "stream",
     "name": "stdout",
     "text": [
      "tfidf-min-2 + lr\n",
      "              precision    recall  f1-score   support\n",
      "\n",
      "           0       0.91      0.99      0.95      2247\n",
      "           1       0.72      0.13      0.22       256\n",
      "\n",
      "    accuracy                           0.91      2503\n",
      "   macro avg       0.81      0.56      0.58      2503\n",
      "weighted avg       0.89      0.91      0.88      2503\n",
      "\n"
     ]
    },
    {
     "output_type": "display_data",
     "data": {
      "image/png": "[encoded data removed]",
      "text/plain": [
       "<Figure size 432x288 with 1 Axes>"
      ]
     },
     "metadata": {
      "needs_background": "light"
     }
    },
    {
     "output_type": "stream",
     "name": "stdout",
     "text": [
      "tfidf-min-2 + svc\n",
      "              precision    recall  f1-score   support\n",
      "\n",
      "           0       0.92      0.99      0.95      2247\n",
      "           1       0.71      0.26      0.38       256\n",
      "\n",
      "    accuracy                           0.91      2503\n",
      "   macro avg       0.82      0.62      0.67      2503\n",
      "weighted avg       0.90      0.91      0.89      2503\n",
      "\n"
     ]
    },
    {
     "output_type": "display_data",
     "data": {
      "image/png": "[encoded data removed]",
      "text/plain": [
       "<Figure size 432x288 with 1 Axes>"
      ]
     },
     "metadata": {
      "needs_background": "light"
     }
    },
    {
     "output_type": "stream",
     "name": "stdout",
     "text": [
      " ====  tfidf-min-2  ==== \n"
     ]
    },
    {
     "output_type": "display_data",
     "data": {
      "text/html": [
       "<div>\n",
       "<style scoped>\n",
       "    .dataframe tbody tr th:only-of-type {\n",
       "        vertical-align: middle;\n",
       "    }\n",
       "\n",
       "    .dataframe tbody tr th {\n",
       "        vertical-align: top;\n",
       "    }\n",
       "\n",
       "    .dataframe thead th {\n",
       "        text-align: right;\n",
       "    }\n",
       "</style>\n",
       "<table border=\"1\" class=\"dataframe\">\n",
       "  <thead>\n",
       "    <tr style=\"text-align: right;\">\n",
       "      <th></th>\n",
       "      <th>Accuracy</th>\n",
       "      <th>F1-score</th>\n",
       "      <th>Recall</th>\n",
       "      <th>Precision</th>\n",
       "      <th>AUC</th>\n",
       "    </tr>\n",
       "  </thead>\n",
       "  <tbody>\n",
       "    <tr>\n",
       "      <th>lr</th>\n",
       "      <td>0.905713</td>\n",
       "      <td>0.218543</td>\n",
       "      <td>0.128906</td>\n",
       "      <td>0.717391</td>\n",
       "      <td>0.561560</td>\n",
       "    </tr>\n",
       "    <tr>\n",
       "      <th>svc</th>\n",
       "      <td>0.913304</td>\n",
       "      <td>0.378223</td>\n",
       "      <td>0.257812</td>\n",
       "      <td>0.709677</td>\n",
       "      <td>0.622898</td>\n",
       "    </tr>\n",
       "  </tbody>\n",
       "</table>\n",
       "</div>"
      ],
      "text/plain": [
       "     Accuracy  F1-score    Recall  Precision       AUC\n",
       "lr   0.905713  0.218543  0.128906   0.717391  0.561560\n",
       "svc  0.913304  0.378223  0.257812   0.709677  0.622898"
      ]
     },
     "metadata": {}
    },
    {
     "output_type": "stream",
     "name": "stdout",
     "text": [
      " ==== Final Result Summary ==== \n"
     ]
    },
    {
     "output_type": "display_data",
     "data": {
      "text/html": [
       "<div>\n",
       "<style scoped>\n",
       "    .dataframe tbody tr th:only-of-type {\n",
       "        vertical-align: middle;\n",
       "    }\n",
       "\n",
       "    .dataframe tbody tr th {\n",
       "        vertical-align: top;\n",
       "    }\n",
       "\n",
       "    .dataframe thead th {\n",
       "        text-align: right;\n",
       "    }\n",
       "</style>\n",
       "<table border=\"1\" class=\"dataframe\">\n",
       "  <thead>\n",
       "    <tr style=\"text-align: right;\">\n",
       "      <th></th>\n",
       "      <th>Accuracy</th>\n",
       "      <th>F1-score</th>\n",
       "      <th>Recall</th>\n",
       "      <th>Precision</th>\n",
       "      <th>AUC</th>\n",
       "    </tr>\n",
       "  </thead>\n",
       "  <tbody>\n",
       "    <tr>\n",
       "      <th>bow-min-2 + lr</th>\n",
       "      <td>0.916101</td>\n",
       "      <td>0.464286</td>\n",
       "      <td>0.355469</td>\n",
       "      <td>0.669118</td>\n",
       "      <td>0.667721</td>\n",
       "    </tr>\n",
       "    <tr>\n",
       "      <th>bow-min-2 + svc</th>\n",
       "      <td>0.910108</td>\n",
       "      <td>0.520256</td>\n",
       "      <td>0.476562</td>\n",
       "      <td>0.572770</td>\n",
       "      <td>0.718032</td>\n",
       "    </tr>\n",
       "    <tr>\n",
       "      <th>tfidf-min-2 + lr</th>\n",
       "      <td>0.905713</td>\n",
       "      <td>0.218543</td>\n",
       "      <td>0.128906</td>\n",
       "      <td>0.717391</td>\n",
       "      <td>0.561560</td>\n",
       "    </tr>\n",
       "    <tr>\n",
       "      <th>tfidf-min-2 + svc</th>\n",
       "      <td>0.913304</td>\n",
       "      <td>0.378223</td>\n",
       "      <td>0.257812</td>\n",
       "      <td>0.709677</td>\n",
       "      <td>0.622898</td>\n",
       "    </tr>\n",
       "  </tbody>\n",
       "</table>\n",
       "</div>"
      ],
      "text/plain": [
       "                   Accuracy  F1-score    Recall  Precision       AUC\n",
       "bow-min-2 + lr     0.916101  0.464286  0.355469   0.669118  0.667721\n",
       "bow-min-2 + svc    0.910108  0.520256  0.476562   0.572770  0.718032\n",
       "tfidf-min-2 + lr   0.905713  0.218543  0.128906   0.717391  0.561560\n",
       "tfidf-min-2 + svc  0.913304  0.378223  0.257812   0.709677  0.622898"
      ]
     },
     "metadata": {}
    }
   ],
   "metadata": {}
  },
  {
   "cell_type": "markdown",
   "source": [
    "This suggested improvement surprassed previously conducted (Part c) BOW + SVC text representaion and classifier combination. Classified 123 instances as suggesions\r\n",
    "\r\n",
    " Here best F1-score 0.52 achived with BOW (unigram min frequency word appear is 2) representation and SVC classifier. This is around 0.1 improvement compared to part c f1-score."
   ],
   "metadata": {}
  },
  {
   "cell_type": "markdown",
   "source": [
    "#### d) Evaluation and comparison of suggested improvemnt with first implementation "
   ],
   "metadata": {}
  },
  {
   "cell_type": "code",
   "execution_count": 110,
   "source": [
    "# effect of suggested improvements\r\n",
    "pd.concat([final_result1,final_result3,final_result4,final_result2])"
   ],
   "outputs": [
    {
     "output_type": "execute_result",
     "data": {
      "text/html": [
       "<div>\n",
       "<style scoped>\n",
       "    .dataframe tbody tr th:only-of-type {\n",
       "        vertical-align: middle;\n",
       "    }\n",
       "\n",
       "    .dataframe tbody tr th {\n",
       "        vertical-align: top;\n",
       "    }\n",
       "\n",
       "    .dataframe thead th {\n",
       "        text-align: right;\n",
       "    }\n",
       "</style>\n",
       "<table border=\"1\" class=\"dataframe\">\n",
       "  <thead>\n",
       "    <tr style=\"text-align: right;\">\n",
       "      <th></th>\n",
       "      <th>Accuracy</th>\n",
       "      <th>F1-score</th>\n",
       "      <th>Recall</th>\n",
       "      <th>Precision</th>\n",
       "      <th>AUC</th>\n",
       "    </tr>\n",
       "  </thead>\n",
       "  <tbody>\n",
       "    <tr>\n",
       "      <th>bow + lr</th>\n",
       "      <td>0.916500</td>\n",
       "      <td>0.468193</td>\n",
       "      <td>0.359375</td>\n",
       "      <td>0.671533</td>\n",
       "      <td>0.669674</td>\n",
       "    </tr>\n",
       "    <tr>\n",
       "      <th>bow + svc</th>\n",
       "      <td>0.908510</td>\n",
       "      <td>0.513800</td>\n",
       "      <td>0.472656</td>\n",
       "      <td>0.562791</td>\n",
       "      <td>0.715411</td>\n",
       "    </tr>\n",
       "    <tr>\n",
       "      <th>tfidf + lr</th>\n",
       "      <td>0.903716</td>\n",
       "      <td>0.204620</td>\n",
       "      <td>0.121094</td>\n",
       "      <td>0.659574</td>\n",
       "      <td>0.556987</td>\n",
       "    </tr>\n",
       "    <tr>\n",
       "      <th>tfidf + svc</th>\n",
       "      <td>0.912105</td>\n",
       "      <td>0.371429</td>\n",
       "      <td>0.253906</td>\n",
       "      <td>0.691489</td>\n",
       "      <td>0.620500</td>\n",
       "    </tr>\n",
       "    <tr>\n",
       "      <th>bow-words + lr</th>\n",
       "      <td>0.916900</td>\n",
       "      <td>0.434783</td>\n",
       "      <td>0.312500</td>\n",
       "      <td>0.714286</td>\n",
       "      <td>0.649129</td>\n",
       "    </tr>\n",
       "    <tr>\n",
       "      <th>bow-words + svc</th>\n",
       "      <td>0.915302</td>\n",
       "      <td>0.492823</td>\n",
       "      <td>0.402344</td>\n",
       "      <td>0.635802</td>\n",
       "      <td>0.688043</td>\n",
       "    </tr>\n",
       "    <tr>\n",
       "      <th>tfidf-words + lr</th>\n",
       "      <td>0.904914</td>\n",
       "      <td>0.179310</td>\n",
       "      <td>0.101562</td>\n",
       "      <td>0.764706</td>\n",
       "      <td>0.549001</td>\n",
       "    </tr>\n",
       "    <tr>\n",
       "      <th>tfidf-words + svc</th>\n",
       "      <td>0.916500</td>\n",
       "      <td>0.436658</td>\n",
       "      <td>0.316406</td>\n",
       "      <td>0.704348</td>\n",
       "      <td>0.650637</td>\n",
       "    </tr>\n",
       "    <tr>\n",
       "      <th>bow-min-2 + lr</th>\n",
       "      <td>0.916900</td>\n",
       "      <td>0.472081</td>\n",
       "      <td>0.363281</td>\n",
       "      <td>0.673913</td>\n",
       "      <td>0.671627</td>\n",
       "    </tr>\n",
       "    <tr>\n",
       "      <th>bow-min-2 + svc</th>\n",
       "      <td>0.909309</td>\n",
       "      <td>0.520085</td>\n",
       "      <td>0.480469</td>\n",
       "      <td>0.566820</td>\n",
       "      <td>0.719318</td>\n",
       "    </tr>\n",
       "    <tr>\n",
       "      <th>tfidf-min-2 + lr</th>\n",
       "      <td>0.905314</td>\n",
       "      <td>0.212625</td>\n",
       "      <td>0.125000</td>\n",
       "      <td>0.711111</td>\n",
       "      <td>0.559607</td>\n",
       "    </tr>\n",
       "    <tr>\n",
       "      <th>tfidf-min-2 + svc</th>\n",
       "      <td>0.912905</td>\n",
       "      <td>0.373563</td>\n",
       "      <td>0.253906</td>\n",
       "      <td>0.706522</td>\n",
       "      <td>0.620945</td>\n",
       "    </tr>\n",
       "    <tr>\n",
       "      <th>bow-char + lr</th>\n",
       "      <td>0.919297</td>\n",
       "      <td>0.504902</td>\n",
       "      <td>0.402344</td>\n",
       "      <td>0.677632</td>\n",
       "      <td>0.690268</td>\n",
       "    </tr>\n",
       "    <tr>\n",
       "      <th>bow-char + svc</th>\n",
       "      <td>0.906912</td>\n",
       "      <td>0.481069</td>\n",
       "      <td>0.421875</td>\n",
       "      <td>0.559585</td>\n",
       "      <td>0.692023</td>\n",
       "    </tr>\n",
       "    <tr>\n",
       "      <th>tfidf-char + lr</th>\n",
       "      <td>0.902517</td>\n",
       "      <td>0.134752</td>\n",
       "      <td>0.074219</td>\n",
       "      <td>0.730769</td>\n",
       "      <td>0.535552</td>\n",
       "    </tr>\n",
       "    <tr>\n",
       "      <th>tfidf-char + svc</th>\n",
       "      <td>0.916101</td>\n",
       "      <td>0.367470</td>\n",
       "      <td>0.238281</td>\n",
       "      <td>0.802632</td>\n",
       "      <td>0.615803</td>\n",
       "    </tr>\n",
       "  </tbody>\n",
       "</table>\n",
       "</div>"
      ],
      "text/plain": [
       "                   Accuracy  F1-score    Recall  Precision       AUC\n",
       "bow + lr           0.916500  0.468193  0.359375   0.671533  0.669674\n",
       "bow + svc          0.908510  0.513800  0.472656   0.562791  0.715411\n",
       "tfidf + lr         0.903716  0.204620  0.121094   0.659574  0.556987\n",
       "tfidf + svc        0.912105  0.371429  0.253906   0.691489  0.620500\n",
       "bow-words + lr     0.916900  0.434783  0.312500   0.714286  0.649129\n",
       "bow-words + svc    0.915302  0.492823  0.402344   0.635802  0.688043\n",
       "tfidf-words + lr   0.904914  0.179310  0.101562   0.764706  0.549001\n",
       "tfidf-words + svc  0.916500  0.436658  0.316406   0.704348  0.650637\n",
       "bow-min-2 + lr     0.916900  0.472081  0.363281   0.673913  0.671627\n",
       "bow-min-2 + svc    0.909309  0.520085  0.480469   0.566820  0.719318\n",
       "tfidf-min-2 + lr   0.905314  0.212625  0.125000   0.711111  0.559607\n",
       "tfidf-min-2 + svc  0.912905  0.373563  0.253906   0.706522  0.620945\n",
       "bow-char + lr      0.919297  0.504902  0.402344   0.677632  0.690268\n",
       "bow-char + svc     0.906912  0.481069  0.421875   0.559585  0.692023\n",
       "tfidf-char + lr    0.902517  0.134752  0.074219   0.730769  0.535552\n",
       "tfidf-char + svc   0.916101  0.367470  0.238281   0.802632  0.615803"
      ]
     },
     "metadata": {},
     "execution_count": 110
    }
   ],
   "metadata": {}
  },
  {
   "cell_type": "markdown",
   "source": [
    "Implemented the three suggesion on orginal datasest. Third suggesion (min_df =2)  make an 0.01 improvemnet (BOW with SVC classifier) of f1 score compared to first implementation of BOW with SVC classifier."
   ],
   "metadata": {}
  },
  {
   "cell_type": "markdown",
   "source": [
    "### Answer (e)\r\n",
    "\r\n",
    "1. Unsupervised approach to categorize suggesions in to different aspect\r\n",
    "2. How could optimal number of categorieze determine ?\r\n",
    "3. visualize your solution"
   ],
   "metadata": {}
  },
  {
   "cell_type": "markdown",
   "source": [
    "#### e)1. Unsupervised approach to categorize suggesions in to different aspect"
   ],
   "metadata": {}
  },
  {
   "cell_type": "code",
   "execution_count": 297,
   "source": [
    "# create dataframe for only suggestions instances in orginal \r\n",
    "\r\n",
    "df_suggesions = df[df['label']==1]\r\n",
    "print(\"Size of suggesions dataset\", len(df_suggesions))\r\n",
    "dataset_details(df_suggesions)\r\n",
    "df_suggesions.head()"
   ],
   "outputs": [
    {
     "output_type": "stream",
     "name": "stdout",
     "text": [
      "Size of suggesions dataset 852\n",
      "Unique word count =  2032  Total word count =  8085\n",
      "Minimum document length =  1  Maximum document length =  35\n"
     ]
    },
    {
     "output_type": "execute_result",
     "data": {
      "text/html": [
       "<div>\n",
       "<style scoped>\n",
       "    .dataframe tbody tr th:only-of-type {\n",
       "        vertical-align: middle;\n",
       "    }\n",
       "\n",
       "    .dataframe tbody tr th {\n",
       "        vertical-align: top;\n",
       "    }\n",
       "\n",
       "    .dataframe thead th {\n",
       "        text-align: right;\n",
       "    }\n",
       "</style>\n",
       "<table border=\"1\" class=\"dataframe\">\n",
       "  <thead>\n",
       "    <tr style=\"text-align: right;\">\n",
       "      <th></th>\n",
       "      <th>id</th>\n",
       "      <th>text</th>\n",
       "      <th>label</th>\n",
       "      <th>cleaned</th>\n",
       "    </tr>\n",
       "  </thead>\n",
       "  <tbody>\n",
       "    <tr>\n",
       "      <th>13</th>\n",
       "      <td>berlin-hotel-190599-review-2.json_8</td>\n",
       "      <td>If you do end up here, be sure to specify a room at the back of the hotel.</td>\n",
       "      <td>1</td>\n",
       "      <td>[end, sure, specifi, room, back, hotel]</td>\n",
       "    </tr>\n",
       "    <tr>\n",
       "      <th>17</th>\n",
       "      <td>berlin-hotel-190599-review-3.json_2</td>\n",
       "      <td>and I was woken by the early morning firing up of the local bus service (a courtyard-facing room is essential unless you have industrial strength earplugs.)The rooms are small and ill-conceived.</td>\n",
       "      <td>1</td>\n",
       "      <td>[woken, earli, morn, fire, local, bu, servic, courtyard, face, room, essenti, unless, industri, strength, earplug, room, small, ill, conceiv]</td>\n",
       "    </tr>\n",
       "    <tr>\n",
       "      <th>35</th>\n",
       "      <td>berlin-hotel-190599-review-4.json_16</td>\n",
       "      <td>As a general tip, if you need to use the internet whilst in Berlin, look up the Easy Internet cafes before you go, there's a huge one in Kurfurstendam</td>\n",
       "      <td>1</td>\n",
       "      <td>[gener, tip, need, use, internet, whilst, berlin, look, easi, internet, cafe, go, huge, one, kurfurstendam]</td>\n",
       "    </tr>\n",
       "    <tr>\n",
       "      <th>41</th>\n",
       "      <td>berlin-hotel-190599-review-4.json_22</td>\n",
       "      <td>If you expect no more than that, you won't be disappointed.</td>\n",
       "      <td>1</td>\n",
       "      <td>[expect, disappoint]</td>\n",
       "    </tr>\n",
       "    <tr>\n",
       "      <th>71</th>\n",
       "      <td>berlin-hotel-191437-review-1.json_2</td>\n",
       "      <td>Room was big, bath was lovely, but watch out for the tile floor after you shower.</td>\n",
       "      <td>1</td>\n",
       "      <td>[room, big, bath, love, watch, tile, floor, shower]</td>\n",
       "    </tr>\n",
       "  </tbody>\n",
       "</table>\n",
       "</div>"
      ],
      "text/plain": [
       "                                      id  \\\n",
       "13   berlin-hotel-190599-review-2.json_8   \n",
       "17   berlin-hotel-190599-review-3.json_2   \n",
       "35  berlin-hotel-190599-review-4.json_16   \n",
       "41  berlin-hotel-190599-review-4.json_22   \n",
       "71   berlin-hotel-191437-review-1.json_2   \n",
       "\n",
       "                                                                                                                                                                                                  text  \\\n",
       "13                                                                                                                          If you do end up here, be sure to specify a room at the back of the hotel.   \n",
       "17  and I was woken by the early morning firing up of the local bus service (a courtyard-facing room is essential unless you have industrial strength earplugs.)The rooms are small and ill-conceived.   \n",
       "35                                              As a general tip, if you need to use the internet whilst in Berlin, look up the Easy Internet cafes before you go, there's a huge one in Kurfurstendam   \n",
       "41                                                                                                                                         If you expect no more than that, you won't be disappointed.   \n",
       "71                                                                                                                   Room was big, bath was lovely, but watch out for the tile floor after you shower.   \n",
       "\n",
       "    label  \\\n",
       "13      1   \n",
       "17      1   \n",
       "35      1   \n",
       "41      1   \n",
       "71      1   \n",
       "\n",
       "                                                                                                                                          cleaned  \n",
       "13                                                                                                        [end, sure, specifi, room, back, hotel]  \n",
       "17  [woken, earli, morn, fire, local, bu, servic, courtyard, face, room, essenti, unless, industri, strength, earplug, room, small, ill, conceiv]  \n",
       "35                                    [gener, tip, need, use, internet, whilst, berlin, look, easi, internet, cafe, go, huge, one, kurfurstendam]  \n",
       "41                                                                                                                           [expect, disappoint]  \n",
       "71                                                                                            [room, big, bath, love, watch, tile, floor, shower]  "
      ]
     },
     "metadata": {},
     "execution_count": 297
    }
   ],
   "metadata": {}
  },
  {
   "cell_type": "markdown",
   "source": [
    "created new dataframe only inclusding suggesions"
   ],
   "metadata": {}
  },
  {
   "cell_type": "code",
   "execution_count": 298,
   "source": [
    "# BOW representation for k-mean\r\n",
    "\r\n",
    "def bow_new(df,analyzer=\"word\",ngram=(1,1),min_df=2):\r\n",
    "\r\n",
    "    df_list = [\" \".join(i) for i in df]\r\n",
    "    #print(df_list)\r\n",
    "    bow = CountVectorizer(analyzer=analyzer,ngram_range=ngram,lowercase=False,min_df=min_df)\r\n",
    "    df_bow = bow.fit_transform(df_list)\r\n",
    "    #print(bow.get_feature_names())\r\n",
    "\r\n",
    "    #print(df_bow.toarray())\r\n",
    "    return df_bow,bow"
   ],
   "outputs": [],
   "metadata": {}
  },
  {
   "cell_type": "code",
   "execution_count": 299,
   "source": [
    "# Apply k-means clustering\r\n",
    "from sklearn.cluster import KMeans\r\n",
    "\r\n",
    "def kmeans(feature,num_clusters):\r\n",
    "    kmean = KMeans(n_clusters=num_clusters, max_iter=1000,random_state=1)\r\n",
    "    kmean.fit(feature)\r\n",
    "\r\n",
    "    return kmean"
   ],
   "outputs": [],
   "metadata": {}
  },
  {
   "cell_type": "markdown",
   "source": [
    "#### e) 2. How could optimal number of categorieze determine ?\r\n"
   ],
   "metadata": {}
  },
  {
   "cell_type": "code",
   "execution_count": 300,
   "source": [
    "# function to find optimal number of categories (optimal cluster)\r\n",
    "\r\n",
    "from sklearn.metrics import silhouette_score\r\n",
    "def optimal_k(feature):\r\n",
    "    SSE = []\r\n",
    "  # silhouette coefficients for each k\r\n",
    "    silhouette_coefficients = []\r\n",
    "\r\n",
    "  # Run K means from K= 2 to 20\r\n",
    "    for k in range(2, 15):\r\n",
    "        num_clusters = k\r\n",
    "        kmean_obj = kmeans(feature, num_clusters)\r\n",
    "    \r\n",
    "        SSE.append(kmean_obj.inertia_)\r\n",
    "        score = silhouette_score(feature, kmean_obj.labels_)\r\n",
    "        silhouette_coefficients.append(score)\r\n",
    "\r\n",
    "    return (SSE, silhouette_coefficients)\r\n"
   ],
   "outputs": [],
   "metadata": {}
  },
  {
   "cell_type": "code",
   "execution_count": 301,
   "source": [
    "# Insert code for part (e)\r\n",
    "# 3. Implement solution\r\n",
    "bow_feature,bow_vect = bow_new(df_suggesions['cleaned'])\r\n",
    "SSE, silhouette_coefficients = optimal_k(bow_feature)\r\n",
    "#print(\"SSE = \",SSE,\"  silhousette coeff. = \",silhouette_coefficients)\r\n",
    "\r\n",
    "# Plot SSE against number of clusters\r\n",
    "plt.title(\"SSE against number of clusters\")\r\n",
    "plt.plot(range(2, 15), SSE)\r\n",
    "plt.xticks(range(2, 15))\r\n",
    "plt.xlabel(\"Number of Clusters\")\r\n",
    "plt.ylabel(\"SSE\")\r\n",
    "plt.show()\r\n",
    "\r\n",
    "\r\n",
    "# plot silhouette coefficients\r\n",
    "plt.title(\"Silhouette Coefficients against number of clusters \")\r\n",
    "plt.plot(range(2, 15), silhouette_coefficients)\r\n",
    "plt.xticks(range(2, 15))\r\n",
    "plt.xlabel(\"Number of Clusters\")\r\n",
    "plt.ylabel(\"Silhouette Coefficients\")\r\n",
    "plt.show()"
   ],
   "outputs": [
    {
     "output_type": "display_data",
     "data": {
      "image/png": "[encoded data removed]",
      "text/plain": [
       "<Figure size 432x288 with 1 Axes>"
      ]
     },
     "metadata": {
      "needs_background": "light"
     }
    },
    {
     "output_type": "display_data",
     "data": {
      "image/png": "[encoded data removed]",
      "text/plain": [
       "<Figure size 432x288 with 1 Axes>"
      ]
     },
     "metadata": {
      "needs_background": "light"
     }
    }
   ],
   "metadata": {}
  },
  {
   "cell_type": "markdown",
   "source": [
    "#### Optimal set of categories\r\n",
    "It can be oberved two elbow points in first graph. k= 4 and k =10. Considering both elbow curve plot and max silhouette score > 0 when cluster = 4, optimal numbe of cluster decided as = 4 ."
   ],
   "metadata": {}
  },
  {
   "cell_type": "markdown",
   "source": [
    "#### e) 3. visualiztion"
   ],
   "metadata": {}
  },
  {
   "cell_type": "code",
   "execution_count": 302,
   "source": [
    "from sklearn.decomposition import PCA\r\n",
    "\r\n",
    "# reduce the features to 2D\r\n",
    "kmean = kmeans(bow_feature,4)\r\n",
    "labels = df_suggesions['cluster_label'] = kmean.labels_\r\n",
    "centroids = kmean.cluster_centers_\r\n",
    "\r\n",
    "pca = PCA(n_components=2, random_state=1)\r\n",
    "reduced_features = pca.fit_transform(bow_feature.toarray())\r\n",
    "\r\n",
    "# reduce the cluster centers to 2D\r\n",
    "reduced_cluster_centers = pca.transform(kmean.cluster_centers_)\r\n",
    "plt.figure(figsize=(10,7)) \r\n",
    "plt.scatter(reduced_features[:,0], reduced_features[:,1], c=kmean.labels_)\r\n",
    "plt.scatter(reduced_cluster_centers[:, 0], reduced_cluster_centers[:,1], marker='x', s=150, c='b')"
   ],
   "outputs": [
    {
     "output_type": "stream",
     "name": "stderr",
     "text": [
      "C:\\Users\\Kavishka\\anaconda3\\lib\\site-packages\\ipykernel_launcher.py:5: SettingWithCopyWarning: \n",
      "A value is trying to be set on a copy of a slice from a DataFrame.\n",
      "Try using .loc[row_indexer,col_indexer] = value instead\n",
      "\n",
      "See the caveats in the documentation: https://pandas.pydata.org/pandas-docs/stable/user_guide/indexing.html#returning-a-view-versus-a-copy\n",
      "  \"\"\"\n"
     ]
    },
    {
     "output_type": "execute_result",
     "data": {
      "text/plain": [
       "<matplotlib.collections.PathCollection at 0x18959f53e48>"
      ]
     },
     "metadata": {},
     "execution_count": 302
    },
    {
     "output_type": "display_data",
     "data": {
      "image/png": "[encoded data removed]",
      "text/plain": [
       "<Figure size 720x504 with 1 Axes>"
      ]
     },
     "metadata": {
      "needs_background": "light"
     }
    }
   ],
   "metadata": {}
  },
  {
   "cell_type": "markdown",
   "source": [
    "Two clusters shows considerable good cluster but other two is too much distributed and have a considerable distance with instances"
   ],
   "metadata": {}
  },
  {
   "cell_type": "code",
   "execution_count": 303,
   "source": [
    "df_suggesions.head()"
   ],
   "outputs": [
    {
     "output_type": "execute_result",
     "data": {
      "text/html": [
       "<div>\n",
       "<style scoped>\n",
       "    .dataframe tbody tr th:only-of-type {\n",
       "        vertical-align: middle;\n",
       "    }\n",
       "\n",
       "    .dataframe tbody tr th {\n",
       "        vertical-align: top;\n",
       "    }\n",
       "\n",
       "    .dataframe thead th {\n",
       "        text-align: right;\n",
       "    }\n",
       "</style>\n",
       "<table border=\"1\" class=\"dataframe\">\n",
       "  <thead>\n",
       "    <tr style=\"text-align: right;\">\n",
       "      <th></th>\n",
       "      <th>id</th>\n",
       "      <th>text</th>\n",
       "      <th>label</th>\n",
       "      <th>cleaned</th>\n",
       "      <th>cluster_label</th>\n",
       "    </tr>\n",
       "  </thead>\n",
       "  <tbody>\n",
       "    <tr>\n",
       "      <th>13</th>\n",
       "      <td>berlin-hotel-190599-review-2.json_8</td>\n",
       "      <td>If you do end up here, be sure to specify a room at the back of the hotel.</td>\n",
       "      <td>1</td>\n",
       "      <td>[end, sure, specifi, room, back, hotel]</td>\n",
       "      <td>1</td>\n",
       "    </tr>\n",
       "    <tr>\n",
       "      <th>17</th>\n",
       "      <td>berlin-hotel-190599-review-3.json_2</td>\n",
       "      <td>and I was woken by the early morning firing up of the local bus service (a courtyard-facing room is essential unless you have industrial strength earplugs.)The rooms are small and ill-conceived.</td>\n",
       "      <td>1</td>\n",
       "      <td>[woken, earli, morn, fire, local, bu, servic, courtyard, face, room, essenti, unless, industri, strength, earplug, room, small, ill, conceiv]</td>\n",
       "      <td>1</td>\n",
       "    </tr>\n",
       "    <tr>\n",
       "      <th>35</th>\n",
       "      <td>berlin-hotel-190599-review-4.json_16</td>\n",
       "      <td>As a general tip, if you need to use the internet whilst in Berlin, look up the Easy Internet cafes before you go, there's a huge one in Kurfurstendam</td>\n",
       "      <td>1</td>\n",
       "      <td>[gener, tip, need, use, internet, whilst, berlin, look, easi, internet, cafe, go, huge, one, kurfurstendam]</td>\n",
       "      <td>0</td>\n",
       "    </tr>\n",
       "    <tr>\n",
       "      <th>41</th>\n",
       "      <td>berlin-hotel-190599-review-4.json_22</td>\n",
       "      <td>If you expect no more than that, you won't be disappointed.</td>\n",
       "      <td>1</td>\n",
       "      <td>[expect, disappoint]</td>\n",
       "      <td>0</td>\n",
       "    </tr>\n",
       "    <tr>\n",
       "      <th>71</th>\n",
       "      <td>berlin-hotel-191437-review-1.json_2</td>\n",
       "      <td>Room was big, bath was lovely, but watch out for the tile floor after you shower.</td>\n",
       "      <td>1</td>\n",
       "      <td>[room, big, bath, love, watch, tile, floor, shower]</td>\n",
       "      <td>1</td>\n",
       "    </tr>\n",
       "  </tbody>\n",
       "</table>\n",
       "</div>"
      ],
      "text/plain": [
       "                                      id  \\\n",
       "13   berlin-hotel-190599-review-2.json_8   \n",
       "17   berlin-hotel-190599-review-3.json_2   \n",
       "35  berlin-hotel-190599-review-4.json_16   \n",
       "41  berlin-hotel-190599-review-4.json_22   \n",
       "71   berlin-hotel-191437-review-1.json_2   \n",
       "\n",
       "                                                                                                                                                                                                  text  \\\n",
       "13                                                                                                                          If you do end up here, be sure to specify a room at the back of the hotel.   \n",
       "17  and I was woken by the early morning firing up of the local bus service (a courtyard-facing room is essential unless you have industrial strength earplugs.)The rooms are small and ill-conceived.   \n",
       "35                                              As a general tip, if you need to use the internet whilst in Berlin, look up the Easy Internet cafes before you go, there's a huge one in Kurfurstendam   \n",
       "41                                                                                                                                         If you expect no more than that, you won't be disappointed.   \n",
       "71                                                                                                                   Room was big, bath was lovely, but watch out for the tile floor after you shower.   \n",
       "\n",
       "    label  \\\n",
       "13      1   \n",
       "17      1   \n",
       "35      1   \n",
       "41      1   \n",
       "71      1   \n",
       "\n",
       "                                                                                                                                          cleaned  \\\n",
       "13                                                                                                        [end, sure, specifi, room, back, hotel]   \n",
       "17  [woken, earli, morn, fire, local, bu, servic, courtyard, face, room, essenti, unless, industri, strength, earplug, room, small, ill, conceiv]   \n",
       "35                                    [gener, tip, need, use, internet, whilst, berlin, look, easi, internet, cafe, go, huge, one, kurfurstendam]   \n",
       "41                                                                                                                           [expect, disappoint]   \n",
       "71                                                                                            [room, big, bath, love, watch, tile, floor, shower]   \n",
       "\n",
       "    cluster_label  \n",
       "13              1  \n",
       "17              1  \n",
       "35              0  \n",
       "41              0  \n",
       "71              1  "
      ]
     },
     "metadata": {},
     "execution_count": 303
    }
   ],
   "metadata": {}
  },
  {
   "cell_type": "markdown",
   "source": [
    "k-means algorithm clustered suggesions into  4 categories."
   ],
   "metadata": {}
  },
  {
   "cell_type": "markdown",
   "source": [
    "### Answer (f)\r\n",
    "\r\n",
    "1. evalaute performence of best model on dirt dataset\r\n",
    "2. Print apporiate metrics"
   ],
   "metadata": {}
  },
  {
   "cell_type": "markdown",
   "source": [
    "#### f) evaluate performence of best model"
   ],
   "metadata": {}
  },
  {
   "cell_type": "code",
   "execution_count": 304,
   "source": [
    "# read annotated dataset\r\n",
    "dirty_df = pd.read_csv('./Test Data/Test/Test.csv')\r\n",
    "dirty_df.head()"
   ],
   "outputs": [
    {
     "output_type": "execute_result",
     "data": {
      "text/html": [
       "<div>\n",
       "<style scoped>\n",
       "    .dataframe tbody tr th:only-of-type {\n",
       "        vertical-align: middle;\n",
       "    }\n",
       "\n",
       "    .dataframe tbody tr th {\n",
       "        vertical-align: top;\n",
       "    }\n",
       "\n",
       "    .dataframe thead th {\n",
       "        text-align: right;\n",
       "    }\n",
       "</style>\n",
       "<table border=\"1\" class=\"dataframe\">\n",
       "  <thead>\n",
       "    <tr style=\"text-align: right;\">\n",
       "      <th></th>\n",
       "      <th>Unnamed: 0</th>\n",
       "      <th>text</th>\n",
       "      <th>test</th>\n",
       "    </tr>\n",
       "  </thead>\n",
       "  <tbody>\n",
       "    <tr>\n",
       "      <th>0</th>\n",
       "      <td>7</td>\n",
       "      <td>also, the hotel would be advised to forget the waffles, chocolate and water freebies and provide tea and coffee making facilities.</td>\n",
       "      <td>food, facilities</td>\n",
       "    </tr>\n",
       "    <tr>\n",
       "      <th>1</th>\n",
       "      <td>20</td>\n",
       "      <td>and curtains could do with a splash of colour.</td>\n",
       "      <td>facility, room</td>\n",
       "    </tr>\n",
       "    <tr>\n",
       "      <th>2</th>\n",
       "      <td>25</td>\n",
       "      <td>the public areas are those you would expect from a 2-3 star hotel - all again in need of a major updating.</td>\n",
       "      <td>value, facility, quality</td>\n",
       "    </tr>\n",
       "    <tr>\n",
       "      <th>3</th>\n",
       "      <td>33</td>\n",
       "      <td>the comforter, drapes and furniture were in need of replacement.</td>\n",
       "      <td>facility, room, quality</td>\n",
       "    </tr>\n",
       "    <tr>\n",
       "      <th>4</th>\n",
       "      <td>43</td>\n",
       "      <td>the carpets and furniture are in need of renewal.</td>\n",
       "      <td>value, facility, quality</td>\n",
       "    </tr>\n",
       "  </tbody>\n",
       "</table>\n",
       "</div>"
      ],
      "text/plain": [
       "   Unnamed: 0  \\\n",
       "0           7   \n",
       "1          20   \n",
       "2          25   \n",
       "3          33   \n",
       "4          43   \n",
       "\n",
       "                                                                                                                                 text  \\\n",
       "0  also, the hotel would be advised to forget the waffles, chocolate and water freebies and provide tea and coffee making facilities.   \n",
       "1                                                                                      and curtains could do with a splash of colour.   \n",
       "2                          the public areas are those you would expect from a 2-3 star hotel - all again in need of a major updating.   \n",
       "3                                                                    the comforter, drapes and furniture were in need of replacement.   \n",
       "4                                                                                   the carpets and furniture are in need of renewal.   \n",
       "\n",
       "                       test  \n",
       "0          food, facilities  \n",
       "1            facility, room  \n",
       "2  value, facility, quality  \n",
       "3   facility, room, quality  \n",
       "4  value, facility, quality  "
      ]
     },
     "metadata": {},
     "execution_count": 304
    }
   ],
   "metadata": {}
  },
  {
   "cell_type": "markdown",
   "source": [
    "created dataframe for New Test dataset"
   ],
   "metadata": {}
  },
  {
   "cell_type": "code",
   "execution_count": 305,
   "source": [
    "# preprocessing\r\n",
    "def preprocess(df):\r\n",
    "    df['cleaned'] = df['text'].apply(lambda x: removePunctuation(x))\r\n",
    "    df['cleaned'] = df['cleaned'].apply(lambda x: lowercase(x))\r\n",
    "    df['cleaned'] = df['cleaned'].apply(lambda x: removeStopWords(x))\r\n",
    "    df[\"cleaned\"] = df[\"cleaned\"].apply(lambda x: [porter.stem(word) for word in x] )\r\n",
    "    return df\r\n",
    "dirty_df = preprocess(dirty_df)\r\n",
    "dirty_df.head()"
   ],
   "outputs": [
    {
     "output_type": "execute_result",
     "data": {
      "text/html": [
       "<div>\n",
       "<style scoped>\n",
       "    .dataframe tbody tr th:only-of-type {\n",
       "        vertical-align: middle;\n",
       "    }\n",
       "\n",
       "    .dataframe tbody tr th {\n",
       "        vertical-align: top;\n",
       "    }\n",
       "\n",
       "    .dataframe thead th {\n",
       "        text-align: right;\n",
       "    }\n",
       "</style>\n",
       "<table border=\"1\" class=\"dataframe\">\n",
       "  <thead>\n",
       "    <tr style=\"text-align: right;\">\n",
       "      <th></th>\n",
       "      <th>Unnamed: 0</th>\n",
       "      <th>text</th>\n",
       "      <th>test</th>\n",
       "      <th>cleaned</th>\n",
       "    </tr>\n",
       "  </thead>\n",
       "  <tbody>\n",
       "    <tr>\n",
       "      <th>0</th>\n",
       "      <td>7</td>\n",
       "      <td>also, the hotel would be advised to forget the waffles, chocolate and water freebies and provide tea and coffee making facilities.</td>\n",
       "      <td>food, facilities</td>\n",
       "      <td>[also, hotel, would, advis, forget, waffl, chocol, water, freebi, provid, tea, coffe, make, facil]</td>\n",
       "    </tr>\n",
       "    <tr>\n",
       "      <th>1</th>\n",
       "      <td>20</td>\n",
       "      <td>and curtains could do with a splash of colour.</td>\n",
       "      <td>facility, room</td>\n",
       "      <td>[curtain, could, splash, colour]</td>\n",
       "    </tr>\n",
       "    <tr>\n",
       "      <th>2</th>\n",
       "      <td>25</td>\n",
       "      <td>the public areas are those you would expect from a 2-3 star hotel - all again in need of a major updating.</td>\n",
       "      <td>value, facility, quality</td>\n",
       "      <td>[public, area, would, expect, 2, 3, star, hotel, need, major, updat]</td>\n",
       "    </tr>\n",
       "    <tr>\n",
       "      <th>3</th>\n",
       "      <td>33</td>\n",
       "      <td>the comforter, drapes and furniture were in need of replacement.</td>\n",
       "      <td>facility, room, quality</td>\n",
       "      <td>[comfort, drape, furnitur, need, replac]</td>\n",
       "    </tr>\n",
       "    <tr>\n",
       "      <th>4</th>\n",
       "      <td>43</td>\n",
       "      <td>the carpets and furniture are in need of renewal.</td>\n",
       "      <td>value, facility, quality</td>\n",
       "      <td>[carpet, furnitur, need, renew]</td>\n",
       "    </tr>\n",
       "  </tbody>\n",
       "</table>\n",
       "</div>"
      ],
      "text/plain": [
       "   Unnamed: 0  \\\n",
       "0           7   \n",
       "1          20   \n",
       "2          25   \n",
       "3          33   \n",
       "4          43   \n",
       "\n",
       "                                                                                                                                 text  \\\n",
       "0  also, the hotel would be advised to forget the waffles, chocolate and water freebies and provide tea and coffee making facilities.   \n",
       "1                                                                                      and curtains could do with a splash of colour.   \n",
       "2                          the public areas are those you would expect from a 2-3 star hotel - all again in need of a major updating.   \n",
       "3                                                                    the comforter, drapes and furniture were in need of replacement.   \n",
       "4                                                                                   the carpets and furniture are in need of renewal.   \n",
       "\n",
       "                       test  \\\n",
       "0          food, facilities   \n",
       "1            facility, room   \n",
       "2  value, facility, quality   \n",
       "3   facility, room, quality   \n",
       "4  value, facility, quality   \n",
       "\n",
       "                                                                                              cleaned  \n",
       "0  [also, hotel, would, advis, forget, waffl, chocol, water, freebi, provid, tea, coffe, make, facil]  \n",
       "1                                                                    [curtain, could, splash, colour]  \n",
       "2                                [public, area, would, expect, 2, 3, star, hotel, need, major, updat]  \n",
       "3                                                            [comfort, drape, furnitur, need, replac]  \n",
       "4                                                                     [carpet, furnitur, need, renew]  "
      ]
     },
     "metadata": {},
     "execution_count": 305
    }
   ],
   "metadata": {}
  },
  {
   "cell_type": "markdown",
   "source": [
    "Conducted same preprocessing stepes conducted in part a)"
   ],
   "metadata": {}
  },
  {
   "cell_type": "code",
   "execution_count": 306,
   "source": [
    "# kmeans for dirty antated dataset\r\n",
    "dirty_bow_feature = bow_vect.transform([\" \".join(i) for i in dirty_df['cleaned']])\r\n",
    "#bow_e,ow_v2 = bow_new(dirty_df['cleaned'])\r\n",
    "dirty_df['cluster_label'] = kmean.predict(dirty_bow_feature)\r\n",
    "dirty_df.head()"
   ],
   "outputs": [
    {
     "output_type": "execute_result",
     "data": {
      "text/html": [
       "<div>\n",
       "<style scoped>\n",
       "    .dataframe tbody tr th:only-of-type {\n",
       "        vertical-align: middle;\n",
       "    }\n",
       "\n",
       "    .dataframe tbody tr th {\n",
       "        vertical-align: top;\n",
       "    }\n",
       "\n",
       "    .dataframe thead th {\n",
       "        text-align: right;\n",
       "    }\n",
       "</style>\n",
       "<table border=\"1\" class=\"dataframe\">\n",
       "  <thead>\n",
       "    <tr style=\"text-align: right;\">\n",
       "      <th></th>\n",
       "      <th>Unnamed: 0</th>\n",
       "      <th>text</th>\n",
       "      <th>test</th>\n",
       "      <th>cleaned</th>\n",
       "      <th>cluster_label</th>\n",
       "    </tr>\n",
       "  </thead>\n",
       "  <tbody>\n",
       "    <tr>\n",
       "      <th>0</th>\n",
       "      <td>7</td>\n",
       "      <td>also, the hotel would be advised to forget the waffles, chocolate and water freebies and provide tea and coffee making facilities.</td>\n",
       "      <td>food, facilities</td>\n",
       "      <td>[also, hotel, would, advis, forget, waffl, chocol, water, freebi, provid, tea, coffe, make, facil]</td>\n",
       "      <td>3</td>\n",
       "    </tr>\n",
       "    <tr>\n",
       "      <th>1</th>\n",
       "      <td>20</td>\n",
       "      <td>and curtains could do with a splash of colour.</td>\n",
       "      <td>facility, room</td>\n",
       "      <td>[curtain, could, splash, colour]</td>\n",
       "      <td>0</td>\n",
       "    </tr>\n",
       "    <tr>\n",
       "      <th>2</th>\n",
       "      <td>25</td>\n",
       "      <td>the public areas are those you would expect from a 2-3 star hotel - all again in need of a major updating.</td>\n",
       "      <td>value, facility, quality</td>\n",
       "      <td>[public, area, would, expect, 2, 3, star, hotel, need, major, updat]</td>\n",
       "      <td>3</td>\n",
       "    </tr>\n",
       "    <tr>\n",
       "      <th>3</th>\n",
       "      <td>33</td>\n",
       "      <td>the comforter, drapes and furniture were in need of replacement.</td>\n",
       "      <td>facility, room, quality</td>\n",
       "      <td>[comfort, drape, furnitur, need, replac]</td>\n",
       "      <td>0</td>\n",
       "    </tr>\n",
       "    <tr>\n",
       "      <th>4</th>\n",
       "      <td>43</td>\n",
       "      <td>the carpets and furniture are in need of renewal.</td>\n",
       "      <td>value, facility, quality</td>\n",
       "      <td>[carpet, furnitur, need, renew]</td>\n",
       "      <td>0</td>\n",
       "    </tr>\n",
       "  </tbody>\n",
       "</table>\n",
       "</div>"
      ],
      "text/plain": [
       "   Unnamed: 0  \\\n",
       "0           7   \n",
       "1          20   \n",
       "2          25   \n",
       "3          33   \n",
       "4          43   \n",
       "\n",
       "                                                                                                                                 text  \\\n",
       "0  also, the hotel would be advised to forget the waffles, chocolate and water freebies and provide tea and coffee making facilities.   \n",
       "1                                                                                      and curtains could do with a splash of colour.   \n",
       "2                          the public areas are those you would expect from a 2-3 star hotel - all again in need of a major updating.   \n",
       "3                                                                    the comforter, drapes and furniture were in need of replacement.   \n",
       "4                                                                                   the carpets and furniture are in need of renewal.   \n",
       "\n",
       "                       test  \\\n",
       "0          food, facilities   \n",
       "1            facility, room   \n",
       "2  value, facility, quality   \n",
       "3   facility, room, quality   \n",
       "4  value, facility, quality   \n",
       "\n",
       "                                                                                              cleaned  \\\n",
       "0  [also, hotel, would, advis, forget, waffl, chocol, water, freebi, provid, tea, coffe, make, facil]   \n",
       "1                                                                    [curtain, could, splash, colour]   \n",
       "2                                [public, area, would, expect, 2, 3, star, hotel, need, major, updat]   \n",
       "3                                                            [comfort, drape, furnitur, need, replac]   \n",
       "4                                                                     [carpet, furnitur, need, renew]   \n",
       "\n",
       "   cluster_label  \n",
       "0              3  \n",
       "1              0  \n",
       "2              3  \n",
       "3              0  \n",
       "4              0  "
      ]
     },
     "metadata": {},
     "execution_count": 306
    }
   ],
   "metadata": {}
  },
  {
   "cell_type": "markdown",
   "source": [
    "Transformed to vector representaion and apply kmeans to predict labels"
   ],
   "metadata": {}
  },
  {
   "cell_type": "code",
   "execution_count": 307,
   "source": [
    "# label encoder\r\n",
    "from sklearn.preprocessing import LabelEncoder\r\n",
    "\r\n",
    "# convert text labels to numeric representation\r\n",
    "label_encoder = LabelEncoder()\r\n",
    "dirty_df['label'] = label_encoder.fit_transform(dirty_df['test'])\r\n",
    "dirty_df.head()"
   ],
   "outputs": [
    {
     "output_type": "execute_result",
     "data": {
      "text/html": [
       "<div>\n",
       "<style scoped>\n",
       "    .dataframe tbody tr th:only-of-type {\n",
       "        vertical-align: middle;\n",
       "    }\n",
       "\n",
       "    .dataframe tbody tr th {\n",
       "        vertical-align: top;\n",
       "    }\n",
       "\n",
       "    .dataframe thead th {\n",
       "        text-align: right;\n",
       "    }\n",
       "</style>\n",
       "<table border=\"1\" class=\"dataframe\">\n",
       "  <thead>\n",
       "    <tr style=\"text-align: right;\">\n",
       "      <th></th>\n",
       "      <th>Unnamed: 0</th>\n",
       "      <th>text</th>\n",
       "      <th>test</th>\n",
       "      <th>cleaned</th>\n",
       "      <th>cluster_label</th>\n",
       "      <th>label</th>\n",
       "    </tr>\n",
       "  </thead>\n",
       "  <tbody>\n",
       "    <tr>\n",
       "      <th>0</th>\n",
       "      <td>7</td>\n",
       "      <td>also, the hotel would be advised to forget the waffles, chocolate and water freebies and provide tea and coffee making facilities.</td>\n",
       "      <td>food, facilities</td>\n",
       "      <td>[also, hotel, would, advis, forget, waffl, chocol, water, freebi, provid, tea, coffe, make, facil]</td>\n",
       "      <td>3</td>\n",
       "      <td>5</td>\n",
       "    </tr>\n",
       "    <tr>\n",
       "      <th>1</th>\n",
       "      <td>20</td>\n",
       "      <td>and curtains could do with a splash of colour.</td>\n",
       "      <td>facility, room</td>\n",
       "      <td>[curtain, could, splash, colour]</td>\n",
       "      <td>0</td>\n",
       "      <td>2</td>\n",
       "    </tr>\n",
       "    <tr>\n",
       "      <th>2</th>\n",
       "      <td>25</td>\n",
       "      <td>the public areas are those you would expect from a 2-3 star hotel - all again in need of a major updating.</td>\n",
       "      <td>value, facility, quality</td>\n",
       "      <td>[public, area, would, expect, 2, 3, star, hotel, need, major, updat]</td>\n",
       "      <td>3</td>\n",
       "      <td>26</td>\n",
       "    </tr>\n",
       "    <tr>\n",
       "      <th>3</th>\n",
       "      <td>33</td>\n",
       "      <td>the comforter, drapes and furniture were in need of replacement.</td>\n",
       "      <td>facility, room, quality</td>\n",
       "      <td>[comfort, drape, furnitur, need, replac]</td>\n",
       "      <td>0</td>\n",
       "      <td>3</td>\n",
       "    </tr>\n",
       "    <tr>\n",
       "      <th>4</th>\n",
       "      <td>43</td>\n",
       "      <td>the carpets and furniture are in need of renewal.</td>\n",
       "      <td>value, facility, quality</td>\n",
       "      <td>[carpet, furnitur, need, renew]</td>\n",
       "      <td>0</td>\n",
       "      <td>26</td>\n",
       "    </tr>\n",
       "  </tbody>\n",
       "</table>\n",
       "</div>"
      ],
      "text/plain": [
       "   Unnamed: 0  \\\n",
       "0           7   \n",
       "1          20   \n",
       "2          25   \n",
       "3          33   \n",
       "4          43   \n",
       "\n",
       "                                                                                                                                 text  \\\n",
       "0  also, the hotel would be advised to forget the waffles, chocolate and water freebies and provide tea and coffee making facilities.   \n",
       "1                                                                                      and curtains could do with a splash of colour.   \n",
       "2                          the public areas are those you would expect from a 2-3 star hotel - all again in need of a major updating.   \n",
       "3                                                                    the comforter, drapes and furniture were in need of replacement.   \n",
       "4                                                                                   the carpets and furniture are in need of renewal.   \n",
       "\n",
       "                       test  \\\n",
       "0          food, facilities   \n",
       "1            facility, room   \n",
       "2  value, facility, quality   \n",
       "3   facility, room, quality   \n",
       "4  value, facility, quality   \n",
       "\n",
       "                                                                                              cleaned  \\\n",
       "0  [also, hotel, would, advis, forget, waffl, chocol, water, freebi, provid, tea, coffe, make, facil]   \n",
       "1                                                                    [curtain, could, splash, colour]   \n",
       "2                                [public, area, would, expect, 2, 3, star, hotel, need, major, updat]   \n",
       "3                                                            [comfort, drape, furnitur, need, replac]   \n",
       "4                                                                     [carpet, furnitur, need, renew]   \n",
       "\n",
       "   cluster_label  label  \n",
       "0              3      5  \n",
       "1              0      2  \n",
       "2              3     26  \n",
       "3              0      3  \n",
       "4              0     26  "
      ]
     },
     "metadata": {},
     "execution_count": 307
    }
   ],
   "metadata": {}
  },
  {
   "cell_type": "markdown",
   "source": [
    "Converted text labels to numerical format"
   ],
   "metadata": {}
  },
  {
   "cell_type": "markdown",
   "source": [
    "#### f) print apporipate metrcs"
   ],
   "metadata": {}
  },
  {
   "cell_type": "code",
   "execution_count": 308,
   "source": [
    "from sklearn.metrics.cluster import adjusted_rand_score\r\n",
    "from sklearn.metrics import jaccard_score\r\n",
    "\r\n",
    "print(\"Rand index = \",adjusted_rand_score(dirty_df['label'],dirty_df['cluster_label']))\r\n",
    "print(\"Jaccard index  = \",jaccard_score(dirty_df['label'], dirty_df['cluster_label'],average='macro'))\r\n"
   ],
   "outputs": [
    {
     "output_type": "stream",
     "name": "stdout",
     "text": [
      "Rand index =  0.11797851424626211\n",
      "Jaccard index  =  0.004666666666666667\n"
     ]
    }
   ],
   "metadata": {}
  },
  {
   "cell_type": "markdown",
   "source": [
    "Rand index is 0.12 little higher than randomly assingning clusters\r\n",
    "Jaccard index  or accard similarity coefficient is 0.004. There is 0.4% overlapping instances."
   ],
   "metadata": {}
  },
  {
   "cell_type": "markdown",
   "source": [
    "### Answer (g)\r\n",
    "\r\n",
    "Possible improvements can be conducting data augementation for dataset. Both undersampling and oversampling can be considered here due to large difference of suggesion and non suggesion classes. Another possible improvemnt is conducting GridSearch to find most suitable n-gram range in text representaion and classifeir parameters.\r\n",
    "\r\n",
    "Higher performence given by unigram bow with reduced frequency and support vector classifer combination for non suggesion and suggesion classification. Other two suggested improvement didn't gave any improvemnt eventhough it's expected to give performence improvement. Character representaion might not worked due to fact english is not higly morphological language liek Sinhala. \r\n",
    "\r\n",
    "Using a clustering for Text classification specificaly multilabel classification is very diffiult to get good performence. I think that's why we have low value for Rand index and Jaccard index."
   ],
   "metadata": {}
  }
 ],
 "metadata": {
  "kernelspec": {
   "name": "python3",
   "display_name": "Python 3.7.6 64-bit ('base': conda)"
  },
  "language_info": {
   "codemirror_mode": {
    "name": "ipython",
    "version": 3
   },
   "file_extension": ".py",
   "mimetype": "text/x-python",
   "name": "python",
   "nbconvert_exporter": "python",
   "pygments_lexer": "ipython3",
   "version": "3.7.6"
  },
  "interpreter": {
   "hash": "fbbb7d2143a1d68e1cf272edf0974e702b621cb99b4ee39ce84db3bf0ffb588e"
  }
 },
 "nbformat": 4,
 "nbformat_minor": 2
}